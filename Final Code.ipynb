{
 "cells": [
  {
   "cell_type": "markdown",
   "metadata": {},
   "source": [
    "# Who's the Better Carry: ADC or Midlaner?\n",
    "\n",
    "**Name(s)**: Katelyn Villamin and Nancy Shen\n",
    "\n",
    "**Website Link**: https://skvillamin.github.io/league-predictions/"
   ]
  },
  {
   "cell_type": "code",
   "execution_count": 210,
   "metadata": {},
   "outputs": [],
   "source": [
    "import pandas as pd\n",
    "import numpy as np\n",
    "from pathlib import Path\n",
    "\n",
    "import plotly.express as px\n",
    "pd.options.plotting.backend = 'plotly'\n",
    "\n",
    "from dsc80_utils import *"
   ]
  },
  {
   "cell_type": "markdown",
   "metadata": {},
   "source": [
    "## Step 1: Introduction"
   ]
  },
  {
   "cell_type": "markdown",
   "metadata": {},
   "source": [
    "### **TO ASK:**\n",
    "\n",
    "1. Missingness: After doing permutation test, how to tell if it's MAR or MCAR?\n",
    "2. How to find the distribution of the games won where ADC had more total damage than mid and vice versa (how to see the data game by game, our idea is to use team position)\n",
    "    - Length of adc and mid doesn't match (WHY!!!)"
   ]
  },
  {
   "cell_type": "markdown",
   "metadata": {},
   "source": [
    "Which role carries the most in winning teams: ADCs or Midlanders?\n",
    "\n",
    "Things to consider: \n",
    "- deaths per minute\n",
    "- kills per minute\n",
    "- KDA\n",
    "- cs per minute (gold)\n",
    "- Winning teams only \n",
    "- double/triple/quadra/penta kills "
   ]
  },
  {
   "cell_type": "markdown",
   "metadata": {},
   "source": [
    "## Step 2: Data Cleaning and Exploratory Data Analysis"
   ]
  },
  {
   "cell_type": "code",
   "execution_count": 211,
   "metadata": {},
   "outputs": [
    {
     "data": {
      "text/html": [
       "<div>\n",
       "<style scoped>\n",
       "    .dataframe tbody tr th:only-of-type {\n",
       "        vertical-align: middle;\n",
       "    }\n",
       "\n",
       "    .dataframe tbody tr th {\n",
       "        vertical-align: top;\n",
       "    }\n",
       "\n",
       "    .dataframe thead th {\n",
       "        text-align: right;\n",
       "    }\n",
       "</style>\n",
       "<table border=\"1\" class=\"dataframe\">\n",
       "  <thead>\n",
       "    <tr style=\"text-align: right;\">\n",
       "      <th></th>\n",
       "      <th>league</th>\n",
       "      <th>position</th>\n",
       "      <th>champion</th>\n",
       "      <th>kills</th>\n",
       "      <th>...</th>\n",
       "      <th>wards placed</th>\n",
       "      <th>exp at 10</th>\n",
       "      <th>towers</th>\n",
       "      <th>result</th>\n",
       "    </tr>\n",
       "  </thead>\n",
       "  <tbody>\n",
       "    <tr>\n",
       "      <th>0</th>\n",
       "      <td>LCKC</td>\n",
       "      <td>top</td>\n",
       "      <td>Renekton</td>\n",
       "      <td>2</td>\n",
       "      <td>...</td>\n",
       "      <td>8.0</td>\n",
       "      <td>4909.0</td>\n",
       "      <td>NaN</td>\n",
       "      <td>False</td>\n",
       "    </tr>\n",
       "    <tr>\n",
       "      <th>1</th>\n",
       "      <td>LCKC</td>\n",
       "      <td>jng</td>\n",
       "      <td>Xin Zhao</td>\n",
       "      <td>2</td>\n",
       "      <td>...</td>\n",
       "      <td>6.0</td>\n",
       "      <td>3484.0</td>\n",
       "      <td>NaN</td>\n",
       "      <td>False</td>\n",
       "    </tr>\n",
       "    <tr>\n",
       "      <th>2</th>\n",
       "      <td>LCKC</td>\n",
       "      <td>mid</td>\n",
       "      <td>LeBlanc</td>\n",
       "      <td>2</td>\n",
       "      <td>...</td>\n",
       "      <td>19.0</td>\n",
       "      <td>4556.0</td>\n",
       "      <td>NaN</td>\n",
       "      <td>False</td>\n",
       "    </tr>\n",
       "    <tr>\n",
       "      <th>...</th>\n",
       "      <td>...</td>\n",
       "      <td>...</td>\n",
       "      <td>...</td>\n",
       "      <td>...</td>\n",
       "      <td>...</td>\n",
       "      <td>...</td>\n",
       "      <td>...</td>\n",
       "      <td>...</td>\n",
       "      <td>...</td>\n",
       "    </tr>\n",
       "    <tr>\n",
       "      <th>148989</th>\n",
       "      <td>DCup</td>\n",
       "      <td>sup</td>\n",
       "      <td>Ashe</td>\n",
       "      <td>2</td>\n",
       "      <td>...</td>\n",
       "      <td>62.0</td>\n",
       "      <td>NaN</td>\n",
       "      <td>NaN</td>\n",
       "      <td>True</td>\n",
       "    </tr>\n",
       "    <tr>\n",
       "      <th>148990</th>\n",
       "      <td>DCup</td>\n",
       "      <td>team</td>\n",
       "      <td>NaN</td>\n",
       "      <td>8</td>\n",
       "      <td>...</td>\n",
       "      <td>108.0</td>\n",
       "      <td>NaN</td>\n",
       "      <td>0.0</td>\n",
       "      <td>False</td>\n",
       "    </tr>\n",
       "    <tr>\n",
       "      <th>148991</th>\n",
       "      <td>DCup</td>\n",
       "      <td>team</td>\n",
       "      <td>NaN</td>\n",
       "      <td>21</td>\n",
       "      <td>...</td>\n",
       "      <td>122.0</td>\n",
       "      <td>NaN</td>\n",
       "      <td>10.0</td>\n",
       "      <td>True</td>\n",
       "    </tr>\n",
       "  </tbody>\n",
       "</table>\n",
       "<p>144804 rows × 14 columns</p>\n",
       "</div>"
      ],
      "text/plain": [
       "       league position  champion  kills  ...  wards placed  exp at 10  towers  \\\n",
       "0        LCKC      top  Renekton      2  ...           8.0     4909.0     NaN   \n",
       "1        LCKC      jng  Xin Zhao      2  ...           6.0     3484.0     NaN   \n",
       "2        LCKC      mid   LeBlanc      2  ...          19.0     4556.0     NaN   \n",
       "...       ...      ...       ...    ...  ...           ...        ...     ...   \n",
       "148989   DCup      sup      Ashe      2  ...          62.0        NaN     NaN   \n",
       "148990   DCup     team       NaN      8  ...         108.0        NaN     0.0   \n",
       "148991   DCup     team       NaN     21  ...         122.0        NaN    10.0   \n",
       "\n",
       "        result  \n",
       "0        False  \n",
       "1        False  \n",
       "2        False  \n",
       "...        ...  \n",
       "148989    True  \n",
       "148990   False  \n",
       "148991    True  \n",
       "\n",
       "[144804 rows x 14 columns]"
      ]
     },
     "execution_count": 211,
     "metadata": {},
     "output_type": "execute_result"
    }
   ],
   "source": [
    "#import dataset from data folder\n",
    "league_fp = Path('data') / '2022_LoL_esports_match_data_from_OraclesElixir.csv'\n",
    "league = pd.read_csv(league_fp, low_memory=False)\n",
    "\n",
    "#isolate the columns needed\n",
    "columns_needed = ['year', 'league', 'position', 'champion', 'kills', 'doublekills', 'damagetochampions', 'damagetakenperminute', 'damagemitigatedperminute','firstbloodkill', 'monsterkills', 'wardsplaced', 'xpat10', 'towers', 'result']\n",
    "league = league[columns_needed]\n",
    "\n",
    "#since we're looking at the 2022 dataset make sure all the games are completed in 2022\n",
    "league = league[league['year'] == 2022]\n",
    "league= league.drop(columns= 'year')\n",
    "\n",
    "#change all the position column values that are 'bot' to 'adc' for clarity\n",
    "league['position'] = league['position'].str.replace('bot', 'adc')\n",
    "\n",
    "#change column names to more appropriate ones\n",
    "league.rename(columns={\n",
    "    \"damagetochampions\": \"total damage dealt\", \n",
    "    \"firstbloodkill\": \"first blood kill\",\n",
    "    'wardsplaced': 'wards placed', \n",
    "    'monsterkills': 'monster kills', \n",
    "    'damagetakenperminute': 'dtpm',\n",
    "    'damagemitigatedperminute': 'dmpm',\n",
    "    'xpat10' : 'exp at 10'\n",
    "    }, inplace=True)\n",
    "\n",
    "#change 'first blood kill' and 'result' to booleans\n",
    "league[\"first blood kill\"] = league[\"first blood kill\"].astype(bool)\n",
    "league[\"result\"] = league[\"result\"].astype(bool)\n",
    "league"
   ]
  },
  {
   "cell_type": "code",
   "execution_count": 212,
   "metadata": {},
   "outputs": [
    {
     "name": "stdout",
     "output_type": "stream",
     "text": [
      "| league   | position   | champion   |   kills |   doublekills |   total damage dealt |     dtpm |    dmpm | first blood kill   |   monster kills |   wards placed |   exp at 10 |   towers | result   |\n",
      "|:---------|:-----------|:-----------|--------:|--------------:|---------------------:|---------:|--------:|:-------------------|----------------:|---------------:|------------:|---------:|:---------|\n",
      "| LCKC     | top        | Renekton   |       2 |             0 |                15768 | 1072.4   | 777.793 | False              |              11 |              8 |        4909 |      nan | False    |\n",
      "| LCKC     | jng        | Xin Zhao   |       2 |             0 |                11765 |  944.273 | 650.158 | False              |             115 |              6 |        3484 |      nan | False    |\n",
      "| LCKC     | mid        | LeBlanc    |       2 |             0 |                14258 |  581.646 | 227.776 | False              |              16 |             19 |        4556 |      nan | False    |\n",
      "| LCKC     | adc        | Samira     |       2 |             0 |                11106 |  463.853 | 218.879 | False              |              18 |             12 |        3103 |      nan | False    |\n",
      "| LCKC     | sup        | Leona      |       1 |             0 |                 3663 |  475.026 | 490.123 | True               |               0 |             29 |        2161 |      nan | False    |\n"
     ]
    }
   ],
   "source": [
    "print(league.head().to_markdown(index=False))"
   ]
  },
  {
   "cell_type": "markdown",
   "metadata": {},
   "source": [
    "| Column | Description|\n",
    "| --- | --- |\n",
    "| `'year'` | the year the games took place in|\n",
    "| `'league'` | The league in which the players and teams play in |\n",
    "| `'team name'` | The team each player plays for |\n",
    "| `'position'` | The role of the player in the game |\n",
    "| `'kills'` | Total number of kills a player has in a game |\n",
    "| `'deaths'` | Total number of times a player dies in a game |\n",
    "| `'assists'` | Total number of assits a player has in a game |\n",
    "| `'doublekills'` | Total number of times a player kills an two opponents consecutively |\n",
    "| `'total damage dealt'` | Total damage dealt to enemy champions by player|\n",
    "| `'dpm'` | Average damage dealt to enemy champions per minute by player|\n",
    "| `'total gold earned'` | Total gold earned by player in a game (excludes starting gold and inherent gold generation) |\n",
    "| `'gpm'` | Average gold earned per minute by player (excludes starting gold and inherent gold generation) |\n",
    "| `'first blood kill'` | Whether the player got the first kill |\n",
    "| `'result'` | Whether or not the team won that game |"
   ]
  },
  {
   "cell_type": "code",
   "execution_count": 213,
   "metadata": {},
   "outputs": [
    {
     "data": {
      "text/html": [
       "<div>\n",
       "<style scoped>\n",
       "    .dataframe tbody tr th:only-of-type {\n",
       "        vertical-align: middle;\n",
       "    }\n",
       "\n",
       "    .dataframe tbody tr th {\n",
       "        vertical-align: top;\n",
       "    }\n",
       "\n",
       "    .dataframe thead th {\n",
       "        text-align: right;\n",
       "    }\n",
       "</style>\n",
       "<table border=\"1\" class=\"dataframe\">\n",
       "  <thead>\n",
       "    <tr style=\"text-align: right;\">\n",
       "      <th></th>\n",
       "      <th>league</th>\n",
       "      <th>position</th>\n",
       "      <th>kills</th>\n",
       "      <th>doublekills</th>\n",
       "      <th>...</th>\n",
       "      <th>dmpm</th>\n",
       "      <th>first blood kill</th>\n",
       "      <th>towers</th>\n",
       "      <th>result</th>\n",
       "    </tr>\n",
       "  </thead>\n",
       "  <tbody>\n",
       "    <tr>\n",
       "      <th>2</th>\n",
       "      <td>LCKC</td>\n",
       "      <td>mid</td>\n",
       "      <td>2</td>\n",
       "      <td>0.0</td>\n",
       "      <td>...</td>\n",
       "      <td>227.78</td>\n",
       "      <td>False</td>\n",
       "      <td>NaN</td>\n",
       "      <td>False</td>\n",
       "    </tr>\n",
       "    <tr>\n",
       "      <th>3</th>\n",
       "      <td>LCKC</td>\n",
       "      <td>adc</td>\n",
       "      <td>2</td>\n",
       "      <td>0.0</td>\n",
       "      <td>...</td>\n",
       "      <td>218.88</td>\n",
       "      <td>False</td>\n",
       "      <td>NaN</td>\n",
       "      <td>False</td>\n",
       "    </tr>\n",
       "    <tr>\n",
       "      <th>7</th>\n",
       "      <td>LCKC</td>\n",
       "      <td>mid</td>\n",
       "      <td>6</td>\n",
       "      <td>2.0</td>\n",
       "      <td>...</td>\n",
       "      <td>426.94</td>\n",
       "      <td>False</td>\n",
       "      <td>NaN</td>\n",
       "      <td>True</td>\n",
       "    </tr>\n",
       "    <tr>\n",
       "      <th>...</th>\n",
       "      <td>...</td>\n",
       "      <td>...</td>\n",
       "      <td>...</td>\n",
       "      <td>...</td>\n",
       "      <td>...</td>\n",
       "      <td>...</td>\n",
       "      <td>...</td>\n",
       "      <td>...</td>\n",
       "      <td>...</td>\n",
       "    </tr>\n",
       "    <tr>\n",
       "      <th>148983</th>\n",
       "      <td>DCup</td>\n",
       "      <td>adc</td>\n",
       "      <td>2</td>\n",
       "      <td>NaN</td>\n",
       "      <td>...</td>\n",
       "      <td>NaN</td>\n",
       "      <td>False</td>\n",
       "      <td>NaN</td>\n",
       "      <td>False</td>\n",
       "    </tr>\n",
       "    <tr>\n",
       "      <th>148987</th>\n",
       "      <td>DCup</td>\n",
       "      <td>mid</td>\n",
       "      <td>6</td>\n",
       "      <td>NaN</td>\n",
       "      <td>...</td>\n",
       "      <td>NaN</td>\n",
       "      <td>False</td>\n",
       "      <td>NaN</td>\n",
       "      <td>True</td>\n",
       "    </tr>\n",
       "    <tr>\n",
       "      <th>148988</th>\n",
       "      <td>DCup</td>\n",
       "      <td>adc</td>\n",
       "      <td>7</td>\n",
       "      <td>NaN</td>\n",
       "      <td>...</td>\n",
       "      <td>NaN</td>\n",
       "      <td>False</td>\n",
       "      <td>NaN</td>\n",
       "      <td>True</td>\n",
       "    </tr>\n",
       "  </tbody>\n",
       "</table>\n",
       "<p>48268 rows × 10 columns</p>\n",
       "</div>"
      ],
      "text/plain": [
       "       league position  kills  doublekills  ...    dmpm  first blood kill  \\\n",
       "2        LCKC      mid      2          0.0  ...  227.78             False   \n",
       "3        LCKC      adc      2          0.0  ...  218.88             False   \n",
       "7        LCKC      mid      6          2.0  ...  426.94             False   \n",
       "...       ...      ...    ...          ...  ...     ...               ...   \n",
       "148983   DCup      adc      2          NaN  ...     NaN             False   \n",
       "148987   DCup      mid      6          NaN  ...     NaN             False   \n",
       "148988   DCup      adc      7          NaN  ...     NaN             False   \n",
       "\n",
       "        towers  result  \n",
       "2          NaN   False  \n",
       "3          NaN   False  \n",
       "7          NaN    True  \n",
       "...        ...     ...  \n",
       "148983     NaN   False  \n",
       "148987     NaN    True  \n",
       "148988     NaN    True  \n",
       "\n",
       "[48268 rows x 10 columns]"
      ]
     },
     "execution_count": 213,
     "metadata": {},
     "output_type": "execute_result"
    }
   ],
   "source": [
    "#create a df with just mid and adc positions\n",
    "mid_adc = league[(league['position'].str.lower() == 'adc') | (league['position'].str.lower() == 'mid')]\n",
    "mid_adc= mid_adc[['league', 'position', 'kills', 'doublekills', 'total damage dealt', 'dtpm', 'dmpm', 'first blood kill', 'towers', 'result']]\n",
    "mid_adc"
   ]
  },
  {
   "cell_type": "code",
   "execution_count": 214,
   "metadata": {},
   "outputs": [
    {
     "name": "stdout",
     "output_type": "stream",
     "text": [
      "| league   | position   |   kills |   doublekills |   total damage dealt |    dtpm |    dmpm | first blood kill   |   towers | result   |\n",
      "|:---------|:-----------|--------:|--------------:|---------------------:|--------:|--------:|:-------------------|---------:|:---------|\n",
      "| LCKC     | mid        |       2 |             0 |                14258 | 581.646 | 227.776 | False              |      nan | False    |\n",
      "| LCKC     | adc        |       2 |             0 |                11106 | 463.853 | 218.879 | False              |      nan | False    |\n",
      "| LCKC     | mid        |       6 |             2 |                20690 | 531.629 | 426.935 | False              |      nan | True     |\n",
      "| LCKC     | adc        |       8 |             3 |                26687 | 385.009 | 186.655 | False              |      nan | True     |\n",
      "| LCKC     | mid        |       2 |             0 |                23082 | 395.449 | 366.698 | False              |      nan | False    |\n"
     ]
    }
   ],
   "source": [
    "print(mid_adc.head().to_markdown(index=False))"
   ]
  },
  {
   "cell_type": "markdown",
   "metadata": {},
   "source": [
    "**Univariate Analysis**\n",
    "- distribution of kills \n",
    "- distribution of total damage dealt \n",
    "- each graph will have two bell curves one for mid one for bot"
   ]
  },
  {
   "cell_type": "code",
   "execution_count": 215,
   "metadata": {},
   "outputs": [
    {
     "data": {
      "text/html": [
       "<div>\n",
       "<style scoped>\n",
       "    .dataframe tbody tr th:only-of-type {\n",
       "        vertical-align: middle;\n",
       "    }\n",
       "\n",
       "    .dataframe tbody tr th {\n",
       "        vertical-align: top;\n",
       "    }\n",
       "\n",
       "    .dataframe thead th {\n",
       "        text-align: right;\n",
       "    }\n",
       "</style>\n",
       "<table border=\"1\" class=\"dataframe\">\n",
       "  <thead>\n",
       "    <tr style=\"text-align: right;\">\n",
       "      <th></th>\n",
       "      <th>num kills</th>\n",
       "      <th>adc</th>\n",
       "      <th>mid</th>\n",
       "    </tr>\n",
       "  </thead>\n",
       "  <tbody>\n",
       "    <tr>\n",
       "      <th>5</th>\n",
       "      <td>0</td>\n",
       "      <td>2272</td>\n",
       "      <td>2617.0</td>\n",
       "    </tr>\n",
       "    <tr>\n",
       "      <th>0</th>\n",
       "      <td>1</td>\n",
       "      <td>3151</td>\n",
       "      <td>3831.0</td>\n",
       "    </tr>\n",
       "    <tr>\n",
       "      <th>1</th>\n",
       "      <td>2</td>\n",
       "      <td>3141</td>\n",
       "      <td>3949.0</td>\n",
       "    </tr>\n",
       "    <tr>\n",
       "      <th>...</th>\n",
       "      <td>...</td>\n",
       "      <td>...</td>\n",
       "      <td>...</td>\n",
       "    </tr>\n",
       "    <tr>\n",
       "      <th>21</th>\n",
       "      <td>22</td>\n",
       "      <td>3</td>\n",
       "      <td>0.0</td>\n",
       "    </tr>\n",
       "    <tr>\n",
       "      <th>24</th>\n",
       "      <td>24</td>\n",
       "      <td>1</td>\n",
       "      <td>0.0</td>\n",
       "    </tr>\n",
       "    <tr>\n",
       "      <th>23</th>\n",
       "      <td>28</td>\n",
       "      <td>1</td>\n",
       "      <td>0.0</td>\n",
       "    </tr>\n",
       "  </tbody>\n",
       "</table>\n",
       "<p>25 rows × 3 columns</p>\n",
       "</div>"
      ],
      "text/plain": [
       "    num kills   adc     mid\n",
       "5           0  2272  2617.0\n",
       "0           1  3151  3831.0\n",
       "1           2  3141  3949.0\n",
       "..        ...   ...     ...\n",
       "21         22     3     0.0\n",
       "24         24     1     0.0\n",
       "23         28     1     0.0\n",
       "\n",
       "[25 rows x 3 columns]"
      ]
     },
     "execution_count": 215,
     "metadata": {},
     "output_type": "execute_result"
    }
   ],
   "source": [
    "#get the killcounts for mid and adc positions\n",
    "mid_kills = mid_adc[mid_adc['position'] == 'mid']['kills'].value_counts()\n",
    "adc_kills = mid_adc[mid_adc['position'] == 'adc']['kills'].value_counts()\n",
    "\n",
    "#create new df with only mid_kills and adc_kills data\n",
    "kills_distr = pd.DataFrame()\n",
    "kills_distr['adc'] = adc_kills\n",
    "kills_distr['mid'] = mid_kills\n",
    "\n",
    "#fill NaN values with 0\n",
    "kills_distr['mid'] = kills_distr['mid'].fillna(0)\n",
    "kills_distr['adc'] = kills_distr['adc'].fillna(0)\n",
    "\n",
    "\n",
    "#reset index so that we can see the number of times each role got a certain amount of kills\n",
    "kills_distr = kills_distr.reset_index()\n",
    "\n",
    "#rename the index column \n",
    "kills_distr.rename(columns={'index': 'num kills'}, inplace=True)\n",
    "\n",
    "#sort df values so that when plotting, the values will create a curve\n",
    "kills_distr = kills_distr.sort_values(by='num kills')\n",
    "\n",
    "kills_distr"
   ]
  },
  {
   "cell_type": "code",
   "execution_count": 216,
   "metadata": {},
   "outputs": [],
   "source": [
    "fig = px.line(kills_distr, x = 'num kills', y = ['adc', 'mid'],  color_discrete_map={'adc': 'pink', 'mid': 'purple'})\n",
    "fig.update_layout(title='Distribution of Kill Counts for Mid and ADC Players',\n",
    "                   xaxis_title='Number of Kills',\n",
    "                   yaxis_title='Number of Occurrences',\n",
    "                   showlegend=True,\n",
    "                   legend_title_text=None)\n",
    "fig.write_html('univariate.html', include_plotlyjs='cdn')"
   ]
  },
  {
   "cell_type": "markdown",
   "metadata": {},
   "source": [
    "**Bivariate Analysis**\n",
    "- Distribution of Getting First Blood Kill Given a Position (mid/adc)"
   ]
  },
  {
   "cell_type": "code",
   "execution_count": 217,
   "metadata": {},
   "outputs": [
    {
     "data": {
      "text/html": [
       "<div>\n",
       "<style scoped>\n",
       "    .dataframe tbody tr th:only-of-type {\n",
       "        vertical-align: middle;\n",
       "    }\n",
       "\n",
       "    .dataframe tbody tr th {\n",
       "        vertical-align: top;\n",
       "    }\n",
       "\n",
       "    .dataframe thead th {\n",
       "        text-align: right;\n",
       "    }\n",
       "</style>\n",
       "<table border=\"1\" class=\"dataframe\">\n",
       "  <thead>\n",
       "    <tr style=\"text-align: right;\">\n",
       "      <th></th>\n",
       "      <th>position</th>\n",
       "      <th>kill</th>\n",
       "      <th>no kill</th>\n",
       "    </tr>\n",
       "  </thead>\n",
       "  <tbody>\n",
       "    <tr>\n",
       "      <th>0</th>\n",
       "      <td>mid</td>\n",
       "      <td>4.43</td>\n",
       "      <td>45.57</td>\n",
       "    </tr>\n",
       "    <tr>\n",
       "      <th>1</th>\n",
       "      <td>adc</td>\n",
       "      <td>5.84</td>\n",
       "      <td>44.16</td>\n",
       "    </tr>\n",
       "  </tbody>\n",
       "</table>\n",
       "</div>"
      ],
      "text/plain": [
       "  position  kill  no kill\n",
       "0      mid  4.43    45.57\n",
       "1      adc  5.84    44.16"
      ]
     },
     "execution_count": 217,
     "metadata": {},
     "output_type": "execute_result"
    }
   ],
   "source": [
    "#separate when mid players got a first kill and when they didnt\n",
    "mid_first= mid_adc[(mid_adc['position']== 'mid') & (mid_adc['first blood kill']== True)]\n",
    "mid_nofirst= mid_adc[(mid_adc['position']== 'mid') & (mid_adc['first blood kill']== False)]\n",
    "\n",
    "#separate when adc players got a first kill and when they didnt\n",
    "adc_first= mid_adc[(mid_adc['position']== 'adc') & (mid_adc['first blood kill']== True)]\n",
    "adc_nofirst= mid_adc[(mid_adc['position']== 'adc') & (mid_adc['first blood kill']== False)]\n",
    "\n",
    "#get the total number of first blood kills of mid and adc players\n",
    "total=mid_adc['first blood kill'].count()\n",
    "\n",
    "#add values into a df\n",
    "kills_prop = pd.DataFrame()\n",
    "kills_prop['position'] = ['mid', 'adc']\n",
    "kills_prop['kill'] =  [(mid_first['first blood kill'].count()/total)*100, (adc_first['first blood kill'].count()/total)*100]\n",
    "kills_prop['no kill'] = [(mid_nofirst['first blood kill'].count()/total)*100, (adc_nofirst['first blood kill'].count()/total)*100]\n",
    "kills_prop"
   ]
  },
  {
   "cell_type": "code",
   "execution_count": 218,
   "metadata": {},
   "outputs": [],
   "source": [
    "bar = px.bar(kills_prop, x='position', y=['kill', 'no kill'], barmode='group', color_discrete_map={'kill': 'teal', 'no kill': 'lightblue'})\n",
    "bar.update_layout(title='Distribution of Getting First Blood Kill Given a Position',\n",
    "                   xaxis_title='Position',\n",
    "                   yaxis_title='First Blood Kills (%)',\n",
    "                   showlegend=True,\n",
    "                   legend_title_text=None)\n",
    "bar.write_html('bivariate.html', include_plotlyjs='cdn')"
   ]
  },
  {
   "cell_type": "markdown",
   "metadata": {},
   "source": [
    "**Interesting Aggregates**\n",
    "\n",
    "This table shows the mean statistics for ADC and mid players in dataset based on the result of the game (where False means that they lost, and True means that they won). Finding the means of these columns allows us to see which role carries more often."
   ]
  },
  {
   "cell_type": "code",
   "execution_count": 219,
   "metadata": {},
   "outputs": [
    {
     "data": {
      "text/html": [
       "<div>\n",
       "<style scoped>\n",
       "    .dataframe tbody tr th:only-of-type {\n",
       "        vertical-align: middle;\n",
       "    }\n",
       "\n",
       "    .dataframe tbody tr th {\n",
       "        vertical-align: top;\n",
       "    }\n",
       "\n",
       "    .dataframe thead th {\n",
       "        text-align: right;\n",
       "    }\n",
       "</style>\n",
       "<table border=\"1\" class=\"dataframe\">\n",
       "  <thead>\n",
       "    <tr style=\"text-align: right;\">\n",
       "      <th></th>\n",
       "      <th></th>\n",
       "      <th>kills</th>\n",
       "      <th>doublekills</th>\n",
       "      <th>total damage dealt</th>\n",
       "      <th>dtpm</th>\n",
       "      <th>dmpm</th>\n",
       "      <th>first blood kill</th>\n",
       "    </tr>\n",
       "    <tr>\n",
       "      <th>position</th>\n",
       "      <th>result</th>\n",
       "      <th></th>\n",
       "      <th></th>\n",
       "      <th></th>\n",
       "      <th></th>\n",
       "      <th></th>\n",
       "      <th></th>\n",
       "    </tr>\n",
       "  </thead>\n",
       "  <tbody>\n",
       "    <tr>\n",
       "      <th rowspan=\"2\" valign=\"top\">adc</th>\n",
       "      <th>False</th>\n",
       "      <td>2.58</td>\n",
       "      <td>0.28</td>\n",
       "      <td>15940.83</td>\n",
       "      <td>451.84</td>\n",
       "      <td>284.47</td>\n",
       "      <td>0.09</td>\n",
       "    </tr>\n",
       "    <tr>\n",
       "      <th>True</th>\n",
       "      <td>5.94</td>\n",
       "      <td>1.04</td>\n",
       "      <td>20146.39</td>\n",
       "      <td>390.16</td>\n",
       "      <td>277.94</td>\n",
       "      <td>0.14</td>\n",
       "    </tr>\n",
       "    <tr>\n",
       "      <th rowspan=\"2\" valign=\"top\">mid</th>\n",
       "      <th>False</th>\n",
       "      <td>2.25</td>\n",
       "      <td>0.18</td>\n",
       "      <td>15630.71</td>\n",
       "      <td>552.90</td>\n",
       "      <td>372.75</td>\n",
       "      <td>0.07</td>\n",
       "    </tr>\n",
       "    <tr>\n",
       "      <th>True</th>\n",
       "      <td>4.74</td>\n",
       "      <td>0.64</td>\n",
       "      <td>19188.51</td>\n",
       "      <td>491.35</td>\n",
       "      <td>367.04</td>\n",
       "      <td>0.11</td>\n",
       "    </tr>\n",
       "  </tbody>\n",
       "</table>\n",
       "</div>"
      ],
      "text/plain": [
       "                 kills  doublekills  total damage dealt    dtpm    dmpm  \\\n",
       "position result                                                           \n",
       "adc      False    2.58         0.28            15940.83  451.84  284.47   \n",
       "         True     5.94         1.04            20146.39  390.16  277.94   \n",
       "mid      False    2.25         0.18            15630.71  552.90  372.75   \n",
       "         True     4.74         0.64            19188.51  491.35  367.04   \n",
       "\n",
       "                 first blood kill  \n",
       "position result                    \n",
       "adc      False               0.09  \n",
       "         True                0.14  \n",
       "mid      False               0.07  \n",
       "         True                0.11  "
      ]
     },
     "execution_count": 219,
     "metadata": {},
     "output_type": "execute_result"
    }
   ],
   "source": [
    "aggregates = mid_adc.groupby(['position', 'result']).mean()\n",
    "\n",
    "#drop towers because towers only applies to 'position' == 'team'\n",
    "aggregates = aggregates.drop(columns='towers')\n",
    "aggregates"
   ]
  },
  {
   "cell_type": "code",
   "execution_count": 220,
   "metadata": {},
   "outputs": [
    {
     "name": "stdout",
     "output_type": "stream",
     "text": [
      "|   kills |   doublekills |   total damage dealt |    dtpm |    dmpm |   first blood kill |\n",
      "|--------:|--------------:|---------------------:|--------:|--------:|-------------------:|\n",
      "| 2.57627 |      0.27522  |              15940.8 | 451.842 | 284.466 |          0.0904797 |\n",
      "| 5.93634 |      1.04109  |              20146.4 | 390.162 | 277.94  |          0.142976  |\n",
      "| 2.24774 |      0.181854 |              15630.7 | 552.9   | 372.75  |          0.0707598 |\n",
      "| 4.73999 |      0.644739 |              19188.5 | 491.346 | 367.038 |          0.106589  |\n"
     ]
    }
   ],
   "source": [
    "print(aggregates.head().to_markdown(index=False))"
   ]
  },
  {
   "cell_type": "markdown",
   "metadata": {},
   "source": [
    "## Step 3: Assessment of Missingness"
   ]
  },
  {
   "cell_type": "code",
   "execution_count": 221,
   "metadata": {},
   "outputs": [
    {
     "data": {
      "text/html": [
       "<div>\n",
       "<style scoped>\n",
       "    .dataframe tbody tr th:only-of-type {\n",
       "        vertical-align: middle;\n",
       "    }\n",
       "\n",
       "    .dataframe tbody tr th {\n",
       "        vertical-align: top;\n",
       "    }\n",
       "\n",
       "    .dataframe thead th {\n",
       "        text-align: right;\n",
       "    }\n",
       "</style>\n",
       "<table border=\"1\" class=\"dataframe\">\n",
       "  <thead>\n",
       "    <tr style=\"text-align: right;\">\n",
       "      <th></th>\n",
       "      <th>league</th>\n",
       "      <th>position</th>\n",
       "      <th>champion</th>\n",
       "      <th>kills</th>\n",
       "      <th>...</th>\n",
       "      <th>wards placed</th>\n",
       "      <th>exp at 10</th>\n",
       "      <th>towers</th>\n",
       "      <th>result</th>\n",
       "    </tr>\n",
       "  </thead>\n",
       "  <tbody>\n",
       "    <tr>\n",
       "      <th>10</th>\n",
       "      <td>LCKC</td>\n",
       "      <td>team</td>\n",
       "      <td>NaN</td>\n",
       "      <td>9</td>\n",
       "      <td>...</td>\n",
       "      <td>74.0</td>\n",
       "      <td>18213.0</td>\n",
       "      <td>3.0</td>\n",
       "      <td>False</td>\n",
       "    </tr>\n",
       "    <tr>\n",
       "      <th>11</th>\n",
       "      <td>LCKC</td>\n",
       "      <td>team</td>\n",
       "      <td>NaN</td>\n",
       "      <td>19</td>\n",
       "      <td>...</td>\n",
       "      <td>93.0</td>\n",
       "      <td>18076.0</td>\n",
       "      <td>6.0</td>\n",
       "      <td>True</td>\n",
       "    </tr>\n",
       "    <tr>\n",
       "      <th>22</th>\n",
       "      <td>LCKC</td>\n",
       "      <td>team</td>\n",
       "      <td>NaN</td>\n",
       "      <td>3</td>\n",
       "      <td>...</td>\n",
       "      <td>119.0</td>\n",
       "      <td>17462.0</td>\n",
       "      <td>3.0</td>\n",
       "      <td>False</td>\n",
       "    </tr>\n",
       "    <tr>\n",
       "      <th>...</th>\n",
       "      <td>...</td>\n",
       "      <td>...</td>\n",
       "      <td>...</td>\n",
       "      <td>...</td>\n",
       "      <td>...</td>\n",
       "      <td>...</td>\n",
       "      <td>...</td>\n",
       "      <td>...</td>\n",
       "      <td>...</td>\n",
       "    </tr>\n",
       "    <tr>\n",
       "      <th>148979</th>\n",
       "      <td>DCup</td>\n",
       "      <td>team</td>\n",
       "      <td>NaN</td>\n",
       "      <td>7</td>\n",
       "      <td>...</td>\n",
       "      <td>136.0</td>\n",
       "      <td>NaN</td>\n",
       "      <td>2.0</td>\n",
       "      <td>False</td>\n",
       "    </tr>\n",
       "    <tr>\n",
       "      <th>148990</th>\n",
       "      <td>DCup</td>\n",
       "      <td>team</td>\n",
       "      <td>NaN</td>\n",
       "      <td>8</td>\n",
       "      <td>...</td>\n",
       "      <td>108.0</td>\n",
       "      <td>NaN</td>\n",
       "      <td>0.0</td>\n",
       "      <td>False</td>\n",
       "    </tr>\n",
       "    <tr>\n",
       "      <th>148991</th>\n",
       "      <td>DCup</td>\n",
       "      <td>team</td>\n",
       "      <td>NaN</td>\n",
       "      <td>21</td>\n",
       "      <td>...</td>\n",
       "      <td>122.0</td>\n",
       "      <td>NaN</td>\n",
       "      <td>10.0</td>\n",
       "      <td>True</td>\n",
       "    </tr>\n",
       "  </tbody>\n",
       "</table>\n",
       "<p>24134 rows × 14 columns</p>\n",
       "</div>"
      ],
      "text/plain": [
       "       league position champion  kills  ...  wards placed  exp at 10  towers  \\\n",
       "10       LCKC     team      NaN      9  ...          74.0    18213.0     3.0   \n",
       "11       LCKC     team      NaN     19  ...          93.0    18076.0     6.0   \n",
       "22       LCKC     team      NaN      3  ...         119.0    17462.0     3.0   \n",
       "...       ...      ...      ...    ...  ...           ...        ...     ...   \n",
       "148979   DCup     team      NaN      7  ...         136.0        NaN     2.0   \n",
       "148990   DCup     team      NaN      8  ...         108.0        NaN     0.0   \n",
       "148991   DCup     team      NaN     21  ...         122.0        NaN    10.0   \n",
       "\n",
       "        result  \n",
       "10       False  \n",
       "11        True  \n",
       "22       False  \n",
       "...        ...  \n",
       "148979   False  \n",
       "148990   False  \n",
       "148991    True  \n",
       "\n",
       "[24134 rows x 14 columns]"
      ]
     },
     "execution_count": 221,
     "metadata": {},
     "output_type": "execute_result"
    }
   ],
   "source": [
    "#make a separate df with only data for position == team so we don't get duplicates\n",
    "teams_only = league[league['position']== 'team']\n",
    "teams_only"
   ]
  },
  {
   "cell_type": "markdown",
   "metadata": {},
   "source": [
    "### **Double Kills vs League**\n",
    "\n",
    "\n",
    "When Double Kills is Missing. We use data of `teams_only`"
   ]
  },
  {
   "cell_type": "markdown",
   "metadata": {},
   "source": [
    "**When double kills is missing:**"
   ]
  },
  {
   "cell_type": "code",
   "execution_count": 222,
   "metadata": {},
   "outputs": [
    {
     "data": {
      "text/html": [
       "<style type=\"text/css\">\n",
       "</style>\n",
       "<table id=\"T_16b03_\">\n",
       "  <thead>\n",
       "    <tr>\n",
       "      <th class=\"blank level0\" >&nbsp;</th>\n",
       "      <th class=\"col_heading level0 col0\" >league</th>\n",
       "      <th class=\"col_heading level0 col1\" >doublekills</th>\n",
       "    </tr>\n",
       "  </thead>\n",
       "  <tbody>\n",
       "    <tr>\n",
       "      <th id=\"T_16b03_level0_row0\" class=\"row_heading level0 row0\" >0</th>\n",
       "      <td id=\"T_16b03_row0_col0\" class=\"data row0 col0\" >CBLOL</td>\n",
       "      <td id=\"T_16b03_row0_col1\" class=\"data row0 col1\" >0.01628408</td>\n",
       "    </tr>\n",
       "    <tr>\n",
       "      <th id=\"T_16b03_level0_row1\" class=\"row_heading level0 row1\" >1</th>\n",
       "      <td id=\"T_16b03_row1_col0\" class=\"data row1 col0\" >CBLOLA</td>\n",
       "      <td id=\"T_16b03_row1_col1\" class=\"data row1 col1\" >0.01522748</td>\n",
       "    </tr>\n",
       "    <tr>\n",
       "      <th id=\"T_16b03_level0_row2\" class=\"row_heading level0 row2\" >2</th>\n",
       "      <td id=\"T_16b03_row2_col0\" class=\"data row2 col0\" >CDF</td>\n",
       "      <td id=\"T_16b03_row2_col1\" class=\"data row2 col1\" >0.00673324</td>\n",
       "    </tr>\n",
       "    <tr>\n",
       "      <th id=\"T_16b03_level0_row3\" class=\"row_heading level0 row3\" >3</th>\n",
       "      <td id=\"T_16b03_row3_col0\" class=\"data row3 col0\" >CT</td>\n",
       "      <td id=\"T_16b03_row3_col1\" class=\"data row3 col1\" >0.00188531</td>\n",
       "    </tr>\n",
       "    <tr>\n",
       "      <th id=\"T_16b03_level0_row4\" class=\"row_heading level0 row4\" >4</th>\n",
       "      <td id=\"T_16b03_row4_col0\" class=\"data row4 col0\" >DCup</td>\n",
       "      <td id=\"T_16b03_row4_col1\" class=\"data row4 col1\" >0.00000000</td>\n",
       "    </tr>\n",
       "  </tbody>\n",
       "</table>\n"
      ],
      "text/plain": [
       "<pandas.io.formats.style.Styler at 0x246167df430>"
      ]
     },
     "execution_count": 222,
     "metadata": {},
     "output_type": "execute_result"
    }
   ],
   "source": [
    "#get totall number of doublekills\n",
    "total_doublekills = teams_only['doublekills'].sum()\n",
    "league_prop_missing = (teams_only.groupby('league')['doublekills'].sum() / total).reset_index()\n",
    "league_prop_missing.head().style.format({'doublekills': '{:.8f}'.format})"
   ]
  },
  {
   "cell_type": "code",
   "execution_count": 223,
   "metadata": {},
   "outputs": [],
   "source": [
    "#helper function for imputing missing variables\n",
    "def prob_impute(s):\n",
    "    s = s.copy()\n",
    "    num_null = s.isna().sum()\n",
    "    fill_values = np.random.choice(s.dropna(), num_null)\n",
    "    s[s.isna()] = fill_values\n",
    "    return s"
   ]
  },
  {
   "cell_type": "code",
   "execution_count": 224,
   "metadata": {},
   "outputs": [
    {
     "data": {
      "text/html": [
       "<style type=\"text/css\">\n",
       "</style>\n",
       "<table id=\"T_e6657_\">\n",
       "  <thead>\n",
       "    <tr>\n",
       "      <th class=\"blank level0\" >&nbsp;</th>\n",
       "      <th class=\"col_heading level0 col0\" >league</th>\n",
       "      <th class=\"col_heading level0 col1\" >doublekills</th>\n",
       "    </tr>\n",
       "  </thead>\n",
       "  <tbody>\n",
       "    <tr>\n",
       "      <th id=\"T_e6657_level0_row0\" class=\"row_heading level0 row0\" >0</th>\n",
       "      <td id=\"T_e6657_row0_col0\" class=\"data row0 col0\" >CBLOL</td>\n",
       "      <td id=\"T_e6657_row0_col1\" class=\"data row0 col1\" >0.01918664</td>\n",
       "    </tr>\n",
       "    <tr>\n",
       "      <th id=\"T_e6657_level0_row1\" class=\"row_heading level0 row1\" >1</th>\n",
       "      <td id=\"T_e6657_row1_col0\" class=\"data row1 col0\" >CBLOLA</td>\n",
       "      <td id=\"T_e6657_row1_col1\" class=\"data row1 col1\" >0.01794171</td>\n",
       "    </tr>\n",
       "    <tr>\n",
       "      <th id=\"T_e6657_level0_row2\" class=\"row_heading level0 row2\" >2</th>\n",
       "      <td id=\"T_e6657_row2_col0\" class=\"data row2 col0\" >CDF</td>\n",
       "      <td id=\"T_e6657_row2_col1\" class=\"data row2 col1\" >0.00793341</td>\n",
       "    </tr>\n",
       "    <tr>\n",
       "      <th id=\"T_e6657_level0_row3\" class=\"row_heading level0 row3\" >3</th>\n",
       "      <td id=\"T_e6657_row3_col0\" class=\"data row3 col0\" >CT</td>\n",
       "      <td id=\"T_e6657_row3_col1\" class=\"data row3 col1\" >0.00222135</td>\n",
       "    </tr>\n",
       "    <tr>\n",
       "      <th id=\"T_e6657_level0_row4\" class=\"row_heading level0 row4\" >4</th>\n",
       "      <td id=\"T_e6657_row4_col0\" class=\"data row4 col0\" >DCup</td>\n",
       "      <td id=\"T_e6657_row4_col1\" class=\"data row4 col1\" >0.00668847</td>\n",
       "    </tr>\n",
       "  </tbody>\n",
       "</table>\n"
      ],
      "text/plain": [
       "<pandas.io.formats.style.Styler at 0x24608d168e0>"
      ]
     },
     "execution_count": 224,
     "metadata": {},
     "output_type": "execute_result"
    }
   ],
   "source": [
    "#create a copy of teams_only\n",
    "team_filled = teams_only.copy()\n",
    "\n",
    "#isolate the columns that we want\n",
    "team_filled= team_filled[['league', 'doublekills']]\n",
    "\n",
    "#call the helper function on teams_filled\n",
    "team_filled['doublekills'] = (\n",
    "    teams_only\n",
    "    ['doublekills']\n",
    "    .transform(prob_impute)\n",
    ")\n",
    "\n",
    "#get total number of doublekills after imputation\n",
    "total= team_filled['doublekills'].sum()\n",
    "\n",
    "#get the proportion of doublekills when it's not missing\n",
    "league_prop_notmissing = (team_filled.groupby('league')['doublekills'].sum() / total).reset_index()\n",
    "league_prop_notmissing.head().style.format({'doublekills': '{:.8f}'.format})"
   ]
  },
  {
   "cell_type": "markdown",
   "metadata": {},
   "source": [
    "**Permutation Test of League vs. Doublekills**"
   ]
  },
  {
   "cell_type": "code",
   "execution_count": 225,
   "metadata": {},
   "outputs": [
    {
     "data": {
      "text/html": [
       "<div>\n",
       "<style scoped>\n",
       "    .dataframe tbody tr th:only-of-type {\n",
       "        vertical-align: middle;\n",
       "    }\n",
       "\n",
       "    .dataframe tbody tr th {\n",
       "        vertical-align: top;\n",
       "    }\n",
       "\n",
       "    .dataframe thead th {\n",
       "        text-align: right;\n",
       "    }\n",
       "</style>\n",
       "<table border=\"1\" class=\"dataframe\">\n",
       "  <thead>\n",
       "    <tr style=\"text-align: right;\">\n",
       "      <th></th>\n",
       "      <th>league</th>\n",
       "      <th>double_missing = True</th>\n",
       "      <th>double_missing= False</th>\n",
       "    </tr>\n",
       "  </thead>\n",
       "  <tbody>\n",
       "    <tr>\n",
       "      <th>0</th>\n",
       "      <td>CBLOL</td>\n",
       "      <td>1.63e-02</td>\n",
       "      <td>1.92e-02</td>\n",
       "    </tr>\n",
       "    <tr>\n",
       "      <th>1</th>\n",
       "      <td>CBLOLA</td>\n",
       "      <td>1.52e-02</td>\n",
       "      <td>1.79e-02</td>\n",
       "    </tr>\n",
       "    <tr>\n",
       "      <th>2</th>\n",
       "      <td>CDF</td>\n",
       "      <td>6.73e-03</td>\n",
       "      <td>7.93e-03</td>\n",
       "    </tr>\n",
       "    <tr>\n",
       "      <th>...</th>\n",
       "      <td>...</td>\n",
       "      <td>...</td>\n",
       "      <td>...</td>\n",
       "    </tr>\n",
       "    <tr>\n",
       "      <th>46</th>\n",
       "      <td>VCS</td>\n",
       "      <td>2.33e-02</td>\n",
       "      <td>2.75e-02</td>\n",
       "    </tr>\n",
       "    <tr>\n",
       "      <th>47</th>\n",
       "      <td>VL</td>\n",
       "      <td>1.14e-02</td>\n",
       "      <td>1.34e-02</td>\n",
       "    </tr>\n",
       "    <tr>\n",
       "      <th>48</th>\n",
       "      <td>WLDs</td>\n",
       "      <td>8.37e-03</td>\n",
       "      <td>1.09e-02</td>\n",
       "    </tr>\n",
       "  </tbody>\n",
       "</table>\n",
       "<p>49 rows × 3 columns</p>\n",
       "</div>"
      ],
      "text/plain": [
       "    league  double_missing = True  double_missing= False\n",
       "0    CBLOL               1.63e-02               1.92e-02\n",
       "1   CBLOLA               1.52e-02               1.79e-02\n",
       "2      CDF               6.73e-03               7.93e-03\n",
       "..     ...                    ...                    ...\n",
       "46     VCS               2.33e-02               2.75e-02\n",
       "47      VL               1.14e-02               1.34e-02\n",
       "48    WLDs               8.37e-03               1.09e-02\n",
       "\n",
       "[49 rows x 3 columns]"
      ]
     },
     "execution_count": 225,
     "metadata": {},
     "output_type": "execute_result"
    }
   ],
   "source": [
    "league_2= league_prop_missing.merge(league_prop_notmissing, on= \"league\")\n",
    "league_2= league_2.rename(columns= {'doublekills_x': 'double_missing = True', 'doublekills_y': 'double_missing= False'})\n",
    "league_2.style.format({'double_missing = True': '{:.8f}'.format})\n",
    "league_2"
   ]
  },
  {
   "cell_type": "code",
   "execution_count": 226,
   "metadata": {},
   "outputs": [
    {
     "data": {
      "text/html": [
       "<div>\n",
       "<style scoped>\n",
       "    .dataframe tbody tr th:only-of-type {\n",
       "        vertical-align: middle;\n",
       "    }\n",
       "\n",
       "    .dataframe tbody tr th {\n",
       "        vertical-align: top;\n",
       "    }\n",
       "\n",
       "    .dataframe thead th {\n",
       "        text-align: right;\n",
       "    }\n",
       "</style>\n",
       "<table border=\"1\" class=\"dataframe\">\n",
       "  <thead>\n",
       "    <tr style=\"text-align: right;\">\n",
       "      <th></th>\n",
       "      <th>double_missing = False</th>\n",
       "      <th>double_missing = True</th>\n",
       "    </tr>\n",
       "    <tr>\n",
       "      <th>league</th>\n",
       "      <th></th>\n",
       "      <th></th>\n",
       "    </tr>\n",
       "  </thead>\n",
       "  <tbody>\n",
       "    <tr>\n",
       "      <th>CBLOL</th>\n",
       "      <td>2.37e-02</td>\n",
       "      <td>NaN</td>\n",
       "    </tr>\n",
       "    <tr>\n",
       "      <th>CBLOLA</th>\n",
       "      <td>2.11e-02</td>\n",
       "      <td>NaN</td>\n",
       "    </tr>\n",
       "    <tr>\n",
       "      <th>CDF</th>\n",
       "      <td>7.12e-03</td>\n",
       "      <td>NaN</td>\n",
       "    </tr>\n",
       "    <tr>\n",
       "      <th>...</th>\n",
       "      <td>...</td>\n",
       "      <td>...</td>\n",
       "    </tr>\n",
       "    <tr>\n",
       "      <th>VCS</th>\n",
       "      <td>3.15e-02</td>\n",
       "      <td>NaN</td>\n",
       "    </tr>\n",
       "    <tr>\n",
       "      <th>VL</th>\n",
       "      <td>1.52e-02</td>\n",
       "      <td>NaN</td>\n",
       "    </tr>\n",
       "    <tr>\n",
       "      <th>WLDs</th>\n",
       "      <td>1.38e-02</td>\n",
       "      <td>7.70e-03</td>\n",
       "    </tr>\n",
       "  </tbody>\n",
       "</table>\n",
       "<p>49 rows × 2 columns</p>\n",
       "</div>"
      ],
      "text/plain": [
       "        double_missing = False  double_missing = True\n",
       "league                                               \n",
       "CBLOL                 2.37e-02                    NaN\n",
       "CBLOLA                2.11e-02                    NaN\n",
       "CDF                   7.12e-03                    NaN\n",
       "...                        ...                    ...\n",
       "VCS                   3.15e-02                    NaN\n",
       "VL                    1.52e-02                    NaN\n",
       "WLDs                  1.38e-02               7.70e-03\n",
       "\n",
       "[49 rows x 2 columns]"
      ]
     },
     "execution_count": 226,
     "metadata": {},
     "output_type": "execute_result"
    }
   ],
   "source": [
    "league_double = teams_only[['league', 'doublekills']]\n",
    "league_double_dist = (\n",
    "    league_double\n",
    "    .assign(double_missing=league_double['doublekills'].isna())\n",
    "    .pivot_table(index='league', columns='double_missing', aggfunc='size')\n",
    ")\n",
    "\n",
    "# Added just to make the resulting pivot table easier to read.\n",
    "league_double_dist.columns = ['double_missing = False', 'double_missing = True']\n",
    "\n",
    "league_double_dist = league_double_dist / league_double_dist.sum()\n",
    "league_double_dist"
   ]
  },
  {
   "cell_type": "code",
   "execution_count": 227,
   "metadata": {},
   "outputs": [
    {
     "data": {
      "text/plain": [
       "0.0030311228214282494"
      ]
     },
     "execution_count": 227,
     "metadata": {},
     "output_type": "execute_result"
    }
   ],
   "source": [
    "observed_tvd_league = league_double_dist.diff(axis=1).iloc[:, -1].abs().sum() / 2\n",
    "observed_tvd_league"
   ]
  },
  {
   "cell_type": "code",
   "execution_count": 228,
   "metadata": {},
   "outputs": [],
   "source": [
    "n_repetitions = 500\n",
    "shuffled_league = league_double.copy()\n",
    "shuffled_league= shuffled_league.assign(double_missing=league_double['doublekills'].isna())\n",
    "\n",
    "tvds_league = []\n",
    "for _ in range(n_repetitions):\n",
    "    \n",
    "    \n",
    "    shuffled_league['league'] = np.random.permutation(shuffled_league['league'])\n",
    "    \n",
    "    pivoted_league = (\n",
    "        shuffled_league\n",
    "        .pivot_table(index='league', columns='double_missing', aggfunc='size')\n",
    "    )\n",
    "    \n",
    "    pivoted_league = pivoted_league / pivoted_league.sum()\n",
    "    \n",
    "    tvd = pivoted_league.diff(axis=1).iloc[:, -1].abs().sum() / 2\n",
    "    tvds_league.append(tvd)"
   ]
  },
  {
   "cell_type": "code",
   "execution_count": 229,
   "metadata": {},
   "outputs": [
    {
     "data": {
      "text/plain": [
       "1.0"
      ]
     },
     "execution_count": 229,
     "metadata": {},
     "output_type": "execute_result"
    }
   ],
   "source": [
    "pval = (pd.Series(tvds_league) >= observed_tvd_league).mean()\n",
    "pval\n",
    "#Fail to Reject"
   ]
  },
  {
   "cell_type": "code",
   "execution_count": 230,
   "metadata": {},
   "outputs": [
    {
     "data": {
      "text/html": [
       "<div>                            <div id=\"a0448c5b-22c6-42eb-8bb4-c24da1de5aa5\" class=\"plotly-graph-div\" style=\"height:400px; width:600px;\"></div>            <script type=\"text/javascript\">                require([\"plotly\"], function(Plotly) {                    window.PLOTLYENV=window.PLOTLYENV || {};                                    if (document.getElementById(\"a0448c5b-22c6-42eb-8bb4-c24da1de5aa5\")) {                    Plotly.newPlot(                        \"a0448c5b-22c6-42eb-8bb4-c24da1de5aa5\",                        [{\"alignmentgroup\":\"True\",\"bingroup\":\"x\",\"histnorm\":\"probability\",\"hovertemplate\":\"0=%{x}\\u003cbr\\u003eprobability=%{y}\\u003cextra\\u003e\\u003c\\u002fextra\\u003e\",\"legendgroup\":\"\",\"marker\":{\"color\":\"#1F77B4\",\"pattern\":{\"shape\":\"\"}},\"name\":\"\",\"nbinsx\":50,\"offsetgroup\":\"\",\"orientation\":\"v\",\"showlegend\":false,\"x\":[0.0453151882784675,0.050526465373954076,0.044211176886872414,0.05291596874692883,0.05198734925255531,0.05401944368983996,0.04841586167177151,0.04710043585382674,0.053274665159460444,0.05024220121632229,0.0414119876539554,0.04381449990751624,0.0454429971774216,0.04774707109747528,0.04167873676205582,0.04702659369247929,0.040250629898044704,0.0480112720743269,0.05267054347401592,0.043512425653576894,0.04008033426332076,0.05103204143615466,0.05739689778163448,0.04445772870202164,0.04525730546546793,0.05369845961979093,0.047823461390071584,0.04911587355947434,0.051296644749519234,0.05144041299682122,0.03979620421785996,0.045436774372687644,0.048106035734348906,0.04866976283389103,0.05800370171049881,0.042209150398323875,0.04590278734444598,0.04604711886286611,0.0547481019372664,0.042374939864102526,0.04755148190730252,0.045693223666055965,0.05319417103443185,0.05247849484515729,0.06119235268797268,0.04218530525432172,0.04756390069433626,0.040705913896123797,0.039306185167494304,0.04687067488248555,0.044978674019017756,0.04777475184956776,0.05039726170842169,0.04799136982815188,0.05138886027829242,0.05001399594616458,0.03820244200024117,0.04160545787182654,0.04262334242721142,0.046935209659166255,0.04992234368850957,0.04834625745502736,0.056673604021047666,0.03824916668061432,0.05148898842515403,0.046595583997349505,0.038238598641540264,0.0523320443544355,0.04026629419961642,0.041289275017498954,0.04252364343929696,0.037131180800802015,0.03969537868770918,0.055270468843275015,0.05185192278228896,0.044575640122756624,0.05258342420774039,0.045113403105994966,0.042532682599621736,0.04629479722025168,0.04818199686799801,0.040604659207025856,0.0481003762007331,0.04012424258810311,0.04290985966931587,0.04124775388936025,0.04039917253863397,0.05169983958038555,0.046374164803043925,0.04720042988851739,0.04700639639952809,0.04850821131271567,0.03952535127732723,0.037064232005043475,0.05644834921865175,0.04959291055168811,0.037189358660577765,0.046648558304890814,0.052807096486518615,0.04466871396942414,0.05191390942772084,0.04828480725827943,0.04874969368780145,0.042820889655080664,0.04258294784130904,0.040700978568231336,0.04590447715780046,0.042627875418590894,0.058659644338814126,0.039571378574411224,0.03986328712578948,0.04854592365519824,0.04021152278898382,0.05675211328594559,0.05315959691675046,0.04377453448056102,0.05105320433673699,0.04518075423826647,0.04133149352892681,0.03779629670161308,0.05592485577040683,0.04381251504738558,0.045520379900083216,0.04913365683334772,0.05634427817396302,0.03932780404945799,0.044984896823751716,0.048897270720759584,0.04745151469504608,0.042620660183791605,0.037656498174572436,0.04182561641172479,0.044812187169949946,0.042131070292373105,0.04442057963065723,0.041576221418550566,0.044763745853788124,0.04597791698263494,0.04670786270690289,0.049650954299292865,0.056924662005142186,0.039365355457335376,0.048723863683668656,0.04284291087355732,0.04240119902718249,0.04002100303887451,0.04976009478404508,0.042622484109317085,0.048945282877974235,0.04683607394236997,0.05867023920032239,0.03995689742114097,0.052407469039400655,0.04631274142873021,0.04555723392467145,0.043417661993554894,0.05049540499515265,0.05245491792549714,0.04957284737090791,0.04019470512274161,0.04119550378754228,0.046648826529232815,0.053742797103520444,0.044752158562214525,0.03676331111577464,0.03669212437541279,0.04760893556135493,0.0507113255904476,0.04904849560476865,0.05104558676542472,0.04266118888186499,0.050022471835371195,0.044026450782549895,0.05569058863012035,0.04986333433327367,0.054605621166805916,0.045671738896263275,0.04944745249103165,0.04572795871834257,0.05050076948199228,0.04709225501139633,0.05783665159031285,0.04174058929531672,0.03700720750993825,0.0437865241086476,0.050814967476189195,0.04785014971209872,0.04806196647496136,0.0522375757411897,0.05101141498425629,0.046522734266067366,0.055661781335791555,0.045985400441776215,0.04248070072214577,0.0494982810038371,0.043328987026095875,0.04335256394575602,0.05108638368784008,0.04461729536306632,0.04582427807954804,0.03666755502568731,0.05332479628897675,0.04306124548793011,0.04751631769606878,0.049662380656261274,0.04233355284813482,0.0404144345036927,0.04918295646740387,0.03363707594267981,0.049258649376711,0.050469709103190846,0.049329246023520484,0.03875898068741822,0.044175717628862486,0.046047387087208104,0.044727025941370874,0.048928331099561025,0.050418022272491037,0.04777657577509324,0.04613834196157396,0.04341964685368555,0.04674415346037295,0.04636370405370667,0.05597541605887031,0.045932023797721946,0.052449258391881345,0.0412211996795041,0.04269860617757139,0.04848986476772416,0.04224262479620314,0.04596295006435239,0.04641724163236614,0.046680611113757584,0.037532658995879646,0.0438769157118953,0.04382989598474597,0.04282909731994529,0.055332616423312074,0.05319320542680071,0.05060795192904801,0.05023047981257771,0.04920100796561922,0.04537054978265245,0.04799206721144103,0.05381693431164407,0.05267153590408126,0.05471634417517581,0.04803656562977572,0.06132890570047538,0.04155009636764159,0.046350856107725755,0.043610005669189704,0.038410718201789686,0.044049893590039045,0.049165012258925334,0.0432511751444871,0.04587566986347166,0.05339257658019543,0.04760528771030397,0.03835270127661912,0.04627207861848585,0.04593993641581039,0.04508204768041734,0.040768329700502835,0.04296988827705127,0.04966506289968108,0.038974042964818836,0.04076253605471605,0.04767899575948045,0.04552080905903039,0.04784521438420626,0.04646356397622631,0.04261006532228336,0.05128055128900036,0.04697292200164882,0.06143482749312379,0.051385212427241464,0.0517318923892523,0.05214324124011486,0.044470147489055374,0.03953184230640317,0.04330779730307934,0.054298906631750285,0.04661366231799906,0.053278205720774595,0.04687477871491786,0.038879842575914994,0.041902865022215414,0.051319819332666425,0.056622346349295034,0.05135511765607116,0.05331562301648099,0.061775713809347856,0.041670421807454394,0.04625426852217828,0.05476859427699377,0.04336246142397513,0.041821244354950486,0.0444568972065615,0.047108911743033346,0.04746251189306733,0.060459992944626915,0.049821518158358793,0.04808825246047553,0.04885574959262087,0.03818774330630061,0.05111111397217075,0.044215414831475716,0.050700033345650194,0.046786801130748,0.040408372633563915,0.04960079634734237,0.05379574458862755,0.041987141110465954,0.04766190986889625,0.04462182835444581,0.049980682482890504,0.04018453942018052,0.04748228002707135,0.04277910030259997,0.046853723104072334,0.041671414237519744,0.038654882820295264,0.04260003373189325,0.05371624289366429,0.04888369856905533,0.05718296204647017,0.04891733390153977,0.05013869344275169,0.03818591938077514,0.05076596288890921,0.04613649121361429,0.05412818183807919,0.04210733243810777,0.05256110794248754,0.03946433023952649,0.04341385320789875,0.039486083233661165,0.04795183356014383,0.04649009136364827,0.05011369493407904,0.049794427499818675,0.04939252014579387,0.05534460605139865,0.051286774093734326,0.05069818259769053,0.049327824434507984,0.055988559051627376,0.046141158317164754,0.05590876230988795,0.04292595312983475,0.05382455188295634,0.05229800668543807,0.05108300406113111,0.03456599048382951,0.04874263938760735,0.04598003595493659,0.05373630607444448,0.05237992239947917,0.043552391080532105,0.057218957753164074,0.049017596160572385,0.04918944749647981,0.041524400475679776,0.04928871732544711,0.04793120710824548,0.04928348695077847,0.04524148022929104,0.052881528741418424,0.039078248121678566,0.048558771601179156,0.05354296996874437,0.04253169016955641,0.038607728980974955,0.03922512777134755,0.04489238624820236,0.046742463647018485,0.041982500829349664,0.04494281242449485,0.04559875505281016,0.047688034919805215,0.059326047716466705,0.046973056113819814,0.04802299347807148,0.05256054467136939,0.042907311538067046,0.04383171991027145,0.04785975214354165,0.042604969059785704,0.04191895848273429,0.04273744506229028,0.05586174258273863,0.03230555666421616,0.040846275694282626,0.055879257632269995,0.047703699221376926,0.05052788696296659,0.05315817532773796,0.040396651229819336,0.046739781403598656,0.04065253725206951,0.046469330799578906,0.04111345396133021,0.04619271103569357,0.04812100265263144,0.04611814466862277,0.045234264994491735,0.04701980761662716,0.054464132826410785,0.04606702110904112,0.04434078288891778,0.04537097894159961,0.056410931922945357,0.04761094724391978,0.04277472824582567,0.04463835097391186,0.03620637009208463,0.05157626862603475,0.04567021001751397,0.041228414914303395,0.04722499923824287,0.041684101248895454,0.03760706442834527,0.046390687422509985,0.047995607772755196,0.048862240621696806,0.0487031031195993,0.046236753472646906,0.032614953442691615,0.038257240233307954,0.04794858804560586,0.05174997070990185,0.048136532842032176,0.0421170689817217,0.04337544348212703,0.05155140422953309,0.05621732759290325,0.04253295082396372,0.04617744907063484,0.03985848591006802,0.05185771642807574,0.05065312090823766,0.04299148033658079,0.04514601918597989,0.050630697353248016,0.03722564941404783,0.05273464909174948,0.0440161509678178,0.04677296075470175,0.0502204482221876,0.04686573955459309,0.04669938681769628,0.04258533503795269,0.0436515267973284,0.05160706078049421,0.03505968420768031,0.04702176565432363,0.044711924910917335,0.051618916296409786,0.049562386621570635,0.04767306800152266,0.05561320590745874,0.0466589922317939,0.04347146779655634,0.04872555349702314,0.03657225491698136,0.04807779171113827,0.05385067693386532,0.0414621187834717,0.04712500520355224,0.0344958229959672,0.03977627514925075,0.04729516672610519,0.03803678664663353,0.04237987519199499,0.04724377494218156,0.06037740666973086,0.05422195306803585,0.040889620747946796,0.0426953606630334,0.04869985760506132,0.05485233391656034,0.050572787717814253,0.047630125284371445,0.03852398934140837,0.05386014525313726,0.046835805718027985,0.04914848963945928,0.05077430466594481,0.04805590460483259,0.04782190568888808,0.048014946747812044,0.0492269989043572,0.04661932185161485,0.050295604682810774,0.04079008269463753,0.05113694397630357,0.05797419703288087,0.04542111007111592,0.03831230669071674],\"xaxis\":\"x\",\"yaxis\":\"y\",\"type\":\"histogram\"}],                        {\"template\":{\"data\":{\"barpolar\":[{\"marker\":{\"line\":{\"color\":\"white\",\"width\":0.5},\"pattern\":{\"fillmode\":\"overlay\",\"size\":10,\"solidity\":0.2}},\"type\":\"barpolar\"}],\"bar\":[{\"error_x\":{\"color\":\"rgb(36,36,36)\"},\"error_y\":{\"color\":\"rgb(36,36,36)\"},\"marker\":{\"line\":{\"color\":\"white\",\"width\":0.5},\"pattern\":{\"fillmode\":\"overlay\",\"size\":10,\"solidity\":0.2}},\"type\":\"bar\"}],\"carpet\":[{\"aaxis\":{\"endlinecolor\":\"rgb(36,36,36)\",\"gridcolor\":\"white\",\"linecolor\":\"white\",\"minorgridcolor\":\"white\",\"startlinecolor\":\"rgb(36,36,36)\"},\"baxis\":{\"endlinecolor\":\"rgb(36,36,36)\",\"gridcolor\":\"white\",\"linecolor\":\"white\",\"minorgridcolor\":\"white\",\"startlinecolor\":\"rgb(36,36,36)\"},\"type\":\"carpet\"}],\"choropleth\":[{\"colorbar\":{\"outlinewidth\":1,\"tickcolor\":\"rgb(36,36,36)\",\"ticks\":\"outside\"},\"type\":\"choropleth\"}],\"contourcarpet\":[{\"colorbar\":{\"outlinewidth\":1,\"tickcolor\":\"rgb(36,36,36)\",\"ticks\":\"outside\"},\"type\":\"contourcarpet\"}],\"contour\":[{\"colorbar\":{\"outlinewidth\":1,\"tickcolor\":\"rgb(36,36,36)\",\"ticks\":\"outside\"},\"colorscale\":[[0.0,\"#440154\"],[0.1111111111111111,\"#482878\"],[0.2222222222222222,\"#3e4989\"],[0.3333333333333333,\"#31688e\"],[0.4444444444444444,\"#26828e\"],[0.5555555555555556,\"#1f9e89\"],[0.6666666666666666,\"#35b779\"],[0.7777777777777778,\"#6ece58\"],[0.8888888888888888,\"#b5de2b\"],[1.0,\"#fde725\"]],\"type\":\"contour\"}],\"heatmapgl\":[{\"colorbar\":{\"outlinewidth\":1,\"tickcolor\":\"rgb(36,36,36)\",\"ticks\":\"outside\"},\"colorscale\":[[0.0,\"#440154\"],[0.1111111111111111,\"#482878\"],[0.2222222222222222,\"#3e4989\"],[0.3333333333333333,\"#31688e\"],[0.4444444444444444,\"#26828e\"],[0.5555555555555556,\"#1f9e89\"],[0.6666666666666666,\"#35b779\"],[0.7777777777777778,\"#6ece58\"],[0.8888888888888888,\"#b5de2b\"],[1.0,\"#fde725\"]],\"type\":\"heatmapgl\"}],\"heatmap\":[{\"colorbar\":{\"outlinewidth\":1,\"tickcolor\":\"rgb(36,36,36)\",\"ticks\":\"outside\"},\"colorscale\":[[0.0,\"#440154\"],[0.1111111111111111,\"#482878\"],[0.2222222222222222,\"#3e4989\"],[0.3333333333333333,\"#31688e\"],[0.4444444444444444,\"#26828e\"],[0.5555555555555556,\"#1f9e89\"],[0.6666666666666666,\"#35b779\"],[0.7777777777777778,\"#6ece58\"],[0.8888888888888888,\"#b5de2b\"],[1.0,\"#fde725\"]],\"type\":\"heatmap\"}],\"histogram2dcontour\":[{\"colorbar\":{\"outlinewidth\":1,\"tickcolor\":\"rgb(36,36,36)\",\"ticks\":\"outside\"},\"colorscale\":[[0.0,\"#440154\"],[0.1111111111111111,\"#482878\"],[0.2222222222222222,\"#3e4989\"],[0.3333333333333333,\"#31688e\"],[0.4444444444444444,\"#26828e\"],[0.5555555555555556,\"#1f9e89\"],[0.6666666666666666,\"#35b779\"],[0.7777777777777778,\"#6ece58\"],[0.8888888888888888,\"#b5de2b\"],[1.0,\"#fde725\"]],\"type\":\"histogram2dcontour\"}],\"histogram2d\":[{\"colorbar\":{\"outlinewidth\":1,\"tickcolor\":\"rgb(36,36,36)\",\"ticks\":\"outside\"},\"colorscale\":[[0.0,\"#440154\"],[0.1111111111111111,\"#482878\"],[0.2222222222222222,\"#3e4989\"],[0.3333333333333333,\"#31688e\"],[0.4444444444444444,\"#26828e\"],[0.5555555555555556,\"#1f9e89\"],[0.6666666666666666,\"#35b779\"],[0.7777777777777778,\"#6ece58\"],[0.8888888888888888,\"#b5de2b\"],[1.0,\"#fde725\"]],\"type\":\"histogram2d\"}],\"histogram\":[{\"marker\":{\"line\":{\"color\":\"white\",\"width\":0.6}},\"type\":\"histogram\"}],\"mesh3d\":[{\"colorbar\":{\"outlinewidth\":1,\"tickcolor\":\"rgb(36,36,36)\",\"ticks\":\"outside\"},\"type\":\"mesh3d\"}],\"parcoords\":[{\"line\":{\"colorbar\":{\"outlinewidth\":1,\"tickcolor\":\"rgb(36,36,36)\",\"ticks\":\"outside\"}},\"type\":\"parcoords\"}],\"pie\":[{\"automargin\":true,\"type\":\"pie\"}],\"scatter3d\":[{\"line\":{\"colorbar\":{\"outlinewidth\":1,\"tickcolor\":\"rgb(36,36,36)\",\"ticks\":\"outside\"}},\"marker\":{\"colorbar\":{\"outlinewidth\":1,\"tickcolor\":\"rgb(36,36,36)\",\"ticks\":\"outside\"}},\"type\":\"scatter3d\"}],\"scattercarpet\":[{\"marker\":{\"colorbar\":{\"outlinewidth\":1,\"tickcolor\":\"rgb(36,36,36)\",\"ticks\":\"outside\"}},\"type\":\"scattercarpet\"}],\"scattergeo\":[{\"marker\":{\"colorbar\":{\"outlinewidth\":1,\"tickcolor\":\"rgb(36,36,36)\",\"ticks\":\"outside\"}},\"type\":\"scattergeo\"}],\"scattergl\":[{\"marker\":{\"colorbar\":{\"outlinewidth\":1,\"tickcolor\":\"rgb(36,36,36)\",\"ticks\":\"outside\"}},\"type\":\"scattergl\"}],\"scattermapbox\":[{\"marker\":{\"colorbar\":{\"outlinewidth\":1,\"tickcolor\":\"rgb(36,36,36)\",\"ticks\":\"outside\"}},\"type\":\"scattermapbox\"}],\"scatterpolargl\":[{\"marker\":{\"colorbar\":{\"outlinewidth\":1,\"tickcolor\":\"rgb(36,36,36)\",\"ticks\":\"outside\"}},\"type\":\"scatterpolargl\"}],\"scatterpolar\":[{\"marker\":{\"colorbar\":{\"outlinewidth\":1,\"tickcolor\":\"rgb(36,36,36)\",\"ticks\":\"outside\"}},\"type\":\"scatterpolar\"}],\"scatter\":[{\"fillpattern\":{\"fillmode\":\"overlay\",\"size\":10,\"solidity\":0.2},\"type\":\"scatter\"}],\"scatterternary\":[{\"marker\":{\"colorbar\":{\"outlinewidth\":1,\"tickcolor\":\"rgb(36,36,36)\",\"ticks\":\"outside\"}},\"type\":\"scatterternary\"}],\"surface\":[{\"colorbar\":{\"outlinewidth\":1,\"tickcolor\":\"rgb(36,36,36)\",\"ticks\":\"outside\"},\"colorscale\":[[0.0,\"#440154\"],[0.1111111111111111,\"#482878\"],[0.2222222222222222,\"#3e4989\"],[0.3333333333333333,\"#31688e\"],[0.4444444444444444,\"#26828e\"],[0.5555555555555556,\"#1f9e89\"],[0.6666666666666666,\"#35b779\"],[0.7777777777777778,\"#6ece58\"],[0.8888888888888888,\"#b5de2b\"],[1.0,\"#fde725\"]],\"type\":\"surface\"}],\"table\":[{\"cells\":{\"fill\":{\"color\":\"rgb(237,237,237)\"},\"line\":{\"color\":\"white\"}},\"header\":{\"fill\":{\"color\":\"rgb(217,217,217)\"},\"line\":{\"color\":\"white\"}},\"type\":\"table\"}]},\"layout\":{\"annotationdefaults\":{\"arrowhead\":0,\"arrowwidth\":1},\"autotypenumbers\":\"strict\",\"coloraxis\":{\"colorbar\":{\"outlinewidth\":1,\"tickcolor\":\"rgb(36,36,36)\",\"ticks\":\"outside\"}},\"colorscale\":{\"diverging\":[[0.0,\"rgb(103,0,31)\"],[0.1,\"rgb(178,24,43)\"],[0.2,\"rgb(214,96,77)\"],[0.3,\"rgb(244,165,130)\"],[0.4,\"rgb(253,219,199)\"],[0.5,\"rgb(247,247,247)\"],[0.6,\"rgb(209,229,240)\"],[0.7,\"rgb(146,197,222)\"],[0.8,\"rgb(67,147,195)\"],[0.9,\"rgb(33,102,172)\"],[1.0,\"rgb(5,48,97)\"]],\"sequential\":[[0.0,\"#440154\"],[0.1111111111111111,\"#482878\"],[0.2222222222222222,\"#3e4989\"],[0.3333333333333333,\"#31688e\"],[0.4444444444444444,\"#26828e\"],[0.5555555555555556,\"#1f9e89\"],[0.6666666666666666,\"#35b779\"],[0.7777777777777778,\"#6ece58\"],[0.8888888888888888,\"#b5de2b\"],[1.0,\"#fde725\"]],\"sequentialminus\":[[0.0,\"#440154\"],[0.1111111111111111,\"#482878\"],[0.2222222222222222,\"#3e4989\"],[0.3333333333333333,\"#31688e\"],[0.4444444444444444,\"#26828e\"],[0.5555555555555556,\"#1f9e89\"],[0.6666666666666666,\"#35b779\"],[0.7777777777777778,\"#6ece58\"],[0.8888888888888888,\"#b5de2b\"],[1.0,\"#fde725\"]]},\"colorway\":[\"#1F77B4\",\"#FF7F0E\",\"#2CA02C\",\"#D62728\",\"#9467BD\",\"#8C564B\",\"#E377C2\",\"#7F7F7F\",\"#BCBD22\",\"#17BECF\"],\"font\":{\"color\":\"rgb(36,36,36)\"},\"geo\":{\"bgcolor\":\"white\",\"lakecolor\":\"white\",\"landcolor\":\"white\",\"showlakes\":true,\"showland\":true,\"subunitcolor\":\"white\"},\"hoverlabel\":{\"align\":\"left\"},\"hovermode\":\"closest\",\"mapbox\":{\"style\":\"light\"},\"paper_bgcolor\":\"white\",\"plot_bgcolor\":\"white\",\"polar\":{\"angularaxis\":{\"gridcolor\":\"rgb(232,232,232)\",\"linecolor\":\"rgb(36,36,36)\",\"showgrid\":false,\"showline\":true,\"ticks\":\"outside\"},\"bgcolor\":\"white\",\"radialaxis\":{\"gridcolor\":\"rgb(232,232,232)\",\"linecolor\":\"rgb(36,36,36)\",\"showgrid\":false,\"showline\":true,\"ticks\":\"outside\"}},\"scene\":{\"xaxis\":{\"backgroundcolor\":\"white\",\"gridcolor\":\"rgb(232,232,232)\",\"gridwidth\":2,\"linecolor\":\"rgb(36,36,36)\",\"showbackground\":true,\"showgrid\":false,\"showline\":true,\"ticks\":\"outside\",\"zeroline\":false,\"zerolinecolor\":\"rgb(36,36,36)\"},\"yaxis\":{\"backgroundcolor\":\"white\",\"gridcolor\":\"rgb(232,232,232)\",\"gridwidth\":2,\"linecolor\":\"rgb(36,36,36)\",\"showbackground\":true,\"showgrid\":false,\"showline\":true,\"ticks\":\"outside\",\"zeroline\":false,\"zerolinecolor\":\"rgb(36,36,36)\"},\"zaxis\":{\"backgroundcolor\":\"white\",\"gridcolor\":\"rgb(232,232,232)\",\"gridwidth\":2,\"linecolor\":\"rgb(36,36,36)\",\"showbackground\":true,\"showgrid\":false,\"showline\":true,\"ticks\":\"outside\",\"zeroline\":false,\"zerolinecolor\":\"rgb(36,36,36)\"}},\"shapedefaults\":{\"fillcolor\":\"black\",\"line\":{\"width\":0},\"opacity\":0.3},\"ternary\":{\"aaxis\":{\"gridcolor\":\"rgb(232,232,232)\",\"linecolor\":\"rgb(36,36,36)\",\"showgrid\":false,\"showline\":true,\"ticks\":\"outside\"},\"baxis\":{\"gridcolor\":\"rgb(232,232,232)\",\"linecolor\":\"rgb(36,36,36)\",\"showgrid\":false,\"showline\":true,\"ticks\":\"outside\"},\"bgcolor\":\"white\",\"caxis\":{\"gridcolor\":\"rgb(232,232,232)\",\"linecolor\":\"rgb(36,36,36)\",\"showgrid\":false,\"showline\":true,\"ticks\":\"outside\"}},\"title\":{\"x\":0.5,\"xanchor\":\"center\"},\"xaxis\":{\"automargin\":true,\"gridcolor\":\"rgb(232,232,232)\",\"linecolor\":\"rgb(36,36,36)\",\"showgrid\":true,\"showline\":true,\"ticks\":\"outside\",\"title\":{\"standoff\":15},\"zeroline\":false,\"zerolinecolor\":\"rgb(36,36,36)\"},\"yaxis\":{\"automargin\":true,\"gridcolor\":\"rgb(232,232,232)\",\"linecolor\":\"rgb(36,36,36)\",\"showgrid\":true,\"showline\":true,\"ticks\":\"outside\",\"title\":{\"standoff\":15},\"zeroline\":false,\"zerolinecolor\":\"rgb(36,36,36)\"},\"autosize\":true,\"height\":400,\"margin\":{\"b\":30,\"l\":30,\"r\":30,\"t\":30},\"width\":600}},\"xaxis\":{\"anchor\":\"y\",\"domain\":[0.0,1.0],\"title\":{\"text\":\"0\"}},\"yaxis\":{\"anchor\":\"x\",\"domain\":[0.0,1.0],\"title\":{\"text\":\"probability\"},\"range\":[0,0.2]},\"legend\":{\"tracegroupgap\":0},\"title\":{\"text\":\"Empirical Distribution of the TVD\"},\"barmode\":\"relative\",\"shapes\":[{\"line\":{\"color\":\"red\",\"width\":1},\"opacity\":1,\"type\":\"line\",\"x0\":0.0030311228214282494,\"x1\":0.0030311228214282494,\"xref\":\"x\",\"y0\":0,\"y1\":1,\"yref\":\"y domain\"}],\"annotations\":[{\"showarrow\":false,\"text\":\"\\u003cspan style=\\\"color:red\\\"\\u003eObserved TVD = 0.0\\u003c\\u002fspan\\u003e\",\"x\":0.011061582489284974,\"y\":0.1675}]},                        {\"responsive\": true}                    ).then(function(){\n",
       "                            \n",
       "var gd = document.getElementById('a0448c5b-22c6-42eb-8bb4-c24da1de5aa5');\n",
       "var x = new MutationObserver(function (mutations, observer) {{\n",
       "        var display = window.getComputedStyle(gd).display;\n",
       "        if (!display || display === 'none') {{\n",
       "            console.log([gd, 'removed!']);\n",
       "            Plotly.purge(gd);\n",
       "            observer.disconnect();\n",
       "        }}\n",
       "}});\n",
       "\n",
       "// Listen for the removal of the full notebook cells\n",
       "var notebookContainer = gd.closest('#notebook-container');\n",
       "if (notebookContainer) {{\n",
       "    x.observe(notebookContainer, {childList: true});\n",
       "}}\n",
       "\n",
       "// Listen for the clearing of the current output cell\n",
       "var outputEl = gd.closest('.output');\n",
       "if (outputEl) {{\n",
       "    x.observe(outputEl, {childList: true});\n",
       "}}\n",
       "\n",
       "                        })                };                });            </script>        </div>"
      ]
     },
     "metadata": {},
     "output_type": "display_data"
    }
   ],
   "source": [
    "fig = px.histogram(pd.DataFrame(tvds_league), x=0, nbins=50, histnorm='probability', \n",
    "                   title='Empirical Distribution of the TVD')\n",
    "fig.add_vline(x=observed_tvd_league, line_color='red', line_width=1, opacity=1)\n",
    "fig.add_annotation(text=f'<span style=\"color:red\">Observed TVD = {round(observed_tvd_league, 2)}</span>',\n",
    "                   x=2.3 * observed_tvd_league, showarrow=False, y=0.16)\n",
    "fig.update_layout(yaxis_range=[0, 0.2])\n",
    "fig.layout.annotations[-1].update(x=fig.layout.annotations[-1].x +0.00409, y=fig.layout.annotations[-1].y + 0.0075)\n",
    "\n",
    "# Show the plot\n",
    "fig.show()\n",
    "fig.write_html('mar.html', include_plotlyjs='cdn')"
   ]
  },
  {
   "cell_type": "markdown",
   "metadata": {},
   "source": [
    "**conclusion**: MAR"
   ]
  },
  {
   "cell_type": "markdown",
   "metadata": {},
   "source": [
    "### **DoubleKills vs Towers: Missing at Random**\n",
    "\n",
    "- When DoubleKills is Missing"
   ]
  },
  {
   "cell_type": "code",
   "execution_count": 231,
   "metadata": {},
   "outputs": [
    {
     "data": {
      "text/html": [
       "<div>\n",
       "<style scoped>\n",
       "    .dataframe tbody tr th:only-of-type {\n",
       "        vertical-align: middle;\n",
       "    }\n",
       "\n",
       "    .dataframe tbody tr th {\n",
       "        vertical-align: top;\n",
       "    }\n",
       "\n",
       "    .dataframe thead th {\n",
       "        text-align: right;\n",
       "    }\n",
       "</style>\n",
       "<table border=\"1\" class=\"dataframe\">\n",
       "  <thead>\n",
       "    <tr style=\"text-align: right;\">\n",
       "      <th></th>\n",
       "      <th>double_missing = False</th>\n",
       "      <th>double_missing = True</th>\n",
       "    </tr>\n",
       "    <tr>\n",
       "      <th>towers</th>\n",
       "      <th></th>\n",
       "      <th></th>\n",
       "    </tr>\n",
       "  </thead>\n",
       "  <tbody>\n",
       "    <tr>\n",
       "      <th>0.0</th>\n",
       "      <td>0.05</td>\n",
       "      <td>0.04</td>\n",
       "    </tr>\n",
       "    <tr>\n",
       "      <th>1.0</th>\n",
       "      <td>0.08</td>\n",
       "      <td>0.09</td>\n",
       "    </tr>\n",
       "    <tr>\n",
       "      <th>2.0</th>\n",
       "      <td>0.11</td>\n",
       "      <td>0.11</td>\n",
       "    </tr>\n",
       "    <tr>\n",
       "      <th>...</th>\n",
       "      <td>...</td>\n",
       "      <td>...</td>\n",
       "    </tr>\n",
       "    <tr>\n",
       "      <th>9.0</th>\n",
       "      <td>0.14</td>\n",
       "      <td>0.15</td>\n",
       "    </tr>\n",
       "    <tr>\n",
       "      <th>10.0</th>\n",
       "      <td>0.12</td>\n",
       "      <td>0.13</td>\n",
       "    </tr>\n",
       "    <tr>\n",
       "      <th>11.0</th>\n",
       "      <td>0.11</td>\n",
       "      <td>0.09</td>\n",
       "    </tr>\n",
       "  </tbody>\n",
       "</table>\n",
       "<p>12 rows × 2 columns</p>\n",
       "</div>"
      ],
      "text/plain": [
       "        double_missing = False  double_missing = True\n",
       "towers                                               \n",
       "0.0                       0.05                   0.04\n",
       "1.0                       0.08                   0.09\n",
       "2.0                       0.11                   0.11\n",
       "...                        ...                    ...\n",
       "9.0                       0.14                   0.15\n",
       "10.0                      0.12                   0.13\n",
       "11.0                      0.11                   0.09\n",
       "\n",
       "[12 rows x 2 columns]"
      ]
     },
     "execution_count": 231,
     "metadata": {},
     "output_type": "execute_result"
    }
   ],
   "source": [
    "towers_double = teams_only[['towers', 'doublekills']]\n",
    "towers_double_dist = (\n",
    "    towers_double\n",
    "    .assign(double_missing=towers_double['doublekills'].isna())\n",
    "    .pivot_table(index='towers', columns='double_missing', aggfunc='size')\n",
    ")\n",
    "\n",
    "# Added just to make the resulting pivot table easier to read.\n",
    "towers_double_dist.columns = ['double_missing = False', 'double_missing = True']\n",
    "\n",
    "towers_double_dist = towers_double_dist / towers_double_dist.sum()\n",
    "towers_double_dist"
   ]
  },
  {
   "cell_type": "code",
   "execution_count": 232,
   "metadata": {},
   "outputs": [
    {
     "data": {
      "text/plain": [
       "0.03472890994914897"
      ]
     },
     "execution_count": 232,
     "metadata": {},
     "output_type": "execute_result"
    }
   ],
   "source": [
    "observed_tvd_tower = towers_double_dist.diff(axis=1).iloc[:, -1].abs().sum() / 2\n",
    "observed_tvd_tower"
   ]
  },
  {
   "cell_type": "code",
   "execution_count": 233,
   "metadata": {},
   "outputs": [],
   "source": [
    "#assign number of repetitions \n",
    "n_repetitions = 10_000\n",
    "\n",
    "#create copy of towers\n",
    "shuffled_towers = towers_double.copy()\n",
    "\n",
    "#create new column for shuffled missing values\n",
    "shuffled_towers= shuffled_towers.assign(double_missing=towers_double['doublekills'].isna())\n",
    "\n",
    "tvds_towers = []\n",
    "for _ in range(n_repetitions):\n",
    "    shuffled_towers['towers'] = np.random.permutation(shuffled_towers['towers'])\n",
    "    \n",
    "    #pivot the shuffled df\n",
    "    pivoted_towers = (\n",
    "        shuffled_towers\n",
    "        .pivot_table(index='towers', columns='double_missing', aggfunc='size')\n",
    "    )\n",
    "    \n",
    "    #get the proportion of each tower\n",
    "    pivoted_towers = pivoted_towers / pivoted_towers.sum()\n",
    "    \n",
    "    #calculate the TVD of the pivoted towers df\n",
    "    tvd = pivoted_towers.diff(axis=1).iloc[:, -1].abs().sum() / 2\n",
    "    tvds_towers.append(tvd)"
   ]
  },
  {
   "cell_type": "code",
   "execution_count": 234,
   "metadata": {},
   "outputs": [
    {
     "data": {
      "text/plain": [
       "0.0231"
      ]
     },
     "execution_count": 234,
     "metadata": {},
     "output_type": "execute_result"
    }
   ],
   "source": [
    "pval = (pd.Series(tvds_towers) >= observed_tvd_tower).mean()\n",
    "pval\n",
    "\n",
    "#Fail to Reject! "
   ]
  },
  {
   "cell_type": "code",
   "execution_count": 235,
   "metadata": {},
   "outputs": [
    {
     "data": {
      "text/html": [
       "<div>                            <div id=\"af5d60cb-1f07-4484-9d7c-15d3acab728e\" class=\"plotly-graph-div\" style=\"height:400px; width:600px;\"></div>            <script type=\"text/javascript\">                require([\"plotly\"], function(Plotly) {                    window.PLOTLYENV=window.PLOTLYENV || {};                                    if (document.getElementById(\"af5d60cb-1f07-4484-9d7c-15d3acab728e\")) {                    Plotly.newPlot(                        \"af5d60cb-1f07-4484-9d7c-15d3acab728e\",                        [{\"alignmentgroup\":\"True\",\"bingroup\":\"x\",\"histnorm\":\"probability\",\"hovertemplate\":\"0=%{x}\\u003cbr\\u003eprobability=%{y}\\u003cextra\\u003e\\u003c\\u002fextra\\u003e\",\"legendgroup\":\"\",\"marker\":{\"color\":\"#1F77B4\",\"pattern\":{\"shape\":\"\"}},\"name\":\"\",\"nbinsx\":50,\"offsetgroup\":\"\",\"orientation\":\"v\",\"showlegend\":false,\"x\":[0.029588497724813825,0.020138122661351954,0.020942715219993316,0.01787860080450137,0.016461357026340506,0.023621847237439497,0.021591549903246115,0.03534612098248216,0.023122225755630877,0.029997191154690787,0.02290415936560009,0.02125500882136215,0.02110257692781419,0.025090831491168544,0.02639947123326119,0.024122380682010794,0.025246401609517716,0.03136194342912591,0.02745895738408739,0.02582681226313109,0.019133032407079566,0.03149224681446043,0.019769984751982616,0.027149989764559124,0.030655708736689102,0.025321236200930512,0.027770848648943268,0.02321191997558944,0.022737216535150907,0.023404880567210788,0.03468282900719656,0.028195474604733897,0.013554073383605017,0.027982879991279498,0.027504796924132012,0.029361043482813688,0.01962517042974691,0.017650824693290837,0.02091390792566452,0.020482630006192756,0.022390080591758676,0.025832176749970716,0.016755733241664978,0.01965572118229857,0.019159237925291145,0.013807277162435377,0.020551563662081967,0.02295426367268219,0.01334518026606998,0.01651996404506341,0.016876005036609396,0.0264251134803546,0.03241075425114126,0.024910101929541545,0.016076052759084337,0.023259556618725308,0.03623941533101673,0.02495701436695407,0.01790000510699147,0.018518476794731977,0.02817138805882395,0.023074374533021427,0.029334864787036306,0.020847388288853158,0.02994499469774121,0.01953445695728882,0.0150657857750117,0.02715972630817305,0.027517778982283903,0.022256853561096586,0.027677989381749344,0.018170375243708632,0.023733562675874696,0.01941836946207931,0.0198030568133489,0.02506655718821925,0.015519460427038901,0.022841904495826224,0.02776221182513146,0.02134741210717471,0.022237997389855275,0.018928323589279428,0.029202630186439524,0.02865244841616746,0.029950868810830592,0.020546896558531487,0.017690226849127876,0.01671619697365693,0.025290604981076235,0.022174669622713496,0.026671048379517275,0.019348175151782793,0.020257455671099434,0.02729418717080826,0.016887377748709412,0.01608262425546287,0.022026878010281793,0.03659038688249929,0.01935807263000191,0.030973313180029178,0.01974074829870663,0.019311401594497152,0.01356828927373002,0.02320567034842127,0.02040417438616323,0.020818420059919164,0.029310429549481806,0.02772259508982082,0.01964676248927639,0.019946208144664336,0.016479944973239798,0.017217561913688405,0.03330627486171425,0.029052558667100978,0.03330748187125316,0.024096818902219996,0.02780056790603479,0.03403002460368246,0.0255724819420644,0.018707816357736603,0.020131551164973425,0.02927314636594642,0.01555355174090474,0.025130743273255353,0.028014771865541077,0.028390580991091104,0.021737624879889145,0.017313666695420327,0.020994938499377072,0.018592935872065987,0.022395176854256342,0.02573271916396406,0.03357672546573402,0.02000307170516436,0.01378249323323629,0.018845576379778198,0.02416822022205542,0.02126946611339494,0.034551667303967706,0.016649409112503594,0.01881931721669824,0.028142875811271346,0.024160736762914144,0.015634635959485672,0.02729861287245094,0.024634715997629338,0.01629543344839085,0.03421027136149389,0.019523030600320415,0.027140655557458176,0.024795087331699953,0.027252451463195985,0.02249728986124861,0.022991466388915006,0.019522360039465454,0.028890738921583642,0.025466694261586972,0.025638491952626026,0.022734882983375664,0.02478341957282379,0.013016551802274455,0.015575733893986575,0.02963833380755397,0.018517538009535046,0.015875260016677134,0.01631761560147271,0.024228785278474795,0.013248351278614717,0.033780066339390055,0.021076290942299993,0.018203313192903955,0.02755160207180772,0.029348651518214152,0.027040312831122924,0.02591489713703775,0.022638778201643776,0.02732707147513517,0.027981458402266984,0.024995263158120604,0.02283501113023728,0.02491442034144744,0.025064840552430547,0.03070946089482215,0.021800094329136595,0.016288379148196724,0.02800836130376773,0.025105047381293565,0.02591057872513186,0.029471793313617763,0.022052654369546197,0.02214382382338565,0.02986562711494894,0.017312835199960186,0.014654597858754361,0.0192746816820799,0.02010295845011821,0.01539605040729331,0.02183322003537129,0.020735538738246934,0.02307668126236247,0.01179956431783684,0.02990524385025959,0.026307228882053814,0.014767573951596896,0.016922354202903764,0.02042233317411537,0.01883785151872914,0.027855848942917143,0.021232773023411904,0.021424472960625957,0.016179453242918126,0.0340737183489912,0.016872947279110824,0.03368248632377724,0.015041538294496587,0.016424154310107658,0.0294340809711352,0.019625089962444286,0.030878656809743964,0.01896144929551414,0.025720193087193494,0.03221607702373121,0.01759771627357852,0.023001980783120657,0.01987856196561664,0.030301840362313148,0.025501000154926387,0.02051071309479821,0.03361618126643948,0.033659472675235266,0.02134411294776836,0.016368846450791133,0.021825656108927418,0.022935541613611873,0.023034328638763625,0.016391779632030534,0.024763651438819735,0.028492747642951777,0.024317352956197046,0.019248207939526356,0.025264292173127874,0.02215018074029061,0.019475769471263303,0.021326088271987235,0.015494220516458471,0.0227216327008818,0.03243411659132782,0.03608089474490578,0.014948571737565869,0.025376383125641867,0.026109923056092353,0.02354325750523895,0.025660593638405255,0.02366782088965507,0.014247406485192517,0.019226508590260077,0.0167640750187006,0.02397745907003832,0.019128579883002685,0.028689570665097665,0.020409565695437067,0.020743129487125027,0.02397568878938124,0.019742035775548162,0.01671641155313052,0.023543203860370558,0.026643287160122195,0.022537952671492986,0.02670197464614773,0.018527730534530357,0.020682591253139856,0.02158495158443339,0.02311077257622829,0.013289175023464269,0.026858429904825405,0.02455462420911371,0.022216539442496772,0.016522538998746436,0.024239085093206908,0.015991427979189225,0.03158062673514326,0.014926362762049821,0.025602979049747676,0.020641713863421875,0.01938256151242481,0.025742697109485735,0.01807743550921212,0.03237786994681435,0.01793626903802734,0.02802673467119343,0.016311687843514916,0.013210182954750769,0.02680880840155888,0.023043770135601348,0.026737085212513084,0.020879789789364486,0.02124213405294706,0.02137729229887144,0.02161558280428763,0.024751232651786012,0.021641895612236013,0.040685636135870014,0.026677458941290623,0.027584727778042432,0.022209914301249852,0.02817476768553292,0.022187732148167997,0.016311741488383318,0.03385213822008044,0.029244660940828,0.019710948574312527,0.02484237528319126,0.02032614792508087,0.022568154732400085,0.01747959027336995,0.022449411816204946,0.02054582366116356,0.027119412189573228,0.026553887986939844,0.030936110463796372,0.03454785851831156,0.01880663020532252,0.024586650195546265,0.027872022870738616,0.02684268513595113,0.015359598719218055,0.015549877067419577,0.013877605584902879,0.010009998330571684,0.018906758352184153,0.02459477739310833,0.025932975457687274,0.024480889337503062,0.02516343982054292,0.016128463795507475,0.020513744029862595,0.024272130332138993,0.025127283179243808,0.03782510399594187,0.018553989697610303,0.022588539782390664,0.016541368347553508,0.01779778481026239,0.02406774338354923,0.02215122681522432,0.016906475321858478,0.021285023125229854,0.016562531248135847,0.022404028257541724,0.021798806852295075,0.022793704581572156,0.02722568267386624,0.026873530935278965,0.029113445592730727,0.024209446303417956,0.020219823795919464,0.03949737547845858,0.03005534219203234,0.023821808484386548,0.02208317829966366,0.02990390272854966,0.024831217150564834,0.020970530084256797,0.022654040166702506,0.02776524276019586,0.0239186374718418,0.017170408074368086,0.016348971027050317,0.015031640816277485,0.018709237946749103,0.02305643032454288,0.019016971734304264,0.01691623868790659,0.026562632100488412,0.02306906369105019,0.026864733176861975,0.017557268042807765,0.026745534279285478,0.018389809577883567,0.027875053805802998,0.013857220534912298,0.026349447393481697,0.019405494693664198,0.031699906100022365,0.03437209110701123,0.018306418629961574,0.020593835818378203,0.028886554621848727,0.021818065360049335,0.01667550734097838,0.020993543732798766,0.03133343118157329,0.018322512090480428,0.036193495323669535,0.018906919286789343,0.0243149389371192,0.02897936024417428,0.014100660947694538,0.014160770022732567,0.03297654667811663,0.02974927139539745,0.012117866144466066,0.02681481662681926,0.02943974050475101,0.02406570487855015,0.01553882622452994,0.030816375117535908,0.01543295807674993,0.02453289803741324,0.0313202077215136,0.022993290314440466,0.027553372352464814,0.018069576535992064,0.02618298736684808,0.023104227902283954,0.02076844986500806,0.023873066156139197,0.027439537941727953,0.019329023933765316,0.018875081057396135,0.022649721754796598,0.019819847657156952,0.022257550944385723,0.020107330506892503,0.02684652074404146,0.028458414927178162,0.02268856063951548,0.027987198403185382,0.02784723894153957,0.019628737813495237,0.021942494632294463,0.03062644546097891,0.020595954790679882,0.020768396220139658,0.028116589825757196,0.020611914139027764,0.03023548166010697,0.023865582696997914,0.02050534860795858,0.019643034170922856,0.018639070458886783,0.013690492283936708,0.02482577219642262,0.027801157999587156,0.018720959350493685,0.014908847712518424,0.027998410180680205,0.018706046077079513,0.025603032694616078,0.02635486552518968,0.022571775761016835,0.015647376615729798,0.032875560213360674,0.019406218899387533,0.024344524082039742,0.017548041125443604,0.03054713152305507,0.026231294570838913,0.017626389455736337,0.01753441532887095,0.03580840563588696,0.024138340030358696,0.02771653321969203,0.020336474562247145,0.0259469767683387,0.027134861911671353,0.008234192252050196,0.014796703115136051,0.021235803958476313,0.022811970659261098,0.02385675811614671,0.023830740354974525,0.02135009435059454,0.01644040870523175,0.026781717743018768,0.017189666582122357,0.011164006739512112,0.019074639967830244,0.03068489154509668,0.03451819290608843,0.015302198710034036,0.02643337479008763,0.02369542117444495,0.020276311842340737,0.03769362042350264,0.021080099727956138,0.024412572597600376,0.015838459636957285,0.022122017184382572,0.030848240169363293,0.02346614300691933,0.021724911046079237,0.01953979462169423,0.016671349863677663,0.02291137460039936,0.012520578171516807,0.027683917139707116,0.02227487823687771,0.021724320952526868,0.018313124238511072,0.01504483745390296,0.018434951734639007,0.022352824230657486,0.018810358523676053,0.026286441495550254,0.028567528589496183,0.017724237695691127,0.02057809104950392,0.023995081409306472,0.02904561165664368,0.026442574885017597,0.015936146942306863,0.036546961361532515,0.01784577014504285,0.016673629770584494,0.024159449286072634,0.01829166629115258,0.016570390221355896,0.025758388233491657,0.01199450976958886,0.022106674752021223,0.022669865402879408,0.02000360815384834,0.023504767312164637,0.02771428013521942,0.02740670728226942,0.022640387547695644,0.03630542534157834,0.027591165162249992,0.018665624668742924,0.019245928032619517,0.02933309450637922,0.027060536946508326,0.01885904124174566,0.018676407287290593,0.031223915182742347,0.02150282129091869,0.012832281679333313,0.021109175246626907,0.032139042992714154,0.02531504021863072,0.019439612829964224,0.03188846781243522,0.019108543524656685,0.026665201088862087,0.017772410787510948,0.02254726005615973,0.026643072580648637,0.021667484214461033,0.02261289455264258,0.0200298941393625,0.02541366630917725,0.028470404555264728,0.023559860592007632,0.02155134307438311,0.026613487435728084,0.009884040179577254,0.026947078049850227,0.026470738440925623,0.01380298557296369,0.02256442641404655,0.032507261369386115,0.031117778810620313,0.019166345870353645,0.025313779564223426,0.015401173492225154,0.024868553978968633,0.023522926100116776,0.026854487006998294,0.016327647191862783,0.023124559307406117,0.01704007786659938,0.019538507144852724,0.016925975231520535,0.01917565325502041,0.025173015429551627,0.018924595270925895,0.01841129434767628,0.033490196293010845,0.021137875251218893,0.026150478576599932,0.01725819790149857,0.020914471196782677,0.021909959019612135,0.01874432169068025,0.018573891943785344,0.027546023005494517,0.023303706345415447,0.018170428888577027,0.018466763141597987,0.010395088018354261,0.027404588309967767,0.02184805284148286,0.010095776475137304,0.015049236333111442,0.01906136286290217,0.02228477571509683,0.02200957754022399,0.026809505784848024,0.01987392168450038,0.023700490614508407,0.02788267137711528,0.03726362998087239,0.027598782733562255,0.031444288302114154,0.025834644413916932,0.018627027185931812,0.030027098168821695,0.027901795772698555,0.016271507837086106,0.027962468118854722,0.02236905180334734,0.019622541831195488,0.021698839640038645,0.0177616818138317,0.02315733632199625,0.03650340172839474,0.02601105556363803,0.026201441201576393,0.023336671117044964,0.021723408989764124,0.0273426553094043,0.019196655220997554,0.04195278157225814,0.018957372285516014,0.02763880180538586,0.026468539001321397,0.03514817141809994,0.021038820001725217,0.0271356665846973,0.023594300597517992,0.024385616051231275,0.023880415503109462,0.02412436554214148,0.027035162923756906,0.022354594511314566,0.01690245195672877,0.019125629415240892,0.014636895052183577,0.029339129554073827,0.029654239511033485,0.016026699480159768,0.02777409416348125,0.017274049960109686,0.02755900506364642,0.01771302591819629,0.019907315615077047,0.02463718366157555,0.02862152214953701,0.020283768479047816,0.0189273043367799,0.022743546629621653,0.018191886835935544,0.021082433279731395,0.02262016343231026,0.025877774888107538,0.023593951905873434,0.014528478773154723,0.024906695480398384,0.019595585284826363,0.01833042470856889,0.02824729554760466,0.01587442852121697,0.028087165615441827,0.01827393666214763,0.026929133841371706,0.03145600970585876,0.022664500916039786,0.01426757695570953,0.02979178495360147,0.01769658376603285,0.021840569382341572,0.014912871077648162,0.018343916392970554,0.014290805183725093,0.016231461942828315,0.023045459948955856,0.01386368474155405,0.02084006576431706,0.030369781588137024,0.017516953924207955,0.024353160905851545,0.032331252556178,0.015919812079880205,0.014173027875161079,0.019302201499567195,0.01764519198210923,0.02004711414211773,0.01873522888548707,0.029793099252877202,0.030248249138785294,0.02229689945535438,0.029216604674656747,0.02170527702424619,0.017367633433026976,0.03502213279980293,0.012848294672549594,0.01441968698004711,0.02719609752894568,0.02128888555575439,0.02321739175216584,0.024085580302290986,0.017815407149530553,0.026135940817264548,0.024606767021194874,0.011939470134614282,0.014872396024443176,0.024413699139836733,0.027513862906890958,0.022502654348088222,0.025308254142778618,0.024397766613923025,0.015713306158988798,0.019054228095405464,0.019269102615766698,0.01627933998787196,0.020955777745447796,0.028805872739780764,0.03232433236815486,0.031098305723392478,0.014495084842578058,0.017994956524052877,0.021125456464185195,0.023504499087822664,0.029844732438708593,0.025758790570004624,0.020304555865551376,0.02545717229744663,0.018042700456925534,0.030040804432696924,0.02111322543419085,0.024314643890343032,0.020429038782664884,0.015827462438936048,0.010513294485865432,0.021854382935953605,0.02542029145042418,0.018251942266105155,0.03832198958946225,0.03148811615959391,0.02353861722412269,0.018923039569742405,0.02095596550248719,0.015287526838527653,0.022662301476435543,0.02276932298888608,0.029833091502266613,0.029757049901314895,0.0281722195542841,0.01603724069679962,0.02550311912722803,0.014259610692752672,0.019463297039361168,0.026767716432367326,0.02631194963047269,0.02056934693595531,0.018813389458740448,0.021732957776338643,0.02750039804492351,0.02147339708060334,0.01500742015819658,0.03370635829021361,0.024779744899338613,0.022753149061064588,0.027154013129688858,0.016594905926212992,0.0205151656188751,0.031361943429125905,0.01715817704437375,0.022735929058309404,0.021729497682327105,0.02711305527266827,0.021886221165346796,0.019076973519605488,0.03314888081783962,0.028191665819077748,0.022970571712674637,0.01858145587022922,0.030100537993656175,0.029678647926153757,0.026202487276510117,0.027509732252024462,0.017299906786676665,0.02688718355428582,0.023700571081811013,0.024841731544770516,0.0313278521152601,0.018665597846308724,0.019328970288896945,0.02979486953353428,0.02911414297601988,0.019211058868161934,0.03507033271405696,0.031107693575361823,0.02429058416686731,0.022565392021677663,0.01675039557725956,0.018405607991626244,0.019911043933430576,0.01890694610922354,0.02676028661809446,0.016427694871421844,0.026323724679085662,0.0193206553342955,0.023697191455102032,0.027885782779482275,0.017711362927276018,0.02630395654508164,0.022803467947620292,0.03271119233659451,0.03190794089966307,0.02844336754159301,0.0230658718213806,0.028849298260747558,0.027958444753724998,0.019247993360052795,0.029655526987874974,0.03140142605226555,0.018492056697046844,0.035407839403572054,0.015985822090441797,0.02058417974206688,0.014861372003987745,0.021651256641771158,0.014215568255799334,0.01716273685818743,0.018822374974196802,0.021363532390127803,0.02005744077928398,0.021082889261112764,0.03479467855780275,0.022962712739454605,0.026719972499494676,0.025859347875813423,0.02482995649615754,0.017828684254458653,0.014866977892735144,0.01924284345268673,0.02517870178560163,0.021395665666297164,0.01999269142312969,0.027501819633935998,0.02868385748661348,0.016043356211796818,0.026252618406026405,0.020437514671871507,0.024049879642373276,0.02368630154681759,0.032503747630506175,0.014171767220753775,0.025233741420576196,0.019253626071234382,0.02494250343005288,0.02089920923172394,0.029996681528441007,0.024116962550302788,0.02309787098537898,0.027088861437021564,0.016204907732972146,0.01961626538159311,0.023394983088991683,0.026187118021714605,0.02722469024380091,0.02626136251957501,0.018457375289628635,0.027838897164503915,0.018446914540291362,0.02128671293858433,0.018813684505516626,0.02517414197178796,0.0291401339147579,0.030572210499030313,0.03325676064818451,0.031051420108414142,0.020081795549535875,0.018470571927254126,0.03013261762495715,0.02718845313519922,0.018694405140637523,0.0277357380825779,0.023997978232199874,0.02239574012537448,0.03554551895831106,0.01913026969635718,0.032151274022708516,0.025654263543934512,0.020176049583308125,0.027582233291662,0.022757252893496917,0.021448666796272678,0.020964387746825415,0.025586134561071245,0.019138101847143027,0.022093370824658957,0.022754221958432522,0.029009428192910375,0.02511419383135511,0.024352946326377967,0.025279634605489185,0.030008885736001176,0.017496837098559363,0.0178363822930735,0.027446163082974886,0.020846878662603395,0.024239246027812085,0.02979486953353426,0.019109240907945833,0.019867081963779835,0.020263034737412665,0.02223236467867369,0.014439508758919528,0.028697563750488687,0.01967331669913254,0.025570148390289166,0.028423465295418004,0.021271450973525622,0.022378386010448316,0.01842872892990505,0.019738790261010185,0.024035663752248256,0.025313484517447252,0.027168068085208656,0.020303831659828013,0.028188205725066202,0.017947641750127342,0.026388071698726995,0.021311630979954435,0.019028800427785635,0.020104728730775283,0.016960066545386336,0.032816175344045996,0.022974595077804378,0.016735535948713784,0.03338161907937682,0.01753412028209475,0.028996097443113905,0.027720154248308794,0.022711440175886513,0.02733455493427643,0.017691326568929983,0.01683679063781174,0.0282756736829863,0.024486602515987242,0.025026752695869223,0.022142053542728562,0.03520575918432335,0.016217004650795508,0.018667931398083967,0.02483894201161391,0.02383283250484198,0.01746470382238998,0.019099853055976498,0.021309243783310783,0.017014596554111132,0.029924582825316435,0.026001855468708097,0.023244026429324598,0.02140003772307146,0.021733521047456822,0.0231536080036427,0.021541043259651046,0.0314079707262099,0.017327131557387746,0.023271787648719663,0.022650767829730325,0.023454850762121927,0.02645295516705226,0.022156725414234954,0.023820762409452814,0.021362486315194065,0.023404665987737217,0.014421779129914564,0.021687842442017418,0.01487108172516745,0.030334966068547835,0.021650961594994984,0.020677709570115763,0.018398339111958557,0.029604752119937915,0.02561293017283519,0.028191236660130573,0.01221997915145836,0.023911529526779295,0.025855592735025683,0.03556204157777712,0.02325934203925173,0.01895919621104148,0.012442793112342242,0.013204147907056188,0.01791199473507802,0.030957058784905123,0.02069267648839832,0.022658707270252987,0.029064494650319146,0.019391171513802395,0.023654919298805782,0.03184421079600831,0.026828630180431308,0.025670544761492775,0.025404278457207913,0.026721876892322735,0.014024699814045435,0.016655390515329778,0.026260906538193636,0.026092837165508143,0.012045713796473085,0.025382176771428663,0.022431333495555414,0.03313069520745329,0.029822630752929326,0.020688304431624026,0.019508170971774652,0.012809053451317706,0.029592521089943584,0.027492083090322087,0.019240348966306296,0.030571915452254142,0.027288929973705432,0.01148048464061585,0.028532981294248964,0.022230594398016605,0.017271877342939633,0.02917578092980721,0.03302010631125439,0.02012098312589935,0.017649483571580925,0.020477399631524146,0.021323164626659598,0.02451071588433136,0.01649491189152235,0.021134602914246754,0.037373494671347936,0.021969290244058415,0.019320574866992908,0.011681277383023075,0.029980158908974944,0.02414075404943656,0.0202540760443905,0.02221543972269464,0.023389538134849456,0.021634170751186947,0.026444237875937866,0.01250392143987977,0.02464783216795221,0.02019144566053785,0.028666074212740103,0.02515348869745538,0.013720157896159834,0.02724866949997405,0.020919540636846132,0.014958683795258547,0.027811082300240444,0.03057322975152986,0.027408906721873676,0.030859693348765885,0.03525977956679837,0.033426090675277326,0.030540130867729352,0.013930928584088767,0.02775199247770197,0.025744386922840225,0.03304864538124121,0.01964882781670966,0.03953036707252229,0.028547170361939787,0.025087451864459584,0.024057228989343565,0.020870831096342322,0.028304507799749294,0.019327200008239856,0.024184447794745295,0.03168158637746504,0.03083311231647555,0.03207770008570305,0.02241735900733819,0.018080198219934528,0.02169594281714525,0.030573551620740227,0.01628159307234462,0.025034638491523473,0.015846077208269554,0.019854421774838347,0.02231905478600204,0.03168767507002803,0.030326275599867666,0.025239347309323604,0.026034793417903414,0.02749385337097917,0.02697875534463824,0.03081736754760124,0.023433339169895002,0.02553109492609667,0.025106790839516453,0.019697725114252853,0.03011070369621728,0.023337931771452256,0.014685738704858387,0.01687879456976601,0.022803172900844118,0.025610596621059946,0.019076410248487313,0.014682761414662389,0.018752743935018454,0.018683917568866074,0.02345359010771462,0.026119605954837897,0.031806283874052155,0.0130531644249549,0.01977808512711046,0.0256744608368857,0.027578156281663897,0.023908015787899355,0.023090950797355847,0.02516040888547852,0.0220799059626915,0.03373318072441172,0.02431705790942086,0.021044023553959665,0.0301993250188079,0.026978969924111834,0.0260720229565704,0.022771549250924512,0.025378475275509325,0.02798746662752738,0.02173003413101107,0.02947401957565622,0.02422449368900311,0.014944441082699357,0.029342509180782787,0.0258352076850351,0.022962551804849414,0.024053044689608654,0.024211002004601453,0.019397796655049353,0.02887585247060368,0.020509720664732882,0.025949444432284953,0.022260313655108128,0.02663277276591655,0.02905553595729697,0.016450896277003215,0.02361315676875929,0.02410065451031035,0.01911460539478546,0.01660630546074718,0.024606767021194874,0.012827614575782836,0.021293418547133895,0.02803504962579486,0.02452420756873302,0.022534599867218237,0.019686513336758013,0.01600441003734112,0.02919216943710226,0.017434126247404112,0.024739564892909814,0.03283299301028823,0.01642986748859189,0.02488239435501486,0.03465828647990528,0.022465719856197428,0.02331424756205531,0.016598151440750962,0.016355301121521067,0.015282081884385434,0.02353738339214959,0.018386832287687546,0.024184260037705917,0.02835010593788611,0.03061560919756289,0.0199924500212219,0.0205754624509525,0.030197286513808826,0.028188795818618544,0.025841564601940065,0.03745074328183854,0.01348484468093963,0.03172981311415329,0.02225983085129257,0.017279548559120294,0.02104219962843419,0.020618110121327526,0.02503670381895674,0.018955146023477556,0.02129304303305509,0.0224688312585644,0.02872755123192221,0.016622130696924087,0.024266068462010196,0.027435434109295612,0.029357341986894353,0.02064487891065728,0.026819725132277525,0.02084081679247459,0.018782945995925567,0.019588504162198046,0.021983211087407244,0.03364372790636097,0.022037553339092644,0.016256272694461577,0.02325454082353027,0.01563836427783922,0.014964826132689934,0.027879157638235327,0.023820869699189624,0.028527670452277748,0.01490294677699483,0.014962814450125083,0.03176441405426886,0.02111979693056938,0.01689891139541462,0.03019932501880788,0.019283023459115534,0.020343877554085822,0.024443793911007025,0.018529313058148034,0.01905535463764179,0.02557183820364365,0.017601122722721692,0.034740604530459344,0.022208144020592763,0.031357920063996195,0.023837204561616282,0.02912079493970103,0.02167207085070891,0.030756561089274083,0.02881622619938124,0.026224588962289387,0.02370692799871595,0.021727727401670033,0.0356943030008081,0.02384082559023304,0.019990143291880882,0.01782798687116948,0.02782916062088999,0.024105160679255604,0.027444768316396577,0.02181401517248542,0.019578231169900158,0.02135588799638132,0.011848461615380017,0.02912433550101517,0.023252234094189222,0.02222249402288879,0.034974522979101266,0.01935171571309692,0.022422187045493848,0.026226895691630406,0.018616620081462948,0.022413550221682045,0.026020470238041583,0.023127590242470505,0.02320534847921089,0.0217926108699953,0.02002847255035,0.02275046681764477,0.0236474358396645,0.024735273303438103,0.026164667644290745,0.0232554796087272,0.03176406536262432,0.01702178496647626,0.016380380097496344,0.011474342303184486,0.022881708988176236,0.01423941339980146,0.022274583190101515,0.020449209253181902,0.026033237716719906,0.031623918143939035,0.03239621649180585,0.012286042806888334,0.025934343401831414,0.01769129974649581,0.030026347140664142,0.023346058969014295,0.024116613858658216,0.03209344485457735,0.030439117580539198,0.025547966237207308,0.017170569008973284,0.0295529579995013,0.019311240659891964,0.031622791601702734,0.015783527291719515,0.022590900156600112,0.01689545130140305,0.023611118263760226,0.02036702531479881,0.026357842815385685,0.030332498404601616,0.027817439217145416,0.021266649757804162,0.018656129527036804,0.021757527126064158,0.027800406971429593,0.021592595978179828,0.023431917580882512,0.016548717694523818,0.03704052097321234,0.025448374539029643,0.024159154239296453,0.02879181778426094,0.025511809595908225,0.019197003912642126,0.01967304847479056,0.023504499087822664,0.02589810629322971,0.014247969756310675,0.0201906946323803,0.021482999512046283,0.01620702670527381,0.02521767478249152,0.01686047484720868,0.015687100640777225,0.0262688459787163,0.020886629510085006,0.023038781162840506,0.018030013445549824,0.019223745879537672,0.020830141463663757,0.025536030253989157,0.02231744543995016,0.022342148901846624,0.015232943184934464,0.009949272339547129,0.022626064367833848,0.024780308170456795,0.022600878102121816,0.016255414376567225,0.02030069343502683,0.024520050091432315,0.03166881889878673,0.026862694671862947,0.017103781147819935,0.017173653588906067,0.022035058852712206,0.021772789091122898,0.0212315123690046,0.025056176906184564,0.024640643755587107,0.02290517861809959,0.03937029078522783,0.028544085782006998,0.023103745098468385,0.02324359727037742,0.01951621770203408,0.022649802222099218,0.028979387066608485,0.02228686786496429,0.0315674032750836,0.03623606252674196,0.018705134114316797,0.024172538633961356,0.01745432354035531,0.016455590202987876,0.018237377684335566,0.01828332451411696,0.027498144960450853,0.021131089175366782,0.02077810594131937,0.020060391247045783,0.018925534056122836,0.01999668796582521,0.022713693260359144,0.0334420500236252,0.019626082392509625,0.0193450637494158,0.02389213690685405,0.02927652599265536,0.024390175865044966,0.02033320222527497,0.029974713954832748,0.03261205661979823,0.022816235426298605,0.025875790027976873,0.02176804152026983,0.02200710987627775,0.01339944205045278,0.026632933700521732,0.027967832605694347,0.03233331788361124,0.024176615643959436,0.0170856760047362,0.02901948660573469,0.02528998806508967,0.018363416302632593,0.0324892098711708,0.028115195059178862,0.020650672556444066,0.023938030091767058,0.03179308723642666,0.02601545444284655,0.022071510540787473,0.017254710985052824,0.023673051264323723,0.026052657159079347,0.025580796896665835,0.02908619399958543,0.03141422035337807,0.022391636292942198,0.032589606242374385,0.018268277128531806,0.028515090730638806,0.030918032143146815,0.03117230881934511,0.02563361026960194,0.013359932604878944,0.021563842328719454,0.035010465040926746,0.033041296034270924,0.021908322851126052,0.031172308819345098,0.01907469361269864,0.02675395652362372,0.030157911180405977,0.022381685169854674,0.019161303252724422,0.02099453616286412,0.01878061244415033,0.027082960501497968,0.027430767005745135,0.02429997201883665,0.01434305528554307,0.022540152111097243,0.03201933446888792,0.01787650865463391,0.01660963144258776,0.024558459817204045,0.02110721720893046,0.02053091038774941,0.024618863939018236,0.016452907959568087,0.026567969764893846,0.020973078215505595,0.020666229568278977,0.02035659138789575,0.02034704260132121,0.018179038889954632,0.022974460965633374,0.025907333210593887,0.016129509870441212,0.018850940866617812,0.019873009721737632,0.03286032507073613,0.013333727086667363,0.0182012210430365,0.020478606641063032,0.018302153862924053,0.026415216002135495,0.019105190720381915,0.022077867457692454,0.02226546356247418,0.023564232648781894,0.038147509655003416,0.020781861082107125,0.02232380235685511,0.016660325843222235,0.020294658387332243,0.034027959276249194,0.018202481697443797,0.014718971700829869,0.02135532472526317,0.02749610645545179,0.028162268431196603,0.027624800494734432,0.02454872327359013,0.024188283402835634,0.01453159017552173,0.028732459737380485,0.02107368916618281,0.01979254241914323,0.013750440424369528,0.018412501357215155,0.024504358967426403,0.018654144666906132,0.024699277596744226,0.02710004639208218,0.03701474461394792,0.039092732236145566,0.025392127894516163,0.02528041245608096,0.019272562709778243,0.023079658552558457,0.031426987832056365,0.023219537546901703,0.015978150874261153,0.03427260669857035,0.020464766265016796,0.015138447749254455,0.0257116367306843,0.02833937696420684,0.023123781456814388,0.0317652187272948,0.02827242816844831,0.025926699008084933,0.01254265303486188,0.029350690023213215,0.019283425795628518,0.02598755911128048,0.03372985474257114,0.026034176501916848,0.027016896846067978,0.022873340388706427,0.019844068315237842,0.020626451898363145,0.021492172784542025,0.013206910617778603,0.020432069717729286,0.02389516784191845,0.03095705878490511,0.02814110553061428,0.030712572297189142,0.022396947134913404,0.021655816455584835,0.02180870433051417,0.022554207066617066,0.029904465999667833,0.016839875217744514,0.01806544588112556,0.02348548198197618,0.025135624956279443,0.02502157596606898,0.028252794146615287,0.024831217150564827,0.030464679360329993,0.02988434917401922,0.015553766320378302,0.030459422163227178,0.018668199622425954,0.025137234302331307,0.019785380829212343,0.021483482315861835,0.024676880864188795,0.03548318362123462,0.017501960183491188,0.023543042925765353,0.021563064478127694,0.02712863910693739,0.018194220387710784,0.01566011727197389,0.029029357261519596,0.015685303537685942,0.02288575917574016,0.01891893573731008,0.014878350604835161,0.01298769086307729,0.019687881280902136,0.02516038206304431,0.019073057444212546,0.0245074703697934,0.01571309157951522,0.021468193528368918,0.022425191158124032,0.027950210266426176,0.02511937056115536,0.018191886835935523,0.030356370371037944,0.02318083277435381,0.018828141797549415,0.02762230600835401,0.03562751513965474,0.014105757210192178,0.021719331979766013,0.027556751979173767,0.013090608543095487,0.019830227939191633,0.015376389563026055,0.022445656675417237,0.01609895911788954,0.0294070976023319,0.028142312540153175,0.017439919893190922,0.01834962957145475,0.029855595524558836,0.01879319216578926,0.019176645685085744,0.015182731588115568,0.017571322998327574,0.02935956824893279,0.02243267461726533,0.030595143680269735,0.015059455680540942,0.024618434780071065,0.014408716604460093,0.020082868446903813,0.02073502911199719,0.017948661002626903,0.02796976382095661,0.025725825798375106,0.02288605422251635,0.02459657449619959,0.027422961677393477,0.018697784767346487,0.02117979871587059,0.024673072078532653,0.022674210637219496,0.021691570760370954,0.030011299755078977,0.018389112194594413,0.023702529119507453,0.03188366659671377,0.018926499663753947,0.031170028912438273,0.023992613745360276,0.02786864324402965,0.030890458680791148,0.01960470491245373,0.03507880860326357,0.02779509612945838,0.024299918373968263,0.024858146874499755,0.022796601404465558,0.023675036124454388,0.026490157883285077,0.019118280068270606,0.02674880661625765,0.01441797034425843,0.02475565835342872,0.02114104029845429,0.01391156278659771,0.019040763233438,0.008320989649115346,0.02129714686548742,0.02328608400614727,0.017721662742008086,0.02454553140392054,0.025489064171708195,0.021075030287892697,0.020730174251407323,0.018870950402529646,0.01667129621880926,0.02681465569221407,0.025688193923195133,0.023398818697082005,0.019682650906233487,0.011755870572528072,0.04092392664128622,0.03364378155122936,0.02180411769426631,0.016758817821597778,0.027798287999127945,0.01934377627257429,0.020446446542459484,0.027394851766353874,0.023754108660470466,0.020544938520835047,0.02416355311850496,0.02833803584249695,0.02900513660343867,0.029986864517524504,0.024144777414566262,0.014760197782192416,0.02469729273661358,0.028817299096749155,0.02336633672926807,0.020543409642085737,0.02871633945442742,0.02346828880165519,0.029728644943499086,0.022893886373302197,0.021367770334731098,0.020047731058104257,0.012517064432636858,0.022390026946890296,0.02390603092776869,0.01837232135078637,0.029105988956023673,0.028986495011670978,0.02852796549905392,0.020046389936394345,0.02340037439826552,0.014511473349873124,0.020261479036229157,0.03022740810741334,0.030122559212132832,0.0193926467476833,0.02289042627929063,0.019649578844867198,0.0304302661772538,0.021854651160295575,0.02204935521013983,0.017095439370784324,0.01914107913733902,0.021162954227194157,0.023615651255139695,0.02919343009150958,0.019818908871959993,0.028914396308546413,0.01411648618387143,0.022279464873125616,0.02555606661233516,0.01902322136147242,0.029903902728549654,0.03014750407593709,0.029825688510427925,0.019383258895713934,0.027746332944086172,0.015899587964494817,0.029326174318356116,0.022891633288829535,0.019260653548994283,0.01621040633198275,0.0299481061001082,0.025636668027100525,0.029627765768479905,0.021719627026542197,0.02583037964687943,0.02274539737758134,0.020242569220119494,0.02985243047732348,0.019811720459594895,0.015427888636686485,0.020766116313232795,0.020215934542960744,0.01522277748237337,0.02067926527129927,0.01902139743594694,0.02790589960513086,0.025481741647172124,0.02800001952673209,0.011754636740554977,0.01335258325790866,0.017266378743929015,0.014945835849277644,0.02608344931353882,0.019626082392509646,0.020323546148963652,0.025258471704906874,0.025069132141902265,0.018582501945162935,0.02296075470175813,0.025022648863436907,0.025214348800650956,0.025501080622228972,0.03420166136011629,0.021748031984358,0.019173480637850366,0.020069215827896954,0.020525250854133585,0.020128010603659277,0.023965630376556933,0.03208293046037168,0.025045367465202695,0.02332658588178646,0.01994733468690065,0.03205283568920137,0.02829249134922853,0.02678777961314754,0.013384421487301814,0.026866208410742887,0.020786742765131185,0.01737503642486562,0.01742540895628972,0.026739204184814704,0.02035758381796108,0.028134990015617117,0.022366369559927553,0.014867514341419107,0.03707919892332605,0.022981568910695888,0.021668369354789555,0.012534364902694635,0.029966157598323537,0.03445518700815702,0.028120425433847504,0.025720005330154123,0.022625018292900118,0.029747983918555942,0.021397891928335612,0.022131458681220326,0.022582021930880526,0.03386595177369247,0.01666606584414063,0.022883720670741098,0.020913478766717362,0.01960371248238839,0.026445552175213584,0.02798153886956959,0.019968953568864356,0.01793087772875354,0.013305751287798696,0.02828315714212757,0.014465043716276141,0.021371847344729217,0.023183434550471022,0.03368954062397135,0.020119776116360448,0.013896461756144158,0.026031601548233817,0.019639198562832513,0.024635145156576506,0.013933208490995603,0.023078612477624723,0.026253905882867926,0.022974380498330782,0.030252835775033148,0.017407169701035008,0.026876508225474945,0.020123450789845596,0.020218133982564987,0.018004558955495784,0.018198243752840515,0.02678273699551829,0.02834782603097926,0.01853258539512019,0.020922812973818285,0.023238501007879782,0.027609002080991724,0.024362200066176315,0.023240566335313063,0.023647462662098696,0.019867779347068994,0.027989290553052857,0.03210572952944008,0.021464948013830934,0.019391949364394142,0.030527363389051022,0.023991031221742575,0.01764546020645122,0.015240614401115122,0.018146932436219475,0.019426067500694155,0.018496348286518527,0.02416505517482005,0.02389417541185311,0.022088596431371697,0.02100612345443769,0.019037839588110398,0.016011222935627446,0.021581357378250815,0.022754999809024276,0.025496789032757258,0.016859455594709166,0.020862274739833136,0.0373510711163583,0.021108638797942975,0.023207628386117743,0.027886989789021155,0.026319728136390157,0.02919444934400909,0.02009458985064838,0.022563299871810223,0.0198417079410284,0.027443078503042086,0.01826087413669314,0.023670020329259328,0.028524451760173965,0.012826139341901936,0.028367486875246498,0.01607323640349354,0.032977244061405786,0.02810183748694818,0.029534209117996826,0.031139773206662787,0.026432757874101077,0.025582889046533275,0.0237996263313047,0.02850318156985486,0.010749814710624566,0.020969752233665026,0.020312522128508217,0.015523564259471209,0.022177003174488733,0.02485227276141038,0.026587094160477123,0.025101211773203243,0.01896595546445941,0.020585279461869027,0.019582388647200875,0.017417549983069675,0.02162148373981123,0.022058957641582753,0.015428773777015006,0.026047990055528873,0.01935775076079152,0.027915931195520945,0.024021340572386446,0.023052406959413144,0.03506067663774566,0.025171352438631327,0.02442099484193861,0.021870422751604113,0.022831792438133533,0.02656231023127805,0.022880367866466342,0.018423927714183563,0.025998368552262348,0.018989264159777572,0.016472032355151343,0.02105590589230943,0.026018217153568952,0.02756868796239194,0.02102843971969056,0.020742968552519822,0.025210593659863216,0.022108901014059677,0.019226508590260073,0.0208940056794895,0.025264292173127867,0.01779352004322489,0.023911288124871533,0.028875772003301076,0.02568076410892226,0.022293063847264045,0.031563272620217075,0.02395897841287577,0.022880126464558552,0.030645355277088622,0.01638448392992864,0.014609107010354323,0.02913662017587794,0.018005578207995317,0.02344017889061554,0.026598976498826893,0.029871367115867332,0.015070345588825392,0.026019477807976255,0.028336050982366294,0.025698842429571784,0.021610567009092592,0.02917438616322888,0.012904648606799853,0.019978341420833698,0.01819188683593555,0.015840068983009166,0.013083715177506582,0.014390933330586712,0.01660533985311608,0.01962897921540303,0.027919954560650672,0.017863928932994995,0.0229942290996374,0.018808078616769214,0.02763499301972973,0.016126881271889777,0.01830655274213255,0.02730808119172292,0.022481759671847915,0.025104484110175396,0.020375367091834413,0.024240989486034946,0.014463058856145516,0.02039017307551179,0.02122105161966733,0.023367382804201815,0.02911620830345311,0.020312683063113405,0.01634639607336729,0.029670252504249733,0.024405974278787667,0.027034519185336156,0.030953410933854154,0.033965328892396555,0.02844492324277651,0.02677766755545484,0.02132016051402942,0.026687275952207136,0.018567722783919754,0.015588286793191313,0.027530492816093818,0.012210081673239241,0.01999287918016908,0.020630877600005842,0.018591514283053494,0.0333618509453728,0.027589126657250926,0.013414516258472132,0.018237645908677554,0.021697847209973302,0.014198670122254503,0.018646205226383494,0.019810164758411415,0.02204935521013983,0.02816178562738103,0.020932200825787645,0.02757284543969264,0.021059929257439144,0.01350740234810025,0.02062492301961385,0.02069908705017169,0.018078910743093018,0.023249954187282394,0.013525373379013017,0.02364759677426969,0.037464717770055764,0.019037651831071027,0.02703411684882319,0.02267091147781313,0.02451278121176463,0.026877500655540294,0.01792712258796579,0.03100539281133015,0.022326833291919507,0.028001011956797432,0.037259043344624494,0.0263220348657312,0.01854755231340277,0.02475050844606267,0.03476050677663435,0.016685109772421304,0.027234051273336064,0.016410662625706025,0.027160477336330584,0.024588474121071752,0.02819370432407681,0.023955893832942998,0.022482617989742253,0.021705035622338407,0.01695239532920569,0.017317985107326222,0.021073689166182775,0.015111678959924707,0.0251359468254898,0.02658462649653088,0.014663341972302945,0.017634436185995788,0.025530182963333953,0.01775553947640033,0.0215689385912171,0.01686554428727214,0.030744705573358518,0.033815981578781344,0.020651879565982974,0.022062042221515542,0.01910470791656634,0.02552310184070564,0.02724789164938228,0.017934391467633475,0.013998226071491884,0.01703583992199607,0.024320330246393018,0.02011189032070619,0.013807303984869575,0.023182468942839908,0.021890915091331474,0.026707580534895123,0.023446187115875913,0.012121192126306631,0.029715180081531626,0.020063744051320567,0.02227925029365202,0.03124274453154939,0.01767322142584627,0.03229453264376072,0.02892378416051574,0.024288545661868232,0.016438423845101083,0.02279536757249246,0.01804299550370174,0.018034224567718922,0.019068014826583306,0.017380454556573673,0.02843652782087249,0.019793293447300783,0.021061967762438218,0.02120267825224162,0.026346389635983083,0.017969984837814392,0.012364793473694052,0.019383205250845553,0.013153802198066299,0.01825191544367096,0.019888593556006737,0.020312978109889565,0.03197086633029188,0.023436718796604,0.027011961518175535,0.01793087772875354,0.03184214546857505,0.022815940379522427,0.028277363496340788,0.027878594367117156,0.02706490900328266,0.022542002859056897,0.0205897319859459,0.017575292718588893,0.023316420179225365,0.01968152436399717,0.02075270509613377,0.024946526795182604,0.015077507178756293,0.02887920527487846,0.020837142118989474,0.021080099727956145,0.017294274075495063,0.02336880439321431,0.015903772264229725,0.019874189908842356,0.016449152818780347,0.013603909466345149,0.02035213886381885,0.020054329376916993,0.02682659167543225,0.023426553094042873,0.01708446899519727,0.016876756064766955,0.03562928542031184,0.022610534178433124,0.022723429803973058,0.0297716681279529,0.018308108443316044,0.022304946185613822,0.022389114984127538,0.01893497555296058,0.028208161616109607,0.03138412558220777,0.021318685280148533,0.022286438706017115,0.0323923808837155,0.029771373081176732,0.03160991683328762,0.02146698651882998,0.02649557601499309,0.020613738064553227,0.012078034829681852,0.01900734248042714,0.021348055845595487,0.026593370610079506,0.02889752499743576,0.02305964901664663,0.017948634180192696,0.03186255734099984,0.022779703270920743,0.013117430977293624,0.03560039765868045,0.020190667809946106,0.02294146937156967,0.016912912706066045,0.025159335988110564,0.019801983915980974,0.022074595120720263,0.021558477841879812,0.017112310681894935,0.016001861906092305,0.026511052559525412,0.02192358481618478,0.022482591167308053,0.021472324183235428,0.029606495578160787,0.019898303277186474,0.02745206401849848,0.02841380921910669,0.024138071806016726,0.015192092617650716,0.01534275423054162,0.0342647745477845,0.020549498334648697,0.023157819125811822,0.021059902435004947,0.015317299740487568,0.019410242264517263,0.0196239097753396,0.01872034243450712,0.02003187899949316,0.02102221691495658,0.025077447096503683,0.020425927380297908,0.017909956230078974,0.023898842515403574,0.028239221994911034,0.019679405391695513,0.033395459455423056,0.02402160879672844,0.017292289215364416,0.019992879180169086,0.02830737780020849,0.022807223088408046,0.01955578079247634,0.014587595418127423,0.018327179194030912,0.01965065174223512,0.022432567327528522,0.02035479428480446,0.020160653506078388,0.021270968169710074,0.01682681269229004,0.03477448126485157,0.02489065566474789,0.017598494124170274,0.02464042917611352,0.012635136787977033,0.02479165406012259,0.02057004431924447,0.017382653996177912,0.03485661155836628,0.03707356621214444,0.018692017943993895,0.021535035034390658,0.02294755806413265,0.021518995218740164,0.025633610269601932,0.03188291556855622,0.03275054084756318,0.020300720257461033,0.0263273457077024,0.011249865351380318,0.01790024650889928,0.02618025147855986,0.03266806186240392,0.012887079912400071,0.032300031242771345,0.015553498096036334,0.017858779025628966,0.02763273993525709,0.01928511560898298,0.03116404750961208,0.013298562875433607,0.017871787906215054,0.024051006184609605,0.021786039373616763,0.014742092639108676,0.01539245620111075,0.01768494282959086,0.03188873603677719,0.018892461994756533,0.016304123917071034,0.03439344176463292,0.015707056531820633,0.01620753633152358,0.031055443473543852,0.025885633861327598,0.014004341586489055,0.014734796937006767,0.019834868220307878,0.023368777570780118,0.030438903001065637,0.030159440059155277,0.025417206870491413,0.022706290268520446,0.019096875765780508,0.020540593286494952,0.03431152605059183,0.025156948791466946,0.021061189911846478,0.01898049322379479,0.02253693341899346,0.03750964534733765,0.011398622571443163,0.02297234199333172,0.025059422420722545,0.028418395855354547,0.021388316319326875,0.023697969305693796,0.029420026015615375,0.016649516402240383,0.02495033558083874,0.02606765089979609,0.030357818782484662,0.03308045678820018,0.018516465112167133,0.023660391075382196,0.024580776082456884,0.02400913636482631,0.029470291257302696,0.031186256485128152,0.03367250837825556,0.013028675542532012,0.029983189844039346,0.021323137804225407,0.023396190098530594,0.028066673275714438,0.023149048189829005,0.01624878923532029,0.02774558191592862,0.02240563760359362,0.015424562654845913,0.015246703093678107,0.020376708213544335,0.02328817615601473,0.017386731006176038,0.018855044699050156,0.025390303968990682,0.02248025761553282,0.024902752582571245,0.025969480790630946,0.011976136402163115,0.024880007158371242,0.025744977016392577,0.033014232198164996,0.03758906657499831,0.034688434895943955,0.027463141683822297,0.029808924489054096,0.02053490693044492,0.019467427694227678,0.019783959240199822,0.02698972572022528,0.023238232783537795,0.016449930669372066,0.01884876824944778,0.020551563662081967,0.02725886202496934,0.029038745113488938,0.022908209553164,0.03279927721050119,0.019648532769933467,0.017865833325823054,0.02031018857673296,0.03275249888525964,0.022827447203793434,0.024649334224267305,0.01908338408137885,0.018891979190940954,0.01984304906273832,0.019307565986406837,0.01736361006789726,0.03178549648754861,0.02596746910806609,0.015095612321840025,0.02518143767388983,0.020645817695854204,0.02957543519935935,0.028716419921729998,0.021327295281526125,0.018454639401340442,0.024418232131216196,0.021559202047603178,0.018004558955495794,0.02513280860068863,0.014497472039221708,0.02593101741999083,0.018323880034624544,0.03073641744119128,0.01838007303426964,0.026067141273546333,0.01948395031369373,0.022867600387788026,0.02079205360710242,0.04132755063109968,0.023524615913471242,0.02718754117243649,0.017170113027591926,0.023758132025600197,0.02198111893753979,0.019851685886550098,0.014359095101193545,0.02625135775161911,0.02034049792737687,0.022084170729729,0.04060154780465888,0.025893036853166268,0.02466690291866708,0.02501226858140223,0.02165994711045135,0.016490486189879666,0.025546759227668393,0.024158483678441495,0.03412207919785043,0.024382021845048733,0.025774749918352505,0.020745221636992467,0.012105849693945295,0.02839691108556186,0.031160641060468938,0.019401685908008053,0.020461011124229062,0.023036447611065262,0.021902770607247032,0.02419214583336015,0.020619343953300652,0.020074982651249552,0.018646768497501645,0.025185809730664133,0.02256541884411189,0.02610970847661878,0.02796472120332734,0.023360113924534118,0.023030653965278477,0.02267195755274687,0.02010472873077529,0.018165252158776794,0.028669239259975485,0.024507336257622418,0.014975286882027226,0.022031920627911043,0.014953480243024122,0.027968127652470514,0.022690599144514566,0.03083592867206634,0.026781717743018768,0.023694160520037654,0.018740727484497722,0.027640035637358982,0.024281625473845138,0.01813888570596004,0.019853027008260034,0.016141311741488397,0.02439712287550226,0.024946526795182604,0.020461011124229066,0.02316567809903188,0.02741931382634255,0.023066730139274957,0.029281836834626606,0.02152347456525125,0.02561067708836253,0.023464533660867457,0.029240074304580116,0.04355064762230923,0.024691981894642355,0.021245433212353428,0.01634481354974961,0.02200981894213179,0.019606743417452784,0.01780111079210297,0.042365605657001586,0.022351268529473993,0.027221283794657727,0.014999292960634538,0.024525709625048124,0.030131115568642043,0.028222940777352774,0.025586161383505474,0.022216244395720598,0.02551097810044809,0.028472818574342567,0.03386592495125828,0.023138560618057538,0.02153905839952038,0.019761240638434017,0.017363234553818472,0.023953908972812354,0.016587771158716284,0.02150303587039229,0.023045459948955835,0.02409123983590678,0.019842298034580763,0.022724449056472598,0.020337011010931105,0.024894276693364633,0.02806031635880952,0.0219173083665824,0.01966277548249266,0.018912605642839322,0.03201895895480912,0.02236433105492847,0.012376085718491468,0.027936986806366495,0.026039594633624853,0.014498410824418632,0.025108292895831517,0.017683065259196988,0.037293724752042685,0.033247667842991345,0.018860328718587168,0.02145223418002102,0.029872118144024885,0.018638775412110606,0.02589901825599246,0.016187902309690548,0.018199745809155607,0.026450675260145433,0.020088501158085414,0.02367374864761286,0.020350931854279938,0.019241073172029638,0.02291550525526591,0.0270051754423234,0.011883438069574388,0.025173873747445966,0.0230962884617613,0.02354065572912174,0.020386122887947895,0.028110474310760004,0.028983383609303984,0.02841920052838049,0.02175312824685565,0.03279297393846462,0.022522181080184504,0.0303974355177953,0.020042366571264632,0.013798935385399752,0.018876931805355823,0.024816384344453275,0.027629387130982307,0.027494282529926355,0.018399331542023892,0.017684647782814665,0.019495108446320162,0.019786721950922247,0.01984023270714752,0.01725605210676274,0.027584566843437235,0.025806614970179872,0.020378773540977627,0.012001403135177762,0.02182055984642977,0.02442965848818461,0.020981124945765046,0.021705196556943578,0.012424151520574526,0.024556582246810177,0.025494723705324025,0.018823286936959553,0.030633633873344043,0.017696664233335425,0.027098007887083133,0.017705408346884017,0.030369835233005387,0.014294292100170868,0.03458589273000452,0.015003852774448238,0.010747776205625496,0.020996306443521177,0.028124019640030064,0.025039010548297755,0.03296128471305789,0.02381749007248065,0.018618685408896198,0.031142562739819375,0.02690730037993442,0.015904925628900255,0.0273023411908045,0.014900640047653808,0.029499259486236655,0.020461842619689235,0.023110853043530874,0.03295613480569186,0.023054740511188387,0.018997391357339626,0.021995415294967388,0.01264932585566784,0.029632969320714346,0.02058981245324848,0.027081431622748675,0.016734141182135495,0.0278336936122695,0.028955085941224968,0.02033486521619527,0.01964472398427733,0.019363088425196955,0.0238168463340599,0.027600365257179953,0.028670097577869817,0.015232943184934466,0.023619513685664256,0.021536724847745124,0.02493453716709603,0.028710921322719386,0.021697578985631343,0.023643171072626992,0.017216435371452087,0.03364807314070104,0.017121001150575157,0.02171367244615021,0.030081333130770313,0.02903308557987315,0.018832567499192102,0.029847897485943978,0.0244842421417778,0.027626141616444326,0.030054859388216733,0.02180030890861017,0.028981345104304942,0.015739136163121593,0.021801462273280694,0.03870946647388845,0.030493191607882622,0.022476180605534697,0.023052406959413137,0.021218771712760473,0.013220885105995834,0.014244134148220353,0.015463321072262207,0.022624347732045157,0.022599590625280296,0.026801110362944004,0.021466691472053816,0.008293469831628075,0.026111988383525624,0.02402517618047678,0.025529807449255176,0.021608474859225145,0.023988027109112367,0.027508793466827518,0.020013800678843643,0.024055324596515486,0.03303182771499896,0.031090124880962036,0.015385589657956028,0.02018178958422652,0.030560837786930306,0.020442664579237525,0.029893737025988583,0.027149989764559124,0.02581841684122707,0.022612787262905776,0.022990420313981283,0.02836217603327528,0.022773078129673816,0.01332855035686713,0.03591263761518089,0.021033723739227572,0.018288984047732777,0.021671373467419753,0.018860838344836935,0.020890733342517336,0.01493046659448214,0.023077888271901374,0.019691958290900233,0.02360784592678806,0.013384770178946395,0.012429971988795526,0.015616530816401939,0.03244253883566604,0.03398335356817771,0.02546521902770607,0.021090024028609437,0.021233765453477244,0.022245293091957177,0.022902067215732597,0.031120461054040136,0.026261603921482794,0.024889609589814156,0.019140730445694434,0.02261533539415458,0.01942824011786421,0.025163547110279676,0.02018254061238408,0.023530758250902645,0.019921772907109826,0.01774789508265385,0.0195621913542497,0.015172378128515095,0.028515949048533166,0.024183669944153562,0.019489475735138546,0.03209647578964171,0.026553136958782288,0.02437995651761548,0.02191323135658433,0.03176436040940049,0.02536828275051402,0.03392072318432506,0.03055820918837891,0.013454025704045984,0.02046541000343756,0.014072041410405139,0.023803649696434406,0.018934224524803027,0.04041118898915471,0.020474288229157145,0.0123571490799476,0.027942351293206116,0.018407968365835678,0.025308120030607603,0.017721099470889932,0.017965022687487748,0.030456686274938968,0.028275405458644313,0.030300794287379418,0.02789876483763417,0.023361106354599457,0.023821513437610353,0.023893209804221986,0.02173070469186602,0.021138653101810657,0.028627932711310363,0.022172926164490625,0.020243990809131973,0.02695292534050546,0.02034897381658348,0.023826475587937032,0.03238441462075867,0.01381958865973232,0.023715538000093538,0.017377074929864705,0.019091269877033086,0.010665431332637238,0.025034987183168038,0.022119227651225953,0.016331670556992514,0.03391181813617129,0.013215225572380022,0.02785952361640227,0.02252306622051302,0.026242667282938916,0.028651160939325945,0.024498002050521453,0.016972619444591077,0.02077912519381891,0.029778910185186382,0.020505643654734756,0.02102841289725633,0.019375963193612053,0.017294274075495074,0.018436829305032883,0.02713212602338318,0.033350853747351555,0.019825909527285718,0.020142172848915896,0.027133896304040235,0.021466745116922203,0.01686841428773134,0.02000183787319125,0.023310116907188816,0.030861758676199134,0.02601644687291188,0.012050273610286781,0.025098314950309827,0.019425691986615395,0.030739046039742694,0.01786202454016693,0.02350589385440098,0.027495811408675637,0.022194249999678128,0.025475089683491,0.015609852030286605,0.011350905461004694,0.02092187418862137,0.015461121632657964,0.018513782868747303,0.027708888825945584,0.020974338869912915,0.017747626858311893,0.01687195484904548,0.02444725400501857,0.02277908635493417,0.023945513550908338,0.023531267877152397,0.029419945548312794,0.019427596379443437,0.02159718261442772,0.020135869576879316,0.02672976268797698,0.02202910427232023,0.020196810147377467,0.018840131425635977,0.028337392104076195,0.028394175197273643,0.037682194066534225,0.024684203388724874,0.033653169403198714,0.027179843133821636,0.016595925178712508,0.02758880478804054,0.026166491569816208,0.01594550797184202,0.028890953501057248,0.022177834669948868,0.0304247944006774,0.027735308923630738,0.02264288203407608,0.026566333596407775,0.017531706263016936,0.02750479692413201,0.020708555369443632,0.027628072831706596,0.022570783330951513,0.014853754432675476,0.01851901324341595,0.023690003042736933,0.02790058876315962,0.02729174632929622,0.02099220261108886,0.02456261729450477,0.012546461820517999,0.02152918774373546,0.02110284515215615,0.0222219039293364,0.01773512760397556,0.02308684696492354,0.029544347998123735,0.021215418908485734,0.024144509190224275,0.026329437857569873,0.02137192781203183,0.020902401101393527,0.02878108881058168,0.02306694471874856,0.019131691285369665,0.03684318832481667,0.030932033453798274,0.028679834121483744,0.026627622858550477,0.02455430233990334,0.022834233279645545,0.025757744495070907,0.02652510751504525,0.018573114093193586,0.029037833150726205,0.0246755933873473,0.019322613371991988,0.03126876229272159,0.03062287807723059,0.02336102588729684,0.023364190934532236,0.03428363071902578,0.022651009231638146,0.01818110421738789,0.018926285084280396,0.030119125940555463,0.022042622779156102,0.021034447944950935,0.02779828799912796,0.02212942017622126,0.015975924612222706,0.028583273358370465,0.030109389396941556,0.01101307690227922,0.015537780149596232,0.026150478576599943,0.025203968518616282,0.02395943439425715,0.021361413417826165,0.023912468311976243,0.02643026338772065,0.01678215333935014,0.025498747070453735,0.01699729608405335,0.018456677906339515,0.024008438981537157,0.022112066061295066,0.018366366770394386,0.03809574235700103,0.02205855530506977,0.026751891196190446,0.022316318897713818,0.01776516873027746,0.01868051111972288,0.013100881535393391,0.030350764482290543,0.018887392554693086,0.02362482452763547,0.022536906596559263,0.020111139292548645,0.024885371645210867,0.019144458764047988,0.02752992954497564,0.0406889084728422,0.023886557840540844,0.024430999609894512,0.040418618803427606,0.019896237949753207,0.031242288550168036,0.019850612989182205,0.0285012235321584,0.021213943674604815,0.025646833729661637,0.03206292092445988,0.0172506071526205,0.02063634937658227,0.02099453616286409,0.02383256428049999,0.026532215460107762,0.01438795604039073,0.023345978501711696,0.022625286517242108,0.016169287540357038,0.01850511922250131,0.01855398969761031,0.026587174627779705,0.02477338798243365,0.024562724584241538,0.013670107233946108,0.025555101004704005,0.020840816792474605,0.020813001928211144,0.022048577359548082,0.014939344820201728,0.01899795462845778,0.02109584449683046,0.02021724884223644,0.02487853192449033,0.022899680019088986,0.020238384920384586,0.0185555185763596,0.033733368481451115,0.017178267047588153,0.024351149223286683,0.01759575823588208,0.02024439314564496,0.024237207522813015,0.031779676019327595,0.027050907692631205,0.022230594398016598,0.021924443134079118,0.02179770713249296,0.030229339322675592,0.02443708830245749,0.022962283580507427,0.022695319892933427,0.023507261798545075,0.017925513241913903,0.026844750463384373,0.01956393481247256,0.025383947052085735,0.014114447678872395,0.02686484046659877,0.025508027632686295,0.0257318072012013,0.021871415181669438,0.02676594615171026,0.026003974441009742,0.030558504235155083,0.013104609853746922,0.0185570742775431,0.03198180988344473,0.036716210921322726,0.025877479841331368,0.017273352576820514,0.02267493484294284,0.02525082731116042,0.018267284698466512,0.02299892302562209,0.023756066698166933,0.01701845898463568,0.019675864830381383,0.02528827142930101,0.018096506259926974,0.021563574104377464,0.023580031062524605,0.03198591371587703,0.019950607023872836,0.02382746801800236,0.025865061054297617,0.021232558443938336,0.019946288611966928,0.038405916986068225,0.03052736338905105,0.019051975010932837,0.030378820748461786,0.02144458978627456,0.029407231714502866,0.014653605428689027,0.012014358370895468,0.025149948136141232,0.025694738597139492,0.018977596400901416,0.020565028524049424,0.02728555034699647,0.026063332487890188,0.014327659208313324,0.023051199949874243,0.02218435252145903,0.022815994024390815,0.03364753669201709,0.018068423171321533,0.026793412324329142,0.02846404763835976,0.026714983526733814,0.01988516028442938,0.020402860086887513,0.015514015472896664,0.02551653034432707,0.025224326746172657,0.03044348963731349,0.02038944886978846,0.020196729680074875,0.027642825170515584,0.030325980553091464,0.024518387100512046,0.023063618736907963,0.021409425575040796,0.022868244126208786,0.02169248272313367,0.024548696451155913,0.01847223491817442,0.02315843604179836,0.030120601174436382,0.026214906063543843,0.014422422868335312,0.024465064101326144,0.02725856697819315,0.024019838516071375,0.02557116764278869,0.02086163100141235,0.024874857251005206,0.026691004270560686,0.01976319867613049,0.024391704743794262,0.035796684232142356,0.020347230358360606,0.02107607636282642,0.025540321843460858,0.02050725300078665,0.033642440429519437,0.021842849289248414,0.013481465054230675,0.02139156183386484,0.018603611200876856,0.014581506725564446,0.024239058270772697,0.017717263862799586,0.025531631374780636,0.027266560063584196,0.01841671247938429,0.016269925313468426,0.018962790417224033,0.020277572496748032,0.01766058805933894,0.020423030557404537,0.024084131890844268,0.015425340505437648,0.03207989952530729,0.02013613780122129,0.022700764847075644,0.02201062361515773,0.019141481473851987,0.020302007734302553,0.02082169239689135,0.020346640264808244,0.02887113172218481,0.030062959763344603,0.023661785841960502,0.024616503564808805,0.021720324409831356,0.030955449438853214,0.027024889931459035,0.014385246974536697,0.02436139539315038,0.0209631002699839,0.018739949633905965,0.031223915182742333,0.03063156854591078,0.019084081464667987,0.022116330828332562,0.0195430401362322,0.01114681355919111,0.02352823694208802,0.03249682744248305,0.030251575120625852,0.01892196667237448,0.023387741031758193,0.024262447433393466,0.024249733599583524,0.027284477449628523,0.022290918052528204,0.025909398538027133,0.02453820887938446,0.025425039021277285,0.022492327710921963,0.022986370126417355,0.01786679893345419,0.015990676951031672,0.025509422399264604,0.029871367115867332,0.022805560097487746,0.01799460783240829,0.02463401861434019,0.024290798746340873,0.016653003318686133,0.02235818871749713,0.03139745633200422,0.023610045366392295,0.025183476178888914,0.02452672887754766,0.028215108626566916,0.025838801891217643,0.021693904312146187,0.023394688042215513,0.024488292329341726,0.024734495452846374,0.026810793261689534,0.020402860086887527,0.015614519133837077,0.02170173646293204,0.024592551131069867,0.025993996495488052,0.023641669016311914,0.015582654082009676,0.031186256485128135,0.018951980976242205,0.011496014830016572,0.02002530750311464,0.013631402461398226,0.030622046581770437,0.015872202259178528,0.01963300258053275,0.02040347700287407,0.021335932105337924,0.020529274219263326,0.020450094393510428,0.020322070915082757,0.022634406144869473,0.02299986181081899,0.01668299080011963,0.019438137596083326,0.019602156781204895,0.026030421361129097,0.016481768898765264,0.027423444481209078,0.02917175756467747,0.020684522468402095,0.02110686851728588,0.019727283436739185,0.027229759683864367,0.019054308562708074,0.024620607397241104,0.020430996820361362,0.023366202617097095,0.020069215827896968,0.02239501591965114,0.031172389286647707,0.02170423094931246,0.022958635729456483,0.025707023272002222,0.017432329144312836,0.02041265027536983,0.021128192352473395,0.022717770270357242,0.03808388684108544,0.02539430051168622,0.01293216842428715,0.02418198013079906,0.02230105693265511,0.026523069010046182,0.025928040129794848,0.014645773277903161,0.021237413304528177,0.021683819076887677,0.024894974076653795,0.014788951431652778,0.020931771666840487,0.022321039646132697,0.02577989982571855,0.02637061029406402,0.020964119522483417,0.01669358566162792,0.029805330282871547,0.033534694711345556,0.025423000516278233,0.040849467563952205,0.017056949177710005,0.019600386500547837,0.03169132292107897,0.023742038565081308,0.026994768337854507,0.015526514727233024,0.02844492324277648,0.02695941636958138,0.01812657420866309,0.02447995055230611,0.02574910767125911,0.014221737415664909,0.0269820813264788,0.019128982219515672,0.025084420929395203,0.015138528216557045,0.03609663951378007,0.020263758943136014,0.017843651172741205,0.011940006583298263,0.024509669809397647,0.02506317756151028,0.024183964990929736,0.029678647926153753,0.021128728801157362,0.01572280130069493,0.02652234480432284,0.029243373463986488,0.034294145113231436,0.031612277207497055,0.02118765768909065,0.021521060546173407,0.019785434474080738,0.021892873129027927,0.027148299951204623,0.024937836326502413,0.019201375969416408,0.02225709496300435,0.023804722593802344,0.027460861776915445,0.028471718854540435,0.014072282812312919,0.029386363860696728,0.022113729052215328,0.017859530053786488,0.022049274742837216,0.02051143730052156,0.02526354114497032,0.014991326697677694,0.018029932978247218,0.022984894892536464,0.022304999830482234,0.027147012474363123,0.0241699905027125,0.01852593343143908,0.02453037672859858,0.015434245553591424,0.019529816676172533,0.022330776189746618,0.03169196665949972,0.028124529266279796,0.011831053855585449,0.019494893866846587,0.03291128769571257,0.025422008086212873,0.015281384501096302,0.028533115406419958,0.016066530794943995,0.023579762838182618,0.02933663506769338,0.026375921136035242,0.027022663669420563,0.0191340248371449,0.023433473282066006,0.023160501369231614,0.012320187765622567,0.02443832213443062,0.026409449178782875,0.026023849864750564,0.029456933685072018,0.020930215965656983,0.021027071775546434,0.019585607339304638,0.019723742875425034,0.03454128702193303,0.027657175172811584,0.019115705114587572,0.03879433265569138,0.019731709138381875,0.016779256516456745,0.022424145083190322,0.03103519253572426,0.03225451357193712,0.02945524387171752,0.0325937637196751,0.014442486049115503,0.03249205304919579,0.027899569510660104,0.01856766913905137,0.025184495431388433,0.020031932644361566,0.016078869114675126,0.02072387097937077,0.030947965979711944,0.02139762370399362,0.017403816896760238,0.020474288229157145,0.0209518884924891,0.015682326247489962,0.03216908411901608,0.031618607301967826,0.02612695530180816,0.01602219331121449,0.020167949208180307,0.01781285901828173,0.023320336254618296,0.01735314931855997,0.0300066326515285,0.0224001926494514,0.028372153978796992,0.021468783621921263,0.018123114114651524,0.018999805376417465,0.029733526626523142,0.025789019453345927,0.020962107839918562,0.011186054780422968,0.024015761506073232,0.01747959027336994,0.01497762043380243,0.02738779746615975,0.013087523963162716,0.016967254957751435,0.013567994226953836,0.022001343052925164,0.02709696181214942,0.021566926908652227,0.016571811810368393,0.036489910043993073,0.022308754971269936,0.021413663519644088,0.024113690213330614,0.021086456644861105,0.026306933835277636,0.0193866653448571,0.013277158572943499,0.022869236556274097,0.02324818390662531,0.02830118181790873,0.023483443476977124,0.022680648021427045,0.019611812857516207,0.018269323203465554,0.03683809206231903,0.018871567318516178,0.018792897119013052,0.028163260861261898,0.03057221049903033,0.01558217127819414,0.03881501275245811,0.020145606120493233,0.020109315367023164,0.033375315807340246,0.032869766567573865,0.02933309450637924,0.017989699326950014,0.02080162921611116,0.01937470253920475,0.014344047715608373,0.01526400356373591,0.017440965968124663,0.02535471059880978,0.02843652782087248,0.017875811271344754,0.021159413665880016,0.024729184610875136,0.026946836647942462,0.020049796385537517,0.02157247915253123,0.026763317553158847,0.02233863516296667,0.01600706545832674,0.02401358888890319,0.02204420530277381,0.029342160489138187,0.02509834177274403,0.02267855587155959,0.020498026083422494,0.02323648932531493,0.027839192211280114,0.01657588882036652,0.027382272044714932,0.013407166911501843,0.03345943096098558,0.025289263859366327,0.030737999964808957,0.030998097109228233,0.03644149555026549,0.022107586714783967,0.02310138472425892,0.028392753608261136,0.017297573234901456,0.02308268948762285,0.029500305561170396,0.03442300008711927,0.02214594279568729,0.016553089751298114,0.018519013243415948,0.022771093269543144,0.032055947091568365,0.022587574174759543,0.026315838883431412,0.022863872069434483,0.03793574653700917,0.029194502988877505,0.027273533896475702,0.02105158748040356,0.021562501207009553,0.018867463486083876,0.027916092130126146,0.03300479070132728,0.020290018106215998,0.022906466094941125,0.023094598648406805,0.01632201448068119,0.03224019039207533,0.023021051533835536,0.03892841800424782,0.02695509795767549,0.02478639686301977,0.020155235374370372,0.03412916032047873,0.02555636165911133,0.033319605611510726,0.02777916360354468,0.014024619346742824,0.017719114610759274,0.023921158780656426,0.02446208681113017,0.01973699315791891,0.024349593522103197,0.023349304483552262,0.021723650391671914,0.013386138123090526,0.016267699051429968,0.020961544568800415,0.011713142434850455,0.025109017101554866,0.026884152619221433,0.02634716748657483,0.02827749760851176,0.02702231497777601,0.034217325661687996,0.0280903574851114,0.026494234893283203,0.03173123470316579,0.021136963288456184,0.021800013861833986,0.02825105068839242,0.016955882245651456,0.03197263661094894,0.024054037119673986,0.02050545589769538,0.02275529485580044,0.018260123108535593,0.04370645914256616,0.025060736719998256,0.026027765940143492,0.02041275756510664,0.018215571045332495,0.02706743031209726,0.02545647491415747,0.02846278698395245,0.022540125288663036,0.025098314950309817,0.0194872494731001,0.02210965204221723,0.027499647016765945,0.022096938208407305,0.014542801953016537,0.018245692638936994,0.016309568871213244,0.026045897905661405,0.029651047641363885,0.024042262071060985,0.025225319176238,0.026807118588204396,0.02213652812128376,0.02696832141773517,0.02578934132255628,0.0202209503381558,0.015133029617546423,0.02018841472547346,0.016981470847876455,0.022451664900677612,0.021949146595975612,0.013233545294937345,0.026598466872577126,0.017706803113462326,0.02011899826576869,0.020132838641814935,0.020240584359988833,0.021271263216486223,0.025636909429008304,0.02162810888105817,0.018952356490320968,0.03536189257379066,0.027632659467954505,0.020320381101728277,0.012717240259057497,0.017535863740317625,0.016395910286897027,0.019319636081795977,0.025457225942315028,0.026708331563052662,0.03837225483114955,0.017698997785110675,0.01968088062557641,0.023038968919879887,0.022052654369546197,0.03244050033066698,0.02427856771634653,0.026693230532599137,0.017819940140910047,0.0362786029073802,0.013115392472294573,0.02415387021975943,0.0178638752881266,0.02676460503000035,0.025975918174838505,0.021844592747471303,0.036757302890514265,0.021314527802847823,0.026906120192829702,0.024398115305567618,0.0196337267862561,0.0290237513727722,0.027249447350565767,0.0252437730109663,0.02032287558810869,0.022570005480359742,0.02329826139127321,0.02284008057030075,0.022924812639932648,0.030332632516772613,0.02207915493453396,0.018864727597795672,0.03045515739618966,0.027039186288886637,0.013034281431279417,0.01433465986363905,0.026938226646564867,0.021274991534839773,0.026667239593861136,0.0302409266142492,0.01488256172700426,0.024948645767484262,0.013147552570898124,0.02104600841409033,0.02570731831877842,0.02946656293894914,0.019808877281569895,0.019163100355815692,0.018519871561310304,0.02136967472755917,0.017226225559934416,0.019636596786715286,0.025202225060393407,0.021078919540851424,0.024719421244827032,0.020975545879451843,0.01819215506027754,0.02417873461626109,0.01614992174286599,0.03155493084318148,0.020897653530540444,0.021497885963026236,0.027087359380706486,0.018590977834369533,0.027267257446873347,0.01913810184714303,0.030508238993467777,0.028004042891861813,0.02430455865508453,0.015951730776575995,0.028972010897203974,0.021593159249298013,0.017744461811076515,0.027978829803715573,0.01780848696150744,0.02311055799675471,0.019534430134854605,0.023771838289475426,0.022458397331661342,0.03071992164415942,0.031593045522177,0.03159650561618857,0.021409291462869812,0.03573512674565768,0.028587350368368576,0.02059050983653766,0.023607014431327907,0.02138053781340942,0.02490699052717454,0.019764539797840385,0.0218746875186416,0.02954818360621405,0.019999853013060606,0.02688597654474692,0.022152004665816072,0.03373023025664995,0.026572690513312732,0.012747120450754225,0.013051099097521661,0.013772059306333222,0.027252451463195985,0.019243889527620472,0.02515187935140349,0.021950139026040955,0.019865150748517572,0.024916458846446513,0.0277028269558168,0.017030314500551272,0.02399001196924304,0.0221646380323234,0.022954612364326756,0.031119280866935398,0.02871022393943024,0.02598664714851778,0.02181111834959202,0.01574723653824943,0.030754147070196247,0.014448252872468129,0.017656323292301428,0.016438155620759114,0.01465596580289845,0.026317957855733064,0.02312879725200944,0.01793651043993513,0.02730311904139624,0.020339290917837954,0.030832951381870352,0.022482564344873855,0.0177043354495161,0.025829896843063884,0.03213496598271606,0.022296041137460046,0.031468294380721504,0.021296234902724705,0.011481021089299819,0.019621147064617192,0.030402960939240095,0.016852267182344068,0.023229059511042028,0.017023823471475318,0.022564426414046556,0.022954263672682197,0.0279911949458809,0.023111040800570276,0.02307289929914052,0.020753348834554514,0.033996898897447746,0.03076632445532218,0.018225012542170238,0.024010477486536223,0.0170066839360227,0.027998919806929992,0.03280241543530235,0.020832206791097027,0.018800890204404126,0.02536345471235836,0.02560195979724815,0.025573179325353548,0.02009153209314981,0.0258478946964108,0.025601825685077163,0.022650982409203928,0.025250773666292012,0.025354066860389022,0.029822469818324163,0.030906954477823004,0.025338107512041123,0.0239846206599692,0.027134861911671367,0.018511932120787652,0.032231607213131924,0.016353128504351035,0.024302251925743507,0.018966116399064595,0.026788101482357905,0.017744113119431935,0.018461130430416375,0.022059252688358934,0.023809818856299986,0.031468267558287306,0.02590722592085709,0.02119562395204749,0.019596068088641918,0.01560657969331443,0.022562575666086875,0.02273488298337569,0.017465776719757933,0.025579563064692702,0.02158468336009138,0.021487854372636145,0.017109252924396356,0.02566799663024394,0.020961356811761034,0.028772344697033114,0.023601944991264476,0.02597259219299794,0.02726409239963796,0.015327063106535699,0.028808367226161175,0.015187935140349995,0.02317809688606559,0.0135656606751786,0.028145745811730565,0.024003610943381493,0.02505349466276475,0.0253846444353749,0.018105974579198922,0.017872538934372593,0.028339376964206853,0.024998803719434762,0.024932391372360176,0.02558750250521534,0.015838727861299244,0.028226749563008878,0.021042172805999994,0.023713365382923506,0.026815594477411005,0.029122296996016137,0.01236881683882379,0.02496669726569959,0.015091508489407698,0.020100463963737776,0.02356337433088755,0.027210983979925666,0.021419859501943868,0.022509064909861598,0.024320008377182657,0.022247117017482644,0.022700657557338844,0.025019188769425344,0.016864310455299014,0.022063034651580854,0.018388522101042033,0.017185670039426833,0.02607856763051475,0.022289684220555078,0.025035711388891387,0.025578061008377607,0.014615463927259278,0.027875214740408192,0.015243672158613705,0.029630018852952536,0.03724126007075114,0.02764183274045025,0.016177173336011288,0.01527470571498096,0.022623543059019216,0.025291248719496985,0.019383205250845546,0.0192347162551247,0.01700703262766727,0.02508138999433083,0.03217042524072599,0.02402396917093788,0.02088158689245575,0.02741502223687084,0.01900734248042715,0.03537828108108573,0.0258350735728641,0.02432668716329798,0.023905199432308538,0.016281968586423383,0.02894843397754384,0.01563892754895739,0.021377801925121204,0.02079006874697173,0.019201080922640237,0.028312903221653297,0.01853660876024994,0.019643329217699027,0.013776592297712711,0.03328685541935482,0.02382443708293797,0.013666834896973968,0.02494215473840831,0.03314445511619694,0.01773590545456732,0.02910837615266728,0.02537418368603761,0.03029518839863201,0.011449129215038259,0.02229322478186923,0.025099602427151334,0.017095439370784303,0.017805938830258626,0.02723536557261179,0.02275470476224809,0.021679715244455375,0.02469879479292868,0.03045859066776701,0.024147808349630644,0.02463353581052461,0.027177858273690972,0.019672753428014368,0.024638471138417068,0.021066098417304713,0.018261812921890073,0.023233190165908576,0.025516905858405884,0.032750728604602555,0.019908200755405565,0.02159576102541521,0.01943550899753191,0.019898571501528454,0.018637836626913686,0.025076991115122318,0.018160745989831514,0.01916513886081475,0.031131297317456168,0.01298160217051429,0.017349501467509014,0.021202624607373204,0.0236375383614454,0.021855455833321543,0.02575358701777017,0.02125195106386358,0.022122473165763937,0.013627325451400106,0.025131521123847103,0.029030403336453334,0.01738136651933639,0.02379879483584455,0.028766524228812103,0.021585488033117346,0.019683214177351645,0.03004785873289104,0.025250854133594597,0.03307949118056907,0.022309961980808875,0.026530820693529442,0.02636162477860763,0.017815138925188583,0.01342961728892569,0.023484167682700483,0.022292929735093055,0.030257422411281043,0.021055905892309427,0.019090384736704543,0.01913429306148688,0.028353968368410632,0.03228967778317088,0.017656350114735642,0.021855670412795104,0.0164712545045596,0.01863778298204527,0.02042799270773118,0.025342291811776045,0.01765181712335616,0.02264011932335367,0.02477797461868156,0.022974165918857214,0.02031421194186269,0.023394500285176124,0.021868652470947006,0.010574181411495187,0.025043409427506262,0.025975918174838478,0.021726600859433717,0.016426702441356515,0.02947418051026142,0.02676693858177559,0.02318874539244225,0.0222664559925395,0.027537734873327297,0.03198712072541595,0.023961392431953624,0.02496455147096374,0.023435431319762473,0.03196241726351949,0.01811689130991756,0.02172949768232713,0.02158092821930365,0.016217702034084666,0.022384367413274472,0.014233458819409501,0.01783305631123294,0.027545298799771162,0.021698625060565056,0.01872656523924108,0.02611456333720863,0.016866590362205856,0.01312408294097477,0.019497093306450837,0.020519403563478394,0.022366369559927532,0.02707247292972651,0.018916173026587695,0.025557756425689623,0.022917543760264947,0.015236027764867228,0.021872675836076723,0.02564272989722932,0.02858641158317163,0.026613782482504247,0.023836399888590324,0.021159064974235444,0.024586650195546275,0.021450437076929733,0.025683929156157644,0.020495987578423427,0.025489707910128962,0.02250801883492789,0.01836199471362009,0.0249034499658604,0.03020718399202795,0.02891664939301903,0.029499742290052228,0.02008587255953401,0.01569533512807606,0.019939851227759372,0.024592551131069878,0.03269517934337822,0.014940122670793443,0.026876830094685354,0.028510665028996122,0.02174374039488631,0.03266106120707819,0.029174305695926293,0.02336175009302021,0.01445434156503111,0.024332158939874417,0.029571411834229636,0.018576145028257978,0.018040661951926492,0.025428123601210058,0.02083851006313358,0.020796130617100523,0.02548195622664571,0.01814819309062679,0.021598952895084796,0.020379283167227345,0.02358153311883969,0.027517510757941913,0.02886110013179472,0.019294503460952326,0.029700186340814855,0.0208799507239697,0.031949140158591405,0.021509392787297243,0.023598055738305732,0.025638706532099584,0.022010918661933904,0.026928838794595525,0.023850615778715355,0.017933881841383705,0.029817346733392296,0.025167999634356557,0.024452350267516236,0.026926585710122887,0.028551461951411485,0.013122661351962252,0.02347166842836415,0.02812839169680436,0.020795218654337783,0.02162548028250675,0.01758862346838536,0.021323996122119753,0.020595954790679875,0.028986977815486543,0.02442987306765821,0.02903515090730637,0.027528159264318564,0.021430052026939164,0.015685571762027922,0.02813842328719445,0.020623420963298764,0.016463636933247337,0.01845887734594376,0.028959002016617885,0.023614068731522022,0.020113767891100073,0.026188727367766472,0.030333410367364335,0.025937642561237758,0.025179774682969565,0.015692009146235475,0.01545535480930537,0.018728871968582146,0.018465502487190685,0.021410176603198355,0.015373600029869464,0.015467424904694516,0.02016384537574798,0.02101634280186717,0.027058471619075077,0.024191609384676203,0.01914242025904893,0.02978159242860618,0.02103541355258204,0.010381703623689394,0.026683842680629795,0.02259881277468857,0.01664997238362175,0.02859942046375774,0.01599411022260904,0.01900991743411016,0.02706517722762461,0.019566804812931757,0.018425268835893488,0.023355956447233414,0.023398255425963854,0.02301260246706313,0.02449620494743017,0.02938054339247572,0.02712987293891051,0.021935467154534566,0.027539666088589564,0.01402748934720204,0.016877399803187726,0.017233360327431106,0.021756695630604016,0.016979995613995574,0.032868666847771746,0.015258424497422703,0.017214691913229205,0.028733344877708997,0.03071648837258207,0.0274991373905162,0.02294661927893573,0.026128296423518067,0.02333642971513717,0.03159680066296475,0.01784818416412067,0.02651896517761386,0.035157183755990536,0.028130483846671807,0.015132975972678027,0.018652106161907094,0.021416479875234914,0.019972011326362935,0.020778052296450973,0.025601047834485427,0.01907651753822412,0.025082597003869736,0.025435124256535768,0.016482949085869968,0.0285239421339242,0.015228758885199546,0.021926991265327947,0.022287323846345637,0.024703649653518532,0.017686149839129764,0.023121233325565572,0.020364933164931372,0.014971960900186643,0.02552833221537428,0.016844542321295,0.021826702183861152,0.029362679651299767,0.02647859741414567,0.028165808992510734,0.017491740836061705,0.019688739598796478,0.018648646067895534,0.016643186307769623,0.02246242069679104,0.021936647341639273,0.024201828732105683,0.027394851766353864,0.023392890939124247,0.03190646566578217,0.03623946897588512,0.020811178002685685,0.020926192600527277,0.01971526698621843,0.022152567936934243,0.026495012743874943,0.03213349074883515,0.029247745520760784,0.029887675155859786,0.02091170848606029,0.024255419955633534,0.018231852262890758,0.02045991140442696,0.028721864875872215,0.023257437646423674,0.01991445038257375,0.02183319321293709,0.016458835717525863,0.02298387564003692,0.026437854136598736,0.027654841621036347,0.025050678307173946,0.017179527701995462,0.031274609583376786,0.018437741267795606,0.024576752717327163,0.034459264018155134,0.019512194336904366,0.02415083928469504,0.02263065100408173,0.022151468217132098,0.02471309115035627,0.018957586864989592,0.019706925209182803,0.018523868104005803,0.02054180029603385,0.02244638088114057,0.03134692286597495,0.022085136337360138,0.019744074280547204,0.03207914849714973,0.021457303620084474,0.017865082297665515,0.015918551425472913,0.021596968034954138,0.02821996348715678,0.02452758719544198,0.026234835132153064,0.0193294530927125,0.026960462444515117,0.02550749118400232,0.02228968422055509,0.028680129168259922,0.026451667690210758,0.02847874633230035,0.022813955519391756,0.024156498818310834,0.012926428423368734,0.01749965345415017,0.026808191485572334,0.024641663008086644,0.02640641824371851,0.025068863917560285,0.028184691986186235,0.023563937602005716,0.024072330019797115,0.024246595374782368,0.020157273879369407,0.019020109959105448,0.02141975221220707,0.016188116889164113,0.038468413257749856,0.026588783973831603,0.019581476684438135,0.019074398565922444,0.020906853625470415,0.02543694818206125,0.029637341377488646,0.024223286679464204,0.021371874167163414,0.016293958214509956,0.02453539252379365,0.018415371357674383,0.02340895757720892,0.018232361889140538,0.023101116499916946,0.029494887429462352,0.02922655579774425,0.017148681902667627,0.026465561711125386,0.02089202081935884,0.019657223238613665,0.022081193439532996,0.018779566369216613,0.024896261553495315,0.02404966506289968,0.019481107135668738,0.01590041945995497,0.0254645752892853,0.019083974174931184,0.0212156066655251,0.03772089883908213,0.01796403025742241,0.023672058834258387,0.013384716534078004,0.0238570531629229,0.0206716208775528,0.02269966512727352,0.023860298677460874,0.02335185261480111,0.028798174701165906,0.023566432088386158,0.018927572561121896,0.0175448224333398,0.016715982394183378,0.023524615913471256,0.027161979392645693,0.01277831494172666,0.022497558085590588,0.020959720643274924,0.02876569273335196,0.014854693217872401,0.03223077571767176,0.02167314374807683,0.0294414839629739,0.02617518203849642,0.02284037561707692,0.026904215800001626,0.017542167012354212,0.023900666440929065,0.020801334169334974,0.026266163735296486,0.016690635193866113,0.027193603042565268,0.018403810888534967,0.022267207020697052,0.026069984451571344,0.020692756955700917,0.02512819514200657,0.020861201842465184,0.026802022325706738,0.027528159264318564,0.029796934860967517,0.028309523594944347,0.0229170609564494,0.016453015249304863,0.03172501189843182,0.02285523524562269,0.03093927551103174,0.025509476044133,0.01950921704670837,0.02815735992573834,0.021218718067892092,0.025904999658818643,0.0278706817490287,0.020386176532816287,0.019946503191440517,0.02824968274424832,0.01602275658233264,0.018458984635680527,0.030403443743055668,0.027487415986771596,0.01852166866440157,0.0223666377842695,0.019172515030219217,0.023161708378770546,0.02162419280566525,0.031950669037340694,0.031810602285958035,0.027052409748946304,0.020704746583787487,0.020388912421104508,0.02145100034804791,0.020684361533796908,0.02958919510810299,0.02637702085583734,0.025032948678168982,0.02158532709851217,0.019950580201438622,0.02003512451403114,0.017190042096201112,0.013866957078526193,0.026918270755521466,0.01747672027291077,0.019422205070169625,0.025912858632038696,0.031433398393829734,0.018971480885904238,0.02536608331090977,0.038333389123996454,0.030697766313511773,0.018533631470053914,0.023147358376474532,0.023420705803387697,0.025359377702360242,0.025201849546314613,0.03222004674399252,0.02859700644467988,0.03432255007104728,0.022936534043677223,0.019518336674335744,0.014564420834980236,0.02096564840123273,0.01705772702830173,0.028312956866521702,0.025929247139333735,0.024316011834487138,0.02268502007820135,0.033260864480616825,0.02335450803578671,0.017841424910702758,0.022289684220555078,0.02740887989943946,0.022021647635613158,0.025656623918143932,0.018973170699258697,0.020078550034997915,0.01638520813565201,0.017741484520880528,0.028201965633809827,0.022028862870412443,0.02226321047800154,0.021443543711340822,0.021284862190624677,0.01925746167932471,0.02218016822172412,0.03990400358090227,0.028350105937886123,0.024260489395696992,0.017155843492598515,0.016436117115760054,0.027089585642744926,0.01819188683593554,0.018212298708360317,0.01942606750069416,0.023583786203312314,0.02298079106010413,0.02480764023090469,0.02491844370657716,0.01894795761111247,0.018248374882356797,0.023755583894351374,0.01934965038566368,0.017136745919449428,0.021368038559073085,0.023533386849454045,0.0273266959610564,0.01748637634922208,0.02158699008943242,0.019450556383117046,0.02101261448351364,0.01775025545686331,0.023382215610313374,0.016653968926317285,0.022513383321767506,0.028047548880131185,0.03193994006366143,0.028846481905156703,0.02984792430837817,0.021496839888092516,0.02827596872976247,0.029267084495817622,0.02957015117982233,0.018673376352226195,0.02887494050784096,0.021625212058164756,0.023120240895500212,0.02881746003135436,0.029617305019142642,0.024430650918249953,0.016079351918490706,0.01832860078304342,0.020939657462494723,0.023289195408514256,0.017328150809887314,0.017759267794753883,0.026086533893471577,0.024665213105312597,0.02149480138309346,0.018439028744637112,0.019428106005693224,0.013125719109460875,0.020022973951339375,0.015476034906072135,0.021589055416865687,0.017573576082800208,0.014845063963995285,0.025871713017978762,0.02209629446998656,0.024823948270897143,0.02310513986504669,0.02342944991693629,0.02312710743865493,0.02740665363740102,0.014319907524830072,0.031541868317726963,0.019299170564502803,0.02082542071524489,0.020127474154975292,0.02792789400117332,0.022180463268500306,0.03588495686308843,0.02364140079196994,0.013609595822395152,0.022440238543709193,0.02892839761919785,0.021637764957369493,0.023602186393172242,0.035440750530333166,0.012830135884597447,0.025345671438485,0.020719445277728066,0.02430482687942649,0.019859786261677947,0.032733133087768596,0.03313243866567617,0.022085431384136312,0.015754639530088113,0.022179041679487796,0.02210871325702029,0.021340786965927776,0.027024594884682847,0.02102071485864148,0.02797523559753303,0.015817350381243354,0.029899369737170174,0.029554540523119018,0.027134996023842346,0.01956020649411901,0.02372599874943082,0.020982466067474954,0.0236302426593435,0.017909714828171185,0.02550539903413488,0.027605890678624727,0.028489260726506024,0.023082716310057046,0.015824002344924495,0.014706472446493533,0.025218694034991045,0.03321886054866255,0.024076728899005615,0.018018265219371034,0.017343359130077667,0.016708203888265893,0.022317150393173984,0.02240357227616035,0.014333265097060736,0.02374284323810725,0.02328136325772839,0.026001614066800304,0.01601159844970622,0.020746965095215363,0.017828684254458636,0.03362591781005339,0.015040250817655093,0.026469772833294485,0.016935658130266054,0.02761197937118772,0.021782230587960645,0.013248646325390885,0.015223555332965115,0.02305339938947849,0.027891147266321872,0.03794754840805634,0.015111625315056316,0.028065922247556892,0.02637342664965482,0.026504990689396643,0.023761940811256335,0.023569543490753117,0.022652350353348026,0.022233571688212585,0.018191886835935527,0.014808102649670257,0.018947689386770494,0.026343573280392274,0.018855232456089527,0.03488008118828964,0.01780384668039118,0.025032948678168982,0.024514202800777114,0.027464536450400596,0.025930024989925495,0.020106123497353585,0.01948274330415482,0.02804551037513214,0.019245659808277547,0.023821862129254967,0.04000413172776389,0.022243093652352938,0.020103816768012556,0.02650461517531789,0.02837566771767694,0.01812247037623077,0.023608784711984993,0.02312461295227454,0.02254318304616164,0.0356943834681107,0.03245967837111863,0.02504614531579446,0.02351327002380546,0.02168175374945444,0.016362757758228166,0.017662546097035416,0.02642186796581663,0.015634904183827666,0.021130525904248618,0.02474015498646219,0.030788050627022688,0.01761890599659506,0.017801218081839758,0.01560277090765829,0.02932976852453866,0.0260905572586013,0.02381628306294173,0.02099700382681032,0.027556215530489814,0.025464709401456325,0.020079810689405234,0.03251420837984345,0.023062921353618815,0.01677048558047397,0.03367229379878197,0.01997297693399406,0.031546186729632865,0.021292211537594974,0.032892458346905504,0.025380782004850357,0.016227653157172173,0.023734608750808427,0.023751640996524243,0.023206394554144638,0.027716774621599827,0.016675963322359745,0.026458024607115715,0.026587094160477137,0.024474451953295496,0.01765863002164248,0.018036075315678586,0.017713455077143468,0.0205352287996553,0.02711608620773267,0.025111672522540502,0.0336488509912928,0.03191786520031637,0.023597492467187564,0.028508894748339057,0.025307181245410683,0.030566631432717095,0.018755050664359507,0.02695324720971582,0.02129993639864402,0.023253628860767532,0.023119409400040078,0.03388462018789435,0.03579958105503578,0.02044706345844604,0.016820697177292857,0.01638641514519089,0.02110574197504955,0.025127578226020002,0.022704037184047822,0.033531046860294594,0.03119306938341447,0.03612142344297915,0.018439082389505496,0.03160278206579091,0.02686379439166506,0.02047536112652506,0.031188965550982148,0.022340646845531532,0.026529399104516935,0.019694989225964646,0.025391215931753426,0.019376687399335412,0.019911124400733185,0.023113830333726874,0.025100380277743074,0.0206902624693205,0.022020547915811026,0.020424639903456405,0.020322714653503486,0.024689943389643268,0.022357357222036973,0.027734396960868,0.020057038442771014,0.022912232918293713,0.018152323745493283,0.020063368537241767,0.027031515072705965,0.02183330050267389,0.021241463492092112,0.01573688307864895,0.012570253319651736,0.02474592180981478,0.019291606638058942,0.02261895642277135,0.019984778805041247,0.02206754082052615,0.03463280516741707,0.03517689824512616,0.022227161126439264,0.014608758318709733,0.027546532631744294,0.026637225289993443,0.02734498886117954,0.01773105059397744,0.022001343052925167,0.02435109557841828,0.027548651604045946,0.027456167850930788,0.033389102538518074,0.025680281305106686,0.024277038837597225,0.01871481701306231,0.02485374799529125,0.025400603783722796,0.02971078120232314,0.022907217123098667,0.023490739179079023,0.021444241094629987,0.01711032582176429,0.010344339972851401,0.011740957299113912,0.024567284398055243,0.018320554052783974,0.020097889010054753,0.01948572059435079,0.01265946473579473,0.02704245862585881,0.0229224790881574,0.01766474553663966,0.01979978447637672,0.03934333423885873,0.020109690881101944,0.014787959001587447,0.015967690124923863,0.03327980111916072,0.02270283017450892,0.017622231978435605,0.031123652923709687,0.01741250736544043,0.021046437573037487,0.020489335614742296,0.028221250963998294,0.022564345946743967,0.021913070421979125,0.011618673821604638,0.031076767308731386,0.016727998844704092,0.03713300472632749,0.01870840645128897,0.025610408864020575,0.027422666630617307,0.019812203263410478,0.020272288477211017,0.018134486826751527,0.026055634449275358,0.015455354809305365,0.027228016225641485,0.01871779430325831,0.02091211082257325,0.017797757987828195,0.023909222797438245,0.023158355574495776,0.024910423798751934,0.035824230872063864,0.0243914096970181,0.031093155816026435,0.022553912019840874,0.01601023050556212,0.022066441100724036,0.021086456644861085,0.019844068315237856,0.025234975252549308,0.029591287257970444,0.023402251968659374,0.025566044557856854,0.019600654724889803,0.027114101347602018,0.01872272963115075,0.025040995408428413,0.0214466282912736,0.019016381640751895,0.025884131805012492,0.02518580973066413,0.026800359334786458,0.019946234967098533,0.017871948840820245,0.022214581404800322,0.0229181606762515,0.03341225029923109,0.02400074094292231,0.028629005608678287,0.023092667433144545,0.018607017650020024,0.02799465503989247,0.029025038849613695,0.022471862193628796,0.026680570343657613,0.030209705300842573,0.025614405406716077,0.02376226268046671,0.02894081640623158,0.02517741430876013,0.018563189792540277,0.019011955939109204,0.025624490641974584,0.023893209804221997,0.020525840947685954,0.022313341607517835,0.022110993163927145,0.020654481342100184,0.030035520413159912,0.01833219498922597,0.02455663589167857,0.010385566054213941,0.029739320272309966,0.0171800641506794,0.019183941387187625,0.01535651413928526,0.026931521038015334,0.014606290654763519,0.016001540036881916,0.027414056629239725,0.020055429096719125,0.01890954788534073,0.025399906400433627,0.02187036910673569,0.02024356165018481,0.021958829494721135,0.018923039569742395,0.014792331058361747,0.029169719059678408,0.022212221030590867,0.026254683733459662,0.01985238326983927,0.02115764338522294,0.03224984646838666,0.015110579240122574,0.022968613674978194,0.022881628520873644,0.012443651430236556,0.022828439633858742,0.02992989366728766,0.022503780890324565,0.02640443338358784,0.02643635208028361,0.027689764430362307,0.024065678056115952,0.02085261866352179,0.025283765260355716,0.030323942048092415,0.026602785284483038,0.015881885157924054,0.0237481004352101,0.025388238641557447,0.02293792881025554,0.03207134316879809,0.021749829087449282,0.03430476679717392,0.027493611969071387,0.02220814402059277,0.02903056427105852,0.010369660350734443,0.015431536487737423,0.02272005017726411,0.02120090797158452,0.0240680116078912,0.01679264091112161,0.025113442803197585,0.026626496316314183,0.018105759999725343,0.017622446557909212,0.023410513278392414,0.027176731731454636,0.03504855289748808,0.02759395469540658,0.021635109536383878,0.022134140924640115,0.017330430716794156,0.026819886066882702,0.016135947254648765,0.02040876102241109,0.04220732647279841,0.02011207807774558,0.0232169894156529,0.01083806051913642,0.025085520649197345,0.027693170879505492,0.03172359030941931,0.022777369719145506,0.024962271564056907,0.023468101044615795,0.025810531045572814,0.026552868734440297,0.012630845198505328,0.027453297850471584,0.015403507044000377,0.019298124489569066,0.03127283930271971,0.023754108660470487,0.02535385228091542,0.023265135685038532,0.032267066471141866,0.01889648535988627,0.03634600768452009,0.022614638010865443,0.02959970950230867,0.01856871521398508,0.02489245276783917,0.028897954156382938,0.031613189170259806,0.014318271356343977,0.029678942972929938,0.026345933654601722,0.04003704285452501,0.020638521993752303,0.01920336082954708,0.020444488504763016,0.028667120287673833,0.022708033726743338,0.027953777650174514,0.02881646760128903,0.02592254153078422,0.02354661030951373,0.015177581680749515,0.027113538076483833,0.02025201071695722,0.015167684202530403,0.020369090642232083,0.026287782617260162,0.02751751075794192,0.021312247895940974,0.03219681851597693,0.019914584494744748,0.019639681366648086,0.029308391044482757,0.024721406104957672,0.03303654846341785,0.03247909781347809,0.02752815926431858,0.0172194663065165,0.01434723958527795,0.021832227605305933,0.01709203292164114,0.02097103971050654,0.03038662607681345,0.02198227230221028,0.020428395044244152,0.01166751747427943,0.02740887989943948,0.01948019517290599,0.015454416024108434,0.019164414655091395,0.02724714062122475,0.019436233203255243,0.02144558221633986,0.017981116148006633,0.030382817291157313,0.018175659263245672,0.02475356620356125,0.019418369462079314,0.013742313226807499,0.022427041906083717,0.01928004616891953,0.016922702894548333,0.01963300258053275,0.027478940097564998,0.027572094411535117,0.014528210548812764,0.02015429658917344,0.022678314469651805,0.027009252452321518,0.03110670114529649,0.019241609620713602,0.03092637392018244,0.0228696388927871,0.014001015604648472,0.018726243370030704,0.025331536015662584,0.024919006977695328,0.01396241812183737,0.018180165432190958,0.027466574955399663,0.02768689442990311,0.020429816633256652,0.021289877985819744,0.01950696396223573,0.021293713593910052,0.03125500238397796,0.022669060729853453,0.024835723319510117,0.025884051337709886,0.012267910841370404,0.022285607210556967,0.02449371046104975,0.0207034054620776,0.01788645977772143,0.026980820672071498,0.019233911582098747,0.02376757352243792,0.010346405300284654,0.023212671003747003,0.022295558333644487,0.023664360795643533,0.019911124400733192,0.03547669259215865,0.027392866906223196,0.031855932199752884,0.019980326280964352,0.018026955688051214,0.031856254068963266,0.02445304765080537,0.02796268269832831,0.019359601508751195,0.020554648242014723,0.017053408616395836,0.021886999015938553,0.02948287097894162,0.03427319679212269,0.028615433456973996,0.024964310069055966,0.019163100355815692,0.019050902113564895,0.030049575368679714,0.024938667821962555,0.02601108238607225,0.01863837307559763,0.02761157703467476,0.021476267081062546,0.026425730396341166,0.008906684322265747,0.03136124604583676,0.02376424754059736,0.021814068817353816,0.019922845804477757,0.017785822004610024,0.022527974725971282,0.022245078512483606,0.01689512943219268,0.029649840631824954,0.017513627942367372,0.026795745876104386,0.017551903555968106,0.014608838786012353,0.016905536536661533,0.02011779125622978,0.023677074629453426,0.031052117491703286,0.02061226283067233,0.027471805330068294,0.01843111612654865,0.028337043412431602,0.02952702070563173,0.027365615313077903,0.017576338793522626,0.03393657524293615,0.02348317525263515,0.02346630394152454,0.02904129324473774,0.02621514746545164,0.022092136992685835,0.02473940395830465,0.01634266775501376,0.0162920538216819,0.021016691493511763,0.0234924826373019,0.022068479605723085,0.026095170717283397,0.01598348853866658,0.025956713311952616,0.027555705904240044,0.03013535351324534,0.04182148575685828,0.019859142523257198,0.02172582300884196,0.020778615567569134,0.027069281060056932,0.023460671230342924,0.018926097327240994,0.03815378610460577,0.018371865369405008,0.025031688023761673,0.01685945559470916,0.021443463244038237,0.02688055841303888,0.028883067705402984,0.023372827758344015,0.019765612695208302,0.016807768764009353,0.018398446401695353,0.02451374681939573,0.01788659388989241,0.01623395642920874,0.0212657377950414,0.02359494433593877,0.023900800553100027,0.030464813472500997,0.020724514717791513,0.025358680319071084,0.018626410269945288,0.027989397842789636,0.024512003361172863,0.029596839501849485,0.020436790466148158,0.026789093912423248,0.02154034587636186,0.018058525693102435,0.024659499926828414,0.019781625688424592,0.024253086403858308,0.019163744094236414,0.024847873882201894,0.024968843060435435,0.02273276401107402,0.021478412875798387,0.02499515586838382,0.026410280674243045,0.017708600216553586,0.02889934892296128,0.01947780797626235,0.026788155127226293,0.013331527647063123,0.023915284667567052,0.01742184157254138,0.01758685318772829,0.023317224852251295,0.030063201165252372,0.022516011920318928,0.015091213442631543,0.02073223957884058,0.02020952398118738,0.019617472391132047,0.019684743056100934,0.023580245641998166,0.02364014013756261,0.028470565489869912,0.03450915374576366,0.020360400173551882,0.026659407443075295,0.023589874895875308,0.014153393853328065,0.016223629792042442,0.02349025637526343,0.029244070847275653,0.024368315581173482,0.022651760259795664,0.03250980950063495,0.022425110690821454,0.025185541506322164,0.025644768402228357,0.016564086949319337,0.026534924525961737,0.0326341583055775,0.024735541527780097,0.034535412908843634,0.015742918126343534,0.029241388603855823,0.02817077114283739,0.021347492574477326,0.016150645948589344,0.020980212983002306,0.022282334873584792,0.03370944287014637,0.025563711006081603,0.01671418529109208,0.014435860907868595,0.022385547600379207,0.02218344055869629,0.019532391629855542,0.014758856660482475,0.021328287711591468,0.020872359975091605,0.0333745647791827,0.02729627932067573,0.030790089132021737,0.024878370989885157,0.03376939101057921,0.015047734276796365,0.015875179549374514,0.015672482414139235,0.014850938077084673,0.021639106079079408,0.022666378486433644,0.014852708357741749,0.02153629568879796,0.028933735283603247,0.02912720550147438,0.014866977892735157,0.02073457313061583,0.02276385121230965,0.0208668077312126,0.020567067029048487,0.02038526457005353,0.022578347257395385,0.01710968208334352,0.02767418059609319,0.030205950160054826,0.022155652516867026,0.018270557035438638,0.0292358900048452,0.021610379252053183,0.01746808344909896,0.023456835622252585,0.016360397384018732,0.024584075241863245,0.024855518275948348,0.028152129551069723,0.021551423541685714,0.019353485993754013,0.02970874269732405,0.02687750065554028,0.020246646230117602,0.016619314341333267,0.017562364305305403,0.025604534750931163,0.01683255269320843,0.020339290917837954,0.028158406000672064,0.03223946618635196,0.0171360217137261,0.02125605489629589,0.02565407578689512,0.01693096420428138,0.029851920851073695,0.024132278160229934,0.028404394544703122,0.013879858669375519,0.02668129454938095,0.01703321132344465,0.0329510385431942,0.02918165504289657,0.017396601661960942,0.022248619073797736,0.02770585789088119,0.011778320949951912,0.03905920419339789,0.017254469583145065,0.014695689827945878,0.015260463002421763,0.02584569525680657,0.024562992808583536,0.017733384145752665,0.03235271050353649,0.03174429722862027,0.013328791758774897,0.02920185233584778,0.018330263773963695,0.015471153223048062,0.01916487063647276,0.027524189544057255,0.0339772648756147,0.02505652559782914,0.022531166595640854,0.023921024668485443,0.026467707505861228,0.026928463280516745,0.02919337644664117,0.024916458846446506,0.027089397885705538,0.02493480539143804,0.021432573335753786,0.01904985603863116,0.018190465246923044,0.027441308222385014,0.024830010141025927,0.020923161665462882,0.024631953286906927,0.020434751961149095,0.022835708513526447,0.020879038761206954,0.023818509324980197,0.0189519809762422,0.024095531425378486,0.019878454675879856,0.015760325886138137,0.022961452085047282,0.029502290421301047,0.01673993482792227,0.018331417138634228,0.019996983012601367,0.03572544384691213,0.020749593693766777,0.02226873589944634,0.02119095684849702,0.020142441073257848,0.030242884651945648,0.0170640303003383,0.026781690920584578,0.0245087578466349,0.01606046892481522,0.022112012416426644,0.024063720018419506,0.0252809220823307,0.03483644108784926,0.02359092097080903,0.024197563965068197,0.02186838424660503,0.013322622598909348,0.025036972043298716,0.01991133898020675,0.019244721023080592,0.02665487445169581,0.018498896417767353,0.016538337412489106,0.01835239228217716,0.018553909230307718,0.034264855015087095,0.019094113055058093,0.019599340425614085,0.026193314004014357,0.015074020262310544,0.02822900264748154,0.016328612799493908,0.02229118627687018,0.026885896077444314,0.015422577794715245,0.020489898885860454,0.02642597179824896,0.01977902391230737,0.025531845954254225,0.021548821765568486,0.02207757241091626,0.03320282073301208,0.03700066283599389,0.025444807155281312,0.02738956774681683,0.03601804978157957,0.026120437450298024,0.02110150403044625,0.021048181031260355,0.021975325291752987,0.022338849742440256,0.027487979257889768,0.02659471173178938,0.024639731792824374,0.02256802062022909,0.023376073272882006,0.024301313140546538,0.02028720175062517,0.02612668707746621,0.02927625776831338,0.02927725019837873,0.02446822914856152,0.022037633806395243,0.016286045596421512,0.024280847623253367,0.023829131008922644,0.019968363475311984,0.019911982718627517,0.030683845470162924,0.021664050942883664,0.03536422612556591,0.026763398020461435,0.026139776425354873,0.020836686137608095,0.020303107454104664,0.036402576198243976,0.02075037154435851,0.027474863087566886,0.024126484514443144,0.021132644876550297,0.01657937573681227,0.023447233190809665,0.03148728466413377,0.019775966154808776,0.034572132821260884,0.02429863089712674,0.024131714889111765,0.02612596287174284,0.015489446123171192,0.01706732945974468,0.019565973317471612,0.023958924768007407,0.020788566690656644,0.016862057370826376,0.035312378360260924,0.02439910773563294,0.031282924537978214,0.028504308112091176,0.02671138932055126,0.024286131642790414,0.018511127447761726,0.02339999888418673,0.024685061706619223,0.03170277610048157,0.017888256880812685,0.020023537222457543,0.025314530592380962,0.017916876418102096,0.020615696102249694,0.027332221382501215,0.026234754664850465,0.03559562326539319,0.03141011652094576,0.020063422182110144,0.010339565579564131,0.016132835852281778,0.02107049729651323,0.019277283458197132,0.021468193528368915,0.013501689169616062,0.032732301592308444,0.0202681041774761,0.02337784355353907,0.01741352661793996,0.019333288700802823,0.015531101363480904,0.028640351498344086,0.0271787434140195,0.02001970161436721,0.01593351834375546,0.024353268195588335,0.014534701577888706,0.02142007408141746,0.02908659633609839,0.02837228809096796,0.030009261250079952,0.019801983915980974,0.009064856216732144,0.021159118619103863,0.02787837978764358,0.02215718139561632,0.021126690296158296,0.03345972600776177,0.01996796113879902,0.018267311520900678,0.030574463583502964,0.01922122457072302,0.022413523399247855,0.022073790447694322,0.015984883305244873,0.021838530877342516,0.02459475057067411,0.01913528549155221,0.03900333306296321,0.017030877771669402,0.030426537858900263,0.03059897928836006,0.019832266444190658,0.025469296037704186,0.021291943313252994,0.021048824769681125,0.030013821063893616,0.02247829957783637,0.03125645079542464,0.028892723781714313,0.018167961224630807,0.010482743733313782,0.015136409244255395,0.034166738550790325,0.015678410172097024,0.02179451526282338,0.02095167391301549,0.022344133761977285,0.026823989899315025,0.019076678472829307,0.023266557274051025,0.02432464865829893,0.010992101758736265,0.027713153592983087,0.02024039660294944,0.04092626019306145,0.018689282055705705,0.012558183224262583,0.027148219483902034,0.022650821474598726,0.027265943147597636,0.024393528669319733,0.0297211614843578,0.016523424139074958,0.014464373155421189,0.014578261211026499,0.020459884581992743,0.016147588191090752,0.028793963578996787,0.01497762043380244,0.019022443510880685,0.028196735259141195,0.036589823611381134,0.038351708846553804,0.022417627231680164,0.025408355467206024,0.020401089806230455,0.027512065803799682,0.03252155772681372,0.01902973921298257,0.01944419946621212,0.02139030117945755,0.01994720057472965,0.027412983731871773,0.02473956489290982,0.023077673692427775,0.02252440734222292,0.03839245212410075,0.027209750147952558,0.021775524979411112,0.02542265182463363,0.03386592495125828,0.030899149149471332,0.01845992342087748,0.021729390392590312,0.01658415013009953,0.024166932745213913,0.02288168216574205,0.021691436648199947,0.017726437135295366,0.01672620174161285,0.01954743901544072,0.024925068847824108,0.01746805662666477,0.018572979981022593,0.024743400501000157,0.018408665749124864,0.020221245384931967,0.032300460401718536,0.02321092754552409,0.02177021413743988,0.01900506257352029,0.01875201972929512,0.016462966372392362,0.02933923684381061,0.019463055637453396,0.016722607535430277,0.029222478787746146,0.024176910690735624,0.027333294279869146,0.021850091346481908,0.02499180306410906,0.026738828670735938,0.019271650747015517,0.028271435738382995,0.023410084119445243,0.018785628239345386,0.015741872051409804,0.028328406588619813,0.023633273594407887,0.024223581726240385,0.020450308972984013,0.021370372110848315,0.028348764816176215,0.028284042282456102,0.020222237814997296,0.0210005443881245,0.02140816492063349,0.02160501476521358,0.01938602160643637,0.023546073860829755,0.019220232140657705,0.013468751220420743,0.027874973338500413,0.019152451849439013,0.020805652581240848,0.018196151602973033,0.02447557849553183,0.017510301960526824,0.019575951262993344,0.018251191237947613,0.014507852321256358,0.020125194248068468,0.022714471110950915,0.026613567903030686,0.025445236314228483,0.026526314524584142,0.0196566599674955,0.026535756021421907,0.02662091725000096,0.025303747973833324,0.030935332613204615,0.007496038862917609,0.023935777007294424,0.026264420277073604,0.02713183097660698,0.016947433178879028,0.018327179194030922,0.02405559282085748,0.024941859691632116,0.017328365389360903,0.022212516077367073,0.023075286495784157,0.02272874064594431,0.01992198748658341,0.02025101828689189,0.021192995353496086,0.019344151786653073,0.02511655420556457,0.02833867958091772,0.024289296690025795,0.02390624550724227,0.018091624576902932,0.016329900276335428,0.01748565214349873,0.01545535480930538,0.020755601919027165,0.02612419259108576,0.020545609081689988,0.020617064046393803,0.025143537574367908,0.03134909548314502,0.019182948957122296,0.02746751374059659,0.02311522510030519,0.020135091726287566,0.022616891095338074,0.023098622013536532,0.01720742303356153,0.020590778060879632,0.023449218050940288,0.018432457248258562,0.028336560608616036,0.03129705996080061,0.02251239089170218,0.016567976202278064,0.01567280428334963,0.025123098879508914,0.021180522921593947,0.014873120230166533,0.020614033111329408,0.02091516858007184,0.022938223857031707,0.023626112004477,0.014208406665868431,0.017599727956143375,0.015030648386212148,0.03318340129065262,0.020821450994983552,0.018911586390339824,0.0241439459191061,0.013805533704212494,0.02281191701439271,0.023006299195026565,0.0219850886578011,0.02049596075598923,0.01981547560038262,0.023245501663205506,0.027199664912694037,0.014906514160743194,0.029341516750717445,0.022583497164761435,0.028180856378095892,0.030235481660107,0.016145549686091686,0.026187118021714577,0.024340205670133848,0.02532013648112838,0.030149408468765168,0.02310366463116577,0.02673818493231519,0.018762534123500797,0.023864724379103575,0.022074514653417664,0.02356289152707198,0.02472907732113836,0.023422663841084157,0.02649452994005938,0.024764053775332695,0.0327632278589389,0.026417844600686902,0.023275945126020384,0.022029265206925407,0.03378443839616436,0.012967547214994452,0.014587863642469398,0.019202126997573954,0.01495318519624796,0.02316404193054579,0.02364923294275576,0.02735311605874155,0.0176714511451892,0.022842628701549562,0.021016530558906572,0.017166009195159603,0.01613600089951715,0.0184016114489307,0.03280877235220731,0.02975873971466937,0.012112716237100023,0.02129250658437116,0.023252234094189254,0.021650854305258163,0.019923274963424942,0.0243394278195421,0.02690759542671061,0.016975972248865837,0.027577566188111517,0.022664259514131986,0.031419584840217694,0.023318539151527026,0.03152816205385173,0.02276369027770448,0.022903140113100573,0.024645176746966584,0.025212873566770044,0.023242524373009506,0.02848137493085176,0.023340050743753928,0.03010780687332386,0.02319150810316467,0.015789884208624455,0.026848773828514118,0.028491889325057432,0.021991740621482243,0.026753822411452702,0.02441313586871857,0.028047897571775764,0.031969578853450364,0.022010918661933908,0.024569054678712305,0.01488173023154412,0.027513165523601807,0.028195742829075866,0.013662543307502257,0.02412562619654879,0.028603148782111273,0.028983383609304005,0.016444485715229867,0.024820568644188155,0.023653900046306242,0.023684826312936696,0.021210590870330056,0.023811589136957072,0.016370133927632636,0.02536444714242369,0.020851492121285464,0.027175900235994505,0.017564671034646435,0.01844712911976495,0.01689786532048088,0.020405515507873118,0.02611839894529898,0.018682764204195547,0.018040956998702652,0.027015904416002646,0.020766947808692975,0.014604895888185207,0.02908434325162578,0.015990006390176722,0.03076474193170449,0.01769553769109911,0.01953520798544636,0.02111338636879602,0.026896598228689353,0.020020559932261546,0.01588813478509222,0.02557317932535355,0.022310096092979854,0.017604314592391264,0.0253944614462914,0.019880144489234346,0.02859933999645515,0.01768290432459179,0.02405379571776619,0.030252352971217603,0.03700873638868754,0.02030654072568202,0.019289434020888865,0.019887171966994237,0.01904250669166089,0.03211179139956885,0.024962620255701472,0.023175521932382585,0.026032218464220387,0.027769775751575326,0.017978782596231393,0.024782346675455848,0.017819510981962883,0.02827334013121103,0.02887840060185251,0.019019788089895073,0.012761926434431586,0.01055792701637113,0.020863052590424862,0.020688921347610578,0.014042751312260765,0.03335428701892891,0.02271044774582115,0.02819703030591738,0.021355056500921177,0.02897681211292546,0.02341668243825798,0.026658951461693916,0.02767933050345923,0.021652892810257236,0.02478956191025513,0.026754466149873472,0.01829914975029387,0.02517213028922309,0.019688176327678317,0.018613052697714606,0.021345480891912468,0.02245348882620308,0.021947134913410764,0.021211100496579812,0.01926711775563603,0.02928312431146811,0.03249937557373186,0.021878308547258342,0.022097233255183497,0.030767933801374082,0.02642851992949776,0.026290759907456163,0.019124341938399382,0.022232364678673684,0.023340694482174677,0.017715305825103132,0.025098422240046638,0.01922347765519567,0.02722997426333794,0.018640813917109648,0.02833859911361513,0.02089942381119754,0.03366717071385012,0.02233112488139121,0.03324592438476848,0.026699936141148673,0.030768148380847668,0.01794560324512829,0.028682382252732563,0.02061776142968296,0.013478165894824305,0.025233473196234216,0.023455574967845262,0.02067363256011764,0.028386047999711596,0.025548449041022887,0.02942941386758473,0.022713827372530138,0.017462370270614758,0.019579572291610073,0.018511181092630093,0.021167674975613036,0.022700657557338855,0.024746216856590966,0.024753780783034834,0.023819850446690105,0.02457334626818399,0.017751167419626034,0.022733166347586986,0.019757217273304286,0.03267597448049236,0.03096754635667658,0.02769182975779557,0.026942840105246946,0.014068232624748997,0.020084933774337073,0.029420535641865142,0.02535830480499232,0.025626529146973633,0.02369973958635085,0.02205780427691223,0.028093522532346777,0.025785264312558176,0.029259413279636968,0.019352520386122896,0.021989407069706996,0.022790941870849755,0.02590687722921251,0.03090751774894117,0.023935079624005266,0.021215687132827697,0.020100061627224823,0.01776828013264445,0.023157389966864637,0.013456386078255422,0.025222341886041996,0.01478058283218297,0.023988027109112388,0.017705140122542058,0.027424651490747978,0.016884454103381796,0.017130093955768318,0.015443847985034356,0.02311254285688537,0.01703213842607673,0.02624430345142501,0.010750887607992485,0.03218297813993069,0.02869799290943587,0.014539234569268197,0.02535605172051966,0.01840464238399511,0.02536812181590884,0.02194281650150485,0.02843475754021542,0.018100261400714718,0.02634638963598309,0.018886105077851545,0.009056514439696519,0.021189964418431687,0.024397766613923032,0.022785309159668143,0.030625801722558167,0.023599450504884045,0.02471330572982984,0.023843266431745055,0.017024520854764448,0.022287913939898013,0.018634349710467908,0.04274761076485136,0.02375480604375963,0.030567167881401063,0.02799022933824977,0.031650445531360996,0.020678165551497152,0.02766760909971465,0.023416682438257973,0.02164667000552329,0.028624123925654228,0.021484126054282588,0.025259866471485162,0.03753273946318224,0.018521078570849205,0.021294545089370204,0.02044937018778708,0.018309020406078777,0.027120941068322545,0.02965654624037451,0.02158495158443339,0.026878171216395234,0.02546873276658603,0.025583961943901206,0.03534620144978476,0.01856597932569687,0.029438104336264925,0.03905244493997999,0.017000380663986146,0.01963093725309951,0.02769647003891184,0.0208076374413715,0.027320446333888235,0.020433625418912783,0.01970035371280426,0.03093380373445534,0.02382414203616178,0.023096744443142667,0.016966852621238482,0.015736561209438584,0.017721394517666123,0.02026577062570086,0.02247693163369223,0.024053742072897788,0.016577283586944824,0.036560023886987,0.029596598099941678,0.022536933418993464,0.02701794292100172,0.023844553908586568,0.021771984418096937,0.022556460151089704,0.027818646226684327,0.022464432379355914,0.01869032813063942,0.03360319920828758,0.01777316181566849,0.024722774049101788,0.014507932788558973,0.023882507652976927,0.029810051031290412,0.016112423979856988,0.019144968390297744,0.02977241915611044,0.029090136897412557,0.02378975567551979,0.026206027837824268,0.025638491952625988,0.033358176271887655,0.021195623952047486,0.02300227582989686,0.017160456951280604,0.0253570977954534,0.025961863219318666,0.02784139165088434,0.021939812388874654,0.0316288534718315,0.03455786328626749,0.01603603368726072,0.024391677921360044,0.021041904581658003,0.03290192666617743,0.028601700370664573,0.026120088758653452,0.017192295180673764,0.019918956551519026,0.030828847549438036,0.018705214581619375,0.023502541050126197,0.03107140282189174,0.019698288385371,0.02010381676801256,0.027512146271102288,0.014384844638023734,0.009342253831209218,0.02618969297539759,0.017447403352332216,0.024387654556230334,0.018893105733177293,0.03242749145008088,0.020641982087763865,0.021847757794706657,0.023534647503861347,0.023154627256142216,0.021340384629414812,0.017866101550165048,0.021635914209409825,0.019038536971399574,0.02826298667161059,0.01892534629908344,0.02028859651720348,0.018754621505412322,0.01957393958042847,0.024752278726719736,0.023103101360047625,0.024576725894892956,0.023606451160209756,0.02076456061204932,0.01605877911146074,0.015692250548143258,0.02901157398764624,0.03665274904200994,0.020708018920759658,0.02002954544771792,0.03135121445544665,0.020510793562100813,0.0293465861907809,0.02229730179186737,0.028225542553469995,0.02278713308519364,0.019986763665171912,0.015222053276650022,0.013902094467325765,0.02217297980935901,0.028814429096289958,0.02439755203444944,0.019084027819799586,0.024385803808270677,0.019400425253600737,0.021943862576438582,0.024216634715783048,0.01975917531100077,0.026301622993306406,0.031009603933499254,0.030240980259117603,0.024930191932755932,0.03194688707411878,0.02118234684711942,0.01811718635669373,0.01269790128400065,0.02633547290526444,0.015306865813584513,0.01754281075077493,0.024279560146411874,0.021020527101602123,0.02394543308360572,0.015377033301446814,0.029400955264900493,0.02006674816395073,0.025826731795828492,0.034661612461745823,0.01937252992203469,0.018215195531253718,0.02018487416415932,0.021073984212958953,0.017741216296538537,0.014212081339353559,0.019726291006673863,0.03572812609033195,0.019279751122143356,0.019110796609129316,0.02736864624814227,0.0228938863733022,0.02837408519405924,0.02098141999254123,0.029574094077649445,0.023350055511709808,0.03484588258468702,0.024028073003370183,0.023235148203605012,0.022551632112934036,0.01588387001805471,0.02472140610495769,0.019417162452540396,0.027114181814904624,0.023028695927582013,0.014567800461689182,0.025110116821357012,0.020724568362659915,0.023631932472697965,0.022519579304067262,0.013361300549023057,0.020828880809256455,0.017331342679556876,0.019734418204235882,0.017908615108369073,0.017791427893357442,0.02748993729558622,0.030536697596151983,0.01706429852468029,0.031761088072428285,0.019514957047626784,0.02521201524887573,0.017384156052493,0.016577042185037034,0.01846893575876804,0.02233241235823269,0.015228115146778812,0.02764438087169907,0.01554625603880284,0.02321500455552222,0.02774477724290266,0.018033661296600764,0.018360358545133987,0.02464858319610977,0.02831952836290023,0.014565413265045573,0.023000854240884355,0.020945826622360292,0.0300987408905649,0.019102401187225317,0.02546924239283578,0.022320047216067375,0.025797066183605347,0.03208279634820068,0.02744272981139751,0.023809792033865775,0.03190614379657179,0.020598207875152506,0.021777697596581148,0.027175471077047354,0.022398717415570476,0.027023387875143943,0.02786665838389897,0.02452554869044292,0.020538635248798474,0.024287392297197716,0.022219570377561167,0.016197182871923087,0.02516722178376482,0.03244688407000612,0.019791791390985698,0.023608838356853373,0.027257735482733005,0.025405324532141643,0.01736146427316138,0.021105581040444382,0.02784753398831572,0.023117209960435845,0.027366393163669633,0.019858311027797053,0.031493158777223154,0.02803285018619061,0.01869038177550781,0.019088694923350073,0.03100673393304005,0.02284549870200876,0.023794288666899262,0.019478880873630304,0.02501489717995363,0.025292509373904294,0.018618712231330395,0.024144723769697868,0.03697408180370356,0.025393254436752492,0.021892873129027934,0.03465058844129042,0.021138921326152655,0.015715317841553673,0.031721122645473054,0.023685175004581286,0.026995760767919836,0.02175830497665592,0.023180108568630446,0.022798130283214868,0.020397817469258242,0.020618485635406296,0.03300825079533881,0.031776430504789635,0.025720461311535506,0.02321299287295739,0.015656791290133337,0.020733232008905908,0.022833509073922197,0.012163759329379062,0.01548987528211838,0.01674173193101354,0.018574186990561507,0.024487997282565552,0.015296083195036852,0.0177330890989765,0.01548810500146129,0.026536051068198077,0.011748521225557787,0.013242074829012355,0.022431923589107783,0.02788479034941692,0.03752107170430606,0.011376708642703296,0.020714161258191033,0.028685547299967945,0.03151807681859322,0.04162267787458172,0.024791278546043814,0.01624779680525497,0.028120988704965686,0.013300842782340465,0.02538048695807419,0.01685486895846126,0.02422012163222881,0.030734271646455417,0.02199836576272917,0.025625134380395327,0.02487649341949128,0.02460124159975006,0.0212013907754001,0.02671141614298547,0.03481975753377803,0.017809345279401787,0.018298425544570514,0.01946176816061189,0.02340415636148746,0.01893194461789618,0.027245155761094084,0.022974165918857196,0.011465383610162317,0.023229783716765394,0.014172759650819105,0.020600407314756743,0.014099400293287228,0.02047796290264229,0.016958591311505462,0.022807008508934433,0.02260267520521308,0.019221734196972807,0.02333031420013998,0.016346422895801488,0.020843096699381447,0.028573724571795935,0.030005962090673566,0.02151357708703214,0.01969989773142289,0.02018385491165977,0.016927021306454265,0.012753396900356604,0.02788041829264263,0.025664938872745353,0.02083118753859748,0.02201596127956316,0.024277575286281213,0.02285923178831823,0.018149292810428888,0.02227281290944447,0.025406263317338567,0.02993193217228672,0.02684340934167447,0.020295731284700174,0.020209228934411218,0.01826615815623016,0.018891120873046636,0.015610147077062781,0.010766551909564173,0.02577016328210462,0.02738114550247861,0.033514309661354984,0.021373188466439152,0.017705408346884027,0.03380356279174761,0.02231234917745251,0.022607208196592562,0.02130720527831173,0.022106621107152835,0.032516166417539905,0.0205449116984008,0.03288905189776231,0.027646177974790343,0.024710677131278433,0.014994867258991837,0.027476257854145196,0.02607293491933315,0.029099685683987096,0.023205670348421276,0.016378556171970857,0.01839654200886729,0.020267621373660547,0.02482394827089714,0.027181050143360537,0.02956634239416618,0.011266280681109579,0.02046921878909371,0.019507849102564267,0.030383380562275485,0.02477607022585349,0.021066554398686075,0.022215976171378635,0.020113419199455494,0.027185153975792867,0.0244054646525379,0.022697680267142868,0.02810114010365905,0.021218718067892092,0.012805593357306149,0.022417627231680153,0.01994677141578248,0.019506668915459564,0.032085344479449496,0.020570178431415478,0.02626203308042998,0.018212996091649468,0.022885490951398173,0.023855712041213013,0.02133274023566834,0.02879683357945599,0.014450237732598783,0.01572577859089093,0.0244253400762787,0.021465001658699332,0.026713669227458103,0.022126872044972414,0.0382206276106275,0.02499545091516,0.031709401241728497,0.030865862508631485,0.020941910546967372,0.026693552401809505,0.027959142137014135,0.026476934423225417,0.026562229763975452,0.016808680726772093,0.022487660607371483,0.029598422025467155,0.02578521066768978,0.017337753241330255,0.019316202810218626,0.029745382142438714,0.029613683990525885,0.02319816006684581,0.015072089047048261,0.02908343128886303,0.017648839833160165,0.031889031083553385,0.017687195914063508,0.02068640003879598,0.0218630197597654,0.02169940291115681,0.020931262040590686,0.01901300201404294,0.019928424870790988,0.011676985793551378,0.027835866229439538,0.014938298745268008,0.01721850069888535,0.024564950846279986,0.02286352337778992,0.023548756104249557,0.025380191911298016,0.017678532267817498,0.03243489444191955,0.02540046967155178,0.02709108769906001,0.025563711006081617,0.02291577347960786,0.026848773828514104,0.020260432961295434,0.023244026429324615,0.024160468538572174,0.02007423162309201,0.021335985750206315,0.022131753727996466,0.020459830937124363,0.029309329829679685,0.03492031483958685,0.018292363674441738,0.01643155730194635,0.03122469303333407,0.01697484570662952,0.026878224861263643,0.01672056903043123,0.027695343496675517,0.018261947034061046,0.026235264291100235,0.01278024615698892,0.028002701770151912,0.029061410070386366,0.022807464490315794,0.01709415189394281,0.02681698924398932,0.0224561174247545,0.019868557197660744,0.01772109947088994,0.01662108462199035,0.019461768160611882,0.013119764529068883,0.022276836274574174,0.019904096922973263,0.02279982009656936,0.02787561707692117,0.01508212063743836,0.03269383822166834,0.0174215465257652,0.023210632498747927,0.015500336031455644,0.014888087148449084,0.019033547998638697,0.01797773652129767,0.021569206815559065,0.016539678534199048,0.01955991144734284,0.022463252192251218,0.03413889686409265,0.021073206362367234,0.021382603140842674,0.02687991467461814,0.019873143833908632,0.03186861921112859,0.023112784258793158,0.014650708605795624,0.027403327655560472,0.02257601370562013,0.016180418850549244,0.02193941005236169,0.017322008472455942,0.01330427605391781,0.023248425308533105,0.014207682460145074,0.029523775191093768,0.02136768986742851,0.0228564422551616,0.021815892742879293,0.019516298169336685,0.01916487063647277,0.026553914809374034,0.024088959928999936,0.023823846989385604,0.02661402388441203,0.030855267647123208,0.022158924853839197,0.02671672698495669,0.02285284804897906,0.019507634523090664,0.01968219492485214,0.01894929873282236,0.023388411592613147,0.02148581586763707,0.02591725751124719,0.02347475300829692,0.02238466246005065,0.01763601870961347,0.015654725962700095,0.016356347196454804,0.018063192796652895,0.023062706774145257,0.013299394370893758,0.016026860414764962,0.026759321010463313,0.025234733850641535,0.018647170834014612,0.028767597126180024,0.024206415368353558,0.022421999288454467,0.017233199392825936,0.030494103570645355,0.01832058087521818,0.02403392029402538,0.027956406248725946,0.026086775295379387,0.02777294079881073,0.02919343009150955,0.02460427253481444,0.01312268817439645,0.01959740921035184,0.018422935284118258,0.021136668241680007,0.01845257407390717,0.022560483516219414,0.019477110592973225,0.018397293037024826,0.02690767589401318,0.021538843820046803,0.021246774334063342,0.02654522434069384,0.02914013391475788,0.019058600152179753,0.03276550776584573,0.02094376129492704,0.027487255052166405,0.013815913986247168,0.01382106389361319,0.0299811513390403,0.020404737657281402,0.017041150763967304,0.022114077743859893,0.018283619560893152,0.0280271906525748,0.027956808585238906,0.02052970337821048,0.018296333394703074,0.018798342073155307,0.020487297109743223,0.025597882787250024,0.03144731923717855,0.020389368402485862,0.01660257714239363,0.023913541209344174,0.021974922955240006,0.027708137797788017,0.011007551480834411,0.03342099441277967,0.02357179657522579,0.02500309530890647,0.016236048579076186,0.023670288553601294,0.02300809629811783,0.01389597895232859,0.022479318830335854,0.030856876993175096,0.024539710935699535,0.030173065855727918,0.022849843936348882,0.021216357693682637,0.030116497342004056,0.025786256742623512,0.016794142967436688,0.024470267653560612,0.04029773009249664,0.022478272755402144,0.024129381337336508,0.02566799663024395,0.019540733406891178,0.01706429852468028,0.015465171820221882,0.02148611091441327,0.017791776585002004,0.016596998076080442,0.02631991589342953,0.02635953262874016,0.02980229934780714,0.03175239760374812,0.01673207585470224,0.022871999266996523,0.029331780207103517,0.01941236123681892,0.03096188682306078,0.01943663553976823,0.025304445357122472,0.020758015938104994,0.02031018857673298,0.01885745871812797,0.022195912990598417,0.03476935817991975,0.024484403076383,0.019605670520084856,0.01878621833289773,0.01517025915621342,0.02202223772916551,0.02545186145547542,0.021634009816581756,0.03026866101121005,0.01916310035581568,0.022929613855654105,0.01669712622294205,0.028954629959843593,0.017449951483581007,0.012822115976772202,0.02850422764478857,0.020049447693892927,0.021268929664710987,0.026280942896539657,0.02008163461493072,0.02666906351938662,0.029271939356407477,0.02405934796164519,0.023477059737637994,0.02021338641171193,0.012391374505984404,0.025369328825447762,0.027266265016808025,0.02733495727078944,0.01447829399877,0.027030951801587787,0.013112602939137975,0.023954069907417545,0.019853563456943987,0.025922112371837048,0.020925602506974915,0.02617722054349547,0.024234230232617025,0.017877474262265033,0.018642101393951182,0.03643867919467465,0.021603029905082918,0.01634585962468333,0.027623995821708512,0.022896702728893013,0.021752430863566513,0.023186224083627652,0.026337994214079088,0.02303719863922283,0.021717910390753506,0.01855549175392541,0.016764128663568988,0.029393391338456636,0.025722204769758374,0.015602824552526698,0.024701611148519473,0.02384243493628492,0.023704057998256745,0.02502165643337156,0.013250765297692549,0.0284507168885633,0.0254488841652794,0.02651335928886646,0.01417072114582006,0.038037752254264645,0.028195903763681036,0.023104227902283937,0.020300693435026853,0.026090503613732913,0.014536659615585161,0.030123202950553596,0.019559911447342853,0.03124078649385295,0.026116279972997314,0.027338846523748156,0.03500893616217746,0.015873972539835596,0.02118532413731542,0.026222604102158688,0.022572258564832394,0.021432841560095783,0.02881619937694703,0.023797453714134647,0.02095902325998579,0.025696803924572745,0.01529061141846045,0.03650120228879049,0.024860829117919585,0.027606614884348096,0.022143797000951433,0.01863552989757264,0.024255017619120592,0.026261094295233045,0.013692906303014533,0.024640375531245127,0.029680927833060596,0.02635996178768736,0.024789615555123545,0.026650985198737067,0.0209227861513841,0.023193305206255947,0.01743468951852227,0.02434154679184375,0.02872784627869841,0.027790187624000113,0.02498676044647982,0.0277946937929454,0.026075912209529133,0.022211121310788763,0.025610677088362552,0.012721344091489825,0.016967201312883044,0.022881950390084022,0.01849197622974425,0.02272753363640539,0.019516566393678658,0.029260673934044277,0.025062024196839755,0.03400325581435273,0.021496249794540147,0.014962519403348896,0.032211946368864694,0.030479431699138984,0.018947689386770498,0.024038292350799677,0.021831261997674815,0.0365110997670096,0.02164787701506219,0.02460250225415736,0.022646905399205802,0.020558671607144467,0.015073135121982014,0.029089922317938964,0.023627479948621105,0.0291398656904159,0.026965987865959936,0.01887095040252964,0.02358456405390407,0.01658696648569035,0.0213936271612981,0.030020392560272134,0.021202624607373204,0.01656545489346345,0.02390691606809723,0.017386811473478626,0.018321600127717698,0.02595655237734744,0.024343880343618993,0.016210325864680172,0.029159204665472754,0.02634716748657484,0.018250788901434646,0.017974705586233264,0.027073063023278866,0.014967240151767763,0.022085833720649286,0.029385854234446947,0.02454456579628942,0.026474144890068798,0.02140194211589952,0.03134619866025159,0.027633383673677847,0.015266819919326713,0.023486474412041502,0.014815961622890304,0.017397728204197268,0.02312434472793254,0.01954792181925628,0.032610071759667555,0.023658996308803883,0.01506490063468316,0.019809950178937826,0.03244924444421555,0.02406570487855015,0.026482754891446397,0.03396860122936872,0.025426111918645196,0.02123813751025154,0.02389240513119604,0.022287860295029625,0.024670738526757413,0.021396416694454724,0.028786721521763283,0.02044505177588117,0.029975491805424474,0.015328565162850805,0.022025966047519073,0.026696154177926718,0.029238008977146845,0.019856057943324394,0.0271818279939523,0.027208221269203255,0.025155554024888654,0.024190590132176663,0.033493817321627595,0.016897141114757538,0.0162515787684769,0.025979726960494637,0.02378213810420749,0.0249411086634746,0.017657315722366763,0.019452273018905737,0.028118789265361425,0.029319361420069794,0.02017229444252038,0.02655262733253254,0.012054243330548092,0.01546817593285207,0.022023069224625654,0.021340384629414823,0.015491913787117421,0.031916711835645865,0.02987254730297207,0.021108155994127412,0.026508584895579185,0.015441702190298523,0.03450585458635729,0.019714059976679507,0.02636956421913029,0.020123397144977198,0.02081123164755408,0.019537756116695195,0.02660806930402005,0.021562849898654108,0.015173343736146221,0.017292450149969604,0.024240533504653588,0.02213003709220781,0.01743997353805932,0.020037726290148355,0.018779485901913993,0.02423372060636725,0.023933014296572012,0.0296050203442799,0.020778615567569138,0.020988876629248303,0.017574353933391972,0.028330203691711096,0.023346219903619483,0.031539588410820135,0.024914634920921025,0.01660963144258777,0.02266490325255275,0.014661303467303884,0.03504790915906732,0.02153715400669231,0.026627622858550512,0.024685544510434795,0.02131868528014852,0.018774175059942767,0.020887702407452947,0.02448236457138394,0.0316734860023372,0.019423573014313734,0.0169491498146677,0.019371832538745526,0.02675159614941426,0.00858655857011104,0.016544989376170258,0.024433333161669762,0.018110829439788784,0.024429658488184618,0.02262458913395294,0.01791371137086671,0.0289874069744337,0.02910708867582578,0.01963667725401789,0.02846039978730883,0.017047051699490903,0.018130946265437382,0.02651244732610373,0.025183771225665057,0.030376487196686543,0.025517174082747847,0.01119402104337981,0.025097402987547084,0.028561976345617135,0.02130205537094567,0.01971054623779954,0.02518320795454691,0.023763496512439808,0.021341430704348546,0.022944285727160493,0.022297596838643543,0.02965480278215161,0.02028856969476928,0.020209872672831957,0.01920743783954519,0.023558814517073867,0.01533688011745222,0.03387708308388471,0.030633070602225875,0.02204914063066624,0.02829080153587405,0.026984844037201222,0.018930362094278504,0.022444100974233744,0.024697560960955538,0.019757136806001704,0.02110228188103798,0.01783533621813977,0.03282918422463209,0.017657181610195805,0.021971596973399454,0.02636779393847319,0.02762863610282477,0.027121182470230314,0.02129682499627704,0.024081503292292875,0.02058643282653954,0.01943754750253094,0.021962638280377263,0.019688149505244095,0.04139157578153062,0.028221465543471873,0.0208495072611548,0.021375253793872392,0.01764741824414767,0.03798448289994719,0.025877506663765558,0.021281428919047322,0.025948076488140844,0.02300332190483059,0.019196923445339548,0.03685466832665349,0.02383503194444623,0.015507658555991705,0.023491141515591972,0.024464178960997618,0.02011722798511162,0.01741403624418974,0.01923844457347822,0.01712797498346664,0.02051538019834867,0.02040551550787313,0.018853220773524693,0.012141362596823626,0.028585016816593346,0.016954487479073126,0.019290480095822595,0.021156704600026013,0.02072261032496345,0.020645790873419986,0.022150180740290605,0.027940071386299267,0.01905326248777434,0.02425853135800054,0.021256054896295895,0.023290777932131974,0.03274093841612025,0.033948940385101496,0.023192581000532588,0.03313251913297875,0.0223352018913893,0.01969957586221252,0.02293087451006141,0.025296318159560426,0.0271543349988992,0.019874189908842356,0.019554198268858645,0.015008171186354106,0.029430754989294622,0.025891695731456357,0.01953421555538102,0.015713467093593985,0.028291445274294787,0.028882504434284816,0.028857774149954135,0.016170333615290765,0.024983756333849617,0.023282006996149157,0.021971892020175625,0.021815839098010874,0.015199039628108021,0.02051347580552062,0.024035663752248256,0.019775697930466803,0.024325319219153877,0.020404549900242007,0.017624565530210842,0.02914316484982224,0.028542798305165488,0.022087308954530198,0.030585970407773957,0.018125876825373945,0.018513809691181507,0.016309649338515853,0.02088571754732229,0.031770985550647404,0.02321344885433873,0.027539424686681777,0.027764438087169892,0.029880030762113347,0.024033571602380812,0.02059185095824755,0.02543482920975959,0.029177417098293277,0.025136590563910564,0.030294169146132505,0.019376606932032817,0.026243311021359676,0.025238086654916295,0.02957548884422774,0.024012167299890703,0.02537539069557652,0.015946339467302166,0.015578630716879984,0.01752945317854429,0.023252341383926022,0.020249918567089766,0.032875291989018694,0.027400216253193468,0.021426162773980434,0.023020622374888364,0.018122711778138553,0.03380222167003769,0.030919534199461907,0.022901852636259046,0.027263395016348807,0.027755023412766373,0.01744531120246476,0.028200275820455364,0.030346660649858213,0.023540682551555944,0.021840274335565398,0.012467711153712271,0.025427077526276327,0.023084191543937933,0.02866940019458068,0.014137032168467198,0.026993802730223393,0.02607481248972701,0.01952088480558457,0.023634292846907434,0.02302641602067517,0.022105628677087503,0.01918294895712231,0.025857631240024742,0.02623252840281203,0.02946924518236895,0.0232255189497279,0.019254269809655132,0.022075051102101645,0.029223015236430117,0.037662291820359205,0.02661123435125543,0.0272075238859141,0.02191398238474187,0.02979208000037767,0.04181142734403398,0.025527849411558716,0.020008436192003994,0.03251286725813353,0.02913605690475976,0.021326061449553024,0.023887335691132598,0.025776305619536012,0.025379843219653423,0.019706871564314388,0.022369749186636506,0.030464813472500997,0.03152180513694675,0.018332248634094356,0.02280159037722642,0.018766021039946533,0.028090706176755978,0.04089745289873265,0.020485526829086158,0.015226854492371496,0.022495358645986348,0.016702276130308114,0.02637549197708805,0.013368623073559132,0.023214360817101487,0.017221531633949745,0.01821428356849098,0.02309934621925988,0.032501548190901904,0.022814652902680924,0.024319096414419917,0.023961472899256223,0.0215360542868902,0.022486909579213944,0.022998171997464522,0.02569983485963713,0.017314605480617244,0.023552377132866308,0.02476394648559592,0.022236736735447966,0.024350880998944696,0.03057162040547798,0.0287709231080206,0.02121772563782677,0.020268667448594273,0.02315108669482808,0.02475976218586102,0.011703727760446902,0.024421155776543794,0.021138009363389915,0.0252578547889203,0.02557183820364365,0.020955965502487198,0.023592208447650552,0.02130374518430017,0.015725537188983157,0.022824416268729036,0.019007583882334915,0.026238938964585377,0.02173612282357404,0.017196372190671882,0.018966116399064585,0.020585225817000622,0.02614953979140301,0.013396518405125192,0.029771426726045082,0.02207561437321979,0.03788725157597894,0.017821200795317377,0.02358882882094157,0.014081965711058428,0.023945433083605742,0.030918327189923,0.02566198840498357,0.013898017457327645,0.018561097642672827,0.031193525364795832,0.016575540128721936,0.018144867108786225,0.03067740808595537,0.01810879093478973,0.016181706327390768,0.015844119170573094,0.021028573831861543,0.02385528288226583,0.014858502003528545,0.018390882475251474,0.02706509676032202,0.024103256286427555,0.01938502917637102,0.020377700643609675,0.02532123620093052,0.01962085201784099,0.029487296680584266,0.02235486273565654,0.025623712791382838,0.023966837386095837,0.02264655670756123,0.015716954010039745,0.015468470979628252,0.02483532098299715,0.019109562777156204,0.014692363846105312,0.022881708988176246,0.01815546197029448,0.026441287408176098,0.018126574208663086,0.028876067050077267,0.015295922260431648,0.02827645153357803,0.02551175595103984,0.026053300897500124,0.02782309875076123,0.03233838732367469,0.022538167250966575,0.014315186776411193,0.02432974492079657,0.03032184989822495,0.022264444309974638,0.017015401227137086,0.014177346287066992,0.014780100028367405,0.021564539712008612,0.026359183937095625,0.023763496512439822,0.017852180706816212,0.023064664811841707,0.017973713156167935,0.02132093836462115,0.029236748322739557,0.029348705163082557,0.018647734105132797,0.016725638470494672,0.022272598329970864,0.015220738977374313,0.02156816074062535,0.032018583440730365,0.018653876442564152,0.02490798295723988,0.03185746107850218,0.024649119644793722,0.037468767957619706,0.028217066664263386,0.028752630207897478,0.02009458985064839,0.028948997248661984,0.02655541686568914,0.02028859651720348,0.026870929159161748,0.02552345053235021,0.02218998523264064,0.027446887288698246,0.02386558269699791,0.026426186377722524,0.022219570377561157,0.023471185624548575,0.028560876625815027,0.021671883093669513,0.022741078965675423,0.023943340933738295,0.03347474657091272,0.018348073870271268,0.012417794603669572,0.03165886777569922,0.02743468308113806,0.026942303656562985,0.02447024083112638,0.01694708448723447,0.02244375228258915,0.027366339518801235,0.038834244437778165,0.016219821006386324,0.02518551468388796,0.0291083761526673,0.012521302377240154,0.01890780442711787,0.024735192836135515,0.022304785251008624,0.02703433142829675,0.02189099555863406,0.01833254368087054,0.01576129149376926,0.012044479964499968,0.024972651846091605,0.021645328883813368,0.02474294451961881,0.0288111031144494,0.03532058602512554,0.024953661562679308,0.019651590527432084,0.023989287763519697,0.017999140823787767,0.02831183032428537,0.02783988959456926,0.021317961074425157,0.023495808619142466,0.022222896359401736,0.02137675585018748,0.020355330733488435,0.01591541320067171,0.03274818047335373,0.02291633675072606,0.022422643026875213,0.0237535185669181,0.026718014461798206,0.019071072584081885,0.023429449916936296,0.026761627739804367,0.02477679443157683,0.00988961924589049,0.02955427229877702,0.017383431846769663,0.03709212733660954,0.02575541094329566,0.022996401716807474,0.029706409145548826,0.01824789207854126,0.026253744948262756,0.029097781291159024,0.02829042602179528,0.026526314524584163,0.02529674731850761,0.014254246205913024,0.019498863587107923,0.03576830609676075,0.01608466276046193,0.028442026419883106,0.02462369197717391,0.023217579509205243,0.021600749998176075,0.017719382835101233,0.016945850655261337,0.017007944590430008,0.026076207256305314,0.034349667552021575,0.028245873958592148,0.023943179999133105,0.017064700861193254,0.022885222727056197,0.02194710809097655,0.0190525651044852,0.026729843155279577,0.02777184107900859,0.02728455791693113,0.020783202203817026,0.016816888391636704,0.017190042096201112,0.026682555203788268,0.030837323438644638,0.026795397184459807,0.01833348246606747,0.02577249683387988,0.0298631594510027,0.021069665801053093,0.008608794368061312,0.02937539348510968,0.02091573185118999,0.024037031696392368,0.026818974104119986,0.021535008211956454,0.024415898579440976,0.028364080426103333,0.022996830875754628,0.019003292292863214,0.029212581309527016,0.02648487386374805,0.019937115339471165,0.021693609265370013,0.0260706818348605,0.015311184225490408,0.027652293489787517,0.020279503712010295,0.016764155486003185,0.02622662746728842,0.017007300852009237,0.015425340505437675,0.027047045262106675,0.018461184075284767,0.02758048983343912,0.02321197362045784,0.021503491851773644,0.022199158505136374,0.024598210664685677,0.026414518618846333,0.023531026475244604,0.020970208215046415,0.022264176085632657,0.01460266962614676,0.02250072313282598,0.01938006702604437,0.022181026539618447,0.017847755005173528,0.024982173810231913,0.029372845353860866,0.013688963405187429,0.014794101339018841,0.030607642934606036,0.0306784541608891,0.020631870030071178,0.024092822359524466,0.02547734276796364,0.022167829901992973,0.021066286174344098,0.033076889404451845,0.03018025426809302,0.020875229975550833,0.02397112897556756,0.027708137797788034,0.025394461446291407,0.02479514097656834,0.024077479927163144,0.02251316874229392,0.015572166510238234,0.024938828756567756,0.01114582112912577,0.025468947346059617,0.011058675040416046,0.023042509481194046,0.03049729544031492,0.01924386270518626,0.021261660785043303,0.01445463661180729,0.022969364703135736,0.014480922597321444,0.027982960458582097,0.016093433696444715,0.02051757963795292,0.02521263216486227,0.020828746697085437,0.016300100551941303,0.02624545681609553,0.010903963239961227,0.01563026390271139,0.01717188330824898,0.019951787210977543,0.019721972594767948,0.02594201461801206,0.019500258353686187,0.017904028472121202,0.024335189874938795,0.018263475912810363,0.019219454290065965,0.02286778814482742,0.02211938858583115,0.025071653450716894,0.026902016360397376,0.02205576577191319,0.022449492283507573,0.01982293223708971,0.02385069624601793,0.016131682487611244,0.022132665690759216,0.013491040663239412,0.029887675155859814,0.020994536162864112,0.01812686925543927,0.03504825785071192,0.019187776995277968,0.03520696619386223,0.018961502940382527,0.01724398201137358,0.020569400580823724,0.026719006891863538,0.03594482453621867,0.02982807570707156,0.018969871539852343,0.018091973268547504,0.026696905206084254,0.011747233748716274,0.018326133119097192,0.010230156870469954,0.02406980871098248,0.0242849782781199,0.02313960669299127,0.025422625002199432,0.021051587480403547,0.025972592192997947,0.021786334420392947,0.03604345062676518,0.0261410639021964,0.034183529394598344,0.02606995762913715,0.018392894157816333,0.037302173818815114,0.02543308575153674,0.03065318742787447,0.03060745517756667,0.03210015046312688,0.027207577530782512,0.04143054877842053,0.017324046977455,0.0282496827442483,0.02833012322440851,0.021697632630499737,0.022583979968576987,0.02169546001332968,0.02031268306311339,0.022845445057140375,0.022114024098991533,0.02487359659659788,0.019344151786653073,0.021343952013163178,0.020044700123039855,0.021967305383927747,0.027525396553596176,0.02234298039730678,0.019549102006360994,0.024796106584199507,0.01703173608956375,0.019122652125044902,0.025046306250399657,0.016442178985888824,0.022506248554270806,0.01690360532139929,0.023797346424397847,0.02410188834228344,0.022747623639619775,0.02429149612963005,0.0181740230947596,0.018435219958980974,0.01845158164384185,0.02347885684072927,0.014526279333550484,0.023276937556085724,0.015066322223695666,0.02458713299936183,0.023297832232326048,0.019792891110787816,0.02814287581127135,0.020255417166100395,0.008822756925659796,0.03834301837787361,0.023355983269667598,0.02504096858599423,0.02638791076412177,0.01783327089070651,0.020264805018069737,0.023310116907188805,0.021710856090559408,0.0248373594879962,0.02552996838386036,0.026655035386300988,0.016395910286897054,0.029171757564677485,0.022504210049271726,0.036687698673770114,0.03045668627493897,0.030818359977666576,0.02269743886523508,0.026687222307338755,0.02384128157161439,0.032948034430563995,0.022659941102226105,0.022262083935765196,0.019513803682956257,0.014271895367615396,0.030219280909851307,0.020916804748557928,0.03188624155039677,0.03524567096641017,0.021107619545443428,0.021326034627118816,0.02919321551203597,0.016304123917071034,0.01343090476576718,0.027175766123823518,0.024115675073461275,0.02550735707183134,0.01606250742981427,0.013609247130750554,0.026640980430781183,0.027787988184395873,0.03290592320887296,0.021106868517285892,0.031014136924878734,0.01940444861873048,0.0147846330197469,0.026761922786580544,0.02038483541110638,0.015110579240122593,0.025630767091576936,0.02462771534230363,0.018944363404929918,0.02629923579666278,0.022248592251363546,0.026707607357329334,0.023239734839852897,0.02371725463588223,0.028046288225723873,0.02544577276291242,0.026072210713609795,0.02506253382308953,0.019409866750438494,0.018436453790954103,0.02726135651134976,0.0218775306966666,0.023013970411207216,0.024853479770949302,0.02330038036357488,0.02023436155525485,0.026271045418320524,0.033444678622176635,0.02703127367079817,0.031105628247928535,0.03122278864050599,0.02555665670588749,0.03764365022859152,0.02612065202977162,0.04230101723545249,0.028620234672695477,0.01929251860082167,0.017142244518460043,0.02600051434699819,0.015174255698908946,0.024823384999779,0.026934900664724287,0.02831832135336133,0.024729345545480348,0.024120342177011755,0.01981877475978902,0.03188291556855623,0.017722306480428867,0.028709875247785642,0.03394923543187769,0.032262855348972753,0.02045422504837694,0.019207732886321376,0.023101384724258937,0.021457357264952872,0.028631956076440087,0.015240292531904745,0.013044715358182506,0.027266211371939617,0.02058082693779212,0.025612286434414423,0.019359816088224777,0.027434683081138063,0.021362539960062456,0.03377446045064264,0.018210179736058672,0.030894455223486647,0.025296318159560453,0.020413857284908757,0.020166903133246553,0.022151736441474095,0.022315460579819493,0.018004237086285416,0.023219108387954532,0.020027855634363455,0.013878383435494615,0.03127482416285037,0.020823194453206437,0.0249608499750444,0.017003706645826726,0.02091211082257325,0.022818971314586815,0.02255833772148358,0.01908834623170548,0.014816015267758697,0.02200979211969756,0.030933562332547543,0.020121331817543935,0.02644941460573812,0.01945605498212767,0.02095387335261973,0.020079810689405217,0.030824502315097962,0.025915487230590114,0.034883863151511575,0.02241524003503656,0.02420818564901063,0.028189117687828925,0.018437285286414258,0.0254732121130971,0.0225521953840522,0.01669168126879985,0.024541508038790814,0.020884322780743977,0.026615552763161344,0.03742885617553289,0.023516166846698855,0.018024890360617968,0.016775796422445186,0.02227514646121969,0.019138048202274625,0.019708936891747672,0.02467127497544138,0.021595975604888823,0.033654376412737615,0.03153760355068946,0.026777399331112874,0.022189770653167032,0.017469853729756027,0.034241412207597924,0.021158769927459263,0.018169087766867136,0.021336978180271644,0.018441281829109764,0.027474219349146123,0.021669817766236263,0.036343110861626705,0.015661216991776028,0.02163500224664707,0.028207115541175876,0.018032320174890856,0.015924881519943666,0.024775319197695937,0.015804877949341205,0.02195316996110533,0.022741025320807042,0.02652312265491458,0.02467693450905718,0.013405342985976362,0.025378448453075107,0.0296551514737962,0.02463026347355244,0.02496334446142485,0.019788814100789698,0.024237180700378808,0.021520926434002434,0.018991597711552826,0.025508161744857292,0.028471638387237853,0.0327629596345969,0.03356090022955712,0.03522555414076155,0.02667550090359417,0.023873119801007564,0.017388957268214468,0.028781303390055298,0.022494473505657808,0.021445582216339885,0.01893524377730256,0.02102908345811129,0.023294023446669906,0.024111303016686986,0.028093227485570603,0.022944634418805048,0.023313872047976525,0.03324337625351965,0.021398696601361563,0.030245003624247313,0.0190382151021892,0.01718800359120206,0.025525515859783462,0.02825381339911481,0.02169816907918369,0.022216539442496783,0.016454007679370206,0.02840208781536209,0.018226004972235553,0.030462426275857366,0.031364276980901135,0.021253667699652264,0.022889514316527897,0.02688259691803793,0.021727727401670036,0.012877182434180973,0.019958761043869053,0.01814175570641921,0.021377292298871458,0.02500285390699867,0.030788613898140832,0.025989812195753116,0.021560730926352453,0.022900082355601967,0.018089586071903876,0.026254951957801653,0.026191758302830853,0.02392933962308686,0.014174449464173596,0.027919900915782298,0.01937132291249577,0.028590676350209177,0.028303569014552346,0.026188164096648307,0.029452105646916346,0.020170068180481934,0.020035392738373133,0.02940900199515996,0.028114846367534294,0.019616453138632486,0.02573119028521475,0.02852705353629118,0.022007699969830128,0.022684671386556755,0.02720730930644051,0.01850790875565794,0.022260152720502933,0.03502041616401424,0.010353432778044578,0.021486110914413263,0.03278511496524456,0.021729497682327098,0.02022457136677253,0.03258558287724466,0.03180826873418282,0.026552144528716945,0.01835266050651915,0.02253553865241517,0.020986328497999474,0.013536155997560657,0.03208279634820069,0.014390101835126567,0.019025420801076665,0.018758376646200066,0.021922699675856243,0.02488655183231557,0.023372532711567855,0.017917144642444087,0.02288272824067578,0.020941722789927987,0.009324121865691277,0.020475629350867053,0.025728159350150374,0.013186713324827425,0.02923495121964828,0.026433669836863807,0.02331164578593809,0.016628729015736823,0.03364978977648973,0.030320347841909866,0.019975095906295745,0.016285723727211134,0.013903891570417031,0.02011492125577058,0.0284648791338199,0.028273715645289826,0.034678403305553884,0.00921101166067774,0.018137759163723705,0.016736367444173943,0.021046437573037483,0.028468768386778635,0.0225635949185864,0.019209744568886238,0.036216669906816726,0.02395610841241661,0.016766676794817817,0.017143156481222797,0.017969394744262027,0.020649814238549724,0.0275619823538424,0.025467954915994302,0.014084352907702078,0.02323308287617175,0.019613100334357758,0.026329330567833088,0.01629339494339179,0.029200564859006257,0.015996711998726258,0.02074683098304437,0.023559833769573407,0.023026228263635776,0.01880494039196804,0.023100687340969775,0.01753581009544925,0.026550293780757295,0.023842998207403078,0.017734859379633577,0.023667579487747288,0.022539079213729295,0.01686672447437685,0.021827640969058065,0.015560364639191039,0.024232969578209692,0.019565570980958645,0.029565966880087415,0.02156483475878478,0.01751445943782753,0.025187580011321212,0.026648517534790847,0.020082841624469598,0.015813541595587226,0.03470310676745036,0.019496932371845646,0.01760640674225873,0.024754826857968565,0.022641084930984795,0.027169677431260537,0.020914873533295637,0.01764819609473942,0.02815111029857017,0.025280653857988743,0.02895817052115775,0.033170687456842714,0.020411228686357336,0.019305312901934178,0.02134030416211223,0.018481032676591395,0.02298610190207536,0.013528457958945793,0.026399122541616624,0.019884811592784823,0.01591981207988022,0.0174988756035584,0.017864840895757732,0.026687222307338755,0.03515219478322966,0.024943925019065397,0.02245453490113679,0.021644872902431993,0.02053351216386661,0.026810793261689548,0.02871175281817953,0.021639106079079415,0.019756171198370566,0.026562551633185834,0.03040837907094812,0.01505427895074071,0.03041870570811442,0.017488066162576563,0.019476091340473664,0.022288906369963342,0.016906555789161094,0.022417922278456355,0.0258509256314752,0.022129420176221246,0.038659496278977364,0.01457753700530313,0.02882488984562724,0.021756239649222648,0.02247497359599576,0.024128603486744782,0.023726964357061942,0.01331409306483433,0.03016982034118995,0.024257619395237802,0.019018312856014172,0.01686535653023273,0.020587505723907475,0.023267791106024144,0.028730179830473643,0.019637106412965077,0.0221601586858123,0.01988282673265413,0.017355134178690636,0.02235252918388129,0.01761179805153255,0.02304688153796834,0.021417525950168645,0.017415216431294442,0.025264560397469858,0.027618175353487512,0.02792349512196482,0.022650580072690947,0.02404132328586407,0.027006570208901702,0.022932993482363072,0.022595513615282187,0.02520619478065472,0.02065654666953346,0.021960412018338808,0.02468329142596213,0.020266575298726837,0.03051768049030552,0.020896419698567342,0.02836424136070853,0.022431279850687026,0.026109708476618785,0.024768667234014788,0.01161719858772373,0.023723799309826585,0.01283145018387315,0.02306823219559006,0.01897958126103205,0.027688932934902155,0.027921161570189597,0.02729697670396486,0.026772598115391417,0.019242655695647343,0.0233947685095181,0.029970502832663646,0.018854964231747547,0.03028695391133318,0.02840970538667435,0.009965848603881585,0.024399107735632926,0.01166655186664829,0.02366366341235437,0.020461037946663273,0.03597660912074345,0.028896827614146612,0.014571072798661374,0.021948932016502005,0.037966324111995034,0.028495134839595402,0.029388804702208754,0.015371266478094238,0.01588124141950329,0.024771698169079186,0.02309808556485257,0.029625700441046655,0.020661911156373072,0.024195686394674308,0.024866166782325005,0.023912334199805253,0.03605645950735127,0.013899868205287345,0.023344986071646378,0.02531482563915716,0.020114679853862803,0.028356033695843892,0.022541144541162562,0.0185583617543846,0.024287526409368716,0.019297829442792916,0.019322613371991974,0.01675452623212606,0.014125820390972394,0.017670190490781876,0.019269156260635092,0.032857776939487285,0.024473727747572144,0.019635336132308,0.01846131818745577,0.02170734235167946,0.021585327098512158,0.0276324448884809,0.022826320661557084,0.021113574125835415,0.029876570668101777,0.025147614584365995,0.021761818715535855,0.020294738854634838,0.02086071903864964,0.023059595371778256,0.023425051037727785,0.03360960977006094,0.02039282849649742,0.019056642114483303,0.020332102505472863,0.014387500059009345,0.030839388766077905,0.02539126957662182,0.027114101347602004,0.02232173702942185,0.024506290182688698,0.016676419303741113,0.015799218415725423,0.029953390119645228,0.02213188784016748,0.025543379600959433,0.01500181426944917,0.022521832388539907,0.02859376093014194,0.03348504638564481,0.013704654529193339,0.03377985175991648,0.020520235058938553,0.020325450541791704,0.023601649944488295,0.03086881297639325,0.020216846505723474,0.028212640962620685,0.021018756820945013,0.02454250046885615,0.01908740744650856,0.026598735096919096,0.01783300266636452,0.017367338386250788,0.02722340276695941,0.016350017101984027,0.01902040500588162,0.022861538517659243,0.03615867980408036,0.0130531912473891,0.018573114093193576,0.024775292375261715,0.01537794526420956,0.01702486954640903,0.022884283941859276,0.02439047091182114,0.01480204077954149,0.02743304691265199,0.030411651407920327,0.02180497601216067,0.026399471233261182,0.020754689956264425,0.022951071803012608,0.014219135639547676,0.018456597439036902,0.023102645378666263,0.01713572666694991,0.02925311000760041,0.0212156871328277,0.023450264125874046,0.019819472143078165,0.017172607513972343,0.01797548343682502,0.03062749153591266,0.03503927233525554,0.025616738958491335,0.026116548197339284,0.018654171489340343,0.030510492077940425,0.01693466570020072,0.023691049117670667,0.01679695932302752,0.026253047564973597,0.01780727995196852,0.01804066195192648,0.020674624990182987,0.024852245938976184,0.022669168019590236,0.02252947678228639,0.009696712299137508,0.018123704208203903,0.021593132426863802,0.022895924878301246,0.025573528016998137,0.017669868621571494,0.018537923059525625,0.01211014128341699,0.027265943147597636,0.030596726203887405,0.02371502837384378,0.01895106901347946,0.0324214027575179,0.01799943587056395,0.03285469235955452,0.020215934542960733,0.020399104946099776,0.024922735296048867,0.035911350138339376,0.01993462085309073,0.02375507426810162,0.02238782750728606,0.016307208497003824,0.027356737087358307,0.025416482664768064,0.02368547005135746,0.017909741650605396,0.02455124458240473,0.02336842887913554,0.03455646851968918,0.02037308718492759,0.02206539502579033,0.023027757142385072,0.017397594092026257,0.023483175252635147,0.018622816063762725,0.017368143059276718,0.022456036957451884,0.02780367930840178,0.023146017254764645,0.014064933465342632,0.025438637995415722,0.030352534762947612,0.025740497669881506,0.027028618249812567,0.02144021772950026,0.027047045262106675,0.020587183854697065,0.022883801138043707,0.019953906183279208,0.029436039008831662,0.022831980195172907,0.029433437232714462,0.009225200728368577,0.019576004907861703,0.024753137044614078,0.02679778438110344,0.020238116696042602,0.014116486183871436,0.022797701124267704,0.02423119929755263,0.02323005194110738,0.01723306528065493,0.01531909684357886,0.02328031718279466,0.02884868134476098,0.02894052135945538,0.029061034556307562,0.02289267936376329,0.02286357702265831,0.02037212157729645,0.02183600956852788,0.028158432823106268,0.036425509379483356,0.019745200822783523,0.02752080991734827,0.018178421973968087,0.019259419717021185,0.02475123265178601,0.0197915231666437,0.024857771360420982,0.01693128607349175,0.02799967083508753,0.025219874222095776,0.02617164147718226,0.028628925141375668,0.016165746979042873,0.02879337348544444,0.01605311957784493,0.020959023259985783,0.01700067571076231,0.016972324397814896,0.017261282481431363,0.02745048149488076,0.028311857146719563,0.01796622969702666,0.02263089240598954,0.03120908237663074,0.023971155798001756,0.02892810257242164,0.021537985502152433,0.029220252525707688,0.019832132332019674,0.031265141264104845,0.026588783973831614,0.026366586928934288,0.032676537751610515,0.030507997591559987,0.02296244451511261,0.02218617644698451,0.021187899090998448,0.0198876011259414,0.028686968888980445,0.02576866122578953,0.021854624337861395,0.022722142327131552,0.03468298994180175,0.026971084128457584,0.02107275038098587,0.033879953084343876,0.028259607044901627,0.019262504296953947,0.02330990232771522,0.024946258570840638,0.017916849595667906,0.02560635867645665,0.02423500808320878,0.024033893471591176,0.025436814069890266,0.0293837352621453,0.016966450284725505,0.029757666817301465,0.02361752882553357,0.02693739515110473,0.03217959851322175,0.021020714858641487,0.021724481887132052,0.01951930228196687,0.026160832036200427,0.022839383187011578,0.019215082233291665,0.03038968383431203,0.019246947285119033,0.024421772692530347,0.022256799916228188,0.026092139782218998,0.021980984825368782,0.017552171780310107,0.023275650079244196,0.019090518848875557,0.028454445206916843,0.012664802400200162,0.025960790321950762,0.020536301697023245,0.019746461477190842,0.028407774171412076,0.020040274421397164,0.03158647402579847,0.029796693459059727,0.019897284024686945,0.023905977282900292,0.02408751151755325,0.028782295820120603,0.020848461186221093,0.023756066698166933,0.024100627687876124,0.015833658421235818,0.01912029175083546,0.024594777393108315,0.02300989340120912,0.03243341920803866,0.026874818412120475,0.021633956171713375,0.02083062426747934,0.021277620133391184,0.021046276638432303,0.030110623228914675,0.03232886535953435,0.028730179830473643,0.0215562247574072,0.01977634166888756,0.026134143714173268,0.012422166660443849,0.01543537209582774,0.021925998835262618,0.01686667082950845,0.021157831142262322,0.022238426548802436,0.027258835202535133,0.02762311068137996,0.025154266548047144,0.02809985262681755,0.019488805174283596,0.018178046459889317,0.02709371629761144,0.02423085060590805,0.022171638687649126,0.01891413452158863,0.025994988925553367,0.026626228091972196,0.02149893203795996,0.027262134361941512,0.011146813559191095,0.012476830781339657,0.018332838727646725,0.03807991712082412,0.02599801986061774,0.021462587639621493,0.030431553654095334,0.030453923564216553,0.025646404570714446,0.020934346620523507,0.024616208518032603,0.02067459816774879,0.019158486897133606,0.021605390279292352,0.02746990093724022,0.025559633996083492,0.019615433886132967,0.024650916747884985,0.022241886642814013,0.02552884184162403,0.02744838934501332,0.02264824652091572,0.023120240895500237,0.016416027112545646,0.018773906835600793,0.026699292402727906,0.028767463014009016,0.029240610753264073,0.019251158407288152,0.014438569973722594,0.0292805225353509,0.018751027299229776,0.02045111364600996,0.027729488455409745,0.020707804341286086,0.02268268652642611,0.017888230058378495,0.03134182660347731,0.01961908173718391,0.015252067580517741,0.020131497520105034,0.02922097673143103,0.018586954469239834,0.02470102105496711,0.015510260332108927,0.03427834669948876,0.0240392043135624,0.02182807012800523,0.02667112884681987,0.01837277733216775,0.03202134615145276,0.030303610642970234,0.027157687803173982,0.015001358288067793,0.02399974851285697,0.02436802053439729,0.012827131771967233,0.021293069855489295,0.03295677854411262,0.022835091597539887,0.02315669258357549,0.02871400590265217,0.018659965135127125,0.02346426543652546,0.022527223697813743,0.015152100368261288,0.02663446257927104,0.01910980417906399,0.038538205231533396,0.021524386528014,0.028747426655663044,0.024144428722921663,0.015288492446158779,0.010789565558106185,0.023288444380356717,0.022749125695934874,0.01689751662883631,0.024570610379895788,0.030216115862615925,0.03009208892688378,0.02671702203173286,0.026987445813318432,0.007598259159646702,0.029399614143190603,0.01580970598749688,0.03701466414664534,0.012800094758295544,0.02395256785110245,0.029131523913380277,0.027569975439233448,0.026385362632872972,0.02230162020377327,0.02854942344641244,0.02190961032796754,0.018127271591952255,0.03319061652545192,0.024446744378768828,0.023127885289246697,0.0240423157159294,0.016493409835207265,0.02439811530556761,0.02195097052150108,0.0248777272514644,0.01712633881498056,0.027118205180034334,0.02302472620732068,0.020179375565148688,0.022110027556296014,0.017224911260658705,0.013983393265380301,0.02655391480937403,0.010039529830623844,0.018119224861692793,0.026081813145052722,0.02652041358906057,0.026229390178010834,0.02840114903016517,0.023660391075382203,0.02876247404124819,0.029257911223321872,0.0257808386109155,0.021770589651518648,0.032794583284516496,0.024255339488330946,0.02542101565614756,0.019285517945495947,0.01950463041046048,0.03479151351056739,0.0304029609392401,0.021505181665128142,0.020450845421667963,0.019744449794626,0.025871686195544558,0.015034939975683864,0.02970952054791582,0.020073936576315832,0.02430230557061188,0.02542707752627634,0.020244339500776573,0.02877827245499088,0.011168325151417993,0.03133568426604595,0.025420291450424203,0.02441900998180794,0.0280113922388321,0.019589791639039573,0.027559005063646412,0.026646559497094387,0.02111421786425617,0.019166345870353634,0.020336903721194323,0.021776356474871257,0.017285342204907087,0.02483186088898559,0.03179984648984459,0.02037536709183444,0.02614916427732422,0.01728459117674955,0.015453396771608912,0.036381332830359055,0.027908394091511277,0.025956713311952623,0.020363189706708487,0.023205026610000526,0.02454998392799745,0.029441349850802906,0.026036831922902473,0.023285386622858104,0.01691299317336862,0.026897644303623083,0.01526175047926325,0.02614607969739144,0.018627107653234422,0.02273340774949479,0.014218706480600491,0.021021653643838414,0.018872962085094477,0.015536492672754714,0.01960744080074192,0.014740027311675395,0.02061802965402493,0.022031491468963868,0.026081115761763564,0.021097883001829507,0.02649962620255699,0.02619937587414315,0.01838071677269039,0.027191510892697834,0.023684692200765703,0.020436388129635198,0.017954079134334906,0.022787347664667217,0.01869727514109673,0.017591386179107785,0.028019009810144373,0.03029915811889332,0.022339037499479634,0.012919374123174624,0.011907363680879123,0.01752972140288626,0.01208463314849459,0.017666623107033517,0.02343824767535327,0.022668175589524907,0.0243148852922508,0.02520522917302359,0.022668846150379875,0.021528329425841125,0.02994815974497658,0.023045540416258427,0.026230168028602584,0.02396796392833218,0.01543762518030041,0.014758186099627549,0.020222157347694707,0.01951557396361334,0.024190080505926886,0.024367993711963104,0.0237836669829568,0.019405655628269396,0.019236271956308178,0.030631783125384376,0.027412983731871773,0.011340820225746189,0.025629801483945815,0.024115889652934853,0.020981178590633413,0.01822337637368414,0.01935600730256864,0.025480668749804217,0.02071617294075591,0.019089687353415402,0.026089806230443772,0.01768521105393283,0.022903783851521316,0.024801792940249506,0.023626326583950565,0.030445179450667964,0.018814435533674168,0.024339776511186677,0.03442310737685607,0.02205195698625704,0.03373572885566053,0.022936453576374628,0.027220157252421436,0.02533727601658098,0.01850935716710464,0.0293104295494818,0.024739296668567848,0.025688676727010702,0.023215004555522237,0.02490902903217363,0.024289538091933564,0.023406355801091697,0.025104457287741203,0.02883449227707017,0.015568250434845284,0.020837142118989474,0.014716852728528218,0.015908305255609226,0.028629220188151866,0.019550389483202486,0.022999164427529854,0.02581401796201858,0.019099879878410674,0.017846708930239798,0.030283145125677036,0.022745316910278743,0.021451939133244835,0.026424121050289275,0.02256048351621942,0.019371832538745543,0.019708212686024313,0.026967033940893653,0.02340895757720892,0.011377969297110596,0.02731591334250874,0.022270747582011204,0.024308930711858828,0.025676606631621555,0.012508239851785683,0.020857339411940665,0.0209184945619124,0.02234547488368719,0.018650577283157787,0.01436008753125886,0.02527928591384461,0.028912411448415734,0.02189684284928925,0.0357462848782841,0.021423426885692213,0.030039812002631602,0.022123975222079033,0.011719499351755413,0.019654675107364846,0.015576163052933726,0.017355482870335205,0.02062795395467825,0.02002959909258633,0.025429920704301317,0.026477229470001598,0.023306737280479838,0.020942151948875158,0.02132603462711881,0.023214950910653835,0.02171895646568724,0.027326695961056406,0.02813871833397063,0.022684429984648972,0.022049355210139836,0.020773304725597914,0.01735612660875595,0.020845349783854085,0.028363946313932346,0.017057431981525567,0.02520742861262782,0.028632251123216268,0.03224786160825597,0.023878216063505223,0.023321838310933388,0.02130414752081313,0.02704068834520173,0.0262227650367639,0.01881247749597772,0.024894974076653812,0.013513410573360647,0.02087185034884184,0.02893346705926128,0.023085023039398064,0.02281797888452147,0.014459974276212713,0.028733157120669643,0.016850577368989574,0.008966283771053999,0.02054630646497912,0.020485312249612583,0.04098248001514075,0.021175373014227908,0.03469645480376921,0.014757461893904176,0.0217741033903986,0.0216977935651049,0.025583961943901216,0.02501197353462603,0.02515472252942849,0.02638402151116307,0.024357640252362624,0.01972535222147693,0.018814381888805763,0.02305213873507115,0.014279861630572252,0.02591264405256511,0.020088903494598395,0.031752987697300464,0.01860792961278276,0.0294470093844187,0.02655496088430776,0.027007562638967038,0.034759460701700634,0.021056603275598572,0.024937568102160447,0.01441649511037753,0.02981198224655269,0.021822142370047447,0.018214283568490974,0.016854868958461257,0.02457576028726183,0.030971274675030115,0.027284852963707314,0.026339844962038755,0.018976201634323096,0.012842769251104766,0.027782328650780064,0.037322317466897896,0.0286602805669533,0.020339532319745744,0.025227116279329255,0.02032008605495209,0.02014351397062581,0.0288068651698461,0.017487878405537175,0.02185864770299109,0.018717794303258303,0.018327903399754264,0.02231999357119897,0.01961320762409451,0.01362534059126945,0.021437803710422414,0.02580025805327494,0.01761458758468914,0.022027173057057974,0.02447584671987381,0.023531214232283992,0.024862357996668864,0.025413719954045656,0.02349723020815497,0.01977422269658591,0.01797931904491536,0.028809064609450354,0.01737702128499631,0.03508143720181501,0.029391352833457566,0.016078386310859567,0.024484403076382985,0.02344420225574524,0.02601971920988405,0.021482784932572697,0.0227328444783766,0.02292446394828808,0.035718791883231,0.015384302181114529,0.026389520110173703,0.01770956582418473,0.01438041893638104,0.024731410872913598,0.022743224760411282,0.020303348856012454,0.02069828237714573,0.02524986170352928,0.025498827537756327,0.021016074577525214,0.020694795460699973,0.03159545954125485,0.03696498899851038,0.015174604390553542,0.03378776437800493,0.01988760112594142,0.02432545333132486,0.024379259134326307,0.019898276454752287,0.009100074072834276,0.019378940483808036,0.022546267626094407,0.01925099747268294,0.01779899181980129,0.022891847868303127,0.02894926547300397,0.030724642392578272,0.019595773041865737,0.02132426434646175,0.030593614801520414,0.02871175281817951,0.024090193760973044,0.024967931097672716,0.020459589535216573,0.028273876579895017,0.013451718974704954,0.027462149253756972,0.02698074020476891,0.024397739791488838,0.015913401518106857,0.019080782305261612,0.022898928990931433,0.030239692782276083,0.018386698175516553,0.026952978985373854,0.021454272685020072,0.012110194928285398,0.026194735593026854,0.024988879418781463,0.039733842058349296,0.020220655291379633,0.02037772746604386,0.03194458034477772,0.030213031282683128,0.02959917305362469,0.024036200200932237,0.018461210897718967,0.022300225437194933,0.015388701060323013,0.018099322615517784,0.01837814181900737,0.033667921742007674,0.033131741282387016,0.018071641863425324,0.023945674485513546,0.012814417938157338,0.017438149612533836,0.02203098184271411,0.032566109790016826,0.019449510308183336,0.020100705365645573,0.017252887059527346,0.024796830789922814,0.02255262454299936,0.03515852487770043,0.02118765768909065,0.01768931488636516,0.019978341420833705,0.01847089379646452,0.025823003477474935,0.025680281305106675,0.027256903987272867,0.019613153979226132,0.020706677799049767,0.015815016829468103,0.030760799033877368,0.014366417625729629,0.016894807562982304,0.022942542268937605,0.02596950761306515,0.03113220928021891,0.024206120321577373,0.022702454660430138,0.03653735893008958,0.02803899252362198,0.030147074916989945,0.027351077553742498,0.015292864502933079,0.02092157914184519,0.029678031010167208,0.027690005832270097,0.0143852737969709,0.028338384534141534,0.019748687739229286,0.021506925123351023,0.02140778940655471,0.018353384712242512,0.026765731572236686,0.02174784422731864,0.011725775801357766,0.026580093505151413,0.018766021039946536,0.027628341056048594,0.019662078099203534,0.028790691242024602,0.017686149839129757,0.023820601474847648,0.019686111000245067,0.01533545852843972,0.026489996948679893,0.019014825939568412,0.033074180338597825,0.023996637110489986,0.027365052041959735,0.01787747426226504,0.02391126130243732,0.022217478227693717,0.021028412897256352,0.024926168567626222,0.03190705575933452,0.02423616144787929,0.02336290345769071,0.02519112057263536,0.03176964442893752,0.018147549352206034,0.02503308279033998,0.026598520517445514,0.018326106296662998,0.017783059293887633,0.020787493793288717,0.021329923880077546,0.02771191976100996,0.02135103313579146,0.011061840087651419,0.01663951163428448,0.014976842583210699,0.031734828909348325,0.014118175997225934,0.024077184880386973,0.021021787756009398,0.02764649984400073,0.023476764690861775,0.023509112546504722,0.01943765479226777,0.029058057266111593,0.021947403137752727,0.026718068106666604,0.022384662460050664,0.0279038611001318,0.031745396948422405,0.021348055845595494,0.026624243231841517,0.022357974138023543,0.01554797267459153,0.019960263100184145,0.020640480031448784,0.020407419900701183,0.03338811010845276,0.018872988907528705,0.024865871735548814,0.023576007697394874,0.01578755065684922,0.024050228334017834,0.026493188818349472,0.017239180795652113,0.02338650719978507,0.027371704005640873,0.02129781742634238,0.02557881203653516,0.0220957311988684,0.02137949173847569,0.02733957072947149,0.022802234115647184,0.02402021403015013,0.02665503538630098,0.02019115061376168,0.019202851203297313,0.02230245169923338,0.020781431923159947,0.0147787320842233,0.023292172698710242,0.024169963680278295,0.02345949104323819,0.023340748127043072,0.024182623869219818,0.021070980100328776,0.02015960743114466,0.013232338285398423,0.03395891833062319,0.03097261579674003,0.021234811528410967,0.02898563669377663,0.025473346225268104,0.0206544813421002,0.03537157547253619,0.02808282038110171,0.024791841817161993,0.020222237814997296,0.019251158407288145,0.02056130020569588,0.028100871879317087,0.013448688039640548,0.027228016225641482,0.015472735746665746,0.017437371761942107,0.024982737081350084,0.026737702128499616,0.02545108360488367,0.020054973115337757,0.021407789406554717,0.021673358327550414,0.0279571572768835,0.023929339623086868,0.02679976924123409,0.012683363524665271,0.020178731826727938,0.019611169119095453,0.016510871239870245,0.026607237808559933,0.02693696599215755,0.026319674491521738,0.015556609498403332,0.03253537128042575,0.021816831528076223,0.02298618236937796,0.025470288467769532,0.014373740150265713,0.036961367969893646,0.028824460686680063,0.024969620911027203,0.022503298086508992,0.026008534254823433,0.02509662513695535,0.029834191222068724,0.02134172575112471,0.02637082487353759,0.020889955491925606,0.020974070645570934,0.018941922563417875,0.024610844031192992,0.017701653206096297,0.01851343417710274,0.013144146121754982,0.017509899624013843,0.02200010922095204,0.020886146706269444,0.02497283960313099,0.023275945126020367,0.026608122948888452,0.025906582182436327,0.021730409645089845,0.025177414308760113,0.03195018623352512,0.020270169504909362,0.01800624876885027,0.02218848317632556,0.026759321010463306,0.024872657811400967,0.019896372061924218,0.019418369462079317,0.02012342396741139,0.01808357784664349,0.023332272237836453,0.016988686082675758,0.020213949682830086,0.02780681753320296,0.020355250266185843,0.018727235800096026,0.027103533308527928,0.02102377261614008,0.020581873012725863,0.034492362901955634,0.02389962036599533,0.01977929213664935,0.023808048575642927,0.020581068339699908,0.027923924280912005,0.0182242615140127,0.025001593252591374,0.02319743586112246,0.01670651407491143,0.023761511652309143,0.019517049197494245,0.01876076384284371,0.019614521923370244,0.0214426049261439,0.017842685565110067,0.023220369042361876,0.02643149721969377,0.028760891517630484,0.027441737381332196,0.021387726225774506,0.029801011870965628,0.019129679602804796,0.019944732910783417,0.020758632854091543,0.02490908267704202,0.0247645902240167,0.014173537501410866,0.025430805844629874,0.03421874725070051,0.03189970641236424,0.028037865981385655,0.015885693943580186,0.028367889211759464,0.02396683738609586,0.018380341258611613,0.025495850247560334,0.02345965197784339,0.02820295806387517,0.018225736747893594,0.019850425232142824,0.011463479217334241,0.024660090020380745,0.011323466110819984,0.02187224667712957,0.013950589428355992,0.022769322988886075,0.019055998376062547,0.02580342310051031,0.033802221670037706,0.020559717682078205,0.02066191115637308,0.021170786377980033,0.023317198029817094,0.02696464674425003,0.02704039329842554,0.01666534163841727,0.013925510452380743,0.026667507818203123,0.024027429264949433,0.016870399147861998,0.01329810689405224,0.019819767189854336,0.02504976634441123,0.013979101675908608,0.026635186784994377,0.02082888080925644,0.02316208389284932,0.02640816170194138,0.02610479997116051,0.026988438243383754,0.023968902713529104,0.026307684863435203,0.01890745573547331,0.01797803156807384,0.021049307573496684,0.022662355121303927,0.016662954441773632,0.02352729815689107,0.018614930268108492,0.020189112108762605,0.03014071800008497,0.02793138091761907,0.023354615325523496,0.017827986871169495,0.02186202732970006,0.030638220509591918,0.014554711113800514,0.0222952096419999,0.01962844276671906,0.021888581539556227,0.021697981322144302,0.016506552827964344,0.021518002788674828,0.02100491644489879,0.01812812990984658,0.01819124309751479,0.02135634397776271,0.02377293800927757,0.0361150665260742,0.028766256004470126,0.03434660979452302,0.02529108778489179,0.020440921121014678,0.02148383100750642,0.01530834104746539,0.027209562390913156,0.023161279219823375,0.01749123120981194,0.01838119957650597,0.021090292252951445,0.020272503056684595,0.023396967949122327,0.01740086642899844,0.02174905123685756,0.03069886603331389,0.02798483802897595,0.01281844130328706,0.024755953400204873,0.018158975709174418,0.026149942127915993,0.02197873174089615,0.028459756048888063,0.02472172797416806,0.02398928776351968,0.018296252927400464,0.025080317096962894,0.0206097146994235,0.022511398461636824,0.021341082012703964,0.01572309634747113,0.02472255946962821,0.028664384399385623,0.02255694295490525,0.020165964348049615,0.026205813258350683,0.02304688153796834,0.02777640089282226,0.017940319225591264,0.023601596299619894,0.0226036676352784,0.026048580149081235,0.03379581110826436,0.021237145080186204,0.02637825468781048,0.013104663498615313,0.014277823125573219,0.03877249919425408,0.022250711223665204,0.020917502131847072,0.01685130157471293,0.028661058417545043,0.01856646212951243,0.029146490831662826,0.024602502254157367,0.02490621267658282,0.02799148999265709,0.019753542599819165,0.0159890139601114,0.01935777758322572,0.029765418500784718,0.02421427434157364,0.014082233935400422,0.023800699228672617,0.03122482714550505,0.01764567478592479,0.017544285984655853,0.022417573586811783,0.023102806313271433,0.028444923242776497,0.023483309364806144,0.018266238623532764,0.021057917574874296,0.021969263421624197,0.017229176027696212,0.018698213926293686,0.01572781709588997,0.019585634161738846,0.03259821624375198,0.020224276319996355,0.0203914873747875,0.02743543410929563,0.02248583668184601,0.024789830134597117,0.011334034149894071,0.021999492304965496,0.030040589853223353,0.024688360866025584,0.018792575249802695,0.03197955679897208,0.019037195849689662,0.023223641379334033,0.030728048841721457,0.015868876277337973,0.03053272787589066,0.02964080147150021,0.02504515288572915,0.02893346705926128,0.01849573137053198,0.01597310825663189,0.019129250443857635,0.028636274488345964,0.020877188013247276,0.02510384037175465,0.02849245259617559,0.02534333788670977,0.02366631883334,0.023811347735049282,0.02258808380100929,0.019356570573686817,0.023883875597121036,0.0158785055312151,0.020980937188725637,0.0210291371029797,0.028902379858025636,0.018049486532777655,0.03168434908818743,0.026406364598850117,0.02552232399011392,0.024735487882911696,0.020965380176890726,0.02209503381557923,0.012586051733394447,0.017072050208163558,0.00798900838104508,0.02433843538947676,0.01453665961558514,0.02561405671507152,0.029715072791794826,0.023698452109509355,0.030028144243755408,0.02274968896705305,0.025123876730100643,0.02065507143565256,0.034457413270195456,0.026299584488307354,0.022521483696895328,0.019365475621840576,0.016100648931244015,0.02016186051561732,0.019619645008302076,0.025415007430887156,0.021259219943531263,0.022455473686333736,0.02176627123961273,0.023575337136539906,0.019842217567278178,0.024572943931671032,0.02524653572168872,0.01879426506315718,0.02322342679986044,0.0266059235092842,0.02500309530890647,0.021618130935536457,0.023022553590150617,0.02489272099218116,0.0194743210598166,0.032902543582163976,0.024434566993642874,0.024753137044614078,0.023767653989740532,0.02620675204354761,0.013744539488845953,0.023853002975358986,0.016587207887598134,0.02452337607327288,0.01664911406572741,0.01832717919403091,0.024398812688856762,0.026777882134928436,0.01813298477043645,0.013668417420591654,0.020177953976136198,0.023076600795059868,0.013206910617778591,0.020676878074655625,0.03318900717940002,0.023991058044176755,0.014012200559709092,0.020688921347610585,0.02398526439838996,0.028820625078589734,0.020539466744258605,0.024307670057451526,0.038852108178954126,0.026035571268495136,0.028130483846671807,0.013686200694465004,0.0242620450968805,0.02686620841074288,0.0334062420739707,0.017487878405537192,0.020696860788133244,0.022628156517701302,0.026524383309321886,0.03357981004566681,0.01790030015376767,0.02196545463596806,0.020221245384931964,0.026496219753413847,0.029005136603438675,0.030505020301364004,0.026320023183166327,0.02463514515657652,0.0219765591237261,0.02196545463596806,0.021076290942300006,0.017588462533780175,0.038542335886399916,0.01694579701039295,0.02556137745430638,0.01861667372633135,0.015763276353899916,0.03747700244491853,0.015298711793588281,0.021918864067765904,0.020325986990475678,0.023944387008672005,0.024169159007252354,0.02666504015425688,0.01487008929510213,0.01870840645128894,0.019171576245022304,0.01891284704474711,0.02456495084628,0.020892315866135033,0.029109770919245603,0.02212199036194836,0.016625671258238238,0.026699292402727903,0.021513630731900556,0.03046870272545974,0.022491040234080453,0.022183655138169875,0.022291239921738596,0.029755708779604997,0.021166736190416098,0.028936551639194064,0.0246610019831435,0.016945314206577387,0.018472932301463553,0.0208699191335796,0.01542078069162396,0.02130712481100915,0.022264122440764256,0.013897454186209492,0.03898399408790636,0.01742959325602465,0.016894619805942902,0.039579639884144244,0.01799788016938044,0.0154148797561004,0.025044750549216174,0.02676471231973715,0.0261280013767419,0.014487869607778755,0.022510298741834703,0.025881020402645505,0.027136283500683867,0.021397409124520053,0.03299843378442232,0.02172893441120894,0.02369853257681196,0.030529348249181704,0.023887067466790604,0.02258717183824658,0.02379131137670328,0.024811663596034407,0.012258013363151292,0.01854505782702233,0.020844142774315177,0.029793823458600557,0.031075855345968642,0.03012263967943543,0.02889095350105724,0.021728478429827582,0.022123760642605433,0.026844053080095232,0.02517816533691766,0.030040589853223353,0.024078740581570467,0.02079393117749628,0.026916983278679932,0.01891888209244169,0.015069111756852278,0.02622643971024903,0.027412366815885218,0.027385034755437326,0.025358680319071094,0.033279854764029095,0.019287234581284625,0.030961189439771615,0.026116628664641886,0.01668618266978924,0.030515722452609077,0.014015714298589055,0.03126846724594541,0.016334191865807153,0.022591168380942085,0.021717964035621914,0.0207821024840149,0.022958340682680305,0.019790316157104804,0.024302064168704098,0.03801455084868326,0.023888945037184486,0.02764438087169907,0.017198088826460574,0.01270956904287685,0.022339815350071394,0.016644634719216303,0.02127201424464379,0.017083986191381725,0.024017880478374894,0.02116037927351115,0.01379590445033537,0.02194887837163362,0.021742238338571224,0.03147923793387432,0.01867434195985733,0.023048866398099006,0.019024213791537743,0.01811839336623266,0.01956677799049754,0.018327206016465113,0.025820482168660334,0.02825831956806011,0.025861949651930637,0.030055342192032337,0.01428133686445316,0.021036245048042197,0.024924907913218913,0.03386246485724671,0.026383941043860458,0.017843436593267613,0.03186658070612954,0.02432668716329799,0.018148327202797784,0.014339890238307678,0.021382361738934888,0.017950994554402133,0.019184236433963806,0.022324714319617835,0.018573891943785326,0.020031557130282776,0.012223895226851283,0.023203283151777644,0.018680940278670087,0.02108216505538941,0.028975470991215557,0.024849215003911775,0.027820040993262622,0.020482200847245606,0.018758323001331664,0.02167311692564263,0.020637529563686946,0.02001986254897241,0.01867372504387076,0.03176779368097783,0.02386904279100946,0.01713105956339944,0.02424131135524535,0.018368432097827646,0.020379739148608744,0.020695090507476175,0.023119141175698115,0.024129381337336546,0.022051313247836296,0.03055182544903976,0.02723874519932073,0.024358283990783387,0.022760659342640086,0.026699721561675077,0.017327426604163948,0.020564009271549902,0.01879093908131661,0.02813093982805318,0.035254415079958745,0.01576842626126596,0.016573555268591278,0.03067536958095632,0.02283302627010663,0.026687919690627893,0.0231048448182705,0.024114924045303743,0.024117713578460348,0.026815594477411005,0.0226956149397096,0.01972972427825121,0.026237222328796703,0.02435522623328479,0.018485458378234072,0.01981190821663429,0.026183577460400446,0.026706266235619426,0.01900844220022926,0.016831908954787686,0.026856445044694765,0.02617526250579902,0.033208963070443444,0.03446481626203417,0.03491516493222078,0.03631714674532292,0.02776553780697203,0.025101935978926584,0.0159860634923496,0.028965519868128044,0.013949945689935246,0.015971713490053593,0.016013583309836876,0.019425611519312776,0.013770074446202553,0.021698142256749493,0.019902165707710997,0.017632907307246468,0.02161670934652395,0.01525008272038706,0.023960560936493507,0.02923245673326782,0.02476957919677751,0.026564563315750703,0.01589940020745544,0.02293192058499513,0.026163997083435787,0.017492545509087666,0.026198410266512,0.019433738716874843,0.0243407421188178,0.01544502817213907,0.022731557001535105,0.02924238103392115,0.018105411308080764,0.017953247638874757,0.03039435093786251,0.020391460552353295,0.02536876555432959,0.023850401199241755,0.01610268743624308,0.02242545938246604,0.030859720171200096,0.03336396991767445,0.023384602806957012,0.016457333661210764,0.01942357301431373,0.02109310860854227,0.018875671150948514,0.0211481482435168,0.023676135844256496,0.027955279706489616,0.019962301605183218,0.02856723354272,0.023911127190266335,0.02292014553638217,0.0307347276278368,0.019733908577986122,0.028852838822061688,0.025069963637362424,0.024668190395508584,0.024751983679943565,0.02132195761712069,0.024175381811986328,0.02532123620093049,0.028723769268700284,0.020708796771351425,0.029496282196040682,0.009071561825281684,0.016231193718486324,0.016345430465736173,0.016889308963971693,0.026166491569816222,0.021664721503738597,0.02810529758095976,0.0167610977285046,0.01745772998949848,0.029797927291032852,0.027987466627527373,0.0243107009925159,0.024773387982433663,0.026929536177884662,0.0180634073761265,0.020263517541228224,0.03462663600755148,0.028153256093306017,0.017409154561165676,0.02905682343413849,0.020695063685041974,0.02739723896299749,0.019436340492992053,0.031106754790164882,0.016710188748396554,0.03023038539760932,0.020167654161404123,0.018698026169254277,0.015364185355465911,0.021926964442893743,0.03514095618330067,0.026271742801609696,0.025993647803843466,0.02566185429281257,0.022354567688880358,0.025640503635190874,0.018506862680724184,0.013394158030915735,0.027169677431260544,0.020714375837664604,0.01687165980226931,0.01804066195192648,0.020345916059084885,0.022946967970580302,0.02501023007640317,0.029278564497654428,0.02357976283818259,0.020117227985111612,0.03052390329503947,0.029443683402578136,0.02568028130510668,0.02460024916968473,0.030915939993279386,0.030116577809306662,0.025079271022029153,0.01725401360176368,0.021080367952298125,0.022377313113080388,0.031076767308731375,0.027139824061998028,0.03365239155260695,0.02229625571693364,0.01587193403483654,0.023809631099260604,0.03314437464889432,0.02516266196995115,0.02624915831201486,0.03202907101250183,0.023479581046452598,0.027014965630805732,0.02741510270417343,0.021800791712425726,0.01718255863705985,0.031119844138053555,0.021432787915227382,0.03807393571799793,0.022580224827789253,0.022580814921341605,0.02498013530523286,0.019270148690700435,0.025382176771428663,0.014468101473774742,0.023984996174047982,0.017997853346946258,0.01384472128057596,0.022582451089827697,0.018274070774318606,0.025193507769278985,0.019898571501528448,0.01804911101869889,0.021796124608875263,0.014031110375818778,0.02202025286903487,0.02116287375989158,0.02128118751713954,0.025121972337272584,0.020704344247274527,0.03275687094203392,0.021402022583202125,0.0200156782492375,0.02456326103292551,0.023301077746864032,0.025682319810105755,0.026448422175672785,0.020404871769452368,0.009097391829414462,0.02158269849996073,0.02749125159486194,0.02056296319661618,0.02862795953374457,0.025124869160165986,0.017705327879581435,0.027682576017997198,0.016711959029053623,0.02589893778868987,0.02440157539957917,0.022910543104939257,0.02024114763110698,0.024717141337920204,0.012639213797975151,0.0186661074725585,0.030075512662549323,0.022251408606954366,0.018806013289335958,0.023047578921257465,0.025004570542787367,0.020942286061046148,0.013169412854769604,0.012824154481771254,0.015202419254816999,0.015311237870358789,0.017013550479177422,0.029507359861364487,0.030450865806717946,0.016735535948713784,0.030249590260495174,0.02847273810703997,0.017956922312359905,0.02208140801900659,0.021344703041320714,0.01616306473562306,0.021096649169856405,0.027012793013635676,0.03316231885737289,0.016438423845101073,0.030847998767455514,0.0291037090491168,0.0200831098488116,0.021685079731295,0.02885595022442866,0.009993717113013448,0.01571411083201473,0.02103436747764835,0.015459780510948042,0.02003461488778137,0.019971233475771195,0.014712561139056512,0.022017731560220237,0.018012847087663007,0.029499715467618016,0.02116901609732294,0.016222986053621696,0.016614030321796255,0.018725250939965382,0.017305137161345317,0.01832817162409625,0.029199035980256992,0.021540319053927698,0.03388631000124886,0.015252094402951936,0.018810626748018013,0.026834772517862683,0.03291426498590855,0.021792691337297915,0.01617414240094691,0.01966972249294999,0.025063070271773485,0.016440113658455564,0.027923495121964806,0.022612250814221822,0.02760795600605801,0.013507000011587281,0.022592375390480993,0.03313066838501909,0.021865058264764446,0.024674547312413538,0.03088420905362297,0.028418154453446767,0.01860489867771837,0.01932867524212076,0.0178521807068162,0.027072741154068505,0.030562313020811215,0.022851936086216322,0.034719924433692574,0.02426488827490548,0.01903148267120545,0.026250284854251182,0.018455068560287585,0.019352198516912514,0.01927905373885421,0.03159017552171781,0.026978782167072446,0.032715510748500425,0.01696956168709248,0.02430002566370504,0.018749632532651484,0.023912495134410423,0.02446412531612921,0.01942888385628496,0.017878171645554185,0.020437434204568925,0.029619289879273297,0.02705367040335363,0.018947903966244083,0.03076079903387737,0.01606154182218314,0.025313001713631676,0.01884241133254282,0.012702970724064122,0.017274774165833034,0.013600610306938783,0.0310762576824816,0.021152547122725292,0.019567260794313136,0.01749659569665158,0.02143659670088352,0.02338076719886667,0.013427042335242664,0.021365275848350667,0.026321686174086617,0.01281235261072407,0.01835663022678046,0.01694405355217006,0.018879158067394253,0.0159314530163222,0.03283878665607501,0.01823233506670632,0.023339353360464762,0.01441880183971858,0.021071972530394088,0.01910293763590927,0.018193871696066215,0.015390444518545878,0.03125679948706923,0.012727003625105619,0.014360650802377035,0.018714548788720347,0.01857485755141646,0.025212658987296476,0.020188414725473454,0.017471892234755093,0.021922619208553637,0.02292325693874915,0.025660888685181446,0.017468324851006745,0.019602585940152073,0.028852972934232675,0.01321007566501398,0.019455625823180518,0.02943936499067222,0.02156695373108644,0.01631994915324795,0.030362432241166724,0.024407771381878926,0.03157123888317391,0.022109947088993415,0.021935386687231974,0.031288423136988805,0.019522735553544224,0.028077482716696283,0.032203255900184496,0.023218384182231204,0.02479583835985749,0.018403918178271764,0.022018214364035785,0.03553269783476437,0.021650934772560783,0.0232827848467409,0.02670023118792484,0.02509174345393129,0.025431503227919025,0.01877624038737602,0.01975383764659533,0.018368110228617257,0.02236516255038864,0.03325708251739488,0.024869573231468177,0.02314561491825165,0.019865982243977724,0.02229097169739659,0.015935556848754515,0.017562417950173777,0.019507607700656494,0.017712677226551725,0.015782239814877988,0.029497650140184774,0.02658465331896509,0.026662733424915853,0.026358969357622018,0.025063070271773506,0.020195683605141138,0.01965869847249456,0.016031366583710235,0.03087377512671992,0.02464911964479371,0.027979312607531143,0.02623250158037783,0.031526820932141826,0.02618049288046765,0.022596774269689493,0.024150141901405853,0.03147089615683872,0.02118433170725008,0.024780093590983203,0.02395350663629938,0.02597570359536492,0.026636232859928086,0.02343438524482874,0.010833795752098908,0.022467490136854507,0.02447222569125706,0.02218185803507859,0.019384063568739902,0.02358909704528356,0.01937789440887432,0.023146687815619585,0.02745678476691734,0.034000493103630305,0.03084893755265243,0.020754609488961823,0.024316789685078874,0.021835258540370342,0.028462384647439477,0.021106385713470302,0.018466763141597987,0.029887648333425602,0.031420684560019826,0.02039690550649552,0.0197469442810064,0.02332511064790556,0.026008051451007853,0.02790992297026057,0.03203180690079005,0.02236564535420419,0.023900773730665854,0.024051703567898756,0.024182972560864387,0.016655336870461362,0.018010567180756186,0.018221552448158682,0.012520229479872228,0.02545524108218438,0.025591472225476676,0.026174967459022834,0.02886244125350463,0.021307124811009125,0.02920263018643953,0.01716582143812021,0.01781690920584566,0.021675772346628243,0.015062701195078913,0.022445281161338454,0.023894175411853097,0.023382564301957953,0.02536932882544775,0.026482540311972814,0.03264064933465344,0.025430457152985295,0.02490674912526676,0.024176401064485854,0.03670709129369533,0.03134182660347731,0.026804087653140005,0.018915073306785553,0.014796300778623076,0.02337980159123554,0.022132451111285645,0.023311645785938095,0.029116208303453135,0.019222485225130325,0.011584770264778183,0.030627491535912668,0.03377164409505184,0.023286405875357644,0.022370687971833426,0.015343344324093976,0.02828583938554736,0.028379959307148636,0.02270076484707564,0.02918830700657772,0.02234745974381786,0.025636507092495334,0.0312771577146256,0.027743087429548223,0.02804196981381799,0.026252913452802597,0.01891257882040514,0.02067467863505138,0.016096920612890475,0.01881065357045223,0.023964289254847036,0.015549260151433038,0.016409911597548482,0.028082203465115183,0.011229373011652952,0.02548117837605396,0.019532042938210974,0.026858376259957024,0.023369501776503463,0.017527897477360773,0.028553500456410554,0.03160683225335485,0.020366757090456853,0.030143963514622958,0.013560591235115165,0.024443311107191452,0.02583963338667781,0.02270862382029569,0.026912745334076636,0.019514232841903425,0.023038137424419746,0.03008868247774061,0.019432183015691325,0.022509011264993196,0.021195570307179105,0.018817707870646364,0.022656132316569946,0.01752234523348178,0.036827926359757936,0.018239979460452797,0.022164208873376227,0.015176133269302812,0.027766744816510945,0.014704916745310022,0.02963503464814761,0.019349382161321704,0.019815717002290418,0.01914665820365221,0.023118470614843158,0.025021656433371574,0.01741577970241261,0.01700166814082766,0.024362602402689275,0.021421146978785385,0.022724905037853967,0.01885724413865441,0.028637776544661042,0.024086116750974947,0.017800332941511204,0.023150040619894355,0.013592724511284519,0.03128759164152868,0.017000219729380955,0.0290451556752623,0.03186658070612955,0.02773496023198615,0.015725778590890936,0.029988607975747362,0.01894436340492991,0.02154243802622933,0.015393287696570893,0.018926875177832737,0.026419829460817564,0.02453777972043726,0.018891684144164794,0.013230863051517527,0.027831708752138837,0.019573322664441915,0.020854576701218243,0.034968246529498884,0.02776003920796142,0.016005804803919405,0.014878511539440344,0.020931262040590703,0.02337988205853814,0.011307184893261756,0.026549810976941708,0.02235719628743179,0.01391574708633262,0.019508358728814026,0.02240153377116129,0.027438545511662603,0.027793486783406474,0.01799812157128823,0.024900633610269597,0.009601948639115523,0.024813997147809637,0.028852758354759103,0.03098071617186786,0.019961496932157298,0.015749275043248495,0.014817597791376393,0.0264570321770504,0.020159392851671093,0.026290116169035403,0.029930161891629642,0.03798743336770896,0.01751271597960466,0.025908567042566992,0.02302464574001808,0.030620356768415964,0.02128480854575629,0.013717126961095458,0.016892688590680653,0.015861714687407054,0.024230850605908065,0.014249444990191573,0.01987791822719589,0.01309881620796013,0.020253083614325165,0.03524467853634482,0.020677226766300218,0.019609157436530623,0.025902558817306617,0.018651542890788922,0.01883280890109989,0.020562051233853434,0.035835871808505844,0.024319391461196094,0.0255179519333396,0.03136427698090114,0.0247601376999398,0.01896482892222308,0.02164999598736384,0.016109124820450627,0.024822902195963427,0.026360927395318486,0.024952159506364216,0.020761744256458534,0.028334012477367235,0.028368532950180242,0.01791156557613087,0.020773572949939895,0.019655962584206352,0.027790268091302715,0.02302542359060983,0.02580666861504828,0.019894253089622557,0.026112256607867593,0.024644747588019437,0.015620634648834248,0.01627359998695356,0.02426244743339346,0.03031117456941412,0.0170870975937487,0.023829747924909227,0.02759191619040751,0.02045572710469206,0.01546565462403744,0.02027419287003909,0.02477164452421078,0.03860115748459642,0.015244610943810659,0.01775197209265198,0.0265387333116179,0.015499504535995473,0.028386396691356182,0.015111974006700878,0.017275417904253774,0.021302404062590256,0.01794892922696887,0.02156580036641592,0.03277798019774786,0.025226633475513696,0.026417790955818515,0.023536417784518447,0.02846270651664986,0.02954799584917466,0.016367022525265673,0.024440119237521887,0.02324821072905952,0.02451074270676556,0.010702955918080431,0.024176401064485854,0.031330158844601115,0.02083883193234396,0.018999698086680665,0.01754278392834076,0.028219400216038616,0.03159956337368716,0.0306572107930042,0.03796321270962804,0.014661008420527701,0.01857635960773158,0.028818506106288076,0.0239072379373076,0.019877945049630086,0.020356242696251164,0.01756850664273677,0.020274273337341685,0.019389830392092494,0.025595334656001213,0.023246145401626266,0.022083097832361058,0.025514840530972603,0.0252740018943076,0.027463758599808846,0.0265602180814106,0.020651396762167408,0.022907378057703844,0.0236375383614454,0.01989680122087137,0.02232302450626336,0.022868190481340388,0.02072706284904033,0.022003596137397823,0.029153598776725326,0.02309376715294666,0.01526097262867151,0.02192691079802534,0.029113874751677902,0.025131226077070943,0.023637779763353177,0.02212968840056323,0.016317776536077883,0.028030597101717968,0.01646323459673435,0.017323295949297445,0.02816385095481428,0.02700627516212551,0.017293147533258762,0.027866658383898978,0.028760489181117527,0.01971730549121748,0.016725879872402462,0.03233323741630864,0.025261502639971248,0.030701843323509885,0.022233571688212578,0.030558504235155073,0.019658081556508007,0.02774075387777296,0.02196312108419283,0.019888405798967338,0.025370884526631228,0.021555849243328398,0.03307849875050374,0.01550894603283323,0.021338265657113158,0.022625018292900128,0.025858596847655867,0.031134730589033523,0.018722300472203593,0.02032008605495208,0.02472250582475983,0.024015761506073242,0.016895451301403047,0.028296031910542682,0.03930355656894287,0.019341737767575244,0.02103168523422851,0.016314799245881917,0.030025140131125234,0.028069355519134268,0.0248848888413953,0.02152535213564513,0.028764593013549854,0.02691599084861461,0.02887113172218482,0.02216380653686324,0.01590527432054482,0.02015692518772486,0.031310739402241675,0.0327644885133462,0.030716944353963438,0.023829560167869808,0.01889573433172874,0.01595567367440312,0.01741548465563643,0.014978612863867756,0.01976740979829958,0.018026714286143438,0.01777761433974541,0.02841810080857838,0.02926483141134499,0.0251230988795089,0.02314800211489528,0.033926731409585444,0.02403333020047302,0.012235080181911894,0.019769743350074823,0.035026558501445614,0.020626022739415967,0.024677980583990906,0.021569206815559062,0.02134234266711127,0.02005178124566818,0.020320944372846456,0.014219484331192259,0.030610164243420668,0.022637007920986683,0.024194398917832805,0.02293653404367723,0.02090561979349731,0.013796575011190323,0.019920029448886947,0.02210385839643042,0.017365621750462086,0.024718616571801084,0.01899570154398514,0.01601133022536423,0.016199838292908716,0.01737838922914041,0.02199807071595299,0.022982212649116644,0.029223793087021867,0.02078467743769792,0.03515924908342379,0.022635800911447776,0.018676487754593175,0.027843269221278208,0.017912021557512238,0.030151446973764234,0.014459920631344294,0.02478977648972873,0.025317776106918925,0.026647605572028114,0.015376684609802231,0.02039760288978468,0.025261502639971272,0.019880707760352497,0.027422666630617317,0.02150692512335102,0.016694792671166823,0.020164650048773915,0.019429715351745105,0.015988772558203614,0.026722306051269906,0.021786280775524552,0.02030659437055042,0.017364522030659975,0.017221343876910343,0.013618983674364493,0.02466309413301096,0.024580776082456866,0.021203912084214727,0.02622812952360353],\"xaxis\":\"x\",\"yaxis\":\"y\",\"type\":\"histogram\"}],                        {\"template\":{\"data\":{\"barpolar\":[{\"marker\":{\"line\":{\"color\":\"white\",\"width\":0.5},\"pattern\":{\"fillmode\":\"overlay\",\"size\":10,\"solidity\":0.2}},\"type\":\"barpolar\"}],\"bar\":[{\"error_x\":{\"color\":\"rgb(36,36,36)\"},\"error_y\":{\"color\":\"rgb(36,36,36)\"},\"marker\":{\"line\":{\"color\":\"white\",\"width\":0.5},\"pattern\":{\"fillmode\":\"overlay\",\"size\":10,\"solidity\":0.2}},\"type\":\"bar\"}],\"carpet\":[{\"aaxis\":{\"endlinecolor\":\"rgb(36,36,36)\",\"gridcolor\":\"white\",\"linecolor\":\"white\",\"minorgridcolor\":\"white\",\"startlinecolor\":\"rgb(36,36,36)\"},\"baxis\":{\"endlinecolor\":\"rgb(36,36,36)\",\"gridcolor\":\"white\",\"linecolor\":\"white\",\"minorgridcolor\":\"white\",\"startlinecolor\":\"rgb(36,36,36)\"},\"type\":\"carpet\"}],\"choropleth\":[{\"colorbar\":{\"outlinewidth\":1,\"tickcolor\":\"rgb(36,36,36)\",\"ticks\":\"outside\"},\"type\":\"choropleth\"}],\"contourcarpet\":[{\"colorbar\":{\"outlinewidth\":1,\"tickcolor\":\"rgb(36,36,36)\",\"ticks\":\"outside\"},\"type\":\"contourcarpet\"}],\"contour\":[{\"colorbar\":{\"outlinewidth\":1,\"tickcolor\":\"rgb(36,36,36)\",\"ticks\":\"outside\"},\"colorscale\":[[0.0,\"#440154\"],[0.1111111111111111,\"#482878\"],[0.2222222222222222,\"#3e4989\"],[0.3333333333333333,\"#31688e\"],[0.4444444444444444,\"#26828e\"],[0.5555555555555556,\"#1f9e89\"],[0.6666666666666666,\"#35b779\"],[0.7777777777777778,\"#6ece58\"],[0.8888888888888888,\"#b5de2b\"],[1.0,\"#fde725\"]],\"type\":\"contour\"}],\"heatmapgl\":[{\"colorbar\":{\"outlinewidth\":1,\"tickcolor\":\"rgb(36,36,36)\",\"ticks\":\"outside\"},\"colorscale\":[[0.0,\"#440154\"],[0.1111111111111111,\"#482878\"],[0.2222222222222222,\"#3e4989\"],[0.3333333333333333,\"#31688e\"],[0.4444444444444444,\"#26828e\"],[0.5555555555555556,\"#1f9e89\"],[0.6666666666666666,\"#35b779\"],[0.7777777777777778,\"#6ece58\"],[0.8888888888888888,\"#b5de2b\"],[1.0,\"#fde725\"]],\"type\":\"heatmapgl\"}],\"heatmap\":[{\"colorbar\":{\"outlinewidth\":1,\"tickcolor\":\"rgb(36,36,36)\",\"ticks\":\"outside\"},\"colorscale\":[[0.0,\"#440154\"],[0.1111111111111111,\"#482878\"],[0.2222222222222222,\"#3e4989\"],[0.3333333333333333,\"#31688e\"],[0.4444444444444444,\"#26828e\"],[0.5555555555555556,\"#1f9e89\"],[0.6666666666666666,\"#35b779\"],[0.7777777777777778,\"#6ece58\"],[0.8888888888888888,\"#b5de2b\"],[1.0,\"#fde725\"]],\"type\":\"heatmap\"}],\"histogram2dcontour\":[{\"colorbar\":{\"outlinewidth\":1,\"tickcolor\":\"rgb(36,36,36)\",\"ticks\":\"outside\"},\"colorscale\":[[0.0,\"#440154\"],[0.1111111111111111,\"#482878\"],[0.2222222222222222,\"#3e4989\"],[0.3333333333333333,\"#31688e\"],[0.4444444444444444,\"#26828e\"],[0.5555555555555556,\"#1f9e89\"],[0.6666666666666666,\"#35b779\"],[0.7777777777777778,\"#6ece58\"],[0.8888888888888888,\"#b5de2b\"],[1.0,\"#fde725\"]],\"type\":\"histogram2dcontour\"}],\"histogram2d\":[{\"colorbar\":{\"outlinewidth\":1,\"tickcolor\":\"rgb(36,36,36)\",\"ticks\":\"outside\"},\"colorscale\":[[0.0,\"#440154\"],[0.1111111111111111,\"#482878\"],[0.2222222222222222,\"#3e4989\"],[0.3333333333333333,\"#31688e\"],[0.4444444444444444,\"#26828e\"],[0.5555555555555556,\"#1f9e89\"],[0.6666666666666666,\"#35b779\"],[0.7777777777777778,\"#6ece58\"],[0.8888888888888888,\"#b5de2b\"],[1.0,\"#fde725\"]],\"type\":\"histogram2d\"}],\"histogram\":[{\"marker\":{\"line\":{\"color\":\"white\",\"width\":0.6}},\"type\":\"histogram\"}],\"mesh3d\":[{\"colorbar\":{\"outlinewidth\":1,\"tickcolor\":\"rgb(36,36,36)\",\"ticks\":\"outside\"},\"type\":\"mesh3d\"}],\"parcoords\":[{\"line\":{\"colorbar\":{\"outlinewidth\":1,\"tickcolor\":\"rgb(36,36,36)\",\"ticks\":\"outside\"}},\"type\":\"parcoords\"}],\"pie\":[{\"automargin\":true,\"type\":\"pie\"}],\"scatter3d\":[{\"line\":{\"colorbar\":{\"outlinewidth\":1,\"tickcolor\":\"rgb(36,36,36)\",\"ticks\":\"outside\"}},\"marker\":{\"colorbar\":{\"outlinewidth\":1,\"tickcolor\":\"rgb(36,36,36)\",\"ticks\":\"outside\"}},\"type\":\"scatter3d\"}],\"scattercarpet\":[{\"marker\":{\"colorbar\":{\"outlinewidth\":1,\"tickcolor\":\"rgb(36,36,36)\",\"ticks\":\"outside\"}},\"type\":\"scattercarpet\"}],\"scattergeo\":[{\"marker\":{\"colorbar\":{\"outlinewidth\":1,\"tickcolor\":\"rgb(36,36,36)\",\"ticks\":\"outside\"}},\"type\":\"scattergeo\"}],\"scattergl\":[{\"marker\":{\"colorbar\":{\"outlinewidth\":1,\"tickcolor\":\"rgb(36,36,36)\",\"ticks\":\"outside\"}},\"type\":\"scattergl\"}],\"scattermapbox\":[{\"marker\":{\"colorbar\":{\"outlinewidth\":1,\"tickcolor\":\"rgb(36,36,36)\",\"ticks\":\"outside\"}},\"type\":\"scattermapbox\"}],\"scatterpolargl\":[{\"marker\":{\"colorbar\":{\"outlinewidth\":1,\"tickcolor\":\"rgb(36,36,36)\",\"ticks\":\"outside\"}},\"type\":\"scatterpolargl\"}],\"scatterpolar\":[{\"marker\":{\"colorbar\":{\"outlinewidth\":1,\"tickcolor\":\"rgb(36,36,36)\",\"ticks\":\"outside\"}},\"type\":\"scatterpolar\"}],\"scatter\":[{\"fillpattern\":{\"fillmode\":\"overlay\",\"size\":10,\"solidity\":0.2},\"type\":\"scatter\"}],\"scatterternary\":[{\"marker\":{\"colorbar\":{\"outlinewidth\":1,\"tickcolor\":\"rgb(36,36,36)\",\"ticks\":\"outside\"}},\"type\":\"scatterternary\"}],\"surface\":[{\"colorbar\":{\"outlinewidth\":1,\"tickcolor\":\"rgb(36,36,36)\",\"ticks\":\"outside\"},\"colorscale\":[[0.0,\"#440154\"],[0.1111111111111111,\"#482878\"],[0.2222222222222222,\"#3e4989\"],[0.3333333333333333,\"#31688e\"],[0.4444444444444444,\"#26828e\"],[0.5555555555555556,\"#1f9e89\"],[0.6666666666666666,\"#35b779\"],[0.7777777777777778,\"#6ece58\"],[0.8888888888888888,\"#b5de2b\"],[1.0,\"#fde725\"]],\"type\":\"surface\"}],\"table\":[{\"cells\":{\"fill\":{\"color\":\"rgb(237,237,237)\"},\"line\":{\"color\":\"white\"}},\"header\":{\"fill\":{\"color\":\"rgb(217,217,217)\"},\"line\":{\"color\":\"white\"}},\"type\":\"table\"}]},\"layout\":{\"annotationdefaults\":{\"arrowhead\":0,\"arrowwidth\":1},\"autotypenumbers\":\"strict\",\"coloraxis\":{\"colorbar\":{\"outlinewidth\":1,\"tickcolor\":\"rgb(36,36,36)\",\"ticks\":\"outside\"}},\"colorscale\":{\"diverging\":[[0.0,\"rgb(103,0,31)\"],[0.1,\"rgb(178,24,43)\"],[0.2,\"rgb(214,96,77)\"],[0.3,\"rgb(244,165,130)\"],[0.4,\"rgb(253,219,199)\"],[0.5,\"rgb(247,247,247)\"],[0.6,\"rgb(209,229,240)\"],[0.7,\"rgb(146,197,222)\"],[0.8,\"rgb(67,147,195)\"],[0.9,\"rgb(33,102,172)\"],[1.0,\"rgb(5,48,97)\"]],\"sequential\":[[0.0,\"#440154\"],[0.1111111111111111,\"#482878\"],[0.2222222222222222,\"#3e4989\"],[0.3333333333333333,\"#31688e\"],[0.4444444444444444,\"#26828e\"],[0.5555555555555556,\"#1f9e89\"],[0.6666666666666666,\"#35b779\"],[0.7777777777777778,\"#6ece58\"],[0.8888888888888888,\"#b5de2b\"],[1.0,\"#fde725\"]],\"sequentialminus\":[[0.0,\"#440154\"],[0.1111111111111111,\"#482878\"],[0.2222222222222222,\"#3e4989\"],[0.3333333333333333,\"#31688e\"],[0.4444444444444444,\"#26828e\"],[0.5555555555555556,\"#1f9e89\"],[0.6666666666666666,\"#35b779\"],[0.7777777777777778,\"#6ece58\"],[0.8888888888888888,\"#b5de2b\"],[1.0,\"#fde725\"]]},\"colorway\":[\"#1F77B4\",\"#FF7F0E\",\"#2CA02C\",\"#D62728\",\"#9467BD\",\"#8C564B\",\"#E377C2\",\"#7F7F7F\",\"#BCBD22\",\"#17BECF\"],\"font\":{\"color\":\"rgb(36,36,36)\"},\"geo\":{\"bgcolor\":\"white\",\"lakecolor\":\"white\",\"landcolor\":\"white\",\"showlakes\":true,\"showland\":true,\"subunitcolor\":\"white\"},\"hoverlabel\":{\"align\":\"left\"},\"hovermode\":\"closest\",\"mapbox\":{\"style\":\"light\"},\"paper_bgcolor\":\"white\",\"plot_bgcolor\":\"white\",\"polar\":{\"angularaxis\":{\"gridcolor\":\"rgb(232,232,232)\",\"linecolor\":\"rgb(36,36,36)\",\"showgrid\":false,\"showline\":true,\"ticks\":\"outside\"},\"bgcolor\":\"white\",\"radialaxis\":{\"gridcolor\":\"rgb(232,232,232)\",\"linecolor\":\"rgb(36,36,36)\",\"showgrid\":false,\"showline\":true,\"ticks\":\"outside\"}},\"scene\":{\"xaxis\":{\"backgroundcolor\":\"white\",\"gridcolor\":\"rgb(232,232,232)\",\"gridwidth\":2,\"linecolor\":\"rgb(36,36,36)\",\"showbackground\":true,\"showgrid\":false,\"showline\":true,\"ticks\":\"outside\",\"zeroline\":false,\"zerolinecolor\":\"rgb(36,36,36)\"},\"yaxis\":{\"backgroundcolor\":\"white\",\"gridcolor\":\"rgb(232,232,232)\",\"gridwidth\":2,\"linecolor\":\"rgb(36,36,36)\",\"showbackground\":true,\"showgrid\":false,\"showline\":true,\"ticks\":\"outside\",\"zeroline\":false,\"zerolinecolor\":\"rgb(36,36,36)\"},\"zaxis\":{\"backgroundcolor\":\"white\",\"gridcolor\":\"rgb(232,232,232)\",\"gridwidth\":2,\"linecolor\":\"rgb(36,36,36)\",\"showbackground\":true,\"showgrid\":false,\"showline\":true,\"ticks\":\"outside\",\"zeroline\":false,\"zerolinecolor\":\"rgb(36,36,36)\"}},\"shapedefaults\":{\"fillcolor\":\"black\",\"line\":{\"width\":0},\"opacity\":0.3},\"ternary\":{\"aaxis\":{\"gridcolor\":\"rgb(232,232,232)\",\"linecolor\":\"rgb(36,36,36)\",\"showgrid\":false,\"showline\":true,\"ticks\":\"outside\"},\"baxis\":{\"gridcolor\":\"rgb(232,232,232)\",\"linecolor\":\"rgb(36,36,36)\",\"showgrid\":false,\"showline\":true,\"ticks\":\"outside\"},\"bgcolor\":\"white\",\"caxis\":{\"gridcolor\":\"rgb(232,232,232)\",\"linecolor\":\"rgb(36,36,36)\",\"showgrid\":false,\"showline\":true,\"ticks\":\"outside\"}},\"title\":{\"x\":0.5,\"xanchor\":\"center\"},\"xaxis\":{\"automargin\":true,\"gridcolor\":\"rgb(232,232,232)\",\"linecolor\":\"rgb(36,36,36)\",\"showgrid\":true,\"showline\":true,\"ticks\":\"outside\",\"title\":{\"standoff\":15},\"zeroline\":false,\"zerolinecolor\":\"rgb(36,36,36)\"},\"yaxis\":{\"automargin\":true,\"gridcolor\":\"rgb(232,232,232)\",\"linecolor\":\"rgb(36,36,36)\",\"showgrid\":true,\"showline\":true,\"ticks\":\"outside\",\"title\":{\"standoff\":15},\"zeroline\":false,\"zerolinecolor\":\"rgb(36,36,36)\"},\"autosize\":true,\"height\":400,\"margin\":{\"b\":30,\"l\":30,\"r\":30,\"t\":30},\"width\":600}},\"xaxis\":{\"anchor\":\"y\",\"domain\":[0.0,1.0],\"title\":{\"text\":\"0\"}},\"yaxis\":{\"anchor\":\"x\",\"domain\":[0.0,1.0],\"title\":{\"text\":\"probability\"},\"range\":[0,0.2]},\"legend\":{\"tracegroupgap\":0},\"title\":{\"text\":\"Empirical Distribution of the TVD\"},\"barmode\":\"relative\",\"shapes\":[{\"line\":{\"color\":\"red\",\"width\":1},\"opacity\":1,\"type\":\"line\",\"x0\":0.03472890994914897,\"x1\":0.03472890994914897,\"xref\":\"x\",\"y0\":0,\"y1\":1,\"yref\":\"y domain\"}],\"annotations\":[{\"showarrow\":false,\"text\":\"\\u003cspan style=\\\"color:red\\\"\\u003eObserved TVD = 0.03\\u003c\\u002fspan\\u003e\",\"x\":0.04187649288304262,\"y\":0.1675}]},                        {\"responsive\": true}                    ).then(function(){\n",
       "                            \n",
       "var gd = document.getElementById('af5d60cb-1f07-4484-9d7c-15d3acab728e');\n",
       "var x = new MutationObserver(function (mutations, observer) {{\n",
       "        var display = window.getComputedStyle(gd).display;\n",
       "        if (!display || display === 'none') {{\n",
       "            console.log([gd, 'removed!']);\n",
       "            Plotly.purge(gd);\n",
       "            observer.disconnect();\n",
       "        }}\n",
       "}});\n",
       "\n",
       "// Listen for the removal of the full notebook cells\n",
       "var notebookContainer = gd.closest('#notebook-container');\n",
       "if (notebookContainer) {{\n",
       "    x.observe(notebookContainer, {childList: true});\n",
       "}}\n",
       "\n",
       "// Listen for the clearing of the current output cell\n",
       "var outputEl = gd.closest('.output');\n",
       "if (outputEl) {{\n",
       "    x.observe(outputEl, {childList: true});\n",
       "}}\n",
       "\n",
       "                        })                };                });            </script>        </div>"
      ]
     },
     "metadata": {},
     "output_type": "display_data"
    }
   ],
   "source": [
    "#plot the graph\n",
    "fig = px.histogram(pd.DataFrame(tvds_towers), x=0, nbins=50, histnorm='probability', \n",
    "                   title='Empirical Distribution of the TVD')\n",
    "#add line for observed TVD\n",
    "fig.add_vline(x=observed_tvd_tower, line_color='red', line_width=1, opacity=1)\n",
    "fig.add_annotation(text=f'<span style=\"color:red\">Observed TVD = {round(observed_tvd_tower, 2)}</span>',\n",
    "                   x=2.3 * observed_tvd_tower, showarrow=False, y=0.16)\n",
    "fig.update_layout(yaxis_range=[0, 0.2])\n",
    "fig.layout.annotations[-1].update(x=fig.layout.annotations[-1].x - 0.038, y=fig.layout.annotations[-1].y + 0.0075)\n",
    "\n",
    "# Show the plot\n",
    "fig.show()\n",
    "fig.write_html('mcar-name.html', include_plotlyjs='cdn')"
   ]
  },
  {
   "cell_type": "markdown",
   "metadata": {},
   "source": [
    "**conclusion**: MCAR"
   ]
  },
  {
   "cell_type": "markdown",
   "metadata": {},
   "source": [
    "## Step 4: Hypothesis Testing"
   ]
  },
  {
   "cell_type": "markdown",
   "metadata": {},
   "source": [
    "H0: The distribution of games won where ADC players had more damage on average than mid players is equal to the distribution of games won where mid players had more damage than ADC players\n",
    "\n",
    "H1: The distribution of games won where ADC players had more damage on average than mid players is not equal to the distribution of games won where mid players had more damage than ADC players"
   ]
  },
  {
   "cell_type": "code",
   "execution_count": 236,
   "metadata": {},
   "outputs": [
    {
     "data": {
      "text/html": [
       "<div>\n",
       "<style scoped>\n",
       "    .dataframe tbody tr th:only-of-type {\n",
       "        vertical-align: middle;\n",
       "    }\n",
       "\n",
       "    .dataframe tbody tr th {\n",
       "        vertical-align: top;\n",
       "    }\n",
       "\n",
       "    .dataframe thead th {\n",
       "        text-align: right;\n",
       "    }\n",
       "</style>\n",
       "<table border=\"1\" class=\"dataframe\">\n",
       "  <thead>\n",
       "    <tr style=\"text-align: right;\">\n",
       "      <th></th>\n",
       "      <th>league</th>\n",
       "      <th>position</th>\n",
       "      <th>total damage dealt</th>\n",
       "      <th>game no.</th>\n",
       "    </tr>\n",
       "  </thead>\n",
       "  <tbody>\n",
       "    <tr>\n",
       "      <th>7</th>\n",
       "      <td>LCKC</td>\n",
       "      <td>mid</td>\n",
       "      <td>20690.0</td>\n",
       "      <td>0</td>\n",
       "    </tr>\n",
       "    <tr>\n",
       "      <th>8</th>\n",
       "      <td>LCKC</td>\n",
       "      <td>adc</td>\n",
       "      <td>26687.0</td>\n",
       "      <td>0</td>\n",
       "    </tr>\n",
       "    <tr>\n",
       "      <th>19</th>\n",
       "      <td>LCKC</td>\n",
       "      <td>mid</td>\n",
       "      <td>11261.0</td>\n",
       "      <td>1</td>\n",
       "    </tr>\n",
       "    <tr>\n",
       "      <th>...</th>\n",
       "      <td>...</td>\n",
       "      <td>...</td>\n",
       "      <td>...</td>\n",
       "      <td>...</td>\n",
       "    </tr>\n",
       "    <tr>\n",
       "      <th>148971</th>\n",
       "      <td>DCup</td>\n",
       "      <td>adc</td>\n",
       "      <td>30424.0</td>\n",
       "      <td>12062</td>\n",
       "    </tr>\n",
       "    <tr>\n",
       "      <th>148987</th>\n",
       "      <td>DCup</td>\n",
       "      <td>mid</td>\n",
       "      <td>19185.0</td>\n",
       "      <td>12063</td>\n",
       "    </tr>\n",
       "    <tr>\n",
       "      <th>148988</th>\n",
       "      <td>DCup</td>\n",
       "      <td>adc</td>\n",
       "      <td>28282.0</td>\n",
       "      <td>12063</td>\n",
       "    </tr>\n",
       "  </tbody>\n",
       "</table>\n",
       "<p>24128 rows × 4 columns</p>\n",
       "</div>"
      ],
      "text/plain": [
       "       league position  total damage dealt  game no.\n",
       "7        LCKC      mid             20690.0         0\n",
       "8        LCKC      adc             26687.0         0\n",
       "19       LCKC      mid             11261.0         1\n",
       "...       ...      ...                 ...       ...\n",
       "148971   DCup      adc             30424.0     12062\n",
       "148987   DCup      mid             19185.0     12063\n",
       "148988   DCup      adc             28282.0     12063\n",
       "\n",
       "[24128 rows x 4 columns]"
      ]
     },
     "execution_count": 236,
     "metadata": {},
     "output_type": "execute_result"
    }
   ],
   "source": [
    "#create new df from mid_adc df with result == True\n",
    "wins_only = mid_adc[mid_adc['result'] == True]\n",
    "wins_only.dropna(subset=['total damage dealt'], inplace=True)\n",
    "#isolate columns needed\n",
    "wins_only = wins_only[['league', 'position', 'total damage dealt']]\n",
    "\n",
    "#create array where we have two identical values representing each game\n",
    "arr = np.arange(0, wins_only.shape[0] / 2)\n",
    "arr = np.repeat(arr, 2)\n",
    "\n",
    "#assign array to df\n",
    "wins_only['game no.'] = arr.astype(int)\n",
    "wins_only\n"
   ]
  },
  {
   "cell_type": "code",
   "execution_count": 237,
   "metadata": {},
   "outputs": [
    {
     "data": {
      "text/html": [
       "<div>\n",
       "<style scoped>\n",
       "    .dataframe tbody tr th:only-of-type {\n",
       "        vertical-align: middle;\n",
       "    }\n",
       "\n",
       "    .dataframe tbody tr th {\n",
       "        vertical-align: top;\n",
       "    }\n",
       "\n",
       "    .dataframe thead th {\n",
       "        text-align: right;\n",
       "    }\n",
       "</style>\n",
       "<table border=\"1\" class=\"dataframe\">\n",
       "  <thead>\n",
       "    <tr style=\"text-align: right;\">\n",
       "      <th>position</th>\n",
       "      <th>adc</th>\n",
       "      <th>mid</th>\n",
       "    </tr>\n",
       "    <tr>\n",
       "      <th>game no.</th>\n",
       "      <th></th>\n",
       "      <th></th>\n",
       "    </tr>\n",
       "  </thead>\n",
       "  <tbody>\n",
       "    <tr>\n",
       "      <th>0</th>\n",
       "      <td>26687.0</td>\n",
       "      <td>20690.0</td>\n",
       "    </tr>\n",
       "    <tr>\n",
       "      <th>1</th>\n",
       "      <td>16970.0</td>\n",
       "      <td>11261.0</td>\n",
       "    </tr>\n",
       "    <tr>\n",
       "      <th>2</th>\n",
       "      <td>9618.0</td>\n",
       "      <td>12577.0</td>\n",
       "    </tr>\n",
       "    <tr>\n",
       "      <th>...</th>\n",
       "      <td>...</td>\n",
       "      <td>...</td>\n",
       "    </tr>\n",
       "    <tr>\n",
       "      <th>12061</th>\n",
       "      <td>11977.0</td>\n",
       "      <td>14994.0</td>\n",
       "    </tr>\n",
       "    <tr>\n",
       "      <th>12062</th>\n",
       "      <td>30424.0</td>\n",
       "      <td>15279.0</td>\n",
       "    </tr>\n",
       "    <tr>\n",
       "      <th>12063</th>\n",
       "      <td>28282.0</td>\n",
       "      <td>19185.0</td>\n",
       "    </tr>\n",
       "  </tbody>\n",
       "</table>\n",
       "<p>12064 rows × 2 columns</p>\n",
       "</div>"
      ],
      "text/plain": [
       "position      adc      mid\n",
       "game no.                  \n",
       "0         26687.0  20690.0\n",
       "1         16970.0  11261.0\n",
       "2          9618.0  12577.0\n",
       "...           ...      ...\n",
       "12061     11977.0  14994.0\n",
       "12062     30424.0  15279.0\n",
       "12063     28282.0  19185.0\n",
       "\n",
       "[12064 rows x 2 columns]"
      ]
     },
     "execution_count": 237,
     "metadata": {},
     "output_type": "execute_result"
    }
   ],
   "source": [
    "#pivot table to see total damage dealt for mid players and adc players per game.\n",
    "pivoted_wins = wins_only.pivot(columns='position', index='game no.', values='total damage dealt')\n",
    "pivoted_wins"
   ]
  },
  {
   "cell_type": "code",
   "execution_count": 238,
   "metadata": {},
   "outputs": [
    {
     "data": {
      "text/html": [
       "<div>\n",
       "<style scoped>\n",
       "    .dataframe tbody tr th:only-of-type {\n",
       "        vertical-align: middle;\n",
       "    }\n",
       "\n",
       "    .dataframe tbody tr th {\n",
       "        vertical-align: top;\n",
       "    }\n",
       "\n",
       "    .dataframe thead th {\n",
       "        text-align: right;\n",
       "    }\n",
       "</style>\n",
       "<table border=\"1\" class=\"dataframe\">\n",
       "  <thead>\n",
       "    <tr style=\"text-align: right;\">\n",
       "      <th>position</th>\n",
       "      <th>mid</th>\n",
       "      <th>role</th>\n",
       "    </tr>\n",
       "    <tr>\n",
       "      <th>game no.</th>\n",
       "      <th></th>\n",
       "      <th></th>\n",
       "    </tr>\n",
       "  </thead>\n",
       "  <tbody>\n",
       "    <tr>\n",
       "      <th>2</th>\n",
       "      <td>12577.0</td>\n",
       "      <td>mid</td>\n",
       "    </tr>\n",
       "    <tr>\n",
       "      <th>3</th>\n",
       "      <td>19759.0</td>\n",
       "      <td>mid</td>\n",
       "    </tr>\n",
       "    <tr>\n",
       "      <th>4</th>\n",
       "      <td>17636.0</td>\n",
       "      <td>mid</td>\n",
       "    </tr>\n",
       "    <tr>\n",
       "      <th>...</th>\n",
       "      <td>...</td>\n",
       "      <td>...</td>\n",
       "    </tr>\n",
       "    <tr>\n",
       "      <th>12055</th>\n",
       "      <td>24403.0</td>\n",
       "      <td>mid</td>\n",
       "    </tr>\n",
       "    <tr>\n",
       "      <th>12057</th>\n",
       "      <td>22281.0</td>\n",
       "      <td>mid</td>\n",
       "    </tr>\n",
       "    <tr>\n",
       "      <th>12061</th>\n",
       "      <td>14994.0</td>\n",
       "      <td>mid</td>\n",
       "    </tr>\n",
       "  </tbody>\n",
       "</table>\n",
       "<p>5486 rows × 2 columns</p>\n",
       "</div>"
      ],
      "text/plain": [
       "position      mid role\n",
       "game no.              \n",
       "2         12577.0  mid\n",
       "3         19759.0  mid\n",
       "4         17636.0  mid\n",
       "...           ...  ...\n",
       "12055     24403.0  mid\n",
       "12057     22281.0  mid\n",
       "12061     14994.0  mid\n",
       "\n",
       "[5486 rows x 2 columns]"
      ]
     },
     "execution_count": 238,
     "metadata": {},
     "output_type": "execute_result"
    }
   ],
   "source": [
    "#create a df of games where mid has more damage than adc\n",
    "mid_more_damage = pivoted_wins.loc[pivoted_wins['mid'] > pivoted_wins['adc']]\n",
    "mid_more_damage= mid_more_damage.drop(columns= 'adc')\n",
    "mid_more_damage['role']= 'mid'\n",
    "mid_more_damage"
   ]
  },
  {
   "cell_type": "code",
   "execution_count": 239,
   "metadata": {},
   "outputs": [
    {
     "data": {
      "text/html": [
       "<div>\n",
       "<style scoped>\n",
       "    .dataframe tbody tr th:only-of-type {\n",
       "        vertical-align: middle;\n",
       "    }\n",
       "\n",
       "    .dataframe tbody tr th {\n",
       "        vertical-align: top;\n",
       "    }\n",
       "\n",
       "    .dataframe thead th {\n",
       "        text-align: right;\n",
       "    }\n",
       "</style>\n",
       "<table border=\"1\" class=\"dataframe\">\n",
       "  <thead>\n",
       "    <tr style=\"text-align: right;\">\n",
       "      <th>position</th>\n",
       "      <th>adc</th>\n",
       "      <th>role</th>\n",
       "    </tr>\n",
       "    <tr>\n",
       "      <th>game no.</th>\n",
       "      <th></th>\n",
       "      <th></th>\n",
       "    </tr>\n",
       "  </thead>\n",
       "  <tbody>\n",
       "    <tr>\n",
       "      <th>0</th>\n",
       "      <td>26687.0</td>\n",
       "      <td>adc</td>\n",
       "    </tr>\n",
       "    <tr>\n",
       "      <th>1</th>\n",
       "      <td>16970.0</td>\n",
       "      <td>adc</td>\n",
       "    </tr>\n",
       "    <tr>\n",
       "      <th>5</th>\n",
       "      <td>17519.0</td>\n",
       "      <td>adc</td>\n",
       "    </tr>\n",
       "    <tr>\n",
       "      <th>...</th>\n",
       "      <td>...</td>\n",
       "      <td>...</td>\n",
       "    </tr>\n",
       "    <tr>\n",
       "      <th>12060</th>\n",
       "      <td>11584.0</td>\n",
       "      <td>adc</td>\n",
       "    </tr>\n",
       "    <tr>\n",
       "      <th>12062</th>\n",
       "      <td>30424.0</td>\n",
       "      <td>adc</td>\n",
       "    </tr>\n",
       "    <tr>\n",
       "      <th>12063</th>\n",
       "      <td>28282.0</td>\n",
       "      <td>adc</td>\n",
       "    </tr>\n",
       "  </tbody>\n",
       "</table>\n",
       "<p>6577 rows × 2 columns</p>\n",
       "</div>"
      ],
      "text/plain": [
       "position      adc role\n",
       "game no.              \n",
       "0         26687.0  adc\n",
       "1         16970.0  adc\n",
       "5         17519.0  adc\n",
       "...           ...  ...\n",
       "12060     11584.0  adc\n",
       "12062     30424.0  adc\n",
       "12063     28282.0  adc\n",
       "\n",
       "[6577 rows x 2 columns]"
      ]
     },
     "execution_count": 239,
     "metadata": {},
     "output_type": "execute_result"
    }
   ],
   "source": [
    "#create a df of games where adc has more damage than mid\n",
    "adc_more_damage = pivoted_wins.loc[pivoted_wins['adc'] > pivoted_wins['mid']]\n",
    "adc_more_damage= adc_more_damage.drop(columns= 'mid')\n",
    "adc_more_damage['role']= 'adc'\n",
    "adc_more_damage"
   ]
  },
  {
   "cell_type": "markdown",
   "metadata": {},
   "source": [
    "Why we chose to use difference in means for our hypothesis test: both distributions have the same center and similar shapes"
   ]
  },
  {
   "cell_type": "code",
   "execution_count": 240,
   "metadata": {},
   "outputs": [
    {
     "data": {
      "text/html": [
       "<div>                            <div id=\"afcebef3-a363-4953-83f2-c9d0cc40795b\" class=\"plotly-graph-div\" style=\"height:400px; width:600px;\"></div>            <script type=\"text/javascript\">                require([\"plotly\"], function(Plotly) {                    window.PLOTLYENV=window.PLOTLYENV || {};                                    if (document.getElementById(\"afcebef3-a363-4953-83f2-c9d0cc40795b\")) {                    Plotly.newPlot(                        \"afcebef3-a363-4953-83f2-c9d0cc40795b\",                        [{\"alignmentgroup\":\"True\",\"bingroup\":\"x\",\"hovertemplate\":\"position=adc\\u003cbr\\u003evalue=%{x}\\u003cbr\\u003ecount=%{y}\\u003cextra\\u003e\\u003c\\u002fextra\\u003e\",\"legendgroup\":\"adc\",\"marker\":{\"color\":\"#1F77B4\",\"pattern\":{\"shape\":\"\"}},\"name\":\"adc\",\"offsetgroup\":\"adc\",\"orientation\":\"v\",\"showlegend\":true,\"x\":[26687.0,16970.0,9618.0,8749.0,6416.0,17519.0,23477.0,9770.0,23389.0,11825.0,44645.0,29595.0,40399.0,21906.0,19204.0,16971.0,22368.0,11152.0,14551.0,29047.0,13939.0,18437.0,25527.0,17702.0,12605.0,16386.0,18395.0,13017.0,14870.0,18773.0,4895.0,14660.0,21183.0,15437.0,16327.0,34290.0,11947.0,13877.0,20359.0,16212.0,14635.0,17315.0,10936.0,29560.0,11389.0,11643.0,21481.0,15091.0,21051.0,28209.0,13876.0,12068.0,12986.0,8631.0,16158.0,12406.0,23864.0,41305.0,24286.0,16536.0,16667.0,12717.0,19938.0,27901.0,19903.0,22084.0,7037.0,16063.0,16900.0,19863.0,24063.0,10151.0,11724.0,16179.0,30483.0,16493.0,20462.0,69418.0,31811.0,17454.0,21928.0,22609.0,13474.0,20386.0,18313.0,28210.0,17997.0,20816.0,15460.0,34929.0,20672.0,18674.0,6753.0,11447.0,9841.0,16136.0,18329.0,16494.0,19180.0,17400.0,12193.0,15084.0,37313.0,12409.0,21095.0,29973.0,11267.0,13842.0,14339.0,23085.0,20950.0,21316.0,29197.0,20348.0,14200.0,14004.0,14915.0,28746.0,13606.0,14735.0,9361.0,18899.0,14094.0,28662.0,21510.0,15766.0,13922.0,15122.0,13246.0,31390.0,13297.0,32497.0,17703.0,34582.0,30750.0,28070.0,22408.0,16646.0,36434.0,20479.0,22700.0,22947.0,18225.0,8940.0,11257.0,21079.0,13351.0,20067.0,10989.0,24808.0,25505.0,13884.0,18164.0,14689.0,14971.0,12512.0,14836.0,13764.0,12865.0,19784.0,15593.0,8025.0,24155.0,16094.0,18892.0,30305.0,15807.0,13363.0,12857.0,17191.0,12629.0,13310.0,9290.0,36821.0,12254.0,31680.0,11423.0,39302.0,10591.0,19449.0,28621.0,13689.0,14019.0,12153.0,13268.0,19698.0,17132.0,34078.0,14332.0,34962.0,16204.0,6792.0,29698.0,20800.0,13145.0,17567.0,22846.0,20443.0,14675.0,12021.0,15863.0,17021.0,11791.0,23105.0,43237.0,13749.0,32834.0,16259.0,18174.0,15903.0,14971.0,17683.0,23019.0,10283.0,21589.0,13734.0,28197.0,37772.0,19099.0,34037.0,14833.0,16534.0,18532.0,7051.0,26850.0,21596.0,24388.0,27101.0,16379.0,18033.0,22428.0,14064.0,29750.0,15291.0,34924.0,11483.0,15355.0,13221.0,14775.0,48583.0,14541.0,11838.0,6938.0,16405.0,13149.0,10825.0,19485.0,20498.0,10623.0,20423.0,28901.0,10901.0,28058.0,12041.0,16448.0,36584.0,16022.0,27317.0,17761.0,12260.0,14882.0,11399.0,11476.0,11613.0,16207.0,12024.0,12849.0,6165.0,28764.0,18726.0,19142.0,16410.0,12712.0,10945.0,7469.0,21952.0,32676.0,11898.0,22132.0,15208.0,29631.0,19497.0,16871.0,21852.0,16919.0,25510.0,18458.0,13005.0,11551.0,20332.0,22130.0,10884.0,30765.0,20771.0,15469.0,38204.0,17603.0,36246.0,16523.0,13690.0,22189.0,16896.0,17701.0,29089.0,12866.0,14461.0,39049.0,13317.0,12539.0,23929.0,13542.0,11024.0,25209.0,15350.0,22946.0,19659.0,24442.0,13455.0,17085.0,34924.0,15615.0,37139.0,11548.0,26232.0,16483.0,16595.0,13337.0,37867.0,22026.0,23028.0,22250.0,8918.0,18143.0,17215.0,27214.0,22055.0,14533.0,33635.0,8383.0,44992.0,11690.0,22501.0,22802.0,16345.0,23660.0,16741.0,20853.0,27789.0,11027.0,13706.0,20150.0,21983.0,13031.0,42499.0,32494.0,24420.0,23106.0,20132.0,15666.0,21169.0,15144.0,26979.0,16323.0,18791.0,23916.0,14463.0,24933.0,17142.0,20134.0,15145.0,24750.0,13389.0,12326.0,29975.0,23009.0,15775.0,23993.0,6588.0,25368.0,16142.0,14844.0,21484.0,25147.0,13680.0,25635.0,14877.0,26426.0,34041.0,4926.0,29492.0,25033.0,8827.0,39344.0,23957.0,30261.0,10215.0,13749.0,20576.0,15329.0,26799.0,23618.0,29885.0,22259.0,20766.0,15316.0,26073.0,11854.0,18010.0,19504.0,27301.0,19921.0,17169.0,15419.0,12101.0,8313.0,8168.0,16881.0,23867.0,12408.0,15147.0,15547.0,21474.0,14430.0,15164.0,27268.0,21347.0,19518.0,11993.0,24850.0,15093.0,15472.0,9824.0,26055.0,20360.0,30688.0,16754.0,12825.0,21852.0,15666.0,17839.0,13527.0,22314.0,14512.0,28735.0,19401.0,11433.0,21225.0,11520.0,39603.0,8908.0,28796.0,22431.0,24386.0,18385.0,15437.0,18592.0,11484.0,11474.0,28151.0,33258.0,11441.0,32115.0,17432.0,19282.0,14203.0,19973.0,16812.0,8610.0,17128.0,13827.0,29801.0,24147.0,23177.0,18489.0,30384.0,24107.0,8031.0,20763.0,22078.0,12113.0,10503.0,18503.0,15175.0,7792.0,21808.0,19565.0,25865.0,11214.0,15194.0,20589.0,17248.0,48400.0,21461.0,15069.0,19955.0,17643.0,12010.0,16898.0,14462.0,14200.0,18743.0,11122.0,27726.0,21818.0,8395.0,15436.0,24409.0,15588.0,19774.0,18628.0,11805.0,12166.0,14298.0,35647.0,31565.0,19923.0,15224.0,9426.0,17228.0,19441.0,31059.0,19700.0,28089.0,27992.0,14934.0,25190.0,16985.0,8999.0,19453.0,12963.0,29115.0,11081.0,18267.0,7882.0,24052.0,14803.0,14450.0,11238.0,12468.0,16379.0,28386.0,14894.0,8799.0,34637.0,39197.0,19523.0,25149.0,17572.0,12078.0,12856.0,10610.0,20294.0,33500.0,9494.0,35968.0,13622.0,21070.0,20865.0,6739.0,17274.0,15277.0,14956.0,18016.0,23574.0,14081.0,22024.0,20466.0,26073.0,13818.0,18503.0,17234.0,14388.0,9598.0,24664.0,20425.0,12129.0,22788.0,11772.0,19029.0,28580.0,17857.0,31165.0,10329.0,6731.0,16634.0,20594.0,10747.0,7316.0,5687.0,50582.0,29722.0,31904.0,16596.0,20761.0,21624.0,16950.0,15579.0,27893.0,21634.0,33290.0,11330.0,14278.0,21260.0,19645.0,12988.0,22922.0,11847.0,21541.0,17571.0,29579.0,14202.0,9727.0,17704.0,14875.0,14764.0,23440.0,12629.0,16406.0,8121.0,17294.0,10263.0,13068.0,15770.0,19522.0,21934.0,23101.0,10862.0,15934.0,21927.0,14254.0,10971.0,5740.0,14170.0,7343.0,39542.0,15895.0,35986.0,27225.0,15724.0,28210.0,18484.0,18850.0,20494.0,10799.0,14649.0,20285.0,20884.0,33460.0,8965.0,21458.0,15978.0,18722.0,29158.0,8770.0,25845.0,15844.0,21643.0,14218.0,22596.0,20211.0,10320.0,27088.0,23488.0,15273.0,17772.0,12844.0,39366.0,26183.0,18160.0,8747.0,27023.0,16623.0,21110.0,7533.0,15062.0,38124.0,19297.0,7184.0,5271.0,17237.0,16387.0,7282.0,16462.0,7331.0,20572.0,13115.0,11206.0,15298.0,13628.0,29323.0,29163.0,20950.0,20571.0,12065.0,24493.0,12233.0,15840.0,15555.0,18599.0,16045.0,22031.0,21540.0,20453.0,30133.0,20201.0,13337.0,25655.0,29111.0,11201.0,9579.0,24310.0,12817.0,6150.0,15569.0,32143.0,18160.0,14073.0,26905.0,17387.0,19120.0,9021.0,16164.0,29376.0,17202.0,21464.0,16501.0,27125.0,16740.0,32864.0,20735.0,35084.0,17624.0,23081.0,14959.0,34836.0,23401.0,21217.0,18797.0,15653.0,15376.0,22499.0,12388.0,10767.0,46289.0,18534.0,21474.0,19740.0,18116.0,13241.0,40129.0,15697.0,14814.0,16846.0,21053.0,24544.0,10856.0,26420.0,26682.0,8355.0,39044.0,15379.0,10912.0,7779.0,13660.0,12270.0,10346.0,17299.0,31313.0,23495.0,21228.0,17499.0,13178.0,8728.0,16833.0,16117.0,13781.0,6787.0,30440.0,15781.0,10406.0,30480.0,26903.0,10627.0,15067.0,16323.0,22479.0,19918.0,32346.0,28195.0,17467.0,19036.0,16403.0,14455.0,24357.0,32937.0,21783.0,22102.0,36419.0,18989.0,4082.0,9194.0,26198.0,13601.0,13971.0,27134.0,13474.0,16721.0,18487.0,14260.0,12587.0,9822.0,39582.0,13641.0,13802.0,18595.0,12563.0,13492.0,21921.0,22629.0,17288.0,30782.0,21987.0,11194.0,22373.0,13307.0,17183.0,31532.0,25994.0,25465.0,14107.0,19289.0,28996.0,10706.0,29599.0,14142.0,13640.0,13981.0,30028.0,17908.0,14665.0,12201.0,13831.0,11763.0,19410.0,25452.0,19084.0,7802.0,8370.0,25023.0,21032.0,11660.0,21967.0,11910.0,15082.0,14949.0,23994.0,12371.0,25459.0,26374.0,17314.0,10682.0,18263.0,23513.0,43558.0,18849.0,23038.0,17172.0,15630.0,14845.0,19991.0,27009.0,21647.0,25062.0,16905.0,10837.0,35172.0,45702.0,23079.0,23164.0,13054.0,20825.0,27089.0,10691.0,15120.0,16279.0,25105.0,13724.0,17115.0,11362.0,17338.0,25225.0,27113.0,11460.0,13192.0,8747.0,30677.0,21843.0,23243.0,14859.0,17554.0,18187.0,10180.0,15872.0,17463.0,22378.0,21685.0,10188.0,15777.0,17840.0,4454.0,13965.0,16944.0,16898.0,23441.0,17428.0,14358.0,22970.0,23567.0,18549.0,23818.0,9101.0,13939.0,21203.0,5659.0,11847.0,22471.0,16798.0,10451.0,24775.0,11931.0,5394.0,18437.0,22122.0,15197.0,19548.0,25662.0,21412.0,26867.0,10017.0,12645.0,15478.0,23677.0,20513.0,16905.0,10923.0,18626.0,18357.0,17631.0,34711.0,23415.0,16607.0,28761.0,24646.0,6215.0,6085.0,15232.0,15396.0,20421.0,12046.0,18185.0,14920.0,5530.0,44743.0,36703.0,15387.0,20796.0,10364.0,18036.0,9279.0,17718.0,30861.0,17321.0,10127.0,10243.0,30356.0,26626.0,17480.0,12382.0,25146.0,25677.0,18442.0,33349.0,13218.0,15437.0,18860.0,24423.0,10692.0,10260.0,28389.0,29537.0,14333.0,27019.0,14092.0,11123.0,33959.0,10666.0,17235.0,13064.0,27259.0,12174.0,18536.0,12478.0,2879.0,21716.0,32068.0,15341.0,17378.0,9316.0,17599.0,27416.0,37754.0,22229.0,29219.0,10194.0,9029.0,19615.0,14932.0,11538.0,18167.0,11273.0,4581.0,25460.0,15019.0,26946.0,11170.0,11698.0,19199.0,11144.0,22386.0,11181.0,13304.0,19495.0,10440.0,19395.0,26807.0,16237.0,15578.0,25598.0,16504.0,14664.0,19878.0,25156.0,9423.0,30010.0,11461.0,21637.0,20796.0,26676.0,12924.0,23024.0,27342.0,15542.0,11374.0,15263.0,15342.0,11434.0,13726.0,32298.0,18736.0,13459.0,22191.0,31696.0,9394.0,14414.0,9679.0,16151.0,14915.0,24681.0,28937.0,25027.0,15396.0,11255.0,12110.0,14248.0,27023.0,36507.0,27271.0,15400.0,11039.0,18807.0,32440.0,17719.0,29860.0,25889.0,13644.0,19963.0,10589.0,11493.0,13407.0,52045.0,24399.0,6110.0,6485.0,15073.0,9982.0,14091.0,22851.0,8253.0,14603.0,39062.0,55220.0,15543.0,24404.0,17397.0,52306.0,24749.0,11567.0,26374.0,12216.0,14910.0,11431.0,21613.0,24107.0,18407.0,17068.0,7691.0,17172.0,23023.0,21894.0,24912.0,15248.0,24726.0,21023.0,22490.0,23446.0,19231.0,23440.0,4614.0,18990.0,19735.0,30145.0,20776.0,15884.0,20220.0,14504.0,14408.0,21812.0,20571.0,37343.0,7541.0,13241.0,26686.0,25250.0,14890.0,7741.0,11474.0,19268.0,14828.0,12928.0,12101.0,16002.0,17840.0,15158.0,16270.0,14502.0,17130.0,9922.0,23195.0,12868.0,14785.0,14664.0,13106.0,19996.0,12046.0,29664.0,15763.0,17697.0,19194.0,18766.0,9421.0,10702.0,11475.0,21749.0,30176.0,17419.0,12833.0,9532.0,45248.0,22347.0,30284.0,25657.0,14355.0,11997.0,25575.0,4906.0,29949.0,13413.0,28011.0,19541.0,15500.0,29945.0,20014.0,19563.0,13264.0,13407.0,20201.0,13360.0,20086.0,18259.0,22193.0,12113.0,32546.0,15116.0,27930.0,9167.0,13633.0,57061.0,15548.0,23199.0,15832.0,14876.0,8596.0,16999.0,39090.0,13347.0,24426.0,27147.0,7685.0,14137.0,12072.0,7352.0,18589.0,22430.0,25417.0,24316.0,15574.0,16988.0,13085.0,11273.0,13597.0,12803.0,22596.0,19214.0,22687.0,31958.0,26618.0,14017.0,23447.0,15036.0,10063.0,20117.0,36902.0,23735.0,21660.0,18686.0,14563.0,17178.0,26477.0,15901.0,22638.0,16646.0,7676.0,28043.0,8230.0,14825.0,19696.0,41758.0,18185.0,33629.0,15166.0,15812.0,6664.0,14860.0,10206.0,15785.0,27616.0,13592.0,22700.0,14576.0,26826.0,16273.0,18752.0,7535.0,12520.0,21479.0,14572.0,21056.0,12496.0,15818.0,8993.0,25887.0,21403.0,23911.0,14513.0,12702.0,7093.0,5143.0,9619.0,23238.0,11858.0,17299.0,35503.0,17467.0,11837.0,17019.0,15234.0,18361.0,25030.0,9313.0,16146.0,21721.0,15581.0,49595.0,41262.0,21121.0,31413.0,20212.0,21056.0,8739.0,16997.0,20298.0,18442.0,20132.0,24843.0,15276.0,28268.0,27761.0,7802.0,32124.0,3976.0,25149.0,14793.0,35335.0,24042.0,22162.0,15641.0,19681.0,15200.0,19270.0,26269.0,8606.0,8924.0,14123.0,10227.0,24106.0,14390.0,18939.0,11665.0,7412.0,8072.0,21946.0,22927.0,11620.0,17103.0,17189.0,21525.0,34730.0,21256.0,14362.0,15019.0,16802.0,5390.0,18086.0,15234.0,15181.0,18443.0,16840.0,21022.0,21525.0,12606.0,5767.0,25962.0,13108.0,35381.0,17716.0,19963.0,22820.0,14875.0,19167.0,20020.0,22734.0,7861.0,19760.0,12817.0,17726.0,18753.0,17128.0,14819.0,22599.0,24369.0,18559.0,15496.0,13821.0,33948.0,12333.0,22239.0,17768.0,14928.0,29948.0,21283.0,15608.0,17029.0,25925.0,13176.0,37859.0,13559.0,22523.0,41156.0,20795.0,12698.0,9954.0,49282.0,11181.0,20952.0,22119.0,24776.0,29125.0,23168.0,18287.0,17063.0,12964.0,21709.0,19083.0,20067.0,16914.0,23419.0,15111.0,13674.0,12915.0,14440.0,24139.0,21357.0,21375.0,13555.0,12041.0,20491.0,12696.0,15558.0,31006.0,16181.0,9528.0,22500.0,21335.0,24099.0,20771.0,9533.0,27055.0,8101.0,24148.0,14945.0,22463.0,19975.0,32937.0,24717.0,12600.0,9672.0,19289.0,12693.0,16550.0,21770.0,15549.0,28217.0,13072.0,18947.0,27913.0,25263.0,12992.0,11455.0,7133.0,8247.0,12787.0,29320.0,32974.0,16970.0,7100.0,21880.0,19591.0,7513.0,14188.0,17154.0,18535.0,14647.0,20039.0,20038.0,26793.0,15214.0,11655.0,26469.0,12043.0,20234.0,10677.0,19003.0,10166.0,15013.0,15033.0,24213.0,20554.0,19609.0,20058.0,27004.0,16493.0,16688.0,21420.0,22684.0,21853.0,23347.0,29281.0,27031.0,16274.0,22398.0,19784.0,9178.0,9875.0,10093.0,10571.0,21910.0,13703.0,24685.0,33879.0,19791.0,32846.0,8533.0,28928.0,21990.0,26606.0,38841.0,20054.0,16342.0,22291.0,22706.0,10337.0,18490.0,27132.0,20742.0,7154.0,30646.0,13119.0,15275.0,11147.0,11884.0,29538.0,30461.0,20585.0,8181.0,13583.0,11434.0,16139.0,13223.0,20233.0,11852.0,11919.0,20506.0,28209.0,10431.0,14770.0,26383.0,18683.0,27589.0,31106.0,20591.0,12735.0,17232.0,21669.0,17196.0,8700.0,52959.0,15639.0,22789.0,10653.0,16719.0,12254.0,22386.0,16295.0,32341.0,28047.0,26199.0,9598.0,14851.0,13942.0,7149.0,23336.0,24891.0,13530.0,12603.0,9270.0,32188.0,12513.0,18844.0,24367.0,15407.0,25274.0,16167.0,17772.0,13662.0,25550.0,10714.0,13787.0,16566.0,22987.0,12260.0,12047.0,25609.0,21125.0,19941.0,22765.0,26284.0,11279.0,9965.0,12368.0,31437.0,26313.0,22048.0,23185.0,23087.0,25855.0,8528.0,10780.0,10021.0,21007.0,21611.0,18839.0,11972.0,20354.0,13937.0,25338.0,28891.0,22802.0,16889.0,14497.0,16711.0,11094.0,19763.0,31931.0,32939.0,21566.0,14678.0,28157.0,27557.0,13611.0,17688.0,17280.0,19293.0,17950.0,19605.0,30358.0,13594.0,22770.0,18622.0,26060.0,34688.0,14509.0,13755.0,17791.0,21786.0,10331.0,24103.0,12295.0,5758.0,23018.0,20934.0,11101.0,11567.0,8929.0,16998.0,16753.0,20450.0,15255.0,10436.0,19765.0,10101.0,18015.0,24744.0,30997.0,22403.0,20933.0,11904.0,20752.0,18681.0,9284.0,20370.0,7341.0,14294.0,13483.0,17034.0,26297.0,7268.0,14215.0,28813.0,9537.0,22842.0,13457.0,16195.0,21020.0,17789.0,17695.0,7701.0,22485.0,28323.0,17085.0,22514.0,15877.0,16651.0,26050.0,10469.0,17723.0,16219.0,18417.0,12434.0,22488.0,14414.0,9002.0,19210.0,28088.0,20331.0,15054.0,29729.0,7860.0,23643.0,19681.0,15739.0,21281.0,15487.0,37126.0,25020.0,11955.0,42861.0,26411.0,14620.0,23280.0,12405.0,14116.0,20641.0,13207.0,12270.0,15727.0,23871.0,12966.0,20777.0,29046.0,20790.0,33072.0,7936.0,14282.0,15070.0,38241.0,14182.0,34537.0,12643.0,31134.0,12303.0,19973.0,14903.0,20409.0,21657.0,42118.0,27727.0,19641.0,19066.0,30947.0,22679.0,16824.0,8496.0,13131.0,24533.0,22409.0,11494.0,29746.0,18126.0,12629.0,11710.0,5097.0,7368.0,8825.0,27047.0,13678.0,13782.0,21315.0,24971.0,12733.0,34827.0,9376.0,20259.0,17763.0,17656.0,15157.0,6262.0,14553.0,37766.0,15903.0,9633.0,28187.0,22791.0,17793.0,15969.0,38057.0,27840.0,27612.0,19885.0,29725.0,24008.0,11583.0,8837.0,19443.0,12488.0,6994.0,31823.0,6458.0,8378.0,12401.0,28587.0,16180.0,18382.0,11035.0,24734.0,12068.0,12760.0,18286.0,8758.0,23413.0,23711.0,18922.0,4516.0,15144.0,20912.0,15274.0,17669.0,27800.0,26659.0,36106.0,39188.0,27928.0,12470.0,9968.0,10940.0,21545.0,21807.0,6872.0,12734.0,13991.0,12317.0,12211.0,12311.0,8613.0,19399.0,32455.0,21359.0,17809.0,13851.0,13820.0,25627.0,12731.0,17445.0,24900.0,18291.0,32775.0,14644.0,31583.0,20200.0,19053.0,14968.0,21212.0,16990.0,16003.0,10952.0,13871.0,17307.0,20254.0,15873.0,13086.0,6148.0,7258.0,18782.0,11996.0,19100.0,12457.0,39453.0,3872.0,56492.0,21931.0,13171.0,25173.0,9043.0,16925.0,15712.0,16352.0,16441.0,26075.0,9544.0,21085.0,42409.0,17107.0,17813.0,36154.0,39054.0,32550.0,27081.0,7150.0,12419.0,17532.0,10645.0,29966.0,15446.0,20270.0,17788.0,9674.0,12554.0,11878.0,15992.0,38062.0,16763.0,15870.0,23950.0,18558.0,13614.0,19002.0,18653.0,47024.0,9802.0,7726.0,33439.0,16851.0,9241.0,10430.0,22346.0,32739.0,37789.0,21418.0,18422.0,30489.0,18387.0,37568.0,15399.0,16154.0,12174.0,19596.0,13131.0,12397.0,21442.0,6659.0,17521.0,14189.0,26972.0,19293.0,14084.0,14221.0,26244.0,18114.0,17362.0,11269.0,13198.0,11920.0,22840.0,20458.0,14894.0,22857.0,29507.0,15742.0,28219.0,11073.0,17833.0,17075.0,10641.0,15754.0,22612.0,18709.0,7874.0,29647.0,17103.0,17182.0,19976.0,11534.0,19188.0,18800.0,7937.0,20907.0,19928.0,8742.0,9324.0,31201.0,23793.0,10251.0,9302.0,13754.0,22151.0,20094.0,23433.0,31746.0,20243.0,23335.0,23335.0,31081.0,15527.0,20975.0,18526.0,10733.0,6392.0,20399.0,15849.0,18569.0,11154.0,6931.0,8339.0,20502.0,10082.0,26529.0,13174.0,10530.0,14400.0,36626.0,19608.0,8244.0,18593.0,10293.0,14679.0,16911.0,8739.0,19874.0,4007.0,10008.0,10468.0,8007.0,16101.0,19536.0,20219.0,25245.0,16269.0,11082.0,23383.0,13183.0,22815.0,19385.0,14687.0,13055.0,14381.0,15968.0,22221.0,16928.0,9264.0,8673.0,27248.0,28846.0,13160.0,14000.0,25581.0,11279.0,25758.0,22074.0,18172.0,10384.0,15953.0,17997.0,24340.0,30283.0,19239.0,37372.0,12936.0,10437.0,14059.0,13065.0,19220.0,11867.0,30509.0,10359.0,11565.0,13388.0,14766.0,22898.0,17777.0,12167.0,12516.0,15762.0,11073.0,18948.0,17165.0,11386.0,12733.0,13058.0,14110.0,20393.0,26262.0,18398.0,20033.0,18866.0,14040.0,14881.0,18543.0,21969.0,20595.0,22533.0,10480.0,28590.0,25245.0,23271.0,14554.0,20600.0,11838.0,14506.0,24922.0,12226.0,52541.0,14965.0,25538.0,13634.0,13328.0,14928.0,21515.0,17044.0,12173.0,19638.0,24922.0,22968.0,14709.0,12239.0,27040.0,11562.0,17055.0,34356.0,17771.0,13204.0,20044.0,11693.0,17582.0,17736.0,31596.0,28993.0,18267.0,19725.0,10423.0,23831.0,26124.0,22039.0,23931.0,8203.0,17177.0,14802.0,13456.0,19612.0,19599.0,12978.0,19882.0,22927.0,10940.0,27738.0,15942.0,33995.0,16947.0,12258.0,17261.0,16863.0,13631.0,10957.0,17105.0,18543.0,37889.0,35241.0,30888.0,24346.0,16852.0,10427.0,15391.0,13879.0,16997.0,28103.0,20338.0,15578.0,15389.0,13616.0,15466.0,13238.0,13906.0,12904.0,10513.0,21803.0,12540.0,9836.0,13178.0,10930.0,11994.0,14373.0,25760.0,22687.0,14533.0,18975.0,17887.0,15867.0,29934.0,17461.0,17595.0,20120.0,13740.0,18463.0,8570.0,14177.0,11461.0,37061.0,25550.0,31198.0,28389.0,8074.0,29585.0,13602.0,20452.0,16432.0,42943.0,16366.0,18084.0,21596.0,9854.0,15272.0,19293.0,12382.0,18605.0,14145.0,22673.0,27609.0,9878.0,9090.0,18345.0,18202.0,14009.0,14186.0,7553.0,23707.0,9536.0,36912.0,9704.0,20149.0,8687.0,16114.0,5400.0,13647.0,15652.0,11701.0,15974.0,21108.0,20220.0,14050.0,16605.0,12528.0,14757.0,13200.0,17996.0,24557.0,21759.0,25021.0,14449.0,20619.0,22965.0,28340.0,20997.0,18323.0,54429.0,12280.0,31995.0,24955.0,13828.0,22865.0,26942.0,15532.0,20006.0,19935.0,15887.0,19822.0,27635.0,13029.0,17878.0,11731.0,26476.0,10473.0,11448.0,20474.0,25011.0,27328.0,24132.0,18116.0,6544.0,15032.0,8884.0,17770.0,33810.0,16392.0,10463.0,13788.0,29489.0,34102.0,23344.0,22644.0,20655.0,9021.0,22074.0,14913.0,24837.0,13901.0,16016.0,21212.0,18877.0,14425.0,17862.0,30406.0,11937.0,14310.0,8563.0,30470.0,12942.0,13018.0,10665.0,16715.0,11147.0,19296.0,34940.0,54248.0,25084.0,8350.0,9638.0,29070.0,13109.0,10443.0,20521.0,27844.0,18529.0,8198.0,21437.0,29145.0,10992.0,5811.0,10865.0,12929.0,23984.0,16369.0,15440.0,31419.0,10784.0,35735.0,18687.0,12958.0,15858.0,22721.0,14674.0,4343.0,15790.0,15881.0,12982.0,31704.0,16964.0,12923.0,17089.0,11092.0,14526.0,18899.0,25825.0,7310.0,9121.0,24486.0,15747.0,12192.0,19071.0,19437.0,11690.0,14442.0,30945.0,15840.0,27335.0,9569.0,18175.0,28565.0,11694.0,31033.0,13260.0,11472.0,14719.0,10079.0,27196.0,20268.0,38223.0,10930.0,27260.0,10499.0,25028.0,13378.0,16961.0,15283.0,8126.0,17581.0,24617.0,7783.0,41802.0,22299.0,37592.0,9175.0,21443.0,12917.0,14206.0,17480.0,13482.0,36644.0,11156.0,18463.0,19929.0,11647.0,20665.0,5298.0,17563.0,9775.0,51074.0,11731.0,9630.0,15180.0,32067.0,25600.0,13769.0,18945.0,8534.0,30055.0,35210.0,18001.0,10575.0,11883.0,24800.0,16001.0,33049.0,9572.0,21257.0,25105.0,22867.0,13717.0,21467.0,19833.0,10389.0,12923.0,19715.0,30333.0,17970.0,13341.0,18651.0,16133.0,17974.0,17989.0,25968.0,21540.0,7359.0,18865.0,15353.0,27597.0,21871.0,11967.0,14868.0,15150.0,17211.0,8315.0,18618.0,14794.0,14598.0,3382.0,13078.0,8236.0,18017.0,8066.0,17089.0,16398.0,30035.0,21303.0,29008.0,16062.0,21725.0,10298.0,19156.0,27913.0,47605.0,20011.0,10729.0,20462.0,39395.0,19762.0,21261.0,12910.0,14244.0,14885.0,17292.0,12118.0,25098.0,23860.0,14625.0,19425.0,12828.0,21458.0,9084.0,24004.0,10334.0,44653.0,11939.0,16362.0,10000.0,19326.0,11986.0,15245.0,47958.0,25746.0,11132.0,25891.0,21399.0,10013.0,10393.0,18453.0,19487.0,44882.0,21542.0,14462.0,12072.0,12327.0,20701.0,21665.0,9146.0,29981.0,20108.0,19983.0,12477.0,15378.0,11797.0,12589.0,12346.0,23989.0,12820.0,13137.0,20897.0,18180.0,23568.0,17354.0,18513.0,14310.0,11851.0,17067.0,16052.0,9677.0,19623.0,6192.0,22913.0,33745.0,13592.0,20684.0,19896.0,19426.0,20901.0,30278.0,24005.0,14334.0,27984.0,28687.0,31216.0,42084.0,12060.0,14313.0,10892.0,32026.0,33195.0,12109.0,15146.0,13363.0,25175.0,29585.0,19553.0,19602.0,11043.0,19687.0,8873.0,20246.0,20164.0,17646.0,16602.0,10685.0,11578.0,21015.0,19900.0,11102.0,19234.0,21368.0,12781.0,17654.0,21851.0,25649.0,14629.0,5942.0,13164.0,10993.0,20196.0,18283.0,13473.0,20738.0,11338.0,21215.0,23182.0,12164.0,11095.0,13035.0,16983.0,10391.0,21934.0,22830.0,14864.0,20989.0,12451.0,30183.0,13350.0,6947.0,12676.0,12382.0,16858.0,38526.0,16165.0,20493.0,26909.0,8535.0,13748.0,8919.0,11539.0,19923.0,12269.0,11228.0,7658.0,20153.0,27279.0,17680.0,25139.0,15509.0,43032.0,17039.0,33411.0,5010.0,20413.0,14042.0,27376.0,11539.0,19841.0,17247.0,17153.0,27389.0,9362.0,19769.0,24353.0,20824.0,18068.0,30775.0,18125.0,7613.0,24435.0,34662.0,11855.0,20383.0,18112.0,8676.0,19494.0,6992.0,20307.0,19647.0,15430.0,12380.0,16013.0,24248.0,10754.0,23007.0,16087.0,11987.0,10127.0,31600.0,14215.0,14254.0,17436.0,11000.0,23227.0,16141.0,25259.0,23002.0,13397.0,13068.0,14369.0,20616.0,11558.0,14177.0,16885.0,9184.0,37188.0,14234.0,33579.0,20546.0,16075.0,11580.0,12525.0,29419.0,21226.0,37166.0,29163.0,8403.0,20194.0,6861.0,18989.0,21704.0,17319.0,18392.0,29887.0,16154.0,29405.0,17715.0,17179.0,18029.0,30069.0,15590.0,36162.0,27078.0,22091.0,16443.0,39506.0,19952.0,18262.0,19700.0,44144.0,16614.0,18474.0,17284.0,21282.0,31852.0,12707.0,19386.0,11965.0,27395.0,16394.0,7785.0,12416.0,8612.0,23922.0,9823.0,17830.0,44620.0,15030.0,16827.0,27343.0,23118.0,18792.0,19974.0,19277.0,25771.0,12882.0,19433.0,28596.0,16023.0,20894.0,11515.0,18175.0,16797.0,20598.0,24484.0,21986.0,12264.0,12413.0,24951.0,21500.0,12278.0,13142.0,7430.0,12087.0,28581.0,36364.0,14304.0,16672.0,28026.0,16250.0,16010.0,17798.0,27899.0,14050.0,28873.0,19640.0,19696.0,8203.0,22718.0,14214.0,11519.0,15271.0,11474.0,27552.0,13944.0,15915.0,14662.0,13526.0,29293.0,27252.0,19068.0,15323.0,15957.0,18166.0,10890.0,17046.0,27985.0,11970.0,19404.0,15460.0,9716.0,8139.0,14158.0,27443.0,14957.0,11761.0,14334.0,17921.0,24148.0,18083.0,19236.0,23386.0,24442.0,25668.0,12770.0,12366.0,13826.0,25466.0,46018.0,27163.0,27341.0,17529.0,14867.0,10138.0,18336.0,16380.0,10714.0,27208.0,24242.0,10788.0,10852.0,16442.0,36637.0,13189.0,33589.0,15996.0,19727.0,22559.0,15604.0,16563.0,15803.0,20177.0,32982.0,36571.0,13931.0,18014.0,16767.0,22390.0,21684.0,16392.0,33400.0,21630.0,31475.0,23204.0,34629.0,30730.0,12824.0,22647.0,25546.0,17114.0,17871.0,16555.0,13286.0,16153.0,17772.0,9972.0,10902.0,20658.0,16558.0,18182.0,14920.0,19479.0,7806.0,19901.0,11015.0,13583.0,14336.0,23256.0,32458.0,19897.0,28848.0,16332.0,13758.0,21066.0,16270.0,9735.0,16921.0,29814.0,13876.0,22141.0,13306.0,16909.0,10205.0,22525.0,21338.0,17358.0,22374.0,24202.0,9594.0,20090.0,17684.0,9925.0,14634.0,8856.0,22888.0,26058.0,15758.0,21397.0,18082.0,11189.0,17889.0,29337.0,19249.0,14274.0,26069.0,29474.0,13646.0,21241.0,16393.0,20040.0,21613.0,14378.0,41112.0,26631.0,8857.0,23643.0,22445.0,11657.0,17851.0,9846.0,33308.0,24555.0,19390.0,32422.0,19708.0,11434.0,22833.0,17499.0,16047.0,21352.0,17099.0,15130.0,17347.0,15297.0,12083.0,17903.0,36665.0,40670.0,25364.0,12782.0,35295.0,13260.0,18295.0,32109.0,28564.0,16788.0,24572.0,13634.0,13721.0,21716.0,25253.0,18386.0,12675.0,28053.0,14568.0,9943.0,20638.0,12234.0,8470.0,21458.0,21027.0,27342.0,15311.0,47623.0,12817.0,17116.0,20857.0,11745.0,24211.0,24242.0,12599.0,29173.0,31302.0,20269.0,18020.0,18129.0,10704.0,14447.0,10254.0,15553.0,23247.0,22311.0,17649.0,23849.0,9900.0,19873.0,9662.0,19972.0,27856.0,16748.0,12828.0,10259.0,14568.0,28485.0,15708.0,18510.0,16999.0,15202.0,15292.0,5275.0,25049.0,19086.0,23850.0,12247.0,31695.0,10312.0,33944.0,11225.0,22967.0,29437.0,13298.0,26601.0,25367.0,21490.0,10945.0,17824.0,23280.0,25999.0,19063.0,9445.0,20436.0,40146.0,20676.0,27461.0,15074.0,14102.0,21290.0,44332.0,13995.0,29352.0,19777.0,49129.0,24968.0,22337.0,20369.0,20238.0,17119.0,13649.0,26227.0,23699.0,15554.0,31898.0,16217.0,47327.0,8212.0,24408.0,16709.0,11848.0,11549.0,17208.0,25093.0,9281.0,13313.0,16085.0,11161.0,20194.0,19322.0,29915.0,14825.0,20950.0,9004.0,39885.0,13654.0,19713.0,14172.0,20277.0,23004.0,24460.0,29092.0,20716.0,10948.0,21001.0,15626.0,37481.0,13620.0,14420.0,35817.0,47542.0,16332.0,18625.0,16516.0,21590.0,11683.0,17915.0,22590.0,33809.0,9910.0,14889.0,20281.0,12299.0,44654.0,14524.0,15651.0,12115.0,32296.0,17460.0,11293.0,18223.0,24631.0,31705.0,28609.0,17881.0,20962.0,19708.0,16373.0,31188.0,11301.0,13945.0,16747.0,18592.0,39252.0,20116.0,15872.0,25359.0,13961.0,20195.0,15221.0,32844.0,15357.0,21713.0,17620.0,20031.0,45054.0,25709.0,12010.0,37099.0,15876.0,30308.0,20741.0,11335.0,13269.0,10896.0,17173.0,40989.0,18080.0,10817.0,25927.0,21056.0,31528.0,16089.0,18072.0,13749.0,13459.0,22681.0,17628.0,11690.0,9705.0,15131.0,34777.0,18529.0,33767.0,13895.0,18368.0,29333.0,18053.0,23843.0,8607.0,14181.0,31155.0,21854.0,12675.0,12131.0,18341.0,10124.0,10204.0,24439.0,25358.0,12624.0,17453.0,18061.0,24854.0,25527.0,13927.0,13333.0,26625.0,10903.0,27233.0,16107.0,20962.0,27196.0,16043.0,8821.0,41583.0,5700.0,6957.0,20617.0,17337.0,18525.0,20116.0,32829.0,29940.0,20069.0,21584.0,29730.0,24152.0,20285.0,7224.0,20846.0,31280.0,22566.0,19378.0,10166.0,16522.0,19542.0,16322.0,30410.0,13080.0,21068.0,10694.0,10533.0,17950.0,24975.0,21537.0,16800.0,18627.0,19448.0,20712.0,47073.0,25052.0,19286.0,14202.0,8312.0,16513.0,10097.0,17028.0,26896.0,20402.0,16133.0,12421.0,27110.0,15829.0,12292.0,16101.0,23060.0,13709.0,22345.0,26091.0,5976.0,15811.0,27211.0,16680.0,26600.0,13369.0,25636.0,14929.0,13669.0,24989.0,16158.0,15568.0,17120.0,18088.0,6975.0,22705.0,35519.0,13761.0,16735.0,30883.0,13077.0,12279.0,18586.0,18319.0,10135.0,32435.0,28483.0,12887.0,12469.0,21527.0,16778.0,9090.0,9850.0,19070.0,14593.0,16811.0,25585.0,9023.0,25572.0,25096.0,10044.0,27346.0,28816.0,17334.0,13510.0,45061.0,16647.0,8322.0,21450.0,33076.0,16188.0,15461.0,11165.0,17206.0,17549.0,14510.0,25216.0,18241.0,12835.0,11850.0,16712.0,15851.0,11329.0,29164.0,15159.0,11434.0,21170.0,14439.0,16012.0,35143.0,17527.0,17049.0,26804.0,21536.0,10127.0,45861.0,28408.0,29790.0,21790.0,13519.0,25949.0,10883.0,17582.0,37777.0,25104.0,24825.0,37363.0,28464.0,33146.0,7513.0,11765.0,7807.0,16144.0,19031.0,16293.0,18439.0,40937.0,23894.0,18026.0,14445.0,18955.0,21715.0,26782.0,11932.0,5570.0,21412.0,11429.0,25759.0,19375.0,19216.0,18469.0,24451.0,18005.0,6998.0,9527.0,21746.0,10324.0,10868.0,14784.0,21480.0,20350.0,33224.0,7689.0,19826.0,20952.0,25772.0,30650.0,28890.0,17264.0,12619.0,16489.0,24433.0,22584.0,47960.0,15231.0,29987.0,18709.0,14502.0,8482.0,30929.0,11268.0,21682.0,10731.0,28713.0,19814.0,21708.0,21638.0,16576.0,20813.0,12739.0,15165.0,24485.0,13774.0,13915.0,16922.0,12235.0,26381.0,27054.0,20641.0,13006.0,22099.0,17043.0,27649.0,9715.0,12686.0,21554.0,19126.0,17731.0,12992.0,40813.0,17234.0,20113.0,19462.0,14080.0,11930.0,17087.0,9262.0,12789.0,15167.0,16126.0,15483.0,24507.0,12973.0,25989.0,31193.0,15706.0,30577.0,18501.0,16098.0,30824.0,12720.0,47820.0,22427.0,25461.0,22194.0,47603.0,17916.0,16949.0,19101.0,17696.0,16346.0,14314.0,7545.0,14535.0,10111.0,15608.0,11119.0,19351.0,24067.0,18073.0,17216.0,12291.0,10702.0,7376.0,12877.0,9505.0,40037.0,20282.0,29920.0,15748.0,17222.0,36303.0,22483.0,9453.0,13785.0,14499.0,34417.0,26920.0,13788.0,30476.0,50491.0,21222.0,19580.0,59062.0,24362.0,16150.0,7183.0,11773.0,15489.0,26726.0,20827.0,16935.0,22607.0,18221.0,17720.0,18073.0,12325.0,22971.0,12655.0,19594.0,19317.0,21716.0,18835.0,50489.0,26252.0,28305.0,33470.0,15444.0,15135.0,25740.0,46904.0,8019.0,11136.0,20209.0,19107.0,15789.0,16756.0,6151.0,8296.0,17649.0,12774.0,26402.0,21894.0,18032.0,15732.0,14559.0,17421.0,35177.0,15777.0,17325.0,23712.0,25999.0,15253.0,15714.0,24416.0,16357.0,32407.0,17269.0,9759.0,24123.0,15301.0,17932.0,14609.0,15544.0,10614.0,17058.0,23156.0,13888.0,23241.0,21229.0,16603.0,19909.0,16451.0,18895.0,18441.0,15802.0,25583.0,22201.0,18038.0,16397.0,13785.0,22184.0,18150.0,20539.0,19800.0,16111.0,7372.0,28850.0,15597.0,13358.0,40272.0,30196.0,9439.0,8973.0,15237.0,32064.0,22292.0,16481.0,11214.0,51195.0,8726.0,21129.0,48671.0,21906.0,20259.0,7994.0,15704.0,9401.0,33862.0,18742.0,34070.0,26961.0,16024.0,21686.0,28231.0,15443.0,5133.0,19591.0,13919.0,17052.0,19141.0,40540.0,24599.0,19695.0,18040.0,16787.0,43494.0,11715.0,14999.0,16469.0,14842.0,18631.0,26149.0,11900.0,13114.0,29062.0,9968.0,29776.0,12270.0,11878.0,12911.0,32135.0,9014.0,21657.0,30820.0,17819.0,13219.0,19424.0,4559.0,51034.0,24272.0,33761.0,36079.0,16746.0,37650.0,9596.0,20095.0,24222.0,17238.0,10286.0,15444.0,23273.0,15991.0,13825.0,14037.0,12542.0,16199.0,27341.0,13176.0,9108.0,14064.0,7708.0,20277.0,13768.0,26506.0,9265.0,15638.0,26171.0,23025.0,7085.0,23478.0,20168.0,9450.0,18196.0,25944.0,13933.0,34858.0,14194.0,14786.0,19024.0,19836.0,13215.0,12722.0,18792.0,18353.0,15896.0,14632.0,23196.0,19673.0,11362.0,35235.0,19917.0,9729.0,34201.0,29763.0,24116.0,19183.0,14289.0,20643.0,55240.0,14971.0,17863.0,17439.0,18913.0,24367.0,24097.0,24828.0,35069.0,18822.0,19829.0,14647.0,18589.0,23303.0,26375.0,23534.0,25148.0,18009.0,12675.0,10691.0,35538.0,19007.0,16250.0,23605.0,15125.0,10259.0,12979.0,14205.0,26639.0,18837.0,12817.0,7098.0,22138.0,18943.0,35595.0,17094.0,24897.0,37459.0,9203.0,20705.0,28990.0,17368.0,12309.0,9522.0,27685.0,15911.0,20289.0,21298.0,24606.0,33403.0,12077.0,25460.0,35982.0,21908.0,21149.0,15592.0,18015.0,18821.0,18919.0,28338.0,14805.0,16499.0,12843.0,18309.0,19298.0,13789.0,14580.0,17745.0,21661.0,19154.0,14998.0,13627.0,24908.0,25131.0,22085.0,12462.0,25202.0,30144.0,31071.0,13847.0,16699.0,16406.0,10375.0,31302.0,14749.0,16044.0,19505.0,22380.0,19103.0,17722.0,38888.0,15133.0,13148.0,29409.0,17342.0,14112.0,15055.0,11388.0,17742.0,14105.0,23240.0,12344.0,22031.0,31722.0,21047.0,18578.0,26481.0,19394.0,12490.0,19513.0,22761.0,14822.0,20561.0,19619.0,13818.0,26511.0,26978.0,16847.0,18237.0,20229.0,15523.0,22260.0,13461.0,26489.0,14852.0,20031.0,12335.0,15719.0,24933.0,16962.0,17343.0,11440.0,8618.0,30388.0,29842.0,36427.0,21598.0,25492.0,18916.0,15959.0,15060.0,17559.0,16112.0,22067.0,11129.0,13596.0,21281.0,24348.0,19937.0,20079.0,37485.0,23016.0,10903.0,9339.0,17120.0,31052.0,14591.0,33435.0,4366.0,14286.0,15133.0,27246.0,9984.0,12693.0,11548.0,21765.0,27316.0,25129.0,18130.0,13101.0,13763.0,16266.0,21974.0,14306.0,19126.0,29185.0,16860.0,19222.0,23268.0,16840.0,17928.0,23641.0,28784.0,19598.0,15335.0,3845.0,5271.0,23880.0,26172.0,17719.0,31086.0,18059.0,9813.0,14724.0,15547.0,20616.0,26200.0,12421.0,15643.0,19278.0,41838.0,14609.0,19189.0,22717.0,18916.0,13742.0,16418.0,19213.0,15908.0,30498.0,25229.0,16943.0,16174.0,28158.0,20797.0,31411.0,23676.0,11736.0,19471.0,36290.0,9920.0,5877.0,14695.0,19865.0,17509.0,22637.0,21095.0,22531.0,20759.0,16893.0,17367.0,20116.0,9034.0,9034.0,26014.0,12202.0,12202.0,15337.0,31607.0,14670.0,14506.0,18770.0,9958.0,12796.0,25582.0,16861.0,12654.0,20261.0,23141.0,24090.0,22685.0,18500.0,20462.0,24337.0,31868.0,16310.0,17383.0,15882.0,12045.0,16280.0,18224.0,15904.0,11021.0,19029.0,16733.0,21990.0,29510.0,21499.0,23417.0,17839.0,9215.0,22544.0,15899.0,20191.0,21799.0,15745.0,15682.0,25882.0,33001.0,13981.0,20579.0,18606.0,13370.0,12942.0,11269.0,19870.0,17246.0,30267.0,17054.0,11319.0,21879.0,11544.0,16525.0,34085.0,12782.0,39196.0,24705.0,17324.0,37684.0,21332.0,8104.0,19619.0,14914.0,25390.0,7702.0,17662.0,29062.0,7914.0,43937.0,18841.0,11577.0,13800.0,18341.0,29679.0,10248.0,20743.0,40928.0,22826.0,15308.0,19221.0,33209.0,13351.0,16851.0,12568.0,11645.0,14997.0,29251.0,30227.0,9644.0,23487.0,24606.0,18739.0,12524.0,30486.0,55075.0,26489.0,15615.0,10063.0,25040.0,14476.0,19537.0,19814.0,28359.0,18256.0,11414.0,12491.0,18441.0,18039.0,20150.0,22902.0,20276.0,21532.0,24883.0,19790.0,13583.0,10700.0,16299.0,12106.0,23051.0,16340.0,19468.0,20642.0,21027.0,20047.0,13332.0,7629.0,17443.0,17040.0,25947.0,15135.0,50768.0,23801.0,12202.0,13122.0,22414.0,31765.0,25043.0,27212.0,15948.0,23125.0,9915.0,20077.0,9472.0,21305.0,14907.0,17213.0,14604.0,22651.0,30507.0,16413.0,17659.0,23756.0,14053.0,11564.0,18231.0,26391.0,13038.0,21765.0,27386.0,19971.0,17914.0,18870.0,26391.0,12782.0,20736.0,15209.0,20251.0,19973.0,21481.0,20619.0,19386.0,19746.0,34518.0,12856.0,14933.0,39782.0,12196.0,14767.0,29873.0,29356.0,10922.0,29966.0,23137.0,15916.0,14982.0,19376.0,14188.0,14635.0,17661.0,20299.0,8207.0,16051.0,18218.0,14360.0,13937.0,13540.0,19899.0,12694.0,10093.0,15682.0,13142.0,17855.0,35886.0,16279.0,12437.0,13129.0,23974.0,31382.0,19582.0,28748.0,11063.0,37489.0,27449.0,53696.0,19560.0,24253.0,30682.0,23500.0,19944.0,10237.0,25499.0,17141.0,30829.0,31468.0,14352.0,20057.0,20100.0,11291.0,20354.0,15127.0,18192.0,29245.0,19651.0,11372.0,13285.0,19176.0,26303.0,8990.0,32195.0,15554.0,26979.0,25711.0,11798.0,13783.0,19030.0,17129.0,14299.0,14151.0,17617.0,26842.0,20288.0,15762.0,8908.0,13837.0,34085.0,29984.0,17557.0,9116.0,21457.0,14116.0,16351.0,22377.0,19204.0,14077.0,12220.0,14977.0,29197.0,16889.0,29873.0,20058.0,32478.0,21416.0,19171.0,14073.0,21183.0,16908.0,13641.0,11961.0,13032.0,34979.0,13473.0,10353.0,20083.0,20215.0,14663.0,13465.0,9505.0,30830.0,9285.0,26493.0,22640.0,11812.0,21118.0,28200.0,24596.0,26728.0,26578.0,13597.0,5482.0,10167.0,21751.0,14054.0,13149.0,17816.0,24640.0,17482.0,10129.0,31592.0,9758.0,25713.0,29275.0,6442.0,17815.0,30087.0,16062.0,14079.0,36454.0,26189.0,22933.0,14314.0,32901.0,13964.0,14045.0,23217.0,19613.0,14982.0,18068.0,9830.0,10735.0,3021.0,32584.0,8600.0,11486.0,17592.0,18018.0,24808.0,14615.0,7967.0,16445.0,20139.0,17340.0,15304.0,23852.0,16167.0,32185.0,18930.0,18046.0,22996.0,13795.0,11645.0,11165.0,21089.0,31562.0,16349.0,25947.0,15308.0,19833.0,22128.0,24483.0,29072.0,22176.0,8618.0,13400.0,15400.0,15262.0,31779.0,15433.0,18100.0,21366.0,12462.0,13670.0,22276.0,10196.0,27167.0,17237.0,16945.0,28110.0,20335.0,13791.0,20334.0,20436.0,27289.0,5515.0,29225.0,17387.0,12059.0,11944.0,19481.0,12064.0,18039.0,51454.0,29259.0,16412.0,21451.0,23839.0,19561.0,22758.0,19489.0,18794.0,13989.0,19077.0,16373.0,11626.0,19888.0,13123.0,11739.0,15826.0,15632.0,9874.0,14264.0,16631.0,18711.0,13289.0,11065.0,13523.0,17942.0,15458.0,15607.0,9959.0,21738.0,10218.0,17352.0,10625.0,14532.0,12263.0,24839.0,38055.0,18148.0,20696.0,18132.0,10249.0,43256.0,18039.0,10662.0,19967.0,15945.0,15234.0,28102.0,13580.0,14126.0,27085.0,23102.0,17498.0,19665.0,12563.0,34297.0,19981.0,13125.0,14964.0,32591.0,23683.0,5518.0,37948.0,29952.0,13216.0,32061.0,8595.0,14430.0,34299.0,31442.0,16566.0,18908.0,29007.0,26272.0,28356.0,12498.0,8811.0,16374.0,30862.0,14432.0,21075.0,25696.0,31607.0,18181.0,27590.0,13075.0,20393.0,13218.0,30802.0,15691.0,10969.0,27208.0,16002.0,23151.0,15212.0,19064.0,7542.0,18542.0,12145.0,12929.0,20121.0,28752.0,17338.0,12381.0,15355.0,20417.0,19573.0,19569.0,29015.0,23322.0,17537.0,14330.0,13403.0,24493.0,19235.0,19183.0,11412.0,24914.0,15764.0,26547.0,9542.0,23728.0,8884.0,23859.0,21215.0,23002.0,18224.0,22635.0,21894.0,18755.0,35566.0,16576.0,24768.0,20405.0,34237.0,13190.0,24596.0,13960.0,21275.0,15180.0,23314.0,16193.0,16870.0,14528.0,14528.0,10461.0,17268.0,17268.0,6348.0,17407.0,10047.0,16863.0,26255.0,26255.0,25641.0,13477.0,33068.0,25690.0,24609.0,15936.0,13853.0,17530.0,20139.0,13858.0,24208.0,30547.0,7916.0,16733.0,32564.0,23214.0,21334.0,14308.0,31611.0,8436.0,8493.0,10471.0,24295.0,7294.0,14051.0,19461.0,18804.0,8476.0,16883.0,17644.0,20210.0,20522.0,29141.0,24135.0,14476.0,17283.0,7948.0,12431.0,45587.0,26479.0,10103.0,27242.0,14572.0,28599.0,11419.0,14775.0,18494.0,23228.0,22887.0,11992.0,10984.0,12388.0,11885.0,29539.0,18574.0,24617.0,27717.0,9544.0,15006.0,22311.0,15937.0,17419.0,13221.0,20357.0,23127.0,19545.0,12380.0,9544.0,23097.0,28434.0,12548.0,13488.0,27650.0,14060.0,16506.0,16045.0,22584.0,27695.0,32863.0,11683.0,33568.0,13590.0,17168.0,30553.0,19993.0,17624.0,20033.0,16305.0,29008.0,16451.0,14129.0,52259.0,11363.0,18252.0,18295.0,7959.0,35015.0,17511.0,13807.0,9007.0,15524.0,13832.0,18721.0,9305.0,23498.0,22683.0,16180.0,25772.0,20294.0,13914.0,20483.0,14521.0,21263.0,15967.0,34446.0,13056.0,19077.0,10453.0,5923.0,9187.0,29850.0,16686.0,12276.0,15864.0,13900.0,20839.0,20682.0,15892.0,20086.0,32496.0,27126.0,22123.0,39368.0,36117.0,33634.0,14741.0,16110.0,27788.0,16539.0,18934.0,20131.0,27613.0,27839.0,23709.0,15443.0,36817.0,17619.0,8787.0,49279.0,28785.0,12510.0,23981.0,29366.0,17220.0,14085.0,17482.0,24592.0,53995.0,19365.0,32996.0,15629.0,15687.0,15107.0,13392.0,11579.0,33354.0,20524.0,27964.0,28550.0,25841.0,7188.0,12403.0,16333.0,9870.0,19731.0,22852.0,26532.0,21319.0,19043.0,9853.0,21316.0,14234.0,13902.0,15712.0,25754.0,24720.0,9951.0,25694.0,14899.0,20264.0,16394.0,14961.0,33399.0,20693.0,28714.0,21697.0,14476.0,16747.0,13120.0,23208.0,25688.0,34989.0,8786.0,15141.0,14650.0,46893.0,33006.0,14922.0,13472.0,16262.0,13172.0,25023.0,13652.0,20413.0,7384.0,27970.0,12803.0,12170.0,46948.0,12503.0,37495.0,9991.0,25488.0,26771.0,29761.0,7702.0,23241.0,10181.0,21642.0,23956.0,8060.0,7749.0,19209.0,11718.0,7978.0,24964.0,34975.0,17835.0,25847.0,13499.0,29816.0,18809.0,39213.0,11340.0,7960.0,10108.0,20097.0,22688.0,21665.0,21097.0,15900.0,10291.0,19618.0,12297.0,14583.0,30753.0,15185.0,24940.0,12432.0,11733.0,25535.0,25396.0,21905.0,8236.0,13245.0,18476.0,24545.0,10219.0,13963.0,20797.0,19726.0,22624.0,13125.0,24891.0,39691.0,28436.0,23840.0,13887.0,40380.0,14624.0,12061.0,17243.0,16640.0,18974.0,24340.0,28986.0,12820.0,12358.0,25104.0,13870.0,19236.0,19673.0,15759.0,19544.0,18645.0,10355.0,17553.0,14621.0,23081.0,16598.0,19947.0,9213.0,25730.0,13816.0,16844.0,12184.0,16464.0,18989.0,31772.0,26214.0,18592.0,23732.0,12738.0,20404.0,13695.0,26200.0,43023.0,13049.0,20387.0,18194.0,14664.0,15455.0,28006.0,15317.0,29314.0,12620.0,38884.0,18383.0,18577.0,28442.0,24550.0,19779.0,38216.0,18694.0,21946.0,20793.0,16721.0,18169.0,19560.0,10422.0,22570.0,13488.0,20696.0,21017.0,22876.0,16675.0,15265.0,19555.0,31833.0,38740.0,18210.0,21338.0,22110.0,10702.0,11220.0,16789.0,30763.0,18689.0,14316.0,27998.0,22830.0,29306.0,25139.0,33798.0,39029.0,22288.0,19708.0,13818.0,22220.0,19604.0,23771.0,12198.0,15269.0,11045.0,9779.0,27314.0,12124.0,26845.0,23683.0,13780.0,24038.0,14993.0,12505.0,15596.0,16505.0,30894.0,22856.0,19619.0,16520.0,10960.0,7576.0,19030.0,11605.0,13109.0,12597.0,15902.0,22911.0,16990.0,23354.0,10382.0,20161.0,18043.0,9194.0,18499.0,16698.0,24321.0,26611.0,22771.0,8675.0,18559.0,27542.0,17202.0,23213.0,17855.0,19797.0,20974.0,28279.0,12703.0,27281.0,12989.0,16796.0,11761.0,18345.0,20648.0,33758.0,14539.0,29121.0,20674.0,18222.0,20415.0,15746.0,28064.0,14580.0,68989.0,17383.0,8686.0,29407.0,18527.0,26366.0,13267.0,19226.0,18469.0,17513.0,36385.0,25385.0,28319.0,19964.0,14365.0,26113.0,24793.0,14487.0,24658.0,25416.0,39074.0,16985.0,7898.0,11742.0,26039.0,25534.0,21327.0,18668.0,25623.0,27463.0,21606.0,15478.0,28449.0,13472.0,11544.0,8730.0,15879.0,27541.0,14784.0,30341.0,30037.0,13314.0,18168.0,24103.0,18892.0,19177.0,14503.0,18698.0,20535.0,15150.0,5130.0,24601.0,24445.0,19021.0,56966.0,25495.0,26226.0,18216.0,24528.0,21100.0,18086.0,8464.0,16123.0,32503.0,33492.0,18284.0,19729.0,14010.0,29587.0,15307.0,39753.0,16195.0,20155.0,13297.0,20791.0,10266.0,17420.0,24956.0,18220.0,28014.0,20641.0,25288.0,10841.0,12242.0,22352.0,16132.0,38531.0,18627.0,18656.0,17747.0,18984.0,9256.0,16821.0,34733.0,19045.0,26201.0,31319.0,17028.0,9055.0,19503.0,22832.0,16004.0,13142.0,19797.0,5393.0,11736.0,14471.0,5304.0,25383.0,15334.0,21674.0,15049.0,19257.0,14968.0,14009.0,20921.0,41856.0,24677.0,5407.0,13610.0,21312.0,20000.0,18416.0,24525.0,37617.0,30879.0,33327.0,18926.0,9468.0,30745.0,16905.0,15546.0,12385.0,22981.0,11000.0,10726.0,11328.0,49141.0,25025.0,17267.0,16509.0,61519.0,21173.0,12852.0,26572.0,41685.0,25152.0,19258.0,18244.0,14905.0,14561.0,12267.0,21682.0,8793.0,37774.0,27690.0,16594.0,26135.0,17294.0,18788.0,6691.0,42450.0,10682.0,26886.0,14001.0,11239.0,25868.0,33046.0,22572.0,22387.0,15012.0,16181.0,18809.0,16994.0,11182.0,37344.0,19218.0,25334.0,22537.0,17110.0,12857.0,26257.0,12158.0,28364.0,15849.0,20178.0,15261.0,31350.0,17774.0,25301.0,23105.0,14062.0,18977.0,15541.0,36352.0,21748.0,11442.0,50134.0,13808.0,21482.0,14499.0,12814.0,20588.0,21704.0,15144.0,22263.0,11821.0,21632.0,33223.0,21578.0,23402.0,25500.0,37569.0,9432.0,22727.0,36586.0,27333.0,18750.0,11454.0,13324.0,16044.0,28389.0,11138.0,18261.0,9841.0,39713.0,17685.0,30109.0,24779.0,8831.0,14190.0,12625.0,15509.0,18688.0,20361.0,37855.0,11585.0,14266.0,10069.0,16803.0,16020.0,22527.0,31084.0,39424.0,10662.0,31352.0,23666.0,15079.0,7997.0,14059.0,17831.0,21175.0,30807.0,12769.0,22626.0,13033.0,46136.0,21372.0,28384.0,26096.0,19150.0,21875.0,16516.0,30007.0,22018.0,25686.0,17969.0,19865.0,12159.0,30719.0,13502.0,7054.0,12279.0,15004.0,10974.0,21630.0,14049.0,8389.0,23919.0,18887.0,17454.0,73703.0,23195.0,17013.0,22945.0,15532.0,21554.0,21593.0,35080.0,15611.0,18947.0,25793.0,28009.0,6783.0,27205.0,14097.0,9137.0,18352.0,13701.0,15837.0,24900.0,19217.0,28297.0,31072.0,25947.0,22051.0,29573.0,17539.0,29153.0,34952.0,16172.0,28884.0,14621.0,10157.0,19091.0,34805.0,17380.0,18031.0,21975.0,20213.0,21362.0,9893.0,14139.0,22274.0,17111.0,16071.0,18458.0,11998.0,9934.0,13541.0,27439.0,40562.0,12191.0,23809.0,14895.0,19824.0,34276.0,14029.0,35149.0,14985.0,25931.0,7918.0,49348.0,21006.0,20304.0,21314.0,20326.0,30604.0,19632.0,17484.0,27882.0,18751.0,24705.0,19926.0,25440.0,25887.0,21236.0,11003.0,19530.0,33199.0,30325.0,17543.0,14855.0,7907.0,12395.0,13382.0,26241.0,25384.0,20028.0,18855.0,13918.0,9765.0,15927.0,15254.0,15738.0,8672.0,17421.0,32193.0,14404.0,22536.0,22900.0,32106.0,25487.0,18102.0,9168.0,14669.0,21902.0,22276.0,18546.0,20580.0,20965.0,24758.0,17376.0,26235.0,23299.0,17291.0,29604.0,10505.0,27804.0,20357.0,34197.0,10585.0,20123.0,22471.0,35992.0,11626.0,19929.0,14128.0,12878.0,12199.0,16451.0,17025.0,15244.0,15838.0,22909.0,14217.0,8029.0,22386.0,19942.0,19190.0,32519.0,39000.0,14057.0,23746.0,23964.0,14051.0,51525.0,20031.0,22075.0,28892.0,29067.0,26124.0,29805.0,8308.0,15194.0,18807.0,22526.0,15265.0,33084.0,11972.0,19566.0,30990.0,14954.0,15986.0,24618.0,7931.0,13687.0,31505.0,21618.0,24337.0,20505.0,19131.0,25322.0,17745.0,18426.0,21809.0,38734.0,14781.0,14131.0,12578.0,34717.0,24098.0,25476.0,24834.0,32952.0,15112.0,24995.0,31259.0,18652.0,12765.0,26091.0,25786.0,23787.0,8334.0,14819.0,21681.0,10972.0,20421.0,7178.0,27724.0,15470.0,28551.0,14363.0,24348.0,31052.0,15240.0,9086.0,25834.0,21364.0,21695.0,12681.0,39417.0,9948.0,19310.0,12991.0,14826.0,7446.0,14855.0,16649.0,20586.0,14639.0,15063.0,29741.0,18659.0,10543.0,11825.0,22947.0,26053.0,40524.0,14686.0,26627.0,12467.0,10689.0,18814.0,17453.0,22569.0,14338.0,21023.0,25787.0,19538.0,15302.0,30161.0,26363.0,27413.0,11359.0,19094.0,25558.0,12136.0,26425.0,21146.0,29312.0,39091.0,4910.0,20563.0,24909.0,14632.0,21392.0,23472.0,19283.0,25340.0,15732.0,22394.0,17210.0,15444.0,11626.0,29693.0,16353.0,21550.0,38076.0,42407.0,24108.0,9344.0,18259.0,27074.0,20230.0,25395.0,12272.0,31009.0,12749.0,23146.0,14385.0,15334.0,13986.0,11917.0,36959.0,19697.0,17786.0,18804.0,13136.0,21029.0,14364.0,18450.0,11970.0,10790.0,23830.0,19852.0,32006.0,12600.0,22753.0,13760.0,12976.0,14758.0,12192.0,7179.0,24469.0,23102.0,19790.0,14628.0,25978.0,35954.0,12093.0,7088.0,17250.0,26507.0,15144.0,10768.0,10336.0,31933.0,28096.0,18630.0,25013.0,27974.0,14688.0,16626.0,29766.0,20032.0,20254.0,21130.0,26145.0,14788.0,27182.0,15876.0,15574.0,25204.0,10596.0,30397.0,19407.0,8341.0,16148.0,13263.0,17547.0,8710.0,31038.0,31180.0,13626.0,17266.0,21916.0,20809.0,25557.0,9330.0,9500.0,21164.0,19977.0,11292.0,19486.0,17361.0,29219.0,14098.0,7589.0,8549.0,25680.0,12646.0,14359.0,16660.0,8705.0,16925.0,11178.0,16164.0,18871.0,13119.0,30832.0,8873.0,17814.0,14961.0,10076.0,17206.0,13313.0,17318.0,9703.0,15629.0,14507.0,14383.0,13207.0,16038.0,21467.0,30122.0,9510.0,6922.0,28168.0,11132.0,7879.0,19701.0,7543.0,17622.0,18405.0,9003.0,14356.0,11561.0,15183.0,10689.0,19066.0,26367.0,28213.0,32668.0,12579.0,13171.0,9465.0,32548.0,8765.0,15005.0,14827.0,10366.0,22515.0,13562.0,6886.0,12373.0,15404.0,27502.0,16962.0,18963.0,15486.0,16759.0,6840.0,16486.0,10399.0,13929.0,10889.0,15770.0,9943.0,11621.0,39768.0,28190.0,16467.0,10652.0,19396.0,25958.0,18183.0,9839.0,16154.0,15421.0,28560.0,14830.0,41207.0,12502.0,13908.0,26179.0,33283.0,26868.0,18904.0,6599.0,27163.0,12688.0,23392.0,8676.0,13690.0,11160.0,32537.0,19478.0,33080.0,16445.0,13653.0,7096.0,28805.0,9815.0,17115.0,13489.0,21629.0,26637.0,20184.0,12036.0,6360.0,8809.0,8491.0,16855.0,19483.0,12507.0,17054.0,7496.0,14160.0,10875.0,13285.0,13792.0,17915.0,19319.0,19319.0,18050.0,15438.0,9718.0,10047.0,15256.0,13536.0,27728.0,18262.0,14614.0,19045.0,20610.0,11334.0,16657.0,25344.0,19797.0,16142.0,9607.0,14120.0,16467.0,18241.0,17982.0,17058.0,32897.0,11791.0,18674.0,13015.0,29418.0,14528.0,23523.0,20793.0,17495.0,31353.0,31675.0,35013.0,10286.0,33925.0,10578.0,30396.0,19201.0,19554.0,13331.0,28782.0,21699.0,9834.0,15279.0,19786.0,16877.0,15937.0,14241.0,19669.0,15571.0,15258.0,14010.0,10434.0,19878.0,16335.0,23029.0,14364.0,12091.0,35684.0,7563.0,29047.0,9859.0,28932.0,20102.0,18924.0,18724.0,13127.0,31110.0,13759.0,26563.0,23861.0,10948.0,11926.0,22016.0,13823.0,17208.0,25203.0,20294.0,16762.0,24677.0,8224.0,15243.0,11159.0,22767.0,28154.0,18440.0,29106.0,34194.0,13292.0,18662.0,15385.0,28594.0,10831.0,16739.0,37503.0,21017.0,11610.0,29361.0,12564.0,16662.0,11690.0,11486.0,9698.0,17799.0,16651.0,20689.0,10811.0,17490.0,21804.0,21311.0,7902.0,31600.0,15066.0,17101.0,18338.0,9352.0,31941.0,24443.0,19840.0,16610.0,14210.0,23753.0,9818.0,21446.0,14502.0,21149.0,15964.0,18834.0,9079.0,14293.0,10526.0,9858.0,16608.0,12318.0,11435.0,9183.0,13431.0,29713.0,12282.0,15313.0,16891.0,20979.0,15368.0,22997.0,33545.0,18738.0,19967.0,10368.0,11646.0,8282.0,9253.0,15463.0,9749.0,6477.0,15471.0,23558.0,8122.0,15440.0,13790.0,24316.0,25071.0,9885.0,12057.0,11973.0,13858.0,24074.0,16513.0,19431.0,10363.0,12613.0,23502.0,11786.0,13637.0,24614.0,7584.0,17602.0,20450.0,7366.0,12763.0,16714.0,17915.0,20695.0,35168.0,27677.0,9964.0,10821.0,12449.0,8043.0,23161.0,8665.0,16427.0,30919.0,12836.0,8638.0,6904.0,19668.0,18506.0,10326.0,14211.0,13598.0,13076.0,19961.0,16789.0,14991.0,6894.0,19024.0,13162.0,12649.0,30377.0,15277.0,15926.0,13470.0,10327.0,12582.0,20755.0,36347.0,21854.0,15465.0,21383.0,6317.0,27225.0,20673.0,20013.0,18266.0,14128.0,14591.0,26111.0,37570.0,15399.0,12812.0,17134.0,32564.0,28557.0,17957.0,11583.0,13136.0,17220.0,8804.0,10522.0,20206.0,14574.0,18737.0,12142.0,22486.0,12375.0,18155.0,8803.0,16014.0,21738.0,16162.0,12231.0,20842.0,9620.0,9223.0,27596.0,21993.0,17142.0,12555.0,9305.0,21043.0,20690.0,10693.0,17004.0,12953.0,22113.0,13594.0,42638.0,8470.0,23807.0,22573.0,26588.0,14838.0,12029.0,10643.0,11988.0,10763.0,27881.0,14170.0,24614.0,18793.0,31851.0,23617.0,26879.0,22196.0,24611.0,12340.0,24705.0,23699.0,33992.0,14402.0,12079.0,19523.0,16109.0,16322.0,13539.0,13684.0,9220.0,18459.0,27171.0,34581.0,27712.0,27062.0,11116.0,15878.0,21341.0,27531.0,22781.0,14921.0,13426.0,17665.0,10658.0,9707.0,14870.0,10285.0,33022.0,28760.0,12299.0,13965.0,21608.0,8948.0,4431.0,16533.0,12545.0,18238.0,17573.0,19920.0,7812.0,10165.0,11776.0,13448.0,16147.0,15243.0,10984.0,29971.0,10946.0,13027.0,13784.0,18386.0,20656.0,19835.0,11715.0,12594.0,23509.0,11613.0,8821.0,11953.0,52259.0,11644.0,28536.0,15825.0,19500.0,8104.0,8055.0,18705.0,5400.0,16312.0,9327.0,15912.0,15042.0,24685.0,21527.0,20306.0,38349.0,25758.0,12093.0,6351.0,10764.0,23153.0,22819.0,10116.0,11768.0,34180.0,18767.0,17238.0,13861.0,7807.0,13324.0,20542.0,13098.0,18559.0,12299.0,37660.0,19203.0,15509.0,16888.0,19856.0,20132.0,33213.0,21869.0,7311.0,11705.0,13003.0,18103.0,13506.0,12603.0,24519.0,15339.0,21838.0,9947.0,20449.0,13160.0,13866.0,18967.0,13069.0,16027.0,10922.0,19493.0,10068.0,11996.0,15851.0,12154.0,11592.0,24157.0,22787.0,5904.0,45096.0,20479.0,28490.0,23860.0,13378.0,13472.0,15492.0,29808.0,19942.0,34531.0,18295.0,22274.0,16805.0,36847.0,27656.0,11475.0,10991.0,17193.0,19715.0,13678.0,20785.0,15357.0,22035.0,27559.0,15461.0,21902.0,18346.0,18992.0,26293.0,17694.0,14001.0,10759.0,26778.0,10349.0,18423.0,26563.0,24576.0,13773.0,14102.0,25359.0,21844.0,25781.0,15285.0,4801.0,22010.0,31278.0,34337.0,20434.0,15622.0,27525.0,14670.0,7342.0,14327.0,12196.0,23595.0,23053.0,34667.0,11035.0,15978.0,21918.0,18696.0,21599.0,14376.0,12376.0,11875.0,16793.0,15997.0,25745.0,19089.0,23618.0,11652.0,30055.0,30524.0,12995.0,14514.0,42997.0,35887.0,20541.0,16868.0,13541.0,37511.0,16581.0,17571.0,14481.0,6669.0,30268.0,12969.0,20224.0,6722.0,9855.0,10569.0,21515.0,26442.0,13313.0,28637.0,28886.0,22460.0,22075.0,28728.0,16854.0,33364.0,15784.0,19183.0,13434.0,12508.0,13364.0,14592.0,11698.0,27716.0,24364.0,10193.0,24088.0,21539.0,17089.0,27423.0,24498.0,13958.0,8453.0,15582.0,25145.0,8836.0,17787.0,16112.0,16687.0,20476.0,21553.0,18941.0,28258.0,16724.0,9040.0,9499.0,12314.0,13438.0,31228.0,16251.0,32595.0,23351.0,24068.0,13849.0,12314.0,36890.0,10692.0,34007.0,16761.0,21835.0,17576.0,12122.0,21910.0,26704.0,10089.0,17268.0,23884.0,15052.0,17382.0,13617.0,12802.0,16965.0,10935.0,8727.0,15310.0,34189.0,13548.0,9990.0,20036.0,22673.0,11177.0,17200.0,38357.0,28330.0,22219.0,27112.0,9685.0,47664.0,30888.0,26649.0,25916.0,18664.0,17576.0,10318.0,31195.0,18599.0,10856.0,16497.0,22628.0,36031.0,13204.0,36939.0,14568.0,20413.0,25633.0,30407.0,15639.0,11616.0,27127.0,15470.0,15960.0,7721.0,10922.0,31406.0,12100.0,15044.0,16744.0,15065.0,18864.0,32580.0,31116.0,16358.0,17957.0,20267.0,36425.0,32338.0,11187.0,9413.0,16646.0,24806.0,22255.0,24264.0,16467.0,26554.0,13281.0,21018.0,28959.0,28959.0,12717.0,22653.0,15832.0,25144.0,10039.0,11553.0,21663.0,16077.0,16077.0,24992.0,16318.0,33057.0,44935.0,25085.0,21187.0,12267.0,23933.0,18803.0,34368.0,16078.0,13922.0,28580.0,24849.0,23138.0,18631.0,9998.0,15320.0,8674.0,16356.0,31877.0,7988.0,17890.0,12706.0,10482.0,29843.0,18648.0,25219.0,14466.0,18292.0,20732.0,23630.0,17905.0,22797.0,21470.0,17863.0,11607.0,33252.0,9081.0,11552.0,19064.0,13040.0,11991.0,11413.0,12429.0,25220.0,18954.0,32473.0,21683.0,9474.0,25363.0,9751.0,29526.0,13020.0,18935.0,16792.0,27471.0,15648.0,12208.0,7547.0,18088.0,40439.0,16883.0,14616.0,54233.0,18552.0,13551.0,25400.0,25697.0,15723.0,8299.0,22232.0,36338.0,15838.0,29873.0,19786.0,12060.0,31576.0,9146.0,35497.0,11297.0,20768.0,12325.0,16407.0,12169.0,19017.0,15951.0,17967.0,34042.0,40857.0,19293.0,18728.0,16590.0,21014.0,9731.0,35441.0,8158.0,14475.0,18187.0,21719.0,7308.0,28964.0,42330.0,26192.0,20322.0,14645.0,30548.0,37341.0,25286.0,9678.0,21413.0,11881.0,13846.0,16554.0,14335.0,17043.0,13708.0,15756.0,9878.0,14049.0,14321.0,18022.0,10645.0,10078.0,17168.0,10723.0,14869.0,21289.0,15184.0,16951.0,23722.0,6230.0,21672.0,11434.0,14686.0,16561.0,12700.0,23661.0,17162.0,24887.0,15155.0,12836.0,12031.0,8453.0,25557.0,15993.0,21260.0,16715.0,10484.0,35310.0,31585.0,16653.0,14678.0,16374.0,16269.0,8013.0,20953.0,13752.0,36436.0,17672.0,24148.0,16104.0,13278.0,41338.0,21489.0,19692.0,9538.0,16876.0,20045.0,21934.0,19065.0,7617.0,19587.0,13090.0,20715.0,22945.0,18382.0,17469.0,47260.0,16963.0,17408.0,10197.0,18245.0,19661.0,19204.0,14619.0,6010.0,29571.0,18523.0,7854.0,32267.0,16068.0,31881.0,7311.0,16257.0,19143.0,16965.0,16779.0,19477.0,28192.0,21569.0,37351.0,25098.0,13292.0,21615.0,21615.0,36567.0,9631.0,41726.0,10420.0,16533.0,22142.0,22142.0,11438.0,21483.0,29345.0,51430.0,38851.0,13545.0,28960.0,21373.0,23346.0,26245.0,17275.0,30559.0,47841.0,20692.0,27328.0,25637.0,17984.0,19788.0,15452.0,51814.0,12866.0,19490.0,28354.0,12726.0,19205.0,33482.0,9282.0,19621.0,23016.0,24421.0,31802.0,9641.0,17562.0,34410.0,12516.0,25717.0,23443.0,24648.0,17497.0,12368.0,21575.0,22222.0,23529.0,23367.0,59685.0,19559.0,32769.0,25617.0,9898.0,11281.0,7340.0,18301.0,29725.0,11826.0,31816.0,25004.0,25606.0,21373.0,24637.0,24361.0,20065.0,22785.0,27463.0,26085.0,9949.0,15346.0,25159.0,18112.0,18108.0,24092.0,16352.0,19128.0,11322.0,7522.0,31204.0,17727.0,19812.0,12527.0,64969.0,31972.0,21406.0,12328.0,14240.0,13878.0,17165.0,40051.0,13938.0,18019.0,6423.0,37825.0,17672.0,19715.0,31939.0,11177.0,27379.0,13632.0,19225.0,16713.0,12453.0,14269.0,25157.0,15998.0,12698.0,19212.0,24711.0,30765.0,15261.0,21274.0,29475.0,15372.0,18756.0,15801.0,8097.0,11056.0,18909.0,20593.0,11726.0,19607.0,27523.0,12042.0,12531.0,12871.0,41233.0,16414.0,20109.0,19691.0,38895.0,16439.0,19725.0,29880.0,30707.0,9870.0,8309.0,7630.0,23813.0,14211.0,13846.0,21102.0,12778.0,12853.0,36639.0,16608.0,8570.0,14052.0,15278.0,13510.0,8553.0,14419.0,17558.0,16415.0,17218.0,19113.0,21758.0,19428.0,26181.0,18530.0,56388.0,36414.0,16143.0,20718.0,17527.0,17785.0,15000.0,13183.0,21063.0,44713.0,22443.0,24208.0,17130.0,15130.0,21006.0,13748.0,25950.0,17628.0,78247.0,15024.0,12145.0,9634.0,18419.0,15533.0,18547.0,15930.0,25750.0,34685.0,21755.0,13036.0,11967.0,13600.0,15254.0,12421.0,12823.0,15735.0,11220.0,25630.0,12836.0,11960.0,23958.0,23721.0,16459.0,33133.0,21075.0,13682.0,38485.0,27986.0,19400.0,14322.0,22188.0,16647.0,29711.0,22632.0,31482.0,15177.0,13691.0,11290.0,22274.0,16578.0,15009.0,20239.0,14206.0,10089.0,9561.0,16560.0,19319.0,36867.0,13913.0,17116.0,30714.0,26516.0,18382.0,16523.0,8884.0,41807.0,18615.0,11844.0,12849.0,21477.0,11463.0,18667.0,20907.0,17576.0,25630.0,16751.0,21341.0,24100.0,16515.0,23279.0,16760.0,16180.0,35430.0,17783.0,24657.0,10161.0,27923.0,19607.0,24782.0,17147.0,19935.0,27317.0,29122.0,15207.0,8652.0,16753.0,32614.0,32219.0,14024.0,10218.0,8049.0,23135.0,11373.0,16587.0,21751.0,29889.0,12215.0,23979.0,29413.0,12775.0,26394.0,12730.0,12409.0,14103.0,20617.0,16843.0,20962.0,20654.0,9596.0,18925.0,16355.0,6354.0,15288.0,35392.0,32145.0,16746.0,17995.0,18549.0,16901.0,21265.0,15961.0,18944.0,25497.0,22137.0,28282.0,20970.0,37261.0,12798.0,32150.0,30906.0,24057.0,12248.0,12100.0,19869.0,23634.0,17995.0,15397.0,27799.0,9078.0,24852.0,15724.0,15981.0,11141.0,19702.0,14832.0,17234.0,20870.0,13684.0,12670.0,22268.0,9597.0,19155.0,11286.0,49489.0,24824.0,50327.0,20249.0,13075.0,25397.0,14800.0,10395.0,19916.0,22902.0,18424.0,20200.0,24948.0,11595.0,24932.0,8736.0,16980.0,16469.0,26687.0,23237.0,23315.0,18831.0,17717.0,16116.0,23468.0,35758.0,18068.0,24005.0,25905.0,26630.0,40548.0,24166.0,15759.0,15993.0,13562.0,34278.0,10469.0,23339.0,10172.0,17110.0,19119.0,18175.0,60171.0,34311.0,22014.0,10943.0,21173.0,8474.0,20339.0,15808.0,8503.0,17974.0,35624.0,14237.0,20475.0,27529.0,10138.0,11054.0,19294.0,19289.0,18262.0,19856.0,19003.0,27502.0,23798.0,6273.0,26668.0,38523.0,12860.0,19387.0,24474.0,20644.0,11928.0,11425.0,21995.0,18769.0,9880.0,19308.0,13562.0,14530.0,16901.0,20446.0,16324.0,50123.0,36490.0,13506.0,14649.0,10907.0,18878.0,35231.0,14524.0,25378.0,30914.0,47562.0,21140.0,15288.0,20270.0,16488.0,21411.0,16269.0,11417.0,27945.0,15160.0,24151.0,16701.0,18233.0,17788.0,13080.0,10538.0,24298.0,45528.0,77234.0,16913.0,15072.0,28128.0,20464.0,20883.0,28032.0,22443.0,15550.0,16714.0,17325.0,20077.0,25723.0,23965.0,11130.0,11355.0,15274.0,35231.0,11852.0,20026.0,45061.0,36729.0,18052.0,7913.0,20093.0,31647.0,29033.0,25495.0,27015.0,11969.0,41375.0,12063.0,28550.0,31916.0,15637.0,15846.0,11756.0,14670.0,20090.0,9651.0,12755.0,22472.0,23947.0,27421.0,23058.0,24565.0,18330.0,25162.0,14381.0,32659.0,23261.0,16634.0,34354.0,15888.0,35219.0,6552.0,24056.0,16517.0,11089.0,17534.0,41878.0,13799.0,17572.0,16581.0,16769.0,27034.0,23263.0,19086.0,18076.0,33554.0,15711.0,18134.0,11452.0,11739.0,14595.0,30239.0,18710.0,5974.0,15676.0,19440.0,13885.0,17201.0,25868.0,19169.0,17472.0,28929.0,8524.0,18442.0,19632.0,26328.0,27319.0,33349.0,24625.0,16881.0,16891.0,23505.0,16916.0,16765.0,22516.0,23774.0,11539.0,9254.0,30057.0,13307.0,12584.0,30949.0,12066.0,17824.0,15136.0,16440.0,32043.0,31231.0,13608.0,20184.0,14782.0,25533.0,24386.0,11254.0,20228.0,21200.0,36695.0,16549.0,8067.0,21613.0,17013.0,24451.0,18162.0,20054.0,6916.0,11612.0,8912.0,19083.0,10869.0,26059.0,23564.0,19476.0,22089.0,14269.0,15039.0,17676.0,13505.0,18224.0,11319.0,13633.0,11196.0,25222.0,28895.0,19186.0,13417.0,32441.0,21179.0,18940.0,23827.0,13314.0,27370.0,27575.0,19561.0,11724.0,30324.0,14431.0,15061.0,13839.0,36771.0,16255.0,28730.0,12909.0,14551.0,19386.0,17033.0,23748.0,16758.0,23092.0,15090.0,29544.0,23498.0,32087.0,23298.0,12306.0,12344.0,13812.0,39698.0,9814.0,17017.0,13751.0,22373.0,27269.0,25323.0,20120.0,29017.0,43953.0,18776.0,10925.0,20039.0,35725.0,14586.0,20862.0,16566.0,10522.0,19558.0,20908.0,12494.0,24632.0,11294.0,21385.0,31080.0,36177.0,22781.0,17675.0,29527.0,15352.0,31504.0,12888.0,40073.0,24499.0,17853.0,16914.0,15324.0,28699.0,45075.0,10117.0,30786.0,9777.0,15366.0,28246.0,18077.0,27461.0,9839.0,23949.0,14788.0,22629.0,32337.0,16903.0,22166.0,6445.0,55396.0,21647.0,12764.0,37955.0,16451.0,18293.0,33356.0,10794.0,33201.0,15239.0,12278.0,13765.0,46405.0,33520.0,10428.0,13238.0,21019.0,14783.0,13445.0,14051.0,9242.0,20276.0,19287.0,17485.0,12515.0,16454.0,22849.0,11116.0,17760.0,38888.0,16400.0,36675.0,23611.0,13466.0,12342.0,8663.0,12813.0,32898.0,21873.0,6229.0,13652.0,12417.0,18101.0,27383.0,11773.0,22743.0,20228.0,30933.0,8944.0,15668.0,16660.0,13655.0,14489.0,14931.0,23960.0,37089.0,23909.0,17407.0,26713.0,28017.0,9700.0,10250.0,27590.0,19143.0,25278.0,11982.0,19546.0,22371.0,19216.0,17836.0,19675.0,15158.0,24174.0,16383.0,14887.0,13800.0,38380.0,21866.0,11624.0,28682.0,20086.0,12272.0,7840.0,25431.0,23862.0,13801.0,12029.0,22200.0,25280.0,16227.0,17301.0,12816.0,13664.0,17748.0,8938.0,16028.0,23321.0,26520.0,5615.0,29638.0,5803.0,59871.0,11108.0,21583.0,14291.0,14177.0,17916.0,27417.0,15472.0,23380.0,10640.0,21911.0,36570.0,7538.0,10346.0,19288.0,17484.0,14076.0,14016.0,15144.0,21278.0,12585.0,17550.0,16324.0,27502.0,8652.0,14098.0,13310.0,8858.0,16511.0,31802.0,18313.0,22873.0,24079.0,14975.0,12183.0,20533.0,27507.0,22549.0,12998.0,25031.0,9842.0,17725.0,24060.0,22455.0,20803.0,23080.0,21619.0,21239.0,17323.0,15468.0,16298.0,17357.0,17631.0,27558.0,25124.0,10985.0,34183.0,36419.0,7479.0,33214.0,12843.0,21351.0,17646.0,13552.0,14028.0,13414.0,27161.0,14283.0,13849.0,33636.0,32441.0,18627.0,21862.0,23457.0,27021.0,35853.0,25398.0,26705.0,13054.0,27349.0,18537.0,24663.0,7096.0,29224.0,27432.0,29893.0,16563.0,12848.0,13299.0,30581.0,17760.0,50905.0,8104.0,31428.0,42031.0,12567.0,18330.0,32023.0,19697.0,19290.0,17717.0,16478.0,29661.0,15588.0,17631.0,55574.0,25519.0,16270.0,32441.0,22315.0,21259.0,16584.0,25141.0,16540.0,19785.0,35689.0,34966.0,23045.0,17991.0,17659.0,22352.0,19791.0,40811.0,29753.0,23392.0,45846.0,13045.0,16404.0,24827.0,24192.0,21592.0,22901.0,15409.0,17844.0,8929.0,13815.0,20497.0,22272.0,28431.0,33317.0,10680.0,9692.0,53605.0,11445.0,12756.0,14100.0,19548.0,16770.0,14818.0,26973.0,16436.0,42675.0,19828.0,11167.0,24424.0,20898.0,9854.0,11484.0,17585.0,10777.0,24137.0,21844.0,25342.0,23551.0,26673.0,19856.0,22979.0,14190.0,17430.0,23198.0,13785.0,24719.0,17721.0,13739.0,10872.0,12762.0,14729.0,13748.0,16551.0,14011.0,25884.0,19677.0,20162.0,34339.0,22077.0,30802.0,27851.0,16078.0,15910.0,14288.0,26937.0,28325.0,31735.0,10786.0,14223.0,23800.0,35351.0,23826.0,8724.0,25295.0,20544.0,12417.0,19498.0,14523.0,23929.0,27157.0,13236.0,15886.0,22576.0,32304.0,19058.0,16308.0,8807.0,12969.0,14318.0,27971.0,17261.0,33607.0,24828.0,18253.0,26465.0,38993.0,27596.0,10886.0,30299.0,28416.0,20235.0,18379.0,13372.0,12724.0,14097.0,41555.0,30785.0,31563.0,27265.0,9542.0,26413.0,28342.0,21392.0,13460.0,21756.0,30683.0,25165.0,17873.0,22549.0,21267.0,22002.0,15619.0,20745.0,21546.0,13803.0,9233.0,26211.0,10374.0,12756.0,17670.0,28986.0,38483.0,19806.0,11840.0,18281.0,16816.0,18021.0,25369.0,11467.0,10908.0,9923.0,18486.0,20259.0,16488.0,19292.0,16124.0,11463.0,30942.0,37170.0,23667.0,8571.0,28607.0,14344.0,24888.0,18204.0,34324.0,17081.0,8327.0,7136.0,25886.0,14204.0,41470.0,14936.0,54393.0,19657.0,13946.0,19541.0,33648.0,17424.0,7844.0,20470.0,17650.0,21498.0,29078.0,24836.0,15882.0,6075.0,27667.0,17668.0,21085.0,14344.0,26936.0,10196.0,16618.0,30381.0,9168.0,29449.0,16324.0,13977.0,11985.0,26025.0,10047.0,29466.0,9177.0,25928.0,25253.0,14165.0,33396.0,12427.0,36995.0,11544.0,21779.0,14354.0,14364.0,8955.0,25002.0,31338.0,16684.0,21405.0,10037.0,10775.0,24021.0,11967.0,23360.0,25969.0,17616.0,9012.0,30405.0,11997.0,18650.0,21831.0,19719.0,46312.0,19269.0,21878.0,36367.0,38325.0,14075.0,25731.0,12560.0,11960.0,18250.0,32333.0,52880.0,6982.0,12928.0,19246.0,14454.0,27340.0,31665.0,20566.0,19228.0,13717.0,18113.0,25991.0,31456.0,32928.0,14326.0,21489.0,9699.0,11694.0,25978.0,35282.0,33281.0,40950.0,10433.0,14715.0,21136.0,58776.0,23199.0,34836.0,4859.0,29292.0,15050.0,16241.0,27877.0,11538.0,10608.0,13494.0,16561.0,14220.0,9620.0,3880.0,12594.0,19314.0,30128.0,11708.0,16434.0,22754.0,23037.0,23840.0,12870.0,24156.0,12281.0,36110.0,23603.0,21275.0,11545.0,17929.0,10596.0,7790.0,15074.0,19319.0,20756.0,12758.0,14305.0,12070.0,14993.0,8005.0,14972.0,13347.0,23181.0,23495.0,11154.0,28726.0,14209.0,28994.0,36461.0,16145.0,18796.0,31984.0,11751.0,25443.0,11211.0,7387.0,18239.0,12111.0,12000.0,49113.0,18652.0,17111.0,9496.0,25639.0,26559.0,8318.0,19131.0,34231.0,11040.0,20485.0,27133.0,21883.0,8921.0,17902.0,27660.0,18832.0,8439.0,12321.0,15076.0,6411.0,11918.0,17330.0,15408.0,17708.0,32708.0,24229.0,17531.0,32713.0,9598.0,20695.0,14144.0,19305.0,17244.0,16386.0,23989.0,29009.0,20667.0,24103.0,24664.0,25626.0,26282.0,17916.0,14931.0,17988.0,41962.0,12699.0,9025.0,26873.0,13723.0,29892.0,23550.0,12544.0,20626.0,23970.0,18349.0,17744.0,19162.0,14851.0,32647.0,20305.0,13734.0,27489.0,12486.0,22209.0,5474.0,19302.0,11908.0,29151.0,8743.0,28989.0,20449.0,20777.0,47979.0,16959.0,22716.0,57557.0,13697.0,23988.0,28126.0,23757.0,21422.0,14889.0,24199.0,22639.0,35589.0,42259.0,22750.0,7922.0,31840.0,32361.0,25225.0,11665.0,45098.0,11172.0,14863.0,32987.0,30918.0,28740.0,22766.0,15282.0,16287.0,37892.0,20497.0,7818.0,20177.0,24265.0,29241.0,22519.0,11829.0,29321.0,15357.0,30284.0,22489.0,18569.0,48503.0,17203.0,28426.0,18465.0,10696.0,18083.0,7510.0,23058.0,10461.0,12459.0,11616.0,28287.0,20340.0,25160.0,11809.0,7016.0,18329.0,15454.0,10625.0,12766.0,14842.0,16871.0,8766.0,13328.0,20894.0,12919.0,23827.0,21098.0,21489.0,17057.0,12006.0,20154.0,4624.0,20885.0,31788.0,11943.0,15206.0,16954.0,37174.0,11666.0,13760.0,24464.0,21724.0,19255.0,18947.0,17808.0,37027.0,28741.0,21909.0,18265.0,8841.0,11558.0,12417.0,13403.0,14253.0,27977.0,12844.0,14959.0,13463.0,29915.0,18845.0,21949.0,19484.0,19838.0,26272.0,18062.0,6945.0,22665.0,10511.0,26273.0,33747.0,9023.0,26831.0,15541.0,14345.0,21776.0,18413.0,12120.0,29799.0,29274.0,6317.0,16771.0,11140.0,11298.0,16326.0,25488.0,16500.0,14257.0,9071.0,40713.0,19012.0,22065.0,36663.0,15217.0,18599.0,13748.0,12079.0,19795.0,15986.0,12694.0,20090.0,19997.0,8453.0,15161.0,38571.0,17717.0,19744.0,26734.0,13606.0,9139.0,12299.0,17764.0,39794.0,13636.0,6766.0,21061.0,15644.0,16260.0,12531.0,26404.0,13127.0,21658.0,11244.0,17525.0,17607.0,18603.0,11899.0,20306.0,13793.0,25288.0,21276.0,13096.0,16929.0,24006.0,10164.0,43238.0,12731.0,17433.0,47560.0,6371.0,35751.0,19260.0,8972.0,15234.0,12353.0,31543.0,35694.0,51257.0,11098.0,20415.0,51665.0,29714.0,8726.0,16245.0,20533.0,12590.0,25254.0,18194.0,12494.0,9465.0,13471.0,12767.0,18906.0,29651.0,25387.0,37041.0,15571.0,24126.0,14776.0,18446.0,12912.0,22892.0,14162.0,24508.0,12208.0,20844.0,21584.0,23210.0,28052.0,13588.0,21985.0,22614.0,20165.0,8339.0,26696.0,29751.0,35863.0,21695.0,14567.0,15770.0,15196.0,11645.0,19731.0,24078.0,10136.0,16140.0,19521.0,10988.0,27300.0,16878.0,24604.0,26805.0,28874.0,28290.0,22860.0,15575.0,17942.0,21419.0,21704.0,18267.0,17300.0,22990.0,16811.0,14100.0,6018.0,19405.0,25304.0,17463.0,20806.0,18544.0,22200.0,10411.0,13354.0,24638.0,12950.0,28494.0,17599.0,17906.0,22735.0,20444.0,16346.0,11960.0,14256.0,31611.0,8278.0,26714.0,10555.0,19394.0,16155.0,18311.0,16525.0,27963.0,25196.0,26280.0,13112.0,11469.0,11749.0,14662.0,21712.0,6663.0,17487.0,19290.0,12225.0,35158.0,18302.0,18371.0,21206.0,39735.0,16305.0,14041.0,25623.0,15497.0,21713.0,20058.0,10452.0,9792.0,20519.0,27893.0,44343.0,17262.0,30345.0,16485.0,20323.0,29473.0,16918.0,14874.0,29302.0,30735.0,15489.0,11257.0,19065.0,24045.0,6426.0,19611.0,13619.0,26522.0,12614.0,8938.0,19115.0,23260.0,6016.0,12006.0,15869.0,29524.0,39693.0,16659.0,11978.0,10696.0,5625.0,15089.0,16141.0,22015.0,18904.0,3883.0,18039.0,44353.0,20244.0,29118.0,15893.0,17354.0,28008.0,26329.0,8864.0,26478.0,10676.0,20502.0,14510.0,14541.0,21876.0,18265.0,19646.0,13173.0,23011.0,15233.0,15247.0,16170.0,39458.0,28861.0,16891.0,23257.0,27871.0,34417.0,16473.0,31563.0,19627.0,15688.0,37044.0,16849.0,23039.0,37874.0,15366.0,21965.0,29687.0,43775.0,29579.0,15794.0,8286.0,9306.0,22039.0,39137.0,26676.0,11731.0,8966.0,17716.0,24547.0,16830.0,19766.0,11612.0,19719.0,15134.0,22812.0,17408.0,24251.0,17335.0,39163.0,38040.0,22386.0,56240.0,25088.0,21679.0,23439.0,11482.0,20351.0,19264.0,4691.0,39791.0,17893.0,7058.0,11406.0,15861.0,13572.0,10269.0,14184.0,12281.0,21601.0,15582.0,21645.0,20297.0,16446.0,37044.0,21898.0,14529.0,46037.0,24086.0,18449.0,13046.0,35557.0,17851.0,11344.0,15221.0,21124.0,19052.0,21662.0,14258.0,14729.0,12508.0,27678.0,8040.0,9069.0,15251.0,48525.0,28647.0,11562.0,17638.0,7092.0,30991.0,17262.0,14389.0,26157.0,20696.0,20063.0,22847.0,20395.0,17302.0,14457.0,20490.0,37074.0,26586.0,26349.0,19983.0,8048.0,9912.0,10963.0,11487.0,25040.0,20421.0,24017.0,28002.0,18619.0,37286.0,20591.0,22469.0,5103.0,11951.0,25790.0,10205.0,13454.0,25712.0,33218.0,22353.0,18545.0,20006.0,24090.0,22653.0,11161.0,17654.0,23604.0,24787.0,25251.0,14275.0,18206.0,13177.0,22580.0,14174.0,13962.0,21675.0,16355.0,13381.0,18869.0,18000.0,24211.0,27316.0,26996.0,18877.0,23040.0,29585.0,12469.0,13463.0,15892.0,15279.0,19161.0,10687.0,19605.0,17758.0,20191.0,12411.0,43919.0,16915.0,10182.0,19245.0,14871.0,16690.0,9793.0,16566.0,17886.0,22759.0,16511.0,21012.0,29020.0,34369.0,15025.0,23842.0,22614.0,19833.0,32642.0,17458.0,17658.0,13821.0,26392.0,19525.0,14702.0,33821.0,18477.0,44595.0,30845.0,22900.0,13029.0,17064.0,17318.0,30555.0,11839.0,12723.0,26272.0,15522.0,17357.0,13140.0,17772.0,28324.0,38751.0,18986.0,26198.0,40723.0,17149.0,15911.0,14599.0,39401.0,12643.0,18347.0,21422.0,18614.0,22933.0,17998.0,15750.0,29225.0,13168.0,24838.0,34348.0,14326.0,42678.0,8042.0,10988.0,13204.0,26532.0,15171.0,15920.0,5952.0,27187.0,12146.0,18325.0,16348.0,6388.0,12375.0,24000.0,23279.0,31971.0,24463.0,25156.0,19727.0,26117.0,12782.0,34679.0,12411.0,17835.0,16632.0,35655.0,26695.0,16738.0,31128.0,20632.0,10651.0,23110.0,9634.0,19242.0,22370.0,27850.0,13941.0,22713.0,17305.0,13992.0,28451.0,19233.0,8742.0,20518.0,21914.0,18113.0,17589.0,25828.0,12740.0,25408.0,31208.0,26372.0,4353.0,15847.0,19996.0,13786.0,16051.0,9016.0,25683.0,9844.0,26150.0,15374.0,21133.0,17739.0,31179.0,13148.0,28038.0,14229.0,12962.0,24888.0,34108.0,15525.0,29588.0,5824.0,18820.0,25752.0,28899.0,19703.0,21510.0,14179.0,22594.0,18749.0,13970.0,21711.0,22936.0,18375.0,10665.0,20330.0,20164.0,6503.0,25233.0,7497.0,26559.0,25795.0,17123.0,20942.0,37612.0,35640.0,19821.0,21163.0,27980.0,15819.0,27577.0,19346.0,20360.0,19268.0,34664.0,30678.0,18704.0,15380.0,61198.0,15958.0,25990.0,29759.0,13249.0,28632.0,24114.0,11280.0,17670.0,32106.0,21030.0,16146.0,21815.0,15963.0,32555.0,14131.0,21565.0,30748.0,21762.0,43867.0,32149.0,37153.0,13195.0,29591.0,18786.0,13994.0,24371.0,14432.0,43198.0,14951.0,19696.0,14162.0,8037.0,33351.0,14251.0,22223.0,25475.0,12337.0,24950.0,15479.0,14710.0,14500.0,16941.0,16162.0,10998.0,20652.0,19123.0,30757.0,15850.0,18326.0,10813.0,15053.0,41397.0,19701.0,12249.0,22702.0,10707.0,17077.0,13675.0,21375.0,12945.0,16855.0,10103.0,21264.0,32677.0,15077.0,19377.0,12918.0,13142.0,24185.0,35631.0,21054.0,12110.0,23674.0,16205.0,16684.0,31138.0,15427.0,11952.0,19577.0,17259.0,18730.0,31489.0,13900.0,19334.0,23486.0,14144.0,15942.0,18780.0,11057.0,19096.0,11349.0,25262.0,20848.0,26464.0,34005.0,20995.0,21544.0,13757.0,19907.0,22155.0,12921.0,26892.0,12832.0,16337.0,16291.0,4350.0,18477.0,9624.0,15624.0,14026.0,26295.0,15192.0,12018.0,20274.0,19953.0,17147.0,33504.0,34585.0,16644.0,20608.0,13221.0,7837.0,3705.0,18810.0,16672.0,18110.0,18659.0,41139.0,26265.0,12715.0,16207.0,18890.0,24194.0,18581.0,33338.0,19216.0,21769.0,18967.0,15760.0,19132.0,13360.0,22015.0,35384.0,26634.0,27806.0,21113.0,17829.0,8539.0,7300.0,18843.0,22209.0,25929.0,22046.0,21708.0,17107.0,18934.0,26962.0,23117.0,26763.0,12824.0,31997.0,33665.0,22598.0,12433.0,29006.0,32632.0,8167.0,16188.0,10381.0,20572.0,30264.0,33560.0,39401.0,23365.0,20061.0,17630.0,34986.0,20633.0,20865.0,28593.0,25081.0,15601.0,19011.0,10865.0,27195.0,24048.0,35146.0,17851.0,21969.0,15410.0,17478.0,13235.0,19924.0,32173.0,17178.0,28701.0,8539.0,12843.0,38300.0,16444.0,16735.0,12075.0,8337.0,39036.0,26206.0,13475.0,21137.0,11886.0,29662.0,50568.0,18384.0,18578.0,10955.0,26387.0,17464.0,42537.0,13747.0,12353.0,17393.0,14236.0,22188.0,26462.0,37447.0,17480.0,16316.0,27993.0,25059.0,17195.0,8890.0,19225.0,19765.0,24003.0,25213.0,22476.0,26304.0,16592.0,12141.0,33292.0,31169.0,18795.0,31969.0,13811.0,15974.0,31470.0,50642.0,17008.0,18568.0,16478.0,22447.0,23459.0,31123.0,18867.0,11682.0,14447.0,27338.0,23315.0,18782.0,19236.0,16440.0,12051.0,30912.0,12244.0,8656.0,19965.0,23007.0,16121.0,16471.0,26484.0,12638.0,14399.0,31511.0,19190.0,19879.0,22228.0,26112.0,30029.0,22499.0,16458.0,18280.0,21254.0,24359.0,24771.0,18354.0,16741.0,19903.0,18410.0,13133.0,9097.0,19955.0,13645.0,23855.0,18764.0,16424.0,29705.0,15229.0,12616.0,11157.0,20347.0,13922.0,25105.0,16918.0,20047.0,16834.0,8512.0,26764.0,18523.0,18919.0,44611.0,21546.0,12418.0,14973.0,37125.0,20670.0,23460.0,21387.0,18905.0,19347.0,28467.0,11788.0,8341.0,13820.0,25650.0,18670.0,21605.0,9460.0,17813.0,27608.0,18212.0,9930.0,43041.0,16786.0,17575.0,11930.0,15645.0,21935.0,16593.0,8400.0,21987.0,15087.0,22832.0,28508.0,15645.0,19602.0,27101.0,17509.0,21694.0,11333.0,15089.0,11587.0,34672.0,19917.0,20358.0,18717.0,14062.0,17625.0,13400.0,18454.0,33486.0,13879.0,29645.0,32346.0,16926.0,21439.0,13121.0,21727.0,14402.0,31582.0,19969.0,15867.0,15873.0,21986.0,15043.0,33547.0,18039.0,12430.0,60715.0,17836.0,21698.0,17308.0,32103.0,34838.0,24717.0,23439.0,25364.0,21929.0,9840.0,21847.0,14267.0,25275.0,8547.0,25552.0,38078.0,18259.0,18311.0,22966.0,14860.0,12870.0,12142.0,23245.0,22760.0,23053.0,20551.0,44246.0,20541.0,18163.0,14516.0,15521.0,37645.0,14178.0,21749.0,14818.0,6065.0,7853.0,24699.0,18822.0,15708.0,24979.0,34801.0,23585.0,16432.0,17118.0,11126.0,15701.0,25511.0,42552.0,24975.0,20782.0,21705.0,17871.0,20977.0,46407.0,37214.0,15399.0,17384.0,4965.0,9444.0,16894.0,13785.0,18614.0,13959.0,8036.0,35883.0,33914.0,21843.0,16429.0,13987.0,30599.0,9574.0,14536.0,17558.0,12973.0,14077.0,20581.0,8815.0,15488.0,24039.0,9967.0,32459.0,15297.0,16693.0,17554.0,13539.0,14515.0,18544.0,20416.0,6895.0,15232.0,16962.0,25363.0,33910.0,11755.0,18253.0,12810.0,13508.0,13506.0,11769.0,16935.0,22286.0,25752.0,24063.0,18788.0,6106.0,17798.0,10708.0,23615.0,18205.0,14786.0,23898.0,14162.0,22413.0,13955.0,20784.0,17439.0,2597.0,13079.0,20871.0,7749.0,15617.0,19812.0,15217.0,15200.0,24188.0,16731.0,18609.0,17939.0,17393.0,29269.0,16835.0,19549.0,14136.0,13927.0,16565.0,8337.0,28439.0,11885.0,13211.0,22319.0,18873.0,17456.0,26607.0,22741.0,10698.0,51673.0,21054.0,15061.0,20890.0,21980.0,22074.0,26306.0,20320.0,27426.0,29931.0,14404.0,28062.0,21437.0,22698.0,4900.0,28152.0,14597.0,11579.0,16121.0,11274.0,11448.0,29766.0,11910.0,18976.0,18918.0,22836.0,20999.0,15832.0,12144.0,10567.0,19402.0,15092.0,12063.0,6967.0,14870.0,29263.0,11613.0,20095.0,21509.0,4255.0,24911.0,11249.0,12884.0,16273.0,18580.0,10473.0,34574.0,19299.0,17304.0,17967.0,7170.0,26332.0,8522.0,24012.0,18800.0,29273.0,21233.0,40535.0,21657.0,17080.0,19345.0,22365.0,14489.0,18828.0,19935.0,21439.0,9622.0,22966.0,21230.0,22334.0,29724.0,15986.0,27285.0,24548.0,14095.0,14561.0,37896.0,13792.0,24279.0,22041.0,48322.0,14391.0,20190.0,18698.0,47927.0,31141.0,25670.0,21606.0,26438.0,11987.0,19450.0,23518.0,42921.0,12694.0,28304.0,38928.0,25318.0,26271.0,19194.0,21559.0,30555.0,35442.0,14362.0,10354.0,12631.0,14244.0,11430.0,7477.0,12514.0,15177.0,19007.0,11692.0,10976.0,22832.0,16636.0,22762.0,23642.0,11263.0,42065.0,26740.0,18762.0,18719.0,14731.0,18050.0,17178.0,29390.0,15515.0,7704.0,6185.0,29730.0,29877.0,23510.0,23561.0,18485.0,23507.0,17404.0,27837.0,21973.0,25145.0,22034.0,28947.0,12625.0,18022.0,23046.0,21464.0,25413.0,10848.0,14967.0,22102.0,29510.0,16526.0,27125.0,14262.0,14304.0,38534.0,33044.0,19120.0,22430.0,16523.0,15791.0,10367.0,14728.0,44338.0,12869.0,17197.0,25572.0,18099.0,11853.0,23588.0,20301.0,14701.0,21753.0,22457.0,27246.0,10483.0,31364.0,31533.0,10893.0,12254.0,30009.0,21700.0,22097.0,32497.0,17004.0,19275.0,23883.0,21754.0,15767.0,16372.0,43513.0,40134.0,16920.0,21993.0,13949.0,19254.0,13596.0,30259.0,20778.0,44361.0,28230.0,44280.0,25367.0,17540.0,27422.0,13905.0,37704.0,18614.0,9196.0,8397.0,20037.0,25811.0,22368.0,21870.0,17184.0,26767.0,31142.0,22561.0,8542.0,17930.0,53889.0,18056.0,20851.0,16371.0,12174.0,20878.0,6822.0,21515.0,15596.0,19003.0,20107.0,31669.0,21810.0,39316.0,33654.0,24890.0,21393.0,11887.0,37898.0,25050.0,16268.0,28290.0,25896.0,23395.0,10820.0,34466.0,11347.0,21698.0,18323.0,16864.0,33401.0,17980.0,43710.0,13823.0,18463.0,22305.0,9729.0,17633.0,16752.0,10973.0,28544.0,41625.0,35782.0,25128.0,36950.0,19704.0,18025.0,10619.0,25356.0,10099.0,15013.0,21401.0,17554.0,15595.0,20145.0,11719.0,16980.0,26231.0,15159.0,21635.0,15465.0,36442.0,16273.0,28095.0,18876.0,15256.0,29663.0,18792.0,17827.0,22103.0,11525.0,29166.0,51032.0,24347.0,19131.0,28441.0,42367.0,23606.0,12655.0,23714.0,16397.0,45189.0,23112.0,10559.0,18339.0,23790.0,25141.0,13569.0,25944.0,28081.0,21522.0,20776.0,18463.0,16847.0,37412.0,16078.0,31703.0,20934.0,8963.0,32768.0,14850.0,8466.0,15530.0,21112.0,15888.0,19696.0,20326.0,19043.0,26123.0,14294.0,13924.0,12907.0,35730.0,21849.0,55119.0,17734.0,30518.0,15641.0,10879.0,29900.0,11600.0,55344.0,19113.0,19046.0,28316.0,18832.0,37350.0,18244.0,12067.0,38835.0,34897.0,14884.0,17583.0,20454.0,33207.0,30844.0,31647.0,17947.0,51294.0,20203.0,36672.0,13445.0,10396.0,12084.0,15785.0,13745.0,10474.0,34989.0,15480.0,13548.0,13903.0,18364.0,14455.0,16621.0,14111.0,13205.0,17648.0,11336.0,26769.0,42000.0,22266.0,17491.0,41741.0,28191.0,10307.0,18348.0,22549.0,24316.0,14264.0,30509.0,10153.0,24290.0,16450.0,15070.0,16689.0,25048.0,21653.0,9968.0,12368.0,18442.0,13460.0,33096.0,27862.0,22351.0,39281.0,40456.0,31745.0,20999.0,28705.0,14746.0,22885.0,34502.0,57916.0,12073.0,19993.0,17141.0,20490.0,26027.0,11852.0,19171.0,17212.0,10439.0,19818.0,20493.0,13871.0,30233.0,30022.0,12338.0,14806.0,26711.0,17681.0,15109.0,25146.0,15236.0,25694.0,16397.0,23855.0,25101.0,30426.0,22360.0,24226.0,16049.0,15675.0,7510.0,19141.0,25879.0,12622.0,32307.0,15001.0,14123.0,24769.0,33696.0,23935.0,24857.0,15441.0,35860.0,28332.0,26179.0,21374.0,19972.0,9236.0,16446.0,17338.0,16075.0,11123.0,18827.0,29663.0,9989.0,25241.0,21163.0,24543.0,28737.0,23767.0,15637.0,18947.0,21010.0,18592.0,7246.0,27304.0,12022.0,13533.0,11096.0,15667.0,20727.0,18881.0,19750.0,43981.0,19842.0,18870.0,31772.0,22624.0,9844.0,10327.0,11389.0,17440.0,12305.0,13435.0,31156.0,15228.0,32476.0,26558.0,37712.0,20801.0,18973.0,18049.0,14909.0,26592.0,26383.0,44562.0,47677.0,28713.0,60961.0,24302.0,24653.0,17667.0,12304.0,23683.0,40477.0,24706.0,26802.0,28050.0,21547.0,16330.0,15749.0,29060.0,16825.0,17206.0,16902.0,16762.0,23830.0,37766.0,9480.0,8929.0,21961.0,18309.0,22585.0,13021.0,71932.0,14531.0,20321.0,20646.0,38872.0,13522.0,13254.0,12556.0,25945.0,28369.0,27314.0,19112.0,17786.0,14395.0,19433.0,55650.0,27181.0,27921.0,16399.0,21158.0,21533.0,15414.0,15662.0,30865.0,17298.0,26162.0,26961.0,8171.0,15515.0,17184.0,24707.0,55674.0,23176.0,28394.0,14695.0,28089.0,33086.0,23667.0,14329.0,33780.0,13411.0,30457.0,34084.0,13310.0,29329.0,12875.0,33046.0,20189.0,5826.0,11620.0,39578.0,13661.0,13649.0,21401.0,19363.0,14481.0,19212.0,25266.0,21513.0,16716.0,8881.0,13639.0,24894.0,10858.0,30450.0,34334.0,14938.0,6734.0,39106.0,15473.0,16884.0,38616.0,14421.0,26391.0,18248.0,16872.0,26135.0,11293.0,15374.0,13862.0,13849.0,13929.0,6961.0,19014.0,23666.0,20854.0,34623.0,18720.0,24696.0,29995.0,16092.0,42133.0,20310.0,23417.0,17450.0,24059.0,8589.0,14930.0,15220.0,28726.0,30007.0,17893.0,16515.0,21524.0,16143.0,30675.0,12799.0,16447.0,14466.0,29551.0,9577.0,11401.0,34287.0,25575.0,7615.0,16545.0,19513.0,22491.0,11329.0,12699.0,51412.0,12698.0,20245.0,20123.0,21955.0,16300.0,12377.0,4400.0,19261.0,13388.0,14943.0,23265.0,48612.0,18406.0,35447.0,20985.0,10142.0,12907.0,25486.0,18078.0,14801.0,45645.0,21819.0,20057.0,29788.0,12860.0,13483.0,12348.0,34325.0,8503.0,21405.0,25624.0,27258.0,28489.0,33017.0,19840.0,25745.0,31459.0,19596.0,24117.0,22620.0,14787.0,21254.0,30152.0,17674.0,31188.0,34580.0,16787.0,17944.0,19270.0,16416.0,20052.0,10700.0,40009.0,14101.0,36510.0,21225.0,17418.0,18771.0,19581.0,19946.0,15095.0,15574.0,9504.0,21982.0,26400.0,19212.0,25328.0,14046.0,24538.0,22305.0,9124.0,19687.0,38677.0,16523.0,19208.0,15233.0,33845.0,3014.0,15040.0,23192.0,22038.0,20699.0,24018.0,29255.0,12404.0,16033.0,17758.0,32174.0,28880.0,18080.0,11152.0,16152.0,8589.0,17162.0,15628.0,11644.0,24351.0,7893.0,19836.0,23956.0,13677.0,11554.0,15281.0,44744.0,17911.0,32311.0,26416.0,25830.0,13884.0,18166.0,30541.0,32943.0,24878.0,11724.0,47040.0,13483.0,20540.0,23409.0,37083.0,42873.0,24536.0,9633.0,18539.0,38588.0,15534.0,18407.0,21412.0,23269.0,25252.0,17091.0,20046.0,13923.0,20770.0,31759.0,13666.0,22163.0,15335.0,20055.0,28439.0,13697.0,21051.0,30251.0,40184.0,52734.0,11949.0,8552.0,26203.0,26577.0,15206.0,14596.0,22942.0,11839.0,19966.0,16863.0,29099.0,10554.0,20342.0,18612.0,24279.0,20182.0,23627.0,36600.0,28251.0,9108.0,24206.0,41125.0,33174.0,22310.0,16897.0,25537.0,17403.0,16104.0,15749.0,11290.0,30348.0,17098.0,39654.0,18903.0,18650.0,28791.0,12646.0,17366.0,19275.0,16374.0,39152.0,15374.0,16834.0,12838.0,16845.0,33610.0,15437.0,24341.0,29473.0,29822.0,20640.0,20593.0,16865.0,22929.0,14262.0,26062.0,20141.0,17246.0,16007.0,21517.0,21199.0,33852.0,10043.0,12376.0,19215.0,11749.0,18645.0,20682.0,11086.0,22865.0,28828.0,29070.0,13682.0,28358.0,20139.0,31554.0,16662.0,9326.0,12272.0,24672.0,14493.0,12868.0,20539.0,28180.0,25551.0,18872.0,13555.0,9680.0,15891.0,24387.0,14115.0,15616.0,33574.0,12653.0,18068.0,12222.0,19210.0,18886.0,35583.0,32933.0,26099.0,17391.0,9090.0,27220.0,26309.0,27554.0,29177.0,23075.0,21399.0,19877.0,24468.0,67465.0,15976.0,24257.0,22724.0,8211.0,35224.0,22101.0,11154.0,29115.0,31084.0,11547.0,29837.0,31517.0,17753.0,21226.0,21532.0,37047.0,13174.0,8971.0,29600.0,21656.0,8386.0,17437.0,30422.0,18637.0,16851.0,11290.0,26503.0,17790.0,25996.0,13085.0,35062.0,21764.0,32811.0,12272.0,16985.0,9672.0,23742.0,22438.0,11281.0,17579.0,11998.0,15040.0,36955.0,47966.0,19166.0,52777.0,16518.0,53212.0,7103.0,49794.0,23544.0,14938.0,7153.0,15886.0,23375.0,26084.0,11028.0,13613.0,14766.0,16303.0,18421.0,22606.0,12568.0,18327.0,13663.0,18567.0,28319.0,10339.0,32798.0,18778.0,34197.0,22042.0,20837.0,29128.0,20300.0,26254.0,11607.0,15715.0,40090.0,14703.0,18093.0,21595.0,21907.0,19028.0,26900.0,7904.0,22491.0,12365.0,19337.0,18772.0,17746.0,32421.0,25213.0,29063.0,17070.0,30255.0,18184.0,15123.0,20787.0,51020.0,13857.0,56786.0,22122.0,13761.0,20335.0,16738.0,10209.0,26808.0,19843.0,18094.0,22422.0,23791.0,31062.0,26685.0,32812.0,17020.0,25581.0,31336.0,20389.0,13247.0,21164.0,26832.0,21432.0,26559.0,20325.0,16135.0,8541.0,15182.0,12254.0,12292.0,15611.0,20637.0,12530.0,31191.0,26328.0,24213.0,9521.0,26628.0,32401.0,22742.0,16004.0,18489.0,9887.0,20681.0,14180.0,16576.0,20098.0,33775.0,23802.0,12830.0,33515.0,23445.0,20879.0,26824.0,18798.0,40946.0,19565.0,15298.0,18809.0,13459.0,18345.0,22537.0,18869.0,18177.0,9072.0,22549.0,18872.0,28628.0,26272.0,49255.0,17192.0,28883.0,21171.0,21155.0,28771.0,20783.0,23120.0,9934.0,14343.0,17637.0,13011.0,18238.0,12376.0,17028.0,14941.0,12825.0,22680.0,16443.0,19545.0,13628.0,6507.0,19141.0,10508.0,27629.0,15637.0,31019.0,30881.0,19901.0,18967.0,21939.0,25550.0,18100.0,11542.0,19293.0,24674.0,19393.0,21355.0,24213.0,24865.0,17356.0,17437.0,21461.0,37525.0,15066.0,19503.0,23030.0,13110.0,16046.0,19610.0,25884.0,32627.0,27686.0,20361.0,17475.0,27490.0,24278.0,31261.0,9827.0,26780.0,11948.0,29776.0,22032.0,33465.0,19983.0,16849.0,7774.0,26325.0,30269.0,7784.0,24345.0,26488.0,33357.0,46951.0,21229.0,20705.0,35956.0,31792.0,19548.0,31581.0,11649.0,25256.0,17037.0,17364.0,21003.0,24856.0,10504.0,17228.0,20285.0,19701.0,13070.0,38877.0,31864.0,24646.0,25046.0,29495.0,15170.0,25670.0,16050.0,25029.0,15040.0,19924.0,32986.0,22068.0,11947.0,18370.0,20640.0,23834.0,25605.0,18095.0,23558.0,22417.0,30510.0,19590.0,19159.0,21525.0,48865.0,35798.0,17979.0,19631.0,47774.0,19431.0,17948.0,37782.0,63198.0,21668.0,32823.0,66256.0,13490.0,34439.0,92366.0,24072.0,15151.0,29794.0,12612.0,21004.0,15364.0,36206.0,18774.0,44665.0,24006.0,16556.0,13471.0,20007.0,25966.0,17662.0,16689.0,5668.0,18593.0,25704.0,11621.0,22323.0,18239.0,44894.0,50470.0,10285.0,19822.0,10665.0,9281.0,15481.0,26945.0,19519.0,31325.0,35523.0,15724.0,14068.0,31622.0,18125.0,18240.0,7931.0,21104.0,12949.0,18605.0,25810.0,31359.0,27114.0,63876.0,29627.0,19613.0,42931.0,19327.0,21553.0,15994.0,19064.0,14440.0,15217.0,34681.0,15735.0,19865.0,35814.0,37295.0,26912.0,26234.0,30906.0,11651.0,12739.0,39349.0,14106.0,41083.0,37274.0,36728.0,7264.0,12614.0,21820.0,22577.0,18211.0,25706.0,26680.0,25098.0,20617.0,16223.0,11105.0,24369.0,19445.0,13577.0,19416.0,15406.0,12728.0,25595.0,21308.0,18051.0,18723.0,15526.0,20501.0,19101.0,30660.0,26323.0,40161.0,14424.0,21329.0,20658.0,17962.0,65724.0,47221.0,31596.0,10586.0,16099.0,42138.0,31449.0,13578.0,16232.0,35265.0,18255.0,26724.0,25307.0,17244.0,19919.0,32222.0,16962.0,27514.0,36185.0,23119.0,31135.0,41290.0,13426.0,32162.0,12381.0,15445.0,21367.0,23228.0,24637.0,27231.0,10983.0,28370.0,14704.0,25783.0,13583.0,36813.0,24514.0,59554.0,26581.0,18907.0,17239.0,18609.0,16374.0,15805.0,14544.0,27614.0,22795.0,25694.0,21668.0,42988.0,26908.0,35273.0,21724.0,20569.0,18663.0,17534.0,22753.0,20325.0,22414.0,37203.0,15320.0,8022.0,14320.0,41924.0,17181.0,29440.0,33022.0,23106.0,15390.0,17085.0,41963.0,30050.0,12538.0,21593.0,30004.0,21239.0,27942.0,24474.0,44361.0,25026.0,20082.0,30759.0,12390.0,30638.0,19472.0,39659.0,27942.0,12109.0,27968.0,26467.0,14271.0,17319.0,15155.0,14370.0,14245.0,26404.0,15534.0,27726.0,16902.0,12265.0,20794.0,18784.0,28409.0,21469.0,18469.0,26964.0,47466.0,14373.0,26642.0,27367.0,19674.0,16001.0,25530.0,10117.0,7285.0,33078.0,24062.0,28465.0,19966.0,21084.0,11561.0,26869.0,20228.0,14013.0,6444.0,21664.0,16392.0,20022.0,25507.0,9304.0,23760.0,10715.0,24246.0,11158.0,18774.0,36186.0,47774.0,31016.0,57183.0,13045.0,49379.0,44200.0,26469.0,32673.0,20097.0,16636.0,18915.0,16285.0,16211.0,22895.0,24531.0,12242.0,18366.0,10223.0,11759.0,18639.0,23373.0,31970.0,31725.0,29053.0,18680.0,47087.0,12406.0,21293.0,17207.0,8553.0,38361.0,14244.0,17624.0,22389.0,23361.0,22777.0,15253.0,53881.0,19708.0,17817.0,10265.0,19821.0,17231.0,52534.0,27783.0,28298.0,11665.0,12397.0,20502.0,30667.0,25386.0,11333.0,22023.0,24208.0,23624.0,13851.0,42490.0,19733.0,36627.0,15164.0,43430.0,14072.0,37237.0,21118.0,18258.0,18133.0,36644.0,19329.0,34496.0,21039.0,23809.0,21792.0,33817.0,14856.0,22785.0,10954.0,9080.0,25449.0,15813.0,11999.0,30961.0,20233.0,38219.0,29136.0,20567.0,32656.0,16013.0,24333.0,14860.0,28515.0,40563.0,10316.0,18125.0,25087.0,20903.0,27975.0,28426.0,23640.0,32791.0,14107.0,22413.0,14236.0,6614.0,31749.0,8177.0,19426.0,30331.0,27447.0,19897.0,27533.0,10840.0,20696.0,31147.0,38511.0,19196.0,27168.0,29229.0,19910.0,14850.0,16984.0,19265.0,19620.0,26818.0,39990.0,18393.0,6544.0,13911.0,6415.0,22209.0,18761.0,29537.0,17859.0,28698.0,26479.0,22594.0,29208.0,11216.0,21374.0,12277.0,14702.0,11877.0,26792.0,21709.0,17444.0,19434.0,34932.0,16346.0,27743.0,15254.0,5812.0,11213.0,11185.0,6501.0,30999.0,29228.0,22345.0,25211.0,20155.0,19302.0,9819.0,21204.0,19316.0,47647.0,28763.0,19425.0,30340.0,26434.0,33674.0,25950.0,23708.0,19843.0,27547.0,8661.0,20007.0,30869.0,17927.0,31994.0,47008.0,26745.0,22058.0,21387.0,21511.0,15425.0,17504.0,10338.0,12711.0,19205.0,14976.0,8670.0,30730.0,25546.0,20746.0,18358.0,49767.0,19483.0,18409.0,19971.0,23416.0,48586.0,16342.0,21594.0,24456.0,26134.0,33940.0,55873.0,27086.0,19074.0,37796.0,92113.0,13390.0,22677.0,18550.0,9464.0,11552.0,21300.0,27356.0,16130.0,16519.0,26322.0,15373.0,22391.0,14773.0,43881.0,42619.0,28939.0,10265.0,54705.0,26576.0,31321.0,24400.0,39674.0,21630.0,27572.0,50405.0,26172.0,13442.0,25813.0,22526.0,19453.0,17603.0,21422.0,52090.0,17702.0,21673.0,13874.0,27377.0,31002.0,23213.0,10373.0,10237.0,30559.0,16240.0,18403.0,34110.0,15532.0,21278.0,16105.0,18813.0,33809.0,10325.0,11335.0,13081.0,32070.0,23932.0,28149.0,15569.0,14261.0,32881.0,26772.0,28799.0,15954.0,18504.0,3354.0,6503.0,21123.0,16818.0,25598.0,22324.0,21584.0,28928.0,20474.0,44836.0,41207.0,32618.0,21265.0,19825.0,66652.0,18301.0,19375.0,11012.0,21622.0,12687.0,20568.0,33074.0,12790.0,36911.0,42671.0,14424.0,39503.0,18361.0,31768.0,16002.0,22843.0,25773.0,26299.0,25625.0,15763.0,38454.0,17053.0,18412.0,17441.0,15676.0,35748.0,48629.0,19167.0,17239.0,21364.0,14718.0,20496.0,15702.0,28919.0,14563.0,35320.0,26371.0,15148.0,12896.0,35671.0,24898.0,23523.0,22153.0,23126.0,33477.0,22134.0,29412.0,40379.0,17418.0,32488.0,15315.0,22945.0,15599.0,29260.0,20728.0,19852.0,14457.0,19418.0,37897.0,14172.0,28600.0,7895.0,14929.0,22807.0,26467.0,16246.0,53491.0,23054.0,20488.0,6911.0,25320.0,15911.0,9775.0,30783.0,29515.0,17276.0,22061.0,17787.0,17748.0,29505.0,30417.0,16955.0,41342.0,20582.0,15885.0,35107.0,29845.0,26109.0,15461.0,28476.0,6984.0,34973.0,27773.0,13768.0,22618.0,14236.0,33366.0,15576.0,25612.0,18629.0,24963.0,26201.0,23391.0,24640.0,33194.0,15270.0,14913.0,21451.0,44489.0,21072.0,19830.0,82751.0,28723.0,32241.0,41016.0,22145.0,12791.0,30077.0,26876.0,17037.0,27194.0,37851.0,20383.0,14155.0,12553.0,29324.0,14377.0,27939.0,19373.0,46370.0,22817.0,17858.0,28418.0,25501.0,33870.0,19772.0,10046.0,12762.0,19479.0,33758.0,19073.0,21909.0,21909.0,31970.0,15084.0,11195.0,27238.0,22377.0,13163.0,18101.0,18101.0,33416.0,13383.0,50207.0,38103.0,28452.0,35276.0,14450.0,8700.0,34943.0,14741.0,25041.0,35964.0,20593.0,17688.0,15950.0,13842.0,10416.0,8164.0,15084.0,19028.0,19756.0,16868.0,16703.0,22044.0,16489.0,15027.0,24885.0,28808.0,27088.0,22616.0,23497.0,19823.0,16599.0,17598.0,16593.0,27174.0,15727.0,11683.0,29836.0,55827.0,19847.0,26709.0,20932.0,20541.0,28284.0,18439.0,33762.0,27234.0,6083.0,22039.0,12662.0,20990.0,37069.0,23083.0,17958.0,29862.0,24163.0,12391.0,22846.0,17640.0,30442.0,18195.0,17913.0,19632.0,24469.0,12699.0,13174.0,27532.0,12806.0,13635.0,31711.0,16346.0,37238.0,42269.0,28855.0,40843.0,18185.0,29459.0,5601.0,19302.0,35824.0,19130.0,28896.0,28150.0,21148.0,10810.0,24410.0,13446.0,25642.0,17013.0,18370.0,12442.0,18441.0,12243.0,16785.0,26238.0,14649.0,9367.0,9195.0,9195.0,15057.0,15057.0,25528.0,15963.0,15737.0,21790.0,27487.0,22947.0,22906.0,19717.0,25496.0,28986.0,11213.0,19704.0,34826.0,32820.0,36490.0,15358.0,14011.0,16749.0,20345.0,21318.0,26857.0,20401.0,31697.0,14641.0,12698.0,20197.0,47377.0,24272.0,19394.0,23548.0,33930.0,25880.0,13074.0,46792.0,44865.0,17855.0,32093.0,18763.0,23257.0,10350.0,20090.0,34233.0,18894.0,16074.0,12688.0,19494.0,15855.0,26858.0,24151.0,13280.0,13005.0,9948.0,28351.0,24156.0,12884.0,42148.0,29787.0,14910.0,31792.0,19080.0,13834.0,23586.0,16019.0,18769.0,11413.0,9835.0,20084.0,13970.0,12693.0,15936.0,28818.0,16087.0,23912.0,11162.0,13041.0,35908.0,25363.0,15944.0,17385.0,28248.0,19984.0,13618.0,28275.0,25221.0,21466.0,13770.0,17656.0,25089.0,17448.0,38330.0,20281.0,24708.0,26285.0,17513.0,20852.0,22871.0,31702.0,12058.0,14659.0,23820.0,11424.0,15300.0,18565.0,25922.0,19407.0,13542.0,29560.0,17944.0,25448.0,25158.0,20505.0,21809.0,11117.0,18555.0,20639.0,16998.0,13151.0,13163.0,23856.0,32878.0,38539.0,19078.0,17140.0,15900.0,19207.0,13263.0,17661.0,15328.0,18410.0,20154.0,29539.0,16342.0,14377.0,17053.0,18360.0,33587.0,21401.0,9821.0,26362.0,13018.0,27419.0,12934.0,19635.0,16746.0,31282.0,29006.0,18553.0,35049.0,13159.0,11072.0,19940.0,11792.0,11970.0,15963.0,17949.0,25809.0,16639.0,29031.0,17305.0,28517.0,44301.0,25636.0,12501.0,31722.0,22486.0,33006.0,27822.0,17806.0,23120.0,17384.0,12793.0,13470.0,23993.0,17002.0,35494.0,18570.0,14857.0,26195.0,18332.0,28323.0,26510.0,17190.0,18713.0,40547.0,13676.0,22874.0,21163.0,32897.0,11177.0,43853.0,24544.0,18785.0,22507.0,10336.0,22752.0,24452.0,14674.0,23518.0,19521.0,13915.0,23933.0,11761.0,36510.0,16319.0,16433.0,17995.0,14647.0,10149.0,25193.0,30226.0,20476.0,8428.0,24392.0,14858.0,17150.0,18159.0,21803.0,16273.0,40836.0,20687.0,29298.0,12578.0,21703.0,15536.0,22454.0,28845.0,23242.0,10663.0,38720.0,30194.0,17980.0,15146.0,19320.0,33225.0,18961.0,50643.0,19000.0,22539.0,6252.0,22169.0,15488.0,14230.0,11184.0,9568.0,20207.0,26800.0,16395.0,30362.0,20862.0,12604.0,10768.0,28181.0,13651.0,30101.0,11076.0,11646.0,19679.0,19352.0,25123.0,22926.0,13213.0,17377.0,29691.0,28901.0,20326.0,12442.0,20573.0,12911.0,13743.0,29696.0,24195.0,10318.0,21223.0,27429.0,17601.0,28700.0,16873.0,30217.0,22177.0,20353.0,16795.0,28142.0,7726.0,22054.0,11223.0,19281.0,21066.0,18834.0,12297.0,14125.0,25940.0,22999.0,17761.0,20513.0,12589.0,25795.0,17431.0,33467.0,11717.0,14785.0,19180.0,16772.0,4746.0,29647.0,12460.0,12235.0,25671.0,11405.0,16599.0,11157.0,14548.0,23359.0,20443.0,16140.0,7485.0,16508.0,14633.0,23894.0,20643.0,26210.0,15529.0,18104.0,40926.0,16055.0,16778.0,36962.0,30166.0,20588.0,26761.0,22818.0,37845.0,29040.0,33192.0,21004.0,13816.0,14897.0,18760.0,22915.0,4037.0,10232.0,5717.0,10135.0,18415.0,23058.0,17101.0,16484.0,22659.0,21561.0,12453.0,41857.0,32569.0,16658.0,11088.0,18311.0,11797.0,18341.0,56142.0,18626.0,10769.0,13559.0,15514.0,50871.0,9385.0,17657.0,22209.0,13367.0,23136.0,21701.0,7523.0,17109.0,14908.0,15173.0,30824.0,20583.0,20017.0,34705.0,25885.0,13246.0,63111.0,21049.0,20793.0,21136.0,28695.0,15242.0,12937.0,21278.0,30952.0,16168.0,17050.0,20918.0,19672.0,19604.0,17438.0,14051.0,23896.0,18182.0,21134.0,14229.0,20600.0,19583.0,20967.0,11451.0,9974.0,21104.0,21002.0,30073.0,38798.0,8094.0,15103.0,26466.0,18296.0,26457.0,23183.0,14133.0,22928.0,14826.0,19363.0,10657.0,14332.0,25347.0,25604.0,21288.0,42280.0,21321.0,14012.0,31998.0,19751.0,15537.0,18490.0,40333.0,11017.0,26932.0,22462.0,22688.0,12556.0,31096.0,21375.0,23892.0,17931.0,15467.0,19904.0,13952.0,11500.0,15399.0,22102.0,19773.0,19260.0,10882.0,9808.0,12971.0,21918.0,23727.0,26129.0,21865.0,16219.0,19783.0,18191.0,22114.0,12200.0,10012.0,9838.0,24919.0,15954.0,18963.0,15333.0,17140.0,38368.0,22551.0,21578.0,17851.0,19406.0,25858.0,9010.0,43432.0,13015.0,15779.0,23409.0,16029.0,22824.0,40259.0,22471.0,23654.0,24447.0,7040.0,21609.0,16246.0,34667.0,25220.0,19184.0,17814.0,10897.0,23788.0,21881.0,12834.0,41085.0,36242.0,17785.0,14305.0,15711.0,18339.0,16535.0,12920.0,33692.0,22154.0,17124.0,11432.0,16109.0,19266.0,18476.0,18745.0,11421.0,23969.0,10755.0,18958.0,24748.0,13685.0,23492.0,44323.0,27942.0,24225.0,23999.0,27620.0,18064.0,34536.0,27064.0,24754.0,21145.0,17361.0,22286.0,39325.0,28266.0,12734.0,29374.0,21068.0,14427.0,13586.0,24489.0,16384.0,22561.0,27305.0,12039.0,30759.0,17552.0,27644.0,30315.0,28247.0,18858.0,16113.0,5554.0,13485.0,9229.0,6281.0,18234.0,25444.0,17719.0,14048.0,14634.0,29944.0,13244.0,14200.0,12188.0,18670.0,25035.0,55400.0,15453.0,18135.0,12242.0,18816.0,36221.0,8901.0,13122.0,17864.0,25182.0,11627.0,10770.0,39637.0,8844.0,11936.0,8983.0,12875.0,9066.0,7899.0,11677.0,17333.0,20401.0,24216.0,18426.0,19275.0,18145.0,24438.0,11856.0,25951.0,16015.0,43098.0,22407.0,17017.0,36506.0,23506.0,24421.0,19651.0,49423.0,23831.0,30541.0,17964.0,20341.0,16276.0,28963.0,12777.0,16840.0,21243.0,13663.0,19222.0,14376.0,14241.0,23468.0,21248.0,26334.0,23029.0,19312.0,28669.0,30169.0,19913.0,11018.0,17821.0,15291.0,13274.0,11253.0,21817.0,24348.0,16559.0,14114.0,17611.0,8458.0,25957.0,18079.0,33270.0,15008.0,17818.0,34008.0,15570.0,16060.0,11828.0,23674.0,27430.0,29525.0,29824.0,11799.0,22834.0,51091.0,32212.0,13634.0,15643.0,11670.0,15421.0,22856.0,16072.0,30912.0,11726.0,14234.0,26904.0,25297.0,31412.0,15091.0,17885.0,29911.0,6550.0,16839.0,20210.0,18428.0,8000.0,7083.0,27095.0,22692.0,21660.0,25678.0,19121.0,12225.0,13968.0,10990.0,23190.0,19868.0,24551.0,25470.0,18961.0,22808.0,17383.0,24358.0,11966.0,27661.0,16573.0,10739.0,18873.0,20546.0,10591.0,31217.0,11847.0,12342.0,27869.0,11798.0,21046.0,18387.0,42506.0,20249.0,24594.0,20429.0,23333.0,36290.0,18648.0,41093.0,21801.0,19677.0,21545.0,11273.0,22185.0,11924.0,24525.0,13878.0,15660.0,32143.0,16852.0,28696.0,15359.0,15359.0,15327.0,19266.0,8546.0,17415.0,30221.0,32312.0,25240.0,23308.0,12171.0,12171.0,25964.0,25964.0,19170.0,19891.0,14903.0,40025.0,37049.0,22526.0,14767.0,27870.0,20548.0,11937.0,10654.0,23362.0,15709.0,19535.0,16176.0,21259.0,14860.0,17158.0,16123.0,18527.0,22697.0,15584.0,8967.0,14337.0,30820.0,21351.0,28093.0,19247.0,17114.0,24937.0,15930.0,9343.0,28013.0,37696.0,16910.0,16034.0,13407.0,15366.0,15317.0,15601.0,17757.0,16792.0,20818.0,37619.0,23036.0,44809.0,13621.0,19407.0,27354.0,14714.0,10469.0,44832.0,14579.0,23412.0,36512.0,23942.0,24022.0,25475.0,12864.0,41330.0,23573.0,13785.0,16541.0,24391.0,34124.0,29871.0,9646.0,32464.0,19006.0,39865.0,29167.0,20851.0,10038.0,12852.0,13703.0,20200.0,25820.0,15743.0,24038.0,25915.0,24338.0,39969.0,16728.0,27296.0,16883.0,11196.0,17828.0,22312.0,11986.0,23975.0,25290.0,31524.0,22397.0,23355.0,24848.0,16553.0,11382.0,27837.0,12819.0,41044.0,17365.0,18094.0,19286.0,23478.0,13385.0,23773.0,25445.0,32403.0,31654.0,16186.0,13131.0,14151.0,21334.0,10139.0,8540.0,12167.0,17496.0,18919.0,17925.0,18940.0,21183.0,16353.0,21208.0,28690.0,23600.0,14371.0,18137.0,29197.0,16603.0,31741.0,11385.0,25805.0,31525.0,22237.0,13674.0,19929.0,23870.0,36988.0,18491.0,10143.0,17742.0,25990.0,15425.0,21532.0,7452.0,32731.0,24583.0,27424.0,17543.0,20861.0,9426.0,5450.0,24899.0,11442.0,15443.0,16019.0,21254.0,24574.0,14848.0,26184.0,31055.0,25771.0,14774.0,14568.0,20055.0,15726.0,10670.0,14039.0,39282.0,15063.0,23055.0,18071.0,32845.0,22762.0,14605.0,17424.0,15211.0,15086.0,24110.0,26267.0,47709.0,15031.0,24156.0,24276.0,22396.0,8031.0,15192.0,11792.0,15648.0,17211.0,23279.0,15810.0,22238.0,17628.0,52165.0,33676.0,19319.0,16234.0,21392.0,25870.0,13255.0,21367.0,45121.0,33092.0,25332.0,18911.0,17516.0,37300.0,14617.0,25664.0,25603.0,18955.0,15655.0,11543.0,17245.0,11125.0,30749.0,17437.0,28815.0,35731.0,21452.0,21337.0,8699.0,21192.0,13802.0,12117.0,15588.0,31612.0,44023.0,23680.0,36167.0,28888.0,28019.0,10427.0,13541.0,14811.0,14293.0,15259.0,12442.0,15976.0,23813.0,16036.0,11130.0,4339.0,20891.0,17910.0,14000.0,10228.0,19546.0,29978.0,13263.0,24681.0,13187.0,13898.0,42738.0,9302.0,28769.0,27452.0,11392.0,7960.0,24530.0,28399.0,22006.0,10752.0,25212.0,23018.0,33043.0,11619.0,18166.0,15144.0,8926.0,26482.0,22351.0,19069.0,13290.0,20458.0,15111.0,31509.0,51635.0,41361.0,9190.0,9559.0,21922.0,19041.0,12777.0,30607.0,24749.0,17997.0,25005.0,12099.0,18440.0,17263.0,14379.0,20568.0,13996.0,11126.0,18829.0,8599.0,23922.0,45857.0,31443.0,19385.0,33549.0,19928.0,24191.0,22847.0,11584.0,11977.0,30424.0,28282.0],\"xaxis\":\"x\",\"yaxis\":\"y\",\"type\":\"histogram\",\"opacity\":0.5},{\"alignmentgroup\":\"True\",\"bingroup\":\"x\",\"hovertemplate\":\"position=mid\\u003cbr\\u003evalue=%{x}\\u003cbr\\u003ecount=%{y}\\u003cextra\\u003e\\u003c\\u002fextra\\u003e\",\"legendgroup\":\"mid\",\"marker\":{\"color\":\"#FF7F0E\",\"pattern\":{\"shape\":\"\"}},\"name\":\"mid\",\"offsetgroup\":\"mid\",\"orientation\":\"v\",\"showlegend\":true,\"x\":[20690.0,11261.0,12577.0,19759.0,17636.0,12169.0,15909.0,14632.0,22982.0,18453.0,28239.0,17544.0,27550.0,37649.0,23457.0,15418.0,13044.0,19064.0,21147.0,10278.0,23032.0,33888.0,14460.0,30411.0,12551.0,17334.0,15732.0,26340.0,25758.0,9514.0,29213.0,9283.0,29879.0,14595.0,13118.0,38854.0,24348.0,13437.0,21535.0,15403.0,8302.0,14889.0,7430.0,40082.0,17756.0,19326.0,35240.0,20914.0,21068.0,13065.0,9240.0,21338.0,11047.0,12255.0,14795.0,8082.0,13415.0,22206.0,32959.0,19806.0,6796.0,13400.0,11114.0,19630.0,25274.0,13504.0,10998.0,14835.0,29273.0,12273.0,49687.0,19890.0,16282.0,14501.0,19413.0,31637.0,13502.0,50969.0,13276.0,14500.0,18112.0,17301.0,44847.0,12153.0,15607.0,24251.0,30110.0,28737.0,13892.0,25195.0,11588.0,23204.0,8067.0,23704.0,14870.0,15990.0,21966.0,23460.0,23081.0,30112.0,12043.0,13354.0,23977.0,14187.0,27129.0,20417.0,19062.0,13974.0,20516.0,26161.0,19932.0,17145.0,30708.0,19527.0,20794.0,19821.0,14916.0,22175.0,23820.0,21360.0,17093.0,16238.0,16045.0,17405.0,21852.0,8472.0,18200.0,19440.0,13230.0,36454.0,20077.0,28780.0,13769.0,15127.0,48687.0,33205.0,16806.0,12907.0,10814.0,11316.0,27021.0,17160.0,22106.0,18613.0,26789.0,31328.0,20768.0,25498.0,29453.0,21232.0,12115.0,18852.0,18505.0,12814.0,20704.0,8141.0,16591.0,19632.0,24858.0,22184.0,17654.0,10865.0,20062.0,18218.0,14723.0,31957.0,10796.0,17777.0,17294.0,28482.0,15434.0,12992.0,14522.0,24716.0,22153.0,21048.0,17990.0,25278.0,14446.0,12944.0,20479.0,29732.0,22987.0,18797.0,26796.0,27997.0,16422.0,24657.0,17340.0,18417.0,15688.0,8615.0,21558.0,15164.0,14018.0,21804.0,12207.0,13999.0,19395.0,45477.0,23757.0,23910.0,23628.0,15323.0,35938.0,11230.0,36737.0,16476.0,17746.0,15990.0,8345.0,13798.0,23499.0,8194.0,18801.0,15433.0,32248.0,31462.0,15688.0,25635.0,25908.0,13700.0,11943.0,12577.0,18350.0,15476.0,29318.0,24626.0,10332.0,26228.0,25565.0,37159.0,16750.0,28803.0,46346.0,11630.0,22032.0,11730.0,9983.0,30489.0,21989.0,20786.0,29401.0,34103.0,15521.0,20536.0,20527.0,14013.0,12436.0,15263.0,19798.0,20204.0,58799.0,14179.0,31448.0,20960.0,13425.0,19418.0,14986.0,22761.0,12673.0,15404.0,17028.0,21737.0,9835.0,17327.0,9593.0,18894.0,32461.0,6907.0,31701.0,13359.0,15553.0,11673.0,7277.0,9724.0,17830.0,24844.0,47442.0,12775.0,31869.0,21623.0,26850.0,19260.0,20885.0,21548.0,18548.0,31967.0,18648.0,29773.0,20632.0,27499.0,19297.0,21003.0,13831.0,25190.0,13690.0,16852.0,11081.0,16648.0,25090.0,20511.0,21463.0,52420.0,19484.0,18543.0,40059.0,29748.0,10778.0,26230.0,19694.0,7467.0,29598.0,21081.0,23481.0,14455.0,39570.0,21276.0,16314.0,28472.0,28873.0,29470.0,26581.0,19901.0,10853.0,21533.0,6350.0,18256.0,9783.0,19124.0,25004.0,6883.0,14904.0,16848.0,33918.0,25772.0,14505.0,18051.0,13713.0,40059.0,14115.0,28460.0,43529.0,18827.0,33495.0,12246.0,17131.0,16560.0,4413.0,7737.0,24926.0,15272.0,18685.0,26954.0,28339.0,25536.0,21014.0,19146.0,23766.0,9912.0,12293.0,16940.0,22598.0,21737.0,8347.0,11929.0,23902.0,19615.0,14835.0,24714.0,7323.0,28825.0,21327.0,15862.0,16862.0,18615.0,15763.0,16926.0,14276.0,11143.0,7706.0,28892.0,25535.0,12502.0,25085.0,17576.0,17021.0,36800.0,9253.0,26477.0,12960.0,17067.0,25727.0,39435.0,39014.0,11322.0,22111.0,17509.0,3704.0,12385.0,32294.0,21087.0,27216.0,16011.0,19768.0,20674.0,18682.0,14993.0,10849.0,29728.0,16930.0,18094.0,19943.0,14274.0,12134.0,14380.0,18120.0,18564.0,38790.0,28673.0,11230.0,28471.0,11571.0,18789.0,13794.0,12915.0,14034.0,13618.0,33551.0,12153.0,24167.0,6619.0,13721.0,9014.0,19276.0,9220.0,22312.0,32730.0,19322.0,30627.0,20247.0,22948.0,26225.0,41516.0,8758.0,28890.0,20483.0,19496.0,19273.0,18738.0,28478.0,15895.0,18648.0,20958.0,13406.0,24791.0,12259.0,16087.0,27630.0,31816.0,21528.0,24725.0,21128.0,19470.0,14435.0,15164.0,18416.0,8303.0,33068.0,12517.0,21774.0,15234.0,26492.0,17452.0,12141.0,36209.0,11337.0,23477.0,23924.0,15354.0,18150.0,13401.0,14065.0,14444.0,4931.0,9008.0,41905.0,16068.0,16490.0,19182.0,12143.0,24648.0,11253.0,18024.0,37751.0,16455.0,11057.0,11370.0,18960.0,18707.0,14656.0,10880.0,16095.0,15804.0,3806.0,8661.0,16212.0,16037.0,11478.0,14817.0,20266.0,8651.0,17090.0,21722.0,14459.0,10804.0,13470.0,15026.0,20912.0,23915.0,26518.0,12205.0,40339.0,25239.0,12130.0,17412.0,10290.0,20656.0,13763.0,14418.0,19118.0,10196.0,21783.0,8048.0,16435.0,9995.0,16487.0,12599.0,15356.0,12703.0,20678.0,24116.0,23523.0,38778.0,35152.0,25773.0,25024.0,29279.0,17271.0,11442.0,14445.0,28591.0,18370.0,26719.0,36304.0,32409.0,16655.0,17431.0,6003.0,15793.0,15726.0,20556.0,16559.0,16165.0,14313.0,13072.0,6588.0,34097.0,40847.0,15928.0,22848.0,22689.0,18757.0,20564.0,16829.0,19514.0,8084.0,15246.0,29897.0,30341.0,14309.0,16816.0,9278.0,13547.0,13585.0,16042.0,8105.0,14467.0,8758.0,22896.0,11805.0,31212.0,21225.0,18003.0,16170.0,19473.0,17419.0,40594.0,20149.0,28168.0,7983.0,22676.0,17677.0,35581.0,29330.0,15686.0,32895.0,23296.0,14938.0,21745.0,17311.0,10854.0,14086.0,19381.0,10659.0,13134.0,13446.0,21891.0,10645.0,14205.0,10281.0,11777.0,11472.0,16421.0,30625.0,9131.0,16851.0,16138.0,29224.0,10761.0,12971.0,18675.0,15164.0,11274.0,29287.0,26267.0,17851.0,40868.0,7623.0,34832.0,19615.0,14757.0,12763.0,14965.0,19049.0,18423.0,18664.0,26019.0,18656.0,25827.0,27017.0,28442.0,21391.0,27112.0,14259.0,18749.0,8483.0,19632.0,12209.0,17952.0,15717.0,25432.0,14936.0,20003.0,24010.0,24832.0,39384.0,18087.0,6258.0,23909.0,22068.0,25242.0,20369.0,17877.0,13899.0,20285.0,15219.0,15067.0,10822.0,11396.0,35103.0,9108.0,13137.0,31381.0,11626.0,17691.0,15913.0,20217.0,8412.0,15451.0,36783.0,18037.0,13995.0,13030.0,20598.0,23151.0,12042.0,25044.0,23664.0,14687.0,16519.0,11907.0,14896.0,18386.0,10961.0,30506.0,22770.0,17065.0,13197.0,15394.0,15688.0,21571.0,16704.0,14912.0,19457.0,28237.0,11075.0,19204.0,26121.0,15999.0,8827.0,15294.0,17888.0,8767.0,20348.0,28124.0,15683.0,15932.0,21417.0,24207.0,80351.0,23003.0,15414.0,18936.0,37508.0,16953.0,27099.0,14599.0,20673.0,36445.0,26192.0,10837.0,8605.0,13254.0,20831.0,7688.0,25471.0,12307.0,13624.0,26356.0,20339.0,18917.0,15889.0,12596.0,26357.0,14455.0,24370.0,20639.0,7917.0,18736.0,15463.0,32025.0,21152.0,34027.0,15364.0,11411.0,16627.0,12482.0,30881.0,18525.0,15874.0,19483.0,31838.0,20723.0,17122.0,7926.0,11753.0,17637.0,15061.0,10099.0,16129.0,24953.0,14561.0,31594.0,24384.0,28387.0,16909.0,26115.0,35726.0,18987.0,28015.0,17784.0,17230.0,36720.0,13868.0,13459.0,16960.0,25496.0,17886.0,31616.0,11557.0,37203.0,12970.0,18223.0,26203.0,10600.0,15897.0,23147.0,15256.0,22200.0,20183.0,25880.0,16836.0,25971.0,30009.0,8693.0,9658.0,25821.0,22475.0,27814.0,28566.0,30883.0,20922.0,22349.0,12515.0,22741.0,23985.0,15810.0,26647.0,17101.0,22162.0,18883.0,11740.0,17020.0,16810.0,13978.0,14656.0,21269.0,34980.0,15081.0,12114.0,10696.0,11445.0,9908.0,18651.0,28170.0,23151.0,12446.0,20850.0,13384.0,16079.0,22779.0,26524.0,16936.0,18764.0,30419.0,18769.0,13598.0,17015.0,15231.0,8974.0,21325.0,16626.0,39272.0,14912.0,23457.0,12953.0,31870.0,17536.0,19136.0,16172.0,20436.0,34429.0,24383.0,11723.0,57989.0,15583.0,31779.0,53776.0,13778.0,35496.0,9457.0,19170.0,16250.0,12004.0,18991.0,17454.0,19817.0,8262.0,19648.0,14414.0,20123.0,7310.0,14093.0,16357.0,36013.0,13288.0,21751.0,31207.0,20567.0,17813.0,9265.0,8248.0,27301.0,11230.0,15326.0,7095.0,18800.0,9111.0,18841.0,25801.0,11558.0,9670.0,13552.0,21553.0,14119.0,17903.0,33908.0,19474.0,18301.0,17795.0,7936.0,16708.0,11725.0,15397.0,15272.0,37952.0,16989.0,7731.0,8916.0,10002.0,10858.0,11704.0,12014.0,26677.0,14033.0,29504.0,12739.0,19943.0,24839.0,13702.0,19033.0,8315.0,21479.0,8339.0,22499.0,10420.0,20491.0,26719.0,19396.0,15458.0,11943.0,17860.0,11300.0,14243.0,23707.0,13042.0,20987.0,18538.0,18727.0,17050.0,16845.0,48726.0,30600.0,29564.0,13933.0,10802.0,30150.0,13949.0,16939.0,21212.0,17363.0,13175.0,17232.0,27439.0,24945.0,12986.0,12822.0,21289.0,21705.0,18351.0,30135.0,13127.0,22853.0,25664.0,19350.0,10520.0,16289.0,47443.0,21374.0,25009.0,17872.0,11696.0,13294.0,33971.0,19509.0,11574.0,24363.0,26329.0,12012.0,14921.0,12347.0,17660.0,12587.0,22504.0,20004.0,21319.0,16831.0,24929.0,30355.0,48538.0,14978.0,49597.0,10767.0,21004.0,9729.0,8560.0,13495.0,24051.0,15524.0,6414.0,30409.0,11847.0,21382.0,10811.0,22499.0,11266.0,6561.0,8081.0,12004.0,31097.0,16085.0,14725.0,24516.0,11657.0,14483.0,20006.0,14539.0,24683.0,19680.0,14971.0,21083.0,17516.0,25187.0,23834.0,14170.0,24847.0,16949.0,22398.0,21873.0,14362.0,19556.0,16690.0,13947.0,15318.0,12484.0,13334.0,28843.0,17215.0,21525.0,20312.0,9065.0,13219.0,22800.0,7664.0,34152.0,17179.0,23707.0,26104.0,21351.0,28952.0,20366.0,7174.0,14100.0,24286.0,18748.0,41211.0,15014.0,14799.0,19024.0,25659.0,17656.0,19168.0,16088.0,21622.0,53890.0,19690.0,26138.0,17953.0,43544.0,18423.0,8139.0,11214.0,11145.0,14028.0,5149.0,30589.0,14094.0,18930.0,28560.0,19091.0,13131.0,25980.0,38040.0,26379.0,45577.0,18449.0,23480.0,15308.0,11369.0,13910.0,22446.0,21894.0,16720.0,20418.0,29533.0,13961.0,17176.0,20699.0,12647.0,13935.0,19673.0,26357.0,30845.0,32982.0,31724.0,29339.0,22642.0,12913.0,24785.0,43971.0,20014.0,20326.0,15275.0,13125.0,13094.0,23302.0,15847.0,19523.0,9522.0,30080.0,20248.0,36092.0,10429.0,16081.0,9985.0,10340.0,11775.0,18348.0,14915.0,6279.0,17594.0,17128.0,9540.0,25184.0,23933.0,12402.0,14567.0,23807.0,24379.0,19376.0,19729.0,19533.0,22497.0,25744.0,26024.0,26165.0,22655.0,37863.0,18126.0,33000.0,15663.0,21151.0,24490.0,16830.0,25007.0,9182.0,13426.0,23120.0,31869.0,4847.0,9032.0,17542.0,14190.0,10937.0,13480.0,14903.0,44642.0,15897.0,20419.0,43739.0,8095.0,16737.0,21839.0,17430.0,25358.0,21847.0,36000.0,11449.0,9186.0,11070.0,25601.0,15167.0,21552.0,6651.0,15893.0,33116.0,19952.0,33628.0,15074.0,11953.0,11347.0,13334.0,16933.0,15954.0,47317.0,17835.0,11579.0,14387.0,9413.0,12572.0,9631.0,14490.0,18769.0,28778.0,11081.0,11463.0,15688.0,30825.0,22632.0,10699.0,24384.0,11764.0,4686.0,14102.0,16510.0,8749.0,11952.0,20713.0,11170.0,22816.0,25783.0,23650.0,15570.0,19021.0,15296.0,31875.0,24270.0,14812.0,10203.0,13106.0,14092.0,19072.0,15698.0,16196.0,23152.0,61533.0,24402.0,14765.0,20054.0,17352.0,21489.0,11307.0,23394.0,14416.0,17868.0,8507.0,31725.0,20491.0,29180.0,18834.0,10918.0,14334.0,20908.0,33302.0,14151.0,16020.0,14158.0,39582.0,13471.0,26635.0,14405.0,24911.0,19118.0,16100.0,21766.0,9558.0,14809.0,7400.0,9012.0,15983.0,23083.0,19126.0,7888.0,7434.0,16587.0,17861.0,6935.0,14785.0,14436.0,36089.0,20680.0,35963.0,27956.0,21821.0,35043.0,17519.0,27188.0,14590.0,21497.0,18892.0,28926.0,22422.0,22029.0,13190.0,11498.0,28926.0,9209.0,33510.0,11044.0,16343.0,26881.0,42621.0,18254.0,13560.0,5211.0,19378.0,25156.0,17129.0,13646.0,14458.0,13919.0,20948.0,8127.0,20813.0,10831.0,11308.0,19107.0,14546.0,7185.0,19395.0,12720.0,15188.0,7865.0,32544.0,23587.0,25548.0,18734.0,9737.0,16005.0,10177.0,17096.0,14184.0,25069.0,10526.0,24267.0,17861.0,11257.0,26478.0,16287.0,8044.0,21622.0,21592.0,19493.0,16748.0,21649.0,20145.0,7060.0,11833.0,18183.0,22750.0,16932.0,12622.0,16354.0,17863.0,12956.0,17465.0,8914.0,42967.0,19408.0,12866.0,12055.0,15588.0,26949.0,18587.0,22583.0,13087.0,12785.0,29093.0,16106.0,17156.0,16809.0,21605.0,7500.0,42612.0,19574.0,20400.0,35864.0,6003.0,20914.0,11948.0,25620.0,18124.0,7447.0,19747.0,22188.0,19323.0,8868.0,9235.0,17729.0,14242.0,15210.0,11604.0,12470.0,10587.0,13607.0,17166.0,16488.0,23967.0,10881.0,36200.0,18115.0,8655.0,14565.0,10652.0,28114.0,14746.0,17386.0,22977.0,12039.0,5143.0,24294.0,13456.0,20706.0,19671.0,19456.0,26343.0,21169.0,33249.0,32251.0,38689.0,15116.0,12771.0,13088.0,19265.0,29393.0,8993.0,9086.0,19575.0,18062.0,12610.0,29731.0,15298.0,14040.0,9752.0,18039.0,9564.0,8610.0,7569.0,6406.0,14915.0,13640.0,17999.0,15498.0,11888.0,14520.0,13651.0,17671.0,13562.0,10530.0,7932.0,11898.0,14036.0,20956.0,27151.0,24695.0,9182.0,18511.0,13915.0,16546.0,18109.0,28814.0,12965.0,12185.0,33542.0,19890.0,15419.0,10735.0,12121.0,23530.0,10460.0,12403.0,34083.0,17081.0,16697.0,15202.0,17533.0,18819.0,11399.0,11145.0,8226.0,17668.0,14824.0,13115.0,15521.0,24657.0,9985.0,14954.0,11715.0,18470.0,14734.0,9373.0,47000.0,13703.0,20704.0,18202.0,17419.0,26968.0,30663.0,22656.0,10060.0,12952.0,17329.0,17735.0,8134.0,11452.0,16576.0,14321.0,21038.0,24146.0,60894.0,21552.0,11504.0,11932.0,11227.0,5925.0,23555.0,13834.0,16939.0,21461.0,11524.0,18014.0,23137.0,9324.0,19162.0,44347.0,19914.0,31108.0,23705.0,14451.0,4643.0,8120.0,9054.0,12021.0,10757.0,29785.0,15904.0,4605.0,17144.0,15490.0,26110.0,23799.0,22457.0,26230.0,31215.0,23435.0,16062.0,31910.0,20168.0,8961.0,18173.0,23205.0,9757.0,15534.0,11659.0,45259.0,31205.0,5688.0,11577.0,7290.0,15738.0,4779.0,15396.0,17541.0,32753.0,11656.0,15389.0,12726.0,7199.0,12884.0,6705.0,12058.0,18521.0,7788.0,26522.0,20126.0,6330.0,8644.0,9671.0,21091.0,40026.0,4495.0,28840.0,19148.0,18897.0,13252.0,9674.0,9093.0,27440.0,10770.0,22039.0,9796.0,15618.0,17261.0,25448.0,20043.0,21154.0,17517.0,15720.0,8657.0,26878.0,9229.0,18257.0,10581.0,19413.0,14165.0,32127.0,28570.0,24574.0,15756.0,13304.0,31696.0,11711.0,13810.0,82363.0,18371.0,12194.0,13502.0,17639.0,31653.0,14910.0,13748.0,12975.0,6610.0,8596.0,8711.0,14363.0,17017.0,13405.0,14681.0,7321.0,21787.0,8590.0,13412.0,19055.0,33598.0,24219.0,21237.0,16660.0,16707.0,11566.0,18062.0,14821.0,14592.0,21272.0,9916.0,13774.0,5642.0,9666.0,15489.0,13279.0,13909.0,6925.0,17853.0,17497.0,13537.0,13077.0,18626.0,10286.0,11753.0,18376.0,9640.0,4435.0,9422.0,19775.0,19062.0,34305.0,30164.0,40549.0,10984.0,26232.0,18863.0,21341.0,11767.0,22641.0,13130.0,17347.0,6901.0,19067.0,14135.0,17624.0,18066.0,16660.0,26237.0,13960.0,25260.0,10941.0,20039.0,9876.0,21124.0,22306.0,7234.0,16476.0,20215.0,21063.0,25769.0,14708.0,12220.0,8557.0,13657.0,14793.0,11419.0,8329.0,17650.0,15052.0,17311.0,12227.0,9807.0,13269.0,13990.0,36097.0,23703.0,9523.0,20956.0,25682.0,25001.0,15748.0,24803.0,19837.0,13769.0,37239.0,6426.0,24059.0,14820.0,23056.0,19226.0,25467.0,19629.0,30300.0,9988.0,15102.0,13556.0,10876.0,23875.0,5433.0,12819.0,31794.0,16705.0,13128.0,17986.0,9683.0,18030.0,8113.0,21027.0,14787.0,14412.0,15039.0,13699.0,10224.0,17351.0,16319.0,21045.0,18573.0,16641.0,11298.0,19461.0,18949.0,23033.0,20626.0,15586.0,23754.0,16374.0,29105.0,9919.0,19660.0,26210.0,21517.0,14376.0,19091.0,15009.0,7203.0,14218.0,16881.0,17432.0,6108.0,18345.0,20498.0,30941.0,12608.0,14343.0,12206.0,15508.0,11481.0,21901.0,14022.0,11774.0,24137.0,32178.0,15791.0,26306.0,24844.0,5294.0,12961.0,10348.0,19248.0,13585.0,13917.0,12536.0,34583.0,25246.0,9206.0,9721.0,21379.0,13968.0,22861.0,13036.0,15511.0,20788.0,15050.0,16424.0,6094.0,10113.0,11256.0,15224.0,17936.0,14211.0,14971.0,8785.0,12972.0,20929.0,18724.0,12979.0,29845.0,20237.0,33643.0,23772.0,32550.0,14660.0,16314.0,13504.0,10899.0,13700.0,12131.0,15685.0,18011.0,13731.0,17285.0,4297.0,10476.0,24588.0,5670.0,16606.0,18089.0,9557.0,20670.0,25191.0,13416.0,25560.0,13619.0,7619.0,21528.0,15535.0,9787.0,21651.0,16872.0,13460.0,35151.0,21883.0,17237.0,18877.0,14582.0,14332.0,11687.0,27026.0,25255.0,19863.0,4986.0,21456.0,11615.0,17969.0,21561.0,14599.0,26136.0,13046.0,37508.0,18139.0,19992.0,10187.0,14454.0,10492.0,11797.0,19282.0,17262.0,25722.0,18750.0,13743.0,27566.0,9742.0,17871.0,13090.0,13129.0,12488.0,20957.0,24574.0,24477.0,26200.0,18867.0,17181.0,25632.0,25914.0,18052.0,19734.0,14659.0,32200.0,11435.0,13550.0,25620.0,12978.0,16461.0,15893.0,23578.0,19374.0,15798.0,14423.0,20570.0,11667.0,16790.0,13001.0,14400.0,9864.0,20884.0,14008.0,17446.0,13347.0,20122.0,22608.0,16524.0,24634.0,19461.0,18273.0,15120.0,14265.0,14172.0,8641.0,12464.0,11723.0,13313.0,8296.0,10387.0,12157.0,10828.0,18176.0,21275.0,12473.0,15458.0,4576.0,9228.0,9524.0,25754.0,21044.0,19399.0,21346.0,17704.0,23175.0,11673.0,14824.0,17565.0,18295.0,22018.0,22018.0,48499.0,13966.0,20983.0,14948.0,16158.0,12844.0,27441.0,23936.0,13555.0,21148.0,29652.0,18686.0,17701.0,14532.0,27453.0,29976.0,15265.0,27043.0,7097.0,17069.0,28802.0,11297.0,14910.0,17782.0,20431.0,18252.0,34404.0,9155.0,17776.0,14010.0,12176.0,14400.0,10069.0,15394.0,23935.0,12169.0,6533.0,15599.0,18673.0,26215.0,6167.0,10508.0,10337.0,33100.0,18593.0,19472.0,13535.0,12517.0,3634.0,17119.0,23812.0,15555.0,16633.0,10823.0,16463.0,24358.0,11546.0,8382.0,18821.0,17694.0,11357.0,23118.0,18097.0,13797.0,21215.0,14644.0,13764.0,13264.0,9998.0,11168.0,10985.0,33219.0,18303.0,13982.0,9664.0,11640.0,13502.0,7846.0,13589.0,14762.0,11968.0,18719.0,11719.0,25385.0,7974.0,8657.0,26103.0,23800.0,11238.0,6575.0,14604.0,45717.0,14820.0,11410.0,16567.0,22181.0,41579.0,18258.0,20663.0,7817.0,11898.0,11818.0,24613.0,7607.0,8542.0,15356.0,10322.0,19227.0,17702.0,19704.0,13558.0,9555.0,11299.0,17218.0,28805.0,17768.0,14814.0,17664.0,18673.0,14898.0,20764.0,18676.0,14859.0,13935.0,8654.0,16096.0,18277.0,32581.0,14656.0,18249.0,10611.0,8892.0,14208.0,19030.0,13212.0,15853.0,19702.0,24657.0,31209.0,20772.0,8790.0,22535.0,20857.0,11106.0,16503.0,15199.0,15536.0,15525.0,7410.0,15646.0,15072.0,15996.0,16974.0,18946.0,12060.0,14994.0,18447.0,8436.0,16507.0,9696.0,6897.0,19109.0,12389.0,14731.0,30052.0,55298.0,19443.0,18703.0,23978.0,4188.0,16956.0,7137.0,23150.0,17711.0,22684.0,10260.0,6493.0,14816.0,9344.0,14068.0,10463.0,22441.0,27835.0,33816.0,18868.0,24541.0,11022.0,18002.0,19407.0,26518.0,8546.0,19223.0,20475.0,18349.0,20618.0,5892.0,16615.0,6988.0,17472.0,27113.0,14086.0,16230.0,9186.0,24084.0,49908.0,10392.0,24388.0,12889.0,15602.0,10025.0,18196.0,24573.0,11252.0,43236.0,17258.0,6712.0,19516.0,11760.0,12585.0,11997.0,19332.0,13453.0,24634.0,26761.0,21555.0,10142.0,22255.0,9447.0,16063.0,17787.0,11712.0,13604.0,27117.0,11268.0,10680.0,29698.0,18393.0,12813.0,17559.0,24040.0,12159.0,21871.0,17070.0,8832.0,18339.0,14526.0,7678.0,22870.0,13187.0,21010.0,33074.0,13868.0,18132.0,25691.0,11336.0,14598.0,23201.0,11294.0,14817.0,18891.0,29485.0,26252.0,12410.0,10822.0,10030.0,13499.0,29542.0,10449.0,14773.0,18863.0,15155.0,8950.0,26348.0,11825.0,10456.0,13309.0,9120.0,30252.0,9539.0,16333.0,10556.0,15184.0,20548.0,28431.0,9600.0,16505.0,15710.0,9892.0,10193.0,67159.0,11517.0,14995.0,7850.0,15512.0,24134.0,23522.0,16265.0,18478.0,11613.0,39250.0,13032.0,18111.0,6703.0,19308.0,20751.0,18259.0,22749.0,13089.0,18300.0,9572.0,22254.0,8292.0,21369.0,18641.0,12340.0,9028.0,16315.0,10599.0,13223.0,23748.0,34866.0,22614.0,10822.0,20969.0,25768.0,8274.0,10020.0,20785.0,10707.0,13312.0,14597.0,15701.0,21047.0,11565.0,16242.0,9573.0,14777.0,18643.0,16008.0,12212.0,8513.0,11237.0,32755.0,21588.0,10974.0,22413.0,12595.0,21428.0,21089.0,14504.0,16919.0,14545.0,26585.0,21872.0,12886.0,10947.0,4874.0,7301.0,20023.0,11596.0,17374.0,19865.0,32670.0,15091.0,9692.0,18009.0,12202.0,20067.0,13336.0,21723.0,17792.0,17427.0,17206.0,26352.0,15413.0,10207.0,14121.0,7690.0,21626.0,21864.0,20033.0,26130.0,19372.0,39321.0,14221.0,16619.0,25364.0,32733.0,15774.0,31843.0,17295.0,12574.0,23169.0,20054.0,11479.0,34358.0,10322.0,5423.0,20562.0,12673.0,20575.0,12331.0,12781.0,9721.0,15453.0,12481.0,14828.0,14102.0,11935.0,16207.0,13877.0,18207.0,18075.0,24668.0,12833.0,12890.0,11824.0,12852.0,18756.0,21884.0,14470.0,10515.0,37510.0,11302.0,11009.0,11128.0,5434.0,8530.0,11912.0,21421.0,15817.0,38171.0,11843.0,12787.0,16397.0,20887.0,11445.0,10045.0,9484.0,14999.0,12538.0,14942.0,20673.0,27470.0,9572.0,17654.0,15215.0,21323.0,27173.0,8383.0,16647.0,11025.0,19122.0,20422.0,22272.0,10895.0,19495.0,19629.0,27633.0,26877.0,11351.0,11772.0,10291.0,23915.0,7740.0,23744.0,9234.0,15741.0,24517.0,14764.0,16063.0,39145.0,19633.0,16750.0,9233.0,22187.0,34978.0,36805.0,17265.0,8056.0,15519.0,22201.0,6946.0,22779.0,18882.0,17315.0,32838.0,27117.0,28340.0,10060.0,25286.0,24672.0,22203.0,18284.0,6617.0,14786.0,16227.0,28499.0,41038.0,13716.0,19762.0,7004.0,24112.0,16149.0,29849.0,35523.0,10374.0,13233.0,22793.0,19535.0,5782.0,14916.0,16516.0,16020.0,53321.0,19251.0,16973.0,13097.0,8195.0,11076.0,20024.0,10131.0,13959.0,14565.0,19152.0,18790.0,11532.0,13772.0,16718.0,15063.0,21704.0,17357.0,13054.0,16186.0,16701.0,22871.0,28386.0,21063.0,10906.0,15553.0,16270.0,12443.0,14940.0,22371.0,11709.0,8672.0,12325.0,11712.0,6779.0,9736.0,15238.0,27009.0,15698.0,13045.0,8982.0,13241.0,24917.0,4255.0,12104.0,17212.0,14318.0,26436.0,22902.0,32797.0,7683.0,18275.0,10778.0,23480.0,27616.0,20813.0,17632.0,6594.0,20674.0,14766.0,15434.0,19881.0,12161.0,8835.0,7739.0,24386.0,10577.0,23928.0,25633.0,9681.0,16045.0,33092.0,7365.0,15865.0,10592.0,5177.0,16251.0,22052.0,7408.0,18070.0,21033.0,11589.0,12906.0,12145.0,13333.0,12336.0,13509.0,11510.0,17340.0,6327.0,16442.0,6003.0,19849.0,17352.0,14313.0,8820.0,30359.0,9849.0,15356.0,9477.0,15246.0,16630.0,13300.0,13227.0,17631.0,15975.0,12841.0,19026.0,12190.0,12917.0,6569.0,16860.0,12185.0,14102.0,34944.0,23584.0,24986.0,13784.0,8296.0,18802.0,18225.0,43236.0,3790.0,17881.0,9713.0,24532.0,8929.0,20895.0,15594.0,18205.0,13683.0,15675.0,22343.0,16792.0,21477.0,17193.0,31360.0,11252.0,11786.0,21178.0,15934.0,7463.0,16279.0,16116.0,11861.0,6699.0,4535.0,17244.0,10658.0,20433.0,17988.0,18002.0,15248.0,15617.0,13400.0,12564.0,12448.0,16320.0,9091.0,13850.0,16442.0,12727.0,9242.0,21989.0,9115.0,17820.0,23509.0,32260.0,10444.0,16963.0,10091.0,16073.0,13355.0,14663.0,9952.0,40810.0,9830.0,15766.0,15369.0,18069.0,13907.0,9317.0,15151.0,16060.0,16784.0,19048.0,17131.0,6070.0,10841.0,20943.0,17561.0,10545.0,8297.0,23383.0,8093.0,12562.0,20776.0,11490.0,8580.0,15753.0,16259.0,31713.0,26331.0,25327.0,16817.0,17576.0,17102.0,12602.0,15449.0,11225.0,16519.0,16086.0,12174.0,11291.0,17215.0,15659.0,9856.0,11675.0,22333.0,8236.0,13072.0,8519.0,9756.0,17061.0,9888.0,20031.0,16587.0,12468.0,18524.0,17574.0,16449.0,16474.0,11694.0,15914.0,22355.0,13312.0,20993.0,11908.0,13007.0,13555.0,19822.0,10101.0,24267.0,10959.0,15265.0,18643.0,18971.0,24017.0,16431.0,20767.0,19236.0,19532.0,9097.0,17801.0,18556.0,20809.0,17871.0,20221.0,9448.0,12089.0,14400.0,11154.0,14588.0,13854.0,32523.0,22681.0,12654.0,7957.0,19917.0,12060.0,11101.0,7745.0,23312.0,19142.0,15915.0,22952.0,11925.0,24575.0,11925.0,12738.0,5417.0,12269.0,21712.0,15175.0,8709.0,19347.0,25273.0,19689.0,18895.0,24515.0,12010.0,12654.0,19838.0,14324.0,13037.0,13963.0,13392.0,26435.0,10874.0,18668.0,14858.0,19862.0,12443.0,21201.0,14868.0,21058.0,25017.0,21775.0,31320.0,21185.0,34771.0,15751.0,23682.0,18833.0,9706.0,15992.0,7102.0,22959.0,13253.0,11237.0,18316.0,11621.0,15880.0,10213.0,16051.0,14238.0,26559.0,10678.0,17950.0,17725.0,15835.0,34242.0,22903.0,15592.0,13734.0,28183.0,9850.0,15001.0,22549.0,12635.0,27687.0,9123.0,15563.0,22631.0,34277.0,22919.0,14628.0,12363.0,21194.0,13174.0,29165.0,15592.0,16377.0,18254.0,9815.0,11792.0,4436.0,21728.0,6538.0,33220.0,13654.0,16155.0,9605.0,21852.0,8605.0,14480.0,15917.0,12134.0,30850.0,17654.0,26870.0,10159.0,20278.0,11504.0,22429.0,18394.0,9926.0,14378.0,3264.0,25376.0,17494.0,9868.0,8447.0,10201.0,17174.0,15680.0,19529.0,12105.0,12280.0,16920.0,9509.0,8971.0,11838.0,10070.0,15784.0,15166.0,13275.0,15873.0,25991.0,21500.0,3948.0,30377.0,8445.0,9608.0,7712.0,26557.0,7917.0,25261.0,14250.0,18149.0,13973.0,11249.0,35365.0,12118.0,17133.0,14238.0,27032.0,28110.0,14979.0,15372.0,14331.0,23254.0,12586.0,18074.0,54694.0,18534.0,19424.0,24992.0,20818.0,10177.0,19992.0,20635.0,21582.0,19216.0,23181.0,25546.0,26527.0,22454.0,26501.0,8275.0,16015.0,20264.0,17762.0,21322.0,18925.0,5180.0,15616.0,23436.0,14491.0,19079.0,17166.0,13256.0,13340.0,21608.0,21484.0,9810.0,28358.0,18395.0,8722.0,10180.0,14425.0,15771.0,16065.0,28185.0,11851.0,27129.0,17814.0,3196.0,11018.0,13412.0,21204.0,13173.0,35572.0,16016.0,18482.0,15240.0,10423.0,18622.0,12912.0,26872.0,21936.0,15630.0,22932.0,30158.0,11503.0,17128.0,18636.0,17717.0,21040.0,17651.0,18262.0,25024.0,16877.0,18661.0,18689.0,12961.0,15690.0,14037.0,11561.0,10836.0,13835.0,14641.0,15088.0,12437.0,23487.0,15892.0,38682.0,13633.0,13963.0,17010.0,19839.0,28642.0,20399.0,23263.0,16718.0,10868.0,18153.0,7471.0,11065.0,10210.0,12672.0,24676.0,14111.0,18746.0,15622.0,17080.0,15190.0,21302.0,18139.0,26192.0,25762.0,19072.0,17856.0,9215.0,26945.0,15472.0,15688.0,19760.0,18850.0,7740.0,16109.0,24849.0,16672.0,26029.0,19339.0,22383.0,16991.0,9725.0,17831.0,18588.0,13018.0,12737.0,8673.0,11938.0,25099.0,6727.0,20131.0,22746.0,10287.0,12500.0,15855.0,16462.0,11947.0,10865.0,20062.0,13168.0,9934.0,19812.0,35863.0,15453.0,20392.0,15138.0,10143.0,13833.0,13738.0,23446.0,20591.0,36929.0,10958.0,21627.0,12540.0,28176.0,20336.0,16957.0,11110.0,22880.0,17244.0,15496.0,17522.0,23607.0,35058.0,19026.0,16402.0,26163.0,25680.0,13599.0,11389.0,17281.0,14201.0,13582.0,6366.0,15788.0,17481.0,8843.0,20454.0,30153.0,12082.0,11968.0,10586.0,8873.0,18654.0,22572.0,11394.0,14966.0,18866.0,7964.0,20881.0,22311.0,7070.0,17909.0,14274.0,6817.0,17164.0,21445.0,16677.0,13664.0,20269.0,12327.0,9966.0,13489.0,10347.0,15647.0,11687.0,31926.0,17735.0,11964.0,13367.0,27272.0,14554.0,20943.0,8331.0,22998.0,18562.0,20084.0,19482.0,14065.0,16122.0,6528.0,14442.0,13212.0,44613.0,16140.0,12235.0,23008.0,12180.0,23889.0,8147.0,10805.0,11110.0,19647.0,24503.0,14460.0,21735.0,7069.0,9772.0,17265.0,18772.0,20737.0,16285.0,19726.0,11026.0,25709.0,15270.0,6777.0,25095.0,11172.0,21642.0,14932.0,18415.0,18560.0,12588.0,11159.0,22604.0,21893.0,21745.0,25681.0,19324.0,10825.0,14518.0,19766.0,18831.0,10116.0,21143.0,4773.0,10250.0,31743.0,14504.0,23731.0,20372.0,19325.0,9640.0,12345.0,15829.0,19589.0,7921.0,22348.0,12898.0,17863.0,9179.0,17677.0,11626.0,26955.0,8523.0,18074.0,12114.0,23134.0,36336.0,22834.0,15354.0,14051.0,15072.0,8399.0,12467.0,8141.0,10019.0,16125.0,10252.0,16739.0,12580.0,19328.0,13830.0,13460.0,19200.0,16909.0,20078.0,9017.0,16712.0,6512.0,9539.0,15969.0,15748.0,9423.0,8325.0,19193.0,14797.0,6467.0,23983.0,20162.0,15835.0,13130.0,19204.0,7063.0,17948.0,24740.0,11751.0,36598.0,18608.0,11328.0,16182.0,14431.0,25136.0,6289.0,26882.0,17504.0,15608.0,18027.0,22500.0,9910.0,11838.0,11832.0,14569.0,18216.0,21970.0,11168.0,16402.0,18915.0,16031.0,18629.0,23955.0,15026.0,14745.0,10020.0,34626.0,13726.0,6976.0,19163.0,18681.0,8776.0,15771.0,14960.0,16614.0,12807.0,18368.0,17787.0,7656.0,15950.0,6806.0,13874.0,17264.0,17756.0,23587.0,12391.0,15867.0,29315.0,18617.0,25512.0,35501.0,26732.0,22855.0,13915.0,29639.0,12112.0,32443.0,17380.0,34572.0,13353.0,13118.0,17407.0,10727.0,16089.0,8174.0,29952.0,27599.0,38290.0,14398.0,45307.0,15655.0,12889.0,10075.0,10968.0,24406.0,9368.0,11354.0,21657.0,13804.0,20121.0,21207.0,25704.0,27768.0,15823.0,12513.0,13241.0,17155.0,10037.0,18651.0,19405.0,3905.0,16385.0,25628.0,13053.0,15645.0,16803.0,15905.0,22206.0,16662.0,17345.0,10956.0,20021.0,21320.0,7619.0,23403.0,21658.0,4654.0,15020.0,16112.0,12380.0,16085.0,10956.0,29210.0,19012.0,8458.0,9806.0,16382.0,9108.0,18905.0,15599.0,9346.0,9269.0,19201.0,16168.0,16493.0,16473.0,22999.0,12889.0,11848.0,19284.0,26176.0,14561.0,10249.0,13794.0,15724.0,16631.0,10082.0,37501.0,23076.0,16753.0,12728.0,19525.0,11765.0,21499.0,16063.0,14872.0,13303.0,16880.0,24741.0,9447.0,30454.0,23127.0,16057.0,19404.0,20000.0,14165.0,39077.0,19756.0,11230.0,13022.0,17103.0,24439.0,31619.0,10654.0,16058.0,21632.0,16837.0,25685.0,12593.0,22812.0,33726.0,12591.0,31617.0,14262.0,20143.0,13912.0,57295.0,12791.0,25582.0,7540.0,14620.0,9265.0,18350.0,18937.0,12708.0,18714.0,19777.0,12799.0,17105.0,7355.0,20253.0,20330.0,16610.0,9072.0,11646.0,13043.0,10244.0,25134.0,23032.0,25620.0,14301.0,12705.0,47641.0,11143.0,20222.0,7684.0,6076.0,21104.0,12693.0,24418.0,14448.0,25969.0,19130.0,19157.0,24870.0,17726.0,17141.0,10588.0,13631.0,12421.0,20111.0,18272.0,13103.0,19969.0,17689.0,11059.0,10649.0,14829.0,19786.0,8384.0,10429.0,8230.0,14471.0,17491.0,18878.0,31402.0,13316.0,41120.0,31976.0,7377.0,10780.0,24129.0,21036.0,20272.0,12786.0,15003.0,7218.0,16593.0,18688.0,10536.0,19696.0,17836.0,10831.0,17260.0,12835.0,19580.0,8079.0,19462.0,12831.0,8012.0,18415.0,11047.0,19310.0,9018.0,13286.0,21530.0,18967.0,24893.0,15174.0,17726.0,6730.0,6860.0,16492.0,10720.0,10055.0,16267.0,8158.0,13768.0,13466.0,9944.0,13710.0,5771.0,13402.0,22588.0,31819.0,18039.0,19301.0,19198.0,17241.0,14060.0,9487.0,29278.0,16778.0,25171.0,13869.0,8330.0,22351.0,20773.0,17272.0,27672.0,13911.0,31398.0,26265.0,7516.0,14387.0,17356.0,19326.0,21760.0,21202.0,12774.0,43340.0,22909.0,34171.0,33901.0,22434.0,8849.0,25807.0,14993.0,12925.0,10814.0,8488.0,17565.0,20659.0,17542.0,11594.0,18866.0,12012.0,12936.0,13471.0,16036.0,8498.0,14194.0,31860.0,11358.0,20485.0,10559.0,16676.0,16358.0,18208.0,19792.0,18481.0,34263.0,8817.0,11385.0,13866.0,17418.0,25960.0,21784.0,18620.0,15338.0,15851.0,19894.0,34380.0,13607.0,20065.0,14901.0,23867.0,22960.0,14504.0,9497.0,42298.0,19789.0,22777.0,8839.0,19873.0,11321.0,8746.0,20528.0,17779.0,10566.0,8475.0,7279.0,17657.0,11047.0,20373.0,13081.0,19159.0,18387.0,27095.0,16479.0,10427.0,8121.0,7317.0,10400.0,9987.0,9751.0,6628.0,13550.0,14458.0,19169.0,8805.0,25208.0,14685.0,8087.0,36716.0,11432.0,35294.0,35071.0,17813.0,28576.0,25936.0,14726.0,17052.0,17213.0,23703.0,13853.0,12580.0,18838.0,10077.0,25480.0,7484.0,17107.0,14324.0,11297.0,16411.0,18586.0,33336.0,19478.0,6293.0,16138.0,12101.0,10040.0,21582.0,19211.0,15605.0,12404.0,9532.0,12892.0,24607.0,10358.0,21373.0,12424.0,8149.0,15169.0,14977.0,11616.0,31417.0,20021.0,14765.0,17728.0,18152.0,24696.0,11661.0,18761.0,31295.0,10020.0,9491.0,19054.0,31903.0,16101.0,13733.0,16020.0,24541.0,11587.0,21477.0,20916.0,33699.0,27105.0,12807.0,14012.0,6672.0,15544.0,27342.0,6014.0,38198.0,6678.0,21965.0,18513.0,27451.0,13175.0,26686.0,8695.0,24607.0,17785.0,15561.0,13115.0,37066.0,14351.0,17933.0,13137.0,33826.0,12776.0,4553.0,15412.0,12911.0,12287.0,7077.0,19760.0,11820.0,46561.0,15431.0,14922.0,13809.0,27359.0,9726.0,8143.0,20164.0,28837.0,11341.0,18310.0,11433.0,20688.0,24235.0,22109.0,17559.0,23424.0,22348.0,37959.0,17822.0,19619.0,26707.0,19562.0,13113.0,20018.0,9093.0,16197.0,18257.0,18787.0,15291.0,18993.0,17348.0,9705.0,25597.0,18263.0,23589.0,15646.0,20202.0,13866.0,19238.0,24021.0,17836.0,17356.0,15718.0,15372.0,9195.0,9921.0,19449.0,15141.0,13988.0,9909.0,13714.0,21861.0,24464.0,12041.0,16127.0,16148.0,14671.0,17323.0,31751.0,11071.0,14378.0,11010.0,7101.0,21234.0,13669.0,33730.0,20470.0,28990.0,24143.0,9888.0,23798.0,20128.0,22060.0,24230.0,11056.0,15737.0,14566.0,8030.0,16114.0,12477.0,14415.0,9696.0,16038.0,13568.0,16594.0,72198.0,15667.0,15343.0,9214.0,17742.0,9075.0,16142.0,9649.0,17328.0,9501.0,17738.0,13295.0,19568.0,12778.0,14942.0,12792.0,11406.0,22892.0,13833.0,17459.0,26446.0,9739.0,20750.0,14678.0,14443.0,32881.0,21723.0,19459.0,12125.0,23398.0,13093.0,10221.0,18047.0,6383.0,9078.0,19934.0,15533.0,14559.0,25027.0,8893.0,20468.0,19448.0,10790.0,10310.0,17186.0,16494.0,30148.0,22658.0,19943.0,17391.0,13893.0,10096.0,12786.0,23676.0,19631.0,27250.0,15977.0,10246.0,21874.0,7217.0,21541.0,20613.0,18060.0,32423.0,14692.0,18275.0,7565.0,13931.0,26944.0,5581.0,10715.0,19132.0,14615.0,11788.0,10637.0,22405.0,19434.0,15271.0,15271.0,19047.0,11300.0,11300.0,15540.0,21039.0,20062.0,11107.0,24055.0,17325.0,12465.0,32049.0,28681.0,12905.0,12313.0,22956.0,17100.0,20563.0,14700.0,23786.0,20943.0,16532.0,15065.0,11025.0,10079.0,17802.0,17271.0,13548.0,10467.0,8256.0,13393.0,20735.0,13548.0,19599.0,22419.0,20319.0,15532.0,15886.0,31673.0,14484.0,18514.0,13068.0,10846.0,11809.0,17807.0,16925.0,28123.0,21211.0,22230.0,20896.0,20081.0,29511.0,15461.0,19246.0,22309.0,18195.0,30624.0,31397.0,19174.0,13701.0,11740.0,17076.0,19885.0,14490.0,21510.0,23574.0,17999.0,17518.0,19561.0,27844.0,14308.0,30825.0,10135.0,21181.0,14033.0,40803.0,20768.0,11509.0,17801.0,11980.0,18557.0,14307.0,18318.0,28528.0,17822.0,13162.0,19437.0,34411.0,15847.0,12701.0,8573.0,14821.0,30363.0,17395.0,18217.0,12311.0,31372.0,20369.0,21690.0,8563.0,27518.0,36001.0,18434.0,9444.0,14251.0,16060.0,13526.0,12138.0,14868.0,4572.0,14216.0,16751.0,15676.0,16354.0,19431.0,40397.0,33964.0,19991.0,30675.0,20530.0,21080.0,21009.0,6316.0,11768.0,11098.0,18392.0,7161.0,21296.0,17153.0,18660.0,16349.0,18379.0,14857.0,11986.0,34515.0,32670.0,15881.0,12030.0,23834.0,10495.0,17509.0,22258.0,14335.0,20121.0,31797.0,14135.0,21632.0,27460.0,13536.0,16307.0,9498.0,10746.0,18239.0,22251.0,8977.0,44695.0,18127.0,16505.0,10558.0,23507.0,14620.0,17954.0,11323.0,21496.0,21525.0,15437.0,27044.0,19253.0,14308.0,20974.0,30503.0,19578.0,14708.0,20666.0,19434.0,12691.0,13494.0,17238.0,7926.0,35268.0,11552.0,11302.0,40034.0,6365.0,11783.0,9330.0,6038.0,22892.0,14344.0,14230.0,10176.0,17135.0,21605.0,17534.0,14256.0,11683.0,11471.0,18289.0,16958.0,13150.0,14277.0,11899.0,23411.0,18750.0,16115.0,12126.0,22022.0,20078.0,15353.0,38792.0,14793.0,10088.0,18006.0,22498.0,25435.0,25346.0,31876.0,20399.0,21997.0,11486.0,27032.0,25193.0,18929.0,16147.0,12660.0,16249.0,18993.0,14127.0,17327.0,15108.0,30502.0,12263.0,11767.0,8275.0,10218.0,27675.0,31654.0,12313.0,44224.0,14631.0,9963.0,14514.0,23320.0,32927.0,15547.0,14194.0,14634.0,17644.0,15186.0,20475.0,18643.0,11526.0,19982.0,15651.0,14925.0,10119.0,32385.0,6813.0,30332.0,10501.0,13894.0,23484.0,27235.0,9287.0,12139.0,13499.0,15140.0,6729.0,14457.0,14299.0,17839.0,30169.0,8372.0,27801.0,18038.0,15436.0,22365.0,26110.0,12145.0,13040.0,21483.0,16268.0,15406.0,13621.0,11846.0,24404.0,26864.0,11706.0,14803.0,6690.0,18562.0,22265.0,16180.0,14071.0,22484.0,14067.0,21693.0,14023.0,22114.0,12701.0,14785.0,17893.0,21485.0,10906.0,13877.0,9632.0,9438.0,8727.0,15163.0,15779.0,7268.0,30144.0,11727.0,10305.0,13468.0,14830.0,31081.0,12911.0,9577.0,10264.0,17866.0,22168.0,10420.0,33548.0,31376.0,14774.0,8271.0,14079.0,18272.0,10163.0,29933.0,13174.0,15839.0,19529.0,9550.0,12721.0,14467.0,24359.0,8686.0,12562.0,10590.0,16276.0,15062.0,26179.0,16772.0,19694.0,25627.0,15860.0,16111.0,15511.0,16198.0,8859.0,14651.0,16182.0,11928.0,16021.0,11546.0,14786.0,20763.0,9783.0,13608.0,15569.0,11887.0,21798.0,29010.0,21218.0,25890.0,18173.0,13120.0,14658.0,9861.0,6669.0,32280.0,12850.0,10944.0,19325.0,11748.0,15075.0,14734.0,10448.0,12958.0,12197.0,9454.0,13409.0,13423.0,18468.0,15019.0,17716.0,25473.0,13883.0,17301.0,23557.0,10951.0,12673.0,15352.0,12019.0,14338.0,11144.0,13202.0,7518.0,21853.0,7286.0,15768.0,16554.0,14433.0,12093.0,17728.0,22335.0,11750.0,16390.0,21536.0,11040.0,12211.0,29328.0,9673.0,14084.0,10518.0,8853.0,13498.0,22145.0,11855.0,18709.0,22377.0,13179.0,7521.0,9315.0,14868.0,9957.0,18144.0,10269.0,13894.0,8272.0,22505.0,8236.0,14700.0,12470.0,10529.0,14177.0,23424.0,20116.0,18916.0,11353.0,19990.0,12642.0,16968.0,5979.0,17623.0,14728.0,10980.0,32383.0,19160.0,13767.0,18910.0,23261.0,22554.0,23777.0,12346.0,10065.0,14724.0,26703.0,27951.0,19653.0,15418.0,11190.0,28479.0,41946.0,31418.0,13579.0,18668.0,21625.0,21426.0,9163.0,15471.0,8495.0,15367.0,21208.0,13324.0,15182.0,23244.0,15898.0,11359.0,14660.0,11354.0,21645.0,17229.0,20607.0,18060.0,8428.0,13014.0,17480.0,6597.0,15321.0,22323.0,9625.0,20872.0,7383.0,12926.0,24091.0,17524.0,20786.0,12890.0,19024.0,17965.0,15645.0,12850.0,20520.0,14722.0,18850.0,10870.0,14196.0,37397.0,10510.0,11608.0,13851.0,13885.0,7345.0,11384.0,10816.0,16422.0,8925.0,17172.0,8808.0,21004.0,20988.0,15915.0,12971.0,26843.0,21305.0,29157.0,23481.0,15719.0,13049.0,11839.0,27421.0,13085.0,4236.0,14591.0,10037.0,10150.0,6289.0,14135.0,14135.0,9645.0,19458.0,19458.0,17152.0,16375.0,17293.0,16798.0,13663.0,13663.0,9666.0,13100.0,15449.0,20111.0,22277.0,20095.0,20290.0,16092.0,7800.0,18944.0,37202.0,17330.0,13160.0,20096.0,24509.0,25111.0,14598.0,17007.0,11664.0,17740.0,15366.0,14754.0,13405.0,19461.0,16508.0,20659.0,14116.0,11109.0,18715.0,13260.0,9272.0,20393.0,11355.0,9835.0,10463.0,13897.0,28527.0,13264.0,15131.0,12921.0,13279.0,10776.0,16042.0,16839.0,18947.0,15127.0,17485.0,13448.0,24785.0,12894.0,12451.0,27585.0,16776.0,19977.0,9288.0,9363.0,17511.0,26150.0,22008.0,19716.0,13567.0,6899.0,21815.0,19439.0,18358.0,13583.0,16121.0,16287.0,20076.0,25263.0,32208.0,12884.0,14739.0,8758.0,11771.0,13074.0,15733.0,39604.0,30638.0,13763.0,19921.0,10892.0,17388.0,15616.0,21466.0,16298.0,9210.0,14996.0,15434.0,16224.0,20111.0,32969.0,27585.0,31052.0,21286.0,10482.0,16348.0,11781.0,13619.0,13726.0,19891.0,15073.0,9230.0,13014.0,30440.0,11806.0,14618.0,18369.0,11953.0,13611.0,19749.0,11506.0,17097.0,17350.0,12449.0,17468.0,28381.0,14204.0,22107.0,13366.0,12555.0,17710.0,19913.0,21302.0,36157.0,18357.0,14816.0,18463.0,19034.0,18923.0,27437.0,15784.0,29791.0,34493.0,23226.0,13184.0,29511.0,19941.0,14335.0,10189.0,14153.0,14118.0,16102.0,28315.0,23912.0,33962.0,8350.0,13848.0,26423.0,25553.0,18796.0,17397.0,29304.0,21178.0,18509.0,15608.0,20195.0,37388.0,15370.0,14671.0,20803.0,19865.0,17018.0,6473.0,6901.0,37147.0,20012.0,10588.0,15718.0,20916.0,14280.0,16172.0,21176.0,17802.0,11600.0,40677.0,7244.0,33510.0,17004.0,11803.0,12611.0,18556.0,18882.0,14115.0,28338.0,14417.0,13782.0,16665.0,23116.0,18374.0,15060.0,21501.0,40868.0,15609.0,23098.0,16291.0,8046.0,12200.0,11914.0,19024.0,15256.0,30222.0,8271.0,17389.0,19689.0,24453.0,15287.0,9965.0,12067.0,13381.0,6114.0,10238.0,22088.0,23242.0,8244.0,18921.0,20847.0,17540.0,14843.0,15378.0,10696.0,13014.0,12265.0,28440.0,32140.0,7141.0,19505.0,15013.0,6346.0,18525.0,12368.0,14472.0,17881.0,15489.0,16297.0,12402.0,17876.0,7708.0,23701.0,12284.0,21497.0,17754.0,16278.0,16879.0,7290.0,17730.0,18869.0,18480.0,14730.0,17425.0,10348.0,10323.0,16644.0,10819.0,10920.0,19150.0,13287.0,17242.0,13592.0,24832.0,25511.0,15052.0,18340.0,10440.0,19852.0,13129.0,26550.0,10829.0,22502.0,20108.0,35353.0,13519.0,11758.0,11384.0,15504.0,15021.0,12931.0,20648.0,18398.0,16381.0,20835.0,16615.0,28067.0,21993.0,24630.0,13271.0,13319.0,9463.0,25699.0,11801.0,10005.0,9697.0,8056.0,19058.0,7884.0,9792.0,12377.0,14025.0,8199.0,19003.0,12566.0,18983.0,20502.0,14136.0,13849.0,19521.0,9520.0,22692.0,19549.0,20571.0,28928.0,22489.0,12741.0,19141.0,15217.0,11505.0,25702.0,14673.0,9498.0,13284.0,17504.0,11726.0,16066.0,18708.0,18034.0,14538.0,23015.0,23175.0,18863.0,23347.0,16651.0,22216.0,15876.0,13233.0,14879.0,15833.0,13392.0,18081.0,22088.0,12309.0,19502.0,14823.0,16246.0,16839.0,12613.0,13009.0,19936.0,15363.0,18439.0,45409.0,27075.0,19260.0,12206.0,4188.0,11662.0,11385.0,18929.0,8442.0,13085.0,22039.0,21852.0,12906.0,24337.0,32800.0,17507.0,14202.0,8713.0,14638.0,15068.0,21583.0,10288.0,16052.0,8676.0,8270.0,6763.0,25819.0,20084.0,21637.0,38886.0,16775.0,24497.0,14062.0,10285.0,9349.0,12412.0,10160.0,13033.0,10005.0,28837.0,9036.0,14716.0,15172.0,13365.0,11780.0,18031.0,12365.0,17051.0,9870.0,18512.0,15120.0,13192.0,17512.0,9573.0,26194.0,14176.0,16015.0,10888.0,8729.0,13336.0,7509.0,20727.0,15041.0,12190.0,26541.0,14103.0,14014.0,22030.0,10069.0,15386.0,15693.0,9235.0,13430.0,16128.0,15453.0,22849.0,26935.0,30500.0,16393.0,15023.0,16645.0,17542.0,15804.0,16164.0,36080.0,14009.0,18959.0,14455.0,22605.0,23588.0,11749.0,30408.0,7391.0,27723.0,18958.0,23799.0,24450.0,17390.0,14609.0,9878.0,25083.0,21976.0,22018.0,14698.0,18275.0,20061.0,15328.0,8575.0,8202.0,21923.0,5046.0,13192.0,19545.0,13798.0,15053.0,9434.0,19304.0,14671.0,16364.0,20637.0,15659.0,28264.0,17238.0,21218.0,32892.0,16014.0,19207.0,22303.0,32102.0,25069.0,6567.0,11250.0,12909.0,18017.0,19875.0,9603.0,18452.0,14421.0,32589.0,14280.0,9705.0,18293.0,25623.0,33590.0,11706.0,22605.0,15625.0,13011.0,16089.0,18289.0,39623.0,13659.0,15285.0,20502.0,16429.0,14501.0,19471.0,13380.0,14866.0,15275.0,11597.0,7391.0,27752.0,10315.0,16255.0,12421.0,20744.0,21488.0,30566.0,15940.0,18857.0,18627.0,16679.0,15245.0,14323.0,21928.0,21055.0,17474.0,23049.0,16184.0,18174.0,18067.0,12960.0,39431.0,26185.0,13097.0,15720.0,16645.0,5084.0,32445.0,22885.0,11806.0,50640.0,6857.0,13371.0,11579.0,10977.0,19734.0,19661.0,20116.0,17816.0,16776.0,22801.0,8477.0,15450.0,16195.0,17865.0,42461.0,20912.0,30477.0,23923.0,17088.0,16930.0,15520.0,13886.0,18812.0,14107.0,29934.0,6689.0,7823.0,6869.0,29878.0,15448.0,28468.0,11837.0,35515.0,9769.0,9600.0,30858.0,37190.0,21273.0,22734.0,35470.0,17463.0,19318.0,11405.0,27454.0,12619.0,18185.0,20973.0,11367.0,30613.0,20019.0,31511.0,20656.0,14895.0,20406.0,18501.0,14514.0,6074.0,12191.0,18222.0,9478.0,24445.0,23397.0,13010.0,20249.0,19970.0,8197.0,13486.0,15038.0,26756.0,17011.0,11091.0,16517.0,12276.0,15588.0,17050.0,18655.0,12665.0,20631.0,21029.0,16449.0,12690.0,20507.0,23382.0,27943.0,26548.0,29511.0,13804.0,14386.0,28480.0,9078.0,12345.0,7094.0,7490.0,18004.0,12622.0,8334.0,16854.0,12540.0,7342.0,25051.0,23813.0,30743.0,11869.0,16521.0,14294.0,13771.0,27022.0,25889.0,18184.0,9236.0,19919.0,13396.0,10333.0,10624.0,14095.0,28936.0,23505.0,15861.0,23505.0,12760.0,14241.0,14448.0,8964.0,12441.0,18301.0,17397.0,21920.0,6138.0,10845.0,16925.0,15636.0,10713.0,24335.0,29565.0,17112.0,13673.0,27249.0,17544.0,11262.0,19382.0,12785.0,23264.0,18188.0,14185.0,15702.0,16617.0,11028.0,22337.0,18577.0,14924.0,18801.0,20627.0,15187.0,14779.0,29210.0,12752.0,18470.0,12769.0,19614.0,8776.0,32942.0,17981.0,16962.0,18178.0,17521.0,14708.0,12215.0,20653.0,14371.0,20209.0,21741.0,18244.0,53519.0,25956.0,20045.0,11327.0,14614.0,14551.0,12266.0,17614.0,15797.0,22071.0,29286.0,17052.0,9690.0,31324.0,13342.0,15795.0,11231.0,18325.0,20325.0,18751.0,16889.0,24326.0,8987.0,22505.0,20631.0,32449.0,15933.0,18808.0,33369.0,16151.0,21057.0,20546.0,12703.0,10666.0,18641.0,16437.0,16180.0,13137.0,30515.0,18922.0,6266.0,7278.0,20558.0,18736.0,25068.0,21501.0,9846.0,10441.0,17623.0,25139.0,24287.0,12311.0,22390.0,15997.0,11411.0,32467.0,10305.0,28384.0,22860.0,21961.0,7556.0,22870.0,10717.0,23527.0,26394.0,10812.0,45334.0,18249.0,19602.0,19864.0,16121.0,19854.0,9454.0,21363.0,27936.0,24142.0,10122.0,13347.0,19575.0,12187.0,5769.0,13184.0,12214.0,30738.0,15020.0,15025.0,14750.0,16479.0,17352.0,13442.0,12714.0,12788.0,14738.0,24059.0,32196.0,13333.0,11212.0,5886.0,15324.0,28010.0,16485.0,23252.0,9023.0,14194.0,12684.0,9118.0,16153.0,19913.0,12218.0,15981.0,9267.0,20390.0,20743.0,18308.0,10546.0,13091.0,14137.0,8435.0,28645.0,18420.0,5826.0,11367.0,13212.0,17846.0,9392.0,10912.0,9648.0,10589.0,7355.0,21233.0,10209.0,14558.0,7023.0,11075.0,9070.0,15803.0,14697.0,16946.0,27116.0,15103.0,18677.0,15800.0,15749.0,11782.0,12299.0,51212.0,23693.0,23421.0,23144.0,36012.0,29762.0,19078.0,7570.0,8872.0,19559.0,19166.0,7409.0,22424.0,19644.0,20314.0,38283.0,27044.0,11955.0,17878.0,14114.0,16370.0,25691.0,23733.0,20413.0,17144.0,47618.0,22321.0,14822.0,9616.0,23094.0,26478.0,8810.0,19142.0,26838.0,42710.0,15805.0,19003.0,25143.0,23042.0,25095.0,32689.0,49854.0,10668.0,11879.0,28720.0,33211.0,14307.0,13827.0,20202.0,16491.0,18602.0,30832.0,5572.0,14354.0,11444.0,29695.0,18612.0,7019.0,21449.0,16117.0,8937.0,12436.0,14086.0,14479.0,13401.0,30561.0,11751.0,19331.0,19898.0,28722.0,7374.0,23106.0,7067.0,12549.0,9183.0,16621.0,29283.0,23787.0,12201.0,10670.0,17816.0,12513.0,22497.0,12130.0,19374.0,10894.0,13050.0,25683.0,9383.0,22188.0,16052.0,15977.0,19373.0,12179.0,23691.0,12193.0,15720.0,14787.0,17521.0,12001.0,14179.0,12540.0,13706.0,21736.0,10205.0,27331.0,21533.0,17451.0,13277.0,12847.0,16054.0,18431.0,8455.0,14771.0,11723.0,14885.0,23182.0,19629.0,10049.0,13998.0,13263.0,22447.0,17319.0,32987.0,16640.0,18849.0,21168.0,30435.0,15807.0,17065.0,8317.0,14546.0,10344.0,13645.0,33356.0,17390.0,19049.0,20819.0,24670.0,10394.0,21385.0,10522.0,11131.0,21026.0,18175.0,24184.0,13912.0,15854.0,16829.0,17678.0,14641.0,13600.0,14883.0,21700.0,12094.0,12276.0,18288.0,14348.0,15983.0,18717.0,17701.0,14492.0,11290.0,25871.0,19892.0,9343.0,18078.0,26391.0,7106.0,12344.0,8638.0,12510.0,30984.0,16924.0,26358.0,13990.0,16180.0,14997.0,15548.0,13888.0,21793.0,12840.0,16346.0,33359.0,15012.0,12866.0,12943.0,11975.0,15303.0,38809.0,14500.0,6682.0,22571.0,11650.0,11225.0,6437.0,22886.0,21633.0,34816.0,16179.0,15561.0,16000.0,13110.0,12197.0,15175.0,18303.0,13019.0,16440.0,17981.0,23751.0,24683.0,12721.0,12393.0,14288.0,9281.0,12965.0,12793.0,27951.0,11585.0,13233.0,17653.0,7007.0,21456.0,22818.0,25341.0,10965.0,25938.0,21620.0,11717.0,20802.0,10357.0,6939.0,11089.0,19355.0,15109.0,7170.0,8373.0,15490.0,11205.0,32582.0,15097.0,16457.0,11167.0,21053.0,22159.0,13408.0,17076.0,29639.0,12409.0,16398.0,15863.0,11718.0,11002.0,8810.0,14438.0,15322.0,9636.0,14960.0,13179.0,17317.0,9452.0,7041.0,8211.0,15475.0,27068.0,18069.0,21142.0,18557.0,9639.0,16212.0,18214.0,12099.0,8584.0,15521.0,14919.0,17027.0,17203.0,16747.0,14713.0,14250.0,16986.0,9368.0,22802.0,9617.0,19887.0,11939.0,7890.0,14851.0,16498.0,13937.0,11280.0,18883.0,22123.0,26012.0,15601.0,21328.0,17066.0,12933.0,18373.0,13774.0,16855.0,19963.0,14685.0,23676.0,20058.0,18814.0,13574.0,7542.0,16142.0,14071.0,20861.0,13554.0,46038.0,19258.0,25553.0,2922.0,24666.0,10143.0,40762.0,9366.0,12785.0,19335.0,21838.0,18431.0,20853.0,12037.0,13025.0,22362.0,17811.0,17915.0,13138.0,9943.0,11713.0,23320.0,11360.0,12521.0,14669.0,16890.0,16890.0,13436.0,14217.0,21024.0,8585.0,18346.0,16526.0,15333.0,9404.0,27843.0,12757.0,18674.0,19695.0,14033.0,26116.0,21424.0,15873.0,11121.0,14195.0,8413.0,11025.0,22032.0,12754.0,14664.0,3348.0,14307.0,11120.0,23772.0,17151.0,23568.0,13543.0,10073.0,18105.0,20588.0,19730.0,33664.0,16062.0,10996.0,20599.0,23007.0,24218.0,18773.0,18155.0,12778.0,8878.0,5698.0,34934.0,18941.0,14932.0,19768.0,13309.0,19188.0,11364.0,9185.0,16550.0,8383.0,12356.0,10364.0,12039.0,7343.0,27182.0,18930.0,35568.0,19235.0,21717.0,17960.0,14162.0,12637.0,9715.0,16755.0,29173.0,30106.0,13847.0,27598.0,24165.0,26955.0,15433.0,10747.0,10717.0,12588.0,18505.0,11702.0,20104.0,19233.0,13549.0,10975.0,34231.0,21268.0,15593.0,23181.0,16510.0,17128.0,16471.0,9403.0,15346.0,11391.0,26906.0,20552.0,11747.0,19257.0,20949.0,9239.0,9941.0,20813.0,20858.0,12872.0,10524.0,25634.0,10822.0,19659.0,32712.0,18062.0,7249.0,17039.0,12998.0,10385.0,23324.0,13235.0,15822.0,17679.0,13158.0,15462.0,18572.0,8776.0,12773.0,13925.0,22862.0,17972.0,18467.0,14552.0,16865.0,15966.0,15036.0,10453.0,16529.0,12940.0,16074.0,6600.0,13138.0,25257.0,7965.0,40221.0,7213.0,26411.0,18991.0,8737.0,27285.0,22874.0,8913.0,8052.0,19007.0,7774.0,13764.0,18350.0,22443.0,16082.0,10969.0,20718.0,19141.0,18096.0,11816.0,21045.0,25370.0,14323.0,11780.0,15509.0,12683.0,14265.0,14210.0,18696.0,25992.0,13873.0,27367.0,5519.0,11100.0,8454.0,9034.0,21205.0,14063.0,20194.0,34402.0,12675.0,17605.0,18223.0,20084.0,18655.0,11784.0,12154.0,10605.0,22800.0,16149.0,9898.0,7026.0,12738.0,10707.0,17419.0,15838.0,10323.0,14833.0,8042.0,8925.0,13827.0,18613.0,7377.0,16156.0,11729.0,7592.0,14514.0,11131.0,25527.0,11808.0,15096.0,13796.0,27888.0,12601.0,14137.0,12443.0,32447.0,15199.0,13823.0,18553.0,18249.0,21055.0,18619.0,13049.0,11307.0,18575.0,9592.0,19830.0,26351.0,10868.0,9341.0,14552.0,34595.0,20968.0,23681.0,8021.0,20017.0,21767.0,43377.0,6872.0,9677.0,17447.0,17842.0,35392.0,9916.0,14174.0,18321.0,13438.0,16739.0,8855.0,18894.0,25672.0,20417.0,9966.0,18362.0,43636.0,23096.0,13634.0,11021.0,15318.0,18162.0,10952.0,19129.0,16645.0,4057.0,21431.0,25229.0,38393.0,11043.0,11177.0,15389.0,21701.0,16545.0,19039.0,20899.0,17146.0,12810.0,16569.0,31377.0,22731.0,17718.0,10312.0,15233.0,10661.0,5207.0,8558.0,11947.0,18023.0,10600.0,9443.0,19332.0,12660.0,26906.0,13972.0,11435.0,24741.0,10765.0,13026.0,31260.0,12773.0,28429.0,19600.0,7694.0,8691.0,9203.0,13831.0,27771.0,18346.0,17838.0,15724.0,10453.0,10206.0,14151.0,18632.0,9673.0,30267.0,25552.0,24144.0,12989.0,18903.0,31559.0,12908.0,14573.0,14979.0,14979.0,27979.0,32862.0,20844.0,14137.0,17852.0,25704.0,15679.0,13306.0,15014.0,14888.0,13893.0,23171.0,9562.0,9189.0,18220.0,21183.0,13037.0,9922.0,14715.0,9117.0,15514.0,11619.0,15207.0,10103.0,15200.0,9248.0,15559.0,14030.0,11877.0,12903.0,10226.0,20493.0,7239.0,12564.0,23582.0,11613.0,32504.0,17922.0,23764.0,43144.0,12752.0,14052.0,18697.0,32048.0,15216.0,15597.0,17231.0,21236.0,18274.0,21224.0,22278.0,16183.0,15377.0,14564.0,12910.0,13854.0,16853.0,30485.0,17944.0,21043.0,12938.0,10632.0,21028.0,22929.0,23773.0,23833.0,4239.0,12009.0,19034.0,18666.0,20079.0,21886.0,7812.0,14366.0,15751.0,30802.0,23434.0,18524.0,23484.0,7005.0,8613.0,13486.0,28952.0,10874.0,13994.0,24242.0,17337.0,15039.0,18903.0,43010.0,10950.0,35907.0,10903.0,13206.0,38570.0,13433.0,19355.0,13114.0,20593.0,16411.0,17321.0,16036.0,63469.0,14753.0,31051.0,24768.0,23673.0,15555.0,26979.0,26750.0,11099.0,19262.0,21262.0,12578.0,19390.0,21655.0,9625.0,25307.0,19645.0,16860.0,16689.0,13136.0,10487.0,15052.0,21039.0,19217.0,19470.0,19019.0,14935.0,9700.0,21196.0,20802.0,18292.0,23594.0,7401.0,12057.0,40075.0,22518.0,24906.0,19997.0,32051.0,21080.0,8128.0,12404.0,17781.0,24511.0,23379.0,31176.0,12196.0,14874.0,12737.0,10076.0,19898.0,19950.0,20642.0,10609.0,12255.0,26249.0,18436.0,29343.0,23027.0,17867.0,18410.0,28066.0,16911.0,16810.0,10091.0,14854.0,15361.0,8753.0,19910.0,11600.0,17625.0,25238.0,8855.0,14154.0,29558.0,25219.0,21159.0,17777.0,8131.0,25359.0,18552.0,33367.0,13326.0,19629.0,20635.0,14657.0,20247.0,16399.0,32056.0,23305.0,14631.0,22566.0,11325.0,7985.0,14353.0,8637.0,14205.0,32724.0,19842.0,8532.0,14238.0,26084.0,13034.0,36332.0,15243.0,7558.0,14284.0,24021.0,14821.0,16366.0,19385.0,8305.0,14889.0,11569.0,38294.0,13502.0,24940.0,10702.0,17214.0,15196.0,33024.0,15180.0,30704.0,19830.0,33700.0,26351.0,15856.0,12548.0,20718.0,19463.0,13589.0,14738.0,15657.0,18866.0,17370.0,8696.0,14620.0,28487.0,24264.0,24174.0,21197.0,16001.0,9443.0,16805.0,16428.0,19855.0,8288.0,10695.0,25615.0,26545.0,9393.0,13680.0,25402.0,23555.0,21829.0,13747.0,60201.0,21981.0,25762.0,18603.0,25078.0,15798.0,36787.0,25375.0,37206.0,39599.0,17343.0,10833.0,25236.0,28159.0,33398.0,14465.0,28279.0,28433.0,20212.0,17430.0,16070.0,20710.0,16742.0,21227.0,13456.0,13101.0,16632.0,23351.0,11286.0,10837.0,14806.0,26160.0,14332.0,18317.0,11686.0,22020.0,39360.0,13192.0,20299.0,34988.0,10557.0,45228.0,34491.0,11006.0,9672.0,18167.0,11613.0,12650.0,24580.0,17095.0,14575.0,26599.0,14271.0,11707.0,13813.0,13813.0,10273.0,27415.0,10211.0,20099.0,12658.0,27024.0,17339.0,14288.0,14288.0,13382.0,10882.0,42892.0,25642.0,10832.0,19336.0,22267.0,22691.0,13054.0,17326.0,14347.0,8160.0,26410.0,9979.0,13944.0,14125.0,15966.0,14326.0,22503.0,12605.0,11015.0,18668.0,9598.0,23046.0,21038.0,20411.0,22356.0,32085.0,16886.0,36665.0,12812.0,14454.0,13705.0,17779.0,17164.0,14274.0,19391.0,30987.0,17110.0,19692.0,18901.0,21162.0,25400.0,23589.0,6867.0,15804.0,8947.0,23611.0,21954.0,14181.0,21755.0,6348.0,15545.0,14373.0,20637.0,12922.0,17619.0,16962.0,22666.0,20126.0,10947.0,24576.0,17302.0,11645.0,13534.0,20507.0,20051.0,26055.0,24640.0,15059.0,18251.0,15621.0,13787.0,22040.0,18572.0,25153.0,9031.0,18187.0,22734.0,25879.0,17746.0,7321.0,21264.0,16650.0,14979.0,11192.0,8940.0,19353.0,27385.0,29832.0,8830.0,17058.0,9838.0,20991.0,5795.0,28161.0,12222.0,25598.0,22026.0,9561.0,12178.0,15604.0,12015.0,16121.0,19004.0,10031.0,11584.0,33622.0,17957.0,19030.0,19113.0,11174.0,30142.0,15487.0,7064.0,17032.0,12452.0,23421.0,12278.0,19805.0,19628.0,28214.0,15238.0,17780.0,26747.0,20646.0,10145.0,21482.0,13355.0,10148.0,25031.0,9251.0,11748.0,12709.0,23243.0,15865.0,50558.0,13923.0,28786.0,29371.0,12409.0,23966.0,12413.0,11592.0,14445.0,21277.0,11263.0,15420.0,11796.0,11437.0,24394.0,15405.0,9702.0,14096.0,15809.0,25360.0,9307.0,31337.0,14745.0,12909.0,17400.0,9162.0,28589.0,20379.0,15034.0,18888.0,15365.0,18421.0,21630.0,26030.0,17830.0,12630.0,28206.0,15460.0,21867.0,15220.0,16015.0,11849.0,36131.0,21782.0,20530.0,11283.0,21138.0,22847.0,10797.0,25248.0,11861.0,16801.0,17729.0,14227.0,13963.0,22985.0,13305.0,17585.0,21086.0,10007.0,14587.0,32515.0,20823.0,38241.0,20624.0,13205.0,11761.0,19306.0,9065.0,9065.0,24545.0,18057.0,23186.0,20946.0,20989.0,6065.0,6065.0,13652.0,15381.0,53997.0,47935.0,16909.0,11844.0,17480.0,18420.0,19956.0,16439.0,10735.0,19128.0,19400.0,7221.0,23518.0,41042.0,15888.0,19934.0,24594.0,9565.0,9264.0,31192.0,26543.0,25078.0,31900.0,19201.0,9321.0,29439.0,13510.0,30507.0,25266.0,13071.0,21700.0,17929.0,14184.0,16115.0,16317.0,18541.0,22117.0,18270.0,27959.0,21557.0,25531.0,18569.0,16364.0,32713.0,17353.0,14985.0,6583.0,13812.0,19393.0,7124.0,25247.0,21063.0,28677.0,16243.0,6969.0,27460.0,8318.0,26554.0,11395.0,11991.0,11881.0,5473.0,36950.0,17310.0,17541.0,20149.0,19007.0,11963.0,10975.0,45354.0,19017.0,12558.0,32601.0,14122.0,17583.0,20464.0,38727.0,36537.0,14057.0,16374.0,19343.0,32141.0,42200.0,21043.0,7958.0,20870.0,17444.0,20565.0,9331.0,19917.0,19320.0,16263.0,18981.0,13339.0,34513.0,28273.0,23234.0,18614.0,37627.0,21167.0,12650.0,7130.0,15090.0,21592.0,19315.0,9283.0,22750.0,13092.0,19708.0,23739.0,11775.0,15601.0,21646.0,12766.0,27045.0,12193.0,14943.0,19466.0,10980.0,18505.0,23109.0,18726.0,27891.0,33991.0,24267.0,26260.0,21298.0,34030.0,16460.0,7565.0,14900.0,22924.0,38813.0,15616.0,27033.0,21568.0,27569.0,21363.0,23962.0,34164.0,24141.0,13803.0,9509.0,25203.0,13266.0,19654.0,18073.0,25749.0,14858.0,14062.0,24068.0,15609.0,17857.0,14466.0,20350.0,19391.0,11483.0,23564.0,17899.0,19759.0,10902.0,14552.0,25906.0,24990.0,11919.0,36819.0,23795.0,10501.0,34378.0,17198.0,21504.0,13399.0,63780.0,13153.0,20077.0,21526.0,26464.0,13656.0,14750.0,19955.0,19379.0,25487.0,18963.0,11420.0,7272.0,10168.0,15782.0,7582.0,31176.0,23103.0,19942.0,11569.0,32540.0,4602.0,21950.0,13141.0,13142.0,23000.0,11743.0,14897.0,39334.0,21184.0,13402.0,14605.0,19398.0,19509.0,36327.0,43915.0,16137.0,26346.0,18374.0,30997.0,10339.0,26923.0,17012.0,17619.0,17463.0,17718.0,13524.0,19212.0,29372.0,21018.0,11792.0,21942.0,31594.0,19365.0,15919.0,20526.0,11251.0,22795.0,26907.0,25922.0,17830.0,8788.0,11172.0,10105.0,12136.0,14085.0,10566.0,13491.0,10667.0,21637.0,16203.0,11468.0,15522.0,20584.0,36094.0,8493.0,27995.0,11859.0,39071.0,34595.0,14092.0,15948.0,11594.0,36190.0,18082.0,9640.0,29433.0,19863.0,19731.0,14712.0,17959.0,21855.0,24770.0,27140.0,15678.0,11848.0,14549.0,20423.0,11820.0,20962.0,13187.0,16624.0,20768.0,11569.0,17472.0,21529.0,26840.0,14713.0,17949.0,28854.0,23551.0,6702.0,13006.0,11080.0,17979.0,16098.0,29826.0,20994.0,16571.0,24979.0,17430.0,39823.0,12871.0,16646.0,22625.0,29687.0,31694.0,21135.0,26294.0,19945.0,24960.0,35285.0,14542.0,15448.0,9299.0,27447.0,28964.0,21061.0,20210.0,46526.0,18036.0,25412.0,13566.0,18057.0,22202.0,6189.0,26310.0,21964.0,25030.0,13107.0,21632.0,39602.0,10445.0,21170.0,6588.0,16091.0,30149.0,13223.0,11224.0,11644.0,20699.0,17123.0,19014.0,16333.0,29286.0,21112.0,18550.0,8296.0,10812.0,12944.0,22736.0,22329.0,10814.0,8687.0,33188.0,28850.0,15928.0,23278.0,20613.0,18320.0,44819.0,17504.0,43519.0,13128.0,20060.0,22569.0,36467.0,25052.0,26274.0,16140.0,26323.0,16110.0,15355.0,11578.0,14900.0,19166.0,20343.0,29601.0,42257.0,15821.0,8082.0,16194.0,15125.0,32502.0,17654.0,11123.0,16823.0,43715.0,10659.0,28411.0,15037.0,6286.0,23681.0,11005.0,18838.0,11240.0,16840.0,28624.0,23434.0,20512.0,32246.0,29314.0,22470.0,40590.0,24010.0,21522.0,24860.0,12488.0,9935.0,25981.0,25368.0,5633.0,13134.0,16068.0,22102.0,16585.0,4338.0,15626.0,35147.0,16760.0,25910.0,25424.0,14750.0,10727.0,22600.0,18742.0,21223.0,26874.0,34334.0,22010.0,12981.0,26925.0,9779.0,10879.0,17003.0,19007.0,18177.0,12869.0,10119.0,13198.0,14999.0,29518.0,21808.0,12835.0,22427.0,42212.0,28380.0,36613.0,14713.0,23428.0,25321.0,40903.0,42418.0,30540.0,35572.0,13755.0,16910.0,24668.0,17768.0,25701.0,18432.0,37265.0,21248.0,13328.0,9710.0,12540.0,30562.0,9497.0,24251.0,6772.0,31842.0,31314.0,38024.0,27803.0,28529.0,11860.0,19255.0,7138.0,34913.0,15645.0,26599.0,37538.0,24600.0,11847.0,12736.0,12025.0,34268.0,23415.0,11788.0,31499.0,13269.0,14952.0,13062.0,20050.0,25479.0,31891.0,25588.0,9292.0,15314.0,22956.0,22390.0,28381.0,30617.0,23317.0,20858.0,26228.0,34062.0,20854.0,19725.0,25951.0,27829.0,17949.0,17526.0,15631.0,10844.0,17953.0,11494.0,12900.0,13431.0,6746.0,15374.0,10277.0,11737.0,7726.0,17738.0,13259.0,20675.0,25745.0,13809.0,15690.0,24609.0,32727.0,25427.0,12725.0,28045.0,18658.0,17866.0,22331.0,39699.0,19516.0,15782.0,35130.0,15990.0,29013.0,18924.0,14861.0,14881.0,14854.0,27753.0,19575.0,19018.0,18296.0,25237.0,26581.0,22020.0,44664.0,21464.0,17364.0,23718.0,19543.0,32585.0,19717.0,18609.0,17921.0,28930.0,29861.0,39691.0,20366.0,18253.0,23337.0,22628.0,16078.0,11473.0,53664.0,15339.0,22078.0,14072.0,13770.0,17090.0,25973.0,31949.0,9758.0,20309.0,19234.0,19210.0,30157.0,23723.0,19022.0,14855.0,18932.0,13423.0,36181.0,41049.0,17351.0,15522.0,30626.0,15581.0,8791.0,12279.0,22637.0,15043.0,24981.0,25858.0,16368.0,19514.0,11916.0,20055.0,14467.0,44700.0,15668.0,22953.0,20397.0,24425.0,10713.0,16709.0,17282.0,15819.0,14041.0,23076.0,18092.0,23206.0,46805.0,20899.0,8742.0,27839.0,22762.0,43412.0,11651.0,32510.0,33037.0,40044.0,25766.0,29239.0,11023.0,26050.0,11235.0,25457.0,9560.0,42488.0,48732.0,21874.0,18987.0,10192.0,16652.0,9160.0,24905.0,19719.0,27846.0,16443.0,27498.0,20909.0,41418.0,19471.0,17064.0,12494.0,13905.0,24859.0,14071.0,24750.0,15703.0,19352.0,7938.0,7878.0,27565.0,26484.0,16222.0,21980.0,23368.0,28198.0,15307.0,31882.0,23105.0,12312.0,13076.0,20270.0,16440.0,48286.0,8614.0,25491.0,25921.0,53713.0,7053.0,23758.0,38374.0,21216.0,27689.0,10050.0,23296.0,38991.0,22178.0,13726.0,22216.0,14255.0,20862.0,14851.0,18001.0,8735.0,16994.0,24658.0,16855.0,6844.0,18283.0,6202.0,14391.0,15065.0,9250.0,26408.0,13005.0,18160.0,20980.0,31894.0,29677.0,31323.0,16615.0,8955.0,9912.0,13873.0,38545.0,29223.0,17932.0,19304.0,16672.0,23804.0,21072.0,6222.0,46959.0,11460.0,16365.0,23257.0,30791.0,13029.0,21101.0,31035.0,22884.0,19147.0,40732.0,17778.0,17024.0,21450.0,25890.0,41171.0,9153.0,17185.0,25643.0,21958.0,15875.0,10611.0,39828.0,16372.0,23949.0,21344.0,33263.0,22979.0,17432.0,17754.0,14315.0,13595.0,13039.0,14579.0,57471.0,26163.0,23010.0,20380.0,32069.0,18775.0,31128.0,11880.0,31636.0,27885.0,8672.0,21110.0,13016.0,28332.0,21004.0,12323.0,12227.0,10605.0,17520.0,26031.0,18066.0,15541.0,32966.0,16776.0,41209.0,21695.0,11033.0,25415.0,17397.0,20854.0,17570.0,28868.0,18407.0,29923.0,18166.0,20109.0,32721.0,20020.0,18195.0,21498.0,28881.0,10061.0,38285.0,28100.0,13251.0,23227.0,14085.0,12667.0,23579.0,9682.0,31329.0,59063.0,22278.0,25875.0,19610.0,13263.0,21556.0,26889.0,20867.0,38918.0,14619.0,23918.0,15771.0,17422.0,26249.0,39170.0,20580.0,15219.0,35161.0,11579.0,30450.0,12252.0,18420.0,10736.0,10787.0,46398.0,26668.0,7031.0,28855.0,11764.0,21789.0,40169.0,12143.0,18630.0,14663.0,27972.0,12903.0,25566.0,31920.0,13768.0,4631.0,17516.0,36517.0,33364.0,8864.0,18482.0,25833.0,22451.0,21896.0,27629.0,14494.0,25936.0,17545.0,23434.0,21057.0,31822.0,21699.0,31326.0,20492.0,17546.0,26369.0,24995.0,29495.0,16381.0,13070.0,29311.0,23269.0,19632.0,15425.0,19310.0,16968.0,15065.0,46416.0,20942.0,20857.0,8976.0,20108.0,56968.0,18674.0,20186.0,12200.0,18872.0,25013.0,26423.0,16795.0,22261.0,14054.0,35871.0,30864.0,19676.0,16268.0,29966.0,41388.0,8776.0,25544.0,32531.0,7511.0,33332.0,15571.0,16559.0,28502.0,24122.0,16793.0,16108.0,12030.0,16942.0,22367.0,19768.0,18894.0,13263.0,37089.0,35354.0,15929.0,15407.0,27681.0,14461.0,17465.0,19855.0,28919.0,14050.0,10024.0,11192.0,18641.0,20929.0,18679.0,30802.0,33226.0,15702.0,17216.0,23422.0,29330.0,14462.0,24018.0,25346.0,14015.0,25977.0,31976.0,13539.0,19562.0,11519.0,16554.0,12597.0,31667.0,18520.0,12665.0,15071.0,12024.0,9446.0,26452.0,13226.0,17035.0,23576.0,17694.0,10215.0,17424.0,10180.0,12022.0,18428.0,28098.0,15372.0,13158.0,19766.0,22250.0,24804.0,24188.0,16989.0,14073.0,24440.0,27569.0,22213.0,28204.0,30141.0,20951.0,17468.0,19813.0,8196.0,14731.0,13254.0,31347.0,25370.0,16707.0,22394.0,10704.0,12308.0,34225.0,13501.0,21314.0,23311.0,30049.0,28120.0,18142.0,18263.0,15486.0,24047.0,37394.0,29936.0,14410.0,21666.0,8468.0,23931.0,11470.0,27562.0,5719.0,30088.0,30326.0,19155.0,12534.0,38421.0,14870.0,21403.0,39643.0,21684.0,24852.0,23008.0,25859.0,19537.0,12224.0,15639.0,18394.0,21116.0,11801.0,22923.0,17947.0,14914.0,12123.0,17668.0,20233.0,18821.0,18933.0,22348.0,19546.0,21150.0,23965.0,15551.0,22892.0,13625.0,15268.0,19032.0,16579.0,10738.0,28289.0,34735.0,7750.0,10131.0,18123.0,29843.0,12392.0,24391.0,17266.0,20834.0,17727.0,25920.0,11294.0,27050.0,15989.0,22191.0,18400.0,39567.0,15994.0,17504.0,23348.0,29930.0,10717.0,19812.0,27389.0,24258.0,15940.0,12274.0,20071.0,11864.0,12918.0,28407.0,12628.0,23714.0,12138.0,26794.0,18417.0,31310.0,41481.0,24316.0,27095.0,12805.0,19908.0,31082.0,28650.0,17069.0,20619.0,20465.0,23133.0,14734.0,21942.0,19727.0,30517.0,26233.0,20928.0,14758.0,58356.0,16819.0,19721.0,31174.0,12068.0,24313.0,27025.0,17423.0,17496.0,17970.0,10701.0,17011.0,10848.0,21373.0,25302.0,13880.0,11457.0,17159.0,36119.0,18165.0,21629.0,19320.0,17070.0,9614.0,37796.0,22890.0,33369.0,34188.0,41882.0,24193.0,26472.0,18302.0,28135.0,30875.0,22058.0,20934.0,9464.0,26042.0,17725.0,8576.0,24462.0,31517.0,17599.0,10773.0,14249.0,15035.0,19401.0,33931.0,27593.0,21394.0,15997.0,19607.0,29354.0,17070.0,17172.0,31575.0,19310.0,16630.0,11995.0,16979.0,47255.0,18907.0,12704.0,31989.0,15589.0,16504.0,14074.0,16954.0,22163.0,8235.0,13640.0,31528.0,11373.0,16858.0,15654.0,12760.0,10696.0,31170.0,14150.0,18217.0,16390.0,21847.0,38345.0,17854.0,22995.0,17638.0,29966.0,29411.0,19686.0,17357.0,18040.0,9958.0,33704.0,17437.0,23303.0,21680.0,12727.0,21623.0,14723.0,21853.0,18729.0,19558.0,10738.0,15217.0,11360.0,18399.0,24180.0,16050.0,21159.0,19653.0,23351.0,15992.0,12618.0,33132.0,11391.0,17789.0,20735.0,10689.0,14858.0,11404.0,55378.0,18314.0,13482.0,23209.0,26338.0,15536.0,14133.0,28283.0,27531.0,22764.0,20399.0,4590.0,36224.0,7215.0,19916.0,31637.0,37396.0,19509.0,18188.0,10249.0,10536.0,17751.0,12420.0,20297.0,20316.0,23521.0,21502.0,14290.0,15235.0,10144.0,10718.0,12689.0,15946.0,13373.0,14102.0,13088.0,31150.0,14178.0,22967.0,13625.0,19259.0,15437.0,13949.0,19271.0,27471.0,17310.0,14436.0,27107.0,16317.0,32900.0,41930.0,31701.0,19152.0,25161.0,17582.0,14079.0,14460.0,22300.0,28150.0,21966.0,15591.0,30765.0,21427.0,10268.0,22666.0,11615.0,19532.0,29471.0,15174.0,6551.0,10877.0,27566.0,21779.0,18684.0,17397.0,29138.0,31693.0,21263.0,7152.0,29866.0,16254.0,22526.0,17218.0,33632.0,28118.0,15408.0,62364.0,21907.0,18252.0,27405.0,29478.0,39485.0,19233.0,22302.0,9517.0,11841.0,38833.0,36788.0,18759.0,20008.0,28942.0,15282.0,19577.0,25250.0,18588.0,17035.0,12330.0,16030.0,22175.0,15551.0,15017.0,17729.0,16229.0,20700.0,11383.0,28494.0,14416.0,26385.0,7270.0,13793.0,20208.0,11760.0,14140.0,10778.0,14970.0,16574.0,19896.0,32233.0,34197.0,22128.0,15948.0,13701.0,24555.0,9280.0,6710.0,19187.0,15168.0,14092.0,36202.0,31207.0,15278.0,8860.0,15287.0,24949.0,20710.0,15247.0,16334.0,8814.0,16197.0,24563.0,21386.0,14166.0,24832.0,25206.0,20534.0,17359.0,19182.0,21163.0,17425.0,22925.0,18075.0,27647.0,12299.0,23891.0,14185.0,14502.0,5783.0,18590.0,17710.0,10052.0,15363.0,30639.0,21264.0,19725.0,20502.0,22082.0,17246.0,31459.0,36947.0,29276.0,14486.0,15653.0,26138.0,9690.0,12364.0,10299.0,16228.0,41582.0,35041.0,28204.0,15840.0,14324.0,11107.0,20701.0,12755.0,34793.0,25416.0,18959.0,14903.0,16188.0,32744.0,24964.0,18917.0,12943.0,38174.0,21486.0,20332.0,22764.0,16402.0,40786.0,15259.0,18384.0,14085.0,11214.0,18535.0,7841.0,15718.0,15581.0,11803.0,12921.0,21614.0,35444.0,20624.0,13394.0,12596.0,29378.0,22092.0,13959.0,14947.0,26208.0,16652.0,18354.0,22011.0,17875.0,15995.0,24927.0,11024.0,18354.0,18033.0,18221.0,19193.0,32132.0,26670.0,15253.0,27826.0,22108.0,12089.0,16940.0,27610.0,29244.0,30058.0,37291.0,17759.0,53509.0,20017.0,35620.0,14566.0,24278.0,20833.0,13570.0,31716.0,20635.0,32055.0,15550.0,22211.0,21697.0,26008.0,18790.0,19049.0,21148.0,31141.0,14053.0,21456.0,31552.0,9783.0,14769.0,12549.0,19692.0,28669.0,12814.0,47505.0,16282.0,15936.0,19113.0,23170.0,28251.0,22728.0,27357.0,29502.0,16822.0,13579.0,18617.0,10266.0,14184.0,19006.0,34050.0,12742.0,18368.0,11317.0,19538.0,17890.0,23672.0,20964.0,25607.0,19245.0,11118.0,14976.0,19862.0,21664.0,11111.0,16911.0,9733.0,17448.0,27798.0,17294.0,19442.0,28657.0,26304.0,14011.0,20583.0,7895.0,14464.0,17381.0,20214.0,27356.0,17376.0,52529.0,22709.0,12216.0,20156.0,21953.0,12962.0,12620.0,17738.0,39049.0,9548.0,28296.0,11693.0,22051.0,36543.0,9704.0,17189.0,29824.0,14609.0,19042.0,28895.0,21283.0,18130.0,10344.0,13349.0,20211.0,16825.0,23658.0,20291.0,18661.0,9875.0,22450.0,20562.0,24080.0,18307.0,17418.0,21730.0,21851.0,14417.0,16350.0,13007.0,8049.0,24923.0,21286.0,13763.0,6824.0,17096.0,66035.0,24861.0,13641.0,14064.0,23519.0,30431.0,10068.0,43494.0,37231.0,6814.0,21701.0,29646.0,27879.0,14628.0,33974.0,23066.0,7423.0,17122.0,21883.0,44086.0,20576.0,11126.0,15334.0,31664.0,23290.0,15911.0,25885.0,14780.0,15691.0,27705.0,27657.0,18695.0,17323.0,10407.0,18422.0,16726.0,18262.0,15869.0,35099.0,19335.0,40831.0,25025.0,20900.0,13327.0,38706.0,37552.0,17919.0,16551.0,53599.0,14195.0,17911.0,37602.0,20486.0,13396.0,17028.0,29137.0,10327.0,12772.0,37145.0,23364.0,30835.0,14549.0,9513.0,20671.0,21683.0,21710.0,12792.0,12141.0,11790.0,16813.0,14238.0,17322.0,19247.0,18581.0,19953.0,26644.0,13007.0,21694.0,20183.0,44676.0,14363.0,19234.0,24648.0,21537.0,17678.0,55945.0,47374.0,29556.0,19072.0,30464.0,24259.0,9245.0,34035.0,34348.0,14822.0,11319.0,29552.0,24293.0,22029.0,14536.0,19823.0,19603.0,11519.0,21481.0,19139.0,28411.0,9857.0,30362.0,32908.0,39951.0,20669.0,11206.0,39453.0,22515.0,13821.0,20936.0,34269.0,22493.0,23144.0,22380.0,16886.0,7375.0,21404.0,14981.0,10340.0,18542.0,13455.0,10222.0,21855.0,19914.0,28349.0,13895.0,31044.0,21109.0,16382.0,22487.0,14934.0,27938.0,17930.0,19480.0,8858.0,26485.0,11749.0,26485.0,29017.0,10165.0,25546.0,17858.0,17454.0,24331.0,19642.0,11477.0,14825.0,41428.0,47656.0,19025.0,35577.0,11647.0,22156.0,12557.0,36986.0,18188.0,32205.0,13952.0,18670.0,25815.0,25869.0,9465.0,44082.0,19322.0,13845.0,15068.0,17227.0,14236.0,13678.0,26703.0,9303.0,36090.0,23776.0,34570.0,37048.0,21085.0,16933.0,12228.0,10485.0,18940.0,19794.0,23626.0,17729.0,10388.0,26762.0,29275.0,18463.0,31363.0,9499.0,54264.0,23355.0,4818.0,17301.0,51379.0,22513.0,11877.0,17049.0,19277.0,18252.0,38190.0,21694.0,23446.0,18513.0,23422.0,8303.0,9859.0,43025.0,18295.0,15908.0,39511.0,28454.0,28881.0,25695.0,14004.0,23504.0,20757.0,15011.0,23423.0,33011.0,19214.0,19622.0,40106.0,17293.0,35140.0,13846.0,13067.0,21707.0,20617.0,17120.0,10768.0,12715.0,29449.0,14460.0,22895.0,10908.0,28544.0,26794.0,15049.0,19021.0,14853.0,27594.0,50359.0,20692.0,10796.0,15636.0,51266.0,25137.0,20268.0,31272.0,22144.0,20341.0,30859.0,16517.0,14743.0,12289.0,29407.0,26161.0,34023.0,11484.0,20506.0,24475.0,25250.0,18731.0,9432.0,13464.0,32128.0,7279.0,22555.0,19857.0,21786.0,11074.0,12623.0,24077.0,18445.0,19235.0,12937.0,20260.0,13383.0,41536.0,14893.0,21962.0,26732.0,15890.0,16942.0,9928.0,34970.0,6414.0,12773.0,15196.0,27870.0,17805.0,19866.0,24805.0,20048.0,19916.0,13339.0,21881.0,35028.0,11117.0,37304.0,19879.0,24495.0,15547.0,16744.0,31012.0,9009.0,25170.0,19662.0,19779.0,21978.0,22029.0,15695.0,10485.0,8026.0,9391.0,21335.0,21399.0,23059.0,23947.0,23714.0,28159.0,18592.0,18141.0,31849.0,18875.0,20948.0,28000.0,23560.0,19371.0,29334.0,12276.0,35555.0,25771.0,31321.0,12089.0,19322.0,20190.0,11120.0,12987.0,35331.0,13185.0,18555.0,35888.0,10736.0,21168.0,20877.0,37261.0,15838.0,11682.0,40096.0,18005.0,21394.0,42867.0,39472.0,18348.0,14190.0,23514.0,21335.0,23219.0,17970.0,21307.0,24056.0,14113.0,22157.0,31285.0,26220.0,10005.0,10152.0,13134.0,9972.0,13747.0,14575.0,14728.0,31178.0,10993.0,20701.0,14603.0,10766.0,39006.0,16899.0,11474.0,46883.0,43285.0,15508.0,20363.0,12187.0,15083.0,25762.0,12449.0,17730.0,14489.0,22854.0,18860.0,31660.0,42407.0,36654.0,48877.0,23324.0,21387.0,9910.0,13961.0,26111.0,27285.0,9338.0,14579.0,26620.0,20655.0,15255.0,22243.0,19698.0,23020.0,10934.0,16185.0,44756.0,15873.0,16693.0,28125.0,13907.0,21177.0,22866.0,19205.0,14424.0,17458.0,24845.0,44510.0,15001.0,21299.0,18194.0,16451.0,21241.0,27291.0,35468.0,16571.0,16694.0,26157.0,14043.0,28933.0,16494.0,15552.0,11539.0,15564.0,23372.0,17866.0,16797.0,12608.0,14770.0,14936.0,16089.0,13126.0,23650.0,21217.0,56591.0,26241.0,14802.0,11764.0,12343.0,8199.0,39442.0,11305.0,12044.0,22215.0,15691.0,17827.0,7280.0,26280.0,11903.0,15923.0,17069.0,12509.0,17979.0,21100.0,26471.0,24915.0,28140.0,21408.0,12924.0,22918.0,14383.0,10473.0,18805.0,12050.0,15010.0,14387.0,26914.0,21149.0,21028.0,16567.0,16181.0,21555.0,15372.0,17708.0,38141.0,20227.0,12742.0,26097.0,12688.0,18006.0,10015.0,18103.0,37964.0,22247.0,30254.0,7985.0,17702.0,27443.0,10346.0,28155.0,26695.0,12585.0,12567.0,19015.0,24756.0,23122.0,18863.0,24279.0,20996.0,14892.0,7000.0,39721.0,13849.0,17624.0,19474.0,14107.0,15212.0,18652.0,29286.0,16186.0,50601.0,12314.0,18285.0,23605.0,17044.0,14821.0,24126.0,17018.0,17625.0,17498.0,24912.0,12373.0,12158.0,17937.0,12188.0,19187.0,23337.0,6815.0,30101.0,22326.0,21232.0,20925.0,12084.0,16261.0,20997.0,18241.0,27778.0,14913.0,14278.0,24182.0,40278.0,37956.0,23444.0,11688.0,29066.0,27995.0,10963.0,29761.0,20229.0,25846.0,22034.0,31116.0,28037.0,41766.0,22425.0,22153.0,30810.0,16321.0,21765.0,21773.0,17974.0,28668.0,17893.0,22855.0,20266.0,22131.0,35359.0,21772.0,15785.0,23286.0,17006.0,8193.0,16517.0,50145.0,9537.0,28403.0,10133.0,16363.0,27544.0,22783.0,14886.0,16711.0,15396.0,53083.0,9632.0,14226.0,24335.0,27079.0,26297.0,34223.0,20102.0,21610.0,8415.0,18693.0,20375.0,60604.0,31198.0,8965.0,19068.0,21635.0,16771.0,31072.0,49434.0,22042.0,25670.0,18965.0,22900.0,23023.0,8993.0,19980.0,34506.0,14303.0,22549.0,14535.0,17799.0,19853.0,12294.0,39406.0,10978.0,17318.0,22355.0,19950.0,16217.0,9433.0,26605.0,15854.0,16786.0,18267.0,5714.0,14574.0,45719.0,22881.0,23924.0,27753.0,19723.0,22646.0,14034.0,26778.0,15934.0,12464.0,20277.0,14975.0,25554.0,29969.0,20197.0,18074.0,18588.0,23145.0,12657.0,12217.0,19376.0,15692.0,27494.0,15068.0,46973.0,18585.0,22443.0,20953.0,24952.0,12462.0,21241.0,23193.0,16716.0,12500.0,11058.0,25195.0,31651.0,11777.0,10786.0,23258.0,27376.0,19810.0,13203.0,14846.0,17615.0,22509.0,11204.0,23058.0,22508.0,22094.0,20449.0,18297.0,10115.0,9148.0,20670.0,23470.0,36922.0,34571.0,17587.0,20068.0,34203.0,43921.0,22644.0,21959.0,12623.0,22135.0,43468.0,26212.0,13809.0,10130.0,15956.0,26527.0,27779.0,19009.0,13084.0,30898.0,14929.0,15210.0,11603.0,33821.0,15921.0,30890.0,9855.0,21233.0,12977.0,12102.0,7026.0,20109.0,11225.0,20875.0,26038.0,18728.0,25594.0,25306.0,23911.0,21142.0,25968.0,19011.0,30117.0,31821.0,13641.0,16895.0,22436.0,16845.0,18944.0,21898.0,20289.0,21422.0,12097.0,18367.0,20496.0,19755.0,14489.0,21640.0,9996.0,13388.0,14345.0,32264.0,29396.0,20941.0,11954.0,19583.0,15885.0,24011.0,39876.0,32610.0,16233.0,20527.0,12972.0,35464.0,57573.0,33684.0,22825.0,26972.0,21290.0,16271.0,17962.0,16558.0,38568.0,11401.0,34280.0,18937.0,24610.0,15361.0,29151.0,12475.0,31003.0,28380.0,16960.0,17771.0,25968.0,13428.0,31728.0,13992.0,36886.0,22620.0,33440.0,12770.0,11452.0,28102.0,16315.0,12951.0,30101.0,19883.0,37953.0,25273.0,25597.0,27950.0,20464.0,17125.0,14153.0,15700.0,17267.0,17653.0,29932.0,17077.0,27196.0,32435.0,21736.0,18925.0,15961.0,35809.0,12550.0,23092.0,6416.0,18185.0,14696.0,26262.0,14018.0,9334.0,15666.0,41400.0,27710.0,29460.0,17261.0,11640.0,18896.0,18798.0,14651.0,8877.0,26710.0,16811.0,18190.0,27322.0,16433.0,18145.0,21998.0,18746.0,21595.0,31797.0,16766.0,19546.0,17278.0,14136.0,25520.0,11857.0,17145.0,11399.0,15069.0,14590.0,16848.0,16361.0,9813.0,16103.0,18410.0,29132.0,14087.0,14842.0,31115.0,34838.0,19200.0,20973.0,23711.0,9251.0,18166.0,14739.0,11801.0,24611.0,13222.0,18243.0,16326.0,26385.0,11319.0,16053.0,22263.0,28059.0,31564.0,12902.0,16132.0,29045.0,12818.0,29398.0,9229.0,22586.0,18004.0,16093.0,22062.0,26553.0,15684.0,9630.0,14987.0,26392.0,19919.0,23684.0,22114.0,19594.0,16621.0,28586.0,37428.0,29070.0,17512.0,10368.0,42958.0,12103.0,12286.0,16107.0,15209.0,20029.0,11471.0,22338.0,14979.0,48107.0,25838.0,40784.0,22064.0,15284.0,12234.0,18246.0,13754.0,33163.0,17987.0,16771.0,19707.0,35176.0,12892.0,15728.0,18746.0,28155.0,15102.0,13061.0,24141.0,21422.0,19509.0,23840.0,21089.0,20729.0,15027.0,24918.0,9990.0,15229.0,14007.0,10276.0,29300.0,23479.0,9939.0,11871.0,15713.0,12982.0,27222.0,19648.0,13101.0,25778.0,17925.0,20994.0,9787.0,26152.0,20317.0,42103.0,16753.0,30223.0,20404.0,22013.0,17655.0,21062.0,14260.0,21456.0,20101.0,26258.0,22215.0,26567.0,17165.0,16848.0,38762.0,20672.0,13100.0,24656.0,18609.0,23646.0,16716.0,24496.0,23694.0,25620.0,27646.0,14806.0,15793.0,12059.0,48720.0,26976.0,11244.0,22037.0,22191.0,40087.0,21968.0,23970.0,24430.0,23191.0,18348.0,31214.0,33970.0,28346.0,15501.0,25805.0,12458.0,24886.0,18018.0,27793.0,12492.0,20658.0,19405.0,18888.0,14200.0,26382.0,28300.0,13398.0,17351.0,19494.0,14795.0,17743.0,22347.0,11990.0,36221.0,21927.0,22130.0,21786.0,12396.0,22551.0,26624.0,26740.0,17868.0,12466.0,22600.0,14010.0,43231.0,11525.0,22517.0,10888.0,29856.0,12526.0,17107.0,18356.0,30354.0,18134.0,28299.0,10355.0,24510.0,16801.0,23878.0,26729.0,23041.0,19663.0,28725.0,13749.0,17956.0,27372.0,20816.0,12220.0,28068.0,26330.0,12979.0,50971.0,7528.0,12137.0,21033.0,27625.0,27375.0,10821.0,5880.0,8247.0,17693.0,22314.0,11192.0,23653.0,10096.0,25366.0,24198.0,13156.0,23889.0,16617.0,40407.0,21540.0,24240.0,20905.0,18228.0,7325.0,15656.0,20800.0,16627.0,21177.0,19375.0,23787.0,11211.0,17756.0,27815.0,24627.0,14971.0,10533.0,12469.0,9218.0,13534.0,31393.0,40984.0,20185.0,18302.0,24948.0,18980.0,27069.0,12177.0,15933.0,15721.0,7374.0,29666.0,21332.0,10311.0,26710.0,34533.0,26803.0,19612.0,15284.0,14564.0,13604.0,25473.0,23940.0,19584.0,14420.0,11604.0,46330.0,23501.0,22431.0,12501.0,16207.0,21302.0,19332.0,10917.0,27355.0,20974.0,25814.0,12592.0,13534.0,13402.0,20288.0,29824.0,9039.0,24476.0,29917.0,21647.0,22100.0,26781.0,15204.0,21666.0,15922.0,16183.0,38301.0,17906.0,23878.0,16744.0,19611.0,20147.0,25186.0,15904.0,19243.0,10102.0,13600.0,34798.0,41581.0,21147.0,23247.0,9889.0,21152.0,36353.0,17823.0,15796.0,32979.0,15988.0,20502.0,39861.0,26219.0,6451.0,12528.0,16873.0,17145.0,20036.0,14589.0,35628.0,14632.0,31610.0,20627.0,19784.0,21754.0,9971.0,21996.0,12926.0,29112.0,14236.0,20490.0,26153.0,26391.0,16585.0,34242.0,11542.0,23223.0,13965.0,7595.0,33383.0,33309.0,20694.0,17526.0,19180.0,12854.0,22372.0,15510.0,42048.0,24868.0,11238.0,26564.0,12983.0,25702.0,32206.0,19160.0,11101.0,9469.0,7924.0,11117.0,32474.0,8620.0,14339.0,10062.0,19169.0,28984.0,25819.0,12828.0,12094.0,17121.0,16469.0,30978.0,19336.0,31952.0,12866.0,19169.0,11190.0,17245.0,9250.0,19496.0,30237.0,9811.0,25996.0,15037.0,6572.0,18843.0,20785.0,15797.0,27272.0,29823.0,10744.0,17658.0,27505.0,23041.0,27957.0,22110.0,21798.0,37071.0,17429.0,19501.0,29851.0,23819.0,21201.0,11823.0,17553.0,17683.0,41407.0,22339.0,17128.0,13341.0,18984.0,14229.0,32667.0,8019.0,17765.0,8496.0,20671.0,17978.0,36229.0,25865.0,19233.0,43573.0,31681.0,11381.0,13076.0,21755.0,18505.0,7325.0,21648.0,24184.0,24305.0,15283.0,16915.0,24672.0,38599.0,17397.0,26045.0,16574.0,31328.0,23791.0,12919.0,13826.0,15347.0,17417.0,35294.0,36558.0,9447.0,28654.0,11142.0,19772.0,15378.0,16603.0,12295.0,17985.0,18182.0,24432.0,15138.0,14567.0,15671.0,20035.0,10471.0,12760.0,15433.0,6825.0,22669.0,33600.0,21727.0,19613.0,18418.0,9992.0,15079.0,13991.0,21664.0,13290.0,16404.0,15705.0,21651.0,26575.0,20949.0,7276.0,7027.0,12240.0,20372.0,18513.0,15402.0,16455.0,18989.0,10177.0,28086.0,16787.0,26759.0,18071.0,18288.0,27475.0,23941.0,11889.0,10999.0,18774.0,25747.0,14264.0,23097.0,28608.0,15563.0,8989.0,20680.0,18439.0,18699.0,21783.0,14996.0,13188.0,22604.0,11988.0,15539.0,15519.0,11149.0,18069.0,10372.0,16247.0,11377.0,17269.0,9968.0,19727.0,24645.0,15829.0,32015.0,14979.0,28482.0,16251.0,35041.0,23528.0,11911.0,16994.0,13067.0,32155.0,16287.0,7721.0,9020.0,12790.0,22096.0,27413.0,42299.0,22764.0,20030.0,14672.0,22922.0,36708.0,23678.0,21593.0,32267.0,22465.0,32767.0,23815.0,22235.0,16465.0,9969.0,7994.0,23347.0,22460.0,44753.0,27533.0,18464.0,11826.0,29364.0,16197.0,20023.0,11891.0,20465.0,39408.0,28551.0,28055.0,13877.0,13819.0,18311.0,29992.0,13396.0,17006.0,32071.0,21640.0,30655.0,10193.0,17931.0,17204.0,18478.0,10480.0,14560.0,24941.0,15632.0,18105.0,14051.0,8873.0,30449.0,27128.0,27951.0,20045.0,16263.0,20845.0,20164.0,10944.0,16653.0,12696.0,13522.0,23517.0,24748.0,26887.0,18662.0,14691.0,17877.0,39961.0,23296.0,23442.0,10428.0,22671.0,21870.0,19906.0,17424.0,35023.0,13112.0,18394.0,26311.0,15379.0,27958.0,15086.0,17633.0,30389.0,21944.0,14998.0,17331.0,28919.0,8426.0,15006.0,21818.0,26956.0,26920.0,21122.0,25192.0,16710.0,14446.0,17921.0,24020.0,16210.0,18906.0,26865.0,13202.0,12610.0,50205.0,16826.0,23212.0,25317.0,24055.0,12253.0,18314.0,23826.0,20101.0,11221.0,20261.0,33898.0,19455.0,8360.0,14446.0,14812.0,15015.0,13697.0,26773.0,22721.0,19835.0,20122.0,16437.0,25728.0,28614.0,13627.0,13179.0,18159.0,10397.0,17348.0,10226.0,16757.0,15056.0,11936.0,22034.0,19455.0,15599.0,11157.0,23596.0,26545.0,19203.0,32832.0,21069.0,18079.0,24438.0,14168.0,17996.0,21890.0,15807.0,24422.0,9490.0,7990.0,41211.0,18559.0,21969.0,26114.0,21142.0,14591.0,14629.0,19863.0,9944.0,8604.0,16624.0,19035.0,32500.0,10940.0,31249.0,37678.0,18590.0,21749.0,23173.0,12679.0,31705.0,21465.0,26470.0,35109.0,24303.0,31613.0,16768.0,9155.0,31451.0,17531.0,16613.0,20406.0,41360.0,8364.0,20034.0,12997.0,23628.0,38253.0,25547.0,14752.0,23800.0,30438.0,46561.0,10097.0,19310.0,20846.0,14747.0,10905.0,17730.0,20560.0,9724.0,22123.0,13387.0,33727.0,13103.0,20375.0,37170.0,11608.0,6150.0,42714.0,7616.0,19448.0,26955.0,20729.0,5857.0,12300.0,17800.0,12346.0,23028.0,13308.0,28936.0,11720.0,26913.0,27627.0,16536.0,16053.0,11756.0,20318.0,13421.0,20370.0,23638.0,18978.0,12564.0,19890.0,30115.0,10129.0,14089.0,21052.0,41245.0,14746.0,24329.0,22466.0,9656.0,21216.0,12716.0,22451.0,14095.0,12139.0,18699.0,16912.0,25898.0,25277.0,11195.0,17579.0,36037.0,13052.0,23337.0,17580.0,23772.0,16562.0,11580.0,30875.0,43112.0,21220.0,15787.0,43962.0,18800.0,36797.0,19857.0,28907.0,18178.0,16431.0,16975.0,11702.0,32543.0,17217.0,17259.0,13420.0,20504.0,19964.0,11618.0,19586.0,8064.0,15639.0,16278.0,29055.0,21997.0,9454.0,25750.0,23825.0,7803.0,23700.0,16152.0,11445.0,26843.0,14175.0,12672.0,17492.0,25766.0,20676.0,11290.0,12320.0,10151.0,18122.0,11470.0,15823.0,27226.0,16217.0,15775.0,24117.0,33770.0,24922.0,17861.0,13575.0,23016.0,11715.0,30968.0,32804.0,19832.0,14981.0,16616.0,19268.0,14401.0,20221.0,12300.0,18858.0,14236.0,29731.0,11577.0,40402.0,20269.0,19836.0,10262.0,11400.0,13638.0,39402.0,17452.0,28367.0,14777.0,32453.0,11598.0,19378.0,21070.0,15357.0,18315.0,18796.0,35597.0,18008.0,12153.0,22808.0,16730.0,12264.0,20759.0,24788.0,23247.0,12137.0,31645.0,15826.0,14401.0,8580.0,13499.0,15317.0,26467.0,24842.0,10808.0,11337.0,42432.0,13921.0,34417.0,21846.0,19804.0,24798.0,11619.0,23949.0,18529.0,16828.0,18255.0,18857.0,16759.0,37215.0,14500.0,17847.0,24951.0,17827.0,23074.0,11926.0,15266.0,31290.0,18077.0,14697.0,11025.0,18212.0,26927.0,24082.0,22719.0,14386.0,24560.0,28341.0,11129.0,20171.0,32638.0,23758.0,22215.0,10726.0,9809.0,9123.0,28540.0,26107.0,12082.0,19752.0,12267.0,23775.0,26177.0,20607.0,22763.0,21200.0,14548.0,17820.0,13234.0,14379.0,19819.0,23675.0,14734.0,24049.0,16305.0,13908.0,17200.0,12914.0,27483.0,21750.0,15832.0,14559.0,20629.0,13050.0,17725.0,18781.0,7936.0,30466.0,7789.0,29161.0,44287.0,17830.0,28063.0,31243.0,13040.0,48448.0,29524.0,10846.0,10202.0,6484.0,56995.0,19347.0,57411.0,21665.0,23563.0,13289.0,26344.0,24642.0,15628.0,13138.0,24521.0,20765.0,27061.0,15949.0,25949.0,20312.0,19366.0,17960.0,12716.0,18085.0,16935.0,19059.0,23398.0,23403.0,23852.0,17672.0,17937.0,40889.0,19267.0,5510.0,14699.0,26762.0,24203.0,11685.0,13205.0,34006.0,15599.0,18655.0,14896.0,16604.0,16611.0,18227.0,16426.0,13264.0,11691.0,13716.0,21155.0,34044.0,30561.0,18917.0,16924.0,27986.0,27430.0,22227.0,13399.0,16800.0,30165.0,21064.0,44656.0,16316.0,12290.0,38457.0,18304.0,13684.0,20544.0,21626.0,20814.0,13767.0,14057.0,23101.0,10623.0,39037.0,11366.0,18288.0,17374.0,21783.0,15020.0,44090.0,9869.0,10638.0,17654.0,13507.0,35347.0,14850.0,15449.0,19198.0,20733.0,13657.0,9197.0,20782.0,31343.0,19428.0,41880.0,13302.0,13530.0,18308.0,16394.0,15464.0,24785.0,19107.0,14229.0,10955.0,17810.0,25748.0,25238.0,16432.0,13865.0,19746.0,19514.0,26924.0,60432.0,19419.0,20432.0,16651.0,15410.0,16269.0,22793.0,27308.0,28070.0,28869.0,22250.0,22568.0,19692.0,15564.0,18544.0,22151.0,19059.0,29022.0,19190.0,18836.0,15483.0,35246.0,16374.0,13913.0,17238.0,18943.0,13686.0,9116.0,13063.0,19972.0,17093.0,17270.0,14504.0,26192.0,12801.0,28011.0,22242.0,8747.0,24151.0,23595.0,13143.0,19187.0,11840.0,18217.0,25260.0,25690.0,16753.0,12932.0,15339.0,14169.0,24423.0,24189.0,27978.0,12279.0,20787.0,26811.0,16210.0,13290.0,7643.0,26707.0,25024.0,22836.0,18234.0,21872.0,22441.0,18804.0,16068.0,20401.0,27325.0,13017.0,12420.0,25395.0,28800.0,20372.0,15424.0,17665.0,27259.0,18868.0,21639.0,18218.0,12923.0,14163.0,15642.0,12489.0,35041.0,9681.0,25212.0,22002.0,21659.0,22997.0,15744.0,11991.0,21059.0,31062.0,19006.0,15017.0,13698.0,18956.0,27558.0,17339.0,15626.0,22899.0,10384.0,16935.0,22120.0,20970.0,13111.0,20016.0,24521.0,23972.0,25679.0,23024.0,21481.0,16629.0,26768.0,23677.0,13202.0,20935.0,33436.0,20912.0,12038.0,14389.0,12854.0,10711.0,25449.0,21760.0,17088.0,16649.0,18491.0,30016.0,23170.0,16765.0,29825.0,19460.0,18803.0,17956.0,31826.0,20069.0,20344.0,19016.0,32395.0,12701.0,41407.0,32817.0,9011.0,16893.0,33836.0,28335.0,8670.0,9979.0,22758.0,17256.0,12416.0,29127.0,14056.0,24902.0,25565.0,17860.0,16198.0,15380.0,17606.0,33002.0,27181.0,14314.0,17235.0,20432.0,24750.0,39533.0,14329.0,40512.0,41065.0,33652.0,21939.0,14958.0,6950.0,26238.0,21155.0,24909.0,15003.0,27198.0,18454.0,17638.0,20404.0,15235.0,22471.0,18205.0,22740.0,31748.0,29195.0,19695.0,25972.0,20829.0,25780.0,18724.0,13205.0,24665.0,15666.0,21241.0,28167.0,20333.0,30771.0,7396.0,24417.0,8304.0,26629.0,18177.0,25611.0,21227.0,16296.0,26568.0,12197.0,13017.0,19710.0,15765.0,21890.0,18210.0,26620.0,20652.0,13656.0,20478.0,20957.0,18960.0,17780.0,36875.0,15119.0,23403.0,41242.0,18156.0,26237.0,27363.0,15900.0,21519.0,8815.0,17940.0,26857.0,27251.0,11419.0,24493.0,32816.0,17652.0,10690.0,19034.0,20697.0,28122.0,16855.0,15578.0,10562.0,29720.0,25265.0,27409.0,34174.0,12709.0,20514.0,15336.0,25437.0,10624.0,21083.0,41567.0,12901.0,15408.0,17717.0,33260.0,21366.0,26733.0,12457.0,34936.0,7686.0,18086.0,25909.0,28656.0,16831.0,14711.0,19260.0,17998.0,21906.0,30096.0,12621.0,18208.0,19099.0,23512.0,11101.0,8980.0,25964.0,10583.0,32648.0,36727.0,21292.0,24810.0,18195.0,24118.0,14608.0,20052.0,19591.0,19450.0,15393.0,12056.0,14351.0,27083.0,26360.0,37769.0,15940.0,25877.0,13164.0,21333.0,17488.0,13078.0,17374.0,26889.0,10229.0,12361.0,9826.0,28850.0,32215.0,31226.0,20668.0,17496.0,20643.0,19350.0,35819.0,19018.0,12001.0,22980.0,12110.0,19684.0,27777.0,13671.0,23439.0,38878.0,10677.0,13359.0,10108.0,22711.0,17708.0,24390.0,27823.0,14153.0,35756.0,21780.0,11834.0,16158.0,34187.0,16795.0,7997.0,17167.0,13550.0,29658.0,12939.0,34729.0,16756.0,23484.0,14970.0,23244.0,15279.0,25340.0,40648.0,23232.0,23806.0,20905.0,13996.0,15164.0,18218.0,8414.0,26428.0,23898.0,13555.0,31101.0,14038.0,30839.0,23536.0,18186.0,13078.0,17515.0,8888.0,20978.0,12461.0,18063.0,37444.0,14690.0,12565.0,12472.0,8787.0,29931.0,18154.0,25073.0,26095.0,21444.0,33719.0,11477.0,48796.0,35388.0,30639.0,18624.0,23731.0,15449.0,14396.0,22194.0,10076.0,11331.0,24607.0,8841.0,12432.0,20852.0,13835.0,9205.0,18686.0,15486.0,22512.0,17072.0,20201.0,18245.0,19833.0,25011.0,11727.0,19028.0,11476.0,16306.0,14195.0,9884.0,15328.0,10993.0,11856.0,43304.0,17218.0,23706.0,24200.0,7254.0,38397.0,31787.0,28409.0,15201.0,21032.0,16520.0,11793.0,31906.0,14946.0,27218.0,17749.0,22994.0,15842.0,14227.0,25770.0,23171.0,30322.0,21905.0,27534.0,14109.0,34352.0,15505.0,28817.0,10453.0,26542.0,16280.0,19708.0,23060.0,16283.0,25543.0,34844.0,15334.0,8076.0,9898.0,8352.0,9344.0,18298.0,13071.0,14490.0,23305.0,16407.0,15024.0,20480.0,21189.0,27005.0,12369.0,14320.0,16556.0,31365.0,6715.0,14637.0,29541.0,20448.0,28541.0,20167.0,20420.0,36639.0,16251.0,25300.0,14935.0,24983.0,36653.0,17002.0,30124.0,14704.0,14018.0,20279.0,25962.0,22780.0,13966.0,25632.0,36644.0,25952.0,22878.0,20477.0,19189.0,54671.0,20163.0,12951.0,11475.0,18027.0,28540.0,11493.0,11984.0,18697.0,14741.0,19189.0,22694.0,33218.0,12203.0,16222.0,19956.0,9223.0,15445.0,12849.0,17229.0,15567.0,25058.0,24663.0,20205.0,25091.0,20209.0,16078.0,17978.0,27593.0,32210.0,21777.0,22078.0,24903.0,23937.0,21986.0,23510.0,30956.0,20692.0,31320.0,18378.0,27854.0,15491.0,33366.0,6367.0,21701.0,15095.0,10014.0,15547.0,21392.0,21361.0,17629.0,20225.0,16292.0,18236.0,14114.0,15013.0,35734.0,26876.0,30234.0,34475.0,26809.0,15391.0,9278.0,20326.0,10604.0,26421.0,20289.0,10671.0,14688.0,12723.0,16003.0,16258.0,20696.0,20014.0,16586.0,29051.0,14351.0,29392.0,13869.0,23754.0,19963.0,16054.0,17194.0,18469.0,27388.0,35928.0,31757.0,11287.0,10796.0,44985.0,45539.0,16518.0,19270.0,14292.0,30763.0,7084.0,12100.0,8602.0,14008.0,23489.0,28500.0,14785.0,15593.0,22527.0,32990.0,42663.0,23346.0,11241.0,47399.0,22434.0,24932.0,15347.0,22401.0,22235.0,19901.0,35570.0,23531.0,24593.0,19503.0,32710.0,17117.0,21208.0,15824.0,15343.0,13752.0,5819.0,9086.0,14421.0,21074.0,14130.0,17813.0,34840.0,27479.0,6373.0,14835.0,41838.0,13926.0,8242.0,12109.0,20582.0,21816.0,28100.0,23552.0,8179.0,27493.0,12887.0,27197.0,21272.0,21440.0,24003.0,18136.0,28616.0,20377.0,20742.0,22208.0,8565.0,24738.0,17817.0,24190.0,23209.0,17830.0,39799.0,29512.0,22947.0,29977.0,30621.0,17175.0,9311.0,22976.0,21950.0,35790.0,17911.0,24802.0,16404.0,20867.0,21074.0,23516.0,16066.0,35217.0,15843.0,27150.0,18747.0,15905.0,7291.0,22907.0,37436.0,8413.0,18142.0,18834.0,36362.0,21483.0,22044.0,20779.0,20037.0,24792.0,33826.0,13769.0,27000.0,18187.0,12058.0,24827.0,21407.0,16949.0,29207.0,40674.0,21378.0,16249.0,32241.0,18130.0,24965.0,17862.0,16260.0,26992.0,38974.0,12225.0,16757.0,45493.0,10954.0,24014.0,19032.0,11490.0,20204.0,25215.0,52681.0,17658.0,15961.0,11138.0,31067.0,18985.0,43103.0,22748.0,13728.0,20921.0,15779.0,12654.0,47021.0,22669.0,16470.0,18737.0,31056.0,19479.0,22589.0,16021.0,19136.0,10321.0,27976.0,24936.0,14974.0,21745.0,38487.0,7940.0,34704.0,25742.0,7846.0,7970.0,29408.0,28684.0,22389.0,19765.0,18053.0,21488.0,32431.0,25943.0,22337.0,18028.0,17614.0,5838.0,33796.0,22229.0,18849.0,19925.0,11165.0,20724.0,19631.0,16649.0,16318.0,18759.0,23761.0,23509.0,17006.0,36488.0,18209.0,46406.0,29826.0,14058.0,24321.0,27616.0,29572.0,24580.0,11338.0,13629.0,18205.0,16371.0,8160.0,23869.0,13788.0,17187.0,11313.0,26365.0,13352.0,28387.0,14155.0,4914.0,10615.0,17197.0,20061.0,24491.0,19085.0,38352.0,11429.0,24683.0,24683.0,23248.0,19101.0,17560.0,22219.0,20208.0,14022.0,27009.0,27009.0,20133.0,32124.0,32978.0,19415.0,22021.0,36273.0,16865.0,12329.0,17024.0,20432.0,11608.0,21740.0,31848.0,14059.0,12549.0,21704.0,18713.0,25115.0,19821.0,17626.0,8304.0,25628.0,14539.0,43458.0,11019.0,6709.0,30173.0,22726.0,42487.0,44960.0,22843.0,16466.0,26706.0,19653.0,24385.0,15394.0,22656.0,20644.0,18142.0,47642.0,15961.0,29305.0,25455.0,19452.0,18758.0,31099.0,22669.0,21146.0,15022.0,16457.0,19508.0,11419.0,20483.0,19320.0,11597.0,27445.0,21422.0,12038.0,14764.0,10709.0,31278.0,14615.0,11319.0,25215.0,35423.0,18393.0,15335.0,22085.0,34791.0,33797.0,20773.0,13796.0,17317.0,33755.0,9220.0,29351.0,21253.0,30036.0,11652.0,9626.0,38815.0,19287.0,27043.0,18183.0,15251.0,20037.0,29667.0,28477.0,14387.0,15546.0,18455.0,29044.0,12898.0,25424.0,16395.0,27246.0,20140.0,14045.0,6971.0,6971.0,12779.0,12779.0,14096.0,20379.0,22090.0,18815.0,35058.0,14561.0,11875.0,18506.0,19771.0,20631.0,21812.0,25123.0,35556.0,23979.0,35728.0,21291.0,21889.0,18203.0,18904.0,23013.0,25283.0,41718.0,25891.0,15888.0,21402.0,21009.0,29761.0,16062.0,8626.0,8075.0,10486.0,22571.0,17479.0,30760.0,23600.0,19121.0,16108.0,17601.0,20621.0,33541.0,19929.0,28044.0,11306.0,10111.0,10133.0,24153.0,19758.0,22952.0,23089.0,27633.0,10823.0,6785.0,44192.0,13973.0,14397.0,26367.0,26838.0,23355.0,18363.0,13587.0,11474.0,24273.0,14885.0,10757.0,23337.0,15626.0,10536.0,23358.0,19837.0,23799.0,19830.0,22710.0,25079.0,27367.0,16197.0,12832.0,28705.0,31859.0,21914.0,21534.0,23716.0,10695.0,21278.0,21417.0,20482.0,12523.0,19969.0,17654.0,24644.0,26446.0,19007.0,19862.0,13662.0,13151.0,13584.0,24225.0,35560.0,20248.0,24841.0,18605.0,12442.0,8481.0,25091.0,20640.0,31900.0,23946.0,18088.0,18033.0,16773.0,20383.0,13109.0,17069.0,14581.0,22700.0,13234.0,17934.0,8603.0,15399.0,28746.0,18680.0,27928.0,11502.0,9620.0,22432.0,23256.0,22574.0,18361.0,16675.0,14557.0,21294.0,16139.0,13401.0,20264.0,7357.0,17974.0,32113.0,15252.0,18321.0,31109.0,11690.0,21316.0,18383.0,14589.0,47485.0,23302.0,44270.0,17197.0,19336.0,7835.0,17127.0,23848.0,15256.0,22798.0,20444.0,11807.0,16616.0,11218.0,26900.0,19256.0,13374.0,26691.0,24796.0,11559.0,40443.0,19776.0,18079.0,15908.0,8233.0,23634.0,13992.0,19767.0,18242.0,29031.0,21407.0,30629.0,13861.0,11848.0,22769.0,18823.0,17493.0,40053.0,12533.0,24035.0,27043.0,11221.0,27722.0,13196.0,37161.0,14280.0,38159.0,20118.0,22080.0,29810.0,18040.0,20990.0,15492.0,8162.0,33677.0,20646.0,11922.0,24344.0,24211.0,31490.0,15554.0,23743.0,46616.0,17124.0,13358.0,41216.0,37781.0,14839.0,10358.0,15696.0,13775.0,12117.0,20163.0,22142.0,19538.0,24835.0,15037.0,19078.0,14991.0,21460.0,27547.0,18970.0,17371.0,12954.0,20748.0,29308.0,13417.0,32970.0,17974.0,22027.0,19460.0,18562.0,39314.0,6715.0,20527.0,22328.0,24695.0,20731.0,23115.0,16537.0,20420.0,39998.0,19261.0,16016.0,22252.0,13924.0,38201.0,17872.0,17810.0,12710.0,24525.0,17288.0,9264.0,16064.0,25508.0,33253.0,18533.0,23159.0,15677.0,31493.0,22661.0,16280.0,14753.0,23477.0,19789.0,19123.0,14687.0,19735.0,19539.0,20998.0,19762.0,6969.0,13184.0,8113.0,20998.0,20299.0,15768.0,8478.0,30090.0,12448.0,37044.0,10924.0,11064.0,29213.0,13035.0,19341.0,13252.0,14713.0,38643.0,11726.0,20317.0,24374.0,21788.0,7624.0,33539.0,21453.0,31133.0,16999.0,9935.0,16112.0,8216.0,13322.0,21517.0,20124.0,7465.0,16838.0,11355.0,46345.0,6981.0,19198.0,17374.0,15949.0,18704.0,14662.0,8624.0,13840.0,12799.0,19190.0,15305.0,33184.0,16238.0,18997.0,17989.0,22595.0,18393.0,37307.0,15392.0,16297.0,33805.0,19897.0,24243.0,26508.0,20875.0,16311.0,12463.0,22543.0,17182.0,12086.0,17713.0,18279.0,20771.0,25547.0,19936.0,13373.0,19281.0,19650.0,24046.0,19856.0,15966.0,12577.0,20478.0,12428.0,12237.0,25285.0,21033.0,13798.0,11106.0,17459.0,44671.0,24069.0,24827.0,16880.0,20259.0,15221.0,14761.0,11642.0,26307.0,32871.0,37957.0,38713.0,17191.0,14184.0,25024.0,20483.0,15410.0,33974.0,21681.0,23160.0,25406.0,24699.0,19364.0,8794.0,28873.0,27200.0,18724.0,22857.0,13566.0,14719.0,9542.0,10030.0,30138.0,17056.0,15586.0,17359.0,12418.0,26312.0,21708.0,21268.0,24051.0,8148.0,22833.0,27133.0,20982.0,35159.0,13875.0,21263.0,13186.0,31934.0,27038.0,15274.0,14516.0,15953.0,17184.0,15436.0,12465.0,24609.0,16880.0,22828.0,10113.0,13933.0,20569.0,13279.0,23873.0,18808.0,20217.0,19829.0,36134.0,15890.0,13352.0,31332.0,9482.0,40430.0,19395.0,15756.0,17661.0,19468.0,23996.0,9439.0,15728.0,10017.0,19487.0,30960.0,23542.0,22636.0,29017.0,19788.0,18560.0,16630.0,19849.0,24732.0,22795.0,22577.0,19711.0,11985.0,26380.0,19670.0,10943.0,16039.0,28357.0,21377.0,27288.0,24847.0,20008.0,31562.0,15524.0,28789.0,14606.0,16088.0,24520.0,8530.0,29498.0,18954.0,17079.0,32542.0,13484.0,11369.0,23998.0,23830.0,23959.0,25652.0,19042.0,21309.0,15739.0,28891.0,22152.0,29191.0,26989.0,22981.0,15783.0,17853.0,21724.0,25671.0,13320.0,25915.0,12024.0,24952.0,15255.0,22134.0,18784.0,32710.0,31329.0,22852.0,15505.0,11239.0,9677.0,25195.0,18188.0,9774.0,31941.0,17338.0,24034.0,15897.0,11386.0,15156.0,21830.0,35518.0,22614.0,18003.0,38348.0,25472.0,28847.0,22419.0,16048.0,37104.0,18844.0,17394.0,38095.0,22347.0,9196.0,28711.0,17600.0,10723.0,11080.0,20680.0,24088.0,17325.0,19965.0,24437.0,26288.0,20299.0,31089.0,45044.0,11431.0,21394.0,21940.0,22088.0,14888.0,21610.0,25229.0,40116.0,21990.0,22485.0,24633.0,16250.0,13448.0,14543.0,21776.0,21145.0,20198.0,18555.0,36868.0,22048.0,29324.0,12267.0,25474.0,33303.0,20079.0,21633.0,14864.0,24964.0,17826.0,12852.0,36153.0,17981.0,18753.0,21096.0,39267.0,14823.0,22828.0,23692.0,24674.0,12508.0,22111.0,13419.0,14352.0,27241.0,41008.0,23546.0,27302.0,32136.0,38776.0,13342.0,31003.0,30003.0,18129.0,24004.0,15614.0,29062.0,22437.0,16110.0,16147.0,33464.0,21613.0,31783.0,19154.0,12084.0,22373.0,14241.0,30796.0,14907.0,19785.0,30161.0,15352.0,19426.0,32039.0,20384.0,20212.0,29958.0,24169.0,12357.0,11927.0,18639.0,28794.0,8358.0,23652.0,12177.0,4944.0,12825.0,18775.0,12963.0,23540.0,18520.0,21832.0,17956.0,20767.0,26619.0,25207.0,17576.0,14576.0,10771.0,14180.0,23318.0,48398.0,27320.0,21714.0,28767.0,43951.0,10909.0,17304.0,13188.0,28079.0,24124.0,23717.0,28568.0,17522.0,13609.0,21460.0,19005.0,38158.0,33121.0,21117.0,23991.0,13873.0,22426.0,27417.0,21090.0,9065.0,21962.0,8095.0,20498.0,30937.0,27564.0,18489.0,14677.0,19870.0,18634.0,29787.0,19905.0,31277.0,27345.0,18977.0,20777.0,29465.0,30456.0,19013.0,26563.0,10807.0,12885.0,9557.0,26733.0,23346.0,35489.0,29139.0,16268.0,16619.0,21739.0,22897.0,18462.0,28358.0,23753.0,19342.0,13083.0,31801.0,26236.0,34758.0,34012.0,11941.0,17298.0,25265.0,16945.0,16969.0,29141.0,21956.0,11890.0,15378.0,23598.0,11293.0,22698.0,31795.0,31795.0,18589.0,25411.0,17655.0,26064.0,21793.0,17883.0,20247.0,19772.0,19132.0,19132.0,20384.0,20384.0,19532.0,29949.0,20777.0,17631.0,24776.0,23798.0,11495.0,44037.0,29584.0,14597.0,15344.0,21617.0,7686.0,16628.0,14871.0,13735.0,11473.0,18424.0,19006.0,15165.0,15875.0,21008.0,19224.0,11947.0,15301.0,15472.0,15776.0,13602.0,20438.0,20026.0,29755.0,16830.0,27750.0,25231.0,19359.0,12041.0,29445.0,13095.0,14633.0,12625.0,14322.0,24079.0,15208.0,22867.0,20405.0,26002.0,18776.0,26730.0,15361.0,19650.0,19361.0,29144.0,21120.0,21329.0,36942.0,16517.0,11724.0,20327.0,15810.0,15092.0,37802.0,25810.0,16600.0,20615.0,24891.0,35428.0,19215.0,31173.0,11704.0,25535.0,20449.0,26696.0,16886.0,17598.0,9570.0,17079.0,24438.0,24639.0,26738.0,14828.0,15346.0,28475.0,21667.0,19188.0,9527.0,21554.0,25100.0,29670.0,17750.0,24450.0,22429.0,41162.0,21705.0,25146.0,15661.0,34561.0,16244.0,21009.0,26017.0,22273.0,21759.0,16564.0,23386.0,9869.0,20026.0,14960.0,19207.0,22510.0,19267.0,28715.0,11871.0,11960.0,38166.0,26376.0,22119.0,21608.0,21205.0,9792.0,15377.0,20617.0,27129.0,21488.0,14660.0,48825.0,22781.0,20949.0,24084.0,13917.0,10561.0,19626.0,19753.0,24669.0,33455.0,19515.0,24296.0,35601.0,18764.0,28530.0,30286.0,19159.0,11917.0,29118.0,26869.0,30347.0,6751.0,36783.0,15413.0,33692.0,27247.0,21745.0,25881.0,12150.0,15541.0,16533.0,32885.0,24037.0,26240.0,17438.0,16152.0,18307.0,12371.0,21531.0,15249.0,27152.0,14128.0,21126.0,14365.0,27803.0,25899.0,7338.0,20027.0,30073.0,11994.0,12811.0,9684.0,13392.0,24246.0,10135.0,35119.0,20557.0,34526.0,12909.0,16066.0,22175.0,14832.0,11947.0,21046.0,17621.0,19133.0,20045.0,25795.0,17442.0,25009.0,21243.0,40419.0,26729.0,24008.0,19457.0,28726.0,24133.0,16961.0,46185.0,28359.0,25279.0,16015.0,22232.0,10755.0,34289.0,7377.0,24466.0,40923.0,19432.0,20744.0,22854.0,39614.0,24437.0,25831.0,16998.0,27021.0,36227.0,27611.0,21711.0,11131.0,20065.0,15260.0,20779.0,31985.0,15583.0,24096.0,25595.0,34206.0,29615.0,16816.0,6878.0,19349.0,17235.0,14445.0,12599.0,26265.0,4733.0,34831.0,13367.0,12498.0,12375.0,29568.0,18674.0,15491.0,5724.0,8271.0,19466.0,18021.0,16365.0,15289.0,16078.0,27018.0,19081.0,23639.0,39254.0,18309.0,21136.0,24221.0,18980.0,25499.0,11151.0,36741.0,28715.0,39376.0,17373.0,30929.0,18130.0,17879.0,18019.0,36274.0,15061.0,8971.0,14034.0,14972.0,22631.0,25063.0,25307.0,7262.0,19184.0,13988.0,10187.0,16464.0,19538.0,31040.0,20307.0,13763.0,19815.0,8516.0,21704.0,9010.0,14265.0,18576.0,17792.0,19003.0,14539.0,21991.0,30700.0,18475.0,24403.0,20430.0,22281.0,20711.0,11800.0,8416.0,14994.0,15279.0,19185.0],\"xaxis\":\"x\",\"yaxis\":\"y\",\"type\":\"histogram\",\"opacity\":0.5}],                        {\"template\":{\"data\":{\"barpolar\":[{\"marker\":{\"line\":{\"color\":\"white\",\"width\":0.5},\"pattern\":{\"fillmode\":\"overlay\",\"size\":10,\"solidity\":0.2}},\"type\":\"barpolar\"}],\"bar\":[{\"error_x\":{\"color\":\"rgb(36,36,36)\"},\"error_y\":{\"color\":\"rgb(36,36,36)\"},\"marker\":{\"line\":{\"color\":\"white\",\"width\":0.5},\"pattern\":{\"fillmode\":\"overlay\",\"size\":10,\"solidity\":0.2}},\"type\":\"bar\"}],\"carpet\":[{\"aaxis\":{\"endlinecolor\":\"rgb(36,36,36)\",\"gridcolor\":\"white\",\"linecolor\":\"white\",\"minorgridcolor\":\"white\",\"startlinecolor\":\"rgb(36,36,36)\"},\"baxis\":{\"endlinecolor\":\"rgb(36,36,36)\",\"gridcolor\":\"white\",\"linecolor\":\"white\",\"minorgridcolor\":\"white\",\"startlinecolor\":\"rgb(36,36,36)\"},\"type\":\"carpet\"}],\"choropleth\":[{\"colorbar\":{\"outlinewidth\":1,\"tickcolor\":\"rgb(36,36,36)\",\"ticks\":\"outside\"},\"type\":\"choropleth\"}],\"contourcarpet\":[{\"colorbar\":{\"outlinewidth\":1,\"tickcolor\":\"rgb(36,36,36)\",\"ticks\":\"outside\"},\"type\":\"contourcarpet\"}],\"contour\":[{\"colorbar\":{\"outlinewidth\":1,\"tickcolor\":\"rgb(36,36,36)\",\"ticks\":\"outside\"},\"colorscale\":[[0.0,\"#440154\"],[0.1111111111111111,\"#482878\"],[0.2222222222222222,\"#3e4989\"],[0.3333333333333333,\"#31688e\"],[0.4444444444444444,\"#26828e\"],[0.5555555555555556,\"#1f9e89\"],[0.6666666666666666,\"#35b779\"],[0.7777777777777778,\"#6ece58\"],[0.8888888888888888,\"#b5de2b\"],[1.0,\"#fde725\"]],\"type\":\"contour\"}],\"heatmapgl\":[{\"colorbar\":{\"outlinewidth\":1,\"tickcolor\":\"rgb(36,36,36)\",\"ticks\":\"outside\"},\"colorscale\":[[0.0,\"#440154\"],[0.1111111111111111,\"#482878\"],[0.2222222222222222,\"#3e4989\"],[0.3333333333333333,\"#31688e\"],[0.4444444444444444,\"#26828e\"],[0.5555555555555556,\"#1f9e89\"],[0.6666666666666666,\"#35b779\"],[0.7777777777777778,\"#6ece58\"],[0.8888888888888888,\"#b5de2b\"],[1.0,\"#fde725\"]],\"type\":\"heatmapgl\"}],\"heatmap\":[{\"colorbar\":{\"outlinewidth\":1,\"tickcolor\":\"rgb(36,36,36)\",\"ticks\":\"outside\"},\"colorscale\":[[0.0,\"#440154\"],[0.1111111111111111,\"#482878\"],[0.2222222222222222,\"#3e4989\"],[0.3333333333333333,\"#31688e\"],[0.4444444444444444,\"#26828e\"],[0.5555555555555556,\"#1f9e89\"],[0.6666666666666666,\"#35b779\"],[0.7777777777777778,\"#6ece58\"],[0.8888888888888888,\"#b5de2b\"],[1.0,\"#fde725\"]],\"type\":\"heatmap\"}],\"histogram2dcontour\":[{\"colorbar\":{\"outlinewidth\":1,\"tickcolor\":\"rgb(36,36,36)\",\"ticks\":\"outside\"},\"colorscale\":[[0.0,\"#440154\"],[0.1111111111111111,\"#482878\"],[0.2222222222222222,\"#3e4989\"],[0.3333333333333333,\"#31688e\"],[0.4444444444444444,\"#26828e\"],[0.5555555555555556,\"#1f9e89\"],[0.6666666666666666,\"#35b779\"],[0.7777777777777778,\"#6ece58\"],[0.8888888888888888,\"#b5de2b\"],[1.0,\"#fde725\"]],\"type\":\"histogram2dcontour\"}],\"histogram2d\":[{\"colorbar\":{\"outlinewidth\":1,\"tickcolor\":\"rgb(36,36,36)\",\"ticks\":\"outside\"},\"colorscale\":[[0.0,\"#440154\"],[0.1111111111111111,\"#482878\"],[0.2222222222222222,\"#3e4989\"],[0.3333333333333333,\"#31688e\"],[0.4444444444444444,\"#26828e\"],[0.5555555555555556,\"#1f9e89\"],[0.6666666666666666,\"#35b779\"],[0.7777777777777778,\"#6ece58\"],[0.8888888888888888,\"#b5de2b\"],[1.0,\"#fde725\"]],\"type\":\"histogram2d\"}],\"histogram\":[{\"marker\":{\"line\":{\"color\":\"white\",\"width\":0.6}},\"type\":\"histogram\"}],\"mesh3d\":[{\"colorbar\":{\"outlinewidth\":1,\"tickcolor\":\"rgb(36,36,36)\",\"ticks\":\"outside\"},\"type\":\"mesh3d\"}],\"parcoords\":[{\"line\":{\"colorbar\":{\"outlinewidth\":1,\"tickcolor\":\"rgb(36,36,36)\",\"ticks\":\"outside\"}},\"type\":\"parcoords\"}],\"pie\":[{\"automargin\":true,\"type\":\"pie\"}],\"scatter3d\":[{\"line\":{\"colorbar\":{\"outlinewidth\":1,\"tickcolor\":\"rgb(36,36,36)\",\"ticks\":\"outside\"}},\"marker\":{\"colorbar\":{\"outlinewidth\":1,\"tickcolor\":\"rgb(36,36,36)\",\"ticks\":\"outside\"}},\"type\":\"scatter3d\"}],\"scattercarpet\":[{\"marker\":{\"colorbar\":{\"outlinewidth\":1,\"tickcolor\":\"rgb(36,36,36)\",\"ticks\":\"outside\"}},\"type\":\"scattercarpet\"}],\"scattergeo\":[{\"marker\":{\"colorbar\":{\"outlinewidth\":1,\"tickcolor\":\"rgb(36,36,36)\",\"ticks\":\"outside\"}},\"type\":\"scattergeo\"}],\"scattergl\":[{\"marker\":{\"colorbar\":{\"outlinewidth\":1,\"tickcolor\":\"rgb(36,36,36)\",\"ticks\":\"outside\"}},\"type\":\"scattergl\"}],\"scattermapbox\":[{\"marker\":{\"colorbar\":{\"outlinewidth\":1,\"tickcolor\":\"rgb(36,36,36)\",\"ticks\":\"outside\"}},\"type\":\"scattermapbox\"}],\"scatterpolargl\":[{\"marker\":{\"colorbar\":{\"outlinewidth\":1,\"tickcolor\":\"rgb(36,36,36)\",\"ticks\":\"outside\"}},\"type\":\"scatterpolargl\"}],\"scatterpolar\":[{\"marker\":{\"colorbar\":{\"outlinewidth\":1,\"tickcolor\":\"rgb(36,36,36)\",\"ticks\":\"outside\"}},\"type\":\"scatterpolar\"}],\"scatter\":[{\"fillpattern\":{\"fillmode\":\"overlay\",\"size\":10,\"solidity\":0.2},\"type\":\"scatter\"}],\"scatterternary\":[{\"marker\":{\"colorbar\":{\"outlinewidth\":1,\"tickcolor\":\"rgb(36,36,36)\",\"ticks\":\"outside\"}},\"type\":\"scatterternary\"}],\"surface\":[{\"colorbar\":{\"outlinewidth\":1,\"tickcolor\":\"rgb(36,36,36)\",\"ticks\":\"outside\"},\"colorscale\":[[0.0,\"#440154\"],[0.1111111111111111,\"#482878\"],[0.2222222222222222,\"#3e4989\"],[0.3333333333333333,\"#31688e\"],[0.4444444444444444,\"#26828e\"],[0.5555555555555556,\"#1f9e89\"],[0.6666666666666666,\"#35b779\"],[0.7777777777777778,\"#6ece58\"],[0.8888888888888888,\"#b5de2b\"],[1.0,\"#fde725\"]],\"type\":\"surface\"}],\"table\":[{\"cells\":{\"fill\":{\"color\":\"rgb(237,237,237)\"},\"line\":{\"color\":\"white\"}},\"header\":{\"fill\":{\"color\":\"rgb(217,217,217)\"},\"line\":{\"color\":\"white\"}},\"type\":\"table\"}]},\"layout\":{\"annotationdefaults\":{\"arrowhead\":0,\"arrowwidth\":1},\"autotypenumbers\":\"strict\",\"coloraxis\":{\"colorbar\":{\"outlinewidth\":1,\"tickcolor\":\"rgb(36,36,36)\",\"ticks\":\"outside\"}},\"colorscale\":{\"diverging\":[[0.0,\"rgb(103,0,31)\"],[0.1,\"rgb(178,24,43)\"],[0.2,\"rgb(214,96,77)\"],[0.3,\"rgb(244,165,130)\"],[0.4,\"rgb(253,219,199)\"],[0.5,\"rgb(247,247,247)\"],[0.6,\"rgb(209,229,240)\"],[0.7,\"rgb(146,197,222)\"],[0.8,\"rgb(67,147,195)\"],[0.9,\"rgb(33,102,172)\"],[1.0,\"rgb(5,48,97)\"]],\"sequential\":[[0.0,\"#440154\"],[0.1111111111111111,\"#482878\"],[0.2222222222222222,\"#3e4989\"],[0.3333333333333333,\"#31688e\"],[0.4444444444444444,\"#26828e\"],[0.5555555555555556,\"#1f9e89\"],[0.6666666666666666,\"#35b779\"],[0.7777777777777778,\"#6ece58\"],[0.8888888888888888,\"#b5de2b\"],[1.0,\"#fde725\"]],\"sequentialminus\":[[0.0,\"#440154\"],[0.1111111111111111,\"#482878\"],[0.2222222222222222,\"#3e4989\"],[0.3333333333333333,\"#31688e\"],[0.4444444444444444,\"#26828e\"],[0.5555555555555556,\"#1f9e89\"],[0.6666666666666666,\"#35b779\"],[0.7777777777777778,\"#6ece58\"],[0.8888888888888888,\"#b5de2b\"],[1.0,\"#fde725\"]]},\"colorway\":[\"#1F77B4\",\"#FF7F0E\",\"#2CA02C\",\"#D62728\",\"#9467BD\",\"#8C564B\",\"#E377C2\",\"#7F7F7F\",\"#BCBD22\",\"#17BECF\"],\"font\":{\"color\":\"rgb(36,36,36)\"},\"geo\":{\"bgcolor\":\"white\",\"lakecolor\":\"white\",\"landcolor\":\"white\",\"showlakes\":true,\"showland\":true,\"subunitcolor\":\"white\"},\"hoverlabel\":{\"align\":\"left\"},\"hovermode\":\"closest\",\"mapbox\":{\"style\":\"light\"},\"paper_bgcolor\":\"white\",\"plot_bgcolor\":\"white\",\"polar\":{\"angularaxis\":{\"gridcolor\":\"rgb(232,232,232)\",\"linecolor\":\"rgb(36,36,36)\",\"showgrid\":false,\"showline\":true,\"ticks\":\"outside\"},\"bgcolor\":\"white\",\"radialaxis\":{\"gridcolor\":\"rgb(232,232,232)\",\"linecolor\":\"rgb(36,36,36)\",\"showgrid\":false,\"showline\":true,\"ticks\":\"outside\"}},\"scene\":{\"xaxis\":{\"backgroundcolor\":\"white\",\"gridcolor\":\"rgb(232,232,232)\",\"gridwidth\":2,\"linecolor\":\"rgb(36,36,36)\",\"showbackground\":true,\"showgrid\":false,\"showline\":true,\"ticks\":\"outside\",\"zeroline\":false,\"zerolinecolor\":\"rgb(36,36,36)\"},\"yaxis\":{\"backgroundcolor\":\"white\",\"gridcolor\":\"rgb(232,232,232)\",\"gridwidth\":2,\"linecolor\":\"rgb(36,36,36)\",\"showbackground\":true,\"showgrid\":false,\"showline\":true,\"ticks\":\"outside\",\"zeroline\":false,\"zerolinecolor\":\"rgb(36,36,36)\"},\"zaxis\":{\"backgroundcolor\":\"white\",\"gridcolor\":\"rgb(232,232,232)\",\"gridwidth\":2,\"linecolor\":\"rgb(36,36,36)\",\"showbackground\":true,\"showgrid\":false,\"showline\":true,\"ticks\":\"outside\",\"zeroline\":false,\"zerolinecolor\":\"rgb(36,36,36)\"}},\"shapedefaults\":{\"fillcolor\":\"black\",\"line\":{\"width\":0},\"opacity\":0.3},\"ternary\":{\"aaxis\":{\"gridcolor\":\"rgb(232,232,232)\",\"linecolor\":\"rgb(36,36,36)\",\"showgrid\":false,\"showline\":true,\"ticks\":\"outside\"},\"baxis\":{\"gridcolor\":\"rgb(232,232,232)\",\"linecolor\":\"rgb(36,36,36)\",\"showgrid\":false,\"showline\":true,\"ticks\":\"outside\"},\"bgcolor\":\"white\",\"caxis\":{\"gridcolor\":\"rgb(232,232,232)\",\"linecolor\":\"rgb(36,36,36)\",\"showgrid\":false,\"showline\":true,\"ticks\":\"outside\"}},\"title\":{\"x\":0.5,\"xanchor\":\"center\"},\"xaxis\":{\"automargin\":true,\"gridcolor\":\"rgb(232,232,232)\",\"linecolor\":\"rgb(36,36,36)\",\"showgrid\":true,\"showline\":true,\"ticks\":\"outside\",\"title\":{\"standoff\":15},\"zeroline\":false,\"zerolinecolor\":\"rgb(36,36,36)\"},\"yaxis\":{\"automargin\":true,\"gridcolor\":\"rgb(232,232,232)\",\"linecolor\":\"rgb(36,36,36)\",\"showgrid\":true,\"showline\":true,\"ticks\":\"outside\",\"title\":{\"standoff\":15},\"zeroline\":false,\"zerolinecolor\":\"rgb(36,36,36)\"},\"autosize\":true,\"height\":400,\"margin\":{\"b\":30,\"l\":30,\"r\":30,\"t\":30},\"width\":600}},\"xaxis\":{\"anchor\":\"y\",\"domain\":[0.0,1.0],\"title\":{\"text\":\"value\"}},\"yaxis\":{\"anchor\":\"x\",\"domain\":[0.0,1.0],\"title\":{\"text\":\"count\"}},\"legend\":{\"title\":{\"text\":\"position\"},\"tracegroupgap\":0},\"barmode\":\"overlay\"},                        {\"responsive\": true}                    ).then(function(){\n",
       "                            \n",
       "var gd = document.getElementById('afcebef3-a363-4953-83f2-c9d0cc40795b');\n",
       "var x = new MutationObserver(function (mutations, observer) {{\n",
       "        var display = window.getComputedStyle(gd).display;\n",
       "        if (!display || display === 'none') {{\n",
       "            console.log([gd, 'removed!']);\n",
       "            Plotly.purge(gd);\n",
       "            observer.disconnect();\n",
       "        }}\n",
       "}});\n",
       "\n",
       "// Listen for the removal of the full notebook cells\n",
       "var notebookContainer = gd.closest('#notebook-container');\n",
       "if (notebookContainer) {{\n",
       "    x.observe(notebookContainer, {childList: true});\n",
       "}}\n",
       "\n",
       "// Listen for the clearing of the current output cell\n",
       "var outputEl = gd.closest('.output');\n",
       "if (outputEl) {{\n",
       "    x.observe(outputEl, {childList: true});\n",
       "}}\n",
       "\n",
       "                        })                };                });            </script>        </div>"
      ]
     },
     "metadata": {},
     "output_type": "display_data"
    }
   ],
   "source": [
    "pic = px.histogram(pivoted_wins, color= 'position')\n",
    "pic.update_layout(barmode='overlay')\n",
    "pic.update_traces(opacity=0.5)\n",
    "pic.show()"
   ]
  },
  {
   "cell_type": "code",
   "execution_count": 241,
   "metadata": {},
   "outputs": [
    {
     "data": {
      "text/html": [
       "<div>\n",
       "<style scoped>\n",
       "    .dataframe tbody tr th:only-of-type {\n",
       "        vertical-align: middle;\n",
       "    }\n",
       "\n",
       "    .dataframe tbody tr th {\n",
       "        vertical-align: top;\n",
       "    }\n",
       "\n",
       "    .dataframe thead th {\n",
       "        text-align: right;\n",
       "    }\n",
       "</style>\n",
       "<table border=\"1\" class=\"dataframe\">\n",
       "  <thead>\n",
       "    <tr style=\"text-align: right;\">\n",
       "      <th>position</th>\n",
       "      <th>role</th>\n",
       "      <th>max damage dealt</th>\n",
       "    </tr>\n",
       "    <tr>\n",
       "      <th>game no.</th>\n",
       "      <th></th>\n",
       "      <th></th>\n",
       "    </tr>\n",
       "  </thead>\n",
       "  <tbody>\n",
       "    <tr>\n",
       "      <th>2</th>\n",
       "      <td>mid</td>\n",
       "      <td>12577.0</td>\n",
       "    </tr>\n",
       "    <tr>\n",
       "      <th>3</th>\n",
       "      <td>mid</td>\n",
       "      <td>19759.0</td>\n",
       "    </tr>\n",
       "    <tr>\n",
       "      <th>4</th>\n",
       "      <td>mid</td>\n",
       "      <td>17636.0</td>\n",
       "    </tr>\n",
       "    <tr>\n",
       "      <th>...</th>\n",
       "      <td>...</td>\n",
       "      <td>...</td>\n",
       "    </tr>\n",
       "    <tr>\n",
       "      <th>12060</th>\n",
       "      <td>adc</td>\n",
       "      <td>11584.0</td>\n",
       "    </tr>\n",
       "    <tr>\n",
       "      <th>12062</th>\n",
       "      <td>adc</td>\n",
       "      <td>30424.0</td>\n",
       "    </tr>\n",
       "    <tr>\n",
       "      <th>12063</th>\n",
       "      <td>adc</td>\n",
       "      <td>28282.0</td>\n",
       "    </tr>\n",
       "  </tbody>\n",
       "</table>\n",
       "<p>12063 rows × 2 columns</p>\n",
       "</div>"
      ],
      "text/plain": [
       "position role  max damage dealt\n",
       "game no.                       \n",
       "2         mid           12577.0\n",
       "3         mid           19759.0\n",
       "4         mid           17636.0\n",
       "...       ...               ...\n",
       "12060     adc           11584.0\n",
       "12062     adc           30424.0\n",
       "12063     adc           28282.0\n",
       "\n",
       "[12063 rows x 2 columns]"
      ]
     },
     "execution_count": 241,
     "metadata": {},
     "output_type": "execute_result"
    }
   ],
   "source": [
    "#Join the two pivoted columns based on position\n",
    "joined= pd.concat([mid_more_damage, adc_more_damage])\n",
    "#Fill the NaN values\n",
    "joined= joined.fillna(0)\n",
    "\n",
    "#Create a new column of the 'max damage dealt' and rename joined as only the role vs max damage dealt\n",
    "joined['max damage dealt']= joined['adc'] + joined['mid'] \n",
    "joined= joined[['role', 'max damage dealt']]\n",
    "joined"
   ]
  },
  {
   "cell_type": "code",
   "execution_count": 242,
   "metadata": {},
   "outputs": [
    {
     "data": {
      "text/plain": [
       "545.821638930971"
      ]
     },
     "execution_count": 242,
     "metadata": {},
     "output_type": "execute_result"
    }
   ],
   "source": [
    "#Observed Absolute Difference in Means of Max Damage Dealt between Mid and ADC\n",
    "observed_diff_dmg = joined.groupby('role')['max damage dealt'].mean().diff().abs().iloc[-1]\n",
    "observed_diff_dmg"
   ]
  },
  {
   "cell_type": "code",
   "execution_count": 243,
   "metadata": {},
   "outputs": [],
   "source": [
    "#Permutation to test our Hypothesis\n",
    "\n",
    "n_repetitions = 10000\n",
    "\n",
    "differences_dmg = []\n",
    "for _ in range(n_repetitions):\n",
    "    #Shuffle the column 'max damage dealt' and randomly permutate it in another column\n",
    "    with_shuffled = joined.assign(shuffled_max_damage_dealt=np.random.permutation(joined['max damage dealt']))\n",
    "\n",
    "    #Get the difference in means between mid and adc for the shuffled cases\n",
    "    group_means = (\n",
    "        with_shuffled\n",
    "        .groupby('role')\n",
    "        .mean()\n",
    "        .loc[:, 'shuffled_max_damage_dealt']\n",
    "    )\n",
    "    difference = group_means.diff().abs().iloc[-1]\n",
    "    \n",
    "    #Store the result\n",
    "    differences_dmg.append(difference)"
   ]
  },
  {
   "cell_type": "code",
   "execution_count": 244,
   "metadata": {},
   "outputs": [
    {
     "data": {
      "text/plain": [
       "0.0005"
      ]
     },
     "execution_count": 244,
     "metadata": {},
     "output_type": "execute_result"
    }
   ],
   "source": [
    "pval = (pd.Series(differences_dmg) >= observed_diff_dmg).mean()\n",
    "pval\n",
    "\n",
    "#REJECT! 0 < 0.05"
   ]
  },
  {
   "cell_type": "code",
   "execution_count": 245,
   "metadata": {},
   "outputs": [],
   "source": [
    "#Plot the distribution \n",
    "fig = px.histogram(\n",
    "    pd.DataFrame(differences_dmg), x=0, nbins=100, histnorm='probability', \n",
    "    title='Empirical Distribution of the TVDs between Mid and ADC Players')\n",
    "fig.add_vline(x=observed_diff_dmg, line_color='red', line_width=1, opacity=1)\n",
    "\n",
    "fig.write_html('hypotest.html', include_plotlyjs='cdn')"
   ]
  },
  {
   "cell_type": "markdown",
   "metadata": {},
   "source": [
    "## Step 5: Framing a Prediction Problem"
   ]
  },
  {
   "cell_type": "markdown",
   "metadata": {},
   "source": [
    "Clearly state your prediction problem and type (classification or regression). If you are building a classifier, make sure to state whether you are performing binary classification or multiclass classification. Report the response variable (i.e. the variable you are predicting) and why you chose it, the metric you are using to evaluate your model and why you chose it over other suitable metrics (e.g. accuracy vs. F1-score).\n",
    "\n",
    "- Our prediction problem is: Given a dataset of post-game stats, we want to predict which role did they play. To predict the response variable (position), we will be using a multiclass classification. We chose the position as the response variable because there are clear defined criterias for post game statistics for us to draw our model from. "
   ]
  },
  {
   "cell_type": "markdown",
   "metadata": {},
   "source": [
    "## Step 6: Baseline Model"
   ]
  },
  {
   "cell_type": "markdown",
   "metadata": {},
   "source": [
    "Columns for Baseline Model: Position, Champion, Total Damage Dealt (Champions)"
   ]
  },
  {
   "cell_type": "code",
   "execution_count": 246,
   "metadata": {},
   "outputs": [],
   "source": [
    "from sklearn.pipeline import Pipeline, make_pipeline\n",
    "from sklearn.compose import make_column_transformer, make_column_selector, ColumnTransformer\n",
    "from sklearn.preprocessing import FunctionTransformer, OneHotEncoder, Binarizer, KBinsDiscretizer\n",
    "from sklearn.linear_model import LogisticRegression\n",
    "from sklearn.metrics import precision_score\n",
    "from sklearn.ensemble import RandomForestClassifier\n",
    "from sklearn.model_selection import train_test_split, GridSearchCV"
   ]
  },
  {
   "cell_type": "code",
   "execution_count": 247,
   "metadata": {},
   "outputs": [
    {
     "data": {
      "text/html": [
       "<div>\n",
       "<style scoped>\n",
       "    .dataframe tbody tr th:only-of-type {\n",
       "        vertical-align: middle;\n",
       "    }\n",
       "\n",
       "    .dataframe tbody tr th {\n",
       "        vertical-align: top;\n",
       "    }\n",
       "\n",
       "    .dataframe thead th {\n",
       "        text-align: right;\n",
       "    }\n",
       "</style>\n",
       "<table border=\"1\" class=\"dataframe\">\n",
       "  <thead>\n",
       "    <tr style=\"text-align: right;\">\n",
       "      <th></th>\n",
       "      <th>position</th>\n",
       "      <th>champion</th>\n",
       "      <th>kills</th>\n",
       "    </tr>\n",
       "  </thead>\n",
       "  <tbody>\n",
       "    <tr>\n",
       "      <th>0</th>\n",
       "      <td>top</td>\n",
       "      <td>Renekton</td>\n",
       "      <td>2</td>\n",
       "    </tr>\n",
       "    <tr>\n",
       "      <th>1</th>\n",
       "      <td>jng</td>\n",
       "      <td>Xin Zhao</td>\n",
       "      <td>2</td>\n",
       "    </tr>\n",
       "    <tr>\n",
       "      <th>2</th>\n",
       "      <td>mid</td>\n",
       "      <td>LeBlanc</td>\n",
       "      <td>2</td>\n",
       "    </tr>\n",
       "    <tr>\n",
       "      <th>...</th>\n",
       "      <td>...</td>\n",
       "      <td>...</td>\n",
       "      <td>...</td>\n",
       "    </tr>\n",
       "    <tr>\n",
       "      <th>19</th>\n",
       "      <td>mid</td>\n",
       "      <td>Renekton</td>\n",
       "      <td>5</td>\n",
       "    </tr>\n",
       "    <tr>\n",
       "      <th>20</th>\n",
       "      <td>adc</td>\n",
       "      <td>Syndra</td>\n",
       "      <td>3</td>\n",
       "    </tr>\n",
       "    <tr>\n",
       "      <th>21</th>\n",
       "      <td>sup</td>\n",
       "      <td>Leona</td>\n",
       "      <td>0</td>\n",
       "    </tr>\n",
       "  </tbody>\n",
       "</table>\n",
       "<p>20 rows × 3 columns</p>\n",
       "</div>"
      ],
      "text/plain": [
       "   position  champion  kills\n",
       "0       top  Renekton      2\n",
       "1       jng  Xin Zhao      2\n",
       "2       mid   LeBlanc      2\n",
       "..      ...       ...    ...\n",
       "19      mid  Renekton      5\n",
       "20      adc    Syndra      3\n",
       "21      sup     Leona      0\n",
       "\n",
       "[20 rows x 3 columns]"
      ]
     },
     "execution_count": 247,
     "metadata": {},
     "output_type": "execute_result"
    }
   ],
   "source": [
    "#Create a dataframe from the original dataset pulling the columns 'position', 'champion, and 'damage to champion'\n",
    "baseline = league[['position', 'champion', 'kills']]\n",
    "\n",
    "#Filtering out the rows with position 'team'\n",
    "baseline = baseline[baseline['position']!= 'team']\n",
    "\n",
    "baseline_pred = baseline[['champion', 'kills']]\n",
    "baseline.head(20)\n"
   ]
  },
  {
   "cell_type": "code",
   "execution_count": 248,
   "metadata": {},
   "outputs": [],
   "source": [
    "#Train-test split\n",
    "X_base = baseline_pred\n",
    "y_base = baseline['position']\n",
    "X_base_train, X_base_test, y_base_train, y_base_test = train_test_split(X_base, y_base, test_size=0.2)"
   ]
  },
  {
   "cell_type": "code",
   "execution_count": 249,
   "metadata": {},
   "outputs": [],
   "source": [
    "pl_base = Pipeline([\n",
    "    ('one-hot', OneHotEncoder()),\n",
    "    ('multinomial', (LogisticRegression(multi_class='multinomial', max_iter=100000)))\n",
    "])\n",
    "\n",
    "pl_base.fit(X_base_train, y_base_train)\n",
    "y_base_pred= pl_base.predict(X_base_test)"
   ]
  },
  {
   "cell_type": "code",
   "execution_count": 250,
   "metadata": {},
   "outputs": [
    {
     "data": {
      "text/plain": [
       "0.9350604955664208"
      ]
     },
     "execution_count": 250,
     "metadata": {},
     "output_type": "execute_result"
    }
   ],
   "source": [
    "#Training Accuracy Score of Baseline Model\n",
    "pl_base.score(X_base_train, y_base_train)"
   ]
  },
  {
   "cell_type": "code",
   "execution_count": 251,
   "metadata": {},
   "outputs": [
    {
     "data": {
      "text/plain": [
       "0.937142620369603"
      ]
     },
     "execution_count": 251,
     "metadata": {},
     "output_type": "execute_result"
    }
   ],
   "source": [
    "#Testing Accuracy Score of Baseline Model\n",
    "pl_base.score(X_base_test, y_base_test)"
   ]
  },
  {
   "cell_type": "code",
   "execution_count": 252,
   "metadata": {},
   "outputs": [
    {
     "data": {
      "text/plain": [
       "0.9377417238134725"
      ]
     },
     "execution_count": 252,
     "metadata": {},
     "output_type": "execute_result"
    }
   ],
   "source": [
    "#Precision Score of Baseline Model\n",
    "precision_score(y_base_test, y_base_pred, average='weighted')\n"
   ]
  },
  {
   "cell_type": "markdown",
   "metadata": {},
   "source": [
    "## Step 7: Final Model"
   ]
  },
  {
   "cell_type": "code",
   "execution_count": 253,
   "metadata": {},
   "outputs": [],
   "source": [
    "final= league[['position', 'champion', 'kills', 'total damage dealt', 'wards placed', 'monster kills', 'dtpm', 'exp at 10']]\n",
    "final = final[final['position']!= 'team']\n",
    "final['position'] = final['position'].str.replace('bot', 'adc')\n",
    "\n",
    "#Rename 'damagetochampions' as 'total damage dealt'\n",
    "final.dropna(subset=['total damage dealt', 'wards placed', 'monster kills', 'dtpm', 'exp at 10'], inplace=True)\n",
    "final_pred = final.drop(columns= ['position'])\n",
    "#Feature Engineer: Top Wards Placed, Top Damage Taken Per Minute, Binning Total Damage Dealt"
   ]
  },
  {
   "cell_type": "code",
   "execution_count": 254,
   "metadata": {},
   "outputs": [],
   "source": [
    "X = final_pred\n",
    "y = final['position']\n",
    "X_train, X_test, y_train, y_test = train_test_split(X, y, test_size=0.2)"
   ]
  },
  {
   "cell_type": "code",
   "execution_count": 255,
   "metadata": {},
   "outputs": [],
   "source": [
    "def max_of_five(df):\n",
    "    # Find the indices of the maximum values for every 5 rows\n",
    "    max_wards = df['wards placed'].rolling(window=5).apply(lambda x: x.max(), raw=True)\n",
    "    \n",
    "    # Create a mask where the indices of maximum values are 1 and everything else is 0\n",
    "    mask_wards = df.index.isin(max_wards)\n",
    "\n",
    "    # Assign the mask to a new column\n",
    "    df['wards placed'] = mask_wards.astype(int)\n",
    "\n",
    "    return df"
   ]
  },
  {
   "cell_type": "code",
   "execution_count": 256,
   "metadata": {},
   "outputs": [
    {
     "data": {
      "text/plain": [
       "144.7034543325527"
      ]
     },
     "execution_count": 256,
     "metadata": {},
     "output_type": "execute_result"
    }
   ],
   "source": [
    "#Find Threshold for Binarizer\n",
    "threshold= final[final['position']== 'jng']['monster kills'].mean()\n",
    "threshold"
   ]
  },
  {
   "cell_type": "markdown",
   "metadata": {},
   "source": [
    "* testing different modeling alogrithms:"
   ]
  },
  {
   "cell_type": "code",
   "execution_count": 257,
   "metadata": {},
   "outputs": [],
   "source": [
    "# # really slow and inefficient\n",
    "\n",
    "# preproc_final = ColumnTransformer(\n",
    "#     transformers=[\n",
    "#         ('categorical_cols', OneHotEncoder(), ['champion']),\n",
    "#         ('avg_monster', Binarizer(threshold=threshold), ['monster kills']),\n",
    "#         ('max_five', FunctionTransformer(max_of_five), ['wards placed']),\n",
    "#         ('xpat10_bins', KBinsDiscretizer(n_bins=5), ['exp at 10'])\n",
    "        \n",
    "#     ],\n",
    "#     remainder='passthrough'\n",
    "# )\n",
    "\n",
    "# pl_final = Pipeline([\n",
    "#     ('preproc', preproc_final),\n",
    "#     ('multinomial', (LogisticRegression(solver='sag', multi_class='multinomial', max_iter=100000)))\n",
    "# ])\n",
    "\n",
    "# pl_final.fit(final_pred, final['position'])\n",
    "# pl_final.predict(final_pred.head(20))"
   ]
  },
  {
   "cell_type": "markdown",
   "metadata": {},
   "source": [
    "## Final Model\n",
    "\n",
    "- using the better modeling algorithm: `RandomForestClassifier()`"
   ]
  },
  {
   "cell_type": "code",
   "execution_count": 258,
   "metadata": {},
   "outputs": [],
   "source": [
    "# much faster! :)\n",
    "preproc_final = ColumnTransformer(\n",
    "    transformers=[\n",
    "        ('categorical_cols', OneHotEncoder(), ['champion']),\n",
    "        ('avg_monster', Binarizer(threshold=threshold), ['monster kills']),\n",
    "        ('max_five', FunctionTransformer(max_of_five), ['wards placed']),\n",
    "        ('xpat10_bins', KBinsDiscretizer(n_bins=5), ['exp at 10'])\n",
    "        \n",
    "    ],\n",
    "    remainder='passthrough'\n",
    ")\n",
    "\n",
    "pl_final = Pipeline([\n",
    "    ('preproc', preproc_final),\n",
    "    ('rand-forest', RandomForestClassifier(max_depth= 2, criterion= 'gini'))\n",
    "])\n",
    "\n",
    "pl_final.fit(X_train, y_train)\n",
    "y_pred= pl_final.predict(X_test)"
   ]
  },
  {
   "cell_type": "code",
   "execution_count": 259,
   "metadata": {},
   "outputs": [
    {
     "name": "stderr",
     "output_type": "stream",
     "text": [
      "c:\\Users\\USER\\miniforge3\\envs\\dsc80\\lib\\site-packages\\sklearn\\model_selection\\_search.py:969: UserWarning:\n",
      "\n",
      "One or more of the test scores are non-finite: [nan nan nan nan nan nan nan nan nan nan nan nan nan nan nan nan nan nan\n",
      " nan nan]\n",
      "\n"
     ]
    },
    {
     "data": {
      "text/plain": [
       "GridSearchCV(estimator=Pipeline(steps=[('preproc',\n",
       "                                        ColumnTransformer(remainder='passthrough',\n",
       "                                                          transformers=[('categorical_cols',\n",
       "                                                                         OneHotEncoder(),\n",
       "                                                                         ['champion']),\n",
       "                                                                        ('avg_monster',\n",
       "                                                                         Binarizer(threshold=144.7034543325527),\n",
       "                                                                         ['monster '\n",
       "                                                                          'kills']),\n",
       "                                                                        ('max_five',\n",
       "                                                                         FunctionTransformer(func=<function max_of_five at 0x000002462A5D7EE0>),\n",
       "                                                                         ['wards '\n",
       "                                                                          'placed']),\n",
       "                                                                        ('xpat10_bins',\n",
       "                                                                         KBinsDiscretizer(),\n",
       "                                                                         ['exp '\n",
       "                                                                          'at '\n",
       "                                                                          '10'])])),\n",
       "                                       ('rand-forest',\n",
       "                                        RandomForestClassifier(max_depth=2))]),\n",
       "             n_jobs=-1,\n",
       "             param_grid={'rand-forest__criterion': ['gini', 'entropy'],\n",
       "                         'rand-forest__max_depth': [2, 3, 4, 5, 7, 10, 13, 15,\n",
       "                                                    18, None]},\n",
       "             return_train_score=True)"
      ]
     },
     "execution_count": 259,
     "metadata": {},
     "output_type": "execute_result"
    }
   ],
   "source": [
    "#Performing a GridSearchCV to find the optimal combination for our hyperparameters of RandomForest Classifier\n",
    "hyperparameters = {\n",
    "    'rand-forest__max_depth': [2, 3, 4, 5, 7, 10, 13, 15, 18, None], \n",
    "    'rand-forest__criterion': ['gini', 'entropy']\n",
    "}\n",
    "grids = GridSearchCV(\n",
    "    pl_final,\n",
    "    n_jobs=-1, \n",
    "    param_grid=hyperparameters,\n",
    "    return_train_score=True,\n",
    ")\n",
    "\n",
    "grids.fit(X_train, y_train)\n"
   ]
  },
  {
   "cell_type": "code",
   "execution_count": 260,
   "metadata": {},
   "outputs": [
    {
     "data": {
      "text/plain": [
       "{'rand-forest__criterion': 'gini', 'rand-forest__max_depth': 2}"
      ]
     },
     "execution_count": 260,
     "metadata": {},
     "output_type": "execute_result"
    }
   ],
   "source": [
    "#Best hyperparameters to use\n",
    "grids.best_params_"
   ]
  },
  {
   "cell_type": "code",
   "execution_count": 261,
   "metadata": {},
   "outputs": [
    {
     "data": {
      "text/plain": [
       "0.8082430718188915"
      ]
     },
     "execution_count": 261,
     "metadata": {},
     "output_type": "execute_result"
    }
   ],
   "source": [
    "#Training Accuracy of Final Model\n",
    "grids.score(X_train, y_train)"
   ]
  },
  {
   "cell_type": "code",
   "execution_count": 262,
   "metadata": {},
   "outputs": [
    {
     "data": {
      "text/plain": [
       "0.8110362997658079"
      ]
     },
     "execution_count": 262,
     "metadata": {},
     "output_type": "execute_result"
    }
   ],
   "source": [
    "#Testing Accuracy of Final Model\n",
    "grids.score(X_test, y_test)"
   ]
  },
  {
   "cell_type": "code",
   "execution_count": 263,
   "metadata": {},
   "outputs": [
    {
     "data": {
      "text/plain": [
       "0.8420685474273815"
      ]
     },
     "execution_count": 263,
     "metadata": {},
     "output_type": "execute_result"
    }
   ],
   "source": [
    "#Precision Score of Final Model\n",
    "precision_score(y_test, y_pred, average='weighted')"
   ]
  },
  {
   "cell_type": "markdown",
   "metadata": {},
   "source": [
    "## Step 8: Fairness Analysis"
   ]
  },
  {
   "cell_type": "markdown",
   "metadata": {},
   "source": [
    "Here our two groups are:\n",
    "- carries: positions with more than 3 kills\n",
    "- non-carries: positions with less than 3 kills\n",
    "\n",
    "Note: we chose 3 as the threshold because that is the mean kills of all positions. "
   ]
  },
  {
   "cell_type": "markdown",
   "metadata": {},
   "source": [
    "- Null Hypothesis: Our model is fair. Its precision for carries and non-carries are roughly the same, and any differences are due to random chance.\n",
    "- Alternative Hypothesis: Our model is unfair. Its precision for carries is lower than its precision for non-carries."
   ]
  },
  {
   "cell_type": "markdown",
   "metadata": {},
   "source": [
    "#### Permutation Test using Precision \n",
    "\n",
    "- In our data, having a non-carry labeled as a carry (False Positive) is worse than having a carry labeled as a non-carry (False Negative)"
   ]
  },
  {
   "cell_type": "code",
   "execution_count": 264,
   "metadata": {},
   "outputs": [
    {
     "data": {
      "text/html": [
       "<div>\n",
       "<style scoped>\n",
       "    .dataframe tbody tr th:only-of-type {\n",
       "        vertical-align: middle;\n",
       "    }\n",
       "\n",
       "    .dataframe tbody tr th {\n",
       "        vertical-align: top;\n",
       "    }\n",
       "\n",
       "    .dataframe thead th {\n",
       "        text-align: right;\n",
       "    }\n",
       "</style>\n",
       "<table border=\"1\" class=\"dataframe\">\n",
       "  <thead>\n",
       "    <tr style=\"text-align: right;\">\n",
       "      <th></th>\n",
       "      <th>champion</th>\n",
       "      <th>kills</th>\n",
       "      <th>total damage dealt</th>\n",
       "      <th>wards placed</th>\n",
       "      <th>...</th>\n",
       "      <th>exp at 10</th>\n",
       "      <th>prediction</th>\n",
       "      <th>tag</th>\n",
       "      <th>is_carry</th>\n",
       "    </tr>\n",
       "  </thead>\n",
       "  <tbody>\n",
       "    <tr>\n",
       "      <th>87954</th>\n",
       "      <td>Udyr</td>\n",
       "      <td>3</td>\n",
       "      <td>7111.0</td>\n",
       "      <td>4.0</td>\n",
       "      <td>...</td>\n",
       "      <td>4025.0</td>\n",
       "      <td>jng</td>\n",
       "      <td>jng</td>\n",
       "      <td>0</td>\n",
       "    </tr>\n",
       "    <tr>\n",
       "      <th>26844</th>\n",
       "      <td>Graves</td>\n",
       "      <td>2</td>\n",
       "      <td>20029.0</td>\n",
       "      <td>15.0</td>\n",
       "      <td>...</td>\n",
       "      <td>4854.0</td>\n",
       "      <td>mid</td>\n",
       "      <td>top</td>\n",
       "      <td>0</td>\n",
       "    </tr>\n",
       "    <tr>\n",
       "      <th>27828</th>\n",
       "      <td>Jayce</td>\n",
       "      <td>9</td>\n",
       "      <td>23242.0</td>\n",
       "      <td>8.0</td>\n",
       "      <td>...</td>\n",
       "      <td>5007.0</td>\n",
       "      <td>mid</td>\n",
       "      <td>top</td>\n",
       "      <td>1</td>\n",
       "    </tr>\n",
       "    <tr>\n",
       "      <th>...</th>\n",
       "      <td>...</td>\n",
       "      <td>...</td>\n",
       "      <td>...</td>\n",
       "      <td>...</td>\n",
       "      <td>...</td>\n",
       "      <td>...</td>\n",
       "      <td>...</td>\n",
       "      <td>...</td>\n",
       "      <td>...</td>\n",
       "    </tr>\n",
       "    <tr>\n",
       "      <th>109616</th>\n",
       "      <td>Tristana</td>\n",
       "      <td>12</td>\n",
       "      <td>25670.0</td>\n",
       "      <td>28.0</td>\n",
       "      <td>...</td>\n",
       "      <td>3675.0</td>\n",
       "      <td>adc</td>\n",
       "      <td>adc</td>\n",
       "      <td>1</td>\n",
       "    </tr>\n",
       "    <tr>\n",
       "      <th>4181</th>\n",
       "      <td>Kayle</td>\n",
       "      <td>4</td>\n",
       "      <td>20657.0</td>\n",
       "      <td>13.0</td>\n",
       "      <td>...</td>\n",
       "      <td>4158.0</td>\n",
       "      <td>mid</td>\n",
       "      <td>top</td>\n",
       "      <td>1</td>\n",
       "    </tr>\n",
       "    <tr>\n",
       "      <th>44057</th>\n",
       "      <td>Aatrox</td>\n",
       "      <td>5</td>\n",
       "      <td>15893.0</td>\n",
       "      <td>8.0</td>\n",
       "      <td>...</td>\n",
       "      <td>4716.0</td>\n",
       "      <td>top</td>\n",
       "      <td>top</td>\n",
       "      <td>1</td>\n",
       "    </tr>\n",
       "  </tbody>\n",
       "</table>\n",
       "<p>20496 rows × 10 columns</p>\n",
       "</div>"
      ],
      "text/plain": [
       "        champion  kills  total damage dealt  wards placed  ...  exp at 10  \\\n",
       "87954       Udyr      3              7111.0           4.0  ...     4025.0   \n",
       "26844     Graves      2             20029.0          15.0  ...     4854.0   \n",
       "27828      Jayce      9             23242.0           8.0  ...     5007.0   \n",
       "...          ...    ...                 ...           ...  ...        ...   \n",
       "109616  Tristana     12             25670.0          28.0  ...     3675.0   \n",
       "4181       Kayle      4             20657.0          13.0  ...     4158.0   \n",
       "44057     Aatrox      5             15893.0           8.0  ...     4716.0   \n",
       "\n",
       "        prediction  tag is_carry  \n",
       "87954          jng  jng        0  \n",
       "26844          mid  top        0  \n",
       "27828          mid  top        1  \n",
       "...            ...  ...      ...  \n",
       "109616         adc  adc        1  \n",
       "4181           mid  top        1  \n",
       "44057          top  top        1  \n",
       "\n",
       "[20496 rows x 10 columns]"
      ]
     },
     "execution_count": 264,
     "metadata": {},
     "output_type": "execute_result"
    }
   ],
   "source": [
    "#get our prediction for X_test\n",
    "y_pred = pl_final.predict(X_test)\n",
    "\n",
    "#create a df based on X_test for our permutation test\n",
    "results = X_test\n",
    "\n",
    "#append out y_pred and y_test to our results dataframe\n",
    "results['prediction'] = y_pred\n",
    "results['tag'] = y_test\n",
    "thresh_carry= results['kills'].mean()\n",
    "binar = Binarizer(threshold=3)\n",
    "results['is_carry'] = binar.transform([results['kills']]).reshape(-1,1)\n",
    "results"
   ]
  },
  {
   "cell_type": "code",
   "execution_count": 265,
   "metadata": {},
   "outputs": [],
   "source": [
    "#function that calculates precision\n",
    "compute_precision = lambda x: precision_score(x['tag'], x['prediction'])\n"
   ]
  },
  {
   "cell_type": "code",
   "execution_count": 266,
   "metadata": {},
   "outputs": [
    {
     "ename": "ValueError",
     "evalue": "Target is multiclass but average='binary'. Please choose another average setting, one of [None, 'micro', 'macro', 'weighted'].",
     "output_type": "error",
     "traceback": [
      "\u001b[1;31m---------------------------------------------------------------------------\u001b[0m",
      "\u001b[1;31mValueError\u001b[0m                                Traceback (most recent call last)",
      "Cell \u001b[1;32mIn[266], line 2\u001b[0m\n\u001b[0;32m      1\u001b[0m \u001b[38;5;66;03m#observed precision\u001b[39;00m\n\u001b[1;32m----> 2\u001b[0m obs_prec \u001b[38;5;241m=\u001b[39m \u001b[43mresults\u001b[49m\u001b[38;5;241;43m.\u001b[39;49m\u001b[43mgroupby\u001b[49m\u001b[43m(\u001b[49m\u001b[38;5;124;43m'\u001b[39;49m\u001b[38;5;124;43mis_carry\u001b[39;49m\u001b[38;5;124;43m'\u001b[39;49m\u001b[43m)\u001b[49m\u001b[38;5;241;43m.\u001b[39;49m\u001b[43mapply\u001b[49m\u001b[43m(\u001b[49m\u001b[43mcompute_precision\u001b[49m\u001b[43m)\u001b[49m\u001b[38;5;241m.\u001b[39mdiff()\u001b[38;5;241m.\u001b[39miloc[\u001b[38;5;241m-\u001b[39m\u001b[38;5;241m1\u001b[39m]\n\u001b[0;32m      3\u001b[0m obs_prec\n",
      "File \u001b[1;32mc:\\Users\\USER\\miniforge3\\envs\\dsc80\\lib\\site-packages\\pandas\\core\\groupby\\groupby.py:1272\u001b[0m, in \u001b[0;36mGroupBy.apply\u001b[1;34m(self, func, *args, **kwargs)\u001b[0m\n\u001b[0;32m   1270\u001b[0m \u001b[38;5;28;01mwith\u001b[39;00m option_context(\u001b[38;5;124m\"\u001b[39m\u001b[38;5;124mmode.chained_assignment\u001b[39m\u001b[38;5;124m\"\u001b[39m, \u001b[38;5;28;01mNone\u001b[39;00m):\n\u001b[0;32m   1271\u001b[0m     \u001b[38;5;28;01mtry\u001b[39;00m:\n\u001b[1;32m-> 1272\u001b[0m         result \u001b[38;5;241m=\u001b[39m \u001b[38;5;28;43mself\u001b[39;49m\u001b[38;5;241;43m.\u001b[39;49m\u001b[43m_python_apply_general\u001b[49m\u001b[43m(\u001b[49m\u001b[43mf\u001b[49m\u001b[43m,\u001b[49m\u001b[43m \u001b[49m\u001b[38;5;28;43mself\u001b[39;49m\u001b[38;5;241;43m.\u001b[39;49m\u001b[43m_selected_obj\u001b[49m\u001b[43m)\u001b[49m\n\u001b[0;32m   1273\u001b[0m     \u001b[38;5;28;01mexcept\u001b[39;00m \u001b[38;5;167;01mTypeError\u001b[39;00m:\n\u001b[0;32m   1274\u001b[0m         \u001b[38;5;66;03m# gh-20949\u001b[39;00m\n\u001b[0;32m   1275\u001b[0m         \u001b[38;5;66;03m# try again, with .apply acting as a filtering\u001b[39;00m\n\u001b[1;32m   (...)\u001b[0m\n\u001b[0;32m   1279\u001b[0m         \u001b[38;5;66;03m# fails on *some* columns, e.g. a numeric operation\u001b[39;00m\n\u001b[0;32m   1280\u001b[0m         \u001b[38;5;66;03m# on a string grouper column\u001b[39;00m\n\u001b[0;32m   1282\u001b[0m         \u001b[38;5;28;01mwith\u001b[39;00m group_selection_context(\u001b[38;5;28mself\u001b[39m):\n",
      "File \u001b[1;32mc:\\Users\\USER\\miniforge3\\envs\\dsc80\\lib\\site-packages\\pandas\\core\\groupby\\groupby.py:1306\u001b[0m, in \u001b[0;36mGroupBy._python_apply_general\u001b[1;34m(self, f, data)\u001b[0m\n\u001b[0;32m   1287\u001b[0m \u001b[38;5;129m@final\u001b[39m\n\u001b[0;32m   1288\u001b[0m \u001b[38;5;28;01mdef\u001b[39;00m \u001b[38;5;21m_python_apply_general\u001b[39m(\n\u001b[0;32m   1289\u001b[0m     \u001b[38;5;28mself\u001b[39m, f: F, data: FrameOrSeriesUnion\n\u001b[0;32m   1290\u001b[0m ) \u001b[38;5;241m-\u001b[39m\u001b[38;5;241m>\u001b[39m FrameOrSeriesUnion:\n\u001b[0;32m   1291\u001b[0m \u001b[38;5;250m    \u001b[39m\u001b[38;5;124;03m\"\"\"\u001b[39;00m\n\u001b[0;32m   1292\u001b[0m \u001b[38;5;124;03m    Apply function f in python space\u001b[39;00m\n\u001b[0;32m   1293\u001b[0m \n\u001b[1;32m   (...)\u001b[0m\n\u001b[0;32m   1304\u001b[0m \u001b[38;5;124;03m        data after applying f\u001b[39;00m\n\u001b[0;32m   1305\u001b[0m \u001b[38;5;124;03m    \"\"\"\u001b[39;00m\n\u001b[1;32m-> 1306\u001b[0m     keys, values, mutated \u001b[38;5;241m=\u001b[39m \u001b[38;5;28;43mself\u001b[39;49m\u001b[38;5;241;43m.\u001b[39;49m\u001b[43mgrouper\u001b[49m\u001b[38;5;241;43m.\u001b[39;49m\u001b[43mapply\u001b[49m\u001b[43m(\u001b[49m\u001b[43mf\u001b[49m\u001b[43m,\u001b[49m\u001b[43m \u001b[49m\u001b[43mdata\u001b[49m\u001b[43m,\u001b[49m\u001b[43m \u001b[49m\u001b[38;5;28;43mself\u001b[39;49m\u001b[38;5;241;43m.\u001b[39;49m\u001b[43maxis\u001b[49m\u001b[43m)\u001b[49m\n\u001b[0;32m   1308\u001b[0m     \u001b[38;5;28;01mreturn\u001b[39;00m \u001b[38;5;28mself\u001b[39m\u001b[38;5;241m.\u001b[39m_wrap_applied_output(\n\u001b[0;32m   1309\u001b[0m         data, keys, values, not_indexed_same\u001b[38;5;241m=\u001b[39mmutated \u001b[38;5;129;01mor\u001b[39;00m \u001b[38;5;28mself\u001b[39m\u001b[38;5;241m.\u001b[39mmutated\n\u001b[0;32m   1310\u001b[0m     )\n",
      "File \u001b[1;32mc:\\Users\\USER\\miniforge3\\envs\\dsc80\\lib\\site-packages\\pandas\\core\\groupby\\ops.py:783\u001b[0m, in \u001b[0;36mBaseGrouper.apply\u001b[1;34m(self, f, data, axis)\u001b[0m\n\u001b[0;32m    781\u001b[0m \u001b[38;5;28;01mtry\u001b[39;00m:\n\u001b[0;32m    782\u001b[0m     sdata \u001b[38;5;241m=\u001b[39m splitter\u001b[38;5;241m.\u001b[39msorted_data\n\u001b[1;32m--> 783\u001b[0m     result_values, mutated \u001b[38;5;241m=\u001b[39m \u001b[43msplitter\u001b[49m\u001b[38;5;241;43m.\u001b[39;49m\u001b[43mfast_apply\u001b[49m\u001b[43m(\u001b[49m\u001b[43mf\u001b[49m\u001b[43m,\u001b[49m\u001b[43m \u001b[49m\u001b[43msdata\u001b[49m\u001b[43m,\u001b[49m\u001b[43m \u001b[49m\u001b[43mgroup_keys\u001b[49m\u001b[43m)\u001b[49m\n\u001b[0;32m    785\u001b[0m \u001b[38;5;28;01mexcept\u001b[39;00m \u001b[38;5;167;01mIndexError\u001b[39;00m:\n\u001b[0;32m    786\u001b[0m     \u001b[38;5;66;03m# This is a rare case in which re-running in python-space may\u001b[39;00m\n\u001b[0;32m    787\u001b[0m     \u001b[38;5;66;03m#  make a difference, see  test_apply_mutate.test_mutate_groups\u001b[39;00m\n\u001b[0;32m    788\u001b[0m     \u001b[38;5;28;01mpass\u001b[39;00m\n",
      "File \u001b[1;32mc:\\Users\\USER\\miniforge3\\envs\\dsc80\\lib\\site-packages\\pandas\\core\\groupby\\ops.py:1328\u001b[0m, in \u001b[0;36mFrameSplitter.fast_apply\u001b[1;34m(self, f, sdata, names)\u001b[0m\n\u001b[0;32m   1325\u001b[0m \u001b[38;5;28;01mdef\u001b[39;00m \u001b[38;5;21mfast_apply\u001b[39m(\u001b[38;5;28mself\u001b[39m, f: F, sdata: FrameOrSeries, names):\n\u001b[0;32m   1326\u001b[0m     \u001b[38;5;66;03m# must return keys::list, values::list, mutated::bool\u001b[39;00m\n\u001b[0;32m   1327\u001b[0m     starts, ends \u001b[38;5;241m=\u001b[39m lib\u001b[38;5;241m.\u001b[39mgenerate_slices(\u001b[38;5;28mself\u001b[39m\u001b[38;5;241m.\u001b[39mslabels, \u001b[38;5;28mself\u001b[39m\u001b[38;5;241m.\u001b[39mngroups)\n\u001b[1;32m-> 1328\u001b[0m     \u001b[38;5;28;01mreturn\u001b[39;00m \u001b[43mlibreduction\u001b[49m\u001b[38;5;241;43m.\u001b[39;49m\u001b[43mapply_frame_axis0\u001b[49m\u001b[43m(\u001b[49m\u001b[43msdata\u001b[49m\u001b[43m,\u001b[49m\u001b[43m \u001b[49m\u001b[43mf\u001b[49m\u001b[43m,\u001b[49m\u001b[43m \u001b[49m\u001b[43mnames\u001b[49m\u001b[43m,\u001b[49m\u001b[43m \u001b[49m\u001b[43mstarts\u001b[49m\u001b[43m,\u001b[49m\u001b[43m \u001b[49m\u001b[43mends\u001b[49m\u001b[43m)\u001b[49m\n",
      "File \u001b[1;32mc:\\Users\\USER\\miniforge3\\envs\\dsc80\\lib\\site-packages\\pandas\\_libs\\reduction.pyx:381\u001b[0m, in \u001b[0;36mpandas._libs.reduction.apply_frame_axis0\u001b[1;34m()\u001b[0m\n",
      "Cell \u001b[1;32mIn[265], line 2\u001b[0m, in \u001b[0;36m<lambda>\u001b[1;34m(x)\u001b[0m\n\u001b[0;32m      1\u001b[0m \u001b[38;5;66;03m#function that calculates precision\u001b[39;00m\n\u001b[1;32m----> 2\u001b[0m compute_precision \u001b[38;5;241m=\u001b[39m \u001b[38;5;28;01mlambda\u001b[39;00m x: \u001b[43mprecision_score\u001b[49m\u001b[43m(\u001b[49m\u001b[43mx\u001b[49m\u001b[43m[\u001b[49m\u001b[38;5;124;43m'\u001b[39;49m\u001b[38;5;124;43mtag\u001b[39;49m\u001b[38;5;124;43m'\u001b[39;49m\u001b[43m]\u001b[49m\u001b[43m,\u001b[49m\u001b[43m \u001b[49m\u001b[43mx\u001b[49m\u001b[43m[\u001b[49m\u001b[38;5;124;43m'\u001b[39;49m\u001b[38;5;124;43mprediction\u001b[39;49m\u001b[38;5;124;43m'\u001b[39;49m\u001b[43m]\u001b[49m\u001b[43m)\u001b[49m\n",
      "File \u001b[1;32mc:\\Users\\USER\\miniforge3\\envs\\dsc80\\lib\\site-packages\\sklearn\\metrics\\_classification.py:1757\u001b[0m, in \u001b[0;36mprecision_score\u001b[1;34m(y_true, y_pred, labels, pos_label, average, sample_weight, zero_division)\u001b[0m\n\u001b[0;32m   1628\u001b[0m \u001b[38;5;28;01mdef\u001b[39;00m \u001b[38;5;21mprecision_score\u001b[39m(\n\u001b[0;32m   1629\u001b[0m     y_true,\n\u001b[0;32m   1630\u001b[0m     y_pred,\n\u001b[1;32m   (...)\u001b[0m\n\u001b[0;32m   1636\u001b[0m     zero_division\u001b[38;5;241m=\u001b[39m\u001b[38;5;124m\"\u001b[39m\u001b[38;5;124mwarn\u001b[39m\u001b[38;5;124m\"\u001b[39m,\n\u001b[0;32m   1637\u001b[0m ):\n\u001b[0;32m   1638\u001b[0m \u001b[38;5;250m    \u001b[39m\u001b[38;5;124;03m\"\"\"Compute the precision.\u001b[39;00m\n\u001b[0;32m   1639\u001b[0m \n\u001b[0;32m   1640\u001b[0m \u001b[38;5;124;03m    The precision is the ratio ``tp / (tp + fp)`` where ``tp`` is the number of\u001b[39;00m\n\u001b[1;32m   (...)\u001b[0m\n\u001b[0;32m   1755\u001b[0m \u001b[38;5;124;03m    array([0.5, 1. , 1. ])\u001b[39;00m\n\u001b[0;32m   1756\u001b[0m \u001b[38;5;124;03m    \"\"\"\u001b[39;00m\n\u001b[1;32m-> 1757\u001b[0m     p, _, _, _ \u001b[38;5;241m=\u001b[39m \u001b[43mprecision_recall_fscore_support\u001b[49m\u001b[43m(\u001b[49m\n\u001b[0;32m   1758\u001b[0m \u001b[43m        \u001b[49m\u001b[43my_true\u001b[49m\u001b[43m,\u001b[49m\n\u001b[0;32m   1759\u001b[0m \u001b[43m        \u001b[49m\u001b[43my_pred\u001b[49m\u001b[43m,\u001b[49m\n\u001b[0;32m   1760\u001b[0m \u001b[43m        \u001b[49m\u001b[43mlabels\u001b[49m\u001b[38;5;241;43m=\u001b[39;49m\u001b[43mlabels\u001b[49m\u001b[43m,\u001b[49m\n\u001b[0;32m   1761\u001b[0m \u001b[43m        \u001b[49m\u001b[43mpos_label\u001b[49m\u001b[38;5;241;43m=\u001b[39;49m\u001b[43mpos_label\u001b[49m\u001b[43m,\u001b[49m\n\u001b[0;32m   1762\u001b[0m \u001b[43m        \u001b[49m\u001b[43maverage\u001b[49m\u001b[38;5;241;43m=\u001b[39;49m\u001b[43maverage\u001b[49m\u001b[43m,\u001b[49m\n\u001b[0;32m   1763\u001b[0m \u001b[43m        \u001b[49m\u001b[43mwarn_for\u001b[49m\u001b[38;5;241;43m=\u001b[39;49m\u001b[43m(\u001b[49m\u001b[38;5;124;43m\"\u001b[39;49m\u001b[38;5;124;43mprecision\u001b[39;49m\u001b[38;5;124;43m\"\u001b[39;49m\u001b[43m,\u001b[49m\u001b[43m)\u001b[49m\u001b[43m,\u001b[49m\n\u001b[0;32m   1764\u001b[0m \u001b[43m        \u001b[49m\u001b[43msample_weight\u001b[49m\u001b[38;5;241;43m=\u001b[39;49m\u001b[43msample_weight\u001b[49m\u001b[43m,\u001b[49m\n\u001b[0;32m   1765\u001b[0m \u001b[43m        \u001b[49m\u001b[43mzero_division\u001b[49m\u001b[38;5;241;43m=\u001b[39;49m\u001b[43mzero_division\u001b[49m\u001b[43m,\u001b[49m\n\u001b[0;32m   1766\u001b[0m \u001b[43m    \u001b[49m\u001b[43m)\u001b[49m\n\u001b[0;32m   1767\u001b[0m     \u001b[38;5;28;01mreturn\u001b[39;00m p\n",
      "File \u001b[1;32mc:\\Users\\USER\\miniforge3\\envs\\dsc80\\lib\\site-packages\\sklearn\\metrics\\_classification.py:1544\u001b[0m, in \u001b[0;36mprecision_recall_fscore_support\u001b[1;34m(y_true, y_pred, beta, labels, pos_label, average, warn_for, sample_weight, zero_division)\u001b[0m\n\u001b[0;32m   1542\u001b[0m \u001b[38;5;28;01mif\u001b[39;00m beta \u001b[38;5;241m<\u001b[39m \u001b[38;5;241m0\u001b[39m:\n\u001b[0;32m   1543\u001b[0m     \u001b[38;5;28;01mraise\u001b[39;00m \u001b[38;5;167;01mValueError\u001b[39;00m(\u001b[38;5;124m\"\u001b[39m\u001b[38;5;124mbeta should be >=0 in the F-beta score\u001b[39m\u001b[38;5;124m\"\u001b[39m)\n\u001b[1;32m-> 1544\u001b[0m labels \u001b[38;5;241m=\u001b[39m \u001b[43m_check_set_wise_labels\u001b[49m\u001b[43m(\u001b[49m\u001b[43my_true\u001b[49m\u001b[43m,\u001b[49m\u001b[43m \u001b[49m\u001b[43my_pred\u001b[49m\u001b[43m,\u001b[49m\u001b[43m \u001b[49m\u001b[43maverage\u001b[49m\u001b[43m,\u001b[49m\u001b[43m \u001b[49m\u001b[43mlabels\u001b[49m\u001b[43m,\u001b[49m\u001b[43m \u001b[49m\u001b[43mpos_label\u001b[49m\u001b[43m)\u001b[49m\n\u001b[0;32m   1546\u001b[0m \u001b[38;5;66;03m# Calculate tp_sum, pred_sum, true_sum ###\u001b[39;00m\n\u001b[0;32m   1547\u001b[0m samplewise \u001b[38;5;241m=\u001b[39m average \u001b[38;5;241m==\u001b[39m \u001b[38;5;124m\"\u001b[39m\u001b[38;5;124msamples\u001b[39m\u001b[38;5;124m\"\u001b[39m\n",
      "File \u001b[1;32mc:\\Users\\USER\\miniforge3\\envs\\dsc80\\lib\\site-packages\\sklearn\\metrics\\_classification.py:1365\u001b[0m, in \u001b[0;36m_check_set_wise_labels\u001b[1;34m(y_true, y_pred, average, labels, pos_label)\u001b[0m\n\u001b[0;32m   1363\u001b[0m         \u001b[38;5;28;01mif\u001b[39;00m y_type \u001b[38;5;241m==\u001b[39m \u001b[38;5;124m\"\u001b[39m\u001b[38;5;124mmulticlass\u001b[39m\u001b[38;5;124m\"\u001b[39m:\n\u001b[0;32m   1364\u001b[0m             average_options\u001b[38;5;241m.\u001b[39mremove(\u001b[38;5;124m\"\u001b[39m\u001b[38;5;124msamples\u001b[39m\u001b[38;5;124m\"\u001b[39m)\n\u001b[1;32m-> 1365\u001b[0m         \u001b[38;5;28;01mraise\u001b[39;00m \u001b[38;5;167;01mValueError\u001b[39;00m(\n\u001b[0;32m   1366\u001b[0m             \u001b[38;5;124m\"\u001b[39m\u001b[38;5;124mTarget is \u001b[39m\u001b[38;5;132;01m%s\u001b[39;00m\u001b[38;5;124m but average=\u001b[39m\u001b[38;5;124m'\u001b[39m\u001b[38;5;124mbinary\u001b[39m\u001b[38;5;124m'\u001b[39m\u001b[38;5;124m. Please \u001b[39m\u001b[38;5;124m\"\u001b[39m\n\u001b[0;32m   1367\u001b[0m             \u001b[38;5;124m\"\u001b[39m\u001b[38;5;124mchoose another average setting, one of \u001b[39m\u001b[38;5;132;01m%r\u001b[39;00m\u001b[38;5;124m.\u001b[39m\u001b[38;5;124m\"\u001b[39m \u001b[38;5;241m%\u001b[39m (y_type, average_options)\n\u001b[0;32m   1368\u001b[0m         )\n\u001b[0;32m   1369\u001b[0m \u001b[38;5;28;01melif\u001b[39;00m pos_label \u001b[38;5;129;01mnot\u001b[39;00m \u001b[38;5;129;01min\u001b[39;00m (\u001b[38;5;28;01mNone\u001b[39;00m, \u001b[38;5;241m1\u001b[39m):\n\u001b[0;32m   1370\u001b[0m     warnings\u001b[38;5;241m.\u001b[39mwarn(\n\u001b[0;32m   1371\u001b[0m         \u001b[38;5;124m\"\u001b[39m\u001b[38;5;124mNote that pos_label (set to \u001b[39m\u001b[38;5;132;01m%r\u001b[39;00m\u001b[38;5;124m) is ignored when \u001b[39m\u001b[38;5;124m\"\u001b[39m\n\u001b[0;32m   1372\u001b[0m         \u001b[38;5;124m\"\u001b[39m\u001b[38;5;124maverage != \u001b[39m\u001b[38;5;124m'\u001b[39m\u001b[38;5;124mbinary\u001b[39m\u001b[38;5;124m'\u001b[39m\u001b[38;5;124m (got \u001b[39m\u001b[38;5;132;01m%r\u001b[39;00m\u001b[38;5;124m). You may use \u001b[39m\u001b[38;5;124m\"\u001b[39m\n\u001b[1;32m   (...)\u001b[0m\n\u001b[0;32m   1375\u001b[0m         \u001b[38;5;167;01mUserWarning\u001b[39;00m,\n\u001b[0;32m   1376\u001b[0m     )\n",
      "\u001b[1;31mValueError\u001b[0m: Target is multiclass but average='binary'. Please choose another average setting, one of [None, 'micro', 'macro', 'weighted']."
     ]
    }
   ],
   "source": [
    "#observed precision\n",
    "obs_prec = results.groupby('is_carry').apply(compute_precision).diff().iloc[-1]\n",
    "obs_prec"
   ]
  },
  {
   "cell_type": "code",
   "execution_count": null,
   "metadata": {},
   "outputs": [],
   "source": [
    "#perform permutations test\n",
    "\n",
    "diff_in_prec = []\n",
    "for _ in range(500):\n",
    "    s = (\n",
    "        results[['is_carry', 'prediction', 'tag']]\n",
    "        .assign(is_carry=np.random.permutation(results['is_carry']))\n",
    "        .groupby('is_carry')\n",
    "        .apply(compute_precision)\n",
    "        .diff()\n",
    "        .iloc[-1]\n",
    "    )\n",
    "    \n",
    "    diff_in_prec.append(s)"
   ]
  },
  {
   "cell_type": "markdown",
   "metadata": {},
   "source": [
    "#### Conclusion\n",
    "\n",
    "- Based on the graph below, our model does not achieve precision parity :("
   ]
  },
  {
   "cell_type": "code",
   "execution_count": null,
   "metadata": {},
   "outputs": [],
   "source": [
    "fig = pd.Series(diff_in_prec).plot(kind='hist', histnorm='probability', nbins=50,\n",
    "                            title='Difference in Precision (Carry vs. Non-Carry)')\n",
    "fig.add_vline(x=obs, line_color='red', line_width=1, opacity=1)\n",
    "fig.add_annotation(text=f'<span style=\"color:red\">Observed Precision = {round(obs, 2)}</span>', showarrow= False, y=0.095)\n",
    "fig.update_layout(xaxis_range=[-0.02, 0.02])\n",
    "fig.update_layout(yaxis_range=[0, 0.1])\n",
    "\n",
    "fig.write_html('fairness.html', include_plotlyjs='cdn')"
   ]
  },
  {
   "cell_type": "code",
   "execution_count": null,
   "metadata": {},
   "outputs": [
    {
     "data": {
      "text/plain": [
       "1.0"
      ]
     },
     "execution_count": 200,
     "metadata": {},
     "output_type": "execute_result"
    }
   ],
   "source": [
    "pval_prec = (pd.Series(diff_in_prec) >= obs_prec).mean()\n",
    "pval_prec"
   ]
  },
  {
   "cell_type": "code",
   "execution_count": null,
   "metadata": {},
   "outputs": [],
   "source": []
  }
 ],
 "metadata": {
  "kernelspec": {
   "display_name": "dsc80",
   "language": "python",
   "name": "python3"
  },
  "language_info": {
   "codemirror_mode": {
    "name": "ipython",
    "version": 3
   },
   "file_extension": ".py",
   "mimetype": "text/x-python",
   "name": "python",
   "nbconvert_exporter": "python",
   "pygments_lexer": "ipython3",
   "version": "3.8.18"
  }
 },
 "nbformat": 4,
 "nbformat_minor": 2
}
