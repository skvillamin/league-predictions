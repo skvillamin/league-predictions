{
 "cells": [
  {
   "cell_type": "markdown",
   "metadata": {},
   "source": [
    "# Who's the Better Carry: ADC or Midlaner?\n",
    "\n",
    "**Name(s)**: Katelyn Villamin and Nancy Shen\n",
    "\n",
    "**Website Link**: (your website link)"
   ]
  },
  {
   "cell_type": "code",
   "execution_count": 210,
   "metadata": {},
   "outputs": [],
   "source": [
    "import pandas as pd\n",
    "import numpy as np\n",
    "from pathlib import Path\n",
    "\n",
    "import plotly.express as px\n",
    "pd.options.plotting.backend = 'plotly'\n",
    "\n",
    "from dsc80_utils import *"
   ]
  },
  {
   "cell_type": "markdown",
   "metadata": {},
   "source": [
    "## Step 1: Introduction"
   ]
  },
  {
   "cell_type": "markdown",
   "metadata": {},
   "source": [
    "### **TO ASK:**\n",
    "\n",
    "1. Missingness: After doing permutation test, how to tell if it's MAR or MCAR?\n",
    "2. How to find the distribution of the games won where ADC had more total damage than mid and vice versa (how to see the data game by game, our idea is to use team position)\n",
    "    - Length of adc and mid doesn't match (WHY!!!)"
   ]
  },
  {
   "cell_type": "markdown",
   "metadata": {},
   "source": [
    "Which role carries the most in winning teams: ADCs or Midlanders?\n",
    "\n",
    "Things to consider: \n",
    "- deaths per minute\n",
    "- kills per minute\n",
    "- KDA\n",
    "- cs per minute (gold)\n",
    "- Winning teams only \n",
    "- double/triple/quadra/penta kills "
   ]
  },
  {
   "cell_type": "markdown",
   "metadata": {},
   "source": [
    "## Step 2: Data Cleaning and Exploratory Data Analysis"
   ]
  },
  {
   "cell_type": "code",
   "execution_count": 211,
   "metadata": {},
   "outputs": [],
   "source": [
    "#import dataset from data folder\n",
    "league_fp = Path('data') / '2022_LoL_esports_match_data_from_OraclesElixir.csv'\n",
    "league = pd.read_csv(league_fp, low_memory=False)\n",
    "\n",
    "#isolate the columns needed\n",
    "columns_needed = ['year', 'league', 'position', 'champion', 'kills', 'doublekills', 'damagetochampions', 'damagetakenperminute', 'damagemitigatedperminute','firstbloodkill', 'monsterkills', 'wardsplaced', 'xpat10', 'towers', 'result']\n",
    "league = league[columns_needed]\n",
    "\n",
    "#since we're looking at the 2022 dataset make sure all the games are completed in 2022\n",
    "league = league[league['year'] == 2022]\n",
    "league= league.drop(columns= 'year')\n",
    "\n",
    "#change all the position column values that are 'bot' to 'adc' for clarity\n",
    "league['position'] = league['position'].str.replace('bot', 'adc')\n",
    "\n",
    "#change column names to more appropriate ones\n",
    "league.rename(columns={\n",
    "    \"damagetochampions\": \"total damage dealt\", \n",
    "    \"firstbloodkill\": \"first blood kill\",\n",
    "    'wardsplaced': 'wards placed', \n",
    "    'monsterkills': 'monster kills', \n",
    "    'damagetakenperminute': 'dtpm',\n",
    "    'damagemitigatedperminute': 'dmpm',\n",
    "    'xpat10' : 'exp at 10'\n",
    "    }, inplace=True)\n",
    "\n",
    "#change 'first blood kill' and 'result' to booleans\n",
    "league[\"first blood kill\"] = league[\"first blood kill\"].astype(bool)\n",
    "league[\"result\"] = league[\"result\"].astype(bool)\n",
    "league"
   ]
  },
  {
   "cell_type": "code",
   "execution_count": null,
   "metadata": {},
   "outputs": [
    {
     "name": "stdout",
     "output_type": "stream",
     "text": [
      "| league   | position   | champion   |   kills |   doublekills |   total damage dealt |     dtpm |    dmpm | first blood kill   |   monster kills |   wards placed |   exp at 10 |   towers | result   |\n",
      "|:---------|:-----------|:-----------|--------:|--------------:|---------------------:|---------:|--------:|:-------------------|----------------:|---------------:|------------:|---------:|:---------|\n",
      "| LCKC     | top        | Renekton   |       2 |             0 |                15768 | 1072.4   | 777.793 | False              |              11 |              8 |        4909 |      nan | False    |\n",
      "| LCKC     | jng        | Xin Zhao   |       2 |             0 |                11765 |  944.273 | 650.158 | False              |             115 |              6 |        3484 |      nan | False    |\n",
      "| LCKC     | mid        | LeBlanc    |       2 |             0 |                14258 |  581.646 | 227.776 | False              |              16 |             19 |        4556 |      nan | False    |\n",
      "| LCKC     | adc        | Samira     |       2 |             0 |                11106 |  463.853 | 218.879 | False              |              18 |             12 |        3103 |      nan | False    |\n",
      "| LCKC     | sup        | Leona      |       1 |             0 |                 3663 |  475.026 | 490.123 | True               |               0 |             29 |        2161 |      nan | False    |\n"
     ]
    }
   ],
   "source": [
    "print(league.head().to_markdown(index=False))"
   ]
  },
  {
   "cell_type": "markdown",
   "metadata": {},
   "source": [
    "| Column | Description|\n",
    "| --- | --- |\n",
    "| `'year'` | the year the games took place in|\n",
    "| `'league'` | The league in which the players and teams play in |\n",
    "| `'team name'` | The team each player plays for |\n",
    "| `'position'` | The role of the player in the game |\n",
    "| `'kills'` | Total number of kills a player has in a game |\n",
    "| `'deaths'` | Total number of times a player dies in a game |\n",
    "| `'assists'` | Total number of assits a player has in a game |\n",
    "| `'doublekills'` | Total number of times a player kills an two opponents consecutively |\n",
    "| `'total damage dealt'` | Total damage dealt to enemy champions by player|\n",
    "| `'dpm'` | Average damage dealt to enemy champions per minute by player|\n",
    "| `'total gold earned'` | Total gold earned by player in a game (excludes starting gold and inherent gold generation) |\n",
    "| `'gpm'` | Average gold earned per minute by player (excludes starting gold and inherent gold generation) |\n",
    "| `'first blood kill'` | Whether the player got the first kill |\n",
    "| `'result'` | Whether or not the team won that game |"
   ]
  },
  {
   "cell_type": "code",
   "execution_count": null,
   "metadata": {},
   "outputs": [
    {
     "data": {
      "text/html": [
       "<div>\n",
       "<style scoped>\n",
       "    .dataframe tbody tr th:only-of-type {\n",
       "        vertical-align: middle;\n",
       "    }\n",
       "\n",
       "    .dataframe tbody tr th {\n",
       "        vertical-align: top;\n",
       "    }\n",
       "\n",
       "    .dataframe thead th {\n",
       "        text-align: right;\n",
       "    }\n",
       "</style>\n",
       "<table border=\"1\" class=\"dataframe\">\n",
       "  <thead>\n",
       "    <tr style=\"text-align: right;\">\n",
       "      <th></th>\n",
       "      <th>league</th>\n",
       "      <th>position</th>\n",
       "      <th>kills</th>\n",
       "      <th>doublekills</th>\n",
       "      <th>...</th>\n",
       "      <th>dmpm</th>\n",
       "      <th>first blood kill</th>\n",
       "      <th>towers</th>\n",
       "      <th>result</th>\n",
       "    </tr>\n",
       "  </thead>\n",
       "  <tbody>\n",
       "    <tr>\n",
       "      <th>2</th>\n",
       "      <td>LCKC</td>\n",
       "      <td>mid</td>\n",
       "      <td>2</td>\n",
       "      <td>0.0</td>\n",
       "      <td>...</td>\n",
       "      <td>227.78</td>\n",
       "      <td>False</td>\n",
       "      <td>NaN</td>\n",
       "      <td>False</td>\n",
       "    </tr>\n",
       "    <tr>\n",
       "      <th>3</th>\n",
       "      <td>LCKC</td>\n",
       "      <td>adc</td>\n",
       "      <td>2</td>\n",
       "      <td>0.0</td>\n",
       "      <td>...</td>\n",
       "      <td>218.88</td>\n",
       "      <td>False</td>\n",
       "      <td>NaN</td>\n",
       "      <td>False</td>\n",
       "    </tr>\n",
       "    <tr>\n",
       "      <th>7</th>\n",
       "      <td>LCKC</td>\n",
       "      <td>mid</td>\n",
       "      <td>6</td>\n",
       "      <td>2.0</td>\n",
       "      <td>...</td>\n",
       "      <td>426.94</td>\n",
       "      <td>False</td>\n",
       "      <td>NaN</td>\n",
       "      <td>True</td>\n",
       "    </tr>\n",
       "    <tr>\n",
       "      <th>...</th>\n",
       "      <td>...</td>\n",
       "      <td>...</td>\n",
       "      <td>...</td>\n",
       "      <td>...</td>\n",
       "      <td>...</td>\n",
       "      <td>...</td>\n",
       "      <td>...</td>\n",
       "      <td>...</td>\n",
       "      <td>...</td>\n",
       "    </tr>\n",
       "    <tr>\n",
       "      <th>148983</th>\n",
       "      <td>DCup</td>\n",
       "      <td>adc</td>\n",
       "      <td>2</td>\n",
       "      <td>NaN</td>\n",
       "      <td>...</td>\n",
       "      <td>NaN</td>\n",
       "      <td>False</td>\n",
       "      <td>NaN</td>\n",
       "      <td>False</td>\n",
       "    </tr>\n",
       "    <tr>\n",
       "      <th>148987</th>\n",
       "      <td>DCup</td>\n",
       "      <td>mid</td>\n",
       "      <td>6</td>\n",
       "      <td>NaN</td>\n",
       "      <td>...</td>\n",
       "      <td>NaN</td>\n",
       "      <td>False</td>\n",
       "      <td>NaN</td>\n",
       "      <td>True</td>\n",
       "    </tr>\n",
       "    <tr>\n",
       "      <th>148988</th>\n",
       "      <td>DCup</td>\n",
       "      <td>adc</td>\n",
       "      <td>7</td>\n",
       "      <td>NaN</td>\n",
       "      <td>...</td>\n",
       "      <td>NaN</td>\n",
       "      <td>False</td>\n",
       "      <td>NaN</td>\n",
       "      <td>True</td>\n",
       "    </tr>\n",
       "  </tbody>\n",
       "</table>\n",
       "<p>48268 rows × 10 columns</p>\n",
       "</div>"
      ],
      "text/plain": [
       "       league position  kills  doublekills  ...    dmpm  first blood kill  \\\n",
       "2        LCKC      mid      2          0.0  ...  227.78             False   \n",
       "3        LCKC      adc      2          0.0  ...  218.88             False   \n",
       "7        LCKC      mid      6          2.0  ...  426.94             False   \n",
       "...       ...      ...    ...          ...  ...     ...               ...   \n",
       "148983   DCup      adc      2          NaN  ...     NaN             False   \n",
       "148987   DCup      mid      6          NaN  ...     NaN             False   \n",
       "148988   DCup      adc      7          NaN  ...     NaN             False   \n",
       "\n",
       "        towers  result  \n",
       "2          NaN   False  \n",
       "3          NaN   False  \n",
       "7          NaN    True  \n",
       "...        ...     ...  \n",
       "148983     NaN   False  \n",
       "148987     NaN    True  \n",
       "148988     NaN    True  \n",
       "\n",
       "[48268 rows x 10 columns]"
      ]
     },
     "execution_count": 206,
     "metadata": {},
     "output_type": "execute_result"
    }
   ],
   "source": [
    "#create a df with just mid and adc positions\n",
    "mid_adc = league[(league['position'].str.lower() == 'adc') | (league['position'].str.lower() == 'mid')]\n",
    "mid_adc= mid_adc[['league', 'position', 'kills', 'doublekills', 'total damage dealt', 'dtpm', 'dmpm', 'first blood kill', 'towers', 'result']]\n",
    "mid_adc"
   ]
  },
  {
   "cell_type": "code",
   "execution_count": null,
   "metadata": {},
   "outputs": [
    {
     "name": "stdout",
     "output_type": "stream",
     "text": [
      "| league   | position   |   kills |   doublekills |   total damage dealt |    dtpm |    dmpm | first blood kill   |   towers | result   |\n",
      "|:---------|:-----------|--------:|--------------:|---------------------:|--------:|--------:|:-------------------|---------:|:---------|\n",
      "| LCKC     | mid        |       2 |             0 |                14258 | 581.646 | 227.776 | False              |      nan | False    |\n",
      "| LCKC     | adc        |       2 |             0 |                11106 | 463.853 | 218.879 | False              |      nan | False    |\n",
      "| LCKC     | mid        |       6 |             2 |                20690 | 531.629 | 426.935 | False              |      nan | True     |\n",
      "| LCKC     | adc        |       8 |             3 |                26687 | 385.009 | 186.655 | False              |      nan | True     |\n",
      "| LCKC     | mid        |       2 |             0 |                23082 | 395.449 | 366.698 | False              |      nan | False    |\n"
     ]
    }
   ],
   "source": [
    "print(mid_adc.head().to_markdown(index=False))"
   ]
  },
  {
   "cell_type": "markdown",
   "metadata": {},
   "source": [
    "**Univariate Analysis**\n",
    "- distribution of kills \n",
    "- distribution of total damage dealt \n",
    "- each graph will have two bell curves one for mid one for bot"
   ]
  },
  {
   "cell_type": "code",
   "execution_count": null,
   "metadata": {},
   "outputs": [
    {
     "data": {
      "text/html": [
       "<div>\n",
       "<style scoped>\n",
       "    .dataframe tbody tr th:only-of-type {\n",
       "        vertical-align: middle;\n",
       "    }\n",
       "\n",
       "    .dataframe tbody tr th {\n",
       "        vertical-align: top;\n",
       "    }\n",
       "\n",
       "    .dataframe thead th {\n",
       "        text-align: right;\n",
       "    }\n",
       "</style>\n",
       "<table border=\"1\" class=\"dataframe\">\n",
       "  <thead>\n",
       "    <tr style=\"text-align: right;\">\n",
       "      <th></th>\n",
       "      <th>num kills</th>\n",
       "      <th>adc</th>\n",
       "      <th>mid</th>\n",
       "    </tr>\n",
       "  </thead>\n",
       "  <tbody>\n",
       "    <tr>\n",
       "      <th>5</th>\n",
       "      <td>0</td>\n",
       "      <td>2272</td>\n",
       "      <td>2617.0</td>\n",
       "    </tr>\n",
       "    <tr>\n",
       "      <th>0</th>\n",
       "      <td>1</td>\n",
       "      <td>3151</td>\n",
       "      <td>3831.0</td>\n",
       "    </tr>\n",
       "    <tr>\n",
       "      <th>1</th>\n",
       "      <td>2</td>\n",
       "      <td>3141</td>\n",
       "      <td>3949.0</td>\n",
       "    </tr>\n",
       "    <tr>\n",
       "      <th>...</th>\n",
       "      <td>...</td>\n",
       "      <td>...</td>\n",
       "      <td>...</td>\n",
       "    </tr>\n",
       "    <tr>\n",
       "      <th>21</th>\n",
       "      <td>22</td>\n",
       "      <td>3</td>\n",
       "      <td>0.0</td>\n",
       "    </tr>\n",
       "    <tr>\n",
       "      <th>24</th>\n",
       "      <td>24</td>\n",
       "      <td>1</td>\n",
       "      <td>0.0</td>\n",
       "    </tr>\n",
       "    <tr>\n",
       "      <th>23</th>\n",
       "      <td>28</td>\n",
       "      <td>1</td>\n",
       "      <td>0.0</td>\n",
       "    </tr>\n",
       "  </tbody>\n",
       "</table>\n",
       "<p>25 rows × 3 columns</p>\n",
       "</div>"
      ],
      "text/plain": [
       "    num kills   adc     mid\n",
       "5           0  2272  2617.0\n",
       "0           1  3151  3831.0\n",
       "1           2  3141  3949.0\n",
       "..        ...   ...     ...\n",
       "21         22     3     0.0\n",
       "24         24     1     0.0\n",
       "23         28     1     0.0\n",
       "\n",
       "[25 rows x 3 columns]"
      ]
     },
     "execution_count": 45,
     "metadata": {},
     "output_type": "execute_result"
    }
   ],
   "source": [
    "#get the killcounts for mid and adc positions\n",
    "mid_kills = mid_adc[mid_adc['position'] == 'mid']['kills'].value_counts()\n",
    "adc_kills = mid_adc[mid_adc['position'] == 'adc']['kills'].value_counts()\n",
    "\n",
    "#create new df with only mid_kills and adc_kills data\n",
    "kills_distr = pd.DataFrame()\n",
    "kills_distr['adc'] = adc_kills\n",
    "kills_distr['mid'] = mid_kills\n",
    "\n",
    "#fill NaN values with 0\n",
    "kills_distr['mid'] = kills_distr['mid'].fillna(0)\n",
    "kills_distr['adc'] = kills_distr['adc'].fillna(0)\n",
    "\n",
    "\n",
    "#reset index so that we can see the number of times each role got a certain amount of kills\n",
    "kills_distr = kills_distr.reset_index()\n",
    "\n",
    "#rename the index column \n",
    "kills_distr.rename(columns={'index': 'num kills'}, inplace=True)\n",
    "\n",
    "#sort df values so that when plotting, the values will create a curve\n",
    "kills_distr = kills_distr.sort_values(by='num kills')\n",
    "\n",
    "kills_distr"
   ]
  },
  {
   "cell_type": "code",
   "execution_count": null,
   "metadata": {},
   "outputs": [],
   "source": [
    "fig = px.line(kills_distr, x = 'num kills', y = ['adc', 'mid'],  color_discrete_map={'adc': 'pink', 'mid': 'purple'})\n",
    "fig.update_layout(title='Distribution of Kill Counts for Mid and ADC Players',\n",
    "                   xaxis_title='Number of Kills',\n",
    "                   yaxis_title='Number of Occurrences',\n",
    "                   showlegend=True,\n",
    "                   legend_title_text=None)\n",
    "fig.write_html('univariate.html', include_plotlyjs='cdn')"
   ]
  },
  {
   "cell_type": "markdown",
   "metadata": {},
   "source": [
    "**Bivariate Analysis**\n",
    "- Distribution of Getting First Blood Kill Given a Position (mid/adc)"
   ]
  },
  {
   "cell_type": "code",
   "execution_count": null,
   "metadata": {},
   "outputs": [
    {
     "data": {
      "text/html": [
       "<div>\n",
       "<style scoped>\n",
       "    .dataframe tbody tr th:only-of-type {\n",
       "        vertical-align: middle;\n",
       "    }\n",
       "\n",
       "    .dataframe tbody tr th {\n",
       "        vertical-align: top;\n",
       "    }\n",
       "\n",
       "    .dataframe thead th {\n",
       "        text-align: right;\n",
       "    }\n",
       "</style>\n",
       "<table border=\"1\" class=\"dataframe\">\n",
       "  <thead>\n",
       "    <tr style=\"text-align: right;\">\n",
       "      <th></th>\n",
       "      <th>position</th>\n",
       "      <th>kill</th>\n",
       "      <th>no kill</th>\n",
       "    </tr>\n",
       "  </thead>\n",
       "  <tbody>\n",
       "    <tr>\n",
       "      <th>0</th>\n",
       "      <td>mid</td>\n",
       "      <td>4.43</td>\n",
       "      <td>45.57</td>\n",
       "    </tr>\n",
       "    <tr>\n",
       "      <th>1</th>\n",
       "      <td>adc</td>\n",
       "      <td>5.84</td>\n",
       "      <td>44.16</td>\n",
       "    </tr>\n",
       "  </tbody>\n",
       "</table>\n",
       "</div>"
      ],
      "text/plain": [
       "  position  kill  no kill\n",
       "0      mid  4.43    45.57\n",
       "1      adc  5.84    44.16"
      ]
     },
     "execution_count": 47,
     "metadata": {},
     "output_type": "execute_result"
    }
   ],
   "source": [
    "#separate when mid players got a first kill and when they didnt\n",
    "mid_first= mid_adc[(mid_adc['position']== 'mid') & (mid_adc['first blood kill']== True)]\n",
    "mid_nofirst= mid_adc[(mid_adc['position']== 'mid') & (mid_adc['first blood kill']== False)]\n",
    "\n",
    "#separate when adc players got a first kill and when they didnt\n",
    "adc_first= mid_adc[(mid_adc['position']== 'adc') & (mid_adc['first blood kill']== True)]\n",
    "adc_nofirst= mid_adc[(mid_adc['position']== 'adc') & (mid_adc['first blood kill']== False)]\n",
    "\n",
    "#get the total number of first blood kills of mid and adc players\n",
    "total=mid_adc['first blood kill'].count()\n",
    "\n",
    "#add values into a df\n",
    "kills_prop = pd.DataFrame()\n",
    "kills_prop['position'] = ['mid', 'adc']\n",
    "kills_prop['kill'] =  [(mid_first['first blood kill'].count()/total)*100, (adc_first['first blood kill'].count()/total)*100]\n",
    "kills_prop['no kill'] = [(mid_nofirst['first blood kill'].count()/total)*100, (adc_nofirst['first blood kill'].count()/total)*100]\n",
    "kills_prop"
   ]
  },
  {
   "cell_type": "code",
   "execution_count": null,
   "metadata": {},
   "outputs": [],
   "source": [
    "bar = px.bar(kills_prop, x='position', y=['kill', 'no kill'], barmode='group', color_discrete_map={'kill': 'teal', 'no kill': 'lightblue'})\n",
    "bar.update_layout(title='Distribution of Getting First Blood Kill Given a Position',\n",
    "                   xaxis_title='Position',\n",
    "                   yaxis_title='First Blood Kills (%)',\n",
    "                   showlegend=True,\n",
    "                   legend_title_text=None)\n",
    "bar.write_html('bivariate.html', include_plotlyjs='cdn')"
   ]
  },
  {
   "cell_type": "markdown",
   "metadata": {},
   "source": [
    "**Interesting Aggregates**\n",
    "\n",
    "This table shows the mean statistics for ADC and mid players in dataset based on the result of the game (where False means that they lost, and True means that they won). Finding the means of these columns allows us to see which role carries more often."
   ]
  },
  {
   "cell_type": "code",
   "execution_count": null,
   "metadata": {},
   "outputs": [
    {
     "data": {
      "text/html": [
       "<div>\n",
       "<style scoped>\n",
       "    .dataframe tbody tr th:only-of-type {\n",
       "        vertical-align: middle;\n",
       "    }\n",
       "\n",
       "    .dataframe tbody tr th {\n",
       "        vertical-align: top;\n",
       "    }\n",
       "\n",
       "    .dataframe thead th {\n",
       "        text-align: right;\n",
       "    }\n",
       "</style>\n",
       "<table border=\"1\" class=\"dataframe\">\n",
       "  <thead>\n",
       "    <tr style=\"text-align: right;\">\n",
       "      <th></th>\n",
       "      <th></th>\n",
       "      <th>kills</th>\n",
       "      <th>doublekills</th>\n",
       "      <th>total damage dealt</th>\n",
       "      <th>dtpm</th>\n",
       "      <th>dmpm</th>\n",
       "      <th>first blood kill</th>\n",
       "    </tr>\n",
       "    <tr>\n",
       "      <th>position</th>\n",
       "      <th>result</th>\n",
       "      <th></th>\n",
       "      <th></th>\n",
       "      <th></th>\n",
       "      <th></th>\n",
       "      <th></th>\n",
       "      <th></th>\n",
       "    </tr>\n",
       "  </thead>\n",
       "  <tbody>\n",
       "    <tr>\n",
       "      <th rowspan=\"2\" valign=\"top\">adc</th>\n",
       "      <th>False</th>\n",
       "      <td>2.58</td>\n",
       "      <td>0.28</td>\n",
       "      <td>15940.83</td>\n",
       "      <td>451.84</td>\n",
       "      <td>284.47</td>\n",
       "      <td>0.09</td>\n",
       "    </tr>\n",
       "    <tr>\n",
       "      <th>True</th>\n",
       "      <td>5.94</td>\n",
       "      <td>1.04</td>\n",
       "      <td>20146.39</td>\n",
       "      <td>390.16</td>\n",
       "      <td>277.94</td>\n",
       "      <td>0.14</td>\n",
       "    </tr>\n",
       "    <tr>\n",
       "      <th rowspan=\"2\" valign=\"top\">mid</th>\n",
       "      <th>False</th>\n",
       "      <td>2.25</td>\n",
       "      <td>0.18</td>\n",
       "      <td>15630.71</td>\n",
       "      <td>552.90</td>\n",
       "      <td>372.75</td>\n",
       "      <td>0.07</td>\n",
       "    </tr>\n",
       "    <tr>\n",
       "      <th>True</th>\n",
       "      <td>4.74</td>\n",
       "      <td>0.64</td>\n",
       "      <td>19188.51</td>\n",
       "      <td>491.35</td>\n",
       "      <td>367.04</td>\n",
       "      <td>0.11</td>\n",
       "    </tr>\n",
       "  </tbody>\n",
       "</table>\n",
       "</div>"
      ],
      "text/plain": [
       "                 kills  doublekills  total damage dealt    dtpm    dmpm  \\\n",
       "position result                                                           \n",
       "adc      False    2.58         0.28            15940.83  451.84  284.47   \n",
       "         True     5.94         1.04            20146.39  390.16  277.94   \n",
       "mid      False    2.25         0.18            15630.71  552.90  372.75   \n",
       "         True     4.74         0.64            19188.51  491.35  367.04   \n",
       "\n",
       "                 first blood kill  \n",
       "position result                    \n",
       "adc      False               0.09  \n",
       "         True                0.14  \n",
       "mid      False               0.07  \n",
       "         True                0.11  "
      ]
     },
     "execution_count": 208,
     "metadata": {},
     "output_type": "execute_result"
    }
   ],
   "source": [
    "aggregates = mid_adc.groupby(['position', 'result']).mean()\n",
    "\n",
    "#drop towers because towers only applies to 'position' == 'team'\n",
    "aggregates = aggregates.drop(columns='towers')\n",
    "aggregates"
   ]
  },
  {
   "cell_type": "code",
   "execution_count": null,
   "metadata": {},
   "outputs": [
    {
     "name": "stdout",
     "output_type": "stream",
     "text": [
      "|   kills |   doublekills |   total damage dealt |    dtpm |    dmpm |   first blood kill |\n",
      "|--------:|--------------:|---------------------:|--------:|--------:|-------------------:|\n",
      "| 2.57627 |      0.27522  |              15940.8 | 451.842 | 284.466 |          0.0904797 |\n",
      "| 5.93634 |      1.04109  |              20146.4 | 390.162 | 277.94  |          0.142976  |\n",
      "| 2.24774 |      0.181854 |              15630.7 | 552.9   | 372.75  |          0.0707598 |\n",
      "| 4.73999 |      0.644739 |              19188.5 | 491.346 | 367.038 |          0.106589  |\n"
     ]
    }
   ],
   "source": [
    "print(aggregates.head().to_markdown(index=False))"
   ]
  },
  {
   "cell_type": "markdown",
   "metadata": {},
   "source": [
    "## Step 3: Assessment of Missingness"
   ]
  },
  {
   "cell_type": "code",
   "execution_count": null,
   "metadata": {},
   "outputs": [
    {
     "data": {
      "text/html": [
       "<div>\n",
       "<style scoped>\n",
       "    .dataframe tbody tr th:only-of-type {\n",
       "        vertical-align: middle;\n",
       "    }\n",
       "\n",
       "    .dataframe tbody tr th {\n",
       "        vertical-align: top;\n",
       "    }\n",
       "\n",
       "    .dataframe thead th {\n",
       "        text-align: right;\n",
       "    }\n",
       "</style>\n",
       "<table border=\"1\" class=\"dataframe\">\n",
       "  <thead>\n",
       "    <tr style=\"text-align: right;\">\n",
       "      <th></th>\n",
       "      <th>league</th>\n",
       "      <th>position</th>\n",
       "      <th>champion</th>\n",
       "      <th>kills</th>\n",
       "      <th>...</th>\n",
       "      <th>wards placed</th>\n",
       "      <th>exp at 10</th>\n",
       "      <th>towers</th>\n",
       "      <th>result</th>\n",
       "    </tr>\n",
       "  </thead>\n",
       "  <tbody>\n",
       "    <tr>\n",
       "      <th>10</th>\n",
       "      <td>LCKC</td>\n",
       "      <td>team</td>\n",
       "      <td>NaN</td>\n",
       "      <td>9</td>\n",
       "      <td>...</td>\n",
       "      <td>74.0</td>\n",
       "      <td>18213.0</td>\n",
       "      <td>3.0</td>\n",
       "      <td>False</td>\n",
       "    </tr>\n",
       "    <tr>\n",
       "      <th>11</th>\n",
       "      <td>LCKC</td>\n",
       "      <td>team</td>\n",
       "      <td>NaN</td>\n",
       "      <td>19</td>\n",
       "      <td>...</td>\n",
       "      <td>93.0</td>\n",
       "      <td>18076.0</td>\n",
       "      <td>6.0</td>\n",
       "      <td>True</td>\n",
       "    </tr>\n",
       "    <tr>\n",
       "      <th>22</th>\n",
       "      <td>LCKC</td>\n",
       "      <td>team</td>\n",
       "      <td>NaN</td>\n",
       "      <td>3</td>\n",
       "      <td>...</td>\n",
       "      <td>119.0</td>\n",
       "      <td>17462.0</td>\n",
       "      <td>3.0</td>\n",
       "      <td>False</td>\n",
       "    </tr>\n",
       "    <tr>\n",
       "      <th>...</th>\n",
       "      <td>...</td>\n",
       "      <td>...</td>\n",
       "      <td>...</td>\n",
       "      <td>...</td>\n",
       "      <td>...</td>\n",
       "      <td>...</td>\n",
       "      <td>...</td>\n",
       "      <td>...</td>\n",
       "      <td>...</td>\n",
       "    </tr>\n",
       "    <tr>\n",
       "      <th>148979</th>\n",
       "      <td>DCup</td>\n",
       "      <td>team</td>\n",
       "      <td>NaN</td>\n",
       "      <td>7</td>\n",
       "      <td>...</td>\n",
       "      <td>136.0</td>\n",
       "      <td>NaN</td>\n",
       "      <td>2.0</td>\n",
       "      <td>False</td>\n",
       "    </tr>\n",
       "    <tr>\n",
       "      <th>148990</th>\n",
       "      <td>DCup</td>\n",
       "      <td>team</td>\n",
       "      <td>NaN</td>\n",
       "      <td>8</td>\n",
       "      <td>...</td>\n",
       "      <td>108.0</td>\n",
       "      <td>NaN</td>\n",
       "      <td>0.0</td>\n",
       "      <td>False</td>\n",
       "    </tr>\n",
       "    <tr>\n",
       "      <th>148991</th>\n",
       "      <td>DCup</td>\n",
       "      <td>team</td>\n",
       "      <td>NaN</td>\n",
       "      <td>21</td>\n",
       "      <td>...</td>\n",
       "      <td>122.0</td>\n",
       "      <td>NaN</td>\n",
       "      <td>10.0</td>\n",
       "      <td>True</td>\n",
       "    </tr>\n",
       "  </tbody>\n",
       "</table>\n",
       "<p>24134 rows × 14 columns</p>\n",
       "</div>"
      ],
      "text/plain": [
       "       league position champion  kills  ...  wards placed  exp at 10  towers  \\\n",
       "10       LCKC     team      NaN      9  ...          74.0    18213.0     3.0   \n",
       "11       LCKC     team      NaN     19  ...          93.0    18076.0     6.0   \n",
       "22       LCKC     team      NaN      3  ...         119.0    17462.0     3.0   \n",
       "...       ...      ...      ...    ...  ...           ...        ...     ...   \n",
       "148979   DCup     team      NaN      7  ...         136.0        NaN     2.0   \n",
       "148990   DCup     team      NaN      8  ...         108.0        NaN     0.0   \n",
       "148991   DCup     team      NaN     21  ...         122.0        NaN    10.0   \n",
       "\n",
       "        result  \n",
       "10       False  \n",
       "11        True  \n",
       "22       False  \n",
       "...        ...  \n",
       "148979   False  \n",
       "148990   False  \n",
       "148991    True  \n",
       "\n",
       "[24134 rows x 14 columns]"
      ]
     },
     "execution_count": 50,
     "metadata": {},
     "output_type": "execute_result"
    }
   ],
   "source": [
    "#make a separate df with only data for position == team so we don't get duplicates\n",
    "teams_only = league[league['position']== 'team']\n",
    "teams_only"
   ]
  },
  {
   "cell_type": "markdown",
   "metadata": {},
   "source": [
    "### **Double Kills vs League**\n",
    "\n",
    "\n",
    "When Double Kills is Missing. We use data of `teams_only`"
   ]
  },
  {
   "cell_type": "markdown",
   "metadata": {},
   "source": [
    "**When double kills is missing:**"
   ]
  },
  {
   "cell_type": "code",
   "execution_count": null,
   "metadata": {},
   "outputs": [
    {
     "data": {
      "text/html": [
       "<style type=\"text/css\">\n",
       "</style>\n",
       "<table id=\"T_2d738_\">\n",
       "  <thead>\n",
       "    <tr>\n",
       "      <th class=\"blank level0\" >&nbsp;</th>\n",
       "      <th class=\"col_heading level0 col0\" >league</th>\n",
       "      <th class=\"col_heading level0 col1\" >doublekills</th>\n",
       "    </tr>\n",
       "  </thead>\n",
       "  <tbody>\n",
       "    <tr>\n",
       "      <th id=\"T_2d738_level0_row0\" class=\"row_heading level0 row0\" >0</th>\n",
       "      <td id=\"T_2d738_row0_col0\" class=\"data row0 col0\" >CBLOL</td>\n",
       "      <td id=\"T_2d738_row0_col1\" class=\"data row0 col1\" >0.01628408</td>\n",
       "    </tr>\n",
       "    <tr>\n",
       "      <th id=\"T_2d738_level0_row1\" class=\"row_heading level0 row1\" >1</th>\n",
       "      <td id=\"T_2d738_row1_col0\" class=\"data row1 col0\" >CBLOLA</td>\n",
       "      <td id=\"T_2d738_row1_col1\" class=\"data row1 col1\" >0.01522748</td>\n",
       "    </tr>\n",
       "    <tr>\n",
       "      <th id=\"T_2d738_level0_row2\" class=\"row_heading level0 row2\" >2</th>\n",
       "      <td id=\"T_2d738_row2_col0\" class=\"data row2 col0\" >CDF</td>\n",
       "      <td id=\"T_2d738_row2_col1\" class=\"data row2 col1\" >0.00673324</td>\n",
       "    </tr>\n",
       "    <tr>\n",
       "      <th id=\"T_2d738_level0_row3\" class=\"row_heading level0 row3\" >3</th>\n",
       "      <td id=\"T_2d738_row3_col0\" class=\"data row3 col0\" >CT</td>\n",
       "      <td id=\"T_2d738_row3_col1\" class=\"data row3 col1\" >0.00188531</td>\n",
       "    </tr>\n",
       "    <tr>\n",
       "      <th id=\"T_2d738_level0_row4\" class=\"row_heading level0 row4\" >4</th>\n",
       "      <td id=\"T_2d738_row4_col0\" class=\"data row4 col0\" >DCup</td>\n",
       "      <td id=\"T_2d738_row4_col1\" class=\"data row4 col1\" >0.00000000</td>\n",
       "    </tr>\n",
       "  </tbody>\n",
       "</table>\n"
      ],
      "text/plain": [
       "<pandas.io.formats.style.Styler at 0x246087c0f70>"
      ]
     },
     "execution_count": 51,
     "metadata": {},
     "output_type": "execute_result"
    }
   ],
   "source": [
    "#get totall number of doublekills\n",
    "total_doublekills = teams_only['doublekills'].sum()\n",
    "league_prop_missing = (teams_only.groupby('league')['doublekills'].sum() / total).reset_index()\n",
    "league_prop_missing.head().style.format({'doublekills': '{:.8f}'.format})"
   ]
  },
  {
   "cell_type": "code",
   "execution_count": null,
   "metadata": {},
   "outputs": [],
   "source": [
    "#helper function for imputing missing variables\n",
    "def prob_impute(s):\n",
    "    s = s.copy()\n",
    "    num_null = s.isna().sum()\n",
    "    fill_values = np.random.choice(s.dropna(), num_null)\n",
    "    s[s.isna()] = fill_values\n",
    "    return s"
   ]
  },
  {
   "cell_type": "code",
   "execution_count": null,
   "metadata": {},
   "outputs": [
    {
     "data": {
      "text/html": [
       "<style type=\"text/css\">\n",
       "</style>\n",
       "<table id=\"T_2d245_\">\n",
       "  <thead>\n",
       "    <tr>\n",
       "      <th class=\"blank level0\" >&nbsp;</th>\n",
       "      <th class=\"col_heading level0 col0\" >league</th>\n",
       "      <th class=\"col_heading level0 col1\" >doublekills</th>\n",
       "    </tr>\n",
       "  </thead>\n",
       "  <tbody>\n",
       "    <tr>\n",
       "      <th id=\"T_2d245_level0_row0\" class=\"row_heading level0 row0\" >0</th>\n",
       "      <td id=\"T_2d245_row0_col0\" class=\"data row0 col0\" >CBLOL</td>\n",
       "      <td id=\"T_2d245_row0_col1\" class=\"data row0 col1\" >0.01924348</td>\n",
       "    </tr>\n",
       "    <tr>\n",
       "      <th id=\"T_2d245_level0_row1\" class=\"row_heading level0 row1\" >1</th>\n",
       "      <td id=\"T_2d245_row1_col0\" class=\"data row1 col0\" >CBLOLA</td>\n",
       "      <td id=\"T_2d245_row1_col1\" class=\"data row1 col1\" >0.01799486</td>\n",
       "    </tr>\n",
       "    <tr>\n",
       "      <th id=\"T_2d245_level0_row2\" class=\"row_heading level0 row2\" >2</th>\n",
       "      <td id=\"T_2d245_row2_col0\" class=\"data row2 col0\" >CDF</td>\n",
       "      <td id=\"T_2d245_row2_col1\" class=\"data row2 col1\" >0.00795691</td>\n",
       "    </tr>\n",
       "    <tr>\n",
       "      <th id=\"T_2d245_level0_row3\" class=\"row_heading level0 row3\" >3</th>\n",
       "      <td id=\"T_2d245_row3_col0\" class=\"data row3 col0\" >CT</td>\n",
       "      <td id=\"T_2d245_row3_col1\" class=\"data row3 col1\" >0.00222793</td>\n",
       "    </tr>\n",
       "    <tr>\n",
       "      <th id=\"T_2d245_level0_row4\" class=\"row_heading level0 row4\" >4</th>\n",
       "      <td id=\"T_2d245_row4_col0\" class=\"data row4 col0\" >DCup</td>\n",
       "      <td id=\"T_2d245_row4_col1\" class=\"data row4 col1\" >0.00624311</td>\n",
       "    </tr>\n",
       "  </tbody>\n",
       "</table>\n"
      ],
      "text/plain": [
       "<pandas.io.formats.style.Styler at 0x24605758b80>"
      ]
     },
     "execution_count": 53,
     "metadata": {},
     "output_type": "execute_result"
    }
   ],
   "source": [
    "#create a copy of teams_only\n",
    "team_filled = teams_only.copy()\n",
    "\n",
    "#isolate the columns that we want\n",
    "team_filled= team_filled[['league', 'doublekills']]\n",
    "\n",
    "#call the helper function on teams_filled\n",
    "team_filled['doublekills'] = (\n",
    "    teams_only\n",
    "    ['doublekills']\n",
    "    .transform(prob_impute)\n",
    ")\n",
    "\n",
    "#get total number of doublekills after imputation\n",
    "total= team_filled['doublekills'].sum()\n",
    "\n",
    "#get the proportion of doublekills when it's not missing\n",
    "league_prop_notmissing = (team_filled.groupby('league')['doublekills'].sum() / total).reset_index()\n",
    "league_prop_notmissing.head().style.format({'doublekills': '{:.8f}'.format})"
   ]
  },
  {
   "cell_type": "markdown",
   "metadata": {},
   "source": [
    "**Permutation Test of League vs. Doublekills**"
   ]
  },
  {
   "cell_type": "code",
   "execution_count": null,
   "metadata": {},
   "outputs": [
    {
     "data": {
      "text/html": [
       "<div>\n",
       "<style scoped>\n",
       "    .dataframe tbody tr th:only-of-type {\n",
       "        vertical-align: middle;\n",
       "    }\n",
       "\n",
       "    .dataframe tbody tr th {\n",
       "        vertical-align: top;\n",
       "    }\n",
       "\n",
       "    .dataframe thead th {\n",
       "        text-align: right;\n",
       "    }\n",
       "</style>\n",
       "<table border=\"1\" class=\"dataframe\">\n",
       "  <thead>\n",
       "    <tr style=\"text-align: right;\">\n",
       "      <th></th>\n",
       "      <th>league</th>\n",
       "      <th>double_missing = True</th>\n",
       "      <th>double_missing= False</th>\n",
       "    </tr>\n",
       "  </thead>\n",
       "  <tbody>\n",
       "    <tr>\n",
       "      <th>0</th>\n",
       "      <td>CBLOL</td>\n",
       "      <td>1.63e-02</td>\n",
       "      <td>1.92e-02</td>\n",
       "    </tr>\n",
       "    <tr>\n",
       "      <th>1</th>\n",
       "      <td>CBLOLA</td>\n",
       "      <td>1.52e-02</td>\n",
       "      <td>1.80e-02</td>\n",
       "    </tr>\n",
       "    <tr>\n",
       "      <th>2</th>\n",
       "      <td>CDF</td>\n",
       "      <td>6.73e-03</td>\n",
       "      <td>7.96e-03</td>\n",
       "    </tr>\n",
       "    <tr>\n",
       "      <th>...</th>\n",
       "      <td>...</td>\n",
       "      <td>...</td>\n",
       "      <td>...</td>\n",
       "    </tr>\n",
       "    <tr>\n",
       "      <th>46</th>\n",
       "      <td>VCS</td>\n",
       "      <td>2.33e-02</td>\n",
       "      <td>2.76e-02</td>\n",
       "    </tr>\n",
       "    <tr>\n",
       "      <th>47</th>\n",
       "      <td>VL</td>\n",
       "      <td>1.14e-02</td>\n",
       "      <td>1.34e-02</td>\n",
       "    </tr>\n",
       "    <tr>\n",
       "      <th>48</th>\n",
       "      <td>WLDs</td>\n",
       "      <td>8.37e-03</td>\n",
       "      <td>1.07e-02</td>\n",
       "    </tr>\n",
       "  </tbody>\n",
       "</table>\n",
       "<p>49 rows × 3 columns</p>\n",
       "</div>"
      ],
      "text/plain": [
       "    league  double_missing = True  double_missing= False\n",
       "0    CBLOL               1.63e-02               1.92e-02\n",
       "1   CBLOLA               1.52e-02               1.80e-02\n",
       "2      CDF               6.73e-03               7.96e-03\n",
       "..     ...                    ...                    ...\n",
       "46     VCS               2.33e-02               2.76e-02\n",
       "47      VL               1.14e-02               1.34e-02\n",
       "48    WLDs               8.37e-03               1.07e-02\n",
       "\n",
       "[49 rows x 3 columns]"
      ]
     },
     "execution_count": 54,
     "metadata": {},
     "output_type": "execute_result"
    }
   ],
   "source": [
    "league_2= league_prop_missing.merge(league_prop_notmissing, on= \"league\")\n",
    "league_2= league_2.rename(columns= {'doublekills_x': 'double_missing = True', 'doublekills_y': 'double_missing= False'})\n",
    "league_2.style.format({'double_missing = True': '{:.8f}'.format})\n",
    "league_2"
   ]
  },
  {
   "cell_type": "code",
   "execution_count": null,
   "metadata": {},
   "outputs": [
    {
     "data": {
      "text/html": [
       "<div>\n",
       "<style scoped>\n",
       "    .dataframe tbody tr th:only-of-type {\n",
       "        vertical-align: middle;\n",
       "    }\n",
       "\n",
       "    .dataframe tbody tr th {\n",
       "        vertical-align: top;\n",
       "    }\n",
       "\n",
       "    .dataframe thead th {\n",
       "        text-align: right;\n",
       "    }\n",
       "</style>\n",
       "<table border=\"1\" class=\"dataframe\">\n",
       "  <thead>\n",
       "    <tr style=\"text-align: right;\">\n",
       "      <th></th>\n",
       "      <th>double_missing = False</th>\n",
       "      <th>double_missing = True</th>\n",
       "    </tr>\n",
       "    <tr>\n",
       "      <th>league</th>\n",
       "      <th></th>\n",
       "      <th></th>\n",
       "    </tr>\n",
       "  </thead>\n",
       "  <tbody>\n",
       "    <tr>\n",
       "      <th>CBLOL</th>\n",
       "      <td>2.37e-02</td>\n",
       "      <td>NaN</td>\n",
       "    </tr>\n",
       "    <tr>\n",
       "      <th>CBLOLA</th>\n",
       "      <td>2.11e-02</td>\n",
       "      <td>NaN</td>\n",
       "    </tr>\n",
       "    <tr>\n",
       "      <th>CDF</th>\n",
       "      <td>7.12e-03</td>\n",
       "      <td>NaN</td>\n",
       "    </tr>\n",
       "    <tr>\n",
       "      <th>...</th>\n",
       "      <td>...</td>\n",
       "      <td>...</td>\n",
       "    </tr>\n",
       "    <tr>\n",
       "      <th>VCS</th>\n",
       "      <td>3.15e-02</td>\n",
       "      <td>NaN</td>\n",
       "    </tr>\n",
       "    <tr>\n",
       "      <th>VL</th>\n",
       "      <td>1.52e-02</td>\n",
       "      <td>NaN</td>\n",
       "    </tr>\n",
       "    <tr>\n",
       "      <th>WLDs</th>\n",
       "      <td>1.38e-02</td>\n",
       "      <td>7.70e-03</td>\n",
       "    </tr>\n",
       "  </tbody>\n",
       "</table>\n",
       "<p>49 rows × 2 columns</p>\n",
       "</div>"
      ],
      "text/plain": [
       "        double_missing = False  double_missing = True\n",
       "league                                               \n",
       "CBLOL                 2.37e-02                    NaN\n",
       "CBLOLA                2.11e-02                    NaN\n",
       "CDF                   7.12e-03                    NaN\n",
       "...                        ...                    ...\n",
       "VCS                   3.15e-02                    NaN\n",
       "VL                    1.52e-02                    NaN\n",
       "WLDs                  1.38e-02               7.70e-03\n",
       "\n",
       "[49 rows x 2 columns]"
      ]
     },
     "execution_count": 55,
     "metadata": {},
     "output_type": "execute_result"
    }
   ],
   "source": [
    "league_double = teams_only[['league', 'doublekills']]\n",
    "league_double_dist = (\n",
    "    league_double\n",
    "    .assign(double_missing=league_double['doublekills'].isna())\n",
    "    .pivot_table(index='league', columns='double_missing', aggfunc='size')\n",
    ")\n",
    "\n",
    "# Added just to make the resulting pivot table easier to read.\n",
    "league_double_dist.columns = ['double_missing = False', 'double_missing = True']\n",
    "\n",
    "league_double_dist = league_double_dist / league_double_dist.sum()\n",
    "league_double_dist"
   ]
  },
  {
   "cell_type": "code",
   "execution_count": null,
   "metadata": {},
   "outputs": [
    {
     "data": {
      "text/plain": [
       "0.0030311228214282494"
      ]
     },
     "execution_count": 56,
     "metadata": {},
     "output_type": "execute_result"
    }
   ],
   "source": [
    "observed_tvd_league = league_double_dist.diff(axis=1).iloc[:, -1].abs().sum() / 2\n",
    "observed_tvd_league"
   ]
  },
  {
   "cell_type": "code",
   "execution_count": null,
   "metadata": {},
   "outputs": [],
   "source": [
    "n_repetitions = 500\n",
    "shuffled_league = league_double.copy()\n",
    "shuffled_league= shuffled_league.assign(double_missing=league_double['doublekills'].isna())\n",
    "\n",
    "tvds_league = []\n",
    "for _ in range(n_repetitions):\n",
    "    \n",
    "    \n",
    "    shuffled_league['league'] = np.random.permutation(shuffled_league['league'])\n",
    "    \n",
    "    pivoted_league = (\n",
    "        shuffled_league\n",
    "        .pivot_table(index='league', columns='double_missing', aggfunc='size')\n",
    "    )\n",
    "    \n",
    "    pivoted_league = pivoted_league / pivoted_league.sum()\n",
    "    \n",
    "    tvd = pivoted_league.diff(axis=1).iloc[:, -1].abs().sum() / 2\n",
    "    tvds_league.append(tvd)"
   ]
  },
  {
   "cell_type": "code",
   "execution_count": null,
   "metadata": {},
   "outputs": [
    {
     "data": {
      "text/plain": [
       "1.0"
      ]
     },
     "execution_count": 58,
     "metadata": {},
     "output_type": "execute_result"
    }
   ],
   "source": [
    "pval = (pd.Series(tvds_league) >= observed_tvd_league).mean()\n",
    "pval\n",
    "#Fail to Reject"
   ]
  },
  {
   "cell_type": "code",
   "execution_count": null,
   "metadata": {},
   "outputs": [
    {
     "data": {
      "text/html": [
       "<div>                            <div id=\"b611c5ed-f9dd-4a13-9971-798326a66c3c\" class=\"plotly-graph-div\" style=\"height:400px; width:600px;\"></div>            <script type=\"text/javascript\">                require([\"plotly\"], function(Plotly) {                    window.PLOTLYENV=window.PLOTLYENV || {};                                    if (document.getElementById(\"b611c5ed-f9dd-4a13-9971-798326a66c3c\")) {                    Plotly.newPlot(                        \"b611c5ed-f9dd-4a13-9971-798326a66c3c\",                        [{\"alignmentgroup\":\"True\",\"bingroup\":\"x\",\"histnorm\":\"probability\",\"hovertemplate\":\"0=%{x}\\u003cbr\\u003eprobability=%{y}\\u003cextra\\u003e\\u003c\\u002fextra\\u003e\",\"legendgroup\":\"\",\"marker\":{\"color\":\"#1F77B4\",\"pattern\":{\"shape\":\"\"}},\"name\":\"\",\"nbinsx\":50,\"offsetgroup\":\"\",\"orientation\":\"v\",\"showlegend\":false,\"x\":[0.04494420719107316,0.042091534024365065,0.044767554639444256,0.05217049283326017,0.037496636466751554,0.05233389510239519,0.04548730783871693,0.05115571968024225,0.05031210047984262,0.05304364353371194,0.04492529737496347,0.050526197149612095,0.043228724767063256,0.03802747926196677,0.04462831938352176,0.048203052478843524,0.04506737580891096,0.0523450532350216,0.04511536114369142,0.042571655596511625,0.041988428587307454,0.04201836242387256,0.045142478624665736,0.05504226357311731,0.04605119587286424,0.03456655375494766,0.050655695861920674,0.050490603779431195,0.05009223698672054,0.04841218699828635,0.0439329745993694,0.04633618423621939,0.042780495069178276,0.047614058646286754,0.05606044317527837,0.04743711104788169,0.04334947936582324,0.04812891527071989,0.04261473242583383,0.05468117996394206,0.04532975286023708,0.04444107197038458,0.049915718547262636,0.04400244470394256,0.03886911360223575,0.048304870439059636,0.05315887271102711,0.04543578194262231,0.05817485566311709,0.045500477653908196,0.03571082562027416,0.04372609316439921,0.040892893084918974,0.045108870114615465,0.05596948830091252,0.041005708243156316,0.0496404935499556,0.04505493019944304,0.036660071566546035,0.03861140365446009,0.05051066696021137,0.04732016523477783,0.04913153786104607,0.04931060443175278,0.05005876258884127,0.04793179720179782,0.0446434204139753,0.03878494480372201,0.04871340293433138,0.041250570244951046,0.049350703970878984,0.04374347410175959,0.0529248737950826,0.04274224627801172,0.04585321948604783,0.0446276220002326,0.04310544885948864,0.03941959041928399,0.0420279648553155,0.03823548723917328,0.054129737539262666,0.041972040080012395,0.0459582829608019,0.05155537394979441,0.04536899408146896,0.044621265083327644,0.0366360654879387,0.05022524943790908,0.04869519050151084,0.058663319012299264,0.049690195520524734,0.04812043938151329,0.04074743502426249,0.04593652996666722,0.03879004106621965,0.05294719006033545,0.052046090383449234,0.045995136985390137,0.040113379502252876,0.05159405189990812,0.05089843889141377,0.03866845497199952,0.042063987384443585,0.053247279454144154,0.05972653348147901,0.04423488791870356,0.04350537135338278,0.0545544976072243,0.04504052655227864,0.04947907614095124,0.04529456182656916,0.048611021702997116,0.04303230408143033,0.04048618451517269,0.052050891599170694,0.045931031367656604,0.04189015118840551,0.04584418032572306,0.04528214303953541,0.04495536532369958,0.040619062854190244,0.047657403699950945,0.047947300568764346,0.04939997678250096,0.04947046613957365,0.04831348044043724,0.03839111100239086,0.051512860391590386,0.042612184294585,0.041941838019105296,0.05533781997554653,0.05256690158827434,0.05163755788817749,0.04357599482262647,0.052800605457442674,0.050829800282300754,0.04018228633570787,0.052386145204213135,0.0476295620132533,0.04232014163103576,0.053483236407785115,0.04620132103707117,0.04543959072827843,0.045674018803170104,0.04892240334160322,0.03971627336394953,0.0598629523818107,0.04662567876851982,0.0434706363010962,0.051664246210204615,0.03750186684142019,0.04119239238517531,0.04768154389072927,0.04429928858321327,0.03990183096373222,0.05595902755157525,0.04165191432785769,0.04988012517708171,0.040484628813989204,0.03891178809504497,0.05374378953358577,0.0458794786491278,0.051774405947456345,0.045021589913734755,0.052295190329847266,0.04625228366204763,0.039357308727075935,0.047617009114048564,0.03915026635750055,0.05020690289291755,0.042171169831499315,0.04090474860083453,0.04364093193582013,0.04198279587612583,0.036482453407286,0.05036166833824077,0.05811356640097436,0.046179702155107485,0.04131851147077492,0.03843177381263521,0.034353181290901535,0.038500975692866396,0.04889810221621972,0.04356454164322386,0.037059859948269186,0.0471915248403636,0.05155196750065125,0.046558461748419294,0.045469819611619736,0.0491251809441411,0.04667889447796892,0.04491851129911134,0.046497306598447564,0.053230890946849095,0.05254091064953636,0.0426049958822199,0.03354231228265782,0.04686700020900041,0.04716175193840366,0.04084316429191564,0.05054030575000032,0.04655028090598887,0.048152063031432886,0.054925344582447654,0.053012851379252476,0.05354932688564932,0.0502865387000518,0.05155861946433239,0.04677719869930504,0.04638207742113239,0.05504494581653712,0.04405426564681335,0.04427117867217364,0.06081673131946205,0.05725779663788298,0.050205910462852214,0.03721266735589593,0.044343062795824624,0.04903283130319693,0.04208882495851106,0.04481556679665891,0.043406503860928466,0.05452724601407899,0.04129957483223103,0.04877399481318495,0.05494680252980616,0.05157034086807696,0.042848302182831144,0.04293188088779253,0.054731874364576535,0.04945238781892411,0.046095399244422755,0.0389158651050431,0.05033160038950466,0.05458826705187974,0.041785516872598585,0.03880782434009302,0.04133503409024096,0.05240379436591552,0.05363448811422838,0.04561922057010334,0.04373456905360581,0.046532604921852294,0.04286056003525971,0.05399460611577249,0.04460967779175406,0.053435224250570464,0.046137778690455815,0.042255338630013066,0.04842632242110878,0.04992432854864025,0.042105776736924276,0.052990964272946806,0.04338802320376596,0.047533993680205354,0.05174530360635139,0.03704559041327578,0.04559325645379953,0.04696189798119341,0.050736189986949266,0.049054155138384445,0.04627360749723515,0.04022437073496472,0.05611140580025484,0.04876635041943849,0.051325747090624214,0.04567246310198662,0.04326362075395501,0.04712288623125059,0.04819259172950627,0.051641634898175595,0.04951255053883051,0.04360238809787741,0.05708071492730691,0.040144278946449126,0.043805460747191466,0.041859922305064204,0.0480600084372649,0.0407245554878915,0.042271137043755756,0.03742743458652037,0.047786446430878156,0.05229038911412581,0.045323664167674124,0.047607540794776616,0.04700977602623706,0.04427571166355311,0.047933755239494294,0.05698680958517925,0.04902577700300281,0.047182780726815005,0.04203716495024546,0.044854968952495966,0.043868144775912526,0.047712336045188715,0.054825350547757015,0.034501455707148805,0.05866318490012827,0.049079582806004274,0.046674817467970794,0.04703421126379155,0.051980429064532194,0.055898596607326864,0.04771925623321183,0.04117179275571114,0.04794335767093723,0.05311863905972991,0.044337000925695855,0.04213064113342595,0.046898784793525196,0.038168270219072764,0.048814657623429326,0.04140874213941742,0.04723529905297495,0.048339337267004255,0.051741628932866233,0.05337621489533457,0.0370782064932607,0.046122382613226084,0.05105489415009148,0.041596847870448914,0.047564061628941445,0.04467590238178924,0.035650394676025765,0.05248514680883845,0.042667384864164756,0.04921232703285083,0.04057105069697559,0.04546021718017681,0.04467335425054042,0.040908986545437835,0.05100787442294215,0.048480825607399386,0.04726354307618559,0.049500829135085925,0.05143263449090376,0.04865224778435964,0.05452472470526436,0.050371699928630866,0.05168825228881195,0.05417265343397968,0.04123023883982886,0.0430859489498266,0.05937137763026154,0.04278079011595446,0.04516833545123273,0.042513906895683046,0.06193007691815809,0.05175377949555798,0.04829808436320751,0.047486088812727485,0.05066457408764026,0.048464732146880504,0.04415326725143866,0.041390932043109875,0.054117157817623746,0.062028193382454876,0.03578737684747562,0.04309485399798036,0.0424298722093403,0.054207683533042464,0.04478563296009379,0.04222639722351326,0.04585292443927165,0.05691548873264642,0.049442356228534,0.04768012230171677,0.04977549086127481,0.04598354969381655,0.056898402842062205,0.04332249599701992,0.044420016359539065,0.04562501421589013,0.03964240438016788,0.04352795584297761,0.04092451673483856,0.04660392577438514,0.049175177961486405,0.04298174379296685,0.05940174062577383,0.05296993548453546,0.03596247369792102,0.04274168300689357,0.040743894462948335,0.050219884951069445,0.038423861194546764,0.03741514991165762,0.057087501003159034,0.040227616249502704,0.05266560814612346,0.049269083303614084,0.04749429647759211,0.050421831058147175,0.0483155994127389,0.037641960415237034,0.05261491374548901,0.04243451249045658,0.05030011085175605,0.04144672270624199,0.05293659519882721,0.0462986060059078,0.05744802134121613,0.04664925568817998,0.042697613747506045,0.041058387503921434,0.046767032996743965,0.04689666582122354,0.04296055406995032,0.04139771811896201,0.04907590813251912,0.042161567400056395,0.059743324325287034,0.04267065720113693,0.04451209777614125,0.04193349624206968,0.03969097980850071,0.03989914872031239,0.04148797561003871,0.03718935866057775,0.039363504709375705,0.04343222657532446,0.04675912037865552,0.04564196599430334,0.049729034405243636,0.041190407525044645,0.04005378005346462,0.04440464710474354,0.04184594781684697,0.04599076492861584,0.05919992863086708,0.04700864948400073,0.0465957449319547,0.042538744469750506,0.04313806493947358,0.04202769663097351,0.05167341948270039,0.05581810248229827,0.04989254396411546,0.04871114984985874,0.04377128896602305,0.051206145856534734,0.043352295721414046,0.04195313026390272,0.04456673507460285,0.041413677467309874,0.052796367512839344,0.045660607586071045,0.04434392111371896,0.04831390959938441,0.04701345069972221,0.04591027080358724,0.050563614445318504,0.043413021712438604,0.04100501085986716,0.0476725047304045,0.05046362041062787,0.04991303630384283,0.048389870733033524,0.03668464091627152,0.04032645691952283,0.05387186665688184,0.04402645078254989,0.05367134213881661,0.060225591692169435,0.0520866190815226,0.05304294615042279,0.0488050551919864,0.04589007351063607,0.04932288910661553,0.054793163626719266,0.04766303641113256,0.04337954731455935,0.04563037870272975,0.0483556989518651,0.040402713099948126,0.05201827551918577,0.04749923180548457,0.04557107430071768,0.044153401363609644,0.04753565667112562,0.043887349638798374,0.04592765174094763,0.05690926592791245,0.04745079048932274,0.04363318025233687,0.04746039292076566,0.054207254374095286,0.061289637656809316,0.04825712650618698,0.04767320211369365,0.04230249246933338,0.041988562699478434,0.0498027424544201,0.04233467939037113,0.044792982307064085,0.050471398916545326,0.04531363257728402,0.04970135365315116,0.04639548863823144,0.04682901964217586],\"xaxis\":\"x\",\"yaxis\":\"y\",\"type\":\"histogram\"}],                        {\"template\":{\"data\":{\"barpolar\":[{\"marker\":{\"line\":{\"color\":\"white\",\"width\":0.5},\"pattern\":{\"fillmode\":\"overlay\",\"size\":10,\"solidity\":0.2}},\"type\":\"barpolar\"}],\"bar\":[{\"error_x\":{\"color\":\"rgb(36,36,36)\"},\"error_y\":{\"color\":\"rgb(36,36,36)\"},\"marker\":{\"line\":{\"color\":\"white\",\"width\":0.5},\"pattern\":{\"fillmode\":\"overlay\",\"size\":10,\"solidity\":0.2}},\"type\":\"bar\"}],\"carpet\":[{\"aaxis\":{\"endlinecolor\":\"rgb(36,36,36)\",\"gridcolor\":\"white\",\"linecolor\":\"white\",\"minorgridcolor\":\"white\",\"startlinecolor\":\"rgb(36,36,36)\"},\"baxis\":{\"endlinecolor\":\"rgb(36,36,36)\",\"gridcolor\":\"white\",\"linecolor\":\"white\",\"minorgridcolor\":\"white\",\"startlinecolor\":\"rgb(36,36,36)\"},\"type\":\"carpet\"}],\"choropleth\":[{\"colorbar\":{\"outlinewidth\":1,\"tickcolor\":\"rgb(36,36,36)\",\"ticks\":\"outside\"},\"type\":\"choropleth\"}],\"contourcarpet\":[{\"colorbar\":{\"outlinewidth\":1,\"tickcolor\":\"rgb(36,36,36)\",\"ticks\":\"outside\"},\"type\":\"contourcarpet\"}],\"contour\":[{\"colorbar\":{\"outlinewidth\":1,\"tickcolor\":\"rgb(36,36,36)\",\"ticks\":\"outside\"},\"colorscale\":[[0.0,\"#440154\"],[0.1111111111111111,\"#482878\"],[0.2222222222222222,\"#3e4989\"],[0.3333333333333333,\"#31688e\"],[0.4444444444444444,\"#26828e\"],[0.5555555555555556,\"#1f9e89\"],[0.6666666666666666,\"#35b779\"],[0.7777777777777778,\"#6ece58\"],[0.8888888888888888,\"#b5de2b\"],[1.0,\"#fde725\"]],\"type\":\"contour\"}],\"heatmapgl\":[{\"colorbar\":{\"outlinewidth\":1,\"tickcolor\":\"rgb(36,36,36)\",\"ticks\":\"outside\"},\"colorscale\":[[0.0,\"#440154\"],[0.1111111111111111,\"#482878\"],[0.2222222222222222,\"#3e4989\"],[0.3333333333333333,\"#31688e\"],[0.4444444444444444,\"#26828e\"],[0.5555555555555556,\"#1f9e89\"],[0.6666666666666666,\"#35b779\"],[0.7777777777777778,\"#6ece58\"],[0.8888888888888888,\"#b5de2b\"],[1.0,\"#fde725\"]],\"type\":\"heatmapgl\"}],\"heatmap\":[{\"colorbar\":{\"outlinewidth\":1,\"tickcolor\":\"rgb(36,36,36)\",\"ticks\":\"outside\"},\"colorscale\":[[0.0,\"#440154\"],[0.1111111111111111,\"#482878\"],[0.2222222222222222,\"#3e4989\"],[0.3333333333333333,\"#31688e\"],[0.4444444444444444,\"#26828e\"],[0.5555555555555556,\"#1f9e89\"],[0.6666666666666666,\"#35b779\"],[0.7777777777777778,\"#6ece58\"],[0.8888888888888888,\"#b5de2b\"],[1.0,\"#fde725\"]],\"type\":\"heatmap\"}],\"histogram2dcontour\":[{\"colorbar\":{\"outlinewidth\":1,\"tickcolor\":\"rgb(36,36,36)\",\"ticks\":\"outside\"},\"colorscale\":[[0.0,\"#440154\"],[0.1111111111111111,\"#482878\"],[0.2222222222222222,\"#3e4989\"],[0.3333333333333333,\"#31688e\"],[0.4444444444444444,\"#26828e\"],[0.5555555555555556,\"#1f9e89\"],[0.6666666666666666,\"#35b779\"],[0.7777777777777778,\"#6ece58\"],[0.8888888888888888,\"#b5de2b\"],[1.0,\"#fde725\"]],\"type\":\"histogram2dcontour\"}],\"histogram2d\":[{\"colorbar\":{\"outlinewidth\":1,\"tickcolor\":\"rgb(36,36,36)\",\"ticks\":\"outside\"},\"colorscale\":[[0.0,\"#440154\"],[0.1111111111111111,\"#482878\"],[0.2222222222222222,\"#3e4989\"],[0.3333333333333333,\"#31688e\"],[0.4444444444444444,\"#26828e\"],[0.5555555555555556,\"#1f9e89\"],[0.6666666666666666,\"#35b779\"],[0.7777777777777778,\"#6ece58\"],[0.8888888888888888,\"#b5de2b\"],[1.0,\"#fde725\"]],\"type\":\"histogram2d\"}],\"histogram\":[{\"marker\":{\"line\":{\"color\":\"white\",\"width\":0.6}},\"type\":\"histogram\"}],\"mesh3d\":[{\"colorbar\":{\"outlinewidth\":1,\"tickcolor\":\"rgb(36,36,36)\",\"ticks\":\"outside\"},\"type\":\"mesh3d\"}],\"parcoords\":[{\"line\":{\"colorbar\":{\"outlinewidth\":1,\"tickcolor\":\"rgb(36,36,36)\",\"ticks\":\"outside\"}},\"type\":\"parcoords\"}],\"pie\":[{\"automargin\":true,\"type\":\"pie\"}],\"scatter3d\":[{\"line\":{\"colorbar\":{\"outlinewidth\":1,\"tickcolor\":\"rgb(36,36,36)\",\"ticks\":\"outside\"}},\"marker\":{\"colorbar\":{\"outlinewidth\":1,\"tickcolor\":\"rgb(36,36,36)\",\"ticks\":\"outside\"}},\"type\":\"scatter3d\"}],\"scattercarpet\":[{\"marker\":{\"colorbar\":{\"outlinewidth\":1,\"tickcolor\":\"rgb(36,36,36)\",\"ticks\":\"outside\"}},\"type\":\"scattercarpet\"}],\"scattergeo\":[{\"marker\":{\"colorbar\":{\"outlinewidth\":1,\"tickcolor\":\"rgb(36,36,36)\",\"ticks\":\"outside\"}},\"type\":\"scattergeo\"}],\"scattergl\":[{\"marker\":{\"colorbar\":{\"outlinewidth\":1,\"tickcolor\":\"rgb(36,36,36)\",\"ticks\":\"outside\"}},\"type\":\"scattergl\"}],\"scattermapbox\":[{\"marker\":{\"colorbar\":{\"outlinewidth\":1,\"tickcolor\":\"rgb(36,36,36)\",\"ticks\":\"outside\"}},\"type\":\"scattermapbox\"}],\"scatterpolargl\":[{\"marker\":{\"colorbar\":{\"outlinewidth\":1,\"tickcolor\":\"rgb(36,36,36)\",\"ticks\":\"outside\"}},\"type\":\"scatterpolargl\"}],\"scatterpolar\":[{\"marker\":{\"colorbar\":{\"outlinewidth\":1,\"tickcolor\":\"rgb(36,36,36)\",\"ticks\":\"outside\"}},\"type\":\"scatterpolar\"}],\"scatter\":[{\"fillpattern\":{\"fillmode\":\"overlay\",\"size\":10,\"solidity\":0.2},\"type\":\"scatter\"}],\"scatterternary\":[{\"marker\":{\"colorbar\":{\"outlinewidth\":1,\"tickcolor\":\"rgb(36,36,36)\",\"ticks\":\"outside\"}},\"type\":\"scatterternary\"}],\"surface\":[{\"colorbar\":{\"outlinewidth\":1,\"tickcolor\":\"rgb(36,36,36)\",\"ticks\":\"outside\"},\"colorscale\":[[0.0,\"#440154\"],[0.1111111111111111,\"#482878\"],[0.2222222222222222,\"#3e4989\"],[0.3333333333333333,\"#31688e\"],[0.4444444444444444,\"#26828e\"],[0.5555555555555556,\"#1f9e89\"],[0.6666666666666666,\"#35b779\"],[0.7777777777777778,\"#6ece58\"],[0.8888888888888888,\"#b5de2b\"],[1.0,\"#fde725\"]],\"type\":\"surface\"}],\"table\":[{\"cells\":{\"fill\":{\"color\":\"rgb(237,237,237)\"},\"line\":{\"color\":\"white\"}},\"header\":{\"fill\":{\"color\":\"rgb(217,217,217)\"},\"line\":{\"color\":\"white\"}},\"type\":\"table\"}]},\"layout\":{\"annotationdefaults\":{\"arrowhead\":0,\"arrowwidth\":1},\"autotypenumbers\":\"strict\",\"coloraxis\":{\"colorbar\":{\"outlinewidth\":1,\"tickcolor\":\"rgb(36,36,36)\",\"ticks\":\"outside\"}},\"colorscale\":{\"diverging\":[[0.0,\"rgb(103,0,31)\"],[0.1,\"rgb(178,24,43)\"],[0.2,\"rgb(214,96,77)\"],[0.3,\"rgb(244,165,130)\"],[0.4,\"rgb(253,219,199)\"],[0.5,\"rgb(247,247,247)\"],[0.6,\"rgb(209,229,240)\"],[0.7,\"rgb(146,197,222)\"],[0.8,\"rgb(67,147,195)\"],[0.9,\"rgb(33,102,172)\"],[1.0,\"rgb(5,48,97)\"]],\"sequential\":[[0.0,\"#440154\"],[0.1111111111111111,\"#482878\"],[0.2222222222222222,\"#3e4989\"],[0.3333333333333333,\"#31688e\"],[0.4444444444444444,\"#26828e\"],[0.5555555555555556,\"#1f9e89\"],[0.6666666666666666,\"#35b779\"],[0.7777777777777778,\"#6ece58\"],[0.8888888888888888,\"#b5de2b\"],[1.0,\"#fde725\"]],\"sequentialminus\":[[0.0,\"#440154\"],[0.1111111111111111,\"#482878\"],[0.2222222222222222,\"#3e4989\"],[0.3333333333333333,\"#31688e\"],[0.4444444444444444,\"#26828e\"],[0.5555555555555556,\"#1f9e89\"],[0.6666666666666666,\"#35b779\"],[0.7777777777777778,\"#6ece58\"],[0.8888888888888888,\"#b5de2b\"],[1.0,\"#fde725\"]]},\"colorway\":[\"#1F77B4\",\"#FF7F0E\",\"#2CA02C\",\"#D62728\",\"#9467BD\",\"#8C564B\",\"#E377C2\",\"#7F7F7F\",\"#BCBD22\",\"#17BECF\"],\"font\":{\"color\":\"rgb(36,36,36)\"},\"geo\":{\"bgcolor\":\"white\",\"lakecolor\":\"white\",\"landcolor\":\"white\",\"showlakes\":true,\"showland\":true,\"subunitcolor\":\"white\"},\"hoverlabel\":{\"align\":\"left\"},\"hovermode\":\"closest\",\"mapbox\":{\"style\":\"light\"},\"paper_bgcolor\":\"white\",\"plot_bgcolor\":\"white\",\"polar\":{\"angularaxis\":{\"gridcolor\":\"rgb(232,232,232)\",\"linecolor\":\"rgb(36,36,36)\",\"showgrid\":false,\"showline\":true,\"ticks\":\"outside\"},\"bgcolor\":\"white\",\"radialaxis\":{\"gridcolor\":\"rgb(232,232,232)\",\"linecolor\":\"rgb(36,36,36)\",\"showgrid\":false,\"showline\":true,\"ticks\":\"outside\"}},\"scene\":{\"xaxis\":{\"backgroundcolor\":\"white\",\"gridcolor\":\"rgb(232,232,232)\",\"gridwidth\":2,\"linecolor\":\"rgb(36,36,36)\",\"showbackground\":true,\"showgrid\":false,\"showline\":true,\"ticks\":\"outside\",\"zeroline\":false,\"zerolinecolor\":\"rgb(36,36,36)\"},\"yaxis\":{\"backgroundcolor\":\"white\",\"gridcolor\":\"rgb(232,232,232)\",\"gridwidth\":2,\"linecolor\":\"rgb(36,36,36)\",\"showbackground\":true,\"showgrid\":false,\"showline\":true,\"ticks\":\"outside\",\"zeroline\":false,\"zerolinecolor\":\"rgb(36,36,36)\"},\"zaxis\":{\"backgroundcolor\":\"white\",\"gridcolor\":\"rgb(232,232,232)\",\"gridwidth\":2,\"linecolor\":\"rgb(36,36,36)\",\"showbackground\":true,\"showgrid\":false,\"showline\":true,\"ticks\":\"outside\",\"zeroline\":false,\"zerolinecolor\":\"rgb(36,36,36)\"}},\"shapedefaults\":{\"fillcolor\":\"black\",\"line\":{\"width\":0},\"opacity\":0.3},\"ternary\":{\"aaxis\":{\"gridcolor\":\"rgb(232,232,232)\",\"linecolor\":\"rgb(36,36,36)\",\"showgrid\":false,\"showline\":true,\"ticks\":\"outside\"},\"baxis\":{\"gridcolor\":\"rgb(232,232,232)\",\"linecolor\":\"rgb(36,36,36)\",\"showgrid\":false,\"showline\":true,\"ticks\":\"outside\"},\"bgcolor\":\"white\",\"caxis\":{\"gridcolor\":\"rgb(232,232,232)\",\"linecolor\":\"rgb(36,36,36)\",\"showgrid\":false,\"showline\":true,\"ticks\":\"outside\"}},\"title\":{\"x\":0.5,\"xanchor\":\"center\"},\"xaxis\":{\"automargin\":true,\"gridcolor\":\"rgb(232,232,232)\",\"linecolor\":\"rgb(36,36,36)\",\"showgrid\":true,\"showline\":true,\"ticks\":\"outside\",\"title\":{\"standoff\":15},\"zeroline\":false,\"zerolinecolor\":\"rgb(36,36,36)\"},\"yaxis\":{\"automargin\":true,\"gridcolor\":\"rgb(232,232,232)\",\"linecolor\":\"rgb(36,36,36)\",\"showgrid\":true,\"showline\":true,\"ticks\":\"outside\",\"title\":{\"standoff\":15},\"zeroline\":false,\"zerolinecolor\":\"rgb(36,36,36)\"},\"autosize\":true,\"height\":400,\"margin\":{\"b\":30,\"l\":30,\"r\":30,\"t\":30},\"width\":600}},\"xaxis\":{\"anchor\":\"y\",\"domain\":[0.0,1.0],\"title\":{\"text\":\"0\"}},\"yaxis\":{\"anchor\":\"x\",\"domain\":[0.0,1.0],\"title\":{\"text\":\"probability\"},\"range\":[0,0.2]},\"legend\":{\"tracegroupgap\":0},\"title\":{\"text\":\"Empirical Distribution of the TVD\"},\"barmode\":\"relative\",\"shapes\":[{\"line\":{\"color\":\"red\",\"width\":1},\"opacity\":1,\"type\":\"line\",\"x0\":0.0030311228214282494,\"x1\":0.0030311228214282494,\"xref\":\"x\",\"y0\":0,\"y1\":1,\"yref\":\"y domain\"}],\"annotations\":[{\"showarrow\":false,\"text\":\"\\u003cspan style=\\\"color:red\\\"\\u003eObserved TVD = 0.0\\u003c\\u002fspan\\u003e\",\"x\":0.011061582489284974,\"y\":0.1675}]},                        {\"responsive\": true}                    ).then(function(){\n",
       "                            \n",
       "var gd = document.getElementById('b611c5ed-f9dd-4a13-9971-798326a66c3c');\n",
       "var x = new MutationObserver(function (mutations, observer) {{\n",
       "        var display = window.getComputedStyle(gd).display;\n",
       "        if (!display || display === 'none') {{\n",
       "            console.log([gd, 'removed!']);\n",
       "            Plotly.purge(gd);\n",
       "            observer.disconnect();\n",
       "        }}\n",
       "}});\n",
       "\n",
       "// Listen for the removal of the full notebook cells\n",
       "var notebookContainer = gd.closest('#notebook-container');\n",
       "if (notebookContainer) {{\n",
       "    x.observe(notebookContainer, {childList: true});\n",
       "}}\n",
       "\n",
       "// Listen for the clearing of the current output cell\n",
       "var outputEl = gd.closest('.output');\n",
       "if (outputEl) {{\n",
       "    x.observe(outputEl, {childList: true});\n",
       "}}\n",
       "\n",
       "                        })                };                });            </script>        </div>"
      ]
     },
     "metadata": {},
     "output_type": "display_data"
    }
   ],
   "source": [
    "fig = px.histogram(pd.DataFrame(tvds_league), x=0, nbins=50, histnorm='probability', \n",
    "                   title='Empirical Distribution of the TVD')\n",
    "fig.add_vline(x=observed_tvd_league, line_color='red', line_width=1, opacity=1)\n",
    "fig.add_annotation(text=f'<span style=\"color:red\">Observed TVD = {round(observed_tvd_league, 2)}</span>',\n",
    "                   x=2.3 * observed_tvd_league, showarrow=False, y=0.16)\n",
    "fig.update_layout(yaxis_range=[0, 0.2])\n",
    "fig.layout.annotations[-1].update(x=fig.layout.annotations[-1].x +0.00409, y=fig.layout.annotations[-1].y + 0.0075)\n",
    "\n",
    "# Show the plot\n",
    "fig.show()\n",
    "fig.write_html('mar.html', include_plotlyjs='cdn')"
   ]
  },
  {
   "cell_type": "markdown",
   "metadata": {},
   "source": [
    "**conclusion**: MAR"
   ]
  },
  {
   "cell_type": "markdown",
   "metadata": {},
   "source": [
    "### **DoubleKills vs Towers: Missing at Random**\n",
    "\n",
    "- When DoubleKills is Missing"
   ]
  },
  {
   "cell_type": "code",
   "execution_count": null,
   "metadata": {},
   "outputs": [
    {
     "data": {
      "text/html": [
       "<div>\n",
       "<style scoped>\n",
       "    .dataframe tbody tr th:only-of-type {\n",
       "        vertical-align: middle;\n",
       "    }\n",
       "\n",
       "    .dataframe tbody tr th {\n",
       "        vertical-align: top;\n",
       "    }\n",
       "\n",
       "    .dataframe thead th {\n",
       "        text-align: right;\n",
       "    }\n",
       "</style>\n",
       "<table border=\"1\" class=\"dataframe\">\n",
       "  <thead>\n",
       "    <tr style=\"text-align: right;\">\n",
       "      <th></th>\n",
       "      <th>double_missing = False</th>\n",
       "      <th>double_missing = True</th>\n",
       "    </tr>\n",
       "    <tr>\n",
       "      <th>towers</th>\n",
       "      <th></th>\n",
       "      <th></th>\n",
       "    </tr>\n",
       "  </thead>\n",
       "  <tbody>\n",
       "    <tr>\n",
       "      <th>0.0</th>\n",
       "      <td>0.05</td>\n",
       "      <td>0.04</td>\n",
       "    </tr>\n",
       "    <tr>\n",
       "      <th>1.0</th>\n",
       "      <td>0.08</td>\n",
       "      <td>0.09</td>\n",
       "    </tr>\n",
       "    <tr>\n",
       "      <th>2.0</th>\n",
       "      <td>0.11</td>\n",
       "      <td>0.11</td>\n",
       "    </tr>\n",
       "    <tr>\n",
       "      <th>...</th>\n",
       "      <td>...</td>\n",
       "      <td>...</td>\n",
       "    </tr>\n",
       "    <tr>\n",
       "      <th>9.0</th>\n",
       "      <td>0.14</td>\n",
       "      <td>0.15</td>\n",
       "    </tr>\n",
       "    <tr>\n",
       "      <th>10.0</th>\n",
       "      <td>0.12</td>\n",
       "      <td>0.13</td>\n",
       "    </tr>\n",
       "    <tr>\n",
       "      <th>11.0</th>\n",
       "      <td>0.11</td>\n",
       "      <td>0.09</td>\n",
       "    </tr>\n",
       "  </tbody>\n",
       "</table>\n",
       "<p>12 rows × 2 columns</p>\n",
       "</div>"
      ],
      "text/plain": [
       "        double_missing = False  double_missing = True\n",
       "towers                                               \n",
       "0.0                       0.05                   0.04\n",
       "1.0                       0.08                   0.09\n",
       "2.0                       0.11                   0.11\n",
       "...                        ...                    ...\n",
       "9.0                       0.14                   0.15\n",
       "10.0                      0.12                   0.13\n",
       "11.0                      0.11                   0.09\n",
       "\n",
       "[12 rows x 2 columns]"
      ]
     },
     "execution_count": 60,
     "metadata": {},
     "output_type": "execute_result"
    }
   ],
   "source": [
    "towers_double = teams_only[['towers', 'doublekills']]\n",
    "towers_double_dist = (\n",
    "    towers_double\n",
    "    .assign(double_missing=towers_double['doublekills'].isna())\n",
    "    .pivot_table(index='towers', columns='double_missing', aggfunc='size')\n",
    ")\n",
    "\n",
    "# Added just to make the resulting pivot table easier to read.\n",
    "towers_double_dist.columns = ['double_missing = False', 'double_missing = True']\n",
    "\n",
    "towers_double_dist = towers_double_dist / towers_double_dist.sum()\n",
    "towers_double_dist"
   ]
  },
  {
   "cell_type": "code",
   "execution_count": null,
   "metadata": {},
   "outputs": [
    {
     "data": {
      "text/plain": [
       "0.03472890994914897"
      ]
     },
     "execution_count": 61,
     "metadata": {},
     "output_type": "execute_result"
    }
   ],
   "source": [
    "observed_tvd_tower = towers_double_dist.diff(axis=1).iloc[:, -1].abs().sum() / 2\n",
    "observed_tvd_tower"
   ]
  },
  {
   "cell_type": "code",
   "execution_count": null,
   "metadata": {},
   "outputs": [],
   "source": [
    "#assign number of repetitions \n",
    "n_repetitions = 10_000\n",
    "\n",
    "#create copy of towers\n",
    "shuffled_towers = towers_double.copy()\n",
    "\n",
    "#create new column for shuffled missing values\n",
    "shuffled_towers= shuffled_towers.assign(double_missing=towers_double['doublekills'].isna())\n",
    "\n",
    "tvds_towers = []\n",
    "for _ in range(n_repetitions):\n",
    "    shuffled_towers['towers'] = np.random.permutation(shuffled_towers['towers'])\n",
    "    \n",
    "    #pivot the shuffled df\n",
    "    pivoted_towers = (\n",
    "        shuffled_towers\n",
    "        .pivot_table(index='towers', columns='double_missing', aggfunc='size')\n",
    "    )\n",
    "    \n",
    "    #get the proportion of each tower\n",
    "    pivoted_towers = pivoted_towers / pivoted_towers.sum()\n",
    "    \n",
    "    #calculate the TVD of the pivoted towers df\n",
    "    tvd = pivoted_towers.diff(axis=1).iloc[:, -1].abs().sum() / 2\n",
    "    tvds_towers.append(tvd)"
   ]
  },
  {
   "cell_type": "code",
   "execution_count": null,
   "metadata": {},
   "outputs": [
    {
     "data": {
      "text/plain": [
       "0.023"
      ]
     },
     "execution_count": 63,
     "metadata": {},
     "output_type": "execute_result"
    }
   ],
   "source": [
    "pval = (pd.Series(tvds_towers) >= observed_tvd_tower).mean()\n",
    "pval\n",
    "\n",
    "#Fail to Reject! "
   ]
  },
  {
   "cell_type": "code",
   "execution_count": null,
   "metadata": {},
   "outputs": [
    {
     "data": {
      "text/html": [
       "<div>                            <div id=\"84386f3a-0484-44be-942e-b7a8503a2fab\" class=\"plotly-graph-div\" style=\"height:400px; width:600px;\"></div>            <script type=\"text/javascript\">                require([\"plotly\"], function(Plotly) {                    window.PLOTLYENV=window.PLOTLYENV || {};                                    if (document.getElementById(\"84386f3a-0484-44be-942e-b7a8503a2fab\")) {                    Plotly.newPlot(                        \"84386f3a-0484-44be-942e-b7a8503a2fab\",                        [{\"alignmentgroup\":\"True\",\"bingroup\":\"x\",\"histnorm\":\"probability\",\"hovertemplate\":\"0=%{x}\\u003cbr\\u003eprobability=%{y}\\u003cextra\\u003e\\u003c\\u002fextra\\u003e\",\"legendgroup\":\"\",\"marker\":{\"color\":\"#1F77B4\",\"pattern\":{\"shape\":\"\"}},\"name\":\"\",\"nbinsx\":50,\"offsetgroup\":\"\",\"orientation\":\"v\",\"showlegend\":false,\"x\":[0.022344670210661246,0.01805152503777671,0.022108659612151898,0.019675086979789626,0.01884651516497514,0.014556079057944624,0.017766268450079573,0.02431721884402603,0.025923453493546952,0.018222678990394987,0.02889934892296125,0.026550937519178044,0.021055879069875223,0.030576797135278194,0.022901021140798908,0.019350079544610856,0.012073233613960368,0.03304561444617682,0.0273023680132387,0.023202988105001453,0.031117081427331154,0.019307270939630635,0.016551560872548797,0.03500764868533593,0.02201743651344404,0.03056858947041354,0.01281154793769813,0.025697581775164492,0.021186933483367303,0.025582620822191274,0.016593967141016068,0.029399828722664195,0.014148324413264624,0.02644764432508105,0.018919284428954672,0.027666133865833734,0.02182959900675453,0.017469853729756044,0.012710883342152545,0.01940112263688991,0.025441239771532946,0.020184042668699158,0.029421715828969883,0.03387820962612101,0.019998753293258467,0.029890706090924188,0.02053713319248335,0.026172338860471427,0.018913517605602066,0.038728832271379535,0.01438430818933978,0.022148490926936108,0.0192405099009115,0.022456063779886088,0.03053267423102226,0.03035712139919551,0.02667493763247601,0.02244761471311367,0.02385190325555686,0.024378937265115953,0.020556391700237632,0.017990155308331403,0.022787133085193628,0.027272541466410387,0.03522716348681344,0.024468443728035118,0.020392882141365823,0.03438249821148008,0.023203792778027393,0.022854055058517977,0.03044418702060262,0.026082456883473475,0.019391654317617964,0.018969442380905185,0.017651039272764416,0.020854871747994427,0.02353075825090263,0.019862119813453195,0.017114644233670196,0.027469847292371834,0.02986852393784234,0.02741504905930503,0.030312220644347826,0.026709806796933584,0.025385905089782196,0.011318128446414583,0.021136614596811612,0.021504189235062816,0.026830615040561966,0.025287976382524828,0.01993319926407824,0.025818416841227064,0.020619397598169033,0.012902797858840173,0.026727804650280518,0.035088437857140733,0.022986182369377973,0.018856251708589046,0.026126713899900393,0.02499220540062205,0.0120570328637047,0.02274885747159289,0.020111300227153815,0.037909970177744765,0.02822516703939123,0.03007674649452244,0.03521750741050213,0.019248476163868326,0.02679813307274802,0.01828686507543114,0.024267355938851713,0.026798562231695203,0.019446023391737573,0.01697484570662952,0.027499083745647787,0.021360367342892435,0.03877110442767576,0.0220080486614747,0.030976987853514326,0.021011112427198535,0.01816302589673833,0.02609382959557347,0.02558825353337291,0.024992151755753658,0.026779357368809317,0.026432596939495883,0.028150064223636438,0.016014334337994422,0.03288143432645005,0.020614650027315953,0.017262355378799298,0.0320137285801405,0.020282427357337915,0.02195217753103998,0.01869405644899295,0.027411025694175344,0.01635849299119065,0.025334432838555968,0.027778251640781945,0.017488924480470937,0.02424361808458638,0.024684364323330064,0.025803637679983886,0.02612046427273224,0.025931848915450965,0.030470258426643217,0.028636489067819564,0.018973170699258714,0.021930558649076295,0.023197006702175265,0.029989841807720494,0.01598273751050903,0.021997078285887654,0.02765376872366842,0.027330960728093906,0.02399805869950248,0.01987644299331498,0.022398127322018152,0.027681342186024083,0.016339234483436382,0.025166041596660117,0.024641663008086644,0.015387386761047315,0.02769732835680619,0.020113848358402634,0.019783369146647474,0.024690292081287847,0.023771891934343835,0.023698478931943545,0.01581354159558721,0.020502371317762592,0.027584593665871418,0.01346754421088185,0.03186792182783946,0.02430230557061188,0.019409678993399106,0.021001831864966,0.02341400019483817,0.01658854900930803,0.013500938141458509,0.026289901589561827,0.027895465678227774,0.015801417855329666,0.022208573179539934,0.023987034679047024,0.023631235089408814,0.021284003872730325,0.01644402973384849,0.03227468404245412,0.020182540612384073,0.011621409709892845,0.0214209055768776,0.019078019594539225,0.02207786745769244,0.02442654708581764,0.023798419321765782,0.02091347876671735,0.023866870173839413,0.026035463978758354,0.025214348800650967,0.026116333617865726,0.02321183950828684,0.014071639073892174,0.02502911307007865,0.026652970058867735,0.026108233242737883,0.018887017040614303,0.02654981097694171,0.017323751930678817,0.028300940416000946,0.023125900429116025,0.01625192746012149,0.03014128127120313,0.02673389334284349,0.01871650682641679,0.01929584458266224,0.022060003716516487,0.02728528212265449,0.02477904751604947,0.01823362254354783,0.025113737849973755,0.028759550395920583,0.028680826551549063,0.025937240224724788,0.024477831580004453,0.036020007819276015,0.030609198635789533,0.0251432425275917,0.016850201854910794,0.018071588218556915,0.02699892581515522,0.024529572055572657,0.025170842812381564,0.021705277024246197,0.023116163885502132,0.03388631000124885,0.021673760664063395,0.028282808450482998,0.019344071319350464,0.025052502232699426,0.018076657658620363,0.02587160572824196,0.018302690311608024,0.024919704360984462,0.026387830296819202,0.024379983340049673,0.02536503723597605,0.029089949140373196,0.02723874519932073,0.024173236017250462,0.015018846515164955,0.03431152605059182,0.016632913315471735,0.020018816474038685,0.02015840042160575,0.02248787518684508,0.025149089818246893,0.02123883489354067,0.02513793168562047,0.022968077226294223,0.01646433431653649,0.012956871886183602,0.024911791742896018,0.02489730762842903,0.028016542146198156,0.01910457380439535,0.022130332138983973,0.018987762103462487,0.023940149064068716,0.016330114855809028,0.023807270725051174,0.015386367508547768,0.024985553436940894,0.024746994707182703,0.01967154641847547,0.024254347058265617,0.0309140087780171,0.022015398008445,0.02121238797342132,0.018009172414177876,0.03616066466421103,0.023445945713968144,0.01838240658604485,0.01860567652831011,0.024335404454412388,0.021180201052383565,0.02220709794565904,0.022778710840855407,0.030438393374815822,0.026757255683030057,0.016433193470432456,0.026502657137621406,0.020939952509270894,0.010946262218691669,0.02023763389222704,0.034372091107011234,0.016344867194618008,0.026443325913175136,0.020130236865697718,0.019020405005881626,0.018927143402174718,0.021476723062443918,0.03534190986031306,0.027026472455076708,0.024320142489353654,0.016611267611073854,0.02560303269461607,0.026472079562635517,0.023208593993748854,0.017698890495373883,0.01663980668106066,0.01922114410342044,0.009206854183377048,0.018830743573666636,0.02700777721844062,0.02384836269424271,0.023584590876338282,0.022486426775398374,0.02982778066029537,0.025962211910963245,0.019937115339471165,0.021543215876821085,0.017371200816775297,0.018660313826771704,0.01900176341411392,0.02513696607798936,0.014960480898349835,0.017575560942930855,0.01970333100300025,0.018873257131870658,0.009804565307048223,0.028946019958466008,0.0253798432196534,0.02886413106685911,0.02680387307366642,0.02201593445712898,0.03179775433997713,0.02630570000330454,0.024416139981348756,0.024609556554351503,0.028277470786077567,0.020336957366062718,0.01752438373848085,0.018179038889954636,0.021341350237045947,0.02366964481518056,0.023019764056994033,0.015572488379448617,0.01468981571485649,0.02514908981824692,0.0225635949185864,0.025032948678168982,0.022107962228862736,0.025835475909377105,0.016663437245589226,0.02726006903450824,0.026292878879757828,0.029825447108520135,0.013961640271245612,0.02728335090739224,0.021526693257355026,0.025631759521642282,0.01319746912094086,0.016775099039156034,0.02451165466952828,0.017602115152787007,0.020716414342663678,0.022111690547216286,0.026363046367620144,0.0290249047374427,0.024126484514443134,0.025768393001447558,0.02260594754218525,0.021032516729688668,0.02396324317991331,0.019236540180650158,0.025399611353657467,0.013423206727152331,0.024847391078386308,0.0261408493227228,0.015095880546182014,0.01563023708027718,0.028069945612686616,0.016159309594835344,0.026899039070201393,0.022248324027021576,0.03672710082960716,0.028811183581751998,0.02705106862723642,0.02955665949542067,0.021364042016377566,0.020546896558531477,0.021107163564062045,0.0151316884958365,0.014182657129038215,0.01927650560760539,0.01986515074851758,0.023004528914369493,0.04211926842132593,0.02339927467846339,0.017789952659476527,0.02158495158443336,0.026233333075837965,0.019864104673583835,0.02266879250551146,0.024885800804158018,0.023210149694932364,0.023511204696372183,0.030103810330628325,0.02818530890217279,0.015436284058590483,0.028016408034027156,0.016842852507940508,0.018890182087849698,0.03144943820948019,0.025176502345997394,0.02469933124161263,0.0223153801125169,0.032085264012146925,0.014040230003446154,0.03168123768582048,0.02910735690016776,0.023441359077720263,0.020996306443521174,0.015164948314242189,0.030829866801937566,0.022485783036977614,0.017546807293470475,0.024892050431326196,0.03156670589179443,0.016815386335321626,0.024854043042067453,0.016689159959985225,0.019630239869810325,0.02667246996852978,0.021411893238987022,0.021776651521647414,0.01854352894827304,0.021986724826287184,0.028543763912796623,0.02773257303534253,0.023565734705096982,0.021752135816790336,0.018804055251639525,0.022433157421080895,0.018590897367066924,0.013046244236931783,0.03303153266822279,0.02245472265817617,0.029956018718196635,0.01677021735613197,0.02331521316968644,0.026652970058867725,0.027896002126911755,0.027930629889461538,0.022694354285302292,0.034486971592681805,0.020131792566881204,0.01525968515183,0.024913079219737545,0.028668917390765103,0.020160358459302228,0.03121262293794491,0.028579035413767155,0.01898419471971413,0.02402949459238269,0.03392176925925877,0.01876805954494561,0.016924902334152607,0.019903640941591888,0.027680617980300748,0.032084968965370726,0.022781044392630647,0.027981538869569583,0.0251634398205429,0.029899477026906988,0.0229481213352508,0.027855124737193808,0.020866593151739034,0.029913102823479646,0.024177903120800936,0.027981377934964406,0.03177197798071275,0.018469525852320416,0.02094207148157256,0.026389037306358137,0.021216384516116845,0.018845308155436225,0.01828536301911602,0.018257145818339607,0.014897072663905463,0.024503393359795286,0.02772643069791114,0.036089558391151785,0.028022362614419156,0.023453295060938413,0.018617505221791494,0.023471668428364133,0.027281312402393176,0.01840287210333804,0.022722839710420713,0.02834390995558635,0.024525977849390087,0.019943391789073513,0.024284629586475318,0.023156397536799316,0.024730874424229644,0.026812027093662667,0.025109070746423278,0.027612247595529722,0.017076341797635237,0.0250441068107954,0.02994931310964711,0.021293713593910062,0.028952886501620725,0.030068646119394596,0.022510352386703104,0.017120652458930574,0.023220610444269638,0.017167538073908896,0.03139520324753159,0.01589502815068114,0.017663994508482113,0.02011765714405879,0.033807881203653516,0.01991748131763812,0.01630208541207201,0.016708901271555048,0.01859317727397379,0.019172810076995412,0.027258298753851166,0.026272735231675,0.01384775221564035,0.009891523638718548,0.02193747883709943,0.04308095997706575,0.017320667350746038,0.022819051781889414,0.03189772155223358,0.015618757078440392,0.026346201878943713,0.019707998106550745,0.02185333686101988,0.024160307603966993,0.026802853821166893,0.020539734968600575,0.01688676083272285,0.023591618354098197,0.01865591494756321,0.021531709052550085,0.025539785394776877,0.02470590273799116,0.0344209615821202,0.013935542042770841,0.025244363104518653,0.024104463295966445,0.023536632363992012,0.021028225140216964,0.03030178671744476,0.02104861019020754,0.025485577255262456,0.014235229100066553,0.024178654148958496,0.019651563704997838,0.015682996808344923,0.015609852030286616,0.03359153144941138,0.022024571280940757,0.024732161901071165,0.02668920716746941,0.028221170496695695,0.02466642011485152,0.024875608279162735,0.029628811843413635,0.028862065739425836,0.023484677308950243,0.02618894194724005,0.017331986417977653,0.0235038017045335,0.02246684639843373,0.03239932789417284,0.018359312470200305,0.022038599414026368,0.0198346536408343,0.021871629761142992,0.029234253836359126,0.024090193760973037,0.031058206184266256,0.024667707591693018,0.023688098649908874,0.022783243832234908,0.01730055052509743,0.02854502456720394,0.01759852094660449,0.01741905203938477,0.025383035089323,0.022663481663540215,0.02317351024981771,0.034139889294158,0.017090048061510495,0.023558143956218927,0.012141845400639175,0.025410286682468298,0.015560203704585865,0.03684522682981574,0.02719639257572187,0.02947962546440363,0.01664616359796561,0.013821358940389382,0.02979508411300784,0.031295933418564306,0.021344622574018136,0.012315681596677288,0.0249880479233213,0.024717355917393782,0.027734960231986166,0.037562861056786745,0.02469729273661357,0.01587821048443892,0.023336912518952715,0.014635875799684055,0.034354039608795885,0.025304874516069643,0.027130838546541636,0.022018482588377766,0.029580504639422803,0.023812420632417203,0.020276580066682714,0.0417809838812191,0.02456851823002834,0.017202809574879428,0.02588751143172147,0.026216408119858946,0.02544480715528128,0.026211177745190335,0.027178314255072337,0.015421531719781532,0.013505015151456627,0.025219632820188,0.016679772108015876,0.02545623351224969,0.014254594897557616,0.016009264897930992,0.019613395381133908,0.026470792085794,0.024853667527988673,0.0193638394533545,0.015799486640067396,0.03264829372839989,0.025369328825447755,0.015910182826003084,0.027951792790043853,0.030462694500199346,0.02495462717031044,0.01995921702525042,0.02563181316651067,0.020340283347903283,0.022445093404299055,0.025277891147266317,0.018630728681851158,0.01326058230860907,0.018766503843762106,0.02728632819758821,0.021972830805372538,0.03169840404370725,0.02247856780217832,0.022359315259733427,0.022371653579464586,0.02103654009481838,0.01720484807987851,0.02139529015221838,0.028628710561902096,0.017557509444715545,0.023088617245580638,0.027790965474591867,0.021082165055389422,0.02361975508757204,0.02605737790749823,0.021217645170524182,0.023286298585620868,0.01873091047358119,0.01709415189394281,0.02571515046956427,0.025039037370731966,0.028238900125700673,0.019008442200229247,0.013560296188338983,0.02598198004496728,0.021923450704013792,0.01764696226276631,0.021032221682912487,0.021365275848350688,0.023761940811256328,0.020108108357484257,0.017289875196286556,0.02458310963423213,0.02215463326436749,0.026613487435728084,0.021008161959436736,0.024107226006688867,0.017686900867287338,0.022036346329553733,0.021105527395575967,0.017777426582706014,0.02458622103659909,0.01915414166279352,0.02468626871615814,0.023533306382151453,0.02308309182413583,0.03191679230294846,0.023420491223914097,0.030728746225010616,0.02218738345652341,0.027008260022256182,0.018795525717564515,0.03030205494178674,0.02326189017050056,0.02143407539206888,0.021786334420392954,0.02858332700323886,0.028254269380496175,0.016227089886053994,0.021395933890639138,0.017465454850547547,0.025690178783325815,0.02179974563749201,0.022796574582031364,0.016286340643197693,0.02666115090129817,0.024151536667984176,0.026448288063501788,0.03783620848369988,0.018344050505141544,0.0162862601758951,0.027363576808078827,0.0187392522506168,0.02177431796987217,0.03397401936107673,0.01702489636884323,0.028707032069760646,0.02628271317719673,0.021380296411501624,0.03700240629421679,0.02526477497694344,0.015897361702456373,0.0204533399080484,0.022780776168288684,0.021041153553500468,0.028474508387697068,0.024478260738951624,0.021730972916208006,0.025271185538716802,0.02443349409627494,0.01994070954565371,0.019564578550893313,0.014874166305100266,0.03000931489494834,0.020637529563686974,0.03405555956103905,0.021908349673560236,0.021034716169292915,0.017178696206535313,0.028766470583943708,0.027049244701710932,0.026636662018875264,0.021609815980935067,0.025266223388390144,0.02112856786655217,0.027999617190219116,0.023528290586956407,0.022311785906334328,0.022465451631855454,0.0374574220679539,0.02546132977474736,0.02810087187931707,0.024126913673390295,0.023402895707080137,0.025130475048913373,0.024375664928143772,0.029248442904049918,0.03015174202054042,0.027616700119606614,0.019431217408060183,0.02175554226593348,0.023610018543958104,0.024649119644793733,0.022835011130237302,0.025810906559651597,0.02159342747363998,0.01862705400836602,0.017167591718777304,0.010994757179721874,0.025068890739994496,0.02291810703138312,0.02340396860444807,0.0247311158261374,0.022094175497684908,0.029821289631219425,0.025617516809083057,0.016350955887180996,0.02130583733416762,0.03726164512074171,0.018977542756033007,0.0305549904962751,0.019498219848687146,0.037363141211747455,0.03341249170113886,0.02291614899368664,0.018921215644216935,0.02024694127689378,0.01520464551685546,0.0230503684544141,0.023215058200390614,0.021116900107675987,0.017865109120099712,0.02410524114655821,0.015359330494876052,0.023706686596808184,0.023851313162004496,0.01904765659902693,0.031847670890019865,0.017918163894943613,0.0133490695190287,0.02227149861016875,0.022087899048082532,0.02341432206404854,0.025625778118816077,0.02296499264636144,0.021721826466146447,0.01696014701268895,0.02799465503989247,0.026518938355179666,0.028328138364277854,0.020771829491717016,0.025048908026516874,0.022725548776274716,0.01650894002460797,0.02263708838828929,0.017172902560748528,0.0213231378042254,0.019053021085866546,0.023628123687041848,0.025772496833879867,0.016739934827922277,0.017093883669600823,0.012982031329461458,0.01883042170445627,0.030910843730781734,0.024327706415797522,0.022145164945095563,0.023299119709167575,0.0301142174350972,0.02526123441562929,0.019686593804060626,0.026414438151543748,0.023801691658737953,0.020266575298726823,0.030226442499782208,0.02920206691532136,0.027144196118772307,0.026331369072832136,0.019540089668470415,0.016825847084658903,0.02652765564629407,0.02394334093373829,0.03698837816113115,0.0248376545347724,0.012056281835547156,0.018830421704456254,0.025721024582653663,0.017853039024710554,0.0272075238859141,0.02067135265321081,0.020829873239321797,0.028662345894386577,0.02675323231790034,0.02574267028705155,0.01428136368688735,0.02421947789380804,0.02452957205557265,0.015387923209731244,0.013604928718844686,0.022250362532020625,0.027051363674012584,0.022569495854109993,0.01410779571519122,0.017417523160635495,0.024050872072438584,0.02175307460198727,0.028491808857754826,0.016890811020286757,0.03367140865845341,0.03369906258811169,0.02699077179515901,0.029781163269659024,0.0229626859170204,0.018080976070526267,0.02555003156464057,0.02051580935729587,0.020507494402694434,0.024220953127688925,0.02514353757436789,0.020261479036229157,0.024055753755462667,0.024906051741977624,0.013378359617173057,0.0231307016448375,0.022238641128276046,0.02159661934330956,0.011546172781967096,0.019146255867139257,0.025684009623460215,0.030080340700704967,0.0257748035632209,0.028137296744958143,0.023392166733400867,0.03810797338699536,0.021939758744006266,0.015869466370890314,0.022382892179393578,0.029929866844853454,0.026549059948784176,0.024918014547630003,0.01562811810797554,0.025809538615507485,0.018757115991792778,0.013755268462525188,0.024958328666229778,0.03306444379498392,0.024262983882077416,0.015392724425452729,0.011654884107772122,0.026366586928934295,0.02371666454232988,0.02778989257722393,0.023293862512064736,0.030430775803503573,0.02100497008976719,0.03739650831988992,0.028905652194997813,0.03163867048274803,0.023726749777588388,0.02373911491975372,0.03170143497877165,0.02181994293044321,0.021134388334773158,0.026103807541095193,0.01331768727101691,0.02531630087303805,0.02601207481613757,0.018464510057125356,0.019482180033036662,0.037588288724406574,0.026966685249249084,0.026429163667918514,0.02603012631435292,0.0151893030844941,0.024778055085984137,0.02854894064259687,0.025465192205271884,0.013588271987207632,0.031077893850967687,0.020869329040027224,0.03768525182403282,0.030087046309254524,0.018532290348344027,0.019445674700093,0.024373331376368542,0.032770845430251154,0.026890294956652794,0.022403599098594545,0.02567137625695293,0.024754558633626585,0.02029127876062329,0.0319504812803013,0.024326955387639945,0.018728308697463975,0.02205772380960964,0.028013377098962778,0.024424294001344986,0.029951432081948774,0.022449653218112733,0.016641469671980942,0.018650899152368186,0.02102905663567709,0.024799164341698064,0.02526150263997126,0.03285804516382928,0.01602938172357958,0.030244172128787175,0.016630982100209468,0.01544832733154547,0.028171200301784584,0.018406332197349592,0.018791502352434777,0.03156126093765223,0.024271030612336854,0.012357390481855367,0.025523182308008235,0.02666308211656044,0.014114903660253742,0.024251021076425072,0.02179462255256017,0.014749817500157714,0.02082571576202107,0.03027839755482399,0.02635124449657296,0.021918300796647746,0.02096741868188979,0.02791405362512709,0.01839418163465783,0.028550898680293327,0.023525232829457815,0.015861848799578054,0.03665669193983707,0.01767504535137175,0.02927958375015396,0.03560173878039036,0.025576558952062522,0.019620878840275198,0.015155265415496685,0.03194364155958079,0.02618465035776835,0.034392985783251555,0.022762751492507532,0.0313676029627417,0.02826961181285752,0.02580910945656032,0.02846627390039821,0.027287293805219326,0.021528329425841125,0.027942270825903517,0.025339314521580062,0.01946300199258498,0.02290651973980952,0.01964096884348961,0.01889812152837236,0.02048727028730904,0.03501507849960884,0.025249271609976927,0.01924592803261952,0.025963928546751926,0.01687031868055939,0.02825351835233865,0.016008004243523652,0.019594861079103004,0.017196962284224234,0.018735228885487076,0.02663298734539013,0.015710114289319215,0.02209854755445921,0.03338550833233553,0.0167987296036846,0.01861342821179337,0.01822367142046033,0.03145072568632171,0.03706919415537011,0.029548961456805814,0.013575692265568694,0.02766895022142455,0.02332594214336571,0.03167729478799335,0.022159863639036118,0.03223410169951235,0.023151810900551427,0.030599381624873044,0.021679500664981796,0.022932161986902927,0.021780192082961586,0.026362563563804578,0.02403898973408882,0.02031507025975704,0.024811663596034407,0.023446133471007526,0.025802242913405597,0.021591362146206727,0.023156424359233506,0.021642566173090964,0.03391519776288025,0.02879613619616684,0.025392557053463313,0.020784140989013964,0.023428806178515532,0.023784605768153756,0.02383615848668256,0.016893841955351173,0.03284272955390215,0.02633566066230384,0.022522368837223875,0.019653387630523336,0.015697105408733127,0.03327980111916071,0.024230850605908065,0.017449978306015208,0.025303023768109972,0.01932516150324079,0.021723060298119552,0.01295477973631616,0.03203245063921078,0.021665821223540757,0.021044023553959665,0.024830251542933713,0.017610805621467208,0.02371666454232989,0.01884560320221241,0.02381708773596768,0.015606767450353819,0.01416334497641558,0.02485345294851509,0.017956573620715337,0.024192440880136334,0.02439682782872612,0.016053521914357896,0.024138071806016737,0.029662554465634892,0.01595398386104864,0.02617679138454832,0.022486829111911334,0.01894414882545634,0.029057333060388255,0.029594559594942622,0.03232865078006075,0.024828052103329477,0.02393950532564796,0.015559908657809698,0.02122577236808619,0.018944658451706103,0.022882728240675776,0.01902885407265404,0.031156912742115385,0.024526541120508276,0.024180719476391756,0.02852040157261005,0.021340009115336022,0.032084781208331366,0.016523075447430383,0.01973170913838186,0.017841398088268547,0.020414930182276664,0.021093403655318428,0.023137782767465816,0.015821883372622827,0.022091707833738674,0.028092395990110444,0.022409178164907777,0.01620193044277617,0.01982641915353549,0.029471203220065422,0.02518819692730776,0.023569167976674354,0.022435410505553522,0.02161906972073339,0.02787414184304028,0.02479894976222449,0.028379905662280235,0.02050245178506518,0.021677971786232507,0.01476223628719146,0.027295850161728558,0.021189991240865895,0.0248116635960344,0.015994163867477443,0.025125164206942163,0.0362629117833743,0.022425459382466033,0.022990393491547072,0.02256796697536069,0.026041928185400104,0.014687482163081281,0.02762018703605236,0.024745009847052045,0.025203968518616275,0.028305124715735833,0.015244610943810657,0.023205321656776703,0.026666113051624838,0.021584656537657183,0.022386996011825908,0.021679929823928953,0.013742393694110098,0.022715517185884618,0.02446822914856152,0.012342691787914806,0.019938080947102275,0.03561498906288424,0.026362295339462577,0.024039204313562414,0.014585181399049577,0.01603270770542016,0.04084769728329511,0.026086507071037393,0.027541221789773047,0.025788241602754176,0.02658502883304386,0.028430948754559295,0.030197259691374635,0.022767123549281815,0.030115290332465156,0.02121236115098711,0.019749519234689435,0.026226788401893623,0.01595822180565195,0.014164364228915085,0.027581133571859855,0.02087522997555081,0.029125113351606925,0.02108216505538941,0.018136820378526767,0.031339788098478275,0.028810888534975806,0.020245385575710286,0.017112578906236922,0.02477169816907919,0.03272194813270796,0.0218788718183765,0.028223423581168323,0.023277929986151046,0.017123737038863357,0.03839521483482317,0.020609634232120894,0.020581121984568285,0.021561777001286177,0.025205792444141756,0.018535669975053005,0.031104716285165823,0.021996032210953934,0.02570761336555459,0.03289109040276139,0.029244419538920225,0.021706188987008924,0.017856150427077534,0.02264215782835275,0.018670720931240593,0.022084465776505188,0.022632421284738802,0.02569307560621921,0.03117673452098779,0.019719263528913934,0.02552570361682288,0.033461549933287246,0.03472663004224211,0.019654675107364846,0.024509669809397644,0.023756844548758684,0.018519120533152744,0.0354791066112365,0.02359290583093971,0.01864548102066014,0.022032564366331817,0.019508600130721802,0.017644682355859462,0.02624972158313304,0.015322664227327207,0.022562361086613292,0.023581828165615864,0.02279729878775473,0.0301546388434338,0.0224876606073715,0.025937723028540353,0.03533745733623616,0.026287782617260173,0.035383645567925344,0.025040995408428388,0.014686006929200367,0.019128365303529113,0.026758194468227012,0.030520872359975103,0.02769537031910972,0.024189114898295783,0.02399840739114705,0.023152320526801204,0.021544583820965198,0.022066038764211086,0.021468193528368894,0.02536120162788573,0.019161142318119218,0.02640682058023149,0.02472355189969353,0.022802180470778803,0.021515615592031224,0.030559952646601767,0.03806779338056657,0.022720801205421658,0.031107398528585642,0.03035610214669597,0.025718127759760248,0.023377763086236465,0.028830066575427478,0.024857771360420982,0.024188283402835607,0.024783875554205134,0.015288975249974366,0.029011466697909417,0.008027471751685198,0.019679405391695513,0.017759562841530057,0.026865564672322123,0.022903354692574145,0.011654589060995932,0.014223454051453574,0.02202363249574383,0.03167724114312492,0.02819485768874732,0.027008635536334945,0.023986203183586914,0.01137206836158701,0.021279712283258638,0.02257815950035598,0.02675725568303005,0.02161813093553647,0.02589596049849388,0.02692771225235919,0.02409386843445821,0.03106222954939598,0.018062951394745126,0.0238569726956203,0.017708627038987797,0.02497369792102532,0.02226844085267017,0.022612223991787597,0.01746271896225934,0.022966387412939722,0.02083333333333334,0.016066879486588564,0.03255057960061611,0.020005083387729224,0.02383918942174696,0.025473292580399723,0.023863678304169834,0.015941377316975505,0.028651026827154938,0.027533604218460794,0.0282869122829153,0.021307902661600882,0.027064131152690893,0.02721098397992567,0.02346069805277711,0.025099602427151348,0.02033060044915775,0.023179142960999315,0.019120533152743244,0.026049197065067788,0.020778347343227165,0.021016342801867198,0.020550195717937845,0.023629840322830525,0.02322144193972977,0.023349036259210282,0.01476784217593886,0.02966263493293747,0.023797668293608226,0.01762416319369789,0.01965059809736672,0.01185379927978544,0.016287601297604988,0.017148467323194035,0.03324970634799042,0.023649259765189973,0.019090518848875544,0.018536876984591895,0.02312788528924669,0.02067135265321083,0.014217660405666787,0.028606555231254445,0.023841388861351183,0.03185614677922648,0.018364328265395323,0.023771677354870235,0.020378907653148575,0.01875105412166399,0.021808489751040612,0.022185398596392732,0.019393639177748605,0.028175062732309103,0.02155727083234092,0.015858040013921937,0.019218810551645208,0.023504847779467236,0.03148615812189746,0.020557920578986928,0.02885898115949305,0.02795943718379032,0.02137391267216248,0.02703207834382414,0.026966041510828334,0.029929169461564292,0.018810063476899862,0.028692011506609695,0.03216229804316395,0.02475262741836433,0.02328096092121542,0.022456117424754486,0.026352129636901492,0.02485994397759104,0.02116064749785314,0.02008053489512858,0.014657199634871559,0.023283777276806226,0.020124255462871526,0.028580993451463633,0.017325280809428092,0.02911902465904392,0.013306260914048478,0.018988244907278073,0.02000494927555824,0.016884373636079215,0.020909911382968997,0.030328314104866697,0.021277620133391184,0.02832462462539788,0.020158024907527,0.02081200949814581,0.01929748075114831,0.021270887702407437,0.033420457964095714,0.021476642595141315,0.021380832860185592,0.01849516809941381,0.025355112935322756,0.023488968898421933,0.018492271276520422,0.02476939143973814,0.037979735329094114,0.02247390069862785,0.0178059388302586,0.020367293539140803,0.025607699798166544,0.02321369025624652,0.017239878178941247,0.026110754551552512,0.024640643755587114,0.026441287408176077,0.027122738171413825,0.022239928605117545,0.029149307187253642,0.03102996216105563,0.02665820043353636,0.017218500698885343,0.03701573704401326,0.02172236291483042,0.027419501583381932,0.02137439547597804,0.02821940021603861,0.030761281837692955,0.015228678417896975,0.025623364099738248,0.02550639146420021,0.018535669975052998,0.030094342011356398,0.024806164997023795,0.030398588882465813,0.01010256255098946,0.02077917883868731,0.02342682131838486,0.028623480187233458,0.02992176646972561,0.013549996373606911,0.021556197934972963,0.024179861158497414,0.020071254332896013,0.02201386912969569,0.030384882618590563,0.01481802695032355,0.017904403986199965,0.018458206785088777,0.02765312498524765,0.017147394425826093,0.029970771057005605,0.02361994284461141,0.02279220252525705,0.01980705335604442,0.024666715161627703,0.019591991078643817,0.02040189447925638,0.014818617043875933,0.019613449026002323,0.02690413533269905,0.02481528462465117,0.025303560216793943,0.018470652394556714,0.024780120413417404,0.015263091600973165,0.01636788084315999,0.02564659232775384,0.019500526578028164,0.02638152702478265,0.04000802098072262,0.02849433016656945,0.024145555265157992,0.03266301924477467,0.019364188144999087,0.02866105841754505,0.023485669739015544,0.02793832792807641,0.012605310241148705,0.02291349357270102,0.023777256421183474,0.024483973917435835,0.031011803373103483,0.020853745205758105,0.020808710338739454,0.020035687785149307,0.020090325083610916,0.026832894947468787,0.025057866719539055,0.01944393124187012,0.026118398945298972,0.014018637943916657,0.010651456844420013,0.022785040935326194,0.027138536585156508,0.021286069200163606,0.020759759396327848,0.01979943578473215,0.024847444723254695,0.020409270648660875,0.02974157335678258,0.01629779382260029,0.0305996766716492,0.02330236522370554,0.02574677411948386,0.031548788505750096,0.029144291392058583,0.021261660785043296,0.033380009733324924,0.021395316974652592,0.023906889245663032,0.01993891244256244,0.033629243791893956,0.016134659777807238,0.024904952022175495,0.018109756542420863,0.019892402341662882,0.023806707453933006,0.013959467654075571,0.02821706666426336,0.01833468947560639,0.017777936208955784,0.02609820165234779,0.020919621104148724,0.017816211822556525,0.022485783036977618,0.02547535790783296,0.022564936040296323,0.038341113985045534,0.03220218300281657,0.018379214716375294,0.02452973299017782,0.023400320753397107,0.023100016780114828,0.024985553436940887,0.01818555674146479,0.03906674129740758,0.02473519283613551,0.0224818937840189,0.0335813657468503,0.019417135630106178,0.022737431114624482,0.026311520471525518,0.015241606831180459,0.02208551185143892,0.015154219340562953,0.016301897655032607,0.021478761567442974,0.021239800501171826,0.024289296690025802,0.017491553079022323,0.018563431194448057,0.025661639713339013,0.022234403183672737,0.019352547208557096,0.028697295526146735,0.01338680868394546,0.02052034234867533,0.021956576410248486,0.01864644662829127,0.02246947499698515,0.021770589651518638,0.0146166172919298,0.030855267647123215,0.025243156094979735,0.018963809669723546,0.024007044214958848,0.025213517305190804,0.02538748761339988,0.03410936536404051,0.0175878187953594,0.021169311144099125,0.02102248513929857,0.03278101113281224,0.03556220251238231,0.033891942712430456,0.024839988086547644,0.016688087062617287,0.02308121425374196,0.01830805479844763,0.02045980411469015,0.03016952529441376,0.028251479847339583,0.01805444868310431,0.0272003891184174,0.02410837937135938,0.022670133627221385,0.019405414226361613,0.01795890717249057,0.022148195880159923,0.026271045418320538,0.013695722658605339,0.02122917881722935,0.021131357399708783,0.021696801135039585,0.016768447075474903,0.020613657597250645,0.01773738068844819,0.017377584556114455,0.019321620941926642,0.022509064909861598,0.02383049895306674,0.01618385212212661,0.020999632425361764,0.024345570156973473,0.029933997499719953,0.027184027433556524,0.02567668709892415,0.026053864168618254,0.01744000036049354,0.022315621514424688,0.02227106945122158,0.025931017419990814,0.016486087310671173,0.028510879608469705,0.020164194067392536,0.026333488045133798,0.02143281473766157,0.027166002757775386,0.021922699675856253,0.022141838963254983,0.019703599227342238,0.015342807875409998,0.021893490045014473,0.021478976146916545,0.020304341286077783,0.02133593210533792,0.015044569229560975,0.030372356541820036,0.01903290426021797,0.02934159721802005,0.019204353259612422,0.021632963741648022,0.02163317832112161,0.024675834789255058,0.0276941364871366,0.027146663782718534,0.0256999957942423,0.023132471925494568,0.0151160778391332,0.03326877709870528,0.01969576707655638,0.0251261298145733,0.01840697593577037,0.025631544942168676,0.0336905330540367,0.032255210955226266,0.017420151759186903,0.03170687993291388,0.019538748546760524,0.041255237348501526,0.03486189557790329,0.01861771980126507,0.023432373562263874,0.021774291147437987,0.03177777162649954,0.02218531812909015,0.015950094608089903,0.03605796156366636,0.02833068649552667,0.027119412189573255,0.03214003542277951,0.013938492510532639,0.019427676846746067,0.02659951294751086,0.021042601964947158,0.027231047160705867,0.019569594346088376,0.02425936285346068,0.023820842876755427,0.022822270473993187,0.020328937458237478,0.02355237713286632,0.030236822781816882,0.028914852289927774,0.02631532925718165,0.022658841382423984,0.026934337393606126,0.027364354658670556,0.020727921166934678,0.032541889131935904,0.02339299822886102,0.025964196771093934,0.023207386984209953,0.01625222250689766,0.02409934021103461,0.02066325227808298,0.022097501479525463,0.027435729156071804,0.028422258285879076,0.02546929603770419,0.020755387339553566,0.016166658941805592,0.02329005372640859,0.020218992300459336,0.0268859497223127,0.02129773695903979,0.024607813096128597,0.013415857380182035,0.02774654752355974,0.030386867478721227,0.019783315501779065,0.014606988038052672,0.02039223840294506,0.028796645822416606,0.019409893572872698,0.02376033146520444,0.030611800411906746,0.02692771225235918,0.022325277590736,0.020220923515721592,0.024035663752248256,0.02933207525387972,0.01858327979575467,0.0324772738879526,0.028419227350814695,0.019144190539706004,0.03631280151098282,0.017874040990687685,0.01956267415806525,0.019219078775987185,0.03048479618597861,0.017395394652422035,0.018943666021640763,0.025602549890800512,0.02511478392490748,0.022926341518681934,0.02124760582952348,0.020228567909468056,0.02401788047837488,0.018672303454858256,0.02147664259514131,0.020465410003437552,0.028369176688601012,0.03282736029910661,0.020191445660537856,0.024003986457460276,0.036864646272175186,0.01604448275403312,0.027557449362462925,0.02820303853117774,0.01720728892139055,0.025557219977005656,0.015429176113528006,0.0208337088474121,0.02271688513002874,0.02641028067424304,0.02407847235722847,0.02277246121368725,0.020957521203670663,0.027321492408821983,0.015722586721221357,0.020446473364893678,0.017416074749188784,0.034424609433171154,0.02723209323563959,0.02672769736054372,0.025881074047513906,0.024686831987276302,0.020976109150569987,0.030283708396795204,0.020073936576315843,0.020781217343686344,0.01580911589394451,0.0250426852217829,0.018020866995488244,0.019387791887093428,0.02772213910843944,0.02789307848158414,0.016156117725165762,0.017385845865847495,0.03283355628140638,0.03346305198960236,0.02406570487855015,0.029501029766893744,0.019801474289731204,0.015558862582875959,0.0234926167494729,0.03636894086575951,0.020075438632630935,0.01728877547648446,0.020632245544149948,0.03684804318540654,0.031091868339184914,0.022326833291919486,0.015604621655617965,0.030112205752532366,0.02886110013179472,0.012627841085875145,0.021429756980162973,0.015401709940909112,0.013179337155422922,0.024935583242029793,0.017024896368843252,0.02732079502553281,0.011443818373066995,0.02342674085108227,0.020193645100142092,0.03064830574485042,0.021504511104273184,0.01920336082954708,0.018651542890788932,0.015993171437412117,0.03331043233901498,0.019307270939630652,0.03111582077292387,0.012260481027097526,0.017505983548620922,0.033017906871650154,0.01856348483931644,0.023643171072626985,0.025222020016831624,0.02454596056286768,0.017837374723138823,0.017662921611114192,0.015597191841345077,0.015112617745121636,0.0195981334160752,0.02134381790099217,0.022495358645986348,0.02505376288710673,0.034423858405013615,0.025212605342428085,0.022268440852670154,0.027610960118688202,0.03146250073493469,0.022160185508246492,0.025923882652494103,0.028671385054711354,0.0236875890236591,0.030257154186939056,0.02641556469378008,0.017928249130202106,0.033345247858604155,0.017187628077123304,0.029491346868148187,0.023228549884792275,0.038103601330221074,0.022052359322770023,0.021921626778488315,0.018764250759289478,0.029226046171494484,0.017602115152787024,0.03888512659545203,0.023794691003412242,0.03192856735156145,0.024627715342303617,0.017861783138259122,0.02770481181594746,0.024118786475828262,0.016977286548141554,0.020836203333792526,0.01774017022160481,0.03729222269572758,0.03140172109904175,0.022129125129445072,0.02567201999537365,0.02952871051898622,0.023850696246017954,0.02161279327113102,0.028794070868733576,0.0229383311467685,0.028898785651843104,0.023244026429324598,0.01583768178636554,0.021424097446547188,0.01872852327693756,0.020479920940338747,0.02691049224960399,0.024263815377537558,0.02243798545923656,0.025153381407718618,0.020300532500421645,0.026330376642766804,0.031112146099438708,0.0200657825563196,0.020693052002477112,0.01972535222147692,0.028726022353172925,0.021179369556923445,0.02242497657865047,0.017386811473478623,0.027359124284001952,0.021977927067870197,0.027138536585156515,0.021128031417868204,0.02513766346127849,0.028348121077755438,0.01925842728695584,0.02053493375287911,0.017533825235318573,0.018935056020263165,0.01934965038566369,0.03136357959761199,0.023426767673516487,0.023234477642750065,0.017504240090398037,0.02278082981315708,0.019575897618124942,0.022185586353432124,0.02093563409736501,0.025961863219318676,0.014391872115783636,0.0284264962304824,0.028476493247827698,0.029515996685176307,0.027494979913215478,0.025058939616906986,0.017970628576235142,0.03200965157014239,0.025571248110091288,0.018313177883379488,0.03135384305399807,0.023229542314857597,0.02520651664986509,0.014142047963662245,0.0106672284357285,0.027957801015304234,0.020796908467692277,0.024103175819124946,0.029138095409758834,0.018044738961924593,0.02620498176289053,0.022258087393069698,0.013794858375401646,0.025801089548735084,0.022589773614363772,0.017472187281531285,0.010659101238166475,0.017709592646618935,0.02233683805987539,0.025803047586431555,0.03863908440655259,0.021798324048479513,0.014772133765410568,0.0218831902302824,0.017345907261326468,0.023223399977426232,0.03207501784228323,0.02980463289958238,0.023618467610730526,0.021887508642188316,0.024357559785060025,0.02979784682373026,0.014868104434971482,0.02544982295047635,0.020493734493950793,0.01673448987378006,0.027925560449398062,0.02001787768884174,0.020764882481259697,0.0336946905313374,0.011651477658628954,0.018163025896738343,0.022824121221952855,0.023055384249609137,0.016874985784109873,0.01583776225366814,0.02301300480357609,0.017457354475419698,0.013558606374984487,0.023201217824344388,0.024561705331742012,0.03204655923959902,0.03098347888259028,0.024765287607305814,0.03016670893882295,0.04091622860267135,0.024493629993747157,0.020462781404886138,0.02190636481342959,0.025826436749052335,0.026607210986125708,0.011798357308297907,0.023527298156891058,0.02496227156405691,0.021227515826309076,0.018756204029030023,0.025101319062940018,0.0206960292926731,0.015650648952701962,0.01466454898184187,0.02609063772590392,0.026208710081244084,0.029728886345406866,0.01708039198519916,0.022724422234038394,0.015129703635705864,0.03180515733181582,0.020575703852860287,0.022931598715784766,0.01910224025262012,0.023748100435210084,0.02358094302528733,0.025039010548297755,0.022695346715367635,0.018695478038005465,0.014470408203115775,0.02851830942274259,0.026741162222511175,0.03227771497751851,0.019550523595373504,0.023443907208969064,0.018519871561310304,0.023372908225646635,0.023898842515403577,0.02042029466911629,0.018547257266626576,0.024728138535941427,0.02199286716371858,0.024152126761536552,0.03163850954814285,0.021413663519644105,0.03098557103245772,0.012259274017558604,0.021227462181440684,0.014310814719636902,0.016928711119808725,0.026807413634980577,0.019843987847935243,0.013448688039640543,0.025403983410431725,0.015940277597173393,0.020374884288018875,0.023856060732857565,0.020726580045224756,0.03189131099046023,0.028347075002821718,0.018643281581055896,0.01860559606100751,0.020727840699632065,0.02317278604409435,0.02785083314772208,0.028300967238435126,0.020298842687067168,0.016730251929176765,0.03206493260702473,0.02590424863066111,0.026659675667417254,0.02816996646981145,0.01837883920229651,0.021312060138901582,0.020056072835139896,0.02385091082549153,0.027895680257701366,0.02100499691220139,0.021169016097322947,0.024046553660532703,0.03567051150167437,0.023624341723819903,0.035803818999639046,0.02404354954790249,0.028996446134758463,0.025623310454869867,0.014529632137825271,0.023179786699420085,0.021456230722716532,0.019455411243706932,0.022740998498372834,0.025242110020046032,0.02142044959549623,0.0258928222736927,0.021319972756990054,0.023316259244620174,0.018198270575274712,0.02204262277915609,0.02450352747196627,0.024428826992724466,0.019740748298706624,0.019129652780370612,0.03301876518954451,0.03243443846053819,0.02280928841584129,0.023013004803576098,0.019610900894753494,0.022988435453850598,0.014493180449750002,0.021181783576001253,0.023489478524671717,0.01705568852330268,0.030115531734372945,0.025903497602503545,0.02539384453030484,0.022704519987863395,0.016597990506145757,0.014695716650380091,0.027742255934088054,0.028445915672841843,0.014529256623746503,0.0153068658135845,0.014254299850781433,0.018207926651586007,0.024444142602651615,0.019303247574500915,0.0321658117820439,0.02578655178939969,0.021293686771475844,0.01672260753543029,0.029584045200736948,0.018167129729170686,0.031432647365672195,0.025977742100363983,0.02923438794853011,0.04515194694393769,0.01851874501907396,0.022057455585267654,0.018863815635032928,0.028052752432365616,0.018042003073636383,0.015372312553027952,0.029624144739863176,0.022614262496786674,0.02537624901347086,0.021236876855844217,0.02459477739310832,0.030554078533512375,0.01933165253231673,0.023006299195026555,0.03607129231346284,0.02940782180805522,0.030540157690163557,0.022073549045786553,0.02614487268785253,0.017646506281384935,0.019137350818985488,0.03130639416790157,0.02238570853498438,0.034563388707712285,0.022489243130989173,0.01761228085534814,0.020219475104274902,0.019948863565649948,0.022411565361551415,0.027580704412912715,0.018882671806274214,0.029793796636166332,0.023239493437945125,0.025536727637278288,0.024512915323935607,0.02694050655347171,0.02042316466957552,0.018154603652400132,0.024734254050938584,0.023344020464015236,0.017303661927464416,0.023770202120989358,0.02649833872571551,0.02088662951008502,0.016671564443151245,0.024590217579294638,0.02532928293118996,0.024909324078949798,0.022868190481340384,0.028101783842079807,0.01932663673712169,0.023582471904036617,0.01864652709559386,0.021628511217571138,0.02170323851924713,0.02314290585239765,0.02216686429436185,0.022606966794684775,0.03248137772038492,0.024666929741101302,0.029038879225659918,0.01680141184710439,0.023974562247144927,0.020732266401274783,0.016553438442942686,0.025456233512249696,0.027186709676976346,0.031043722069799284,0.02415218040640494,0.031189743401573898,0.027879640442050872,0.02394438700867202,0.021931068275326048,0.020884671472388545,0.017379354836771544,0.018135398789514277,0.027002278619429994,0.019158218672791626,0.021884075370610934,0.019118226423402204,0.020938906434337195,0.017366506890790626,0.024085124320909604,0.021187925913432645,0.023112837903661518,0.025342586858552216,0.020400982516493662,0.020699033405303283,0.022460435836660388,0.032253923478384766,0.02005341741415427,0.024265236966550068,0.016659574815064686,0.03279511973320046,0.02226873589944634,0.025691385792864715,0.03115130685336796,0.020640775078224934,0.022153265320223388,0.020985631114710322,0.03082039848266562,0.017682957969460206,0.025570148390289166,0.021213353581052474,0.01918619447166027,0.024013347486995417,0.028633270375715777,0.021823027510376,0.028665376829450934,0.027006275162125528,0.0255826208221913,0.032896186665259036,0.030455211041058056,0.012765520640614144,0.018719135424968204,0.020614033111329415,0.03055407853351238,0.027317764090468426,0.01824400282558251,0.032380391255628985,0.022169868406992033,0.016844381386689828,0.017162173587069274,0.02179671470242762,0.01730307183391204,0.03701970676427457,0.033351390196035516,0.022331017591654415,0.027446806821395622,0.023940846447357854,0.02741432485358169,0.024839773507074038,0.017324824828046752,0.02994807927767399,0.02319695305730689,0.020421501678655234,0.02423720752281304,0.016127551832744745,0.02538485901484846,0.027764250330130524,0.025420103693384807,0.018662540088810173,0.023721921739432716,0.03439971821423529,0.02289316216757886,0.026870231775872604,0.023667606310181482,0.02071408079088844,0.02842679127725858,0.02086340128206944,0.015506666125926407,0.025070929244993538,0.018799683194865212,0.025371447797749413,0.027435729156071804,0.016764450532779376,0.019980970019385112,0.022592455857783578,0.012315762063979866,0.03212732158896958,0.020766357715140602,0.01943027862286329,0.024503527471966262,0.025780838610915496,0.02277908635493418,0.023025718637386037,0.02832411499914812,0.01398041597518431,0.029232698135175633,0.028606769810728024,0.020820565854655027,0.02565549737590761,0.019132254556487822,0.022386486385576127,0.03224327497200812,0.027517510757941902,0.024279560146411878,0.01517334373614621,0.026486912368747104,0.027740753877772955,0.024497948405653065,0.026218527092160597,0.012770616903111804,0.02358767545627108,0.01587354338088844,0.030634894527751366,0.026010036311138532,0.01969311165557077,0.01565773007533028,0.0262472539191868,0.03393265916754322,0.022508152947098875,0.02374034875172683,0.020962188307221165,0.01877208291007533,0.02507798354518765,0.02664739099255453,0.025272017034176922,0.02843290679225575,0.024975977827932146,0.019163824561539037,0.023149745573118177,0.024938748289265143,0.024747209286656267,0.03682532458364073,0.03289723274019276,0.026156594091597096,0.012956737774012607,0.01811764233807512,0.029183478968422053,0.02682093214181644,0.03108320469293893,0.028727846278698396,0.01788927613331224,0.01289933776482863,0.028991001180616267,0.01657347480128868,0.018875376104172316,0.02333728803303151,0.021922967900198227,0.021125536931487776,0.02319510230934721,0.02616633063521103,0.022231291781305743,0.030081413598072905,0.02200043109016244,0.02687862719777663,0.018806308336112118,0.019836638500964954,0.02288782450317342,0.01588223384956862,0.0178478354724761,0.017810847335716886,0.01596669769485857,0.02113285945602388,0.013851051375046726,0.02466749301221945,0.02620060970611624,0.034902853434923824,0.028463296610202228,0.02260720819659256,0.030852317179361398,0.019372100763087534,0.01809546018499325,0.03322516382069912,0.02520826010808796,0.010677394138289602,0.01689301045989101,0.021492253251844638,0.024937621747028828,0.015747772986933396,0.017144014799117136,0.026062045011048706,0.018087547566904803,0.017123790683731748,0.028002782237454515,0.011963771259997799,0.023654677896898,0.023087276123870723,0.02416610124975377,0.025696106541283605,0.015501033414744786,0.025056820644605314,0.016302058589637784,0.03399158805547652,0.026636957065651463,0.021827909193400045,0.022566116227401022,0.022928621425588783,0.02022969445170437,0.02862235364499715,0.020439687289041563,0.03718278716419921,0.02320760156368354,0.024101405538467888,0.02353692741076819,0.02183222760530594,0.03143736811409105,0.01762223197843562,0.01527014590116727,0.023674392386033624,0.020551027213397986,0.022716804662726117,0.019367299547366046,0.030925166910643544,0.018438867810031935,0.03238245658306222,0.020943493070585073,0.030107887340626468,0.019809386907819665,0.02135808743598559,0.009841446154070635,0.023265994002932867,0.0176871959140635,0.015399430034002272,0.021639106079079404,0.01943650142759723,0.029710030174165583,0.02460472851619582,0.02613258801298977,0.02498458782930977,0.019972976933994066,0.02090894577533787,0.01934407131935048,0.02955022211121311,0.026584975188175458,0.025306188815345354,0.03556990055099717,0.026399149364050814,0.03327749438981966,0.02709626442886027,0.01785531893161737,0.027443078503042083,0.013257765953018242,0.02094024755604709,0.029649035958799034,0.018360304900265606,0.027645856105579958,0.016623418173765604,0.024051998614674917,0.023496157310787018,0.013045520031208426,0.026647605572028103,0.014492053907513671,0.02285751515252952,0.015490572665407511,0.024304505010216134,0.019137619043327468,0.017946944366838205,0.01834201200014248,0.03171739432711955,0.017427501106157192,0.019724091567069613,0.020992497657865032,0.022611016982248718,0.024220067987360414,0.02703553843783567,0.024977801753457637,0.026955607583925234,0.017188700974491218,0.019512033402299185,0.024116721148395005,0.028741847589349827,0.018643147468884902,0.028504308112091162,0.013658251718030553,0.03301975761960982,0.02104796645178678,0.017602812536076182,0.025306671619160927,0.031160587415600523,0.019446023391737566,0.02465569114117227,0.02452683616728444,0.028446988570209785,0.018739949633905968,0.023649474344663555,0.03213518056218963,0.02023699015380627,0.018965606772814843,0.02291140142283357,0.02483786911424598,0.02855041587647775,0.03030355699810185,0.03359917584315787,0.013715007988793812,0.026712623152524366,0.028821832088128666,0.022857971133910887,0.019079655763025283,0.012634922208503443,0.013500938141458512,0.02415947610850683,0.01997099207386341,0.021618801496391428,0.0177011972247149,0.022392923769783683,0.021112742630375273,0.03402393591111947,0.021013928782789362,0.029297179266987945,0.026169576149748998,0.023619674620269444,0.01662567125823822,0.01756383953918628,0.023270285592404582,0.023689922575434348,0.019329533560015072,0.019710331658325968,0.016330329435282627,0.019582522759371855,0.025494214079074262,0.02569243186779844,0.024797903687290776,0.04174686574491908,0.02727629660719812,0.016335828034293225,0.017063011047838784,0.023569811715095118,0.02249737032855123,0.016870640549769795,0.020473590845867994,0.02005749442415239,0.014107795715191235,0.020739642570679256,0.01797652951175875,0.023498222638220295,0.014451820256216477,0.029840226269763306,0.012992572546101316,0.014531590175521705,0.02669993614114868,0.03249690790978566,0.02080562575880665,0.024268884817601005,0.030426859728110635,0.026328043090991585,0.02279324860019079,0.019149045400295876,0.022155545227130223,0.02868645926273069,0.015207461872446223,0.030301491670668576,0.014196980308900044,0.021988763331286243,0.03318340129065264,0.011323519755688394,0.028540518398258656,0.024637612820522736,0.028787445727486646,0.02842891024956022,0.013218685666391578,0.01784032519090062,0.022180811960144865,0.016802350632301333,0.029864929731659794,0.02242511069082146,0.027999751302390137,0.023685470051357453,0.029368741521428543,0.016896175507126396,0.017218768923227337,0.020942929799466894,0.02251974023867246,0.022264068795895847,0.01655429676083701,0.02486383323054976,0.024073617496638604,0.02352673488577292,0.03385575924869719,0.034712923778366885,0.018950720321834865,0.023238045026498413,0.03249932192886348,0.021130311324775046,0.017846038369384837,0.02414571619976319,0.02747470215296168,0.02171898328812145,0.012579212012673925,0.02858222728343674,0.020728913597000014,0.02627506878345024,0.014323930889959787,0.018179387581599198,0.03146008671585686,0.019418369462079296,0.022281530200558862,0.027137490510222784,0.022466497706789178,0.021477125398956867,0.02044880691666892,0.017777426582706018,0.020243990809131987,0.01925437709939192,0.03551327839240492,0.026849766258579426,0.017270294819321942,0.014279861630572262,0.027314572220798833,0.023880710549885664,0.026392577867672278,0.0282138747945938,0.02279477747894009,0.021600991400083855,0.013748670143712458,0.021373859027294072,0.02172788833627521,0.026609249491124778,0.024093439275511032,0.018661976817691987,0.03923572263285581,0.026258787565891985,0.017686900867287313,0.024610575806851,0.022149241955093664,0.018260123108535586,0.02488129463521275,0.019512730785588336,0.015587723522073145,0.013065395454949268,0.018991302664776638,0.02916942401290223,0.012334966926865715,0.016872437652861054,0.034099360596084614,0.028135016838051287,0.017886245198247844,0.028663043277675715,0.02227895524687583,0.018561339044580606,0.0217884265702604,0.026257017285234906,0.028088104400638768,0.024728916386533156,0.025057222981118288,0.023363305794203707,0.022974648722672766,0.028088158045507156,0.023824705307279943,0.028081854773470583,0.02332564709658953,0.03591454200800896,0.019927378795857265,0.02457745010061632,0.027054448253945346,0.014897555467721028,0.02170117319181386,0.024483893450133236,0.022775089812238667,0.021215606665525088,0.016597239477988208,0.01272134409148982,0.030782981186959223,0.0350324862594034,0.0272751164200934,0.020088930317032593,0.013549996373606899,0.026441716567123255,0.019680451466629223,0.024756892185401808,0.01710973572821193,0.020508728234667546,0.022891552821526953,0.023856758116146716,0.01978012363210951,0.033322073275456957,0.019944732910783435,0.019974264410835586,0.020773036501255927,0.017025191415619402,0.018896485359886257,0.01750812934335677,0.011085443829745785,0.023301909242324167,0.020613684419684836,0.025175161224287486,0.01264669725711641,0.023179572119946507,0.024798171911632742,0.020918789608688572,0.020591502266602987,0.02816326086126192,0.023207360161775756,0.025977956679837544,0.02602151631297532,0.02819292647348505,0.030736229684151878,0.022057455585267664,0.021708656650955158,0.0177217163868765,0.023527298156891075,0.017241299767953758,0.026887961404877564,0.025368738731895393,0.02404435422092845,0.0301504545436989,0.011983324814528233,0.026269436072268663,0.019856165233061204,0.02172764693436742,0.01127867264570913,0.022834072345040354,0.01640425206393267,0.022610534178433138,0.026817632982410064,0.027599319182246205,0.01591876600494649,0.028094434495109517,0.02340353944550088,0.017590393749042435,0.02356535919101821,0.03801744767157669,0.03151743308017247,0.02699613628199863,0.010687613485719102,0.02010856433886561,0.02041259663050144,0.023434680291604927,0.026095868100572538,0.02105998290230756,0.013159193507340121,0.032036125312695965,0.02097179073866408,0.01586184879957805,0.02941565395884109,0.01811839336623266,0.03051896796714703,0.020813565199329323,0.021671748981498536,0.01706789273086283,0.027219889028079418,0.027310763435142712,0.01854382399504921,0.02579875599695985,0.04356448799835549,0.025527849411558716,0.029568005385086464,0.016980290660771745,0.035452418289209364,0.021121915902871026,0.019771835499942277,0.017767958263434087,0.023072523785061742,0.019638715759016954,0.017374955957563047,0.02661887874500192,0.02409789179958792,0.02110423991873448,0.02647376937599001,0.026449414605738124,0.022550425103395125,0.023675036124454388,0.021804412741042497,0.019468125077516836,0.027797885662614954,0.017058236654551515,0.020457470562914915,0.026381419735045854,0.019540357892812395,0.02647414489006877,0.03148792840255453,0.023919898126249117,0.030149623048238754,0.023703548372006982,0.02765722881767996,0.025165424680673558,0.03491605007254933,0.025113737849973762,0.024417400635756058,0.03041031028621038,0.015283181604187556,0.017042277306203633,0.01903606930745333,0.01937733113775616,0.022772783082897624,0.015222321500992004,0.018063165974218708,0.02342266384108417,0.016644044625663962,0.026285878224432107,0.021647850192628007,0.024465815129483686,0.02504445550243998,0.026184516245597377,0.01760431459239127,0.03206900961702285,0.026378308332678867,0.018118393366232638,0.022045814648825688,0.021557270832340894,0.017373963527497732,0.01994891721051835,0.027500639446831288,0.024772690599144505,0.024542527291290347,0.022534841269126013,0.02191878360046333,0.013259080252293982,0.02394521850413215,0.02837792080214957,0.038053738425046744,0.026294139534165137,0.018301349189898106,0.0263145514065899,0.01519453345916275,0.015767997102318798,0.013444450095037233,0.02040108980623046,0.02636023001202932,0.01796730259439458,0.021653375614072802,0.027533818797934366,0.019110072403406005,0.025593671665080926,0.02049271524145128,0.02464603506486094,0.02755168253911032,0.019925823094673757,0.03300733883257608,0.019876389348446606,0.02376266501697967,0.02107403785782736,0.023750138940209158,0.023804668948933967,0.021397704171296217,0.018222678990394987,0.02240974143602592,0.030136989681731435,0.025423000516278233,0.01138977116815777,0.01818308907751856,0.017497534481848494,0.024480138309345485,0.026996136281998633,0.02383020390629057,0.0313663154859002,0.023261890170500565,0.019051975010932837,0.03200096110146217,0.012263565607030314,0.024983783156283808,0.021048207853694552,0.017253718554987488,0.022321763851856052,0.030651980418335563,0.02001683161390802,0.018681423082485632,0.016339207661002192,0.021093108608542258,0.020329071570408468,0.025638491952626002,0.03623946897588513,0.020438077942989664,0.01606476051428691,0.022006492960291203,0.0276482433022236,0.018336271999224087,0.02689337953658558,0.03141617839107451,0.014580541117933303,0.028034835046321274,0.028328406588619823,0.021087797766571013,0.02344717954594127,0.025279366381147236,0.027237404077610834,0.024028073003370166,0.02482477976635729,0.017234647804272623,0.018269779184846912,0.021337756030863415,0.023368804393214315,0.02172582300884195,0.02230497300804802,0.026576016495153294,0.025257667031880926,0.0225911683809421,0.018664766350848613,0.01762451188534247,0.023294801297261667,0.02347724749467736,0.024355601747363585,0.021094905711633513,0.021671319822551355,0.023537624794057355,0.025223361138541504,0.02412798657075823,0.021744974226859438,0.028971957252335596,0.02574071224935507,0.016790441471517373,0.02691140421236675,0.015199897946002369,0.011024288679774046,0.018101092896174856,0.018768783750668955,0.02170350674358913,0.022425191158124042,0.017693096849587087,0.026125882404440227,0.03481071837345329,0.016758817821597778,0.021429783802597187,0.020805867160714447,0.028875128264880326,0.025740873183960254,0.020085336110850033,0.020136781539642053,0.03129295612836831,0.03042817402738636,0.019811425412818717,0.014819099847691497,0.014621123460875081,0.01847140342271427,0.022944419839331483,0.023632495743816144,0.022530522857220105,0.01533242759337532,0.03144702419040237,0.023903697375993432,0.01901592565937054,0.027661252182809695,0.01504510567824497,0.012878094396943698,0.018361055928423152,0.02870998253752245,0.017791910697173,0.0264941812484148,0.0315716680421211,0.023556749189640604,0.017627328240933278,0.029249784025759826,0.01620321791961768,0.02404867263283434,0.02376674202697779,0.0212699757396447,0.013155652946025949,0.016723868189837593,0.028063722807952655,0.026351271319007143,0.022244220194589243,0.023882400363240117,0.020733983037063468,0.03464117376688687,0.0186661074725585,0.023590920970809025,0.0307775898776854,0.02412562619654878,0.02532660068777013,0.0167081502433975,0.020608427222582007,0.027667555454846254,0.014754135912063614,0.029729932420340575,0.023332164948099664,0.024496231769864367,0.030578486948632674,0.018883288722260777,0.028803458720702904,0.011681572429799255,0.03308606267694759,0.01913735081898548,0.025423000516278223,0.01740277082182651,0.023126302765628992,0.01728252584931629,0.015166986819241241,0.02195121192340888,0.018509196232499442,0.018454639401340428,0.02566172018064158,0.012262599999399175,0.017304708002398122,0.019962247960314806,0.03807216543734087,0.040947101224433395,0.019208430269610527,0.03254400810423756,0.024406752129379414,0.015443687050429184,0.014026523739570909,0.024748255361590026,0.025830540581484616,0.022887261232055253,0.027640089282227377,0.026347623467956202,0.018880686946143563,0.0281650579643532,0.017815916775780344,0.021746798152384908,0.02491222090184321,0.021942521454728664,0.02103670102942358,0.028355470424725724,0.022483610419807586,0.02708352377261615,0.014365452018098497,0.02609919408241311,0.013225257162770118,0.012958534877103889,0.01670517295320148,0.01652653554144195,0.030522991332276747,0.015978097229392745,0.02813458767910413,0.01701980010634558,0.026840592986083676,0.02506695952473222,0.015606794272788034,0.0172304366821035,0.009305775320699757,0.03359654724460644,0.022455822377978316,0.02722667510393157,0.02741604148937039,0.026549542752599735,0.021399957255768855,0.030159627816194662,0.015492611170406567,0.031463895501512996,0.012052821741535592,0.02620838821203371,0.021305086306010072,0.02359961143948923,0.0246236919771739,0.024912194079409006,0.01427903013511211,0.02595778620932058,0.023449486275282275,0.019086415016443217,0.025851569369895952,0.030176177258094912,0.020891725772582682,0.02401407169271877,0.027731526960408818,0.029844088700287815,0.02697698506398116,0.037185898566566206,0.02240810526753984,0.026263079155363696,0.013700202005116433,0.02476426835480628,0.019737556429037066,0.031932483426954365,0.025424127058514545,0.021624165983231053,0.021865782470487802,0.019966351792747132,0.020875927358839974,0.023884465690673387,0.025525220813007295,0.019615192484225195,0.02287757833330973,0.0183506220015201,0.023103369584389594,0.020732212756406368,0.02247298873586511,0.02075538733955356,0.025923587605717936,0.029729422794090812,0.030856394189359523,0.030595385082177497,0.01340059541512331,0.01198552425413247,0.016806990913417592,0.02514324252759171,0.01838007303426962,0.028161866094683633,0.027292390067717,0.025303506571925538,0.027843000996936245,0.03702040414756372,0.025532221468333005,0.023230051941107367,0.017024118518251488,0.016603301348116987,0.023458471790738657,0.02567864513662061,0.02851659278695389,0.016135437628399002,0.022511049769992263,0.024777357702695,0.027770848648943247,0.028364858276695076,0.029012405483106365,0.03250854884622763,0.031140524234820336,0.033057255382618785,0.02693079683229198,0.01838211153926869,0.03130108332593035,0.023029742002515743,0.027967135222405185,0.020867451469633334,0.03127490463015298,0.02906776698729132,0.02501401203962509,0.01267883053328579,0.019264006353269053,0.025211586089928545,0.02850326203715743,0.02042839504424415,0.019752067365938264,0.028412789966607135,0.02827511041186813,0.018464241832783362,0.02220581046881752,0.020537133192483358,0.019842002987804593,0.016671296218809254,0.01902684239008918,0.0335639579870557,0.02727892520574953,0.031322970432236,0.018293704796151652,0.032302096570204594,0.016827107739066205,0.02154914363477887,0.02233686488230959,0.022007243988448756,0.021978785385764525,0.026354650945716138,0.017764927328369665,0.025679020650699373,0.019500607045330784,0.027512897299259834,0.023583866670614927,0.025399316306881272,0.023781279786313194,0.012610567438251544,0.028546875315163606,0.020729959671933744,0.023491141515591986,0.020147832382531688,0.022929533388351506,0.024599900478040143,0.024540247384383512,0.022935192921967336,0.02180744367610686,0.018726189725162313,0.016045019202717108,0.01801062082562457,0.02547302435605773,0.02391563335921163,0.016028469760816844,0.031225900042872977,0.022683839891096624,0.016453256651212653,0.016195841750213196,0.0191745535352183,0.029618351094076366,0.024640643755587104,0.021346151452767415,0.028637320563279695,0.016300315131414903,0.02242822209318844,0.030690470611409875,0.027326856895661597,0.018429399490759984,0.023761162960664592,0.027327929793029525,0.02694925066702031,0.02503372652876073,0.025515967073208932,0.021864360881475316,0.02491240865888258,0.020772526875006157,0.015432207048592373,0.012314581876875156,0.02504005662323148,0.029794869533534253,0.02517491982237968,0.022296255716933618,0.024185949851060387,0.018925802280464823,0.02792244904703109,0.017042277306203613,0.011770730201073836,0.025035711388891393,0.020159258739500096,0.031919581836105035,0.017522747569994754,0.020926889983816418,0.022983124611879378,0.027592211237183698,0.022968801432017585,0.027296976703964877,0.018667931398083974,0.031219596770836425,0.0221960202803352,0.03043445047698871,0.0293841644210925,0.01907852922078898,0.020965675223666925,0.023199957169937085,0.03127283930271971,0.01660434742305072,0.019547921819256273,0.024136086945886075,0.014164793387862275,0.029283124311468095,0.019726988389963004,0.013750252667330131,0.01657878564325991,0.023871778679297684,0.020270169504909376,0.031071161419983957,0.018261517875113892,0.029296160014488395,0.01691503167836767,0.025790575154529392,0.0228277154281354,0.026425971798248942,0.03220231711498757,0.01726439388379835,0.021752913667382072,0.016387970846374382,0.026635481831770554,0.020699113872605875,0.027139824061998025,0.009556350500978682,0.025550782592798117,0.029605798194871632,0.02037134372670471,0.03542642735047136,0.021593427473639997,0.026770237741181955,0.0296808741881922,0.027145724997521613,0.021184894978368257,0.02380166483630375,0.02172638627996012,0.02364062294137819,0.02625347672392074,0.028473167265987143,0.01563659399718214,0.022741213077846423,0.032788360479782536,0.023267308302208592,0.03244897621987358,0.015432019291552985,0.0203614462484856,0.02159597560488883,0.015144053638001852,0.028659717295835142,0.029350877780252582,0.01675007370804918,0.037259606615742666,0.03112035376430331,0.01875097365436141,0.03507811121997442,0.017761467234358105,0.01903078528791629,0.03426879791291421,0.02897533687904456,0.01853596502182918,0.02780515454228267,0.02113849216720548,0.022100264190247892,0.018484358658431968,0.029254102437665724,0.019273903831488155,0.02829890191100188,0.025636212045719177,0.020422601398457352,0.030711579867123806,0.02285590580647765,0.02663258500887715,0.022087523534003763,0.019889934677716645,0.02002989413936251,0.019044625663962547,0.025261234415629292,0.020109100787549593,0.01659573742167315,0.022362265727495226,0.02654627041562755,0.02368863509859285,0.029503980234655523,0.02030045203311906,0.030796955675176457,0.015288841137803362,0.025929032559860135,0.016107408184661956,0.025855512267723098,0.024600705151066098,0.020866807731212602,0.016460230484104155,0.02520064253677568,0.01440246697729192,0.027258862024969348,0.017709056197934964,0.02877411497769017,0.017372917452563995,0.025730224677583617,0.026463523206126327,0.02944601695435338,0.024491886535524265,0.027569465812983696,0.02976169018243118,0.018875590683645912,0.014006406913922291,0.021114432443729757,0.02822548890860158,0.02067969443024644,0.029911117963348978,0.032740777481515056,0.02080162921611114,0.025790923846173992,0.026800842138602024,0.021971596973399447,0.029029625485861563,0.026715949134364952,0.023937735044990853,0.021822142370047447,0.018097015886176737,0.01617011903581718,0.019127667920239944,0.021679312907942408,0.022869826649826473,0.03230118460744188,0.01366860517763104,0.02110920206906114,0.020935902321706966,0.018135211032474906,0.019683482401693625,0.0210273668223226,0.027174988273231775,0.018212298708360324,0.018708379628854754,0.024944488290183538,0.020218911833156744,0.030862751106264474,0.01077714677107246,0.01921910559842138,0.02149903932769676,0.0253927716329369,0.02664564753433165,0.02346319253915754,0.02080364089867601,0.01994575216328298,0.03748083805300886,0.023796380816766716,0.022816235426298605,0.023219618014204316,0.023311940832714272,0.023559565545231427,0.02421376471532385,0.02259747165297864,0.023512974977029266,0.029177417098293273,0.021788024233747434,0.020894837174949655,0.01844334715654303,0.024396049978134354,0.02247730714777102,0.023336671117044922,0.02531630087303805,0.019485720594350782,0.022534546222349808,0.01995079478091221,0.023524910960247447,0.02304505761244286,0.026858429904825426,0.020428743735888724,0.024088691704657963,0.025630016063419404,0.03059769181151855,0.019433175445756675,0.02239410395688842,0.027269993335161537,0.027454907196523454,0.032458578651316496,0.02898209613246247,0.021976210432081512,0.019499319568489264,0.03037385859813513,0.02553696903918608,0.02381639035267854,0.02472805806863881,0.014826368727359174,0.028628630094599497,0.015047922033835736,0.02410722600668888,0.026125909226874446,0.024763088167701577,0.01760514608785141,0.024600544216460914,0.030159198657247498,0.027285335767522886,0.030783678570248378,0.016656597524868685,0.01551535659460658,0.01912469063004397,0.019986683197869292,0.025281351241277866,0.024033920294025374,0.03203937082723392,0.019990894320038432,0.03229260142849847,0.018296091992795274,0.023998917017396808,0.02211804746412126,0.02301831564554733,0.021111401508665376,0.0146353125285659,0.018738501222459257,0.021314876494492385,0.03305830145755255,0.022116518585371947,0.020112373124521764,0.016198631283369805,0.021279712283258617,0.02744817476553975,0.019608084539162702,0.01774556153087864,0.021428764550097665,0.024220631258478568,0.021057944397308494,0.027438491866794215,0.02876647058394371,0.02703741600822957,0.021890539577252684,0.02612864511516267,0.033759949513741436,0.022030203992122358,0.020974070645570934,0.030163463424284997,0.025790575154529417,0.023770899504278506,0.01862402307330165,0.02732790297059532,0.01050792999902581,0.02283678141089437,0.018423283975762823,0.027252800154840558,0.017912289781854208,0.027632659467954478,0.01947807620060434,0.015763061774426317,0.029747152423095786,0.022701408585496408,0.019495054801451757,0.02458874234541373,0.01725463051775024,0.021265603682870428,0.021193156288101256,0.01961320762409452,0.024587481691006413,0.020678728822615323,0.024723551899693545,0.010355256703570044,0.029287684125281793,0.01940361712327033,0.03269638635291715,0.01689722158206012,0.02275556308014242,0.014891252195684483,0.028823656013654123,0.025871713017978755,0.018931166767304455,0.024142175638449066,0.01435555453987938,0.01711893582314188,0.021333947245207242,0.022266402347671098,0.020440706541541086,0.029678379701811784,0.0235412190002399,0.032764917672293385,0.018254570864656573,0.02016765416140412,0.022290918052528197,0.02060738114764829,0.018686224298207092,0.017821200795317363,0.024234364344788005,0.01787020538259735,0.01889651218232047,0.027794559680774395,0.01938508282123942,0.017292986598653567,0.021210376290856467,0.024015761506073235,0.030948609718132715,0.02423755621445759,0.02396656916175387,0.017243526029992202,0.017061562636392066,0.029753080181053597,0.02462916375375031,0.023162486229362275,0.018197144033038373,0.019635067907966007,0.026823265693591655,0.023577107417197003,0.01963536295474219,0.03024929521371902,0.016209306612180636,0.024696005259772058,0.02397086075122557,0.022014164176471868,0.024164626015872902,0.029715099614229013,0.01985428766266733,0.01920223428731075,0.0321084922401625,0.035044931868871323,0.025641710644729768,0.012918649917451284,0.024367752310055328,0.024452350267516222,0.02422905350281679,0.02212453849319719,0.029716145689162747,0.020192786782247778,0.030140637532782368,0.0258150640369523,0.012943809360729119,0.021348699584016223,0.02172971226180069,0.022855396180227867,0.015326794882193706,0.02283605720517102,0.01772850246272862,0.021763884042969098,0.02692645159795188,0.020893549698108138,0.02200571510969948,0.022865856929565144,0.01596457872255691,0.01960982799738556,0.024076138805453243,0.0235397705887932,0.020734868177391987,0.030918514946962374,0.01861672737119975,0.018848553669974205,0.026251706443263693,0.024711052645357202,0.01957286668306054,0.02093861138756098,0.013870202593064193,0.027906167829472833,0.01924155597584521,0.03151241728497742,0.019348175151782783,0.01392880961178711,0.015933813390531626,0.025093057753206985,0.019561493970960547,0.019241555975845218,0.02789517063145159,0.027422693453051525,0.031788768824520766,0.02560834353658731,0.01950862695315602,0.026781905500058156,0.01882213357228902,0.017490265602180817,0.0276481896573552,0.017363502778160456,0.025560733715885627,0.02612859147029426,0.022205810468817536,0.019721972594767944,0.021971543328531042,0.016024231816213534,0.03243060285244787,0.02818402142533128,0.021781962363618658,0.02191223892651896,0.02084738828885315,0.03900912670874999,0.022164235695810428,0.020022035166142448,0.020648339004668816,0.010769609667062793,0.02671447390048405,0.023646979858283134,0.016970580939592007,0.01800066970253707,0.017735073959107145,0.024785753124599002,0.01938197141887242,0.019840983735305066,0.017383431846769666,0.01648812581567022,0.032804748987077595,0.025678215977673426,0.024501328032362005,0.035086372529707456,0.019773927649809724,0.02623333307583796,0.026753634654413334,0.029549873419568523,0.03161501309578527,0.021340277339678,0.02955022211121312,0.03127249061107512,0.021327295281526125,0.027766664349208364,0.014324950142459323,0.026400705065234314,0.020057574891454977,0.031192774336638265,0.030166199312573208,0.011214030579291613,0.027773155378284304,0.02422505696012127,0.025311419190013982,0.012126234743935864,0.024827488832211288,0.026410441608848242,0.027019579089487804,0.022134140924640118,0.031069069270116486,0.019492935829150137,0.022875378893705486,0.03136639595320277,0.02203983324599949,0.016785291564151324,0.025545418105958492,0.026507887512290045,0.0214267260450986,0.01809926897064939,0.027220720523539584,0.02359269125146611,0.024601456179223623,0.023808343622419105,0.0300126408767889,0.0200730246135531,0.016461357026340502,0.023203363619080243,0.01717692592587826,0.026390083381291854,0.023705855101348025,0.02607398099426688,0.02674907484059963,0.014616697759232402,0.01832586489475521,0.020974043823136737,0.02413842049766132,0.03135974398952167,0.019059592582245113,0.026275041961016064,0.014408958006367871,0.023349143548947078,0.03169966469811458,0.018806254691243723,0.027471322526252725,0.023457908519620513,0.02290820955316401,0.02593742798176417,0.019517344244270388,0.01924388952762047,0.02603959463362487,0.015756973081863357,0.01753283280525326,0.01992708374908108,0.026283491027788486,0.02119117142797061,0.015900392637520765,0.02892847808650043,0.025473051178491916,0.01364341891191899,0.02247913107329647,0.03783703997916005,0.020604269745281283,0.018674341959857337,0.013509601787704512,0.021334778740667394,0.01770562292635762,0.031954772869773,0.018932963870395704,0.024031854966592124,0.022545999401752434,0.029238974584777984,0.030505181235969184,0.016490754414221646,0.026822487842999926,0.023711005008714064,0.01916001577588288,0.027545030575429195,0.023428806178515532,0.01782146901965933,0.032173670755263964,0.028319528362900238,0.022734614759033676,0.027528293376489557,0.018053429430604777,0.019814697749790902,0.03169668740791856,0.029515755283268497,0.020022920306470987,0.02612397801161219,0.01866999672551724,0.015629325117514456,0.029790792523536145,0.02701823796777788,0.02067052115775067,0.02126595237451501,0.017524517850651827,0.027310763435142736,0.02198197725543413,0.026779920639927488,0.019088614456047467,0.013035327506213161,0.01823037702900986,0.030065025090777835,0.031797539760503576,0.014427867822477536,0.03009329593642269,0.02854837737147868,0.023715833046869726,0.020111729386101,0.031689445350685096,0.016540670964264363,0.0200313693732434,0.01850943763440722,0.02620404297769362,0.017979694558994116,0.024164894240214847,0.029327166748421445,0.023882668587582118,0.0206473733970377,0.029681705683652353,0.026093883240441866,0.038854495375597764,0.023639979202957417,0.021725662074236776,0.023125846784247627,0.02408413189084426,0.02398985103463786,0.030598684241583872,0.017193287610739107,0.025230361793867215,0.027755077057634747,0.028667576269055185,0.023107473416821917,0.02297671405010603,0.019579196777531303,0.025690098316023213,0.015143490366883687,0.01983771139833289,0.02124352881952537,0.020986006628789085,0.010800321354219643,0.02024396398669777,0.021855670412795108,0.025474821459149012,0.03807224590464347,0.020225376039798466,0.013408749435119539,0.01759645561917122,0.03569400795403194,0.02662853482131322,0.021194229185469197,0.02852598063892325,0.024178439569484907,0.027304701565013943,0.021180442454291355,0.017577331223587934,0.031144923114028826,0.02902316127921983,0.020611887316593556,0.03736622579168023,0.01932926533567312,0.025256433199907807,0.02416052218344055,0.015668754095785702,0.02064573722855159,0.031323533703354174,0.02218944878395666,0.025278293483779298,0.01747578148771383,0.034294359692705015,0.018972178269193375,0.013985941396629144,0.03803748402992267,0.03647051742406784,0.031906412020913794,0.024372312123869005,0.028430948754559288,0.0251188072900372,0.020858117262532394,0.023485079645463213,0.023854987835489644,0.02059383581837822,0.029514065469914037,0.029886682725794467,0.035739096465919,0.018661869527955205,0.0260706013675579,0.02215173644147411,0.0191428494179961,0.017574488045562955,0.03092538149011711,0.022778791308158006,0.017009848983258108,0.02407375160880961,0.023213261097299348,0.0149523537007878,0.020918575029215,0.03292657648320552,0.02597468434286538,0.030715603232253523,0.013821493052560384,0.025582620822191284,0.028052162338813254,0.018372455462957373,0.017537151217159146,0.023023653309952742,0.02789283707967636,0.02511175298984309,0.03417432929966838,0.02580835842840276,0.01591012918113469,0.022098547554459193,0.024084131890844275,0.03566139187404699,0.024189249010466755,0.03768621743166396,0.01640602234458974,0.03670041250758003,0.026898690378556803,0.0256053662463913,0.011680284952957741,0.01957951864674168,0.018722997855492744,0.013703903501035767,0.027879667264485077,0.01480370377046175,0.02004309077698798,0.027011881050872932,0.017494423079481517,0.027399599337206943,0.02249605602927552,0.015865523473063206,0.023713204448318294,0.018704088039383067,0.02273743111462448,0.02593788396314553,0.027407190086084995,0.02275937186579856,0.013108150415061089,0.02299817199746452,0.022129822512734227,0.023714867439238604,0.026244169339254008,0.01852488735650533,0.017901829032516962,0.022190414391587802,0.025155527202454432,0.020393633169523362,0.027023656099485906,0.024278272669570358,0.01768118768880312,0.02444880970620207,0.030079053223863485,0.0218614372361477,0.022242020754985006,0.02035728877118489,0.019534644714328205,0.02432228828408948,0.022763904857178052,0.03175502620229953,0.027137195463446583,0.02870461805068281,0.032380391255628964,0.021064006267437277,0.02016566930127345,0.028305258827906837,0.019215350457633625,0.020252842212417393,0.022946994793014514,0.03501285223757039,0.02447246709316484,0.040831872047118224,0.023398523650305852,0.014493153627315807,0.023366175794662884,0.01620351296639385,0.013891606895554286,0.02749787673610887,0.016247582225781383,0.01863375961691556,0.03734377541425639,0.027352284563281412,0.020923644469278448,0.020302007734302536,0.025133291404504196,0.020288033246085323,0.029980453955751156,0.026000514346998203,0.021868679293381196,0.02939368638523282,0.012609414073581023,0.024009780103247058,0.022306931045744483,0.01618685623475681,0.019918956551519033,0.029165695694548695,0.032909544237489693,0.031715731336199274,0.018071534573688527,0.023126490522668394,0.018178824310481033,0.019195233631985047,0.012440379093264401,0.02385675811614671,0.024877968653372183,0.015966188068608785,0.014677691974598932,0.018973170699258718,0.019005357620296467,0.033327732809072766,0.018136552154184783,0.019444977316803846,0.03613011391165935,0.024651748243345158,0.030518914322278625,0.02149619614967174,0.023493340955196236,0.02307236285045656,0.014863437331420988,0.020607837129029645,0.02280392392900167,0.014813735360851864,0.017619496090147402,0.02243224545831817,0.0227389063485054,0.015728165787534543,0.020655312837560315,0.015417669289256999,0.019534430134854612,0.03339545945542305,0.025253831423790608,0.01701768113404393,0.023060882848619763,0.020495960755989234,0.012538602847297948,0.03007929462577126,0.022911776936912355,0.022314173102977973,0.025093272332680595,0.021539112044388783,0.03203470372368344,0.026529399104516932,0.021159413665880034,0.031167561248492025,0.013102624993616245,0.022184486633630006,0.0343969555035129,0.026008534254823433,0.023042804527970216,0.029007389687911306,0.02016065350607841,0.023227772034200518,0.03071262594205754,0.02290764628204582,0.028279348356471456,0.027626383018352137,0.0313419607156483,0.026421116937659077,0.013441258225367658,0.02402842169501477,0.028888566304413592,0.018339839382972428,0.02490937772381819,0.02609382959557347,0.01874759402765242,0.019466435264162352,0.03175698423999598,0.017876910991146876,0.03412186461837684,0.027706179760091577,0.01678885894789968,0.014000184109188353,0.024311639777712838,0.025048237465661913,0.010626082821668575,0.025113442803197588,0.02699683366528776,0.021806156199265365,0.024655691141172283,0.018485056041721112,0.02576257253322657,0.020650940780786053,0.030127011736209734,0.01870811140451277,0.02617263390724759,0.024529732990177834,0.03039327804049457,0.014792036011585581,0.020124362752608316,0.022632984555856966,0.022420899568652345,0.02868951702022926,0.0399636030296905,0.019765827274681895,0.026905100940330176,0.023183166326129028,0.026314310004682123,0.020059184237506862,0.019119326143204364,0.0241969738715158,0.02082169239689135,0.028901602007433892,0.018243815068543112,0.023378138600315256,0.021957917531958405,0.02062159703777329,0.02487166538133561,0.024699063017270654,0.030088038739319853,0.029948535259055352,0.027212351924069764,0.021973581833530105,0.027510375990445212,0.026023501173105985,0.019539714154391645,0.013947773072765195,0.027573998804363162,0.029546627905030556,0.01943529441805833,0.025563925585555217,0.023766527447504203,0.02402984328402727,0.025058510457959794,0.012070900062185136,0.022784021682826665,0.018988030327804464,0.02433210529500603,0.025577605026996242,0.022977652835302956,0.012608421643515689,0.03441334401080794,0.022756233640997377,0.013216298469747943,0.01323429632309489,0.029554030896869254,0.022347513388686253,0.02326591353563028,0.032187162439665615,0.023219537546901717,0.038292028930462955,0.028141615156864037,0.02900690688409576,0.02524983488109507,0.032625065500384305,0.021645623930589546,0.024476034476913187,0.03139611521029431,0.013093022562173323,0.020564706654839053,0.02728096371074859,0.021318202476332954,0.027430847473047748,0.01710029423137418,0.025804630110049208,0.024633026184274834,0.02160187654041241,0.022345313949082006,0.03009533444142174,0.0295159162178737,0.015179995699827364,0.02526989806187528,0.029609606980527763,0.037826954743901554,0.017377074929864685,0.026880102431657508,0.027536849732998775,0.02193318724762772,0.02625495195780166,0.02645421582145957,0.022675229889719033,0.025436063041732716,0.01969201193576866,0.020182808836726032,0.022365243017691223,0.023665621450050824,0.02068511256195446,0.012620330804299654,0.0330014110746183,0.028031804111256872,0.01702948300509112,0.024798171911632732,0.025383035089322995,0.021968995197282223,0.02414228292818582,0.018171716365418547,0.016878526345424045,0.02494652679518261,0.01830979825667052,0.015149552237012467,0.031003407951199494,0.026762620169869702,0.02936088254820851,0.021206004234082178,0.02047890168783923,0.03455577113640003,0.026577116214955412,0.0197154010983894,0.02089076016495155,0.02094714092163602,0.013583068434973195,0.01777592452639091,0.0269750806711531,0.02458812542942717,0.024621894874082617,0.026254388686683502,0.015319365067920868,0.0217885875048656,0.01845665108390529,0.02346016160409315,0.016659494347762066,0.014364405943164758,0.024287124072855736,0.021582698499960726,0.02332049718922348,0.016562799472477817,0.02750833748544615,0.02279370458157218,0.018044765784358777,0.022877363753836137,0.022019394551140527,0.016473024785216707,0.022954612364326766,0.03078298118695922,0.022427256485557302,0.02005615330244248,0.01990294355830275,0.025471280897834857,0.02421411340696843,0.020951968959791657,0.017170810410881074,0.017686149839129764,0.016227143530922396,0.024817886400768357,0.030197340158677227,0.03136336501813841,0.037402865236794904,0.020599119837915243,0.0172391807956521,0.020588471331538596,0.008829247954735732,0.01676517473850274,0.024205503405590842,0.026233494010443163,0.023355688222891417,0.03243191715172356,0.018660340649205895,0.02464163618565246,0.02469085535240602,0.032351315736958194,0.0270638361059147,0.021484850260005947,0.01639049215518903,0.018140870566090678,0.02226307636583054,0.019202422044350145,0.03154752785134278,0.034074576666885535,0.01667368341545289,0.019868852244436925,0.02866438439938563,0.02325553325359561,0.013794536506191276,0.018144169725497053,0.017749665363310945,0.029545635474965234,0.01478691292665374,0.0188541327362874,0.0200156246043691,0.018163267298646125,0.016296720925232357,0.029429708914360916,0.01311386359354527,0.015355843578430301,0.02178322301802596,0.027015904416002642,0.03576441684380202,0.0158653088935896,0.0163232751350885,0.03265054681287254,0.019083759595457606,0.02111217935925709,0.01915859418687039,0.017758275364688554,0.01516620896864951,0.02503659652921992,0.019892402341662868,0.029471203220065405,0.01389587166259181,0.021541338306427214,0.02987488085474729,0.021698920107341237,0.02328637905292347,0.02786333240205842,0.02254988865471115,0.017602624779036784,0.02662939313920759,0.020526833377751304,0.023245877177284276,0.019803807841506454,0.01918187605975436,0.030043084339603787,0.019681256139655195,0.026459848532641182,0.020042312926396244,0.030029136673820775,0.03133166090091622,0.021163222451536148,0.011965917054733646,0.017247334815648337,0.03252598342845641,0.02088129184567959,0.02666504015425689,0.02831494172665236,0.026100535204123025,0.023106480986756585,0.03157480626692229,0.02013584275444514,0.01792886604618866,0.021958829494721145,0.0333571838418223,0.035169602543024245,0.01935423702191158,0.022465800323500013,0.02461819337816328,0.022593394642980512,0.029210515982093753,0.0168888798050245,0.01797548343682502,0.014576222706027415,0.02380281820097429,0.01877734010717816,0.025006662692654807,0.018372804154601956,0.02421277228525852,0.01685441297707991,0.014989341837547035,0.016229772129473824,0.027825083610891886,0.015482874626792646,0.022648970726639052,0.025774293936971122,0.023154627256142223,0.02307308705617992,0.02269432746286809,0.0249867604464798,0.026272815698977617,0.022076821382758724,0.02639306067148786,0.027441013175608826,0.007683339920923174,0.023323608591590474,0.016516611240788653,0.03316258708171488,0.028391546598722214,0.022109652042217223,0.013939619052768953,0.01820376917428531,0.01844439323147675,0.014637377855999157,0.018006543815626448,0.0177647127488961,0.025449662015871156,0.030466717865329083,0.02091728755237348,0.022035756236001375,0.019210817466254144,0.02096548746662752,0.026944932255114403,0.014298449577471553,0.022970142553727473,0.02426735593885172,0.02744935495264445,0.023420410756611526,0.027527166834253214,0.029202817943478905,0.019869120468778922,0.027584566843437235,0.02553187277668844,0.02521896225933304,0.024693457128523236,0.025713675235683374,0.02487823687771416,0.02434557015697348,0.018734933838710905,0.02701542161218707,0.015440736582667387,0.026982778709767966,0.019106209972881465,0.027707842751011846,0.02962336688927141,0.024837922759114367,0.025324213491126513,0.012146512504189674,0.027064882180848453,0.019323069353373346,0.02480128331399972,0.013038304796409134,0.027968074007602116,0.023347265978553217,0.020274192870039086,0.018677667941697906,0.02655686527713582,0.024989093998255052,0.02422631761452857,0.03528646788882551,0.03384092644258562,0.02143144679351747,0.02372860052554804,0.026558930604569084,0.02150198979545856,0.026081062116895183,0.0207546899562644,0.024518387100512032,0.021767987875401424,0.027092643400243515,0.02538485901484848,0.019196950267773735,0.024205074246643657,0.018709881685169863,0.026285529532787517,0.023182468942839908,0.027200496408154196,0.028407505947070102,0.024950684272483304,0.023617904339612354,0.02270529783845516,0.02389581158033921,0.01809578205420364,0.02405191814737232,0.024058275064277268,0.01417903610042147,0.024888912206525032,0.03469653527107182,0.02471719498278859,0.023946505980973663,0.026887183554285814,0.01847065239455673,0.02171576459601765,0.02738017989484748,0.019028532203443686,0.02358992854074371,0.02801273336054202,0.01579388075131999,0.01580351000519712,0.02248409322362314,0.018731339632528342,0.02899639248989009,0.023558573115166112,0.01775583452317652,0.032078343824123806,0.03249942921860025,0.032409279017260345,0.02510933897076527,0.014984674733996556,0.021030451402255398,0.024280847623253374,0.02390463616119038,0.018978535186098343,0.023758132025600186,0.019818855227091585,0.016201608573565788,0.021800308908610174,0.013974541862094927,0.028799381710704813,0.014058817950345453,0.017570035521486053,0.02039288214136581,0.013514000666913014,0.03301214004829756,0.019585687806607244,0.016356159439415402,0.02764282517051557,0.017928115018031123,0.03477555416221952,0.02184394900905054,0.019915147765862902,0.026684835110695124,0.02652631452458415,0.01165421354691714,0.025546759227668386,0.026289070094101682,0.024850207433977117,0.03322312531570005,0.033779851759916456,0.0223212810480405,0.037235117733319764,0.023244804279916348,0.01450715493796724,0.03829988790368299,0.025969427145762548,0.031134006383310188,0.025253590021882814,0.018405205655113284,0.0227516201823153,0.01940034478629815,0.029962053765891228,0.019914664962047326,0.02100287793989973,0.02417669611126204,0.023096744443142664,0.02684241691160915,0.04379153990384266,0.02413227816022992,0.014618736264231439,0.018963487800513195,0.017733384145752693,0.035781717313859845,0.018664337191901435,0.022856469077595795,0.021543215876821075,0.02555840016411038,0.018346598636390363,0.022051098668362697,0.021642995332038145,0.027829402022797774,0.03171264675626646,0.027141862566997087,0.0274672186938204,0.012835258969529289,0.015432958076749928,0.01711019170959329,0.018048789149488514,0.02618644746085963,0.027785869212094215,0.020749432759161607,0.03373422679934546,0.02144346324403822,0.025213919641703785,0.0332627152285765,0.011740447672864151,0.011795245905930925,0.019622085849814112,0.02789573390256976,0.027446109438106478,0.020597912828376332,0.02814888403653173,0.03246096584796014,0.01988430196653504,0.02875482964750171,0.02799127541318351,0.03060713330835627,0.01640757804577325,0.02145805464824202,0.021334886030404218,0.03529848433934627,0.021468193528368915,0.02480959826860115,0.014953399775721526,0.013954425036446318,0.018338337326657357,0.02746582392724211,0.021012158502132276,0.02890058275493436,0.014723638804380348,0.016382847761442547,0.02239107302182402,0.0150010632412916,0.030199325018807895,0.03869358759284318,0.03228839030632936,0.02910883213404867,0.020669367793080172,0.012560785000379809,0.020529810667947283,0.01581700168959877,0.02404746562329543,0.0275177789822839,0.02711707863779799,0.02300868639167021,0.02394368962538286,0.018864727597795672,0.013763154258179443,0.02366755266531309,0.01827997170984219,0.023364405514005822,0.02097103971050656,0.029731488121524083,0.018306713676737744,0.02502117362955599,0.025102016446229176,0.016097591173745443,0.020768315752837073,0.00843155172288005,0.013501206365800496,0.01864647345072548,0.013173919023714892,0.031842440515351234,0.017044288988768485,0.02672010661166567,0.02871196739765309,0.024620339172899148,0.03145906746335734,0.022647468670323967,0.015417481532217614,0.032224418800766826,0.015060448110606278,0.02425558089023875,0.016904436816859415,0.028414077443448656,0.024052213194148506,0.021375736597687954,0.02552589137386225,0.022886215157121532,0.02021057005612112,0.033795784285830154,0.015645901381848893,0.026745802503627472,0.03039504832115166,0.027632149841704725,0.02358767545627108,0.02257805221061919,0.020805625758806658,0.018579336897927536,0.026179259048494517,0.018848553669974198,0.024635413380918486,0.015650353905925785,0.017493242892376804,0.017932084738292452,0.020485526829086144,0.025097188408073522,0.02593335097176607,0.01998593216971176,0.027704892283250057,0.026767957834275123,0.028868798170409563,0.024742113024158643,0.03549415399682166,0.029384781337079034,0.02979712261800692,0.02530621563777955,0.026022535565474875,0.018760307861462343,0.021699966182274967,0.03275129187572073,0.015824270569266476,0.031064107119789866,0.02125495517649377,0.016634415371786844,0.011263786194729166,0.02537646359294446,0.024288170147789476,0.019290480095822626,0.015970291901041093,0.03362937790406495,0.026071379218149643,0.024600168702382137,0.02243975573989363,0.018549617640836024,0.026064110338481956,0.01175670206798824,0.01742213661931756,0.031396893060886055,0.013686468918806996,0.0275536137543726,0.02686859560738651,0.01955553939056853,0.012543001726506443,0.020293612312398526,0.02560233531132693,0.029484989951243247,0.01802228858450073,0.020078818259339895,0.022604660065343746,0.023903938777901222,0.022182609063236155,0.019725030352266526,0.018217394970857954,0.02183729704536939,0.026578698738573117,0.024090193760973037,0.02504973952197702,0.01623505614901085,0.025392959389976322,0.013312564186085027,0.024314724357645624,0.03133343118157328,0.017869910335821183,0.02552294090610046,0.01903116080199508,0.024951837637153834,0.02463455506302413,0.03161839272249424,0.024592014682385904,0.022099325405050944,0.018868965542398974,0.032019012599677536,0.014774252737712216,0.027423310369038077,0.032216237958336405,0.019390661887552646,0.022090125310120994,0.024480165131779696,0.01826347591281035,0.02280598925643492,0.020703646863985348,0.028468607452173462,0.021508614936705493,0.025748007951456972,0.030947322241291195,0.010467964572070583,0.022757252893496917,0.03459149861875194,0.02622056559715965,0.020560254130762172,0.015564012490242005,0.01858636437568746,0.019027405661207322,0.02392933962308686,0.022900377402378155,0.02864190719952758,0.017839359583269494,0.02375148006191904,0.018344265084615115,0.02038612288794789,0.02607379323722747,0.030588008912773013,0.023039237144221868,0.017511079811118588,0.024846398648320972,0.02047994776277295,0.012164805404312796,0.018203554594811735,0.021638542807961236,0.02533598853973948,0.01964826454559148,0.031135374327454276,0.01842017257339582,0.027166378271854173,0.027953777650174514,0.019683401934391026,0.02452978663504623,0.024159771155283,0.03395269552588924,0.024670443479981242,0.024897012581652857,0.018488891649811462,0.02569983485963713,0.020478901687839206,0.022413603866550454,0.014293004623329346,0.022234403183672747,0.014094035806447597,0.020002857125690797,0.031444127367509,0.020846422681222034,0.03126903051706357,0.019560850232539756,0.014051468603375174,0.022464754248566317,0.032899217600323424,0.026178990824152558,0.02700906469528213,0.02522534599867217,0.023406650847867874,0.026864572242256808,0.018904102931198534,0.020223525291838816,0.016997054682145574,0.0224527109756113,0.014293031445763535,0.023909517844214453,0.03778261726017204,0.028098833374318018,0.012176741387530953,0.028603443828887475,0.017925781466255876,0.03044198758099839,0.01823968441367658,0.03143135988883067,0.0209457193326235,0.03128088603297915,0.023855980265554966,0.021627813834282007,0.015754934576864308,0.027602162360271226,0.017279226689909926,0.025745754866984338,0.018793835904210004,0.03035602167939338,0.02594378489866913,0.023392649537216453,0.02122512862966544,0.023284421015226993,0.01740588222419348,0.036045730533672035,0.02478867676992659,0.01843916285680811,0.019960558146960322,0.02728029314989363,0.02154265260570292,0.020190104538827962,0.025224353568606857,0.021454031283112282,0.018698777197411837,0.015160603079902104,0.04032178981597236,0.024085177965778005,0.017351781374415863,0.031833696401802655,0.028275754150288886,0.023582310969431426,0.02626074560358846,0.03358074883086375,0.022226463743150113,0.027296279320675715,0.02292650245328713,0.021270753590236474,0.019745200822783526,0.025612715593361625,0.021885470137189236,0.02699090590732998,0.02590891573421157,0.03146453923993375,0.01726318687425943,0.024925846698415854,0.013959467654075576,0.014568524667412548,0.028617793831183472,0.019545910136691415,0.029061141846044386,0.00845628200721073,0.023701483044573743,0.020190453230472513,0.017709056197934968,0.01787168061647824,0.02818699871552726,0.026643018935780242,0.029507976777351064,0.023399274678463384,0.025557085864834683,0.0280917522516897,0.018275975167146703,0.024413109046284374,0.019546151538599198,0.029510819955376064,0.018048896439225304,0.02552310184070565,0.03025897811246454,0.017303232768517238,0.022161875321600986,0.02782688071398315,0.02370593556865063,0.02156150877694421,0.02552119744787759,0.029610894457369294,0.021189696194089724,0.01835872237664793,0.023975071873394677,0.014989341837547026,0.026243230554057077,0.029907496934732207,0.01701564262904487,0.028096768046884754,0.025173042251985828,0.021665016550514796,0.027493075520387412,0.03154178785042436,0.017864840895757735,0.027097954242214728,0.014477086989231131,0.024733503022781052,0.037802465861478646,0.025402937335498012,0.02043491289575428,0.025673656163859748,0.0291154304528614,0.032299763018429364,0.02481729630721601,0.020969457186888852,0.020306594370550428,0.019405494693664198,0.01910119417768639,0.01738168838854677,0.021179825538304803,0.01717394863568225,0.015226076641779754,0.02580135777307707,0.026168825121591452,0.027845119969237886,0.022471379389813233,0.029599253520927307,0.02520120580789387,0.021916262291648704,0.028046797851973636,0.03212324457897148,0.01328818259339894,0.021916262291648694,0.021269680692868533,0.021783920401315104,0.025762867580002735,0.024134960403649736,0.01613511575918862,0.01237672945691221,0.01932103084837428,0.02252518519281468,0.026755565869675563,0.029602257633557488,0.02273727018001931,0.027748317804216827,0.021544717933136184,0.021840783961815144,0.021586990089432434,0.020891323436069704,0.014282275649650074,0.028300457612185373,0.014597653830951714,0.02380735119235378,0.037764941276035455,0.02434074211881779,0.014247245550587323,0.030251333718718063,0.0232382327835378,0.027211735008083215,0.02968685559101838,0.027635475823545294,0.029895990110461235,0.03489885689222833,0.017166009195159614,0.02615992007343768,0.025842825256347367,0.022465773501065805,0.01871867944358685,0.02441823213121619,0.01887508105739615,0.025938071720184946,0.024108272081622605,0.029025682588034438,0.021935145285324177,0.02647342068434543,0.02339095972386198,0.027528749357870926,0.024533112616886794,0.028659019912545974,0.034723947798822305,0.016327271677784028,0.021885121445544664,0.02574870533474613,0.018997954628457794,0.04225702844336753,0.022393835732546434,0.025676445697016353,0.024297987158705982,0.02461296300349464,0.028800159561296553,0.019339431038234208,0.021497778673289447,0.02295871619675909,0.021430508008320536,0.02787202287073861,0.019588960143579408,0.030078999578995066,0.020849802307931,0.01819741225738036,0.020172374909822988,0.01759066197338443,0.030016610597050228,0.02011398247057364,0.020008141145227802,0.020026004886403763,0.01612438678550937,0.02372937837613981,0.019522923310583626,0.020274273337341685,0.018692017943993902,0.028543790735230813,0.01946015881455998,0.029476648174207656,0.021687198703596665,0.02517706561711554,0.0315746989771855,0.021218503488418514,0.030619873964600395,0.022025831935348066,0.018131938695502718,0.033274382987452694,0.01421830414408753,0.022431333495555414,0.017177194150220218,0.019381166745846487,0.026925164121110373,0.015815821502494068,0.020076484707564665,0.03386418149303539,0.026532510506883933,0.01823362254354783,0.017189264245609372,0.02711941218957323,0.019394980299458534,0.017578591877995264,0.01641696589774258,0.028965251643786064,0.02884613321351215,0.018770741788365415,0.024397471567146844,0.021304201165681526,0.029265823841410344,0.026251679620829485,0.022143582421477875,0.028948997248661994,0.02127348947852467,0.03535226331991353,0.026496300220716452,0.02201856305568039,0.023568738817727173,0.01627070316406017,0.022282281228716387,0.029815281405959036,0.02283831028964367,0.016029328078711182,0.029187153641907194,0.02301391676633881,0.021859479198451236,0.018305801713974994,0.018553694650834143,0.024964095489582387,0.02239367479794123,0.020730174251407326,0.025632403260063028,0.031012634868563628,0.021156865534631204,0.018613374566924988,0.02339822860352965,0.023688796033198026,0.020839743895106684,0.0237165572525931,0.033110283335028516,0.023605807421788992,0.02151816372328003,0.019403751235441316,0.019534376489986228,0.02854609746457186,0.026893111312243624,0.023024377515676105,0.021236045360384093,0.021731750766799764,0.01808883504374631,0.0222794648731256,0.018762185431856215,0.02903971072112007,0.02550108062222896,0.018227748430458435,0.01978701699769843,0.0224472660214691,0.030060760323740356,0.021277325086615027,0.026522344804322834,0.026286870654497446,0.018958337893147156,0.027125930041083397,0.02722970603899595,0.025025036060080545,0.02660490425678469,0.0334518670345417,0.016955479909138475,0.023057422754608193,0.023215648293942983,0.028194884511181517,0.024437088302457485,0.023530060867613493,0.027388199802672694,0.025900976293688906,0.019407050394847705,0.01452298017414412,0.013165335844771493,0.01569375260445837,0.022974165918857224,0.02859936681888934,0.01886995797246431,0.026260745603588445,0.020426705230889665,0.020448511869892758,0.028991135292787244,0.020103038917420796,0.016461947119892836,0.026540128078196185,0.02143686492522548,0.030365758223007303,0.019484138070733122,0.017645674785924784,0.02795780101530424,0.02281897131458683,0.020046470403696955,0.016656597524868692,0.021498932037959974,0.020704478359445506,0.026262247659903544,0.022911455067701966,0.03602349473572179,0.02497460988378806,0.03189434192552461,0.025402990980366413,0.02199072136898271,0.017236927711179455,0.02718402743355653,0.03118027508230196,0.02867382589622334,0.026173626337312926,0.020711344902600244,0.011067848312911834,0.011642250741264779,0.0162860455964215,0.025569209605092232,0.028321379110859926,0.017200422378235797,0.02032671119619902,0.018861589372994474,0.028388086504710665,0.01739641390492156,0.01781597042064872,0.01572068232839328,0.02724840127563205,0.0227701008394778,0.019843987847935257,0.02704178806500385,0.02399797823219988,0.026354865525189702,0.017954535115716264,0.01958002827299143,0.02210796222886275,0.023293460175551756,0.033138500535804964,0.025087451864459584,0.011392292476972408,0.025411118177928432,0.022955256102747526,0.023540011990700986,0.02705519928210292,0.025285696475617986,0.03326142775173496,0.02453906719727881,0.022427256485557295,0.030581947042644234,0.01368633480663599,0.0346854039608796,0.02024906024919543,0.016569344146422166,0.0228722674913385,0.025857872641932532,0.027668708819516767,0.03197615034982891,0.02299683087575463,0.01956194995234188,0.022669892225313598,0.02770043975917317,0.022942595913806013,0.0299266481527497,0.021150991421541802,0.025690098316023202,0.025895960498493874,0.027850833147722083,0.02091205717770485,0.023099346219259874,0.028149500952518284,0.03645560415065369,0.027271280812003057,0.02225620982267581,0.025845936658714347,0.023616134058955282,0.02008686498959933,0.017819510981962883,0.033674225014044226,0.02144480436574813,0.021695808704974257,0.01674578211857748,0.030478305156902648,0.02746453645040059,0.023004314334895908,0.017515961494142633,0.026998523478642282,0.020877027078642096,0.020616286195802053,0.033754343624994056,0.02147449680040546,0.02305111948257165,0.023844527086152385,0.024307240898504338,0.0156488518496107,0.03431428876131423,0.022006546605159615,0.01681307960598058,0.0300026092863988,0.014546691205975256,0.038232080790030126,0.012837512054001934,0.019025420801076658,0.017825626496960054,0.021645892154931533,0.022727694571010586,0.01733802146567222,0.02017224079765199,0.021973555011095894,0.015467719951470697,0.017979023998139172,0.017316724452918906,0.0267480287656659,0.020929759984275615,0.016129563515309593,0.02078524070881608,0.025117305233722118,0.022991064052402043,0.028672431129645064,0.026437880959032906,0.02641787142312112,0.021060277949083734,0.03221814235116446,0.016060978551064982,0.029059371565387297,0.021571138030821363,0.017725444705230034,0.018966116399064606,0.020874693526866845,0.019996419741483237,0.026856042708181788,0.017981277082611803,0.01418198656818326,0.03012701173620972,0.023268327554708118,0.024039767584680575,0.017012048422862327,0.028579223170806557,0.022798559442162032,0.029240610753264083,0.02688364299297167,0.021279363591614073,0.026005637431929997,0.015986519473730962,0.0189762016343231,0.028281279571733695,0.01988923729442751,0.023105139865046684,0.026998577123510652,0.02489095071152409,0.02876188394769582,0.023386534022219293,0.023641400791969927,0.021436167541936342,0.021428764550097634,0.028312956866521712,0.02518583655309835,0.03121393723722063,0.026826886722208426,0.03387622476599035,0.0238814079331748,0.017639317869019823,0.022739255040149963,0.02477247601967094,0.017444023725623238,0.017118935823141886,0.018048359990541323,0.01577725084211715,0.024680367780634545,0.017375251004339235,0.03139590063082073,0.01997834142083369,0.017651253852238008,0.026826538030563837,0.017180359197455603,0.018414995843595603,0.04037497870298724,0.02091516858007183,0.020209228934411197,0.019913457952508425,0.015585631372205692,0.0220513132478363,0.022407166482342904,0.03132353370335418,0.02426708771450973,0.018960751912225002,0.01444645576937685,0.025109070746423278,0.03438791634318811,0.023913541209344157,0.023787180721836762,0.02437333137636854,0.019726291006673856,0.026120464272732236,0.029590536229812888,0.02430101809377036,0.023038137424419756,0.024314912114685013,0.026252618406026426,0.02855253484877941,0.016501107873822102,0.02010499695511727,0.021837028821027428,0.023875399707914427,0.020338513067246197,0.03434301558834043,0.022956087598207647,0.03750631936549706,0.020290286330557947,0.02226109150569988,0.022888655998633562,0.03275912402650658,0.029402993769899563,0.026531383964647604,0.0178495252858306,0.0200456120858026,0.02137646080341129,0.02164712598690463,0.025046869521517814,0.0215416333532034,0.021340277339678016,0.028187454696908656,0.02733986577624766,0.029443468823104557,0.020952451763607237,0.025319841434352192,0.02162698233882182,0.024547248039709212,0.02829764125659457,0.020544911698400836,0.017221773035857507,0.02395291654274701,0.021984096227735766,0.021850654617600072,0.017062179552378626,0.022964509842545888,0.02595542583511111,0.029727625690999543,0.021919293226713085,0.025683070838263294,0.021018917755550214,0.019656016229074758,0.019967371045246644,0.019402115066955234,0.023637296959537625,0.024864772015746696,0.026542542097274024,0.0274899372955862,0.028666074212740103,0.0162488428801887,0.02091546362684801,0.022384367413274493,0.03194256866221283,0.02795004933182097,0.02509643737991595,0.021430534830754733,0.021985303237274677,0.019449805354959507,0.017928115018031106,0.018028994193050294,0.01709876535262489,0.02596709359398731,0.024878451457187735,0.030735022674612963,0.017991094093528323,0.024744258818894506,0.022051313247836282,0.022895656653959266,0.021177196939753385,0.023338709622044,0.01794919745131084,0.03178914433859956,0.011786287212908763,0.03477957752734924,0.01933234991560588,0.026052603514210952,0.035119337301336956,0.01357815992951494,0.02394736429886802,0.031285284912187655,0.026203989332825188,0.022148276347462557,0.019632171085072602,0.033699357634887885,0.027929852038869784,0.018195910201065268,0.01805675541244533,0.025529324645439607,0.024594777393108322,0.026411273104308373,0.026425488994433394,0.02547967631973888,0.019117931376626034,0.018918184709152526,0.035783702173990475,0.016773516515538336,0.021103757114918898,0.01747135578607114,0.01973801241041844,0.026536775273921447,0.01847607052626474,0.024564682621938,0.021522857649264697,0.023657789299264986,0.026787189519595182,0.025446282389162196,0.021625775329282934,0.021450302964758743,0.020963234382154874,0.01989645252922681,0.02115276170219888,0.013818059780983034,0.022688292415173512,0.021294759668843782,0.020533109827353638,0.026965210015368175,0.02623456690781108,0.01690655578916108,0.02206947203578841,0.018024997650354757,0.018125850002939717,0.013225954546059265,0.023559350965757817,0.019185926247318283,0.026615552763161333,0.016237121476444103,0.021340277339678013,0.026851080557855136,0.018216563475397823,0.02761994563414457,0.02674143044685317,0.02008053489512856,0.027235419217480163,0.020266146139779645,0.027406626814966847,0.015219987949216753,0.02866762991392359,0.02111274263037527,0.021024550466731816,0.02469318890418125,0.025062238776313334,0.030341027938676643,0.02462031235046494,0.02123757423913338,0.023191642215335657,0.03396540935969915,0.03389331065657457,0.027974135877730906,0.027461720094809815,0.022721176719500434,0.018256502079918843,0.02587165937311036,0.032943072280237365,0.015602153991671731,0.023374276169790747,0.026572931915220505,0.02301504330857517,0.013495627299487278,0.03148551438347669,0.03199884212916054,0.032703521120413845,0.025064465038351788,0.020817373984985447,0.018033661296600775,0.028074585893802895,0.017900005106991475,0.020851277541811902,0.021619311122641184,0.022170431678110197,0.018460486691995633,0.02100159046305821,0.018219567588028014,0.015654484560792298,0.02595451387234837,0.0331910725068333,0.024886229963105216,0.022843701598917496,0.020082841624469633,0.03270682027982023,0.027294938198965807,0.032585314652902694,0.03934840367892215,0.019821886162156004,0.02153079708978737,0.027780799772030743,0.030710319212716504,0.016929006166584933,0.02258757417475953,0.02183853087734251,0.023826475587937025,0.021780460307303566,0.017412239141098455,0.025816136934320236,0.02477676760914263,0.023045459948955856,0.025077634853543068,0.021985088657801105,0.01777981377934966,0.013175769771674577,0.02729389212403207,0.023248210729059512,0.020888668015084082,0.015942959840593206,0.030936056818927977,0.02461183646125832,0.02276360981040186,0.023954123552285926,0.02278501411289198,0.02832878210269861,0.027893775864873308,0.02085897558042675,0.02274899158376387,0.016806669044207263,0.021610727943697776,0.023605753776920608,0.021454487264493647,0.022505068367166082,0.020962188307221158,0.022081408019006585,0.02144437520680096,0.02215530382522244,0.025149358042588867,0.013519096929410631,0.024867534726469118,0.013411243921499961,0.02313091622431107,0.02215484784384108,0.018398285467090172,0.026855908596010804,0.026836971957466926,0.020948052884398747,0.024122246569839814,0.022552356318657377,0.02114895291654274,0.013639020032710496,0.0154216926543867,0.02008954723301914,0.019594887901537215,0.026826538030563854,0.031093638619842014,0.02463809562433828,0.02552020501781222,0.02242165059680989,0.016850470079252767,0.024943925019065397,0.0154044994740657,0.01200285154662447,0.022717072887068118,0.03382770298252592,0.027013088060411847,0.020951405688673513,0.019480141528037585,0.02453826252425284,0.02062242853323345,0.025217943006833488,0.019942399359008198,0.022840375617076927,0.015891299832327586,0.02334195513658199,0.02305983677368604,0.017506788221646873,0.023397021593990742,0.024048672632834354,0.018636012701388194,0.03080846249944745,0.020258501746033178,0.018957425930384426,0.024116452924053032,0.011350932283438912,0.028303917706196932,0.017969421566696245,0.02275521438849787,0.017212197426848777,0.02830831658540542,0.02432561426593006,0.021585300276077947,0.020829014921427413,0.026462450308758392,0.01785311949201313,0.018869984794898494,0.019756841759225506,0.0293165182420448,0.018154845054307932,0.01582738197163347,0.015276851509716822,0.023179840344288473,0.03435261801978338,0.021874446116733823,0.024080725441701104,0.0202507500625499,0.020893013249424167,0.016264882695839165,0.019515091159797757,0.02604442267178053,0.01740049091491966,0.01405962262337139,0.024599203094751013,0.02699090590732999,0.018538191283867612,0.02883025433246686,0.028839910408778188,0.0217149331005575,0.019176243348572777,0.031246016868521586,0.013849388384126426,0.014273585180969894,0.03068349677851836,0.028572893076335787,0.020946094846702297,0.020998586350428016,0.02356337433088755,0.014258913309463524,0.024958811470045368,0.019954898613344534,0.02136591958677145,0.018633759616915564,0.015634287267841107,0.02161756766441832,0.025094103828140736,0.026988438243383768,0.02216219719081138,0.012796285972639402,0.016693746596233103,0.0236676063101815,0.025131521123847117,0.016512775632698297,0.039528328567523224,0.022432540505094307,0.024994404840226275,0.03176031022183656,0.018933983122895244,0.02007731620302481,0.01675779856909823,0.028009326911398832,0.02429535856015457,0.021890754156726262,0.021586721865090447,0.018591514283053494,0.022278901602007434,0.024070050112890255,0.021117597490965145,0.026878868599684393,0.023301372793640203,0.026848773828514097,0.023832537458065798,0.02396096327300646,0.02414955180785351,0.02654648499510115,0.02726285856766484,0.02536678069419894,0.010831569490060453,0.025124869160165986,0.018279247504118856,0.026785553351109083,0.024526755699981837,0.018956379855450685,0.029569131927322807,0.024634367305984728,0.015829071784987946,0.014414107913733895,0.02011899826576869,0.021334644628496408,0.026150183529823748,0.020379470924266757,0.024675056938663304,0.02013911509141728,0.022967111618663088,0.024935529597161367,0.02802024364211749,0.02261866137599517,0.02177759030684436,0.009496804697058837,0.023795388386701397,0.016573501623722883,0.017576848419772383,0.03146553166999909,0.023811374557483493,0.020235649032096376,0.019516405459073488,0.01534098394988455,0.027772377527692536,0.019060585012310418,0.012596727062205293,0.028143653661863086,0.01940241011373143,0.018024353911934014,0.01941638460194864,0.014099105246511057,0.02540299098036643,0.022697599799840276,0.025313404050144626,0.013622363301073439,0.029056099228415136,0.02246416415501394,0.027487415986771603,0.02947249069690694,0.019410725068332815,0.02671999932192888,0.016283765689514666,0.0248230363081344,0.019058895198955945,0.023890312981328578,0.042063692337667394,0.016135866787346166,0.019546097893730813,0.02470590273799117,0.017925835111124278,0.022520088930317032,0.033515007044644135,0.027434468501664505,0.02041922177174839,0.023165088005479527,0.028407425479767535,0.023441090853378282,0.027280051747985867,0.026378254687810486,0.013458370938386066,0.015426842561752755,0.020056850685731622,0.024633348053485216,0.018246041330581574,0.023831571850434687,0.02334015803349072,0.030146243421529783,0.02523409011222078,0.02369952500687726,0.013049141059825183,0.021447567076470542,0.02142318548378444,0.02028309791819287,0.021076022717958026,0.024215052192165364,0.03435339587037513,0.013559276935839448,0.014743889742199947,0.024449721668964815,0.02321495091065384,0.02541162780417821,0.024351927073878423,0.04484099446427875,0.02710460620589589,0.018500452118950825,0.01654496255373605,0.027807058935110728,0.020173850143703872,0.03639997442212674,0.01873721374561775,0.026146374744167637,0.03383438176864128,0.02405022833401784,0.020294953434108434,0.026030904164944677,0.01685089923819995,0.03024422577365557,0.024224493689003115,0.01677995389974589,0.013389383637628488,0.033496580032350017,0.01246875722864601,0.018615386249489815,0.015726905133127238,0.02911703979891328,0.020727626120158507,0.02103267766429386,0.036580194357503995,0.02558256717732289,0.0238081022205113,0.02477352209460466,0.02084124595142179,0.020986838124249257,0.02330011213923289,0.016481768898765244,0.024449319332451848,0.015611246796864918,0.032049804754136976,0.018021296154435415,0.013255834737756001,0.022449706862981145,0.02165224907183649,0.0164381556207591,0.026109708476618795,0.02610866240168505,0.02298948152878432,0.02424227696287646,0.013690331349331517,0.02523623590695663,0.034464601682560575,0.021066500753817705,0.013054961528046173,0.023914587284277894,0.025667916162941333,0.02378355969322002,0.025522323990113907,0.03172318797290635,0.02064917050012896,0.019672780250448565,0.027063782461046293,0.026557294436083012,0.015387574518086687,0.024453315875147354,0.030385928693524293,0.03022207044300789,0.018823126002354373,0.01639054580005743,0.018819397684000837,0.027213961270121663,0.02227302748891805,0.024944541935051932,0.02702226133290761,0.0272661845495054,0.02304280452797022,0.022084170729728993,0.015168971679371902,0.019958305062487677,0.0238871479340932,0.01789335314331033,0.026387293848135242,0.014138936561295265,0.026412694693320866,0.012693314647752784,0.014912629675740351,0.021882144155348657,0.021859693777924842,0.024796133406633697,0.025759085616780808,0.018200174968102778,0.030360661960509655,0.020503015056183335,0.01964067379671343,0.018952356490320982,0.022825676923136334,0.023926308688022487,0.027845039501935294,0.024928180250191077,0.027859523616402277,0.027501631876896603,0.018726243370030718,0.020870831096342315,0.02476697742066032,0.016811845774007482,0.025787195527820432,0.0251390045829884,0.024281893698187104,0.01778716312631995,0.02250171556289131,0.021071918885525717,0.03396299534062131,0.02492992370841397,0.019700568292277842,0.021679983468797348,0.025342211344473453,0.018715460751483077,0.020385345037356145,0.030764956511178117,0.024045641697769966,0.026408161701941386,0.025719254301996584,0.017136155825897066,0.025817129364385582,0.018394074344921046,0.024184179570403308,0.01839954612149746,0.01139172920585424,0.023558170778653117,0.02253223949300879,0.025010498300745143,0.018807327588611686,0.018796866839274402,0.011374992006914598,0.0240178804783749,0.03273900720085797,0.025138924115685794,0.020112936395639894,0.0131595421989847,0.0175949803852903,0.02146215848067434,0.0312386138766829,0.023430174122659624,0.030664694252145498,0.03048908777545032,0.026540905928787932,0.02373029033890251,0.02027781389865582,0.02472701199370509,0.02560193297481396,0.023321543264157203,0.03040634056594908,0.028571391020020688,0.023400857202081068,0.022027092589755375,0.016762385205346116,0.015225298791187985,0.022529423137417973,0.008705650177950755,0.014502219610074763,0.022592402212915186,0.014622035423637821,0.03743918281269917,0.027660420687349543,0.015813836642363396,0.019078958379736152,0.020049715918234907,0.031157690592707128,0.024435022975024222,0.03181009265970827,0.02916467644204917,0.027755318459542547,0.019464369936729085,0.01979018204493379,0.02257333146220032,0.020905834372970875,0.01974208942041656,0.020127769201751473,0.014033792619238592,0.024422604187990506,0.027956325781423354,0.03017813529579137,0.018409068085637813,0.022927870397431237,0.0192030926052051,0.019839803548200353,0.026408108057072985,0.025316783676853624,0.01908174791289274,0.016408919167483153,0.022057696987175454,0.04230750826452842,0.01542252414984688,0.02384066465562784,0.026716673340088308,0.025266867126810883,0.018642235506122172,0.026861648596929192,0.015700699614915666,0.026720777172520596,0.021375548840648562,0.03382491344936935,0.01936150590157925,0.031355452400049943,0.02089765353054046,0.02531976096704961,0.023791713713216252,0.017338048288106433,0.03572812609033195,0.025805676184982966,0.024088906284131552,0.03409504218417872,0.02501884007778077,0.023790721283150924,0.021918890890200122,0.032750460380260575,0.01827699441964622,0.026525027047742653,0.02073862331817973,0.02337250588913365,0.0314136570822599,0.033507362650897654,0.025178487206128048,0.031092190208395286,0.01598179872531208,0.013674559758023017,0.0328605128277755,0.017617913566529718,0.02308735659117333,0.019812283730713056,0.02399465225035932,0.020480591501193704,0.014600416541674136,0.027528159264318577,0.032872475633427906,0.015261026273539917,0.02251979388354085,0.02479514097656835,0.02285695188141136,0.033532924430688484,0.025143591219236275,0.027229974263337946,0.029352674883343876,0.02015593275765954,0.016478603851529883,0.022334504508100164,0.02949040808295127,0.021623441777507697,0.017823829393868777,0.023669698460048967,0.020518142909071092,0.020324404466857987,0.020591207219826782,0.0231680652956755,0.022644303623088585,0.022635720444145184,0.019710546237799546,0.028626967103679228,0.025390625838201054,0.03545265969111713,0.02411851825148629,0.023946505980973667,0.02447576625257121,0.024556555424375952,0.018095031026046086,0.02296703115136049,0.017287139307998377,0.020008141145227816,0.02681028363543979,0.026804355877482006,0.023438891413774022,0.023339621584806732,0.02163266869487185,0.01707811207829231,0.014853969012149068,0.025500785575452788,0.028365850706760405,0.02587747984133134,0.029602123521386497,0.02094928671637187,0.02999668152844101,0.020837142118989488,0.031725387412510575,0.020628919562309358,0.026530472001884867,0.03178222415057643,0.022852874871413256,0.014684317115845868,0.017911994735078044,0.015017880907533856,0.026791373819330094,0.02152637138814467,0.021718956465687247,0.024344041278224163,0.015178976447327823,0.021272309291419954,0.023559082741415875,0.02041935588391937,0.025980933970033544,0.02311871201675093,0.017402717176958113,0.01590476469429506,0.014329697713312384,0.019124610162741373,0.023219618014204302,0.016469189177126344,0.02165715757729475,0.012758895499367201,0.017230436682103514,0.027125769106478185,0.025886465356787743,0.02713523742575013,0.0240178268335065,0.026000272945090414,0.020315070259757026,0.01571877793556521,0.027567480952853024,0.02320398053506678,0.020939657462494734,0.022417868633587978,0.03322650494240901,0.022873259921403818,0.016297767000166087,0.022386754609918125,0.02339852365030585,0.02504303391342749,0.020010421052134665,0.017223811540856584,0.024584879914889186,0.02126742760839591,0.03384275036811108,0.025410340327336696,0.014710308054583881,0.025537585955172616,0.017171910130683195,0.025220759362424294,0.034533428048712976,0.01918882307021169,0.02116214955416823,0.019504362186118507,0.022915853946910456,0.015019141561941157,0.02189719154093383,0.02283069271833139,0.029216604674656747,0.027618175353487505,0.02195684463459046,0.02509705429590251,0.02863796430170047,0.02112494683793543,0.023627077612108124,0.02053450459393197,0.019594861079102993,0.02211831568846323,0.026114536514774456,0.021826407137084967,0.01935705337750237,0.03742421589441661,0.028488724277822043,0.031691001051868575,0.03033467102177167,0.027595000770340286,0.021174219649557374,0.023209425489209026,0.021866774900553165,0.028192658249143084,0.01618516642140233,0.02666377949984957,0.025941451346893907,0.02103238261751768,0.028739084878627405,0.026502925361963407,0.023048571351322815,0.03280281777181534,0.023085371731042664,0.03063588695781669,0.029944002267675872,0.020676851252221434,0.024795704247686498,0.030224833153730327,0.018710444956288014,0.015228839352502143,0.016651206215594863,0.02423085060590805,0.025852293575619308,0.025095579062021617,0.027201220613877544,0.017030475435156435,0.02194024154782183,0.017248380890582067,0.021542116157018974,0.020006451331873336,0.020679962654588414,0.021617862711194494,0.02209629446998655,0.026036295474218502,0.018517886701179615,0.030525539463525576,0.019105217542816112,0.023290107371276986,0.020291278760623293,0.025013556058243742,0.02617233886047142,0.021725688896670974,0.03183777341180075,0.025616041575202177,0.01831854237021911,0.019054308562708053,0.019009729677070764,0.024839478460297864,0.02159136214620673,0.035134035995277535,0.025953467797414646,0.022243254586958125,0.022661496803409592,0.02768418536404909,0.016060173878039045,0.025670035135243,0.022599510157977697,0.02351007815413587,0.02380169165873795,0.02587337600889903,0.026146347921733436,0.023441949171272625,0.02774662799086234,0.0234308446835146,0.023272619144179815,0.03620274906346788,0.017626764969815096,0.01630369475812385,0.01853821810630182,0.013572849087543703,0.02098965447984003,0.03321349606182292,0.03003066555257003,0.021437106327133276,0.032046264192822846,0.02370818865312327,0.02727028838193772,0.01569627391327299,0.02470305955996617,0.03322958952234181,0.022042649601590303,0.02035758381796107,0.022820017389520546,0.02644029497811074,0.02538823864155744,0.018188721788700155,0.02097283681359781,0.03499337915034255,0.019224738309603,0.031572767761923214,0.02122681844301994,0.012484314240480918,0.02164787701506219,0.022048014088429917,0.0383040990258521,0.01834456013139131,0.023400213463660315,0.030322225412303727,0.02610230548478009,0.021022780186074744,0.029553816317395672,0.017584197766742672,0.012305220847340023,0.014566834854058061,0.029327381327895034,0.02645038021336924,0.02133145275882683,0.024093224696037453,0.01802497082792057,0.03634115282393026,0.02164390729480087,0.03379481867819905,0.021920553881120394,0.01847116202080649,0.021490456148753362,0.01575520280120628,0.020239028658805322,0.020796962112560664,0.02121643816098526,0.025436840892324467,0.02061019750323908,0.022429214523253763,0.03181384780049603,0.023317546721461684,0.027323584558689426,0.02336647084143907,0.022991064052402026,0.025822976655040755,0.018886105077851566,0.0325476023104201,0.016652225468094375,0.022928621425588793,0.014424059036821413,0.02395736906682392,0.026779866995059076,0.01639993365202676,0.02109206253360852,0.014707974502808635,0.019632519776717195,0.01929380607766319,0.024071042542955577,0.019717412780954267,0.017858779025628962,0.022420121718060588,0.026494824986835565,0.02497611194010314,0.030146297066398202,0.019850452054577,0.029072192688934,0.021747871049752846,0.022297328614301566,0.031413227923312734,0.021849018449113987,0.01840255023412766,0.03091945373215934,0.027213719868213884,0.0200614641444137,0.019170181478443994,0.025589487365346025,0.02535803658065034,0.018954046303675455,0.017542435236696186,0.02006124956494014,0.019598133416075185,0.014192930121336121,0.029133562418379326,0.02734061680440521,0.016140480246028224,0.029708742697324073,0.02924640439905087,0.019136331566485955,0.03342249646909476,0.025796422445184597,0.029821423743390398,0.024879309775082084,0.02641607432002983,0.02733321381256654,0.03055611703851146,0.023524615913471252,0.027425912145155287,0.023805983248209657,0.03783942717580368,0.022791505141967934,0.025799963006498748,0.013315380541675852,0.02040473765728138,0.02200654660515961,0.021080314307429723,0.018913571250470468,0.0177313188183194,0.028659288136887954,0.0230475252763891,0.021849018449114,0.031864515378696306,0.0305553660103539,0.02755364057680678,0.02605238893473739,0.018529608104924215,0.022658707270252952,0.03357439191395878,0.017323081369823856,0.02014351397062579,0.022289040482134335,0.016526884233086535,0.02074371958067736,0.02563615840085076,0.018814945159923938,0.01863990195434692,0.025759675710333156,0.01552072108144621,0.016442447210230797,0.01743128306937911,0.025744521035011222,0.017793064061843528,0.028863433683569948,0.024744875734881065,0.017502201585398967,0.025281351241277887,0.0335224636813512,0.028831300407400576,0.03256342754659702,0.029591528659878227,0.028529172508592823,0.03157823953849964,0.020717245838123812,0.014783640589681556,0.024084131890844275,0.018908206763630822,0.025372306115643742,0.01972811493219932,0.014980597723998441,0.02211761830517406,0.01517106382923938,0.0161513969767469,0.016744923800683147,0.02109439608538375,0.016473024785216686,0.025006877272128393,0.023752740716326375,0.027038140213952913,0.018764974965012816,0.023630403593948683,0.020889740912452007,0.018001179328786816,0.02892378416051574,0.022935890305256456,0.021888796119029816,0.017917627446259646,0.022421167792994336,0.019987970674710843,0.02683909092976855,0.022250416176889023,0.026343841504734268,0.031630275060844,0.023553771899444628,0.017017761601346527,0.01855168296826926,0.025506874268015782,0.018937362749604197,0.02905384614394249,0.01558032053023446,0.019741687083903583,0.019624580336194533,0.021485118484347924,0.02256413136727038,0.02421454256591559,0.019706630162406605,0.025917284333681366,0.02725250510806437,0.03360515724598404,0.02376210174586152,0.017983342410045074,0.019271570279712925,0.028715320201927887,0.022979771807604618,0.02343320505772404,0.018947903966244073,0.018453834728314498,0.021514542694663276,0.014263285366237813,0.018438224071611168,0.026980740204768906,0.022803226545712513,0.024070345159666454,0.02293489787519113,0.018502651558555086,0.02161703121573435,0.020671352653210802,0.023710253980556505,0.01917884512469001,0.018251486284723797,0.019243111677028715,0.022947611709001055,0.015421236673005346,0.01375934547252331,0.013371010270202778,0.01771578862891871,0.023675009302020183,0.025897167508032767,0.019549209296097797,0.0229180802089489,0.021446923338049782,0.022596425578044914,0.022129044662142477,0.02756053394239573,0.029946469931622113,0.017604234125088675,0.02422462780117409,0.023664119393735736,0.017039916931994206,0.030100403881485178,0.017618637772253073,0.019137350818985488,0.025801170016037676,0.027471805330068277,0.01265742623079567,0.020783470428159,0.02722975968386434,0.013391127095851357,0.03423038818714249,0.03173582133941366,0.020425417754048165,0.02076815481823186,0.02805519327387767,0.023410996082207966,0.023402895707080117,0.025969212566288966,0.023161547444165362,0.03105968141814717,0.02487896108343751,0.0290494204422998,0.017377638200982856,0.023364351869137413,0.016571811810368403,0.021285210882269257,0.020982841581553738,0.02732460381118896,0.01924509653715937,0.021774881240990338,0.024813755745901857,0.02783248660273057,0.013609810401868722,0.02572448467666521,0.020432767101018434,0.024529706167743637,0.028799676757480994,0.022718762700422588,0.02156220616023334,0.026364548423935243,0.01808937149243029,0.03258585110158665,0.025780865433349696,0.018236438899138632,0.02065236236979853,0.02607695828446286,0.022784584953944812,0.02100392401483345,0.028454311094745853,0.016842530638730147,0.028876898545537412,0.012604371455951764,0.023792089227295032,0.015702684475046337,0.0311785048016449,0.02534199676499986,0.027186709676976357,0.025704448318319213,0.02134035780698062,0.019005599022204254,0.015401870875514314,0.026809452139979616,0.016452478800620913,0.02688999990987663,0.018399063317681916,0.019649096041051653,0.026029911734879334,0.02375606669816694,0.027294723619492235,0.023051199949874247,0.02296421479576971,0.019995480956286296,0.020049420871458737,0.04066785286199665,0.02081152669433025,0.031518988781355964,0.022230299351240407,0.01938006702604437,0.01891660218553485,0.0275980585278389,0.02005516087237715,0.020702761723656836,0.031769805363542694,0.018696443645636586,0.016895799993047633,0.01251062704842928,0.02700855506903236,0.02494314716847363,0.022314387682451566,0.019333583747579007,0.030969209347596862,0.03052087235997508,0.02531656909738001,0.030464652537895803,0.027647545918934445,0.030923557564591645,0.018724768136149823,0.0157763388793544,0.029635812498739346,0.017877849776343813,0.026067329030585732,0.022403867322936533,0.026779947462361692,0.022761356725929237,0.019396053196826454,0.021744518245478045,0.01927162392458133,0.016965162807884005,0.03125773827226617,0.017514003456446155,0.025631679054339683,0.017725525172532643,0.02581712936438557,0.017060060580076985,0.025593859422120308,0.026433589369561212,0.019980621327740537,0.02666959996807057,0.012693582872094747,0.019802976346046317,0.019156770261344918,0.02013686200694465,0.025963901724317714,0.023547012646026697,0.022567886508058105,0.015593114831346965,0.021388021272550687,0.024822902195963434,0.01180667226289934,0.021215955357169684,0.027954072696950716,0.02091374699105933,0.03662243969136605,0.02252073266873779,0.013675552188088339,0.037966324111995034,0.016465192634430838,0.015784573366653235,0.022806257480776918,0.016884615037987,0.023967132432872018,0.016053119577844954,0.025217165156241755,0.018448497063909084,0.02834981089110994,0.015104275968086018,0.02393301429657199,0.016643830046190376,0.025884131805012478,0.018756552720674606,0.024298228560613783,0.017441958398189975,0.025955667237018903,0.02426834836891704,0.024561866266347182,0.029606790624936957,0.02110021655360473,0.02479921798656648,0.017397406334986886,0.022035300254620013,0.021415487445169575,0.024744929379749453,0.023456889267120966,0.0261608320362004,0.0325046059484005,0.027691266486677406,0.033922171595771745,0.025396365839119465,0.017701036290109738,0.016506472360661745,0.013352341856000866,0.016215502594480433,0.030934071958797323,0.028056024769337787,0.018861589372994474,0.019846670091355063,0.01624988895512241,0.024768667234014777,0.016560653677741972,0.023708188653123283,0.024100949557086512,0.025991877523186394,0.018356764338951476,0.02999391881771861,0.015765556260806758,0.017596670198644797,0.026075483050581962,0.030317665598490043,0.0237708190369759,0.022834716083461104,0.024930272400058535,0.030153941460144666,0.026086319313998005,0.028735410205142246,0.017765141907843257,0.020374723353413685,0.019737771008510666,0.01940117628175829,0.024962030162149124,0.02815508001883149,0.024533810000175967,0.021545710363201524,0.02314800211489529,0.029253056362732004,0.018710284021682837,0.01667059883552012,0.02207505110210164,0.020048455263827585,0.024323173424418015,0.023318539151527012,0.02086723689015977,0.0238442588618104,0.017063788898430528,0.02224451524136542,0.029755681957170786,0.010433524566560201,0.01648396833836952,0.018663264294533508,0.028066190471898886,0.023961499721690406,0.023615195273758337,0.023396190098530598,0.024886927346394354,0.021691517115502545,0.018458635944035955,0.015955888253876695,0.02054590412846615,0.031709401241728497,0.009770152123971998,0.031596505616188555,0.026064324917955538,0.01997938749576743,0.016972136640775494,0.02373165828304663,0.022561529591153144,0.02416642311896415,0.01984862812905152,0.01560604324463045,0.02768802097213944,0.012683685393875644,0.024421987272003953,0.025423080983580808,0.017993829981816534,0.01729644669266512,0.01868622429820712,0.01419620245830828,0.018169731505287876,0.027465528880465915,0.02294466124123929,0.024132787786479697,0.02546894734605962,0.02838293659734461,0.013758996780878736,0.02188726724028052,0.019790396624407385,0.020093356018675287,0.019812954291568013,0.02151725176051729,0.02805218916124745,0.031148919656724356,0.01408845674013439,0.027338605121840373,0.01794061427236744,0.02491948978151089,0.021617084860602737,0.018623325690012474,0.02844084623277838,0.01567218736736304,0.024426654375554434,0.014492322131855641,0.016951027385061584,0.024747987137248045,0.021443463244038233,0.022891284597184973,0.024743239566394962,0.028471718854540418,0.02066923368090918,0.019564578550893316,0.027087627605048438,0.02750879346682751,0.01615697604306009,0.021003628968057266,0.02014351397062579,0.023886826064882814,0.022528698931694627,0.017946595675193633,0.02427143294884982,0.012935413938825115,0.030132590802522945,0.037099530328448205,0.025977742100363972,0.008280836465120765,0.023252260916623434,0.015529894353941986,0.022781554018880407,0.013986665602352486,0.027033741334744406,0.02058034413397655,0.016253912320252153,0.018557530258924475,0.023910563919148177,0.02295206423307794,0.022561529591153137,0.016817076148676113,0.017287943981024314,0.017243070048610816,0.018595269423841224,0.026566682288052333,0.018804913569533822,0.013126121445973828,0.029770648875453352,0.019144458764047977,0.022369051803347355,0.018604308584166014,0.029984235918973062,0.01487312023016654,0.0311076935753618,0.02177233310974152,0.03459694357289416,0.028881216957443327,0.024602287674683775,0.028222672553010787,0.023972496919711657,0.021446574646405224,0.03754480955857141,0.03268082934108225,0.03175607227723324,0.028028773176192512,0.025013475590941147,0.011687419720454445,0.020377217839794112,0.026589830048765337,0.02850460315886734,0.01910240118722532,0.01620852876158891,0.03328623850336826,0.027352338208149814,0.018137008135566155,0.020465410003437566,0.035792499932407455,0.024017880478374904,0.026205813258350672,0.021871924807919173,0.028712477023902866,0.030220005115574662,0.01725267248005377,0.028992851928575945,0.02929307543455563,0.017031816556866346,0.021213916852170618,0.01617033361529075,0.020244151743737192,0.024246729486953347,0.03451296253141979,0.021513362507558573,0.020033622457716047,0.014951146691248883,0.021991740621482257,0.03303485865006337,0.029688679516543852,0.03003211396401674,0.025490110246641932,0.022463332659553796,0.02415797405219174,0.02605182566361921,0.025446282389162203,0.020013800678843646,0.031699745165417174,0.021076290942300013,0.01851874501907396,0.028831514986874168,0.02235778638098413,0.023210927545524108,0.024528740560112505,0.01267783810322045,0.020935660919799218,0.0368027132716117,0.021775927315924086,0.025769465898815472,0.023657789299264986,0.01972339418378047,0.02556802941798752,0.0226625697007775,0.014278332751822963,0.01601028415043052,0.026921435802756837,0.020244688192421142,0.019754856899094862,0.018087306164997027,0.023029742002515736,0.016279474100042955,0.03395776496595268,0.02713982406199803,0.02262930988237182,0.022730484104167163,0.02277978373822335,0.02628177439199979,0.02116142534844486,0.023690003042736926,0.019787982605329553,0.023688018182606276,0.01780548284887725,0.022156886348840138,0.023177640904684216,0.02072510481134387,0.02116080843245832,0.020165964348049622,0.016217460632176883,0.01915408801792512,0.012197636063771299,0.0317092939519917,0.023756013053298528,0.030748138844935873,0.026215013353280643,0.028597301491456083,0.028541564473192373,0.01923192672196809,0.015193728786136784,0.02544982295047634,0.01386620605036868,0.016634415371786834,0.014778007878499956,0.019313225520022625,0.023980382715365907,0.014140358150307779,0.0224201217180606,0.019832615135835237,0.025043328960203656,0.026149191099758454,0.016216065865598574,0.019486471622508363,0.018812853010056495,0.017501745604017602,0.018323504520545764,0.02160944046685626,0.018557530258924475,0.025962131443660656,0.021947108090976535,0.021182910118237575,0.03416459275605448,0.016517496381117186,0.028610846820726135,0.02052168347038524,0.03506217869406074,0.02031300493232378,0.02246679275356536,0.02321755268677106,0.028143170858047524,0.02577855870400865,0.02703730871849277,0.022725200084630144,0.012086296139414855,0.024553470844443183,0.017608391602389396,0.020609473297515724,0.023279753911676547,0.02197159697339946,0.022344911612569053,0.01684234288169075,0.021916315936517092,0.024265102854379078,0.020630207039150875,0.024339427819542115,0.018434200706481448,0.014054606828176344,0.018901071996134146,0.018701754487607806,0.029081312316561386,0.023268327554708132,0.029221969161496386,0.02765921367781065,0.0217595119861948,0.026195379331447624,0.01761260272455848,0.029337117871508934,0.0335066116227401,0.02577989982571855,0.0177330890989765,0.02125932723326805,0.025145361499893364,0.02790187624000113,0.02414837162074882,0.022761705417573802,0.017647150019805682,0.026464515636191666,0.02001363974423843,0.024573426735486573,0.026823212048723274,0.02422878527847481,0.022316613944489992,0.02684877382851409,0.023255479608727193,0.016294709242667495,0.019714408668324062,0.025377456023009802,0.026730781940476497,0.023815102875837033,0.035906414810446936,0.028715293379493665,0.01757097430668298,0.019754159515805697,0.02294254226893759,0.023122198933196683,0.030101396311550524,0.026987445813318453,0.01899154406668442,0.01993676664782658,0.013716080886161738,0.017291994168588225,0.02616429213021198,0.028543763912796616,0.014655697578556491,0.028701587115618418,0.03310596492312263,0.014985077070509525,0.018079956818026738,0.022480391727703806,0.027661252182809706,0.020151372943845836,0.027362852602355478,0.02346193188475023,0.025716008787458618,0.019840259529581718,0.02293216198690294,0.03273208701283486,0.025021227274424407,0.020670574802619072,0.0330271606114485,0.025121409066154402,0.024739511248041416,0.025439093976797104,0.02456701617371325,0.025548046704509903,0.013481304119625483,0.030418544773509214,0.018522366047690704,0.03139058978884952,0.016284302138198613,0.022492247243619364,0.020863267169898447,0.021163141984233552,0.016385422715125594,0.021588572613050118,0.02167598692610183,0.024481854945134187,0.022401614238463905,0.021564137375495625,0.018899864986595218,0.016922863829153523,0.021026803551204464,0.026962661884119353,0.03191987688288124,0.025332608913030512,0.02844690810290717,0.03154621355206705,0.03480996734529571,0.030651712193993572,0.018617371109620497,0.01919496540764306,0.029284814124822603,0.02766275423912479,0.019274654859645697,0.02209009848768681,0.022912876656714494,0.023882480830542743,0.021991418752271855,0.02674349577428644,0.015379259563485258,0.018545299228930112,0.03113416731791539,0.020948052884398764,0.019807804384201967,0.015470697241666704,0.016587610224111086,0.025243075627677126,0.0266879196906279,0.024937916793805026,0.01330623409161427,0.0286272353280212,0.02960325006362281,0.017195111536264594,0.02826298667161058,0.0231637468837696,0.01940002291708776,0.027863332402058422,0.029928954882090728,0.024518306633209433,0.023277983631019433,0.02030737222114218,0.021383676038210616,0.019869817852068053,0.01925097065024877,0.02205316399579598,0.027035806662177683,0.017751113774757653,0.02595263630195453,0.01640529813886639,0.01899540649720898,0.025878740495738645,0.022879965529953354,0.021162230021470836,0.03362535453893523,0.01884855366997419,0.028064634770715392,0.02164822570670678,0.02160847485922516,0.01297484291709638,0.02147868110014036,0.017240709674401403,0.027320741380664412,0.010257140239273271,0.027005068152586624,0.025573528016998113,0.02528298740976398,0.03085660876883311,0.015122032419525193,0.017190256675674698,0.019576434066808878,0.016678967434989932,0.026475834703423275,0.015337148341794213,0.020418068407077855,0.01984793074576239,0.032022740918031076,0.019948836743215754,0.01487086714569389,0.03521713189642333,0.03286794264204839,0.019033360241599323,0.021027366822322605,0.020696968077870033,0.028898302848027524,0.02498646539970362,0.022717850737659844,0.023657789299264997,0.034619018436239206,0.024339803333620857,0.020375152512360866,0.01819084076100181,0.021860820320161158,0.017432570546220633,0.023633514996315694,0.024485234571843144,0.017132642087017123,0.016389982528939265,0.03150705279813781,0.012554401261040652,0.02692342066288751,0.02443427194686669,0.015280097024254763,0.03082675539957059,0.03421762070846418,0.030109389396941556,0.027695343496675524,0.024932766886438973,0.023933014296572012,0.03178206321597124,0.023009598354432927,0.025551345863916282,0.023579440968972243,0.022219516732692797,0.019301289536804454,0.01362456274067769,0.027096023026952475,0.021387028842485376,0.025064572328088584,0.010464343543453845,0.021844995083984256,0.025318822181852683,0.015351149652445637,0.02398901953917771,0.021258200691031737,0.025730975705741156,0.036279005243893186,0.021214319188683578,0.023773930439342894,0.02499923287838192,0.016533026570517903,0.014956082019141344,0.018091973268547487,0.02221868523723263,0.02315714856495685,0.025465755476390038,0.032989957895215694,0.020459804114690155,0.02971389260469011,0.01606154182218314,0.020419302239050988,0.026152731661072563,0.012686689506505826,0.023512733575121472,0.0223770448887384,0.020903822690406037,0.03568322533548427,0.017537929067750896,0.01680905624085088,0.02475466592336335,0.023863919706077638,0.023664655842419707,0.022819024959455196,0.021827801903663256,0.022402445733924012,0.02086018258996568,0.022988703678192578,0.02282071477280969,0.03601255118256895,0.018209670109808895,0.026166330635211038,0.019106478197223407,0.026202701855983696,0.037199658475309844,0.021178967220410454,0.016825310635974942,0.020006880490820507,0.023753572211786506,0.02085790268305881,0.029774538128412083,0.030434933280804276,0.020047060497249296,0.018066921115006438,0.023719775944696868,0.010669991146450914,0.03201026848612894,0.02558079689666582,0.014536740082887741,0.027741048924549143,0.027535857302933415,0.02297974498517042,0.030299989614353488,0.024127396477205854,0.016297418308521515,0.02486863444627123,0.019011955939109194,0.018104928504265202,0.030746100339936803,0.02457162963239532,0.025337624708225565,0.026874201496133916,0.03416204462480564,0.02915730027264469,0.03216956692283163,0.012879140471877434,0.028365904351628814,0.02507165345071689,0.018205861324152764,0.028076141594986392,0.011934695741327018,0.0239373863533463,0.014574881584317507,0.014007613923461207,0.018971910044851402,0.02363858443637913,0.021722657961606585,0.01933943103823421,0.017764229945080527,0.020914471196782688,0.023516166846698838,0.023561899097006678,0.025532623804845965,0.025148902061207505,0.03033467102177167,0.036937710582930904,0.01326750249663218,0.012834615231108532,0.029739588496651915,0.028338599113615116,0.024577745147392513,0.02636315365735692,0.02525393871352738,0.02940133077897927,0.020057655358757552,0.021868384246605015,0.036184322051173765,0.01800485400227196,0.018361297330330942,0.020810882955909497,0.014980302677222262,0.037312339521376206,0.019709687919905204,0.02488454014975073,0.022865400948183772,0.025692431867798446,0.023231312595514676,0.023126383232931605,0.02615680867107071,0.022803923929001654,0.016381882153811415,0.030319623636186503,0.025196485059474985,0.02605126239250105,0.016910632799159192,0.039572853808292105,0.01931958243692758,0.024984426894704558,0.01815546197029448,0.02731132670626086,0.02523610179478563,0.018984248364582543,0.026357735525648896,0.02592605526966418,0.033741924837960305,0.013640387976854603,0.029688840451149057,0.02323713306373569,0.030503920581561875,0.025724565143967808,0.018004585777929977,0.014114876837819533,0.009741639876419381,0.02412112002760351,0.03497634690462672,0.032403109857394766,0.02072073275456958,0.026098282119650373,0.02856084980338082,0.022798613087030434,0.03208633690951485,0.022571990340490435,0.030025837514414386,0.023339353360464762,0.026818679057343787,0.030762327912626675,0.017225206307434897,0.018875054234961955,0.029981258628777083,0.017969126519920078,0.02194313837071522,0.02174374039488631,0.022582021930880523,0.022531810334061597,0.02947758695940457,0.028653494491101182,0.0240883698354476,0.011257724324600376,0.021469239603302617,0.018671686538871704,0.022690330920172582,0.022331714974943573,0.023608033683827436,0.018302824423779025,0.03293805648504229,0.020923161665462882,0.01658938050476818,0.01044197363333261,0.022532239493008796,0.01968369698116721,0.020884698294822764,0.01969329941261016,0.018373072378943898,0.029443468823104557,0.02141980585707548,0.025123098879508907,0.018683622522089882,0.01879984412947039,0.021277378731483408,0.017801915465128916,0.018435085846810004,0.02686100485850844,0.015078016805006058,0.025394756493067577,0.026376967210968966,0.02120275871954419,0.02073519004660237,0.025246455254386097,0.023256525683660937,0.018409148552940402,0.026340971504275078,0.028769581986310685,0.030472779735457846,0.02378050193572143,0.017652863198289886,0.02225140860695436,0.021500407271840872,0.02228989880002865,0.03954745296310649,0.019117985021494432,0.024994404840226258,0.018592184843908448,0.019228788497166926,0.015739806723976547,0.01783013266590533,0.0201348235019456,0.017730755547201243,0.024738599285278686,0.020338995871061777,0.022127971764774546,0.027288286235284676,0.021107217208930454,0.020236990153806277,0.01996434011018227,0.03319359381564791,0.018989264159777586,0.01508925540493509,0.02870561048074815,0.02360360798218476,0.01992842487079096,0.018031032698049336,0.014920569116263015,0.02296628012320293,0.02159259597817984,0.016891025599760356,0.02043381317595216,0.019361505901579264,0.02261361875836592,0.01864631251612027,0.020077208913288,0.015897361702456377,0.0383402020222828,0.015286507586028144,0.02784962613818318,0.028913269766310066,0.024469436158100433,0.019081989314800547,0.02160530981198976,0.025823834972935104,0.014419391933270928,0.02362275920020224,0.026033237716719893,0.022823048324584934,0.015547677627815337,0.019421588154183073,0.02369190743556502,0.023724952674497115,0.02080712781512175,0.017376297079272966,0.019864024206281264,0.016323248312654307,0.021908698365204822,0.02005373928336466,0.01760734552745566,0.02568071046405386,0.02552755436478251,0.022635774089013586,0.028393880150497465,0.020232913143808158,0.01899596976832711,0.03261763568611143,0.02668829520470669,0.022453435181334677,0.024421504468188387,0.027334554934276452,0.01844128182910975,0.02094306391163788,0.023466518520998098,0.016135169404057015,0.028765504976312577,0.016280895689055462,0.019308558416472138,0.02113900179345524,0.017881899963907724,0.026060784356641387,0.016942122336907797,0.014484355868898817,0.021461675676858784,0.03223643525128759,0.032639764194324884,0.027736945092116827,0.017348562682312094,0.028258534147533675,0.025002853906998686,0.014779778159157021,0.025971492473195815,0.03368119884693575,0.0260405870636902,0.015624470256924572,0.028311883969153774,0.027823018283458616,0.0225995369804119,0.03144308129257525,0.01591455488277739,0.02844725679455174,0.019966995531167882,0.017182558637059833,0.01575176952962892,0.022668148767090723,0.02318987193467857,0.018699984206950734,0.019848654951485745,0.032169137763884484,0.019574476029112425,0.030061055370516523,0.02342236879430797,0.024566452902595085,0.020670869849395247,0.017801083969668743,0.0195718742529952,0.028495161662029603,0.022990205734507684,0.028768589556245366,0.02217389177212174,0.025806158988798525,0.028187293762303445,0.019602585940152056,0.026895954490268607,0.015572059220501443,0.02478033499289098,0.013647495921917089,0.026367793938473202,0.01590194833870425,0.020805733048543468,0.023785651843087466,0.029721536998436576,0.01425252957012437,0.018272300493661537,0.020344628582243365,0.029294336088962942,0.024878317345016755,0.020058084517704737,0.018022288584500744,0.03529698228303117,0.02199638090259852,0.026157854746004426,0.025382525463073236,0.02309467911570942,0.024618890761452426,0.029807154208397014,0.021636209256186,0.02584336170503134,0.02516985038231625,0.02469139180108997,0.020405247283531155,0.016272983070967015,0.015109559987623037,0.01634966841033947,0.021902046401523698,0.025960119761095784,0.026615767342634926,0.026993668618052413,0.020742834440348842,0.0288068651698461,0.022351000305132002,0.018262912641692185,0.02485347977094929,0.026077789779923,0.026664771929914913,0.02225811421550387,0.031224853967939267,0.02993193217228675,0.020982761114251125,0.021902341448299854,0.018295045917861553,0.030553005636144444,0.03300366415909092,0.013161768461023132,0.01961980594290729,0.015338918622451281,0.014552002047946502,0.02845758343171803,0.019995212731944316,0.024663094133010932,0.017743576670747992,0.021605122054950368,0.022010918661933894,0.027824064358392367,0.029568112674823267,0.021561642889115194,0.02949601397169868,0.033051729961173976,0.020754958180606402,0.011568623159390938,0.019488885641586205,0.031653556933728,0.021036352337778987,0.015115943726962209,0.030488819551108333,0.01166496934303061,0.03150420962011279,0.014787932179153246,0.0205724851607565,0.020304287641209402,0.029725909055210865,0.021912802197637127,0.02745549729007584,0.013013440399907483,0.02001017965022687,0.017564322343001856,0.017495549621717836,0.01848371492001122,0.01169986532992238,0.020225349217364276,0.030840354373709043,0.019290748320164586,0.02230698469061288,0.016910927845935363,0.034635138719192306,0.020623635542772335,0.02046986252751446,0.021235374799529135,0.029751578124738477,0.021565183450429348,0.021034447944950935,0.021589055416865698,0.022681586806623986,0.020060659471387764,0.023054177240070216,0.02980259439458333,0.026686176232405025,0.013791183701916485,0.027570029084101846,0.019887842527849198,0.022990769005625838,0.03005842677196511,0.016073477805401304,0.024699036194836457,0.019031858185284217,0.02901296875422453,0.02758547880619996,0.022049086985797862,0.028904659764932478,0.021074252437300947,0.02016389902061637,0.022183360091393683,0.019707139788656382,0.01987051523535718,0.025361201627885722,0.02307590341177072,0.015471233690350668,0.017839627807611474,0.024881562859554736,0.021238539846764506,0.03379897615549973,0.020838831932343965,0.01548016556093863,0.017602812536076175,0.025557568668650235,0.029965165168258208,0.028669802531093625,0.019007074256085152,0.02693436421604032,0.026152731661072584,0.02591159797763138,0.015356272737377481,0.01923061242269239,0.01650218077119004,0.020283097918192876,0.01738136651933639,0.02403059431218481,0.024353429130193525,0.03101413692487874,0.025480668749804196,0.02523502889741771,0.021709863660494075,0.022656159139004168,0.023559082741415868,0.02989408571763315,0.01929951925614738,0.015107333725584605,0.028620529719471675,0.026795370362025592,0.021745215628767203,0.023316125132449184,0.022719004102330374,0.01778413219125554,0.020801548748808546,0.02288809272751542,0.015224252716254265,0.021036486449949973,0.01269301960097659,0.015572702958922192,0.03451481327937946,0.02112939936201231,0.030474067212299366,0.020327784093566933,0.01692822831599316,0.03227031198567983,0.01916495110377537,0.027013919555871988,0.02137404678433346,0.019972064971231322,0.02353231395208611,0.022509011264993183,0.017456362045354373,0.030352534762947622,0.015252335804859714,0.018217314503555383,0.015117311671106306,0.01797170147360308,0.02623687363715213,0.013843487448602835,0.024542205422079973,0.02034918839605706,0.022245990475246315,0.01847912828376333,0.03416974266342052,0.02939610040431065,0.0262975459833083,0.018518879131244975,0.015254320664990368,0.02312107239096036,0.022087282132095987,0.02682533102102492,0.023366470841439082,0.02635894253518782,0.020342321852902336,0.019282299253392185,0.026113946421222084,0.018504743708422526,0.015351042362708837,0.01967275342801439,0.020862221094964734,0.027840640622726807,0.027134861911671353,0.011953471445265717,0.02369161238878882,0.016862566997076125,0.02291175011447816,0.02643176544403575,0.017479751207975146,0.02519986468618395,0.026370610294064012,0.019395758150050273,0.021953840521960297,0.018081539341644432,0.024592926645148627,0.02226342505747512,0.02859687233250892,0.02155743176694612,0.026432328715153885,0.023773930439342884,0.02635253197341446,0.018703792992606865,0.016658636029867748,0.02086192604818853,0.019866491870227494,0.023941195139002433,0.015389183864138569,0.011963959017037184,0.01328861175234611,0.029260968980820454,0.02962972380617636,0.020155235374370375,0.02322905951104203,0.028339645188548833,0.013454884021940335,0.022698645874774007,0.023565439658320825,0.02514329617246011,0.028482367360917107,0.02765484162103635,0.018246121797884186,0.01705807571994632,0.020418068407077876,0.024382853340508878,0.017765624711658823,0.01686543699753533,0.01498070501373525,0.016331831491597705,0.02105263355533726,0.011362465930144096,0.01687672924233275,0.021343952013163178,0.02918806560466993,0.02426376173266915,0.033133779787386075,0.025500812397887013,0.02700402207765288,0.02537117957340744,0.023551438347669366,0.02177439843717479,0.021315520232913138,0.021817475266496994,0.0197915231666437,0.021979053610106512,0.028352224910187754,0.020833118753859743,0.01736859904065808,0.023254031197280492,0.01697999561399556,0.019220178495789317,0.01410221664887802,0.015829125429856317,0.023748154080078486,0.020351012321582533,0.028249494987208915,0.027548356557269754,0.020416029902078803,0.017360203618754084,0.024438644003640972,0.018804001606771082,0.016287333073263018,0.027641001244990106,0.022053646799611526,0.023330072798232203,0.02338476374156221,0.021350282107633935,0.022607154551724164,0.02269845811773461,0.014920837340605012,0.03114462806725266,0.025591418580608302,0.020907899700404152,0.024058275064277285,0.013993076164125857,0.01864011653382052,0.02183879910168447,0.015249036645453342,0.019571847430561003,0.022103590172088437,0.024181148635338916,0.018061127469219646,0.022900082355601974,0.02078113687638378,0.024755953400204887,0.016648041168359495,0.017915106137445,0.017404058298668028,0.026124970441677497,0.029825447108520156,0.021559765318721322,0.0101019188125687,0.019942479826310804,0.02656593125989479,0.017893648190086528,0.016201340349223808,0.018687779999390607,0.02102814467291437,0.01129160105899262,0.017378576986179783,0.024964095489582387,0.030257583345886234,0.02688619112422048,0.022000887071543806,0.02113661459681162,0.021018381306866247,0.025201849546314617,0.0290581377334142,0.020730174251407323,0.019269344017674474,0.013854243244716317,0.028178603293623258,0.022272115526155312,0.03277108683215896,0.01760190057331345,0.019658778939797165,0.022998869380753677,0.02648017993776337,0.02461446505980972,0.023890447093499568,0.024411875214311263,0.014963511833414232,0.026744568671654367,0.01673567006088478,0.015091293909934122,0.030241892221880326,0.021461246517911606,0.02708961246517913,0.02444011923752187,0.021139270017797217,0.025507142492357752,0.016689481829195597,0.020745999487584224,0.025083187097422084,0.023252529140965417,0.02482140013964833,0.026106194737738828,0.018937791908551407,0.01831848872535071,0.023919039808354785,0.028712477023902876,0.020242354640645895,0.028180561331319715,0.017960999322358027,0.018173969449891192,0.016373164862697007,0.013533607866311838,0.027086983866627702,0.028209449092951117,0.018739252250616813,0.017351647262244863,0.03420772323024507,0.018751027299229797,0.016417958327807923,0.033634259587089,0.02722447566432733,0.03138573492825963,0.022439487515551644,0.017200851537182975,0.030931041023732925,0.022803280190580914,0.02185094966437625,0.029456236301782866,0.02266093353229141,0.01791505249257662,0.014386614918680827,0.023811347735049285,0.020138203128654542,0.03453294524489742,0.02989204721263409,0.028145692166862156,0.026017144256201025,0.022520786313606177,0.022486614532437773,0.028730179830473657,0.019573966402862672,0.017385470351768725,0.02539679499806663,0.02386898914614108,0.02612730399345274,0.029417907043313738,0.017547477854325432,0.02045516383357389,0.023665621450050828,0.02337049420656881,0.02840750594707011,0.020073400127631872,0.030691167994699016,0.030328475039471905,0.020946309426175855,0.030380215515040093,0.02751557954267965,0.016115052578408395,0.03293599115760905,0.023351369810985553,0.021679795711757977,0.02517918458941721,0.016144476788723758,0.015108540735123539,0.015652767925003613,0.02451425644564552,0.0172649571549165,0.02249232771092197,0.02719789463203697,0.022376025636238868,0.02788006960099807,0.030083103411427385,0.019154409887135494,0.01788723762831316,0.015735783358846834,0.0187552920662673,0.02681395830892492,0.019899617576462178,0.027742819205206205,0.02491844370657717,0.02791354399887732,0.02136881640966482,0.020313809605349738,0.02163910607907942,0.0200903250836109,0.014870491631615117,0.02535838527229491,0.01829646750687406,0.019855709251679836,0.01985503869082486,0.024149873677063907,0.015604809412657353,0.030216196329918524,0.015443847985034367,0.027819745946486445,0.031072529364128076,0.02692755131775401,0.021647662435588612,0.026065290525586683,0.017200502845538396,0.02463538655848429,0.01830502386338327,0.019302201499567188,0.02285617403081963,0.025796985716302755,0.024815096867611762,0.03098473953699758,0.020355545312962006,0.02560359596573422,0.021130794128590612,0.015895591421799304,0.015900660861862752,0.020692408264056356,0.01556816996754271,0.022834018700171967,0.033280498502449865,0.020757935470802368,0.018764787207973425,0.02381467371688986,0.018088539996970132,0.022065448670658704,0.02278718673006202,0.022859929171607354,0.02117851123902909,0.021099170478671027,0.016377563741905538,0.020761180985340355,0.019299170564502803,0.019844095137672046,0.013084332093493151,0.019413326844450032,0.02299886938075369,0.02238908816169334,0.017433858023062132,0.030574463583502957,0.025628514007104294,0.0208568566081251,0.02647207956263554,0.030193450905718497,0.015966912274332133,0.01315541154411819,0.027933929048867892,0.027434683081138077,0.025551855490166038,0.019918956551519033,0.022107667182086572,0.026752186242966616,0.02158473700495981,0.018539264181235537,0.015877539923583955,0.02519020860987263,0.026920443372691498,0.022479506587375242,0.02287642496863922,0.029456450881256445,0.020709011350824997,0.022346225911844736,0.023820869699189624,0.021385634075907066,0.022236629445711177,0.02202154034587636,0.025266169743521735,0.012840542989066332,0.017745561530878626,0.01568787849136896,0.02367838892872915,0.028454391562048445,0.029163067095997284,0.020973105037939817,0.015982496108601266,0.02117741151922696,0.01824716787281789,0.02460885917106232,0.020490676736452197,0.02042303055740452,0.013730538178194512,0.02438942483688741,0.021785958906314178,0.02502608213501427,0.012416882640906844,0.032031726433487444,0.022155893918774802,0.0258757363831085,0.022859795059436368,0.022000887071543823,0.028054039909207157,0.017401858859063778,0.0208581172625324,0.027396139243195353,0.026930474963081614,0.024352973148812164,0.026692238102533787,0.02385238605937244,0.0156919018564987,0.018893105733177297,0.02693256711294905,0.012486486857651,0.02823742489181976,0.01407249739178651,0.027634429748611574,0.025177414308760117,0.024008492626405538,0.015469168362917396,0.03194028875530601,0.01845077697081591,0.020965460644193336,0.023619942844611403,0.027745045467244656,0.023805151752749526,0.01892006227954643,0.024166932745213907,0.01634266775501376,0.016495180115864348,0.017890295385811755,0.036013650902371075,0.025605017554746742,0.032723906170404424,0.025256728246684013,0.030356075324261766,0.02438768137866453,0.02710106564458173,0.023985693557337144,0.028139335249957195,0.019121257358466606,0.031239445372143057,0.022504049114666566,0.022155679339301227,0.028529038396421853,0.0173395771668557,0.018786674314279113,0.015524288465194559,0.03341375235554618,0.013858990815569365,0.02754771281884901,0.02579062879939781,0.017288131738063706,0.025625778118816077,0.02779024126886851,0.0298074492551732,0.020130075931092516,0.02040347700287407,0.027318327361586583,0.022439943496933026,0.02395157542103711,0.029797149440441123,0.023430147300225433,0.024062378896709605,0.025612930172835176,0.02658269528126862,0.017787324060925112,0.019396267776300033,0.02443936820936434,0.014242578447036839,0.017687169091629304,0.029624708010981327,0.01887191601016078,0.026979533195229985,0.028994809966272395,0.02298948152878432,0.030107619116284505,0.019559911447342822,0.029505616403141623,0.03225660572180458,0.0165991170483821,0.025289263859366327,0.015465386399695469,0.027276940345618873,0.0327787580483396,0.014329697713312396,0.028858042374296126,0.024932605951833775,0.01648611413310537,0.016199677358303535,0.025495206509139584,0.040176626802092066,0.02550134884657094,0.02201947501844312,0.02314397874976557,0.025666038592547485,0.031865668743366826,0.0168543593322115,0.01651156862315939,0.025022648863436914,0.02317552193238258,0.017305968656805466,0.02918066261283126,0.03060131284013528,0.024387842313269743,0.03237355153490843,0.02623362812261415,0.021093081786108043,0.030549035915883115,0.016754740811599653,0.026192965312369785,0.03001607414836624,0.012786361671986103,0.030280301947652036,0.02063004610454568,0.030607374710264063,0.021803420310977154,0.02036268008045871,0.016382579537100584,0.015639946801456923,0.028943364537480382,0.019516861440454832,0.027413573825424153,0.019554439670766414,0.029202066915321366,0.016866670829508452,0.02432727725685034,0.024101888342283433,0.024923861838285176,0.02238350909538015,0.026929777579792438,0.01781484387841239,0.024261991452012084,0.028026734671193418,0.01889573433172871,0.023344771492172803,0.021320160514029414,0.02112494683793543,0.0248792829526479,0.016163681651609637,0.019644321647764376,0.018720664303717494,0.027135693407131505,0.020592897033181293,0.02078674276513117,0.017978728951362988,0.025152925426337222,0.016410448046232436,0.02590628713566014,0.026303876077779054,0.025375417518010736,0.02141902800648374,0.020542846370967573,0.022940289184464967,0.02024908707162963,0.020682349851232046,0.016634361726918442,0.02123014442486048,0.02434707221328858,0.029795888786033807,0.025446872482714558,0.01702001468581917,0.016388480472624173,0.018001474375563,0.016590292467530902,0.03105461197808371,0.011500413709225065,0.0267794110136777,0.027401289150561402,0.016218989510926173,0.026015052106333578,0.019040816878306416,0.0275376812284589,0.033576698643299804,0.02551693268084005,0.03232333993808954,0.014460537547330874,0.023934865044531677,0.018923280971650174,0.03016644071448097,0.023742387256725887,0.029099444282079293,0.020209470336319004,0.027325086615004525,0.027844208006475163,0.017424014189711443,0.019149045400295852,0.027258862024969337,0.027717525649757383,0.01623366138243255,0.023146660993185394,0.02703921311132084,0.033686509688906977,0.021789419000325723,0.030211046422552477,0.03626685468120142,0.016551399937943634,0.026655089031169397,0.0327545373902587,0.02583185488076034,0.01920770606388717,0.015397016014924433,0.02336180373788859,0.023061097428093348,0.02348548198197619,0.026554960884307775,0.03501639279888453,0.02391968354677553,0.017172339289630374,0.033270815603704325,0.028190324697367836,0.025376463592944445,0.02127866620832493,0.020100624898342977,0.01898827172971227,0.02298693339753552,0.02329375522232796,0.020179992481135244,0.019836638500964947,0.018087332987431246,0.02153321110886516,0.017058022075077926,0.025412620234243538,0.024745653585472805,0.02437791801261644,0.025851301145553993,0.03197011530213435,0.019848064857933362,0.020956743353078962,0.029993999285021198,0.01947931003257746,0.021611478971855332,0.022378386010448312,0.023683780238002973,0.022795474862229246,0.037047494806103844,0.02925007907253602,0.034230173607668904,0.018284611990958474,0.02590762825737005,0.028140810483838104,0.024160522183440558,0.020575542918255092,0.03250916576221419,0.025766971412435058,0.026993561328315603,0.024824001915765538,0.02954485762437349,0.021156704600026006,0.027616646474738202,0.021356102575854904,0.025182564216126163,0.025845427032464605,0.019064957069084728,0.02370966388700418,0.03919066094340296,0.02155847784187983,0.03010662668621915,0.023734850152716196,0.01696417037781868,0.032589311195598186,0.023510158621438466,0.01745837372791924,0.01328641231274187,0.03576736731156381,0.01988457019087702,0.025374183686037614,0.02477041069223767,0.022407863865632066,0.030516339368595588,0.018211896371847346,0.018297111245294807,0.032398898735225674,0.016252168862029254,0.024391409697018092,0.028445915672841837,0.036938005629707074,0.02154005082958571,0.03291560610761848,0.02910631082523403,0.026473849843292638,0.019258856445903014,0.015720923730301078,0.023337663547110282,0.02014257518542885,0.01302282825187682,0.014457104275753509,0.02704302189697696,0.02268373260135982,0.02696287646359294,0.015934778998162768,0.02455789654608588,0.02298870367819257,0.024356460065257903,0.01500076819451544,0.017849847155040975,0.02694259870333915,0.02110021655360475,0.023902919525401696,0.013704654529193313,0.02444245278929713,0.02431831856382817,0.030298380268301617,0.022759023174154,0.023970941218528163,0.024643406466309515,0.01635862710336166,0.027719778734230007,0.027566139831143126,0.02093558045249662,0.021241865828605072,0.016795940070527975,0.02106754682875143,0.016086406218684818,0.02225468094392652,0.029580102302909826,0.021918059394739973,0.024072330019797104,0.027933875403999504,0.038953416512920475,0.01854854474346808,0.03412207919785044,0.03313576464751674,0.02581589553241246,0.01822168656032967,0.02528770815818284,0.01791400641764291,0.026570222849366498,0.02336392271019025,0.02229625571693364,0.021886811258899155,0.020373382231703777,0.019705959601551686,0.018243707778806316,0.021987636789049934,0.021072696736117433,0.03287499694224252,0.019513025832364514,0.019331303840672165,0.023890929897315137,0.025065511113285532,0.02310264537866625,0.0215011582999984,0.015034939975683845,0.025725664863769905,0.02234689647269971,0.02240153377116129,0.023250168766755983,0.03376024456051764,0.019377974876176922,0.025720246732061913,0.01948395031369371,0.03541803192856735,0.028466193433095636,0.020762039303234697,0.018194783658828935,0.02389962036599534,0.0257561887938874,0.025990670513647465,0.03808587170121611,0.021753155069289862,0.024726073208508177,0.018301322367463898,0.02339822860352965,0.01387232156536583,0.0156759156857166,0.024389666238795196,0.015206228040473124,0.027275894270685122,0.017975966240640573,0.020671567232684394,0.029992926387653253,0.02865472832307428,0.026734027455014468,0.024039633472509585,0.02597363826793166,0.01928645673069288,0.01943253170733591,0.015260463002421754,0.02268027250734829,0.03174451180809386,0.0336758343600961,0.026231455505444087,0.027833479032795913,0.022616649693430302,0.024145555265158006,0.026205437744271913,0.01694678944045827,0.016155286229705614,0.02214819588015993,0.02160767018619919,0.022725200084630144,0.025064867374864762,0.017420098114318508,0.023992560100491854,0.021754201144223606,0.024579300848575996,0.021427450250821933,0.021016476914038178,0.0234492180509403,0.027668333305438008,0.01942963488444252,0.014232090875265377,0.017684942829590877,0.01823185226289075,0.022899760486391585,0.020601185165348514,0.030769167633347194,0.02551556473669596,0.019068283050925276,0.04347372088102898,0.01689405653482475,0.03844548007651047,0.014687777209857448,0.02386338325739367,0.01478243358014265,0.0213105044377181,0.021600991400083876,0.015544888094658729,0.021449605581469612,0.022665815215315473,0.022958635729456483,0.016129509870441216,0.02353719563511015,0.01847856501264518,0.029803023553530504,0.025140050657922148,0.02638804487629279,0.022777450186448098,0.017516792989602778,0.025205953378746947,0.017883670244564824,0.01897958126103208,0.026122422310428696,0.03326051578897225,0.025717054862392334,0.025921790502626666,0.016302353636413983,0.021566578217007665,0.018438760520295132,0.04205062981221291,0.013487473279491062,0.02684652074404146,0.01919558232362962,0.020171087432981467,0.011010716528069783,0.014081268327769316,0.01733906754060595,0.012219389057905993,0.02397552785477603,0.019156180167792556,0.016895397656534666,0.009275251390582273,0.025071921675058895,0.015148908498591728,0.018875295636869745,0.0205941308651544,0.022121990361948368,0.02307965855255844,0.02109678328202738,0.028466810349082185,0.03515224842809806,0.02049161552164913,0.02912508652917274,0.01600285433615764,0.030475140109667283,0.024121817410892657,0.022998923025622085,0.014780770589222355,0.01868807504616677,0.01632684251883685,0.01519874458133184,0.022565633423585463,0.023302418868573947,0.028480436145654823,0.017409154561165683,0.019174607180086675,0.03312608174877121,0.022161258405614438,0.019138101847143017,0.015302198710034028,0.03019401417683667,0.02278402168282665,0.020299915584435082,0.024344282680131946,0.02086753193693595,0.01477191918593696,0.027296011096333738,0.029037457636647446,0.02615350951166434,0.014278037705046799,0.023386802246561256,0.021320187336463618,0.02428597070818521,0.027005229087191798,0.018677399717355898,0.016482761328830593,0.02379597848025375,0.022478567802178332,0.03017687464138407,0.028752549740594872,0.023999185241738802,0.017611610294493176,0.018585586525095683,0.02582016029944996,0.02256434594674394,0.020107357329326708,0.025582835401664884,0.020951325221370908,0.017700741243333554,0.029267942813711978,0.01795147735821769,0.037446371225064265,0.01914802614779634,0.017122261804982452,0.029030376514019123,0.022397724985505164,0.016036033687260698,0.027283082683050238,0.01984396102550106,0.024127557411811044,0.020634310871583204,0.034112905925354674,0.028255503212469304,0.028573080833375196,0.016820831289463857,0.01783962780761149,0.02401146991660155,0.023174180810672657,0.021619713459154165,0.020964468214127993,0.013427632428795008,0.02612700894667659,0.0228492806652307,0.02501049830074515,0.028286402656665564,0.028231899470374938,0.018893749471598047,0.016475572916465495,0.016496789461916225,0.017521352803416462,0.019387067681370076,0.0193738710437446,0.029600621465071406,0.021782981616118177,0.029007818846858498,0.017167243027132715,0.023805715023867677,0.02298425115411571,0.019383258895713948,0.026374231322680762,0.02498777969897932,0.02405191814737232,0.027951578210570267,0.03418041799223137,0.0181633745883829,0.010322533333848324,0.024685061706619202,0.01793417688815988,0.029574013610346856,0.023692873043196117,0.01954864602497962,0.019184209611529605,0.022904400767507868,0.022691537929711493,0.02223566383808005,0.020941239986112414,0.02952246089181804,0.03514133169737944,0.016406666083010495,0.016126210711034834,0.03289873479650783,0.022238641128276053,0.01688134270101483,0.014386078469996835,0.03256291792034725,0.02272978672087802,0.018645481020660125,0.02042571280082433,0.01881910263722465,0.020372121577296433,0.02191296313224232,0.028125012070095393,0.02304323368691739,0.01211786614446606,0.02451369317452736,0.019605670520084863,0.01501179221497086,0.025037052510601294,0.016239911009600733,0.018299632554109428,0.03537962220279564,0.01927065831695019,0.02389109083192034,0.029658611567807743,0.021056925144808974,0.02252515837038047,0.02390289270296752,0.020583455536343536,0.02347271450329788,0.03046057552789769,0.018322726669954027,0.022543934074319177,0.027073063023278866,0.023048920042967394,0.020269874458133195,0.021594473548573717,0.01831001283614411,0.020015919651145263,0.01437379379513412,0.017706320309646764,0.023070753504404684,0.025567036987922183,0.021959660990181276,0.029549953886871115,0.02522738450367124,0.02640507712200859,0.019550335838334106,0.02277948869144717,0.020580344133976556,0.019009890611675958,0.02526995170674367,0.02128818817246526,0.025542360348459876,0.029741224665138004,0.025294118719956207,0.019241904667489783,0.020448806916668914,0.02267549811406101,0.01865591494756321,0.02387073260436395,0.02040087522675687,0.026086480248603196,0.029221030376299445,0.02184368078470858,0.029611350438750628,0.030004540501661053,0.030811225210169862,0.029308122820140767,0.026289660187654038,0.018837100490571593,0.019246705883211274,0.03853077541726051,0.017963976612554014,0.026089806230443758,0.017990772224317948,0.021520014471239707,0.02040680298471463,0.021179235444752448,0.021428764550097644,0.023568738817727176,0.023030251628765507,0.03076262295940285,0.023968902713529104,0.01571365485063338,0.021219817787694214,0.022210638506973177,0.02259218763344161,0.02369450921168223,0.017146616575234357,0.021058158976782072,0.015926222641653567,0.032032209237303,0.03496175550042294,0.026948955620244117,0.027636468253610613,0.029415841715880475,0.02243133349555542,0.01949441106303101,0.020362733725327112,0.025249271609976937,0.028292544994096922,0.017358460160531178,0.02286556188278896,0.02694254505847076,0.033066535944851365,0.017518724204865017,0.027435809623374423,0.030077256120772194,0.017409717832283816,0.0171229591882716,0.017571027951551386,0.02850119670972419,0.02072920864377621,0.020621892084549454,0.028007288406399787,0.017032272538247722,0.01714540956569544,0.019423277967537574,0.018420172573395843,0.025064438215917598,0.019134105304447507,0.015511601453818859,0.029190104109668994,0.0248116635960344,0.01520258018942217,0.02741298373187179,0.018299149750293862,0.017347731186851945,0.022804701779593414,0.022780642056117698,0.024819549391688643,0.025004919234431933,0.02269271811681621,0.0174861081248801,0.01413067525156225,0.017256990891959666,0.014085291692899014,0.022945626848870374,0.022488304345792264,0.019748687739229283,0.023589848073441094,0.017657181610195798,0.02620731531466578,0.02098479961925021,0.028690482627860385,0.013481518699099073,0.032564124929886154,0.022776752803158946,0.02348870067407996,0.025505372211700694,0.029485821446703392,0.017898985854491962,0.015849912816359904,0.027255750622602347,0.023705640521874433,0.027971507279179495,0.016953521871442,0.029623447356574018,0.01900326547042902,0.021452234180021026,0.01093169763692208,0.02119422918546919,0.015278058519255708,0.0270238975013937,0.022257094963004372,0.024919704360984472,0.0217884265702604,0.02712676153654355,0.01500715193385458,0.02339039645274381,0.02790160801565915,0.018958176958541954,0.031655032167608885,0.022492059486579993,0.011093141868360646,0.023148082582197877,0.02808067458636589,0.037157171739540015,0.0255309339914915,0.022693656902013137,0.01664849714974085,0.023803247359921426,0.015744902986474203,0.01798634652267525,0.023008337700025618,0.027054153207169203,0.01802255680884273,0.020313568203441948,0.02887381396560463,0.019344822347508013,0.015575653426683983,0.029861952441463783,0.02318769931750852,0.023841281571614394,0.03272594467540348,0.016426407394580334,0.027227640711562702,0.029132194474235228,0.016325447752258533,0.021215177506577948,0.011843874979132139,0.017018110292991107,0.02309553743360377,0.023875185128440835,0.02934256282565116,0.024142229283317433,0.017490962985469975,0.026761359515462387,0.022105333630311322,0.013712486679979173,0.022178344296198655,0.03246421136249812,0.01011626881486469,0.03034400522887261,0.022764950932111783,0.02707992956643359,0.018363255368027402,0.02063315750691265,0.0252322125418269,0.018933714898553267,0.022793704581572156,0.022090098487686796,0.02262783464849093,0.024069781888548268,0.02247998939119083,0.02007310508085569,0.028425450155548676,0.025516128007814144,0.03409176984720653,0.031117027782462767,0.028773980865519175,0.02147200231402505,0.019406701703203084,0.025157217015808923,0.020049286759287764,0.01868016242807832,0.018707440843657844,0.014152106376486569,0.022813901874523354,0.034537746460618884,0.019057473609943427,0.016934531588029725,0.016064787336721113,0.021788587504865585,0.02620911241775705,0.021492414186449822,0.01494004220349086,0.02629542701100665,0.023377763086236476,0.018898121528372357,0.022173757659950746,0.01859095101193535,0.01545540845417377,0.015952642739338704,0.03157507449126425,0.02779405005452465,0.02002530750311462,0.026985085439108998,0.033275509529688996,0.03888732603505629,0.020822953051298648,0.028122249359372985,0.029300746650736297,0.021028654299164132,0.02925844767200584,0.022779703270920736,0.021174917032846522,0.025551345863916282,0.025154963931336292,0.02002318853081296,0.021802132834135637,0.02567352205168876,0.021178243014687105,0.026858644484298994,0.019883577760811677,0.022433318355686096,0.022105923723863698,0.030319569991318112,0.02052146889091165,0.01930474963081602,0.02636940328452509,0.02004470012303985,0.0328144318858231,0.03871070030586157,0.02379766829360823,0.028987836133380893,0.023428162440094782,0.031923229687156024,0.018223590953157728,0.016750020063180784,0.020295597172529198,0.02525648684477621,0.03489679156479507,0.03178345798254953,0.026944932255114386,0.015491618740341237,0.024996926149040893,0.030243957549313583,0.020542926838270165,0.02215771784430028,0.023077190888612223,0.02218679336297106,0.029072836427354764,0.021707315529245277,0.02245957751876606,0.021630791124477994,0.025207991883746006,0.017642992542504975,0.0294296820919267,0.028798335635771093,0.028656686360770747,0.022929828435127704,0.018660528406245287,0.024850207433977114,0.025340306951645387,0.021733521047456822,0.02056862273023197,0.019233697002625172,0.029448833309944154,0.023316393356791157,0.023216989415652884,0.02677538764854801,0.025875709560674275,0.014091782721974953,0.028643194676369086,0.021331828272905598,0.030201578103280544,0.026203050547628268,0.0262642861649026,0.031921110714854345,0.02831156209994341,0.030034796207436546,0.030903574851114033,0.016976160005905218,0.02439784708122561,0.026725873435018248,0.026743495774286433,0.024043013099218535,0.01735725315099227,0.019639627721779677,0.014147063758857307,0.01891882844757329,0.016329685696861853,0.022304946185613815,0.030303825222443792,0.021507300637429803,0.018541275863800402,0.01892226171915068,0.019689302869914632,0.02343264178660586,0.029703109986142465,0.020228889778678462,0.014240888633682362,0.021042172805999987,0.022723912607788638,0.03704121835650148,0.019617472391132044,0.018356227890267477,0.030830564185226714,0.022604660065343743,0.024159476108506828,0.021512826058874605,0.02008179554953588,0.02596612798635619,0.024502561864335134,0.025628809053880486,0.02307330163565349,0.0270223418002102,0.0419761975573131,0.025823405813987926,0.02448815821717075,0.021356343977762697,0.017236632664403284,0.03570830431145953,0.027663290687808754,0.02990044263453811,0.02079800818749438,0.03464042273872931,0.018141836173721837,0.02174840749843679,0.02395736906682391,0.024893820711983275,0.031275172854494944,0.019207384194676803,0.03202848091894947,0.016014495272599613,0.019711726424904277,0.02524240506682221,0.02719639257572188,0.024235061728077163,0.01842709276141896,0.03531296845381328,0.01806493625487578,0.025820643103265525,0.021673304682682012,0.026985112261543195,0.02883897162358124,0.019331008793895994,0.022546562672870585,0.027379402044255735,0.02331210176731946,0.016593323402595304,0.02088123820081118,0.023984915706745377,0.022778147569737256,0.026009741264362334,0.03211356168022594,0.02391925438782836,0.017134117320898035,0.031034548797303524,0.01471022758728127,0.024196759292042236,0.024250967431556664,0.024316762862644684,0.023803891098342193,0.02529765928127033,0.022599510157977693,0.020066050780661603,0.022107881761560144,0.01802639241693308,0.016113255475317136,0.023262185217276743,0.020555372447738085,0.01867734607248752,0.025526561934717203,0.016130636412677514,0.02803209915803308,0.027585478806199958,0.024645042634795604,0.03544659782098837,0.021600991400083862,0.025216735997294584,0.017799581913353683,0.0223910461993898,0.024938640999528354,0.01842730734089252,0.014968581273477673,0.02259875912982018,0.01857619867312637,0.016861225875366218,0.0175809254297705,0.027515177206166697,0.030165770153626027,0.028080728231234267,0.020626720122705132,0.01600387358865717,0.02878411974564609,0.016343311493434508,0.018839165818004846,0.01957420780477044,0.027915850728218363,0.017297519590033054,0.022514214817227644,0.024196759292042225,0.027904156146907975,0.020837142118989467,0.02201926043896953,0.021247230315444707,0.019347880105006605,0.02380432025728938,0.023858313817330223,0.01700266057089298,0.02145446044205946,0.023770845859410115,0.01854379717261502,0.017449683259239054,0.014195907411532087,0.037233776611609884,0.01627376092155875,0.023904850740663973,0.019855950653587633,0.02400819757962938,0.025861252268641492,0.020630260684019262,0.01619629773159457,0.016852535406686044,0.012573337899584532,0.021984015760433198,0.017399766709196303,0.019801715691638987,0.018093260745389007,0.019639761833950685,0.027654063770444597,0.019166909141471823,0.025959824714319624,0.02268064802142703,0.017855453043788362,0.019281575047668822,0.02450966980939765,0.024351927073878434,0.02936131170715566,0.021855080319242763,0.016680093977226272,0.022642077361050138,0.023018101066073757,0.02342607029022732,0.02439741792227846,0.026284751682195757,0.021129962633130474,0.026039594633624857,0.03558028083303186,0.025674621771490883,0.026108233242737887,0.031764709101045056,0.026519447981429432,0.03144308129257524,0.032674472424177294,0.0255235309996528,0.032811320483456134,0.023121823419117914,0.028578928124030366,0.03885747266579376,0.019541725836956507,0.0250886588739985,0.020939952509270894,0.026098657633729164,0.021560435879576276,0.026144309416734367,0.02896763884042969,0.016382981873613554,0.022384447880577085,0.02591956424058823,0.02394130242873923,0.020498187018027678,0.029022919877312037,0.026267746258914156,0.02555083623766649,0.020952746810383425,0.018474032021265695,0.024928099782888492,0.014394205667558894,0.025343337886709755,0.02046412252659606,0.018981083317347144,0.025613493443953354,0.024343504829540216,0.02633107402605593,0.015066134466656288,0.015303405719572961,0.015942181990001456,0.02427956014641186,0.023232090446106433,0.02814440469002064,0.023298261391273226,0.02231272469153128,0.0334594309609856,0.021150991421541816,0.01694968626335167,0.021918220329345157,0.026093910062876088,0.034772228180378936,0.02196730538392774,0.026417764133384335,0.02474919414678694,0.014687026181699881,0.01584615767557215,0.02715972630817305,0.01673609921983196,0.021954216036039056,0.027667314052938482,0.025953253217941084,0.024157223024034204,0.027857270531929636,0.01864824373138257,0.02871105543489036,0.022409473211683947,0.035596454760853324,0.013358940174813596,0.02345053235021602,0.02506631578631146,0.03164720001682304,0.02779965594327207,0.023835487925827605,0.018858209746285513,0.01973779783094485,0.02427137930398144,0.02195866856011593,0.030808462499447457,0.01726683472531038,0.015723793730760265,0.02540449303668149,0.019975310485769303,0.021506442319535427,0.03056810666659801,0.028328004252106864,0.035730459642107186,0.0229884354538506,0.03540207258021946,0.017228156775196665,0.0297352969071802,0.0261638629712648,0.02620498176289054,0.027600123855272163,0.02186937667667037,0.02273946961962353,0.026663484453073406,0.014843588730114383,0.028720577399030715,0.020693722563332066,0.015381485825523738,0.028172997404875843,0.025460256877379413,0.014102914032167181,0.02559697082448728,0.03155224859976164,0.01511578279235702,0.017214182286979438,0.015593812214636122,0.01827211273662214,0.016968542434592948,0.025277596100490147,0.03156437234001919,0.02003440030830779,0.02465410861755455,0.021412322397934204,0.012461649283583526,0.022161875321600993,0.021492682410791795,0.020127688734448895,0.018037631016862087,0.02554185072221016,0.020682457140968835,0.02162955729250489,0.03304792117551786,0.02383479054253844,0.01564069782961446,0.02310747341682192,0.016221296240267212,0.02981702486418191,0.02013176574444699,0.014269347236366598,0.025772791880656044,0.019155214560161428,0.03018089800651378,0.023342813454476335,0.019045618094027862,0.013090662187963885,0.027119143965231254,0.016557461808072407,0.025156305053046193,0.01951248938368054,0.022722088682263147,0.01775653190646566,0.017945683712430882,0.024232674531433532,0.019344902814810626,0.026331637297174124,0.023852949330490578,0.019813142048607388,0.027723185183373182,0.027484304584404623,0.028385726130501217,0.019829369621297263,0.029334864787036313,0.024096550677878026,0.025102794296820916,0.025741355987775848,0.030644014155378735,0.029122001949239945,0.013278204647877238,0.010251105191578708,0.026200743818287235,0.025100648502085057,0.01649491189152233,0.02684029793930749,0.01973114586726373,0.028882128920206043,0.028195716006641676,0.026737702128499623,0.014842247608404462,0.01656475751017429,0.021043192058499513,0.022288557678318752,0.023617555647967803,0.03140885586653844,0.01675136118489068,0.023616697330073426,0.021743230768636556,0.016266626154062064,0.01999464946082615,0.025596970824487288,0.023911341769739927,0.027961904847736575,0.025813964317150193,0.016921656819614626,0.018549966332480607,0.019616265381593112,0.02275499980902427,0.03018730856828712,0.02173040964508986,0.018529554460055827,0.01676718642106759,0.0331505169863257,0.029388885169511353,0.01819188683593555,0.028058787480060174,0.01895415359341223,0.03475752948643837,0.028657973837612274,0.023055464716911736,0.023017054991140016,0.020213600991185486,0.02904327810486842,0.025455133792447564,0.023778195206380397,0.02150013904749888,0.024130722459046433,0.028341978740324077,0.02887585247060368,0.023710414915161716,0.021572961956346823,0.021329709300603957,0.027921644374005156,0.026565019297132057,0.03035918672662876,0.023080490048018584,0.02892536668413344,0.033057952765907964,0.02442461587055538,0.02452570962504811,0.029872627770274655,0.035678182717855035,0.017345746326721263,0.03453997272265731,0.025966154808790373,0.029469164715066345,0.027116086207732683,0.03421408014715002,0.019250943827814566,0.014985533051890897,0.02195563762505156,0.021843949009050533,0.019243326256502307,0.02381700726866509,0.017110459933935264,0.016609631442587758,0.018300946853385153,0.03377164409505184,0.027253443893261294,0.02134038462941481,0.03049745637492012,0.022514724443477414,0.01907667847282931,0.015811154398943573,0.031462447090066306,0.020598663856533885,0.036997068629811364,0.03580939806595227,0.01577703626264356,0.020381107092752843,0.025832444974312686,0.020341034376060833,0.02218598868994511,0.019747507552124573,0.022447641535547874,0.0302365813799091,0.032900800123941094,0.024148639845090775,0.032083976535305425,0.024719662646734815,0.026966685249249084,0.027334769513750024,0.01918069587264965,0.016070151823560728,0.01500385277444822,0.009621233969303974,0.0316891503039089,0.017865109120099695,0.02412562619654879,0.022665895682618092,0.016958028040387284,0.0219506486522907,0.02417202900771154,0.01986418514088644,0.02572252663896874,0.01815862701752984,0.0286516169207073,0.024654135439988775,0.024792110041503966,0.01973044848397455,0.026473152460003473,0.01650507759408343,0.02209693820840731,0.022405074332475454,0.02536989209656592,0.013615899094431713,0.026073766414793288,0.02301638443028508,0.021642566173090946,0.0283085848097474,0.020977879431227087,0.011492688848176006,0.021502633533879316,0.032984647053244456,0.022278123751415697,0.023113106128003515,0.023336161490795197,0.021810474611171242,0.01817370122554922,0.015354448811851995,0.018194247210144985,0.025992574906475524,0.01999491768516813,0.015835428701892876,0.023748368659552075,0.021709595436152074,0.030819191473126735,0.015025149787201549,0.027072767976502692,0.0328833118968439,0.019365073285327605,0.020389073355709702,0.01884882189431618,0.018776508611718007,0.028612831680856807,0.026167483999881565,0.027387073260436393,0.02218435252145902,0.02369413369760344,0.011903823119564986,0.0243450337082895,0.018711517853655955,0.024389451659321625,0.025692726914574616,0.02616450670968556,0.014239708446577643,0.01747516457172727,0.022285097584307224,0.036705294190604074,0.02874182076691563,0.023115332390041977,0.027741209859154327,0.025714962712524887,0.019848654951485734,0.020411604200436098,0.018092000090981705,0.0257906287993978,0.027879425862577294,0.017279146222607324,0.017010117207600074,0.020764077808233777,0.01768118768880312,0.019383258895713944,0.02555078259279811,0.02611727240306265,0.017529694580452077,0.03315134848178585,0.03533879845794609,0.03252917529812597,0.019599179491008915,0.0240278316014624,0.017117299654655797,0.024266846312601953,0.01671853052543217,0.02368501406997609,0.036857913841191435,0.018751054121663998,0.02507693747025393,0.017515773737103224,0.02855473428838364,0.019674738288145033,0.023882454008108518,0.02465032665433263,0.02553262380484598,0.020407232143661823,0.03400022487928832,0.025211586089928555,0.019498863587107913,0.019932448235920695,0.021344622574018125,0.01958364930160819,0.019445272363580037,0.029062536612622696,0.020541344314652474,0.020674464055577813,0.02264019979065627,0.01599014050234772,0.019860081308454146,0.02001892376377546,0.020350663629937954,0.013662623774804875,0.024256358740830476,0.019055515572246978,0.02630693383527763,0.03184772453488825,0.016422330384582223,0.03132677921789216,0.01927374289688298,0.027410945226872735,0.024452350267516215,0.023442887956469566,0.019868476730358152,0.025592250076068433,0.015590754457137531,0.01716523134456787,0.013139613130375496,0.024620312350464926,0.018785091790661415,0.016945099627103784,0.03030835821382329,0.012397919179928761,0.02231744543995013,0.025475089683490992,0.03220827169537957,0.024211726210324802,0.016366351964410712,0.0227214449438424,0.029466133780001964,0.03035741644597169,0.01875145645817696,0.015994512559121994,0.024478180271649025,0.01975614437593637,0.023018288823113117,0.03327084242613854,0.021242911903538803,0.020110683311167277,0.020652523304403727,0.023036393966196857,0.02421127022894342,0.024295170803115176,0.01649172002185277,0.024665454507220387,0.026316670378891578,0.024815338269519545,0.022888655998633576,0.023731926507388628,0.023111765006293628,0.025525810906559667,0.026552707799835134,0.033940384028592285,0.017882221833118113,0.028312903221653307,0.023806975678274993,0.022662435588606502,0.02143378034529271,0.012886704398321298,0.02053340487412983,0.0194945988200704,0.018712215236945107,0.02765516349024673,0.020325504186660105,0.021496276616974352,0.015389613023085757,0.01033613230798676,0.02056602095411477,0.02640153656069446,0.020039067411858277,0.01947166563883098,0.03497967288646727,0.024747262931524683,0.0161998382929087,0.020424666725890595,0.012328395430487193,0.017552895986033445,0.0200242882506151,0.028973003327269327,0.02587275909291248,0.028396776973390863,0.03208939466701341,0.020868873058645866,0.026173116711063163,0.028641719442488202,0.0230031877926596,0.0316804598352287,0.020662957231306824,0.026605440705468632,0.028714220482125755,0.01562932511751447,0.020906826803036193,0.02501613101192677,0.022043990723300187,0.015451090042267851,0.02275966691257474,0.02587501217738513,0.02224937010195531,0.024045561230467367,0.024303351645545614,0.014427009504583194,0.03803769860939626,0.027426046257326274,0.02633134225039794,0.022399468443728046,0.031046672537561062,0.01911213773083923,0.02689002673231083,0.016291410083261126,0.026253449901486557,0.015608913245089664,0.0200413204963309,0.01799382998181652,0.02665176304932882,0.02110686851728589,0.017939246328223322,0.017583151691808945,0.020226261180127034,0.02317214230567361,0.024797099014264808,0.03215637028520614,0.0243656869826221,0.023418425896480854,0.018412259955307382,0.02591285863203869,0.0204806451460621,0.01109566317717527,0.028849646952392102,0.01829638703957146,0.03247091697104765,0.028457422497112833,0.021432036887069822,0.022567671928584516,0.023275596434375812,0.020015919651145273,0.026242264946425953,0.021668288887486967,0.01728877547648445,0.02521118375341557,0.018456651083905304,0.026749611289283604,0.018014241854241303,0.021220059189601986,0.02400744655147184,0.021027313177454234,0.019354451601385162,0.016737601276147047,0.027684694990298866,0.028020082707512314,0.03155096112292015,0.022938009277558104,0.027766476592168965,0.026983637027662294,0.021098473095381855,0.02871797562291347,0.024550761778589177,0.021556439336880763,0.02795836428642239,0.026395394223263074,0.03368192305265909,0.026883160189156118,0.014301748736877928,0.020964441391693803,0.016341836259553596,0.013980576909789504,0.028574287842914096,0.027628367878482784,0.0218704227516041,0.024408495587602295,0.026468807225663357,0.02201523707383981,0.015302279177336628,0.031566142620676294,0.03448528177932732,0.025608906807705455,0.029656760819848096,0.01645754824068436,0.02067446405557781,0.03866386833575164,0.017554639444256333,0.014227396949280715,0.0064752306622051295,0.016886438963512482,0.020993248686022592,0.02142310501648185,0.024226827240778334,0.019731092222395323,0.03329779897250764,0.016372708881315652,0.011203677119691141,0.026687222307338734,0.017248139488674284,0.019913377485205837,0.03630572038835453,0.026651414357684238,0.019643463329870006,0.02329198494167086,0.017355831561979788,0.019360030667698362,0.021765627501191983,0.017261362948733976,0.02217770055777788,0.02294358834387132,0.026685237447208084,0.026608900799480195,0.019053933048629294,0.01605784032626378,0.022347003762436493,0.02299666994114943,0.02441082913937753,0.023707920428781285,0.026829917657272804,0.017839359583269498,0.026431765444035738,0.022581753706538546,0.025511246324790043,0.019469627133831956,0.0227030983988509,0.02825005825832709,0.015224842809806616,0.03581454797331836,0.020049957320142697,0.03145397120085968,0.01695547990913847,0.023285413445292325,0.0163060819547675,0.0234492180509403,0.019701641189645788,0.02143616754193634,0.020300720257461043,0.023743782023304183,0.03198720119271857,0.026588006123239874,0.021943835754004392,0.013816745481707315,0.02170782515549501,0.019590757246670695,0.01919263185586783,0.024386045210178453,0.019251238874590758,0.03129467276415698,0.03055150357982936,0.01637246747940787,0.020410316723594606,0.023063913783684144,0.0354376391279662,0.02882488984562724,0.028444655018434527,0.02039669092702194,0.01982617775162769,0.024998428205355985,0.01771069236642106,0.023834817364972657,0.017295481085033985,0.028876442564156057,0.020155986402527915,0.032836533571602385,0.020775852856846716,0.023181476512774555,0.019679190812221935,0.02703733554092695,0.019852517382010264,0.03326773102377155,0.017268765940572642,0.030169525294413767,0.01136321695830164,0.03259574857980575,0.02189287312902792,0.029181950089672767,0.021504511104273177,0.02167236589748508,0.020475361126525073,0.010453399990300982,0.024972222687144413,0.027711410134760184,0.023757890623692414,0.02253730893307225,0.03093490345425745,0.0355136270840495,0.029248362436747336,0.020030537877783236,0.02735778316229205,0.02682044933800086,0.026576070140021682,0.021265818262344,0.029640238200382033,0.020453178973443214,0.023842998207403078,0.027138241538380327,0.022576094172922744,0.020949823165055816,0.014135100953204947,0.026427178807787867,0.021273355366353674,0.022309023195611944,0.021484823437571764,0.022069525680656822,0.028654916080113675,0.02304047097619498,0.015496071264418135,0.014075608794153474,0.03326319803239207,0.022095945778341987,0.01950688349493314,0.03198746941706053,0.017513708409669974,0.02028049614207564,0.02434219053026449,0.014196980308900018,0.022600502588043032,0.01780290789519424,0.01573015064766521,0.018468882113899653,0.021712840950690065,0.01573323522759801,0.021858433123517512,0.03270816140153013,0.014395707723873979,0.022327128338695677,0.02421784172532196,0.021046169348695506,0.023736218096860315,0.02194402351104376,0.017586853187728305,0.018775408891915896,0.031156832274812772,0.032811803287271686,0.025939412841894854,0.028827920780691626,0.02223842654880245,0.017180037328245235,0.01741653073057016,0.024595045617450302,0.025214563380124545,0.027207550708348297,0.024480862515068834,0.02027024997221196,0.021569823731545614,0.025227411326105426,0.020703432284511773,0.019118145956099612,0.025509422399264608,0.026313585798958802,0.02436979081505438,0.02606765089979611,0.020232671741900396,0.02058015637693717,0.025436063041732685,0.01901702537917266,0.0365644764110639,0.022214474115063533,0.025007199141338782,0.025570899418446695,0.020770434725138703,0.016573152932078297,0.018715755798259234,0.031801858172409464,0.024185359757508046,0.022320744599356505,0.021102550105379994,0.02116491226489062,0.041887254365512126,0.020700320882144806,0.021660429914266897,0.023355715045325624,0.018388522101042047,0.02531077545159323,0.02508471597617137,0.026173626337312912,0.02514989449127285,0.012655682772572797,0.030661877896554668,0.0189132762036943,0.029731890458037032,0.01967940539169552,0.029797685889125087,0.02024332024827702,0.028553527278844755,0.023529283017021743,0.0159759246122227,0.017303849684503818,0.023115466502212967,0.029550704915028675,0.027418294573843014,0.021211154141448224,0.024430945965026124,0.02545312210988271,0.022072502970852823,0.02281028084590664,0.02932751544006602,0.027222866318275443,0.03209494691089245,0.032940121812475576,0.02973076391580074,0.02590719909842289,0.022974434143199197,0.016774562590472067,0.02883363395917584,0.019359816088224797,0.017417523160635495,0.02076313902303683,0.021688539825306573,0.027472958694738803,0.0296666582980672,0.029923375815777507,0.023780153244076847,0.029405193209503806,0.02344390720896907,0.024517850651828058,0.023930171118547006,0.03317331605539411,0.025153756921797374,0.016910927845935363,0.020860879973254802,0.019811452235252915,0.015718724290696814,0.024168434801529016,0.027877092310802053,0.02204262277915611,0.02404027721093033,0.023800913808146196,0.019794124942760928,0.023502809274468163,0.02415526498633773,0.015257432067357355,0.026582641636400228,0.017844724070109126,0.021746798152384908,0.01906425968579557,0.024483732515528038,0.018124508881229826,0.036117829236796635,0.026380078613335967,0.025530826701754713,0.021468193528368894,0.02130999481146833,0.026987445813318425,0.02658392911324173,0.012753396900356588,0.01740915456116566,0.03157837365067062,0.02585363469732923,0.02460853730185197,0.01937902095111065,0.01730688061956818,0.028300886771132534,0.029412327977000503,0.023011958728642368,0.017514486260261752,0.022366369559927553,0.03612670746251618,0.01843717799667744,0.0191054857671581,0.022727533636405405,0.028993012863181122,0.01804940606547506,0.014172464604042936,0.028737448710141333,0.02357050909838426,0.02121568713282771,0.025364366675121097,0.032380552190234134,0.025090295042484587,0.026017868461924387,0.022461455089159928,0.021499039327696767,0.017780028358823224,0.020496041223291836,0.02657395116772001,0.025822493851225183,0.021446333244497438,0.02318147651277455,0.0287867483441975,0.024562912341280937,0.013801108002569815,0.02386029867746089,0.031490878870316326,0.02640357506569352,0.02993332693886501,0.030747870620593865,0.034021682826646825,0.021169016097322954,0.021437857355290815,0.024521686259918393,0.019894762715872327,0.018999698086680658,0.029380543392475707,0.023265994002932874,0.030325980553091467,0.009845845033279144,0.021679017861166223,0.019861207850690458,0.02044266457923754,0.010473141301870837,0.021693341041028047,0.01830671367673774,0.023408984399643118,0.01887915806739425,0.019375641324401692,0.019033387064033534,0.027220237719724014,0.021916557338424875,0.02855655821390913,0.0266075060329019,0.022750922799026164,0.0166478534113201,0.020867371002330763,0.029001300995348353,0.013583685350959749,0.031621718704334806,0.013301969324576769,0.024619534499873183,0.02258770828693052,0.01983535102412344,0.022653825587228914,0.027876394927512926,0.032792035153267673,0.02582681226313109,0.02836992771675853,0.02754701543555985,0.02552428202781038,0.010455894476681424,0.01816307954160675,0.021890807801594667,0.02827934835647144,0.021850091346481897,0.023890876252446742,0.02540958929917915,0.028713952257783774,0.028333878365196255,0.022121346623527605,0.01829536778707192,0.03452398655187524,0.023493126375722657,0.023226565024661614,0.019161839701408372,0.023429047580423308,0.029063475397819616,0.01622767997960637,0.028038429252503824,0.031500615413930254,0.027665570594715597,0.03145386391112291,0.020324458111726375,0.008117702420327718,0.01812711065734706,0.026428224882721597,0.02725341707082711,0.044074114248119974,0.03426858333344061,0.010373844650469364,0.024371373338672078,0.018209696932243086,0.023488459272172184,0.02325526502925361,0.02803252831698024,0.02303105630179144,0.01572301588016852,0.03224665459871707,0.01862627615777428,0.026067624077361896,0.029951351614646175,0.027471671217897307,0.021161693572786883,0.0294424227481708,0.02164484607999779,0.029262792906345928,0.030225798761361458,0.015949906851050508,0.019072306416055007,0.019459890590218,0.0180835242017751,0.027302421658107083,0.023908257189807144,0.01943231712786233,0.014118524688870487,0.02214637195463445,0.023214736331180246,0.021667350102290032,0.01740588222419348,0.018875402926606534,0.022794321497558744,0.02482190976589809,0.030173816883885467,0.026261308874706617,0.02229193730502773,0.03158676907257464,0.028037892803819863,0.028257917231547112,0.019009085938650007,0.025143537574367884,0.017226976588091955,0.023374276169790743,0.01698790823208401,0.01816938281364331,0.017622929361724767,0.016567412931159903,0.019636596786715303,0.017427474283722967,0.022306635998968302,0.02384425886181038,0.02030865969798369,0.02394969785064325,0.029180743080133853,0.02698307375654415,0.020167734628706697,0.011634096721268562,0.021150723197199815,0.01986346093516311,0.027653554144194858,0.025751119353823952,0.021207077131450102,0.02383055259793515,0.026590554254488672,0.01927977794457755,0.025735240472778684,0.020292619882333204,0.02561708765013587,0.01673435576160907,0.01269881324676338,0.024116935727868598,0.022511344816768447,0.019026761922786583,0.0329741326590388,0.020089144896506192,0.017134466012542607,0.011531232686118732,0.023621981349610476,0.02372288734706384,0.010400372037891303,0.026906093370395522,0.021605658503634342,0.025959905181622223,0.0237305853856787,0.01899661350674789,0.027805449589058846,0.018046026438766107,0.016465004877391453,0.015684042883278633,0.019780418678885685,0.028119137957006005,0.018475990058962152,0.0189935289268151,0.02227077440444538,0.031053109921768598,0.019980406748266948,0.015440682937798992,0.013315353719241642,0.027128049013385048,0.03152285121188049,0.02613366091035771,0.013555924131564673,0.02015217761687179,0.025508483614067663,0.031198085178609503,0.016473346654427033,0.02221010205828923,0.022478594624612526,0.03087221942553644,0.029639004368408925,0.026944583563469814,0.02567767952898948,0.02612982530226736,0.020355545312962006,0.018769051975010942,0.034479783180316706,0.02722788211347049,0.017026049733513748,0.012693851096436753,0.02496468558313474,0.022726675318511032,0.019870059253975832,0.014624315330544667,0.02016904892798242,0.019651992863945034,0.03329350738303595,0.027352338208149835,0.01973978269107552,0.01935981608822479,0.029278725432259605,0.022896944130800782,0.021025033270547378,0.025555878855295748,0.023909303264740875,0.029610599410593103,0.03200321418593485,0.018089398314864488,0.031014914775470477,0.017603188050154962,0.019413890115568204,0.024319740152840674,0.028217361711039543,0.022358027782891934,0.020382850550975717,0.023907184292439213,0.02291373497460881,0.028684152533389635,0.02264207736105013,0.024198770974607105,0.019196306529352967,0.025488769124932028,0.022756045883957993,0.0237221899637747,0.025905723864541985,0.026875810842185828,0.020813001928211148,0.018312426855221952,0.020187851454355293,0.027638801805385846,0.023056135277766683,0.027730588175211856,0.02479844013597471,0.01561854249896681,0.024652311514463305,0.02800487438732196,0.03332773280907275,0.013250765297692537,0.020355250266185825],\"xaxis\":\"x\",\"yaxis\":\"y\",\"type\":\"histogram\"}],                        {\"template\":{\"data\":{\"barpolar\":[{\"marker\":{\"line\":{\"color\":\"white\",\"width\":0.5},\"pattern\":{\"fillmode\":\"overlay\",\"size\":10,\"solidity\":0.2}},\"type\":\"barpolar\"}],\"bar\":[{\"error_x\":{\"color\":\"rgb(36,36,36)\"},\"error_y\":{\"color\":\"rgb(36,36,36)\"},\"marker\":{\"line\":{\"color\":\"white\",\"width\":0.5},\"pattern\":{\"fillmode\":\"overlay\",\"size\":10,\"solidity\":0.2}},\"type\":\"bar\"}],\"carpet\":[{\"aaxis\":{\"endlinecolor\":\"rgb(36,36,36)\",\"gridcolor\":\"white\",\"linecolor\":\"white\",\"minorgridcolor\":\"white\",\"startlinecolor\":\"rgb(36,36,36)\"},\"baxis\":{\"endlinecolor\":\"rgb(36,36,36)\",\"gridcolor\":\"white\",\"linecolor\":\"white\",\"minorgridcolor\":\"white\",\"startlinecolor\":\"rgb(36,36,36)\"},\"type\":\"carpet\"}],\"choropleth\":[{\"colorbar\":{\"outlinewidth\":1,\"tickcolor\":\"rgb(36,36,36)\",\"ticks\":\"outside\"},\"type\":\"choropleth\"}],\"contourcarpet\":[{\"colorbar\":{\"outlinewidth\":1,\"tickcolor\":\"rgb(36,36,36)\",\"ticks\":\"outside\"},\"type\":\"contourcarpet\"}],\"contour\":[{\"colorbar\":{\"outlinewidth\":1,\"tickcolor\":\"rgb(36,36,36)\",\"ticks\":\"outside\"},\"colorscale\":[[0.0,\"#440154\"],[0.1111111111111111,\"#482878\"],[0.2222222222222222,\"#3e4989\"],[0.3333333333333333,\"#31688e\"],[0.4444444444444444,\"#26828e\"],[0.5555555555555556,\"#1f9e89\"],[0.6666666666666666,\"#35b779\"],[0.7777777777777778,\"#6ece58\"],[0.8888888888888888,\"#b5de2b\"],[1.0,\"#fde725\"]],\"type\":\"contour\"}],\"heatmapgl\":[{\"colorbar\":{\"outlinewidth\":1,\"tickcolor\":\"rgb(36,36,36)\",\"ticks\":\"outside\"},\"colorscale\":[[0.0,\"#440154\"],[0.1111111111111111,\"#482878\"],[0.2222222222222222,\"#3e4989\"],[0.3333333333333333,\"#31688e\"],[0.4444444444444444,\"#26828e\"],[0.5555555555555556,\"#1f9e89\"],[0.6666666666666666,\"#35b779\"],[0.7777777777777778,\"#6ece58\"],[0.8888888888888888,\"#b5de2b\"],[1.0,\"#fde725\"]],\"type\":\"heatmapgl\"}],\"heatmap\":[{\"colorbar\":{\"outlinewidth\":1,\"tickcolor\":\"rgb(36,36,36)\",\"ticks\":\"outside\"},\"colorscale\":[[0.0,\"#440154\"],[0.1111111111111111,\"#482878\"],[0.2222222222222222,\"#3e4989\"],[0.3333333333333333,\"#31688e\"],[0.4444444444444444,\"#26828e\"],[0.5555555555555556,\"#1f9e89\"],[0.6666666666666666,\"#35b779\"],[0.7777777777777778,\"#6ece58\"],[0.8888888888888888,\"#b5de2b\"],[1.0,\"#fde725\"]],\"type\":\"heatmap\"}],\"histogram2dcontour\":[{\"colorbar\":{\"outlinewidth\":1,\"tickcolor\":\"rgb(36,36,36)\",\"ticks\":\"outside\"},\"colorscale\":[[0.0,\"#440154\"],[0.1111111111111111,\"#482878\"],[0.2222222222222222,\"#3e4989\"],[0.3333333333333333,\"#31688e\"],[0.4444444444444444,\"#26828e\"],[0.5555555555555556,\"#1f9e89\"],[0.6666666666666666,\"#35b779\"],[0.7777777777777778,\"#6ece58\"],[0.8888888888888888,\"#b5de2b\"],[1.0,\"#fde725\"]],\"type\":\"histogram2dcontour\"}],\"histogram2d\":[{\"colorbar\":{\"outlinewidth\":1,\"tickcolor\":\"rgb(36,36,36)\",\"ticks\":\"outside\"},\"colorscale\":[[0.0,\"#440154\"],[0.1111111111111111,\"#482878\"],[0.2222222222222222,\"#3e4989\"],[0.3333333333333333,\"#31688e\"],[0.4444444444444444,\"#26828e\"],[0.5555555555555556,\"#1f9e89\"],[0.6666666666666666,\"#35b779\"],[0.7777777777777778,\"#6ece58\"],[0.8888888888888888,\"#b5de2b\"],[1.0,\"#fde725\"]],\"type\":\"histogram2d\"}],\"histogram\":[{\"marker\":{\"line\":{\"color\":\"white\",\"width\":0.6}},\"type\":\"histogram\"}],\"mesh3d\":[{\"colorbar\":{\"outlinewidth\":1,\"tickcolor\":\"rgb(36,36,36)\",\"ticks\":\"outside\"},\"type\":\"mesh3d\"}],\"parcoords\":[{\"line\":{\"colorbar\":{\"outlinewidth\":1,\"tickcolor\":\"rgb(36,36,36)\",\"ticks\":\"outside\"}},\"type\":\"parcoords\"}],\"pie\":[{\"automargin\":true,\"type\":\"pie\"}],\"scatter3d\":[{\"line\":{\"colorbar\":{\"outlinewidth\":1,\"tickcolor\":\"rgb(36,36,36)\",\"ticks\":\"outside\"}},\"marker\":{\"colorbar\":{\"outlinewidth\":1,\"tickcolor\":\"rgb(36,36,36)\",\"ticks\":\"outside\"}},\"type\":\"scatter3d\"}],\"scattercarpet\":[{\"marker\":{\"colorbar\":{\"outlinewidth\":1,\"tickcolor\":\"rgb(36,36,36)\",\"ticks\":\"outside\"}},\"type\":\"scattercarpet\"}],\"scattergeo\":[{\"marker\":{\"colorbar\":{\"outlinewidth\":1,\"tickcolor\":\"rgb(36,36,36)\",\"ticks\":\"outside\"}},\"type\":\"scattergeo\"}],\"scattergl\":[{\"marker\":{\"colorbar\":{\"outlinewidth\":1,\"tickcolor\":\"rgb(36,36,36)\",\"ticks\":\"outside\"}},\"type\":\"scattergl\"}],\"scattermapbox\":[{\"marker\":{\"colorbar\":{\"outlinewidth\":1,\"tickcolor\":\"rgb(36,36,36)\",\"ticks\":\"outside\"}},\"type\":\"scattermapbox\"}],\"scatterpolargl\":[{\"marker\":{\"colorbar\":{\"outlinewidth\":1,\"tickcolor\":\"rgb(36,36,36)\",\"ticks\":\"outside\"}},\"type\":\"scatterpolargl\"}],\"scatterpolar\":[{\"marker\":{\"colorbar\":{\"outlinewidth\":1,\"tickcolor\":\"rgb(36,36,36)\",\"ticks\":\"outside\"}},\"type\":\"scatterpolar\"}],\"scatter\":[{\"fillpattern\":{\"fillmode\":\"overlay\",\"size\":10,\"solidity\":0.2},\"type\":\"scatter\"}],\"scatterternary\":[{\"marker\":{\"colorbar\":{\"outlinewidth\":1,\"tickcolor\":\"rgb(36,36,36)\",\"ticks\":\"outside\"}},\"type\":\"scatterternary\"}],\"surface\":[{\"colorbar\":{\"outlinewidth\":1,\"tickcolor\":\"rgb(36,36,36)\",\"ticks\":\"outside\"},\"colorscale\":[[0.0,\"#440154\"],[0.1111111111111111,\"#482878\"],[0.2222222222222222,\"#3e4989\"],[0.3333333333333333,\"#31688e\"],[0.4444444444444444,\"#26828e\"],[0.5555555555555556,\"#1f9e89\"],[0.6666666666666666,\"#35b779\"],[0.7777777777777778,\"#6ece58\"],[0.8888888888888888,\"#b5de2b\"],[1.0,\"#fde725\"]],\"type\":\"surface\"}],\"table\":[{\"cells\":{\"fill\":{\"color\":\"rgb(237,237,237)\"},\"line\":{\"color\":\"white\"}},\"header\":{\"fill\":{\"color\":\"rgb(217,217,217)\"},\"line\":{\"color\":\"white\"}},\"type\":\"table\"}]},\"layout\":{\"annotationdefaults\":{\"arrowhead\":0,\"arrowwidth\":1},\"autotypenumbers\":\"strict\",\"coloraxis\":{\"colorbar\":{\"outlinewidth\":1,\"tickcolor\":\"rgb(36,36,36)\",\"ticks\":\"outside\"}},\"colorscale\":{\"diverging\":[[0.0,\"rgb(103,0,31)\"],[0.1,\"rgb(178,24,43)\"],[0.2,\"rgb(214,96,77)\"],[0.3,\"rgb(244,165,130)\"],[0.4,\"rgb(253,219,199)\"],[0.5,\"rgb(247,247,247)\"],[0.6,\"rgb(209,229,240)\"],[0.7,\"rgb(146,197,222)\"],[0.8,\"rgb(67,147,195)\"],[0.9,\"rgb(33,102,172)\"],[1.0,\"rgb(5,48,97)\"]],\"sequential\":[[0.0,\"#440154\"],[0.1111111111111111,\"#482878\"],[0.2222222222222222,\"#3e4989\"],[0.3333333333333333,\"#31688e\"],[0.4444444444444444,\"#26828e\"],[0.5555555555555556,\"#1f9e89\"],[0.6666666666666666,\"#35b779\"],[0.7777777777777778,\"#6ece58\"],[0.8888888888888888,\"#b5de2b\"],[1.0,\"#fde725\"]],\"sequentialminus\":[[0.0,\"#440154\"],[0.1111111111111111,\"#482878\"],[0.2222222222222222,\"#3e4989\"],[0.3333333333333333,\"#31688e\"],[0.4444444444444444,\"#26828e\"],[0.5555555555555556,\"#1f9e89\"],[0.6666666666666666,\"#35b779\"],[0.7777777777777778,\"#6ece58\"],[0.8888888888888888,\"#b5de2b\"],[1.0,\"#fde725\"]]},\"colorway\":[\"#1F77B4\",\"#FF7F0E\",\"#2CA02C\",\"#D62728\",\"#9467BD\",\"#8C564B\",\"#E377C2\",\"#7F7F7F\",\"#BCBD22\",\"#17BECF\"],\"font\":{\"color\":\"rgb(36,36,36)\"},\"geo\":{\"bgcolor\":\"white\",\"lakecolor\":\"white\",\"landcolor\":\"white\",\"showlakes\":true,\"showland\":true,\"subunitcolor\":\"white\"},\"hoverlabel\":{\"align\":\"left\"},\"hovermode\":\"closest\",\"mapbox\":{\"style\":\"light\"},\"paper_bgcolor\":\"white\",\"plot_bgcolor\":\"white\",\"polar\":{\"angularaxis\":{\"gridcolor\":\"rgb(232,232,232)\",\"linecolor\":\"rgb(36,36,36)\",\"showgrid\":false,\"showline\":true,\"ticks\":\"outside\"},\"bgcolor\":\"white\",\"radialaxis\":{\"gridcolor\":\"rgb(232,232,232)\",\"linecolor\":\"rgb(36,36,36)\",\"showgrid\":false,\"showline\":true,\"ticks\":\"outside\"}},\"scene\":{\"xaxis\":{\"backgroundcolor\":\"white\",\"gridcolor\":\"rgb(232,232,232)\",\"gridwidth\":2,\"linecolor\":\"rgb(36,36,36)\",\"showbackground\":true,\"showgrid\":false,\"showline\":true,\"ticks\":\"outside\",\"zeroline\":false,\"zerolinecolor\":\"rgb(36,36,36)\"},\"yaxis\":{\"backgroundcolor\":\"white\",\"gridcolor\":\"rgb(232,232,232)\",\"gridwidth\":2,\"linecolor\":\"rgb(36,36,36)\",\"showbackground\":true,\"showgrid\":false,\"showline\":true,\"ticks\":\"outside\",\"zeroline\":false,\"zerolinecolor\":\"rgb(36,36,36)\"},\"zaxis\":{\"backgroundcolor\":\"white\",\"gridcolor\":\"rgb(232,232,232)\",\"gridwidth\":2,\"linecolor\":\"rgb(36,36,36)\",\"showbackground\":true,\"showgrid\":false,\"showline\":true,\"ticks\":\"outside\",\"zeroline\":false,\"zerolinecolor\":\"rgb(36,36,36)\"}},\"shapedefaults\":{\"fillcolor\":\"black\",\"line\":{\"width\":0},\"opacity\":0.3},\"ternary\":{\"aaxis\":{\"gridcolor\":\"rgb(232,232,232)\",\"linecolor\":\"rgb(36,36,36)\",\"showgrid\":false,\"showline\":true,\"ticks\":\"outside\"},\"baxis\":{\"gridcolor\":\"rgb(232,232,232)\",\"linecolor\":\"rgb(36,36,36)\",\"showgrid\":false,\"showline\":true,\"ticks\":\"outside\"},\"bgcolor\":\"white\",\"caxis\":{\"gridcolor\":\"rgb(232,232,232)\",\"linecolor\":\"rgb(36,36,36)\",\"showgrid\":false,\"showline\":true,\"ticks\":\"outside\"}},\"title\":{\"x\":0.5,\"xanchor\":\"center\"},\"xaxis\":{\"automargin\":true,\"gridcolor\":\"rgb(232,232,232)\",\"linecolor\":\"rgb(36,36,36)\",\"showgrid\":true,\"showline\":true,\"ticks\":\"outside\",\"title\":{\"standoff\":15},\"zeroline\":false,\"zerolinecolor\":\"rgb(36,36,36)\"},\"yaxis\":{\"automargin\":true,\"gridcolor\":\"rgb(232,232,232)\",\"linecolor\":\"rgb(36,36,36)\",\"showgrid\":true,\"showline\":true,\"ticks\":\"outside\",\"title\":{\"standoff\":15},\"zeroline\":false,\"zerolinecolor\":\"rgb(36,36,36)\"},\"autosize\":true,\"height\":400,\"margin\":{\"b\":30,\"l\":30,\"r\":30,\"t\":30},\"width\":600}},\"xaxis\":{\"anchor\":\"y\",\"domain\":[0.0,1.0],\"title\":{\"text\":\"0\"}},\"yaxis\":{\"anchor\":\"x\",\"domain\":[0.0,1.0],\"title\":{\"text\":\"probability\"},\"range\":[0,0.2]},\"legend\":{\"tracegroupgap\":0},\"title\":{\"text\":\"Empirical Distribution of the TVD\"},\"barmode\":\"relative\",\"shapes\":[{\"line\":{\"color\":\"red\",\"width\":1},\"opacity\":1,\"type\":\"line\",\"x0\":0.03472890994914897,\"x1\":0.03472890994914897,\"xref\":\"x\",\"y0\":0,\"y1\":1,\"yref\":\"y domain\"}],\"annotations\":[{\"showarrow\":false,\"text\":\"\\u003cspan style=\\\"color:red\\\"\\u003eObserved TVD = 0.03\\u003c\\u002fspan\\u003e\",\"x\":0.04187649288304262,\"y\":0.1675}]},                        {\"responsive\": true}                    ).then(function(){\n",
       "                            \n",
       "var gd = document.getElementById('84386f3a-0484-44be-942e-b7a8503a2fab');\n",
       "var x = new MutationObserver(function (mutations, observer) {{\n",
       "        var display = window.getComputedStyle(gd).display;\n",
       "        if (!display || display === 'none') {{\n",
       "            console.log([gd, 'removed!']);\n",
       "            Plotly.purge(gd);\n",
       "            observer.disconnect();\n",
       "        }}\n",
       "}});\n",
       "\n",
       "// Listen for the removal of the full notebook cells\n",
       "var notebookContainer = gd.closest('#notebook-container');\n",
       "if (notebookContainer) {{\n",
       "    x.observe(notebookContainer, {childList: true});\n",
       "}}\n",
       "\n",
       "// Listen for the clearing of the current output cell\n",
       "var outputEl = gd.closest('.output');\n",
       "if (outputEl) {{\n",
       "    x.observe(outputEl, {childList: true});\n",
       "}}\n",
       "\n",
       "                        })                };                });            </script>        </div>"
      ]
     },
     "metadata": {},
     "output_type": "display_data"
    }
   ],
   "source": [
    "#plot the graph\n",
    "fig = px.histogram(pd.DataFrame(tvds_towers), x=0, nbins=50, histnorm='probability', \n",
    "                   title='Empirical Distribution of the TVD')\n",
    "#add line for observed TVD\n",
    "fig.add_vline(x=observed_tvd_tower, line_color='red', line_width=1, opacity=1)\n",
    "fig.add_annotation(text=f'<span style=\"color:red\">Observed TVD = {round(observed_tvd_tower, 2)}</span>',\n",
    "                   x=2.3 * observed_tvd_tower, showarrow=False, y=0.16)\n",
    "fig.update_layout(yaxis_range=[0, 0.2])\n",
    "fig.layout.annotations[-1].update(x=fig.layout.annotations[-1].x - 0.038, y=fig.layout.annotations[-1].y + 0.0075)\n",
    "\n",
    "# Show the plot\n",
    "fig.show()\n",
    "fig.write_html('mcar-name.html', include_plotlyjs='cdn')"
   ]
  },
  {
   "cell_type": "markdown",
   "metadata": {},
   "source": [
    "**conclusion**: MCAR"
   ]
  },
  {
   "cell_type": "markdown",
   "metadata": {},
   "source": [
    "## Step 4: Hypothesis Testing"
   ]
  },
  {
   "cell_type": "markdown",
   "metadata": {},
   "source": [
    "H0: The distribution of games won where ADC players had more damage on average than mid players is equal to the distribution of games won where mid players had more damage than ADC players\n",
    "\n",
    "H1: The distribution of games won where ADC players had more damage on average than mid players is not equal to the distribution of games won where mid players had more damage than ADC players"
   ]
  },
  {
   "cell_type": "code",
   "execution_count": null,
   "metadata": {},
   "outputs": [
    {
     "data": {
      "text/html": [
       "<div>\n",
       "<style scoped>\n",
       "    .dataframe tbody tr th:only-of-type {\n",
       "        vertical-align: middle;\n",
       "    }\n",
       "\n",
       "    .dataframe tbody tr th {\n",
       "        vertical-align: top;\n",
       "    }\n",
       "\n",
       "    .dataframe thead th {\n",
       "        text-align: right;\n",
       "    }\n",
       "</style>\n",
       "<table border=\"1\" class=\"dataframe\">\n",
       "  <thead>\n",
       "    <tr style=\"text-align: right;\">\n",
       "      <th></th>\n",
       "      <th>league</th>\n",
       "      <th>position</th>\n",
       "      <th>total damage dealt</th>\n",
       "      <th>game no.</th>\n",
       "    </tr>\n",
       "  </thead>\n",
       "  <tbody>\n",
       "    <tr>\n",
       "      <th>7</th>\n",
       "      <td>LCKC</td>\n",
       "      <td>mid</td>\n",
       "      <td>20690.0</td>\n",
       "      <td>0</td>\n",
       "    </tr>\n",
       "    <tr>\n",
       "      <th>8</th>\n",
       "      <td>LCKC</td>\n",
       "      <td>adc</td>\n",
       "      <td>26687.0</td>\n",
       "      <td>0</td>\n",
       "    </tr>\n",
       "    <tr>\n",
       "      <th>19</th>\n",
       "      <td>LCKC</td>\n",
       "      <td>mid</td>\n",
       "      <td>11261.0</td>\n",
       "      <td>1</td>\n",
       "    </tr>\n",
       "    <tr>\n",
       "      <th>...</th>\n",
       "      <td>...</td>\n",
       "      <td>...</td>\n",
       "      <td>...</td>\n",
       "      <td>...</td>\n",
       "    </tr>\n",
       "    <tr>\n",
       "      <th>148971</th>\n",
       "      <td>DCup</td>\n",
       "      <td>adc</td>\n",
       "      <td>30424.0</td>\n",
       "      <td>12062</td>\n",
       "    </tr>\n",
       "    <tr>\n",
       "      <th>148987</th>\n",
       "      <td>DCup</td>\n",
       "      <td>mid</td>\n",
       "      <td>19185.0</td>\n",
       "      <td>12063</td>\n",
       "    </tr>\n",
       "    <tr>\n",
       "      <th>148988</th>\n",
       "      <td>DCup</td>\n",
       "      <td>adc</td>\n",
       "      <td>28282.0</td>\n",
       "      <td>12063</td>\n",
       "    </tr>\n",
       "  </tbody>\n",
       "</table>\n",
       "<p>24128 rows × 4 columns</p>\n",
       "</div>"
      ],
      "text/plain": [
       "       league position  total damage dealt  game no.\n",
       "7        LCKC      mid             20690.0         0\n",
       "8        LCKC      adc             26687.0         0\n",
       "19       LCKC      mid             11261.0         1\n",
       "...       ...      ...                 ...       ...\n",
       "148971   DCup      adc             30424.0     12062\n",
       "148987   DCup      mid             19185.0     12063\n",
       "148988   DCup      adc             28282.0     12063\n",
       "\n",
       "[24128 rows x 4 columns]"
      ]
     },
     "execution_count": 65,
     "metadata": {},
     "output_type": "execute_result"
    }
   ],
   "source": [
    "#create new df from mid_adc df with result == True\n",
    "wins_only = mid_adc[mid_adc['result'] == True]\n",
    "wins_only.dropna(subset=['total damage dealt'], inplace=True)\n",
    "#isolate columns needed\n",
    "wins_only = wins_only[['league', 'position', 'total damage dealt']]\n",
    "\n",
    "#create array where we have two identical values representing each game\n",
    "arr = np.arange(0, wins_only.shape[0] / 2)\n",
    "arr = np.repeat(arr, 2)\n",
    "\n",
    "#assign array to df\n",
    "wins_only['game no.'] = arr.astype(int)\n",
    "wins_only\n"
   ]
  },
  {
   "cell_type": "code",
   "execution_count": null,
   "metadata": {},
   "outputs": [
    {
     "data": {
      "text/html": [
       "<div>\n",
       "<style scoped>\n",
       "    .dataframe tbody tr th:only-of-type {\n",
       "        vertical-align: middle;\n",
       "    }\n",
       "\n",
       "    .dataframe tbody tr th {\n",
       "        vertical-align: top;\n",
       "    }\n",
       "\n",
       "    .dataframe thead th {\n",
       "        text-align: right;\n",
       "    }\n",
       "</style>\n",
       "<table border=\"1\" class=\"dataframe\">\n",
       "  <thead>\n",
       "    <tr style=\"text-align: right;\">\n",
       "      <th>position</th>\n",
       "      <th>adc</th>\n",
       "      <th>mid</th>\n",
       "    </tr>\n",
       "    <tr>\n",
       "      <th>game no.</th>\n",
       "      <th></th>\n",
       "      <th></th>\n",
       "    </tr>\n",
       "  </thead>\n",
       "  <tbody>\n",
       "    <tr>\n",
       "      <th>0</th>\n",
       "      <td>26687.0</td>\n",
       "      <td>20690.0</td>\n",
       "    </tr>\n",
       "    <tr>\n",
       "      <th>1</th>\n",
       "      <td>16970.0</td>\n",
       "      <td>11261.0</td>\n",
       "    </tr>\n",
       "    <tr>\n",
       "      <th>2</th>\n",
       "      <td>9618.0</td>\n",
       "      <td>12577.0</td>\n",
       "    </tr>\n",
       "    <tr>\n",
       "      <th>...</th>\n",
       "      <td>...</td>\n",
       "      <td>...</td>\n",
       "    </tr>\n",
       "    <tr>\n",
       "      <th>12061</th>\n",
       "      <td>11977.0</td>\n",
       "      <td>14994.0</td>\n",
       "    </tr>\n",
       "    <tr>\n",
       "      <th>12062</th>\n",
       "      <td>30424.0</td>\n",
       "      <td>15279.0</td>\n",
       "    </tr>\n",
       "    <tr>\n",
       "      <th>12063</th>\n",
       "      <td>28282.0</td>\n",
       "      <td>19185.0</td>\n",
       "    </tr>\n",
       "  </tbody>\n",
       "</table>\n",
       "<p>12064 rows × 2 columns</p>\n",
       "</div>"
      ],
      "text/plain": [
       "position      adc      mid\n",
       "game no.                  \n",
       "0         26687.0  20690.0\n",
       "1         16970.0  11261.0\n",
       "2          9618.0  12577.0\n",
       "...           ...      ...\n",
       "12061     11977.0  14994.0\n",
       "12062     30424.0  15279.0\n",
       "12063     28282.0  19185.0\n",
       "\n",
       "[12064 rows x 2 columns]"
      ]
     },
     "execution_count": 66,
     "metadata": {},
     "output_type": "execute_result"
    }
   ],
   "source": [
    "#pivot table to see total damage dealt for mid players and adc players per game.\n",
    "pivoted_wins = wins_only.pivot(columns='position', index='game no.', values='total damage dealt')\n",
    "pivoted_wins"
   ]
  },
  {
   "cell_type": "code",
   "execution_count": null,
   "metadata": {},
   "outputs": [
    {
     "data": {
      "text/html": [
       "<div>\n",
       "<style scoped>\n",
       "    .dataframe tbody tr th:only-of-type {\n",
       "        vertical-align: middle;\n",
       "    }\n",
       "\n",
       "    .dataframe tbody tr th {\n",
       "        vertical-align: top;\n",
       "    }\n",
       "\n",
       "    .dataframe thead th {\n",
       "        text-align: right;\n",
       "    }\n",
       "</style>\n",
       "<table border=\"1\" class=\"dataframe\">\n",
       "  <thead>\n",
       "    <tr style=\"text-align: right;\">\n",
       "      <th>position</th>\n",
       "      <th>mid</th>\n",
       "      <th>role</th>\n",
       "    </tr>\n",
       "    <tr>\n",
       "      <th>game no.</th>\n",
       "      <th></th>\n",
       "      <th></th>\n",
       "    </tr>\n",
       "  </thead>\n",
       "  <tbody>\n",
       "    <tr>\n",
       "      <th>2</th>\n",
       "      <td>12577.0</td>\n",
       "      <td>mid</td>\n",
       "    </tr>\n",
       "    <tr>\n",
       "      <th>3</th>\n",
       "      <td>19759.0</td>\n",
       "      <td>mid</td>\n",
       "    </tr>\n",
       "    <tr>\n",
       "      <th>4</th>\n",
       "      <td>17636.0</td>\n",
       "      <td>mid</td>\n",
       "    </tr>\n",
       "    <tr>\n",
       "      <th>...</th>\n",
       "      <td>...</td>\n",
       "      <td>...</td>\n",
       "    </tr>\n",
       "    <tr>\n",
       "      <th>12055</th>\n",
       "      <td>24403.0</td>\n",
       "      <td>mid</td>\n",
       "    </tr>\n",
       "    <tr>\n",
       "      <th>12057</th>\n",
       "      <td>22281.0</td>\n",
       "      <td>mid</td>\n",
       "    </tr>\n",
       "    <tr>\n",
       "      <th>12061</th>\n",
       "      <td>14994.0</td>\n",
       "      <td>mid</td>\n",
       "    </tr>\n",
       "  </tbody>\n",
       "</table>\n",
       "<p>5486 rows × 2 columns</p>\n",
       "</div>"
      ],
      "text/plain": [
       "position      mid role\n",
       "game no.              \n",
       "2         12577.0  mid\n",
       "3         19759.0  mid\n",
       "4         17636.0  mid\n",
       "...           ...  ...\n",
       "12055     24403.0  mid\n",
       "12057     22281.0  mid\n",
       "12061     14994.0  mid\n",
       "\n",
       "[5486 rows x 2 columns]"
      ]
     },
     "execution_count": 67,
     "metadata": {},
     "output_type": "execute_result"
    }
   ],
   "source": [
    "#create a df of games where mid has more damage than adc\n",
    "mid_more_damage = pivoted_wins.loc[pivoted_wins['mid'] > pivoted_wins['adc']]\n",
    "mid_more_damage= mid_more_damage.drop(columns= 'adc')\n",
    "mid_more_damage['role']= 'mid'\n",
    "mid_more_damage"
   ]
  },
  {
   "cell_type": "code",
   "execution_count": null,
   "metadata": {},
   "outputs": [
    {
     "data": {
      "text/html": [
       "<div>\n",
       "<style scoped>\n",
       "    .dataframe tbody tr th:only-of-type {\n",
       "        vertical-align: middle;\n",
       "    }\n",
       "\n",
       "    .dataframe tbody tr th {\n",
       "        vertical-align: top;\n",
       "    }\n",
       "\n",
       "    .dataframe thead th {\n",
       "        text-align: right;\n",
       "    }\n",
       "</style>\n",
       "<table border=\"1\" class=\"dataframe\">\n",
       "  <thead>\n",
       "    <tr style=\"text-align: right;\">\n",
       "      <th>position</th>\n",
       "      <th>adc</th>\n",
       "      <th>role</th>\n",
       "    </tr>\n",
       "    <tr>\n",
       "      <th>game no.</th>\n",
       "      <th></th>\n",
       "      <th></th>\n",
       "    </tr>\n",
       "  </thead>\n",
       "  <tbody>\n",
       "    <tr>\n",
       "      <th>0</th>\n",
       "      <td>26687.0</td>\n",
       "      <td>adc</td>\n",
       "    </tr>\n",
       "    <tr>\n",
       "      <th>1</th>\n",
       "      <td>16970.0</td>\n",
       "      <td>adc</td>\n",
       "    </tr>\n",
       "    <tr>\n",
       "      <th>5</th>\n",
       "      <td>17519.0</td>\n",
       "      <td>adc</td>\n",
       "    </tr>\n",
       "    <tr>\n",
       "      <th>...</th>\n",
       "      <td>...</td>\n",
       "      <td>...</td>\n",
       "    </tr>\n",
       "    <tr>\n",
       "      <th>12060</th>\n",
       "      <td>11584.0</td>\n",
       "      <td>adc</td>\n",
       "    </tr>\n",
       "    <tr>\n",
       "      <th>12062</th>\n",
       "      <td>30424.0</td>\n",
       "      <td>adc</td>\n",
       "    </tr>\n",
       "    <tr>\n",
       "      <th>12063</th>\n",
       "      <td>28282.0</td>\n",
       "      <td>adc</td>\n",
       "    </tr>\n",
       "  </tbody>\n",
       "</table>\n",
       "<p>6577 rows × 2 columns</p>\n",
       "</div>"
      ],
      "text/plain": [
       "position      adc role\n",
       "game no.              \n",
       "0         26687.0  adc\n",
       "1         16970.0  adc\n",
       "5         17519.0  adc\n",
       "...           ...  ...\n",
       "12060     11584.0  adc\n",
       "12062     30424.0  adc\n",
       "12063     28282.0  adc\n",
       "\n",
       "[6577 rows x 2 columns]"
      ]
     },
     "execution_count": 68,
     "metadata": {},
     "output_type": "execute_result"
    }
   ],
   "source": [
    "#create a df of games where adc has more damage than mid\n",
    "adc_more_damage = pivoted_wins.loc[pivoted_wins['adc'] > pivoted_wins['mid']]\n",
    "adc_more_damage= adc_more_damage.drop(columns= 'mid')\n",
    "adc_more_damage['role']= 'adc'\n",
    "adc_more_damage"
   ]
  },
  {
   "cell_type": "markdown",
   "metadata": {},
   "source": [
    "Why we chose to use difference in means for our hypothesis test: both distributions have the same center and similar shapes"
   ]
  },
  {
   "cell_type": "code",
   "execution_count": null,
   "metadata": {},
   "outputs": [
    {
     "data": {
      "text/html": [
       "<div>                            <div id=\"cc4722ad-8ce2-47c0-bc64-37c86c0eaec1\" class=\"plotly-graph-div\" style=\"height:400px; width:600px;\"></div>            <script type=\"text/javascript\">                require([\"plotly\"], function(Plotly) {                    window.PLOTLYENV=window.PLOTLYENV || {};                                    if (document.getElementById(\"cc4722ad-8ce2-47c0-bc64-37c86c0eaec1\")) {                    Plotly.newPlot(                        \"cc4722ad-8ce2-47c0-bc64-37c86c0eaec1\",                        [{\"alignmentgroup\":\"True\",\"bingroup\":\"x\",\"hovertemplate\":\"position=adc\\u003cbr\\u003evalue=%{x}\\u003cbr\\u003ecount=%{y}\\u003cextra\\u003e\\u003c\\u002fextra\\u003e\",\"legendgroup\":\"adc\",\"marker\":{\"color\":\"#1F77B4\",\"pattern\":{\"shape\":\"\"}},\"name\":\"adc\",\"offsetgroup\":\"adc\",\"orientation\":\"v\",\"showlegend\":true,\"x\":[26687.0,16970.0,9618.0,8749.0,6416.0,17519.0,23477.0,9770.0,23389.0,11825.0,44645.0,29595.0,40399.0,21906.0,19204.0,16971.0,22368.0,11152.0,14551.0,29047.0,13939.0,18437.0,25527.0,17702.0,12605.0,16386.0,18395.0,13017.0,14870.0,18773.0,4895.0,14660.0,21183.0,15437.0,16327.0,34290.0,11947.0,13877.0,20359.0,16212.0,14635.0,17315.0,10936.0,29560.0,11389.0,11643.0,21481.0,15091.0,21051.0,28209.0,13876.0,12068.0,12986.0,8631.0,16158.0,12406.0,23864.0,41305.0,24286.0,16536.0,16667.0,12717.0,19938.0,27901.0,19903.0,22084.0,7037.0,16063.0,16900.0,19863.0,24063.0,10151.0,11724.0,16179.0,30483.0,16493.0,20462.0,69418.0,31811.0,17454.0,21928.0,22609.0,13474.0,20386.0,18313.0,28210.0,17997.0,20816.0,15460.0,34929.0,20672.0,18674.0,6753.0,11447.0,9841.0,16136.0,18329.0,16494.0,19180.0,17400.0,12193.0,15084.0,37313.0,12409.0,21095.0,29973.0,11267.0,13842.0,14339.0,23085.0,20950.0,21316.0,29197.0,20348.0,14200.0,14004.0,14915.0,28746.0,13606.0,14735.0,9361.0,18899.0,14094.0,28662.0,21510.0,15766.0,13922.0,15122.0,13246.0,31390.0,13297.0,32497.0,17703.0,34582.0,30750.0,28070.0,22408.0,16646.0,36434.0,20479.0,22700.0,22947.0,18225.0,8940.0,11257.0,21079.0,13351.0,20067.0,10989.0,24808.0,25505.0,13884.0,18164.0,14689.0,14971.0,12512.0,14836.0,13764.0,12865.0,19784.0,15593.0,8025.0,24155.0,16094.0,18892.0,30305.0,15807.0,13363.0,12857.0,17191.0,12629.0,13310.0,9290.0,36821.0,12254.0,31680.0,11423.0,39302.0,10591.0,19449.0,28621.0,13689.0,14019.0,12153.0,13268.0,19698.0,17132.0,34078.0,14332.0,34962.0,16204.0,6792.0,29698.0,20800.0,13145.0,17567.0,22846.0,20443.0,14675.0,12021.0,15863.0,17021.0,11791.0,23105.0,43237.0,13749.0,32834.0,16259.0,18174.0,15903.0,14971.0,17683.0,23019.0,10283.0,21589.0,13734.0,28197.0,37772.0,19099.0,34037.0,14833.0,16534.0,18532.0,7051.0,26850.0,21596.0,24388.0,27101.0,16379.0,18033.0,22428.0,14064.0,29750.0,15291.0,34924.0,11483.0,15355.0,13221.0,14775.0,48583.0,14541.0,11838.0,6938.0,16405.0,13149.0,10825.0,19485.0,20498.0,10623.0,20423.0,28901.0,10901.0,28058.0,12041.0,16448.0,36584.0,16022.0,27317.0,17761.0,12260.0,14882.0,11399.0,11476.0,11613.0,16207.0,12024.0,12849.0,6165.0,28764.0,18726.0,19142.0,16410.0,12712.0,10945.0,7469.0,21952.0,32676.0,11898.0,22132.0,15208.0,29631.0,19497.0,16871.0,21852.0,16919.0,25510.0,18458.0,13005.0,11551.0,20332.0,22130.0,10884.0,30765.0,20771.0,15469.0,38204.0,17603.0,36246.0,16523.0,13690.0,22189.0,16896.0,17701.0,29089.0,12866.0,14461.0,39049.0,13317.0,12539.0,23929.0,13542.0,11024.0,25209.0,15350.0,22946.0,19659.0,24442.0,13455.0,17085.0,34924.0,15615.0,37139.0,11548.0,26232.0,16483.0,16595.0,13337.0,37867.0,22026.0,23028.0,22250.0,8918.0,18143.0,17215.0,27214.0,22055.0,14533.0,33635.0,8383.0,44992.0,11690.0,22501.0,22802.0,16345.0,23660.0,16741.0,20853.0,27789.0,11027.0,13706.0,20150.0,21983.0,13031.0,42499.0,32494.0,24420.0,23106.0,20132.0,15666.0,21169.0,15144.0,26979.0,16323.0,18791.0,23916.0,14463.0,24933.0,17142.0,20134.0,15145.0,24750.0,13389.0,12326.0,29975.0,23009.0,15775.0,23993.0,6588.0,25368.0,16142.0,14844.0,21484.0,25147.0,13680.0,25635.0,14877.0,26426.0,34041.0,4926.0,29492.0,25033.0,8827.0,39344.0,23957.0,30261.0,10215.0,13749.0,20576.0,15329.0,26799.0,23618.0,29885.0,22259.0,20766.0,15316.0,26073.0,11854.0,18010.0,19504.0,27301.0,19921.0,17169.0,15419.0,12101.0,8313.0,8168.0,16881.0,23867.0,12408.0,15147.0,15547.0,21474.0,14430.0,15164.0,27268.0,21347.0,19518.0,11993.0,24850.0,15093.0,15472.0,9824.0,26055.0,20360.0,30688.0,16754.0,12825.0,21852.0,15666.0,17839.0,13527.0,22314.0,14512.0,28735.0,19401.0,11433.0,21225.0,11520.0,39603.0,8908.0,28796.0,22431.0,24386.0,18385.0,15437.0,18592.0,11484.0,11474.0,28151.0,33258.0,11441.0,32115.0,17432.0,19282.0,14203.0,19973.0,16812.0,8610.0,17128.0,13827.0,29801.0,24147.0,23177.0,18489.0,30384.0,24107.0,8031.0,20763.0,22078.0,12113.0,10503.0,18503.0,15175.0,7792.0,21808.0,19565.0,25865.0,11214.0,15194.0,20589.0,17248.0,48400.0,21461.0,15069.0,19955.0,17643.0,12010.0,16898.0,14462.0,14200.0,18743.0,11122.0,27726.0,21818.0,8395.0,15436.0,24409.0,15588.0,19774.0,18628.0,11805.0,12166.0,14298.0,35647.0,31565.0,19923.0,15224.0,9426.0,17228.0,19441.0,31059.0,19700.0,28089.0,27992.0,14934.0,25190.0,16985.0,8999.0,19453.0,12963.0,29115.0,11081.0,18267.0,7882.0,24052.0,14803.0,14450.0,11238.0,12468.0,16379.0,28386.0,14894.0,8799.0,34637.0,39197.0,19523.0,25149.0,17572.0,12078.0,12856.0,10610.0,20294.0,33500.0,9494.0,35968.0,13622.0,21070.0,20865.0,6739.0,17274.0,15277.0,14956.0,18016.0,23574.0,14081.0,22024.0,20466.0,26073.0,13818.0,18503.0,17234.0,14388.0,9598.0,24664.0,20425.0,12129.0,22788.0,11772.0,19029.0,28580.0,17857.0,31165.0,10329.0,6731.0,16634.0,20594.0,10747.0,7316.0,5687.0,50582.0,29722.0,31904.0,16596.0,20761.0,21624.0,16950.0,15579.0,27893.0,21634.0,33290.0,11330.0,14278.0,21260.0,19645.0,12988.0,22922.0,11847.0,21541.0,17571.0,29579.0,14202.0,9727.0,17704.0,14875.0,14764.0,23440.0,12629.0,16406.0,8121.0,17294.0,10263.0,13068.0,15770.0,19522.0,21934.0,23101.0,10862.0,15934.0,21927.0,14254.0,10971.0,5740.0,14170.0,7343.0,39542.0,15895.0,35986.0,27225.0,15724.0,28210.0,18484.0,18850.0,20494.0,10799.0,14649.0,20285.0,20884.0,33460.0,8965.0,21458.0,15978.0,18722.0,29158.0,8770.0,25845.0,15844.0,21643.0,14218.0,22596.0,20211.0,10320.0,27088.0,23488.0,15273.0,17772.0,12844.0,39366.0,26183.0,18160.0,8747.0,27023.0,16623.0,21110.0,7533.0,15062.0,38124.0,19297.0,7184.0,5271.0,17237.0,16387.0,7282.0,16462.0,7331.0,20572.0,13115.0,11206.0,15298.0,13628.0,29323.0,29163.0,20950.0,20571.0,12065.0,24493.0,12233.0,15840.0,15555.0,18599.0,16045.0,22031.0,21540.0,20453.0,30133.0,20201.0,13337.0,25655.0,29111.0,11201.0,9579.0,24310.0,12817.0,6150.0,15569.0,32143.0,18160.0,14073.0,26905.0,17387.0,19120.0,9021.0,16164.0,29376.0,17202.0,21464.0,16501.0,27125.0,16740.0,32864.0,20735.0,35084.0,17624.0,23081.0,14959.0,34836.0,23401.0,21217.0,18797.0,15653.0,15376.0,22499.0,12388.0,10767.0,46289.0,18534.0,21474.0,19740.0,18116.0,13241.0,40129.0,15697.0,14814.0,16846.0,21053.0,24544.0,10856.0,26420.0,26682.0,8355.0,39044.0,15379.0,10912.0,7779.0,13660.0,12270.0,10346.0,17299.0,31313.0,23495.0,21228.0,17499.0,13178.0,8728.0,16833.0,16117.0,13781.0,6787.0,30440.0,15781.0,10406.0,30480.0,26903.0,10627.0,15067.0,16323.0,22479.0,19918.0,32346.0,28195.0,17467.0,19036.0,16403.0,14455.0,24357.0,32937.0,21783.0,22102.0,36419.0,18989.0,4082.0,9194.0,26198.0,13601.0,13971.0,27134.0,13474.0,16721.0,18487.0,14260.0,12587.0,9822.0,39582.0,13641.0,13802.0,18595.0,12563.0,13492.0,21921.0,22629.0,17288.0,30782.0,21987.0,11194.0,22373.0,13307.0,17183.0,31532.0,25994.0,25465.0,14107.0,19289.0,28996.0,10706.0,29599.0,14142.0,13640.0,13981.0,30028.0,17908.0,14665.0,12201.0,13831.0,11763.0,19410.0,25452.0,19084.0,7802.0,8370.0,25023.0,21032.0,11660.0,21967.0,11910.0,15082.0,14949.0,23994.0,12371.0,25459.0,26374.0,17314.0,10682.0,18263.0,23513.0,43558.0,18849.0,23038.0,17172.0,15630.0,14845.0,19991.0,27009.0,21647.0,25062.0,16905.0,10837.0,35172.0,45702.0,23079.0,23164.0,13054.0,20825.0,27089.0,10691.0,15120.0,16279.0,25105.0,13724.0,17115.0,11362.0,17338.0,25225.0,27113.0,11460.0,13192.0,8747.0,30677.0,21843.0,23243.0,14859.0,17554.0,18187.0,10180.0,15872.0,17463.0,22378.0,21685.0,10188.0,15777.0,17840.0,4454.0,13965.0,16944.0,16898.0,23441.0,17428.0,14358.0,22970.0,23567.0,18549.0,23818.0,9101.0,13939.0,21203.0,5659.0,11847.0,22471.0,16798.0,10451.0,24775.0,11931.0,5394.0,18437.0,22122.0,15197.0,19548.0,25662.0,21412.0,26867.0,10017.0,12645.0,15478.0,23677.0,20513.0,16905.0,10923.0,18626.0,18357.0,17631.0,34711.0,23415.0,16607.0,28761.0,24646.0,6215.0,6085.0,15232.0,15396.0,20421.0,12046.0,18185.0,14920.0,5530.0,44743.0,36703.0,15387.0,20796.0,10364.0,18036.0,9279.0,17718.0,30861.0,17321.0,10127.0,10243.0,30356.0,26626.0,17480.0,12382.0,25146.0,25677.0,18442.0,33349.0,13218.0,15437.0,18860.0,24423.0,10692.0,10260.0,28389.0,29537.0,14333.0,27019.0,14092.0,11123.0,33959.0,10666.0,17235.0,13064.0,27259.0,12174.0,18536.0,12478.0,2879.0,21716.0,32068.0,15341.0,17378.0,9316.0,17599.0,27416.0,37754.0,22229.0,29219.0,10194.0,9029.0,19615.0,14932.0,11538.0,18167.0,11273.0,4581.0,25460.0,15019.0,26946.0,11170.0,11698.0,19199.0,11144.0,22386.0,11181.0,13304.0,19495.0,10440.0,19395.0,26807.0,16237.0,15578.0,25598.0,16504.0,14664.0,19878.0,25156.0,9423.0,30010.0,11461.0,21637.0,20796.0,26676.0,12924.0,23024.0,27342.0,15542.0,11374.0,15263.0,15342.0,11434.0,13726.0,32298.0,18736.0,13459.0,22191.0,31696.0,9394.0,14414.0,9679.0,16151.0,14915.0,24681.0,28937.0,25027.0,15396.0,11255.0,12110.0,14248.0,27023.0,36507.0,27271.0,15400.0,11039.0,18807.0,32440.0,17719.0,29860.0,25889.0,13644.0,19963.0,10589.0,11493.0,13407.0,52045.0,24399.0,6110.0,6485.0,15073.0,9982.0,14091.0,22851.0,8253.0,14603.0,39062.0,55220.0,15543.0,24404.0,17397.0,52306.0,24749.0,11567.0,26374.0,12216.0,14910.0,11431.0,21613.0,24107.0,18407.0,17068.0,7691.0,17172.0,23023.0,21894.0,24912.0,15248.0,24726.0,21023.0,22490.0,23446.0,19231.0,23440.0,4614.0,18990.0,19735.0,30145.0,20776.0,15884.0,20220.0,14504.0,14408.0,21812.0,20571.0,37343.0,7541.0,13241.0,26686.0,25250.0,14890.0,7741.0,11474.0,19268.0,14828.0,12928.0,12101.0,16002.0,17840.0,15158.0,16270.0,14502.0,17130.0,9922.0,23195.0,12868.0,14785.0,14664.0,13106.0,19996.0,12046.0,29664.0,15763.0,17697.0,19194.0,18766.0,9421.0,10702.0,11475.0,21749.0,30176.0,17419.0,12833.0,9532.0,45248.0,22347.0,30284.0,25657.0,14355.0,11997.0,25575.0,4906.0,29949.0,13413.0,28011.0,19541.0,15500.0,29945.0,20014.0,19563.0,13264.0,13407.0,20201.0,13360.0,20086.0,18259.0,22193.0,12113.0,32546.0,15116.0,27930.0,9167.0,13633.0,57061.0,15548.0,23199.0,15832.0,14876.0,8596.0,16999.0,39090.0,13347.0,24426.0,27147.0,7685.0,14137.0,12072.0,7352.0,18589.0,22430.0,25417.0,24316.0,15574.0,16988.0,13085.0,11273.0,13597.0,12803.0,22596.0,19214.0,22687.0,31958.0,26618.0,14017.0,23447.0,15036.0,10063.0,20117.0,36902.0,23735.0,21660.0,18686.0,14563.0,17178.0,26477.0,15901.0,22638.0,16646.0,7676.0,28043.0,8230.0,14825.0,19696.0,41758.0,18185.0,33629.0,15166.0,15812.0,6664.0,14860.0,10206.0,15785.0,27616.0,13592.0,22700.0,14576.0,26826.0,16273.0,18752.0,7535.0,12520.0,21479.0,14572.0,21056.0,12496.0,15818.0,8993.0,25887.0,21403.0,23911.0,14513.0,12702.0,7093.0,5143.0,9619.0,23238.0,11858.0,17299.0,35503.0,17467.0,11837.0,17019.0,15234.0,18361.0,25030.0,9313.0,16146.0,21721.0,15581.0,49595.0,41262.0,21121.0,31413.0,20212.0,21056.0,8739.0,16997.0,20298.0,18442.0,20132.0,24843.0,15276.0,28268.0,27761.0,7802.0,32124.0,3976.0,25149.0,14793.0,35335.0,24042.0,22162.0,15641.0,19681.0,15200.0,19270.0,26269.0,8606.0,8924.0,14123.0,10227.0,24106.0,14390.0,18939.0,11665.0,7412.0,8072.0,21946.0,22927.0,11620.0,17103.0,17189.0,21525.0,34730.0,21256.0,14362.0,15019.0,16802.0,5390.0,18086.0,15234.0,15181.0,18443.0,16840.0,21022.0,21525.0,12606.0,5767.0,25962.0,13108.0,35381.0,17716.0,19963.0,22820.0,14875.0,19167.0,20020.0,22734.0,7861.0,19760.0,12817.0,17726.0,18753.0,17128.0,14819.0,22599.0,24369.0,18559.0,15496.0,13821.0,33948.0,12333.0,22239.0,17768.0,14928.0,29948.0,21283.0,15608.0,17029.0,25925.0,13176.0,37859.0,13559.0,22523.0,41156.0,20795.0,12698.0,9954.0,49282.0,11181.0,20952.0,22119.0,24776.0,29125.0,23168.0,18287.0,17063.0,12964.0,21709.0,19083.0,20067.0,16914.0,23419.0,15111.0,13674.0,12915.0,14440.0,24139.0,21357.0,21375.0,13555.0,12041.0,20491.0,12696.0,15558.0,31006.0,16181.0,9528.0,22500.0,21335.0,24099.0,20771.0,9533.0,27055.0,8101.0,24148.0,14945.0,22463.0,19975.0,32937.0,24717.0,12600.0,9672.0,19289.0,12693.0,16550.0,21770.0,15549.0,28217.0,13072.0,18947.0,27913.0,25263.0,12992.0,11455.0,7133.0,8247.0,12787.0,29320.0,32974.0,16970.0,7100.0,21880.0,19591.0,7513.0,14188.0,17154.0,18535.0,14647.0,20039.0,20038.0,26793.0,15214.0,11655.0,26469.0,12043.0,20234.0,10677.0,19003.0,10166.0,15013.0,15033.0,24213.0,20554.0,19609.0,20058.0,27004.0,16493.0,16688.0,21420.0,22684.0,21853.0,23347.0,29281.0,27031.0,16274.0,22398.0,19784.0,9178.0,9875.0,10093.0,10571.0,21910.0,13703.0,24685.0,33879.0,19791.0,32846.0,8533.0,28928.0,21990.0,26606.0,38841.0,20054.0,16342.0,22291.0,22706.0,10337.0,18490.0,27132.0,20742.0,7154.0,30646.0,13119.0,15275.0,11147.0,11884.0,29538.0,30461.0,20585.0,8181.0,13583.0,11434.0,16139.0,13223.0,20233.0,11852.0,11919.0,20506.0,28209.0,10431.0,14770.0,26383.0,18683.0,27589.0,31106.0,20591.0,12735.0,17232.0,21669.0,17196.0,8700.0,52959.0,15639.0,22789.0,10653.0,16719.0,12254.0,22386.0,16295.0,32341.0,28047.0,26199.0,9598.0,14851.0,13942.0,7149.0,23336.0,24891.0,13530.0,12603.0,9270.0,32188.0,12513.0,18844.0,24367.0,15407.0,25274.0,16167.0,17772.0,13662.0,25550.0,10714.0,13787.0,16566.0,22987.0,12260.0,12047.0,25609.0,21125.0,19941.0,22765.0,26284.0,11279.0,9965.0,12368.0,31437.0,26313.0,22048.0,23185.0,23087.0,25855.0,8528.0,10780.0,10021.0,21007.0,21611.0,18839.0,11972.0,20354.0,13937.0,25338.0,28891.0,22802.0,16889.0,14497.0,16711.0,11094.0,19763.0,31931.0,32939.0,21566.0,14678.0,28157.0,27557.0,13611.0,17688.0,17280.0,19293.0,17950.0,19605.0,30358.0,13594.0,22770.0,18622.0,26060.0,34688.0,14509.0,13755.0,17791.0,21786.0,10331.0,24103.0,12295.0,5758.0,23018.0,20934.0,11101.0,11567.0,8929.0,16998.0,16753.0,20450.0,15255.0,10436.0,19765.0,10101.0,18015.0,24744.0,30997.0,22403.0,20933.0,11904.0,20752.0,18681.0,9284.0,20370.0,7341.0,14294.0,13483.0,17034.0,26297.0,7268.0,14215.0,28813.0,9537.0,22842.0,13457.0,16195.0,21020.0,17789.0,17695.0,7701.0,22485.0,28323.0,17085.0,22514.0,15877.0,16651.0,26050.0,10469.0,17723.0,16219.0,18417.0,12434.0,22488.0,14414.0,9002.0,19210.0,28088.0,20331.0,15054.0,29729.0,7860.0,23643.0,19681.0,15739.0,21281.0,15487.0,37126.0,25020.0,11955.0,42861.0,26411.0,14620.0,23280.0,12405.0,14116.0,20641.0,13207.0,12270.0,15727.0,23871.0,12966.0,20777.0,29046.0,20790.0,33072.0,7936.0,14282.0,15070.0,38241.0,14182.0,34537.0,12643.0,31134.0,12303.0,19973.0,14903.0,20409.0,21657.0,42118.0,27727.0,19641.0,19066.0,30947.0,22679.0,16824.0,8496.0,13131.0,24533.0,22409.0,11494.0,29746.0,18126.0,12629.0,11710.0,5097.0,7368.0,8825.0,27047.0,13678.0,13782.0,21315.0,24971.0,12733.0,34827.0,9376.0,20259.0,17763.0,17656.0,15157.0,6262.0,14553.0,37766.0,15903.0,9633.0,28187.0,22791.0,17793.0,15969.0,38057.0,27840.0,27612.0,19885.0,29725.0,24008.0,11583.0,8837.0,19443.0,12488.0,6994.0,31823.0,6458.0,8378.0,12401.0,28587.0,16180.0,18382.0,11035.0,24734.0,12068.0,12760.0,18286.0,8758.0,23413.0,23711.0,18922.0,4516.0,15144.0,20912.0,15274.0,17669.0,27800.0,26659.0,36106.0,39188.0,27928.0,12470.0,9968.0,10940.0,21545.0,21807.0,6872.0,12734.0,13991.0,12317.0,12211.0,12311.0,8613.0,19399.0,32455.0,21359.0,17809.0,13851.0,13820.0,25627.0,12731.0,17445.0,24900.0,18291.0,32775.0,14644.0,31583.0,20200.0,19053.0,14968.0,21212.0,16990.0,16003.0,10952.0,13871.0,17307.0,20254.0,15873.0,13086.0,6148.0,7258.0,18782.0,11996.0,19100.0,12457.0,39453.0,3872.0,56492.0,21931.0,13171.0,25173.0,9043.0,16925.0,15712.0,16352.0,16441.0,26075.0,9544.0,21085.0,42409.0,17107.0,17813.0,36154.0,39054.0,32550.0,27081.0,7150.0,12419.0,17532.0,10645.0,29966.0,15446.0,20270.0,17788.0,9674.0,12554.0,11878.0,15992.0,38062.0,16763.0,15870.0,23950.0,18558.0,13614.0,19002.0,18653.0,47024.0,9802.0,7726.0,33439.0,16851.0,9241.0,10430.0,22346.0,32739.0,37789.0,21418.0,18422.0,30489.0,18387.0,37568.0,15399.0,16154.0,12174.0,19596.0,13131.0,12397.0,21442.0,6659.0,17521.0,14189.0,26972.0,19293.0,14084.0,14221.0,26244.0,18114.0,17362.0,11269.0,13198.0,11920.0,22840.0,20458.0,14894.0,22857.0,29507.0,15742.0,28219.0,11073.0,17833.0,17075.0,10641.0,15754.0,22612.0,18709.0,7874.0,29647.0,17103.0,17182.0,19976.0,11534.0,19188.0,18800.0,7937.0,20907.0,19928.0,8742.0,9324.0,31201.0,23793.0,10251.0,9302.0,13754.0,22151.0,20094.0,23433.0,31746.0,20243.0,23335.0,23335.0,31081.0,15527.0,20975.0,18526.0,10733.0,6392.0,20399.0,15849.0,18569.0,11154.0,6931.0,8339.0,20502.0,10082.0,26529.0,13174.0,10530.0,14400.0,36626.0,19608.0,8244.0,18593.0,10293.0,14679.0,16911.0,8739.0,19874.0,4007.0,10008.0,10468.0,8007.0,16101.0,19536.0,20219.0,25245.0,16269.0,11082.0,23383.0,13183.0,22815.0,19385.0,14687.0,13055.0,14381.0,15968.0,22221.0,16928.0,9264.0,8673.0,27248.0,28846.0,13160.0,14000.0,25581.0,11279.0,25758.0,22074.0,18172.0,10384.0,15953.0,17997.0,24340.0,30283.0,19239.0,37372.0,12936.0,10437.0,14059.0,13065.0,19220.0,11867.0,30509.0,10359.0,11565.0,13388.0,14766.0,22898.0,17777.0,12167.0,12516.0,15762.0,11073.0,18948.0,17165.0,11386.0,12733.0,13058.0,14110.0,20393.0,26262.0,18398.0,20033.0,18866.0,14040.0,14881.0,18543.0,21969.0,20595.0,22533.0,10480.0,28590.0,25245.0,23271.0,14554.0,20600.0,11838.0,14506.0,24922.0,12226.0,52541.0,14965.0,25538.0,13634.0,13328.0,14928.0,21515.0,17044.0,12173.0,19638.0,24922.0,22968.0,14709.0,12239.0,27040.0,11562.0,17055.0,34356.0,17771.0,13204.0,20044.0,11693.0,17582.0,17736.0,31596.0,28993.0,18267.0,19725.0,10423.0,23831.0,26124.0,22039.0,23931.0,8203.0,17177.0,14802.0,13456.0,19612.0,19599.0,12978.0,19882.0,22927.0,10940.0,27738.0,15942.0,33995.0,16947.0,12258.0,17261.0,16863.0,13631.0,10957.0,17105.0,18543.0,37889.0,35241.0,30888.0,24346.0,16852.0,10427.0,15391.0,13879.0,16997.0,28103.0,20338.0,15578.0,15389.0,13616.0,15466.0,13238.0,13906.0,12904.0,10513.0,21803.0,12540.0,9836.0,13178.0,10930.0,11994.0,14373.0,25760.0,22687.0,14533.0,18975.0,17887.0,15867.0,29934.0,17461.0,17595.0,20120.0,13740.0,18463.0,8570.0,14177.0,11461.0,37061.0,25550.0,31198.0,28389.0,8074.0,29585.0,13602.0,20452.0,16432.0,42943.0,16366.0,18084.0,21596.0,9854.0,15272.0,19293.0,12382.0,18605.0,14145.0,22673.0,27609.0,9878.0,9090.0,18345.0,18202.0,14009.0,14186.0,7553.0,23707.0,9536.0,36912.0,9704.0,20149.0,8687.0,16114.0,5400.0,13647.0,15652.0,11701.0,15974.0,21108.0,20220.0,14050.0,16605.0,12528.0,14757.0,13200.0,17996.0,24557.0,21759.0,25021.0,14449.0,20619.0,22965.0,28340.0,20997.0,18323.0,54429.0,12280.0,31995.0,24955.0,13828.0,22865.0,26942.0,15532.0,20006.0,19935.0,15887.0,19822.0,27635.0,13029.0,17878.0,11731.0,26476.0,10473.0,11448.0,20474.0,25011.0,27328.0,24132.0,18116.0,6544.0,15032.0,8884.0,17770.0,33810.0,16392.0,10463.0,13788.0,29489.0,34102.0,23344.0,22644.0,20655.0,9021.0,22074.0,14913.0,24837.0,13901.0,16016.0,21212.0,18877.0,14425.0,17862.0,30406.0,11937.0,14310.0,8563.0,30470.0,12942.0,13018.0,10665.0,16715.0,11147.0,19296.0,34940.0,54248.0,25084.0,8350.0,9638.0,29070.0,13109.0,10443.0,20521.0,27844.0,18529.0,8198.0,21437.0,29145.0,10992.0,5811.0,10865.0,12929.0,23984.0,16369.0,15440.0,31419.0,10784.0,35735.0,18687.0,12958.0,15858.0,22721.0,14674.0,4343.0,15790.0,15881.0,12982.0,31704.0,16964.0,12923.0,17089.0,11092.0,14526.0,18899.0,25825.0,7310.0,9121.0,24486.0,15747.0,12192.0,19071.0,19437.0,11690.0,14442.0,30945.0,15840.0,27335.0,9569.0,18175.0,28565.0,11694.0,31033.0,13260.0,11472.0,14719.0,10079.0,27196.0,20268.0,38223.0,10930.0,27260.0,10499.0,25028.0,13378.0,16961.0,15283.0,8126.0,17581.0,24617.0,7783.0,41802.0,22299.0,37592.0,9175.0,21443.0,12917.0,14206.0,17480.0,13482.0,36644.0,11156.0,18463.0,19929.0,11647.0,20665.0,5298.0,17563.0,9775.0,51074.0,11731.0,9630.0,15180.0,32067.0,25600.0,13769.0,18945.0,8534.0,30055.0,35210.0,18001.0,10575.0,11883.0,24800.0,16001.0,33049.0,9572.0,21257.0,25105.0,22867.0,13717.0,21467.0,19833.0,10389.0,12923.0,19715.0,30333.0,17970.0,13341.0,18651.0,16133.0,17974.0,17989.0,25968.0,21540.0,7359.0,18865.0,15353.0,27597.0,21871.0,11967.0,14868.0,15150.0,17211.0,8315.0,18618.0,14794.0,14598.0,3382.0,13078.0,8236.0,18017.0,8066.0,17089.0,16398.0,30035.0,21303.0,29008.0,16062.0,21725.0,10298.0,19156.0,27913.0,47605.0,20011.0,10729.0,20462.0,39395.0,19762.0,21261.0,12910.0,14244.0,14885.0,17292.0,12118.0,25098.0,23860.0,14625.0,19425.0,12828.0,21458.0,9084.0,24004.0,10334.0,44653.0,11939.0,16362.0,10000.0,19326.0,11986.0,15245.0,47958.0,25746.0,11132.0,25891.0,21399.0,10013.0,10393.0,18453.0,19487.0,44882.0,21542.0,14462.0,12072.0,12327.0,20701.0,21665.0,9146.0,29981.0,20108.0,19983.0,12477.0,15378.0,11797.0,12589.0,12346.0,23989.0,12820.0,13137.0,20897.0,18180.0,23568.0,17354.0,18513.0,14310.0,11851.0,17067.0,16052.0,9677.0,19623.0,6192.0,22913.0,33745.0,13592.0,20684.0,19896.0,19426.0,20901.0,30278.0,24005.0,14334.0,27984.0,28687.0,31216.0,42084.0,12060.0,14313.0,10892.0,32026.0,33195.0,12109.0,15146.0,13363.0,25175.0,29585.0,19553.0,19602.0,11043.0,19687.0,8873.0,20246.0,20164.0,17646.0,16602.0,10685.0,11578.0,21015.0,19900.0,11102.0,19234.0,21368.0,12781.0,17654.0,21851.0,25649.0,14629.0,5942.0,13164.0,10993.0,20196.0,18283.0,13473.0,20738.0,11338.0,21215.0,23182.0,12164.0,11095.0,13035.0,16983.0,10391.0,21934.0,22830.0,14864.0,20989.0,12451.0,30183.0,13350.0,6947.0,12676.0,12382.0,16858.0,38526.0,16165.0,20493.0,26909.0,8535.0,13748.0,8919.0,11539.0,19923.0,12269.0,11228.0,7658.0,20153.0,27279.0,17680.0,25139.0,15509.0,43032.0,17039.0,33411.0,5010.0,20413.0,14042.0,27376.0,11539.0,19841.0,17247.0,17153.0,27389.0,9362.0,19769.0,24353.0,20824.0,18068.0,30775.0,18125.0,7613.0,24435.0,34662.0,11855.0,20383.0,18112.0,8676.0,19494.0,6992.0,20307.0,19647.0,15430.0,12380.0,16013.0,24248.0,10754.0,23007.0,16087.0,11987.0,10127.0,31600.0,14215.0,14254.0,17436.0,11000.0,23227.0,16141.0,25259.0,23002.0,13397.0,13068.0,14369.0,20616.0,11558.0,14177.0,16885.0,9184.0,37188.0,14234.0,33579.0,20546.0,16075.0,11580.0,12525.0,29419.0,21226.0,37166.0,29163.0,8403.0,20194.0,6861.0,18989.0,21704.0,17319.0,18392.0,29887.0,16154.0,29405.0,17715.0,17179.0,18029.0,30069.0,15590.0,36162.0,27078.0,22091.0,16443.0,39506.0,19952.0,18262.0,19700.0,44144.0,16614.0,18474.0,17284.0,21282.0,31852.0,12707.0,19386.0,11965.0,27395.0,16394.0,7785.0,12416.0,8612.0,23922.0,9823.0,17830.0,44620.0,15030.0,16827.0,27343.0,23118.0,18792.0,19974.0,19277.0,25771.0,12882.0,19433.0,28596.0,16023.0,20894.0,11515.0,18175.0,16797.0,20598.0,24484.0,21986.0,12264.0,12413.0,24951.0,21500.0,12278.0,13142.0,7430.0,12087.0,28581.0,36364.0,14304.0,16672.0,28026.0,16250.0,16010.0,17798.0,27899.0,14050.0,28873.0,19640.0,19696.0,8203.0,22718.0,14214.0,11519.0,15271.0,11474.0,27552.0,13944.0,15915.0,14662.0,13526.0,29293.0,27252.0,19068.0,15323.0,15957.0,18166.0,10890.0,17046.0,27985.0,11970.0,19404.0,15460.0,9716.0,8139.0,14158.0,27443.0,14957.0,11761.0,14334.0,17921.0,24148.0,18083.0,19236.0,23386.0,24442.0,25668.0,12770.0,12366.0,13826.0,25466.0,46018.0,27163.0,27341.0,17529.0,14867.0,10138.0,18336.0,16380.0,10714.0,27208.0,24242.0,10788.0,10852.0,16442.0,36637.0,13189.0,33589.0,15996.0,19727.0,22559.0,15604.0,16563.0,15803.0,20177.0,32982.0,36571.0,13931.0,18014.0,16767.0,22390.0,21684.0,16392.0,33400.0,21630.0,31475.0,23204.0,34629.0,30730.0,12824.0,22647.0,25546.0,17114.0,17871.0,16555.0,13286.0,16153.0,17772.0,9972.0,10902.0,20658.0,16558.0,18182.0,14920.0,19479.0,7806.0,19901.0,11015.0,13583.0,14336.0,23256.0,32458.0,19897.0,28848.0,16332.0,13758.0,21066.0,16270.0,9735.0,16921.0,29814.0,13876.0,22141.0,13306.0,16909.0,10205.0,22525.0,21338.0,17358.0,22374.0,24202.0,9594.0,20090.0,17684.0,9925.0,14634.0,8856.0,22888.0,26058.0,15758.0,21397.0,18082.0,11189.0,17889.0,29337.0,19249.0,14274.0,26069.0,29474.0,13646.0,21241.0,16393.0,20040.0,21613.0,14378.0,41112.0,26631.0,8857.0,23643.0,22445.0,11657.0,17851.0,9846.0,33308.0,24555.0,19390.0,32422.0,19708.0,11434.0,22833.0,17499.0,16047.0,21352.0,17099.0,15130.0,17347.0,15297.0,12083.0,17903.0,36665.0,40670.0,25364.0,12782.0,35295.0,13260.0,18295.0,32109.0,28564.0,16788.0,24572.0,13634.0,13721.0,21716.0,25253.0,18386.0,12675.0,28053.0,14568.0,9943.0,20638.0,12234.0,8470.0,21458.0,21027.0,27342.0,15311.0,47623.0,12817.0,17116.0,20857.0,11745.0,24211.0,24242.0,12599.0,29173.0,31302.0,20269.0,18020.0,18129.0,10704.0,14447.0,10254.0,15553.0,23247.0,22311.0,17649.0,23849.0,9900.0,19873.0,9662.0,19972.0,27856.0,16748.0,12828.0,10259.0,14568.0,28485.0,15708.0,18510.0,16999.0,15202.0,15292.0,5275.0,25049.0,19086.0,23850.0,12247.0,31695.0,10312.0,33944.0,11225.0,22967.0,29437.0,13298.0,26601.0,25367.0,21490.0,10945.0,17824.0,23280.0,25999.0,19063.0,9445.0,20436.0,40146.0,20676.0,27461.0,15074.0,14102.0,21290.0,44332.0,13995.0,29352.0,19777.0,49129.0,24968.0,22337.0,20369.0,20238.0,17119.0,13649.0,26227.0,23699.0,15554.0,31898.0,16217.0,47327.0,8212.0,24408.0,16709.0,11848.0,11549.0,17208.0,25093.0,9281.0,13313.0,16085.0,11161.0,20194.0,19322.0,29915.0,14825.0,20950.0,9004.0,39885.0,13654.0,19713.0,14172.0,20277.0,23004.0,24460.0,29092.0,20716.0,10948.0,21001.0,15626.0,37481.0,13620.0,14420.0,35817.0,47542.0,16332.0,18625.0,16516.0,21590.0,11683.0,17915.0,22590.0,33809.0,9910.0,14889.0,20281.0,12299.0,44654.0,14524.0,15651.0,12115.0,32296.0,17460.0,11293.0,18223.0,24631.0,31705.0,28609.0,17881.0,20962.0,19708.0,16373.0,31188.0,11301.0,13945.0,16747.0,18592.0,39252.0,20116.0,15872.0,25359.0,13961.0,20195.0,15221.0,32844.0,15357.0,21713.0,17620.0,20031.0,45054.0,25709.0,12010.0,37099.0,15876.0,30308.0,20741.0,11335.0,13269.0,10896.0,17173.0,40989.0,18080.0,10817.0,25927.0,21056.0,31528.0,16089.0,18072.0,13749.0,13459.0,22681.0,17628.0,11690.0,9705.0,15131.0,34777.0,18529.0,33767.0,13895.0,18368.0,29333.0,18053.0,23843.0,8607.0,14181.0,31155.0,21854.0,12675.0,12131.0,18341.0,10124.0,10204.0,24439.0,25358.0,12624.0,17453.0,18061.0,24854.0,25527.0,13927.0,13333.0,26625.0,10903.0,27233.0,16107.0,20962.0,27196.0,16043.0,8821.0,41583.0,5700.0,6957.0,20617.0,17337.0,18525.0,20116.0,32829.0,29940.0,20069.0,21584.0,29730.0,24152.0,20285.0,7224.0,20846.0,31280.0,22566.0,19378.0,10166.0,16522.0,19542.0,16322.0,30410.0,13080.0,21068.0,10694.0,10533.0,17950.0,24975.0,21537.0,16800.0,18627.0,19448.0,20712.0,47073.0,25052.0,19286.0,14202.0,8312.0,16513.0,10097.0,17028.0,26896.0,20402.0,16133.0,12421.0,27110.0,15829.0,12292.0,16101.0,23060.0,13709.0,22345.0,26091.0,5976.0,15811.0,27211.0,16680.0,26600.0,13369.0,25636.0,14929.0,13669.0,24989.0,16158.0,15568.0,17120.0,18088.0,6975.0,22705.0,35519.0,13761.0,16735.0,30883.0,13077.0,12279.0,18586.0,18319.0,10135.0,32435.0,28483.0,12887.0,12469.0,21527.0,16778.0,9090.0,9850.0,19070.0,14593.0,16811.0,25585.0,9023.0,25572.0,25096.0,10044.0,27346.0,28816.0,17334.0,13510.0,45061.0,16647.0,8322.0,21450.0,33076.0,16188.0,15461.0,11165.0,17206.0,17549.0,14510.0,25216.0,18241.0,12835.0,11850.0,16712.0,15851.0,11329.0,29164.0,15159.0,11434.0,21170.0,14439.0,16012.0,35143.0,17527.0,17049.0,26804.0,21536.0,10127.0,45861.0,28408.0,29790.0,21790.0,13519.0,25949.0,10883.0,17582.0,37777.0,25104.0,24825.0,37363.0,28464.0,33146.0,7513.0,11765.0,7807.0,16144.0,19031.0,16293.0,18439.0,40937.0,23894.0,18026.0,14445.0,18955.0,21715.0,26782.0,11932.0,5570.0,21412.0,11429.0,25759.0,19375.0,19216.0,18469.0,24451.0,18005.0,6998.0,9527.0,21746.0,10324.0,10868.0,14784.0,21480.0,20350.0,33224.0,7689.0,19826.0,20952.0,25772.0,30650.0,28890.0,17264.0,12619.0,16489.0,24433.0,22584.0,47960.0,15231.0,29987.0,18709.0,14502.0,8482.0,30929.0,11268.0,21682.0,10731.0,28713.0,19814.0,21708.0,21638.0,16576.0,20813.0,12739.0,15165.0,24485.0,13774.0,13915.0,16922.0,12235.0,26381.0,27054.0,20641.0,13006.0,22099.0,17043.0,27649.0,9715.0,12686.0,21554.0,19126.0,17731.0,12992.0,40813.0,17234.0,20113.0,19462.0,14080.0,11930.0,17087.0,9262.0,12789.0,15167.0,16126.0,15483.0,24507.0,12973.0,25989.0,31193.0,15706.0,30577.0,18501.0,16098.0,30824.0,12720.0,47820.0,22427.0,25461.0,22194.0,47603.0,17916.0,16949.0,19101.0,17696.0,16346.0,14314.0,7545.0,14535.0,10111.0,15608.0,11119.0,19351.0,24067.0,18073.0,17216.0,12291.0,10702.0,7376.0,12877.0,9505.0,40037.0,20282.0,29920.0,15748.0,17222.0,36303.0,22483.0,9453.0,13785.0,14499.0,34417.0,26920.0,13788.0,30476.0,50491.0,21222.0,19580.0,59062.0,24362.0,16150.0,7183.0,11773.0,15489.0,26726.0,20827.0,16935.0,22607.0,18221.0,17720.0,18073.0,12325.0,22971.0,12655.0,19594.0,19317.0,21716.0,18835.0,50489.0,26252.0,28305.0,33470.0,15444.0,15135.0,25740.0,46904.0,8019.0,11136.0,20209.0,19107.0,15789.0,16756.0,6151.0,8296.0,17649.0,12774.0,26402.0,21894.0,18032.0,15732.0,14559.0,17421.0,35177.0,15777.0,17325.0,23712.0,25999.0,15253.0,15714.0,24416.0,16357.0,32407.0,17269.0,9759.0,24123.0,15301.0,17932.0,14609.0,15544.0,10614.0,17058.0,23156.0,13888.0,23241.0,21229.0,16603.0,19909.0,16451.0,18895.0,18441.0,15802.0,25583.0,22201.0,18038.0,16397.0,13785.0,22184.0,18150.0,20539.0,19800.0,16111.0,7372.0,28850.0,15597.0,13358.0,40272.0,30196.0,9439.0,8973.0,15237.0,32064.0,22292.0,16481.0,11214.0,51195.0,8726.0,21129.0,48671.0,21906.0,20259.0,7994.0,15704.0,9401.0,33862.0,18742.0,34070.0,26961.0,16024.0,21686.0,28231.0,15443.0,5133.0,19591.0,13919.0,17052.0,19141.0,40540.0,24599.0,19695.0,18040.0,16787.0,43494.0,11715.0,14999.0,16469.0,14842.0,18631.0,26149.0,11900.0,13114.0,29062.0,9968.0,29776.0,12270.0,11878.0,12911.0,32135.0,9014.0,21657.0,30820.0,17819.0,13219.0,19424.0,4559.0,51034.0,24272.0,33761.0,36079.0,16746.0,37650.0,9596.0,20095.0,24222.0,17238.0,10286.0,15444.0,23273.0,15991.0,13825.0,14037.0,12542.0,16199.0,27341.0,13176.0,9108.0,14064.0,7708.0,20277.0,13768.0,26506.0,9265.0,15638.0,26171.0,23025.0,7085.0,23478.0,20168.0,9450.0,18196.0,25944.0,13933.0,34858.0,14194.0,14786.0,19024.0,19836.0,13215.0,12722.0,18792.0,18353.0,15896.0,14632.0,23196.0,19673.0,11362.0,35235.0,19917.0,9729.0,34201.0,29763.0,24116.0,19183.0,14289.0,20643.0,55240.0,14971.0,17863.0,17439.0,18913.0,24367.0,24097.0,24828.0,35069.0,18822.0,19829.0,14647.0,18589.0,23303.0,26375.0,23534.0,25148.0,18009.0,12675.0,10691.0,35538.0,19007.0,16250.0,23605.0,15125.0,10259.0,12979.0,14205.0,26639.0,18837.0,12817.0,7098.0,22138.0,18943.0,35595.0,17094.0,24897.0,37459.0,9203.0,20705.0,28990.0,17368.0,12309.0,9522.0,27685.0,15911.0,20289.0,21298.0,24606.0,33403.0,12077.0,25460.0,35982.0,21908.0,21149.0,15592.0,18015.0,18821.0,18919.0,28338.0,14805.0,16499.0,12843.0,18309.0,19298.0,13789.0,14580.0,17745.0,21661.0,19154.0,14998.0,13627.0,24908.0,25131.0,22085.0,12462.0,25202.0,30144.0,31071.0,13847.0,16699.0,16406.0,10375.0,31302.0,14749.0,16044.0,19505.0,22380.0,19103.0,17722.0,38888.0,15133.0,13148.0,29409.0,17342.0,14112.0,15055.0,11388.0,17742.0,14105.0,23240.0,12344.0,22031.0,31722.0,21047.0,18578.0,26481.0,19394.0,12490.0,19513.0,22761.0,14822.0,20561.0,19619.0,13818.0,26511.0,26978.0,16847.0,18237.0,20229.0,15523.0,22260.0,13461.0,26489.0,14852.0,20031.0,12335.0,15719.0,24933.0,16962.0,17343.0,11440.0,8618.0,30388.0,29842.0,36427.0,21598.0,25492.0,18916.0,15959.0,15060.0,17559.0,16112.0,22067.0,11129.0,13596.0,21281.0,24348.0,19937.0,20079.0,37485.0,23016.0,10903.0,9339.0,17120.0,31052.0,14591.0,33435.0,4366.0,14286.0,15133.0,27246.0,9984.0,12693.0,11548.0,21765.0,27316.0,25129.0,18130.0,13101.0,13763.0,16266.0,21974.0,14306.0,19126.0,29185.0,16860.0,19222.0,23268.0,16840.0,17928.0,23641.0,28784.0,19598.0,15335.0,3845.0,5271.0,23880.0,26172.0,17719.0,31086.0,18059.0,9813.0,14724.0,15547.0,20616.0,26200.0,12421.0,15643.0,19278.0,41838.0,14609.0,19189.0,22717.0,18916.0,13742.0,16418.0,19213.0,15908.0,30498.0,25229.0,16943.0,16174.0,28158.0,20797.0,31411.0,23676.0,11736.0,19471.0,36290.0,9920.0,5877.0,14695.0,19865.0,17509.0,22637.0,21095.0,22531.0,20759.0,16893.0,17367.0,20116.0,9034.0,9034.0,26014.0,12202.0,12202.0,15337.0,31607.0,14670.0,14506.0,18770.0,9958.0,12796.0,25582.0,16861.0,12654.0,20261.0,23141.0,24090.0,22685.0,18500.0,20462.0,24337.0,31868.0,16310.0,17383.0,15882.0,12045.0,16280.0,18224.0,15904.0,11021.0,19029.0,16733.0,21990.0,29510.0,21499.0,23417.0,17839.0,9215.0,22544.0,15899.0,20191.0,21799.0,15745.0,15682.0,25882.0,33001.0,13981.0,20579.0,18606.0,13370.0,12942.0,11269.0,19870.0,17246.0,30267.0,17054.0,11319.0,21879.0,11544.0,16525.0,34085.0,12782.0,39196.0,24705.0,17324.0,37684.0,21332.0,8104.0,19619.0,14914.0,25390.0,7702.0,17662.0,29062.0,7914.0,43937.0,18841.0,11577.0,13800.0,18341.0,29679.0,10248.0,20743.0,40928.0,22826.0,15308.0,19221.0,33209.0,13351.0,16851.0,12568.0,11645.0,14997.0,29251.0,30227.0,9644.0,23487.0,24606.0,18739.0,12524.0,30486.0,55075.0,26489.0,15615.0,10063.0,25040.0,14476.0,19537.0,19814.0,28359.0,18256.0,11414.0,12491.0,18441.0,18039.0,20150.0,22902.0,20276.0,21532.0,24883.0,19790.0,13583.0,10700.0,16299.0,12106.0,23051.0,16340.0,19468.0,20642.0,21027.0,20047.0,13332.0,7629.0,17443.0,17040.0,25947.0,15135.0,50768.0,23801.0,12202.0,13122.0,22414.0,31765.0,25043.0,27212.0,15948.0,23125.0,9915.0,20077.0,9472.0,21305.0,14907.0,17213.0,14604.0,22651.0,30507.0,16413.0,17659.0,23756.0,14053.0,11564.0,18231.0,26391.0,13038.0,21765.0,27386.0,19971.0,17914.0,18870.0,26391.0,12782.0,20736.0,15209.0,20251.0,19973.0,21481.0,20619.0,19386.0,19746.0,34518.0,12856.0,14933.0,39782.0,12196.0,14767.0,29873.0,29356.0,10922.0,29966.0,23137.0,15916.0,14982.0,19376.0,14188.0,14635.0,17661.0,20299.0,8207.0,16051.0,18218.0,14360.0,13937.0,13540.0,19899.0,12694.0,10093.0,15682.0,13142.0,17855.0,35886.0,16279.0,12437.0,13129.0,23974.0,31382.0,19582.0,28748.0,11063.0,37489.0,27449.0,53696.0,19560.0,24253.0,30682.0,23500.0,19944.0,10237.0,25499.0,17141.0,30829.0,31468.0,14352.0,20057.0,20100.0,11291.0,20354.0,15127.0,18192.0,29245.0,19651.0,11372.0,13285.0,19176.0,26303.0,8990.0,32195.0,15554.0,26979.0,25711.0,11798.0,13783.0,19030.0,17129.0,14299.0,14151.0,17617.0,26842.0,20288.0,15762.0,8908.0,13837.0,34085.0,29984.0,17557.0,9116.0,21457.0,14116.0,16351.0,22377.0,19204.0,14077.0,12220.0,14977.0,29197.0,16889.0,29873.0,20058.0,32478.0,21416.0,19171.0,14073.0,21183.0,16908.0,13641.0,11961.0,13032.0,34979.0,13473.0,10353.0,20083.0,20215.0,14663.0,13465.0,9505.0,30830.0,9285.0,26493.0,22640.0,11812.0,21118.0,28200.0,24596.0,26728.0,26578.0,13597.0,5482.0,10167.0,21751.0,14054.0,13149.0,17816.0,24640.0,17482.0,10129.0,31592.0,9758.0,25713.0,29275.0,6442.0,17815.0,30087.0,16062.0,14079.0,36454.0,26189.0,22933.0,14314.0,32901.0,13964.0,14045.0,23217.0,19613.0,14982.0,18068.0,9830.0,10735.0,3021.0,32584.0,8600.0,11486.0,17592.0,18018.0,24808.0,14615.0,7967.0,16445.0,20139.0,17340.0,15304.0,23852.0,16167.0,32185.0,18930.0,18046.0,22996.0,13795.0,11645.0,11165.0,21089.0,31562.0,16349.0,25947.0,15308.0,19833.0,22128.0,24483.0,29072.0,22176.0,8618.0,13400.0,15400.0,15262.0,31779.0,15433.0,18100.0,21366.0,12462.0,13670.0,22276.0,10196.0,27167.0,17237.0,16945.0,28110.0,20335.0,13791.0,20334.0,20436.0,27289.0,5515.0,29225.0,17387.0,12059.0,11944.0,19481.0,12064.0,18039.0,51454.0,29259.0,16412.0,21451.0,23839.0,19561.0,22758.0,19489.0,18794.0,13989.0,19077.0,16373.0,11626.0,19888.0,13123.0,11739.0,15826.0,15632.0,9874.0,14264.0,16631.0,18711.0,13289.0,11065.0,13523.0,17942.0,15458.0,15607.0,9959.0,21738.0,10218.0,17352.0,10625.0,14532.0,12263.0,24839.0,38055.0,18148.0,20696.0,18132.0,10249.0,43256.0,18039.0,10662.0,19967.0,15945.0,15234.0,28102.0,13580.0,14126.0,27085.0,23102.0,17498.0,19665.0,12563.0,34297.0,19981.0,13125.0,14964.0,32591.0,23683.0,5518.0,37948.0,29952.0,13216.0,32061.0,8595.0,14430.0,34299.0,31442.0,16566.0,18908.0,29007.0,26272.0,28356.0,12498.0,8811.0,16374.0,30862.0,14432.0,21075.0,25696.0,31607.0,18181.0,27590.0,13075.0,20393.0,13218.0,30802.0,15691.0,10969.0,27208.0,16002.0,23151.0,15212.0,19064.0,7542.0,18542.0,12145.0,12929.0,20121.0,28752.0,17338.0,12381.0,15355.0,20417.0,19573.0,19569.0,29015.0,23322.0,17537.0,14330.0,13403.0,24493.0,19235.0,19183.0,11412.0,24914.0,15764.0,26547.0,9542.0,23728.0,8884.0,23859.0,21215.0,23002.0,18224.0,22635.0,21894.0,18755.0,35566.0,16576.0,24768.0,20405.0,34237.0,13190.0,24596.0,13960.0,21275.0,15180.0,23314.0,16193.0,16870.0,14528.0,14528.0,10461.0,17268.0,17268.0,6348.0,17407.0,10047.0,16863.0,26255.0,26255.0,25641.0,13477.0,33068.0,25690.0,24609.0,15936.0,13853.0,17530.0,20139.0,13858.0,24208.0,30547.0,7916.0,16733.0,32564.0,23214.0,21334.0,14308.0,31611.0,8436.0,8493.0,10471.0,24295.0,7294.0,14051.0,19461.0,18804.0,8476.0,16883.0,17644.0,20210.0,20522.0,29141.0,24135.0,14476.0,17283.0,7948.0,12431.0,45587.0,26479.0,10103.0,27242.0,14572.0,28599.0,11419.0,14775.0,18494.0,23228.0,22887.0,11992.0,10984.0,12388.0,11885.0,29539.0,18574.0,24617.0,27717.0,9544.0,15006.0,22311.0,15937.0,17419.0,13221.0,20357.0,23127.0,19545.0,12380.0,9544.0,23097.0,28434.0,12548.0,13488.0,27650.0,14060.0,16506.0,16045.0,22584.0,27695.0,32863.0,11683.0,33568.0,13590.0,17168.0,30553.0,19993.0,17624.0,20033.0,16305.0,29008.0,16451.0,14129.0,52259.0,11363.0,18252.0,18295.0,7959.0,35015.0,17511.0,13807.0,9007.0,15524.0,13832.0,18721.0,9305.0,23498.0,22683.0,16180.0,25772.0,20294.0,13914.0,20483.0,14521.0,21263.0,15967.0,34446.0,13056.0,19077.0,10453.0,5923.0,9187.0,29850.0,16686.0,12276.0,15864.0,13900.0,20839.0,20682.0,15892.0,20086.0,32496.0,27126.0,22123.0,39368.0,36117.0,33634.0,14741.0,16110.0,27788.0,16539.0,18934.0,20131.0,27613.0,27839.0,23709.0,15443.0,36817.0,17619.0,8787.0,49279.0,28785.0,12510.0,23981.0,29366.0,17220.0,14085.0,17482.0,24592.0,53995.0,19365.0,32996.0,15629.0,15687.0,15107.0,13392.0,11579.0,33354.0,20524.0,27964.0,28550.0,25841.0,7188.0,12403.0,16333.0,9870.0,19731.0,22852.0,26532.0,21319.0,19043.0,9853.0,21316.0,14234.0,13902.0,15712.0,25754.0,24720.0,9951.0,25694.0,14899.0,20264.0,16394.0,14961.0,33399.0,20693.0,28714.0,21697.0,14476.0,16747.0,13120.0,23208.0,25688.0,34989.0,8786.0,15141.0,14650.0,46893.0,33006.0,14922.0,13472.0,16262.0,13172.0,25023.0,13652.0,20413.0,7384.0,27970.0,12803.0,12170.0,46948.0,12503.0,37495.0,9991.0,25488.0,26771.0,29761.0,7702.0,23241.0,10181.0,21642.0,23956.0,8060.0,7749.0,19209.0,11718.0,7978.0,24964.0,34975.0,17835.0,25847.0,13499.0,29816.0,18809.0,39213.0,11340.0,7960.0,10108.0,20097.0,22688.0,21665.0,21097.0,15900.0,10291.0,19618.0,12297.0,14583.0,30753.0,15185.0,24940.0,12432.0,11733.0,25535.0,25396.0,21905.0,8236.0,13245.0,18476.0,24545.0,10219.0,13963.0,20797.0,19726.0,22624.0,13125.0,24891.0,39691.0,28436.0,23840.0,13887.0,40380.0,14624.0,12061.0,17243.0,16640.0,18974.0,24340.0,28986.0,12820.0,12358.0,25104.0,13870.0,19236.0,19673.0,15759.0,19544.0,18645.0,10355.0,17553.0,14621.0,23081.0,16598.0,19947.0,9213.0,25730.0,13816.0,16844.0,12184.0,16464.0,18989.0,31772.0,26214.0,18592.0,23732.0,12738.0,20404.0,13695.0,26200.0,43023.0,13049.0,20387.0,18194.0,14664.0,15455.0,28006.0,15317.0,29314.0,12620.0,38884.0,18383.0,18577.0,28442.0,24550.0,19779.0,38216.0,18694.0,21946.0,20793.0,16721.0,18169.0,19560.0,10422.0,22570.0,13488.0,20696.0,21017.0,22876.0,16675.0,15265.0,19555.0,31833.0,38740.0,18210.0,21338.0,22110.0,10702.0,11220.0,16789.0,30763.0,18689.0,14316.0,27998.0,22830.0,29306.0,25139.0,33798.0,39029.0,22288.0,19708.0,13818.0,22220.0,19604.0,23771.0,12198.0,15269.0,11045.0,9779.0,27314.0,12124.0,26845.0,23683.0,13780.0,24038.0,14993.0,12505.0,15596.0,16505.0,30894.0,22856.0,19619.0,16520.0,10960.0,7576.0,19030.0,11605.0,13109.0,12597.0,15902.0,22911.0,16990.0,23354.0,10382.0,20161.0,18043.0,9194.0,18499.0,16698.0,24321.0,26611.0,22771.0,8675.0,18559.0,27542.0,17202.0,23213.0,17855.0,19797.0,20974.0,28279.0,12703.0,27281.0,12989.0,16796.0,11761.0,18345.0,20648.0,33758.0,14539.0,29121.0,20674.0,18222.0,20415.0,15746.0,28064.0,14580.0,68989.0,17383.0,8686.0,29407.0,18527.0,26366.0,13267.0,19226.0,18469.0,17513.0,36385.0,25385.0,28319.0,19964.0,14365.0,26113.0,24793.0,14487.0,24658.0,25416.0,39074.0,16985.0,7898.0,11742.0,26039.0,25534.0,21327.0,18668.0,25623.0,27463.0,21606.0,15478.0,28449.0,13472.0,11544.0,8730.0,15879.0,27541.0,14784.0,30341.0,30037.0,13314.0,18168.0,24103.0,18892.0,19177.0,14503.0,18698.0,20535.0,15150.0,5130.0,24601.0,24445.0,19021.0,56966.0,25495.0,26226.0,18216.0,24528.0,21100.0,18086.0,8464.0,16123.0,32503.0,33492.0,18284.0,19729.0,14010.0,29587.0,15307.0,39753.0,16195.0,20155.0,13297.0,20791.0,10266.0,17420.0,24956.0,18220.0,28014.0,20641.0,25288.0,10841.0,12242.0,22352.0,16132.0,38531.0,18627.0,18656.0,17747.0,18984.0,9256.0,16821.0,34733.0,19045.0,26201.0,31319.0,17028.0,9055.0,19503.0,22832.0,16004.0,13142.0,19797.0,5393.0,11736.0,14471.0,5304.0,25383.0,15334.0,21674.0,15049.0,19257.0,14968.0,14009.0,20921.0,41856.0,24677.0,5407.0,13610.0,21312.0,20000.0,18416.0,24525.0,37617.0,30879.0,33327.0,18926.0,9468.0,30745.0,16905.0,15546.0,12385.0,22981.0,11000.0,10726.0,11328.0,49141.0,25025.0,17267.0,16509.0,61519.0,21173.0,12852.0,26572.0,41685.0,25152.0,19258.0,18244.0,14905.0,14561.0,12267.0,21682.0,8793.0,37774.0,27690.0,16594.0,26135.0,17294.0,18788.0,6691.0,42450.0,10682.0,26886.0,14001.0,11239.0,25868.0,33046.0,22572.0,22387.0,15012.0,16181.0,18809.0,16994.0,11182.0,37344.0,19218.0,25334.0,22537.0,17110.0,12857.0,26257.0,12158.0,28364.0,15849.0,20178.0,15261.0,31350.0,17774.0,25301.0,23105.0,14062.0,18977.0,15541.0,36352.0,21748.0,11442.0,50134.0,13808.0,21482.0,14499.0,12814.0,20588.0,21704.0,15144.0,22263.0,11821.0,21632.0,33223.0,21578.0,23402.0,25500.0,37569.0,9432.0,22727.0,36586.0,27333.0,18750.0,11454.0,13324.0,16044.0,28389.0,11138.0,18261.0,9841.0,39713.0,17685.0,30109.0,24779.0,8831.0,14190.0,12625.0,15509.0,18688.0,20361.0,37855.0,11585.0,14266.0,10069.0,16803.0,16020.0,22527.0,31084.0,39424.0,10662.0,31352.0,23666.0,15079.0,7997.0,14059.0,17831.0,21175.0,30807.0,12769.0,22626.0,13033.0,46136.0,21372.0,28384.0,26096.0,19150.0,21875.0,16516.0,30007.0,22018.0,25686.0,17969.0,19865.0,12159.0,30719.0,13502.0,7054.0,12279.0,15004.0,10974.0,21630.0,14049.0,8389.0,23919.0,18887.0,17454.0,73703.0,23195.0,17013.0,22945.0,15532.0,21554.0,21593.0,35080.0,15611.0,18947.0,25793.0,28009.0,6783.0,27205.0,14097.0,9137.0,18352.0,13701.0,15837.0,24900.0,19217.0,28297.0,31072.0,25947.0,22051.0,29573.0,17539.0,29153.0,34952.0,16172.0,28884.0,14621.0,10157.0,19091.0,34805.0,17380.0,18031.0,21975.0,20213.0,21362.0,9893.0,14139.0,22274.0,17111.0,16071.0,18458.0,11998.0,9934.0,13541.0,27439.0,40562.0,12191.0,23809.0,14895.0,19824.0,34276.0,14029.0,35149.0,14985.0,25931.0,7918.0,49348.0,21006.0,20304.0,21314.0,20326.0,30604.0,19632.0,17484.0,27882.0,18751.0,24705.0,19926.0,25440.0,25887.0,21236.0,11003.0,19530.0,33199.0,30325.0,17543.0,14855.0,7907.0,12395.0,13382.0,26241.0,25384.0,20028.0,18855.0,13918.0,9765.0,15927.0,15254.0,15738.0,8672.0,17421.0,32193.0,14404.0,22536.0,22900.0,32106.0,25487.0,18102.0,9168.0,14669.0,21902.0,22276.0,18546.0,20580.0,20965.0,24758.0,17376.0,26235.0,23299.0,17291.0,29604.0,10505.0,27804.0,20357.0,34197.0,10585.0,20123.0,22471.0,35992.0,11626.0,19929.0,14128.0,12878.0,12199.0,16451.0,17025.0,15244.0,15838.0,22909.0,14217.0,8029.0,22386.0,19942.0,19190.0,32519.0,39000.0,14057.0,23746.0,23964.0,14051.0,51525.0,20031.0,22075.0,28892.0,29067.0,26124.0,29805.0,8308.0,15194.0,18807.0,22526.0,15265.0,33084.0,11972.0,19566.0,30990.0,14954.0,15986.0,24618.0,7931.0,13687.0,31505.0,21618.0,24337.0,20505.0,19131.0,25322.0,17745.0,18426.0,21809.0,38734.0,14781.0,14131.0,12578.0,34717.0,24098.0,25476.0,24834.0,32952.0,15112.0,24995.0,31259.0,18652.0,12765.0,26091.0,25786.0,23787.0,8334.0,14819.0,21681.0,10972.0,20421.0,7178.0,27724.0,15470.0,28551.0,14363.0,24348.0,31052.0,15240.0,9086.0,25834.0,21364.0,21695.0,12681.0,39417.0,9948.0,19310.0,12991.0,14826.0,7446.0,14855.0,16649.0,20586.0,14639.0,15063.0,29741.0,18659.0,10543.0,11825.0,22947.0,26053.0,40524.0,14686.0,26627.0,12467.0,10689.0,18814.0,17453.0,22569.0,14338.0,21023.0,25787.0,19538.0,15302.0,30161.0,26363.0,27413.0,11359.0,19094.0,25558.0,12136.0,26425.0,21146.0,29312.0,39091.0,4910.0,20563.0,24909.0,14632.0,21392.0,23472.0,19283.0,25340.0,15732.0,22394.0,17210.0,15444.0,11626.0,29693.0,16353.0,21550.0,38076.0,42407.0,24108.0,9344.0,18259.0,27074.0,20230.0,25395.0,12272.0,31009.0,12749.0,23146.0,14385.0,15334.0,13986.0,11917.0,36959.0,19697.0,17786.0,18804.0,13136.0,21029.0,14364.0,18450.0,11970.0,10790.0,23830.0,19852.0,32006.0,12600.0,22753.0,13760.0,12976.0,14758.0,12192.0,7179.0,24469.0,23102.0,19790.0,14628.0,25978.0,35954.0,12093.0,7088.0,17250.0,26507.0,15144.0,10768.0,10336.0,31933.0,28096.0,18630.0,25013.0,27974.0,14688.0,16626.0,29766.0,20032.0,20254.0,21130.0,26145.0,14788.0,27182.0,15876.0,15574.0,25204.0,10596.0,30397.0,19407.0,8341.0,16148.0,13263.0,17547.0,8710.0,31038.0,31180.0,13626.0,17266.0,21916.0,20809.0,25557.0,9330.0,9500.0,21164.0,19977.0,11292.0,19486.0,17361.0,29219.0,14098.0,7589.0,8549.0,25680.0,12646.0,14359.0,16660.0,8705.0,16925.0,11178.0,16164.0,18871.0,13119.0,30832.0,8873.0,17814.0,14961.0,10076.0,17206.0,13313.0,17318.0,9703.0,15629.0,14507.0,14383.0,13207.0,16038.0,21467.0,30122.0,9510.0,6922.0,28168.0,11132.0,7879.0,19701.0,7543.0,17622.0,18405.0,9003.0,14356.0,11561.0,15183.0,10689.0,19066.0,26367.0,28213.0,32668.0,12579.0,13171.0,9465.0,32548.0,8765.0,15005.0,14827.0,10366.0,22515.0,13562.0,6886.0,12373.0,15404.0,27502.0,16962.0,18963.0,15486.0,16759.0,6840.0,16486.0,10399.0,13929.0,10889.0,15770.0,9943.0,11621.0,39768.0,28190.0,16467.0,10652.0,19396.0,25958.0,18183.0,9839.0,16154.0,15421.0,28560.0,14830.0,41207.0,12502.0,13908.0,26179.0,33283.0,26868.0,18904.0,6599.0,27163.0,12688.0,23392.0,8676.0,13690.0,11160.0,32537.0,19478.0,33080.0,16445.0,13653.0,7096.0,28805.0,9815.0,17115.0,13489.0,21629.0,26637.0,20184.0,12036.0,6360.0,8809.0,8491.0,16855.0,19483.0,12507.0,17054.0,7496.0,14160.0,10875.0,13285.0,13792.0,17915.0,19319.0,19319.0,18050.0,15438.0,9718.0,10047.0,15256.0,13536.0,27728.0,18262.0,14614.0,19045.0,20610.0,11334.0,16657.0,25344.0,19797.0,16142.0,9607.0,14120.0,16467.0,18241.0,17982.0,17058.0,32897.0,11791.0,18674.0,13015.0,29418.0,14528.0,23523.0,20793.0,17495.0,31353.0,31675.0,35013.0,10286.0,33925.0,10578.0,30396.0,19201.0,19554.0,13331.0,28782.0,21699.0,9834.0,15279.0,19786.0,16877.0,15937.0,14241.0,19669.0,15571.0,15258.0,14010.0,10434.0,19878.0,16335.0,23029.0,14364.0,12091.0,35684.0,7563.0,29047.0,9859.0,28932.0,20102.0,18924.0,18724.0,13127.0,31110.0,13759.0,26563.0,23861.0,10948.0,11926.0,22016.0,13823.0,17208.0,25203.0,20294.0,16762.0,24677.0,8224.0,15243.0,11159.0,22767.0,28154.0,18440.0,29106.0,34194.0,13292.0,18662.0,15385.0,28594.0,10831.0,16739.0,37503.0,21017.0,11610.0,29361.0,12564.0,16662.0,11690.0,11486.0,9698.0,17799.0,16651.0,20689.0,10811.0,17490.0,21804.0,21311.0,7902.0,31600.0,15066.0,17101.0,18338.0,9352.0,31941.0,24443.0,19840.0,16610.0,14210.0,23753.0,9818.0,21446.0,14502.0,21149.0,15964.0,18834.0,9079.0,14293.0,10526.0,9858.0,16608.0,12318.0,11435.0,9183.0,13431.0,29713.0,12282.0,15313.0,16891.0,20979.0,15368.0,22997.0,33545.0,18738.0,19967.0,10368.0,11646.0,8282.0,9253.0,15463.0,9749.0,6477.0,15471.0,23558.0,8122.0,15440.0,13790.0,24316.0,25071.0,9885.0,12057.0,11973.0,13858.0,24074.0,16513.0,19431.0,10363.0,12613.0,23502.0,11786.0,13637.0,24614.0,7584.0,17602.0,20450.0,7366.0,12763.0,16714.0,17915.0,20695.0,35168.0,27677.0,9964.0,10821.0,12449.0,8043.0,23161.0,8665.0,16427.0,30919.0,12836.0,8638.0,6904.0,19668.0,18506.0,10326.0,14211.0,13598.0,13076.0,19961.0,16789.0,14991.0,6894.0,19024.0,13162.0,12649.0,30377.0,15277.0,15926.0,13470.0,10327.0,12582.0,20755.0,36347.0,21854.0,15465.0,21383.0,6317.0,27225.0,20673.0,20013.0,18266.0,14128.0,14591.0,26111.0,37570.0,15399.0,12812.0,17134.0,32564.0,28557.0,17957.0,11583.0,13136.0,17220.0,8804.0,10522.0,20206.0,14574.0,18737.0,12142.0,22486.0,12375.0,18155.0,8803.0,16014.0,21738.0,16162.0,12231.0,20842.0,9620.0,9223.0,27596.0,21993.0,17142.0,12555.0,9305.0,21043.0,20690.0,10693.0,17004.0,12953.0,22113.0,13594.0,42638.0,8470.0,23807.0,22573.0,26588.0,14838.0,12029.0,10643.0,11988.0,10763.0,27881.0,14170.0,24614.0,18793.0,31851.0,23617.0,26879.0,22196.0,24611.0,12340.0,24705.0,23699.0,33992.0,14402.0,12079.0,19523.0,16109.0,16322.0,13539.0,13684.0,9220.0,18459.0,27171.0,34581.0,27712.0,27062.0,11116.0,15878.0,21341.0,27531.0,22781.0,14921.0,13426.0,17665.0,10658.0,9707.0,14870.0,10285.0,33022.0,28760.0,12299.0,13965.0,21608.0,8948.0,4431.0,16533.0,12545.0,18238.0,17573.0,19920.0,7812.0,10165.0,11776.0,13448.0,16147.0,15243.0,10984.0,29971.0,10946.0,13027.0,13784.0,18386.0,20656.0,19835.0,11715.0,12594.0,23509.0,11613.0,8821.0,11953.0,52259.0,11644.0,28536.0,15825.0,19500.0,8104.0,8055.0,18705.0,5400.0,16312.0,9327.0,15912.0,15042.0,24685.0,21527.0,20306.0,38349.0,25758.0,12093.0,6351.0,10764.0,23153.0,22819.0,10116.0,11768.0,34180.0,18767.0,17238.0,13861.0,7807.0,13324.0,20542.0,13098.0,18559.0,12299.0,37660.0,19203.0,15509.0,16888.0,19856.0,20132.0,33213.0,21869.0,7311.0,11705.0,13003.0,18103.0,13506.0,12603.0,24519.0,15339.0,21838.0,9947.0,20449.0,13160.0,13866.0,18967.0,13069.0,16027.0,10922.0,19493.0,10068.0,11996.0,15851.0,12154.0,11592.0,24157.0,22787.0,5904.0,45096.0,20479.0,28490.0,23860.0,13378.0,13472.0,15492.0,29808.0,19942.0,34531.0,18295.0,22274.0,16805.0,36847.0,27656.0,11475.0,10991.0,17193.0,19715.0,13678.0,20785.0,15357.0,22035.0,27559.0,15461.0,21902.0,18346.0,18992.0,26293.0,17694.0,14001.0,10759.0,26778.0,10349.0,18423.0,26563.0,24576.0,13773.0,14102.0,25359.0,21844.0,25781.0,15285.0,4801.0,22010.0,31278.0,34337.0,20434.0,15622.0,27525.0,14670.0,7342.0,14327.0,12196.0,23595.0,23053.0,34667.0,11035.0,15978.0,21918.0,18696.0,21599.0,14376.0,12376.0,11875.0,16793.0,15997.0,25745.0,19089.0,23618.0,11652.0,30055.0,30524.0,12995.0,14514.0,42997.0,35887.0,20541.0,16868.0,13541.0,37511.0,16581.0,17571.0,14481.0,6669.0,30268.0,12969.0,20224.0,6722.0,9855.0,10569.0,21515.0,26442.0,13313.0,28637.0,28886.0,22460.0,22075.0,28728.0,16854.0,33364.0,15784.0,19183.0,13434.0,12508.0,13364.0,14592.0,11698.0,27716.0,24364.0,10193.0,24088.0,21539.0,17089.0,27423.0,24498.0,13958.0,8453.0,15582.0,25145.0,8836.0,17787.0,16112.0,16687.0,20476.0,21553.0,18941.0,28258.0,16724.0,9040.0,9499.0,12314.0,13438.0,31228.0,16251.0,32595.0,23351.0,24068.0,13849.0,12314.0,36890.0,10692.0,34007.0,16761.0,21835.0,17576.0,12122.0,21910.0,26704.0,10089.0,17268.0,23884.0,15052.0,17382.0,13617.0,12802.0,16965.0,10935.0,8727.0,15310.0,34189.0,13548.0,9990.0,20036.0,22673.0,11177.0,17200.0,38357.0,28330.0,22219.0,27112.0,9685.0,47664.0,30888.0,26649.0,25916.0,18664.0,17576.0,10318.0,31195.0,18599.0,10856.0,16497.0,22628.0,36031.0,13204.0,36939.0,14568.0,20413.0,25633.0,30407.0,15639.0,11616.0,27127.0,15470.0,15960.0,7721.0,10922.0,31406.0,12100.0,15044.0,16744.0,15065.0,18864.0,32580.0,31116.0,16358.0,17957.0,20267.0,36425.0,32338.0,11187.0,9413.0,16646.0,24806.0,22255.0,24264.0,16467.0,26554.0,13281.0,21018.0,28959.0,28959.0,12717.0,22653.0,15832.0,25144.0,10039.0,11553.0,21663.0,16077.0,16077.0,24992.0,16318.0,33057.0,44935.0,25085.0,21187.0,12267.0,23933.0,18803.0,34368.0,16078.0,13922.0,28580.0,24849.0,23138.0,18631.0,9998.0,15320.0,8674.0,16356.0,31877.0,7988.0,17890.0,12706.0,10482.0,29843.0,18648.0,25219.0,14466.0,18292.0,20732.0,23630.0,17905.0,22797.0,21470.0,17863.0,11607.0,33252.0,9081.0,11552.0,19064.0,13040.0,11991.0,11413.0,12429.0,25220.0,18954.0,32473.0,21683.0,9474.0,25363.0,9751.0,29526.0,13020.0,18935.0,16792.0,27471.0,15648.0,12208.0,7547.0,18088.0,40439.0,16883.0,14616.0,54233.0,18552.0,13551.0,25400.0,25697.0,15723.0,8299.0,22232.0,36338.0,15838.0,29873.0,19786.0,12060.0,31576.0,9146.0,35497.0,11297.0,20768.0,12325.0,16407.0,12169.0,19017.0,15951.0,17967.0,34042.0,40857.0,19293.0,18728.0,16590.0,21014.0,9731.0,35441.0,8158.0,14475.0,18187.0,21719.0,7308.0,28964.0,42330.0,26192.0,20322.0,14645.0,30548.0,37341.0,25286.0,9678.0,21413.0,11881.0,13846.0,16554.0,14335.0,17043.0,13708.0,15756.0,9878.0,14049.0,14321.0,18022.0,10645.0,10078.0,17168.0,10723.0,14869.0,21289.0,15184.0,16951.0,23722.0,6230.0,21672.0,11434.0,14686.0,16561.0,12700.0,23661.0,17162.0,24887.0,15155.0,12836.0,12031.0,8453.0,25557.0,15993.0,21260.0,16715.0,10484.0,35310.0,31585.0,16653.0,14678.0,16374.0,16269.0,8013.0,20953.0,13752.0,36436.0,17672.0,24148.0,16104.0,13278.0,41338.0,21489.0,19692.0,9538.0,16876.0,20045.0,21934.0,19065.0,7617.0,19587.0,13090.0,20715.0,22945.0,18382.0,17469.0,47260.0,16963.0,17408.0,10197.0,18245.0,19661.0,19204.0,14619.0,6010.0,29571.0,18523.0,7854.0,32267.0,16068.0,31881.0,7311.0,16257.0,19143.0,16965.0,16779.0,19477.0,28192.0,21569.0,37351.0,25098.0,13292.0,21615.0,21615.0,36567.0,9631.0,41726.0,10420.0,16533.0,22142.0,22142.0,11438.0,21483.0,29345.0,51430.0,38851.0,13545.0,28960.0,21373.0,23346.0,26245.0,17275.0,30559.0,47841.0,20692.0,27328.0,25637.0,17984.0,19788.0,15452.0,51814.0,12866.0,19490.0,28354.0,12726.0,19205.0,33482.0,9282.0,19621.0,23016.0,24421.0,31802.0,9641.0,17562.0,34410.0,12516.0,25717.0,23443.0,24648.0,17497.0,12368.0,21575.0,22222.0,23529.0,23367.0,59685.0,19559.0,32769.0,25617.0,9898.0,11281.0,7340.0,18301.0,29725.0,11826.0,31816.0,25004.0,25606.0,21373.0,24637.0,24361.0,20065.0,22785.0,27463.0,26085.0,9949.0,15346.0,25159.0,18112.0,18108.0,24092.0,16352.0,19128.0,11322.0,7522.0,31204.0,17727.0,19812.0,12527.0,64969.0,31972.0,21406.0,12328.0,14240.0,13878.0,17165.0,40051.0,13938.0,18019.0,6423.0,37825.0,17672.0,19715.0,31939.0,11177.0,27379.0,13632.0,19225.0,16713.0,12453.0,14269.0,25157.0,15998.0,12698.0,19212.0,24711.0,30765.0,15261.0,21274.0,29475.0,15372.0,18756.0,15801.0,8097.0,11056.0,18909.0,20593.0,11726.0,19607.0,27523.0,12042.0,12531.0,12871.0,41233.0,16414.0,20109.0,19691.0,38895.0,16439.0,19725.0,29880.0,30707.0,9870.0,8309.0,7630.0,23813.0,14211.0,13846.0,21102.0,12778.0,12853.0,36639.0,16608.0,8570.0,14052.0,15278.0,13510.0,8553.0,14419.0,17558.0,16415.0,17218.0,19113.0,21758.0,19428.0,26181.0,18530.0,56388.0,36414.0,16143.0,20718.0,17527.0,17785.0,15000.0,13183.0,21063.0,44713.0,22443.0,24208.0,17130.0,15130.0,21006.0,13748.0,25950.0,17628.0,78247.0,15024.0,12145.0,9634.0,18419.0,15533.0,18547.0,15930.0,25750.0,34685.0,21755.0,13036.0,11967.0,13600.0,15254.0,12421.0,12823.0,15735.0,11220.0,25630.0,12836.0,11960.0,23958.0,23721.0,16459.0,33133.0,21075.0,13682.0,38485.0,27986.0,19400.0,14322.0,22188.0,16647.0,29711.0,22632.0,31482.0,15177.0,13691.0,11290.0,22274.0,16578.0,15009.0,20239.0,14206.0,10089.0,9561.0,16560.0,19319.0,36867.0,13913.0,17116.0,30714.0,26516.0,18382.0,16523.0,8884.0,41807.0,18615.0,11844.0,12849.0,21477.0,11463.0,18667.0,20907.0,17576.0,25630.0,16751.0,21341.0,24100.0,16515.0,23279.0,16760.0,16180.0,35430.0,17783.0,24657.0,10161.0,27923.0,19607.0,24782.0,17147.0,19935.0,27317.0,29122.0,15207.0,8652.0,16753.0,32614.0,32219.0,14024.0,10218.0,8049.0,23135.0,11373.0,16587.0,21751.0,29889.0,12215.0,23979.0,29413.0,12775.0,26394.0,12730.0,12409.0,14103.0,20617.0,16843.0,20962.0,20654.0,9596.0,18925.0,16355.0,6354.0,15288.0,35392.0,32145.0,16746.0,17995.0,18549.0,16901.0,21265.0,15961.0,18944.0,25497.0,22137.0,28282.0,20970.0,37261.0,12798.0,32150.0,30906.0,24057.0,12248.0,12100.0,19869.0,23634.0,17995.0,15397.0,27799.0,9078.0,24852.0,15724.0,15981.0,11141.0,19702.0,14832.0,17234.0,20870.0,13684.0,12670.0,22268.0,9597.0,19155.0,11286.0,49489.0,24824.0,50327.0,20249.0,13075.0,25397.0,14800.0,10395.0,19916.0,22902.0,18424.0,20200.0,24948.0,11595.0,24932.0,8736.0,16980.0,16469.0,26687.0,23237.0,23315.0,18831.0,17717.0,16116.0,23468.0,35758.0,18068.0,24005.0,25905.0,26630.0,40548.0,24166.0,15759.0,15993.0,13562.0,34278.0,10469.0,23339.0,10172.0,17110.0,19119.0,18175.0,60171.0,34311.0,22014.0,10943.0,21173.0,8474.0,20339.0,15808.0,8503.0,17974.0,35624.0,14237.0,20475.0,27529.0,10138.0,11054.0,19294.0,19289.0,18262.0,19856.0,19003.0,27502.0,23798.0,6273.0,26668.0,38523.0,12860.0,19387.0,24474.0,20644.0,11928.0,11425.0,21995.0,18769.0,9880.0,19308.0,13562.0,14530.0,16901.0,20446.0,16324.0,50123.0,36490.0,13506.0,14649.0,10907.0,18878.0,35231.0,14524.0,25378.0,30914.0,47562.0,21140.0,15288.0,20270.0,16488.0,21411.0,16269.0,11417.0,27945.0,15160.0,24151.0,16701.0,18233.0,17788.0,13080.0,10538.0,24298.0,45528.0,77234.0,16913.0,15072.0,28128.0,20464.0,20883.0,28032.0,22443.0,15550.0,16714.0,17325.0,20077.0,25723.0,23965.0,11130.0,11355.0,15274.0,35231.0,11852.0,20026.0,45061.0,36729.0,18052.0,7913.0,20093.0,31647.0,29033.0,25495.0,27015.0,11969.0,41375.0,12063.0,28550.0,31916.0,15637.0,15846.0,11756.0,14670.0,20090.0,9651.0,12755.0,22472.0,23947.0,27421.0,23058.0,24565.0,18330.0,25162.0,14381.0,32659.0,23261.0,16634.0,34354.0,15888.0,35219.0,6552.0,24056.0,16517.0,11089.0,17534.0,41878.0,13799.0,17572.0,16581.0,16769.0,27034.0,23263.0,19086.0,18076.0,33554.0,15711.0,18134.0,11452.0,11739.0,14595.0,30239.0,18710.0,5974.0,15676.0,19440.0,13885.0,17201.0,25868.0,19169.0,17472.0,28929.0,8524.0,18442.0,19632.0,26328.0,27319.0,33349.0,24625.0,16881.0,16891.0,23505.0,16916.0,16765.0,22516.0,23774.0,11539.0,9254.0,30057.0,13307.0,12584.0,30949.0,12066.0,17824.0,15136.0,16440.0,32043.0,31231.0,13608.0,20184.0,14782.0,25533.0,24386.0,11254.0,20228.0,21200.0,36695.0,16549.0,8067.0,21613.0,17013.0,24451.0,18162.0,20054.0,6916.0,11612.0,8912.0,19083.0,10869.0,26059.0,23564.0,19476.0,22089.0,14269.0,15039.0,17676.0,13505.0,18224.0,11319.0,13633.0,11196.0,25222.0,28895.0,19186.0,13417.0,32441.0,21179.0,18940.0,23827.0,13314.0,27370.0,27575.0,19561.0,11724.0,30324.0,14431.0,15061.0,13839.0,36771.0,16255.0,28730.0,12909.0,14551.0,19386.0,17033.0,23748.0,16758.0,23092.0,15090.0,29544.0,23498.0,32087.0,23298.0,12306.0,12344.0,13812.0,39698.0,9814.0,17017.0,13751.0,22373.0,27269.0,25323.0,20120.0,29017.0,43953.0,18776.0,10925.0,20039.0,35725.0,14586.0,20862.0,16566.0,10522.0,19558.0,20908.0,12494.0,24632.0,11294.0,21385.0,31080.0,36177.0,22781.0,17675.0,29527.0,15352.0,31504.0,12888.0,40073.0,24499.0,17853.0,16914.0,15324.0,28699.0,45075.0,10117.0,30786.0,9777.0,15366.0,28246.0,18077.0,27461.0,9839.0,23949.0,14788.0,22629.0,32337.0,16903.0,22166.0,6445.0,55396.0,21647.0,12764.0,37955.0,16451.0,18293.0,33356.0,10794.0,33201.0,15239.0,12278.0,13765.0,46405.0,33520.0,10428.0,13238.0,21019.0,14783.0,13445.0,14051.0,9242.0,20276.0,19287.0,17485.0,12515.0,16454.0,22849.0,11116.0,17760.0,38888.0,16400.0,36675.0,23611.0,13466.0,12342.0,8663.0,12813.0,32898.0,21873.0,6229.0,13652.0,12417.0,18101.0,27383.0,11773.0,22743.0,20228.0,30933.0,8944.0,15668.0,16660.0,13655.0,14489.0,14931.0,23960.0,37089.0,23909.0,17407.0,26713.0,28017.0,9700.0,10250.0,27590.0,19143.0,25278.0,11982.0,19546.0,22371.0,19216.0,17836.0,19675.0,15158.0,24174.0,16383.0,14887.0,13800.0,38380.0,21866.0,11624.0,28682.0,20086.0,12272.0,7840.0,25431.0,23862.0,13801.0,12029.0,22200.0,25280.0,16227.0,17301.0,12816.0,13664.0,17748.0,8938.0,16028.0,23321.0,26520.0,5615.0,29638.0,5803.0,59871.0,11108.0,21583.0,14291.0,14177.0,17916.0,27417.0,15472.0,23380.0,10640.0,21911.0,36570.0,7538.0,10346.0,19288.0,17484.0,14076.0,14016.0,15144.0,21278.0,12585.0,17550.0,16324.0,27502.0,8652.0,14098.0,13310.0,8858.0,16511.0,31802.0,18313.0,22873.0,24079.0,14975.0,12183.0,20533.0,27507.0,22549.0,12998.0,25031.0,9842.0,17725.0,24060.0,22455.0,20803.0,23080.0,21619.0,21239.0,17323.0,15468.0,16298.0,17357.0,17631.0,27558.0,25124.0,10985.0,34183.0,36419.0,7479.0,33214.0,12843.0,21351.0,17646.0,13552.0,14028.0,13414.0,27161.0,14283.0,13849.0,33636.0,32441.0,18627.0,21862.0,23457.0,27021.0,35853.0,25398.0,26705.0,13054.0,27349.0,18537.0,24663.0,7096.0,29224.0,27432.0,29893.0,16563.0,12848.0,13299.0,30581.0,17760.0,50905.0,8104.0,31428.0,42031.0,12567.0,18330.0,32023.0,19697.0,19290.0,17717.0,16478.0,29661.0,15588.0,17631.0,55574.0,25519.0,16270.0,32441.0,22315.0,21259.0,16584.0,25141.0,16540.0,19785.0,35689.0,34966.0,23045.0,17991.0,17659.0,22352.0,19791.0,40811.0,29753.0,23392.0,45846.0,13045.0,16404.0,24827.0,24192.0,21592.0,22901.0,15409.0,17844.0,8929.0,13815.0,20497.0,22272.0,28431.0,33317.0,10680.0,9692.0,53605.0,11445.0,12756.0,14100.0,19548.0,16770.0,14818.0,26973.0,16436.0,42675.0,19828.0,11167.0,24424.0,20898.0,9854.0,11484.0,17585.0,10777.0,24137.0,21844.0,25342.0,23551.0,26673.0,19856.0,22979.0,14190.0,17430.0,23198.0,13785.0,24719.0,17721.0,13739.0,10872.0,12762.0,14729.0,13748.0,16551.0,14011.0,25884.0,19677.0,20162.0,34339.0,22077.0,30802.0,27851.0,16078.0,15910.0,14288.0,26937.0,28325.0,31735.0,10786.0,14223.0,23800.0,35351.0,23826.0,8724.0,25295.0,20544.0,12417.0,19498.0,14523.0,23929.0,27157.0,13236.0,15886.0,22576.0,32304.0,19058.0,16308.0,8807.0,12969.0,14318.0,27971.0,17261.0,33607.0,24828.0,18253.0,26465.0,38993.0,27596.0,10886.0,30299.0,28416.0,20235.0,18379.0,13372.0,12724.0,14097.0,41555.0,30785.0,31563.0,27265.0,9542.0,26413.0,28342.0,21392.0,13460.0,21756.0,30683.0,25165.0,17873.0,22549.0,21267.0,22002.0,15619.0,20745.0,21546.0,13803.0,9233.0,26211.0,10374.0,12756.0,17670.0,28986.0,38483.0,19806.0,11840.0,18281.0,16816.0,18021.0,25369.0,11467.0,10908.0,9923.0,18486.0,20259.0,16488.0,19292.0,16124.0,11463.0,30942.0,37170.0,23667.0,8571.0,28607.0,14344.0,24888.0,18204.0,34324.0,17081.0,8327.0,7136.0,25886.0,14204.0,41470.0,14936.0,54393.0,19657.0,13946.0,19541.0,33648.0,17424.0,7844.0,20470.0,17650.0,21498.0,29078.0,24836.0,15882.0,6075.0,27667.0,17668.0,21085.0,14344.0,26936.0,10196.0,16618.0,30381.0,9168.0,29449.0,16324.0,13977.0,11985.0,26025.0,10047.0,29466.0,9177.0,25928.0,25253.0,14165.0,33396.0,12427.0,36995.0,11544.0,21779.0,14354.0,14364.0,8955.0,25002.0,31338.0,16684.0,21405.0,10037.0,10775.0,24021.0,11967.0,23360.0,25969.0,17616.0,9012.0,30405.0,11997.0,18650.0,21831.0,19719.0,46312.0,19269.0,21878.0,36367.0,38325.0,14075.0,25731.0,12560.0,11960.0,18250.0,32333.0,52880.0,6982.0,12928.0,19246.0,14454.0,27340.0,31665.0,20566.0,19228.0,13717.0,18113.0,25991.0,31456.0,32928.0,14326.0,21489.0,9699.0,11694.0,25978.0,35282.0,33281.0,40950.0,10433.0,14715.0,21136.0,58776.0,23199.0,34836.0,4859.0,29292.0,15050.0,16241.0,27877.0,11538.0,10608.0,13494.0,16561.0,14220.0,9620.0,3880.0,12594.0,19314.0,30128.0,11708.0,16434.0,22754.0,23037.0,23840.0,12870.0,24156.0,12281.0,36110.0,23603.0,21275.0,11545.0,17929.0,10596.0,7790.0,15074.0,19319.0,20756.0,12758.0,14305.0,12070.0,14993.0,8005.0,14972.0,13347.0,23181.0,23495.0,11154.0,28726.0,14209.0,28994.0,36461.0,16145.0,18796.0,31984.0,11751.0,25443.0,11211.0,7387.0,18239.0,12111.0,12000.0,49113.0,18652.0,17111.0,9496.0,25639.0,26559.0,8318.0,19131.0,34231.0,11040.0,20485.0,27133.0,21883.0,8921.0,17902.0,27660.0,18832.0,8439.0,12321.0,15076.0,6411.0,11918.0,17330.0,15408.0,17708.0,32708.0,24229.0,17531.0,32713.0,9598.0,20695.0,14144.0,19305.0,17244.0,16386.0,23989.0,29009.0,20667.0,24103.0,24664.0,25626.0,26282.0,17916.0,14931.0,17988.0,41962.0,12699.0,9025.0,26873.0,13723.0,29892.0,23550.0,12544.0,20626.0,23970.0,18349.0,17744.0,19162.0,14851.0,32647.0,20305.0,13734.0,27489.0,12486.0,22209.0,5474.0,19302.0,11908.0,29151.0,8743.0,28989.0,20449.0,20777.0,47979.0,16959.0,22716.0,57557.0,13697.0,23988.0,28126.0,23757.0,21422.0,14889.0,24199.0,22639.0,35589.0,42259.0,22750.0,7922.0,31840.0,32361.0,25225.0,11665.0,45098.0,11172.0,14863.0,32987.0,30918.0,28740.0,22766.0,15282.0,16287.0,37892.0,20497.0,7818.0,20177.0,24265.0,29241.0,22519.0,11829.0,29321.0,15357.0,30284.0,22489.0,18569.0,48503.0,17203.0,28426.0,18465.0,10696.0,18083.0,7510.0,23058.0,10461.0,12459.0,11616.0,28287.0,20340.0,25160.0,11809.0,7016.0,18329.0,15454.0,10625.0,12766.0,14842.0,16871.0,8766.0,13328.0,20894.0,12919.0,23827.0,21098.0,21489.0,17057.0,12006.0,20154.0,4624.0,20885.0,31788.0,11943.0,15206.0,16954.0,37174.0,11666.0,13760.0,24464.0,21724.0,19255.0,18947.0,17808.0,37027.0,28741.0,21909.0,18265.0,8841.0,11558.0,12417.0,13403.0,14253.0,27977.0,12844.0,14959.0,13463.0,29915.0,18845.0,21949.0,19484.0,19838.0,26272.0,18062.0,6945.0,22665.0,10511.0,26273.0,33747.0,9023.0,26831.0,15541.0,14345.0,21776.0,18413.0,12120.0,29799.0,29274.0,6317.0,16771.0,11140.0,11298.0,16326.0,25488.0,16500.0,14257.0,9071.0,40713.0,19012.0,22065.0,36663.0,15217.0,18599.0,13748.0,12079.0,19795.0,15986.0,12694.0,20090.0,19997.0,8453.0,15161.0,38571.0,17717.0,19744.0,26734.0,13606.0,9139.0,12299.0,17764.0,39794.0,13636.0,6766.0,21061.0,15644.0,16260.0,12531.0,26404.0,13127.0,21658.0,11244.0,17525.0,17607.0,18603.0,11899.0,20306.0,13793.0,25288.0,21276.0,13096.0,16929.0,24006.0,10164.0,43238.0,12731.0,17433.0,47560.0,6371.0,35751.0,19260.0,8972.0,15234.0,12353.0,31543.0,35694.0,51257.0,11098.0,20415.0,51665.0,29714.0,8726.0,16245.0,20533.0,12590.0,25254.0,18194.0,12494.0,9465.0,13471.0,12767.0,18906.0,29651.0,25387.0,37041.0,15571.0,24126.0,14776.0,18446.0,12912.0,22892.0,14162.0,24508.0,12208.0,20844.0,21584.0,23210.0,28052.0,13588.0,21985.0,22614.0,20165.0,8339.0,26696.0,29751.0,35863.0,21695.0,14567.0,15770.0,15196.0,11645.0,19731.0,24078.0,10136.0,16140.0,19521.0,10988.0,27300.0,16878.0,24604.0,26805.0,28874.0,28290.0,22860.0,15575.0,17942.0,21419.0,21704.0,18267.0,17300.0,22990.0,16811.0,14100.0,6018.0,19405.0,25304.0,17463.0,20806.0,18544.0,22200.0,10411.0,13354.0,24638.0,12950.0,28494.0,17599.0,17906.0,22735.0,20444.0,16346.0,11960.0,14256.0,31611.0,8278.0,26714.0,10555.0,19394.0,16155.0,18311.0,16525.0,27963.0,25196.0,26280.0,13112.0,11469.0,11749.0,14662.0,21712.0,6663.0,17487.0,19290.0,12225.0,35158.0,18302.0,18371.0,21206.0,39735.0,16305.0,14041.0,25623.0,15497.0,21713.0,20058.0,10452.0,9792.0,20519.0,27893.0,44343.0,17262.0,30345.0,16485.0,20323.0,29473.0,16918.0,14874.0,29302.0,30735.0,15489.0,11257.0,19065.0,24045.0,6426.0,19611.0,13619.0,26522.0,12614.0,8938.0,19115.0,23260.0,6016.0,12006.0,15869.0,29524.0,39693.0,16659.0,11978.0,10696.0,5625.0,15089.0,16141.0,22015.0,18904.0,3883.0,18039.0,44353.0,20244.0,29118.0,15893.0,17354.0,28008.0,26329.0,8864.0,26478.0,10676.0,20502.0,14510.0,14541.0,21876.0,18265.0,19646.0,13173.0,23011.0,15233.0,15247.0,16170.0,39458.0,28861.0,16891.0,23257.0,27871.0,34417.0,16473.0,31563.0,19627.0,15688.0,37044.0,16849.0,23039.0,37874.0,15366.0,21965.0,29687.0,43775.0,29579.0,15794.0,8286.0,9306.0,22039.0,39137.0,26676.0,11731.0,8966.0,17716.0,24547.0,16830.0,19766.0,11612.0,19719.0,15134.0,22812.0,17408.0,24251.0,17335.0,39163.0,38040.0,22386.0,56240.0,25088.0,21679.0,23439.0,11482.0,20351.0,19264.0,4691.0,39791.0,17893.0,7058.0,11406.0,15861.0,13572.0,10269.0,14184.0,12281.0,21601.0,15582.0,21645.0,20297.0,16446.0,37044.0,21898.0,14529.0,46037.0,24086.0,18449.0,13046.0,35557.0,17851.0,11344.0,15221.0,21124.0,19052.0,21662.0,14258.0,14729.0,12508.0,27678.0,8040.0,9069.0,15251.0,48525.0,28647.0,11562.0,17638.0,7092.0,30991.0,17262.0,14389.0,26157.0,20696.0,20063.0,22847.0,20395.0,17302.0,14457.0,20490.0,37074.0,26586.0,26349.0,19983.0,8048.0,9912.0,10963.0,11487.0,25040.0,20421.0,24017.0,28002.0,18619.0,37286.0,20591.0,22469.0,5103.0,11951.0,25790.0,10205.0,13454.0,25712.0,33218.0,22353.0,18545.0,20006.0,24090.0,22653.0,11161.0,17654.0,23604.0,24787.0,25251.0,14275.0,18206.0,13177.0,22580.0,14174.0,13962.0,21675.0,16355.0,13381.0,18869.0,18000.0,24211.0,27316.0,26996.0,18877.0,23040.0,29585.0,12469.0,13463.0,15892.0,15279.0,19161.0,10687.0,19605.0,17758.0,20191.0,12411.0,43919.0,16915.0,10182.0,19245.0,14871.0,16690.0,9793.0,16566.0,17886.0,22759.0,16511.0,21012.0,29020.0,34369.0,15025.0,23842.0,22614.0,19833.0,32642.0,17458.0,17658.0,13821.0,26392.0,19525.0,14702.0,33821.0,18477.0,44595.0,30845.0,22900.0,13029.0,17064.0,17318.0,30555.0,11839.0,12723.0,26272.0,15522.0,17357.0,13140.0,17772.0,28324.0,38751.0,18986.0,26198.0,40723.0,17149.0,15911.0,14599.0,39401.0,12643.0,18347.0,21422.0,18614.0,22933.0,17998.0,15750.0,29225.0,13168.0,24838.0,34348.0,14326.0,42678.0,8042.0,10988.0,13204.0,26532.0,15171.0,15920.0,5952.0,27187.0,12146.0,18325.0,16348.0,6388.0,12375.0,24000.0,23279.0,31971.0,24463.0,25156.0,19727.0,26117.0,12782.0,34679.0,12411.0,17835.0,16632.0,35655.0,26695.0,16738.0,31128.0,20632.0,10651.0,23110.0,9634.0,19242.0,22370.0,27850.0,13941.0,22713.0,17305.0,13992.0,28451.0,19233.0,8742.0,20518.0,21914.0,18113.0,17589.0,25828.0,12740.0,25408.0,31208.0,26372.0,4353.0,15847.0,19996.0,13786.0,16051.0,9016.0,25683.0,9844.0,26150.0,15374.0,21133.0,17739.0,31179.0,13148.0,28038.0,14229.0,12962.0,24888.0,34108.0,15525.0,29588.0,5824.0,18820.0,25752.0,28899.0,19703.0,21510.0,14179.0,22594.0,18749.0,13970.0,21711.0,22936.0,18375.0,10665.0,20330.0,20164.0,6503.0,25233.0,7497.0,26559.0,25795.0,17123.0,20942.0,37612.0,35640.0,19821.0,21163.0,27980.0,15819.0,27577.0,19346.0,20360.0,19268.0,34664.0,30678.0,18704.0,15380.0,61198.0,15958.0,25990.0,29759.0,13249.0,28632.0,24114.0,11280.0,17670.0,32106.0,21030.0,16146.0,21815.0,15963.0,32555.0,14131.0,21565.0,30748.0,21762.0,43867.0,32149.0,37153.0,13195.0,29591.0,18786.0,13994.0,24371.0,14432.0,43198.0,14951.0,19696.0,14162.0,8037.0,33351.0,14251.0,22223.0,25475.0,12337.0,24950.0,15479.0,14710.0,14500.0,16941.0,16162.0,10998.0,20652.0,19123.0,30757.0,15850.0,18326.0,10813.0,15053.0,41397.0,19701.0,12249.0,22702.0,10707.0,17077.0,13675.0,21375.0,12945.0,16855.0,10103.0,21264.0,32677.0,15077.0,19377.0,12918.0,13142.0,24185.0,35631.0,21054.0,12110.0,23674.0,16205.0,16684.0,31138.0,15427.0,11952.0,19577.0,17259.0,18730.0,31489.0,13900.0,19334.0,23486.0,14144.0,15942.0,18780.0,11057.0,19096.0,11349.0,25262.0,20848.0,26464.0,34005.0,20995.0,21544.0,13757.0,19907.0,22155.0,12921.0,26892.0,12832.0,16337.0,16291.0,4350.0,18477.0,9624.0,15624.0,14026.0,26295.0,15192.0,12018.0,20274.0,19953.0,17147.0,33504.0,34585.0,16644.0,20608.0,13221.0,7837.0,3705.0,18810.0,16672.0,18110.0,18659.0,41139.0,26265.0,12715.0,16207.0,18890.0,24194.0,18581.0,33338.0,19216.0,21769.0,18967.0,15760.0,19132.0,13360.0,22015.0,35384.0,26634.0,27806.0,21113.0,17829.0,8539.0,7300.0,18843.0,22209.0,25929.0,22046.0,21708.0,17107.0,18934.0,26962.0,23117.0,26763.0,12824.0,31997.0,33665.0,22598.0,12433.0,29006.0,32632.0,8167.0,16188.0,10381.0,20572.0,30264.0,33560.0,39401.0,23365.0,20061.0,17630.0,34986.0,20633.0,20865.0,28593.0,25081.0,15601.0,19011.0,10865.0,27195.0,24048.0,35146.0,17851.0,21969.0,15410.0,17478.0,13235.0,19924.0,32173.0,17178.0,28701.0,8539.0,12843.0,38300.0,16444.0,16735.0,12075.0,8337.0,39036.0,26206.0,13475.0,21137.0,11886.0,29662.0,50568.0,18384.0,18578.0,10955.0,26387.0,17464.0,42537.0,13747.0,12353.0,17393.0,14236.0,22188.0,26462.0,37447.0,17480.0,16316.0,27993.0,25059.0,17195.0,8890.0,19225.0,19765.0,24003.0,25213.0,22476.0,26304.0,16592.0,12141.0,33292.0,31169.0,18795.0,31969.0,13811.0,15974.0,31470.0,50642.0,17008.0,18568.0,16478.0,22447.0,23459.0,31123.0,18867.0,11682.0,14447.0,27338.0,23315.0,18782.0,19236.0,16440.0,12051.0,30912.0,12244.0,8656.0,19965.0,23007.0,16121.0,16471.0,26484.0,12638.0,14399.0,31511.0,19190.0,19879.0,22228.0,26112.0,30029.0,22499.0,16458.0,18280.0,21254.0,24359.0,24771.0,18354.0,16741.0,19903.0,18410.0,13133.0,9097.0,19955.0,13645.0,23855.0,18764.0,16424.0,29705.0,15229.0,12616.0,11157.0,20347.0,13922.0,25105.0,16918.0,20047.0,16834.0,8512.0,26764.0,18523.0,18919.0,44611.0,21546.0,12418.0,14973.0,37125.0,20670.0,23460.0,21387.0,18905.0,19347.0,28467.0,11788.0,8341.0,13820.0,25650.0,18670.0,21605.0,9460.0,17813.0,27608.0,18212.0,9930.0,43041.0,16786.0,17575.0,11930.0,15645.0,21935.0,16593.0,8400.0,21987.0,15087.0,22832.0,28508.0,15645.0,19602.0,27101.0,17509.0,21694.0,11333.0,15089.0,11587.0,34672.0,19917.0,20358.0,18717.0,14062.0,17625.0,13400.0,18454.0,33486.0,13879.0,29645.0,32346.0,16926.0,21439.0,13121.0,21727.0,14402.0,31582.0,19969.0,15867.0,15873.0,21986.0,15043.0,33547.0,18039.0,12430.0,60715.0,17836.0,21698.0,17308.0,32103.0,34838.0,24717.0,23439.0,25364.0,21929.0,9840.0,21847.0,14267.0,25275.0,8547.0,25552.0,38078.0,18259.0,18311.0,22966.0,14860.0,12870.0,12142.0,23245.0,22760.0,23053.0,20551.0,44246.0,20541.0,18163.0,14516.0,15521.0,37645.0,14178.0,21749.0,14818.0,6065.0,7853.0,24699.0,18822.0,15708.0,24979.0,34801.0,23585.0,16432.0,17118.0,11126.0,15701.0,25511.0,42552.0,24975.0,20782.0,21705.0,17871.0,20977.0,46407.0,37214.0,15399.0,17384.0,4965.0,9444.0,16894.0,13785.0,18614.0,13959.0,8036.0,35883.0,33914.0,21843.0,16429.0,13987.0,30599.0,9574.0,14536.0,17558.0,12973.0,14077.0,20581.0,8815.0,15488.0,24039.0,9967.0,32459.0,15297.0,16693.0,17554.0,13539.0,14515.0,18544.0,20416.0,6895.0,15232.0,16962.0,25363.0,33910.0,11755.0,18253.0,12810.0,13508.0,13506.0,11769.0,16935.0,22286.0,25752.0,24063.0,18788.0,6106.0,17798.0,10708.0,23615.0,18205.0,14786.0,23898.0,14162.0,22413.0,13955.0,20784.0,17439.0,2597.0,13079.0,20871.0,7749.0,15617.0,19812.0,15217.0,15200.0,24188.0,16731.0,18609.0,17939.0,17393.0,29269.0,16835.0,19549.0,14136.0,13927.0,16565.0,8337.0,28439.0,11885.0,13211.0,22319.0,18873.0,17456.0,26607.0,22741.0,10698.0,51673.0,21054.0,15061.0,20890.0,21980.0,22074.0,26306.0,20320.0,27426.0,29931.0,14404.0,28062.0,21437.0,22698.0,4900.0,28152.0,14597.0,11579.0,16121.0,11274.0,11448.0,29766.0,11910.0,18976.0,18918.0,22836.0,20999.0,15832.0,12144.0,10567.0,19402.0,15092.0,12063.0,6967.0,14870.0,29263.0,11613.0,20095.0,21509.0,4255.0,24911.0,11249.0,12884.0,16273.0,18580.0,10473.0,34574.0,19299.0,17304.0,17967.0,7170.0,26332.0,8522.0,24012.0,18800.0,29273.0,21233.0,40535.0,21657.0,17080.0,19345.0,22365.0,14489.0,18828.0,19935.0,21439.0,9622.0,22966.0,21230.0,22334.0,29724.0,15986.0,27285.0,24548.0,14095.0,14561.0,37896.0,13792.0,24279.0,22041.0,48322.0,14391.0,20190.0,18698.0,47927.0,31141.0,25670.0,21606.0,26438.0,11987.0,19450.0,23518.0,42921.0,12694.0,28304.0,38928.0,25318.0,26271.0,19194.0,21559.0,30555.0,35442.0,14362.0,10354.0,12631.0,14244.0,11430.0,7477.0,12514.0,15177.0,19007.0,11692.0,10976.0,22832.0,16636.0,22762.0,23642.0,11263.0,42065.0,26740.0,18762.0,18719.0,14731.0,18050.0,17178.0,29390.0,15515.0,7704.0,6185.0,29730.0,29877.0,23510.0,23561.0,18485.0,23507.0,17404.0,27837.0,21973.0,25145.0,22034.0,28947.0,12625.0,18022.0,23046.0,21464.0,25413.0,10848.0,14967.0,22102.0,29510.0,16526.0,27125.0,14262.0,14304.0,38534.0,33044.0,19120.0,22430.0,16523.0,15791.0,10367.0,14728.0,44338.0,12869.0,17197.0,25572.0,18099.0,11853.0,23588.0,20301.0,14701.0,21753.0,22457.0,27246.0,10483.0,31364.0,31533.0,10893.0,12254.0,30009.0,21700.0,22097.0,32497.0,17004.0,19275.0,23883.0,21754.0,15767.0,16372.0,43513.0,40134.0,16920.0,21993.0,13949.0,19254.0,13596.0,30259.0,20778.0,44361.0,28230.0,44280.0,25367.0,17540.0,27422.0,13905.0,37704.0,18614.0,9196.0,8397.0,20037.0,25811.0,22368.0,21870.0,17184.0,26767.0,31142.0,22561.0,8542.0,17930.0,53889.0,18056.0,20851.0,16371.0,12174.0,20878.0,6822.0,21515.0,15596.0,19003.0,20107.0,31669.0,21810.0,39316.0,33654.0,24890.0,21393.0,11887.0,37898.0,25050.0,16268.0,28290.0,25896.0,23395.0,10820.0,34466.0,11347.0,21698.0,18323.0,16864.0,33401.0,17980.0,43710.0,13823.0,18463.0,22305.0,9729.0,17633.0,16752.0,10973.0,28544.0,41625.0,35782.0,25128.0,36950.0,19704.0,18025.0,10619.0,25356.0,10099.0,15013.0,21401.0,17554.0,15595.0,20145.0,11719.0,16980.0,26231.0,15159.0,21635.0,15465.0,36442.0,16273.0,28095.0,18876.0,15256.0,29663.0,18792.0,17827.0,22103.0,11525.0,29166.0,51032.0,24347.0,19131.0,28441.0,42367.0,23606.0,12655.0,23714.0,16397.0,45189.0,23112.0,10559.0,18339.0,23790.0,25141.0,13569.0,25944.0,28081.0,21522.0,20776.0,18463.0,16847.0,37412.0,16078.0,31703.0,20934.0,8963.0,32768.0,14850.0,8466.0,15530.0,21112.0,15888.0,19696.0,20326.0,19043.0,26123.0,14294.0,13924.0,12907.0,35730.0,21849.0,55119.0,17734.0,30518.0,15641.0,10879.0,29900.0,11600.0,55344.0,19113.0,19046.0,28316.0,18832.0,37350.0,18244.0,12067.0,38835.0,34897.0,14884.0,17583.0,20454.0,33207.0,30844.0,31647.0,17947.0,51294.0,20203.0,36672.0,13445.0,10396.0,12084.0,15785.0,13745.0,10474.0,34989.0,15480.0,13548.0,13903.0,18364.0,14455.0,16621.0,14111.0,13205.0,17648.0,11336.0,26769.0,42000.0,22266.0,17491.0,41741.0,28191.0,10307.0,18348.0,22549.0,24316.0,14264.0,30509.0,10153.0,24290.0,16450.0,15070.0,16689.0,25048.0,21653.0,9968.0,12368.0,18442.0,13460.0,33096.0,27862.0,22351.0,39281.0,40456.0,31745.0,20999.0,28705.0,14746.0,22885.0,34502.0,57916.0,12073.0,19993.0,17141.0,20490.0,26027.0,11852.0,19171.0,17212.0,10439.0,19818.0,20493.0,13871.0,30233.0,30022.0,12338.0,14806.0,26711.0,17681.0,15109.0,25146.0,15236.0,25694.0,16397.0,23855.0,25101.0,30426.0,22360.0,24226.0,16049.0,15675.0,7510.0,19141.0,25879.0,12622.0,32307.0,15001.0,14123.0,24769.0,33696.0,23935.0,24857.0,15441.0,35860.0,28332.0,26179.0,21374.0,19972.0,9236.0,16446.0,17338.0,16075.0,11123.0,18827.0,29663.0,9989.0,25241.0,21163.0,24543.0,28737.0,23767.0,15637.0,18947.0,21010.0,18592.0,7246.0,27304.0,12022.0,13533.0,11096.0,15667.0,20727.0,18881.0,19750.0,43981.0,19842.0,18870.0,31772.0,22624.0,9844.0,10327.0,11389.0,17440.0,12305.0,13435.0,31156.0,15228.0,32476.0,26558.0,37712.0,20801.0,18973.0,18049.0,14909.0,26592.0,26383.0,44562.0,47677.0,28713.0,60961.0,24302.0,24653.0,17667.0,12304.0,23683.0,40477.0,24706.0,26802.0,28050.0,21547.0,16330.0,15749.0,29060.0,16825.0,17206.0,16902.0,16762.0,23830.0,37766.0,9480.0,8929.0,21961.0,18309.0,22585.0,13021.0,71932.0,14531.0,20321.0,20646.0,38872.0,13522.0,13254.0,12556.0,25945.0,28369.0,27314.0,19112.0,17786.0,14395.0,19433.0,55650.0,27181.0,27921.0,16399.0,21158.0,21533.0,15414.0,15662.0,30865.0,17298.0,26162.0,26961.0,8171.0,15515.0,17184.0,24707.0,55674.0,23176.0,28394.0,14695.0,28089.0,33086.0,23667.0,14329.0,33780.0,13411.0,30457.0,34084.0,13310.0,29329.0,12875.0,33046.0,20189.0,5826.0,11620.0,39578.0,13661.0,13649.0,21401.0,19363.0,14481.0,19212.0,25266.0,21513.0,16716.0,8881.0,13639.0,24894.0,10858.0,30450.0,34334.0,14938.0,6734.0,39106.0,15473.0,16884.0,38616.0,14421.0,26391.0,18248.0,16872.0,26135.0,11293.0,15374.0,13862.0,13849.0,13929.0,6961.0,19014.0,23666.0,20854.0,34623.0,18720.0,24696.0,29995.0,16092.0,42133.0,20310.0,23417.0,17450.0,24059.0,8589.0,14930.0,15220.0,28726.0,30007.0,17893.0,16515.0,21524.0,16143.0,30675.0,12799.0,16447.0,14466.0,29551.0,9577.0,11401.0,34287.0,25575.0,7615.0,16545.0,19513.0,22491.0,11329.0,12699.0,51412.0,12698.0,20245.0,20123.0,21955.0,16300.0,12377.0,4400.0,19261.0,13388.0,14943.0,23265.0,48612.0,18406.0,35447.0,20985.0,10142.0,12907.0,25486.0,18078.0,14801.0,45645.0,21819.0,20057.0,29788.0,12860.0,13483.0,12348.0,34325.0,8503.0,21405.0,25624.0,27258.0,28489.0,33017.0,19840.0,25745.0,31459.0,19596.0,24117.0,22620.0,14787.0,21254.0,30152.0,17674.0,31188.0,34580.0,16787.0,17944.0,19270.0,16416.0,20052.0,10700.0,40009.0,14101.0,36510.0,21225.0,17418.0,18771.0,19581.0,19946.0,15095.0,15574.0,9504.0,21982.0,26400.0,19212.0,25328.0,14046.0,24538.0,22305.0,9124.0,19687.0,38677.0,16523.0,19208.0,15233.0,33845.0,3014.0,15040.0,23192.0,22038.0,20699.0,24018.0,29255.0,12404.0,16033.0,17758.0,32174.0,28880.0,18080.0,11152.0,16152.0,8589.0,17162.0,15628.0,11644.0,24351.0,7893.0,19836.0,23956.0,13677.0,11554.0,15281.0,44744.0,17911.0,32311.0,26416.0,25830.0,13884.0,18166.0,30541.0,32943.0,24878.0,11724.0,47040.0,13483.0,20540.0,23409.0,37083.0,42873.0,24536.0,9633.0,18539.0,38588.0,15534.0,18407.0,21412.0,23269.0,25252.0,17091.0,20046.0,13923.0,20770.0,31759.0,13666.0,22163.0,15335.0,20055.0,28439.0,13697.0,21051.0,30251.0,40184.0,52734.0,11949.0,8552.0,26203.0,26577.0,15206.0,14596.0,22942.0,11839.0,19966.0,16863.0,29099.0,10554.0,20342.0,18612.0,24279.0,20182.0,23627.0,36600.0,28251.0,9108.0,24206.0,41125.0,33174.0,22310.0,16897.0,25537.0,17403.0,16104.0,15749.0,11290.0,30348.0,17098.0,39654.0,18903.0,18650.0,28791.0,12646.0,17366.0,19275.0,16374.0,39152.0,15374.0,16834.0,12838.0,16845.0,33610.0,15437.0,24341.0,29473.0,29822.0,20640.0,20593.0,16865.0,22929.0,14262.0,26062.0,20141.0,17246.0,16007.0,21517.0,21199.0,33852.0,10043.0,12376.0,19215.0,11749.0,18645.0,20682.0,11086.0,22865.0,28828.0,29070.0,13682.0,28358.0,20139.0,31554.0,16662.0,9326.0,12272.0,24672.0,14493.0,12868.0,20539.0,28180.0,25551.0,18872.0,13555.0,9680.0,15891.0,24387.0,14115.0,15616.0,33574.0,12653.0,18068.0,12222.0,19210.0,18886.0,35583.0,32933.0,26099.0,17391.0,9090.0,27220.0,26309.0,27554.0,29177.0,23075.0,21399.0,19877.0,24468.0,67465.0,15976.0,24257.0,22724.0,8211.0,35224.0,22101.0,11154.0,29115.0,31084.0,11547.0,29837.0,31517.0,17753.0,21226.0,21532.0,37047.0,13174.0,8971.0,29600.0,21656.0,8386.0,17437.0,30422.0,18637.0,16851.0,11290.0,26503.0,17790.0,25996.0,13085.0,35062.0,21764.0,32811.0,12272.0,16985.0,9672.0,23742.0,22438.0,11281.0,17579.0,11998.0,15040.0,36955.0,47966.0,19166.0,52777.0,16518.0,53212.0,7103.0,49794.0,23544.0,14938.0,7153.0,15886.0,23375.0,26084.0,11028.0,13613.0,14766.0,16303.0,18421.0,22606.0,12568.0,18327.0,13663.0,18567.0,28319.0,10339.0,32798.0,18778.0,34197.0,22042.0,20837.0,29128.0,20300.0,26254.0,11607.0,15715.0,40090.0,14703.0,18093.0,21595.0,21907.0,19028.0,26900.0,7904.0,22491.0,12365.0,19337.0,18772.0,17746.0,32421.0,25213.0,29063.0,17070.0,30255.0,18184.0,15123.0,20787.0,51020.0,13857.0,56786.0,22122.0,13761.0,20335.0,16738.0,10209.0,26808.0,19843.0,18094.0,22422.0,23791.0,31062.0,26685.0,32812.0,17020.0,25581.0,31336.0,20389.0,13247.0,21164.0,26832.0,21432.0,26559.0,20325.0,16135.0,8541.0,15182.0,12254.0,12292.0,15611.0,20637.0,12530.0,31191.0,26328.0,24213.0,9521.0,26628.0,32401.0,22742.0,16004.0,18489.0,9887.0,20681.0,14180.0,16576.0,20098.0,33775.0,23802.0,12830.0,33515.0,23445.0,20879.0,26824.0,18798.0,40946.0,19565.0,15298.0,18809.0,13459.0,18345.0,22537.0,18869.0,18177.0,9072.0,22549.0,18872.0,28628.0,26272.0,49255.0,17192.0,28883.0,21171.0,21155.0,28771.0,20783.0,23120.0,9934.0,14343.0,17637.0,13011.0,18238.0,12376.0,17028.0,14941.0,12825.0,22680.0,16443.0,19545.0,13628.0,6507.0,19141.0,10508.0,27629.0,15637.0,31019.0,30881.0,19901.0,18967.0,21939.0,25550.0,18100.0,11542.0,19293.0,24674.0,19393.0,21355.0,24213.0,24865.0,17356.0,17437.0,21461.0,37525.0,15066.0,19503.0,23030.0,13110.0,16046.0,19610.0,25884.0,32627.0,27686.0,20361.0,17475.0,27490.0,24278.0,31261.0,9827.0,26780.0,11948.0,29776.0,22032.0,33465.0,19983.0,16849.0,7774.0,26325.0,30269.0,7784.0,24345.0,26488.0,33357.0,46951.0,21229.0,20705.0,35956.0,31792.0,19548.0,31581.0,11649.0,25256.0,17037.0,17364.0,21003.0,24856.0,10504.0,17228.0,20285.0,19701.0,13070.0,38877.0,31864.0,24646.0,25046.0,29495.0,15170.0,25670.0,16050.0,25029.0,15040.0,19924.0,32986.0,22068.0,11947.0,18370.0,20640.0,23834.0,25605.0,18095.0,23558.0,22417.0,30510.0,19590.0,19159.0,21525.0,48865.0,35798.0,17979.0,19631.0,47774.0,19431.0,17948.0,37782.0,63198.0,21668.0,32823.0,66256.0,13490.0,34439.0,92366.0,24072.0,15151.0,29794.0,12612.0,21004.0,15364.0,36206.0,18774.0,44665.0,24006.0,16556.0,13471.0,20007.0,25966.0,17662.0,16689.0,5668.0,18593.0,25704.0,11621.0,22323.0,18239.0,44894.0,50470.0,10285.0,19822.0,10665.0,9281.0,15481.0,26945.0,19519.0,31325.0,35523.0,15724.0,14068.0,31622.0,18125.0,18240.0,7931.0,21104.0,12949.0,18605.0,25810.0,31359.0,27114.0,63876.0,29627.0,19613.0,42931.0,19327.0,21553.0,15994.0,19064.0,14440.0,15217.0,34681.0,15735.0,19865.0,35814.0,37295.0,26912.0,26234.0,30906.0,11651.0,12739.0,39349.0,14106.0,41083.0,37274.0,36728.0,7264.0,12614.0,21820.0,22577.0,18211.0,25706.0,26680.0,25098.0,20617.0,16223.0,11105.0,24369.0,19445.0,13577.0,19416.0,15406.0,12728.0,25595.0,21308.0,18051.0,18723.0,15526.0,20501.0,19101.0,30660.0,26323.0,40161.0,14424.0,21329.0,20658.0,17962.0,65724.0,47221.0,31596.0,10586.0,16099.0,42138.0,31449.0,13578.0,16232.0,35265.0,18255.0,26724.0,25307.0,17244.0,19919.0,32222.0,16962.0,27514.0,36185.0,23119.0,31135.0,41290.0,13426.0,32162.0,12381.0,15445.0,21367.0,23228.0,24637.0,27231.0,10983.0,28370.0,14704.0,25783.0,13583.0,36813.0,24514.0,59554.0,26581.0,18907.0,17239.0,18609.0,16374.0,15805.0,14544.0,27614.0,22795.0,25694.0,21668.0,42988.0,26908.0,35273.0,21724.0,20569.0,18663.0,17534.0,22753.0,20325.0,22414.0,37203.0,15320.0,8022.0,14320.0,41924.0,17181.0,29440.0,33022.0,23106.0,15390.0,17085.0,41963.0,30050.0,12538.0,21593.0,30004.0,21239.0,27942.0,24474.0,44361.0,25026.0,20082.0,30759.0,12390.0,30638.0,19472.0,39659.0,27942.0,12109.0,27968.0,26467.0,14271.0,17319.0,15155.0,14370.0,14245.0,26404.0,15534.0,27726.0,16902.0,12265.0,20794.0,18784.0,28409.0,21469.0,18469.0,26964.0,47466.0,14373.0,26642.0,27367.0,19674.0,16001.0,25530.0,10117.0,7285.0,33078.0,24062.0,28465.0,19966.0,21084.0,11561.0,26869.0,20228.0,14013.0,6444.0,21664.0,16392.0,20022.0,25507.0,9304.0,23760.0,10715.0,24246.0,11158.0,18774.0,36186.0,47774.0,31016.0,57183.0,13045.0,49379.0,44200.0,26469.0,32673.0,20097.0,16636.0,18915.0,16285.0,16211.0,22895.0,24531.0,12242.0,18366.0,10223.0,11759.0,18639.0,23373.0,31970.0,31725.0,29053.0,18680.0,47087.0,12406.0,21293.0,17207.0,8553.0,38361.0,14244.0,17624.0,22389.0,23361.0,22777.0,15253.0,53881.0,19708.0,17817.0,10265.0,19821.0,17231.0,52534.0,27783.0,28298.0,11665.0,12397.0,20502.0,30667.0,25386.0,11333.0,22023.0,24208.0,23624.0,13851.0,42490.0,19733.0,36627.0,15164.0,43430.0,14072.0,37237.0,21118.0,18258.0,18133.0,36644.0,19329.0,34496.0,21039.0,23809.0,21792.0,33817.0,14856.0,22785.0,10954.0,9080.0,25449.0,15813.0,11999.0,30961.0,20233.0,38219.0,29136.0,20567.0,32656.0,16013.0,24333.0,14860.0,28515.0,40563.0,10316.0,18125.0,25087.0,20903.0,27975.0,28426.0,23640.0,32791.0,14107.0,22413.0,14236.0,6614.0,31749.0,8177.0,19426.0,30331.0,27447.0,19897.0,27533.0,10840.0,20696.0,31147.0,38511.0,19196.0,27168.0,29229.0,19910.0,14850.0,16984.0,19265.0,19620.0,26818.0,39990.0,18393.0,6544.0,13911.0,6415.0,22209.0,18761.0,29537.0,17859.0,28698.0,26479.0,22594.0,29208.0,11216.0,21374.0,12277.0,14702.0,11877.0,26792.0,21709.0,17444.0,19434.0,34932.0,16346.0,27743.0,15254.0,5812.0,11213.0,11185.0,6501.0,30999.0,29228.0,22345.0,25211.0,20155.0,19302.0,9819.0,21204.0,19316.0,47647.0,28763.0,19425.0,30340.0,26434.0,33674.0,25950.0,23708.0,19843.0,27547.0,8661.0,20007.0,30869.0,17927.0,31994.0,47008.0,26745.0,22058.0,21387.0,21511.0,15425.0,17504.0,10338.0,12711.0,19205.0,14976.0,8670.0,30730.0,25546.0,20746.0,18358.0,49767.0,19483.0,18409.0,19971.0,23416.0,48586.0,16342.0,21594.0,24456.0,26134.0,33940.0,55873.0,27086.0,19074.0,37796.0,92113.0,13390.0,22677.0,18550.0,9464.0,11552.0,21300.0,27356.0,16130.0,16519.0,26322.0,15373.0,22391.0,14773.0,43881.0,42619.0,28939.0,10265.0,54705.0,26576.0,31321.0,24400.0,39674.0,21630.0,27572.0,50405.0,26172.0,13442.0,25813.0,22526.0,19453.0,17603.0,21422.0,52090.0,17702.0,21673.0,13874.0,27377.0,31002.0,23213.0,10373.0,10237.0,30559.0,16240.0,18403.0,34110.0,15532.0,21278.0,16105.0,18813.0,33809.0,10325.0,11335.0,13081.0,32070.0,23932.0,28149.0,15569.0,14261.0,32881.0,26772.0,28799.0,15954.0,18504.0,3354.0,6503.0,21123.0,16818.0,25598.0,22324.0,21584.0,28928.0,20474.0,44836.0,41207.0,32618.0,21265.0,19825.0,66652.0,18301.0,19375.0,11012.0,21622.0,12687.0,20568.0,33074.0,12790.0,36911.0,42671.0,14424.0,39503.0,18361.0,31768.0,16002.0,22843.0,25773.0,26299.0,25625.0,15763.0,38454.0,17053.0,18412.0,17441.0,15676.0,35748.0,48629.0,19167.0,17239.0,21364.0,14718.0,20496.0,15702.0,28919.0,14563.0,35320.0,26371.0,15148.0,12896.0,35671.0,24898.0,23523.0,22153.0,23126.0,33477.0,22134.0,29412.0,40379.0,17418.0,32488.0,15315.0,22945.0,15599.0,29260.0,20728.0,19852.0,14457.0,19418.0,37897.0,14172.0,28600.0,7895.0,14929.0,22807.0,26467.0,16246.0,53491.0,23054.0,20488.0,6911.0,25320.0,15911.0,9775.0,30783.0,29515.0,17276.0,22061.0,17787.0,17748.0,29505.0,30417.0,16955.0,41342.0,20582.0,15885.0,35107.0,29845.0,26109.0,15461.0,28476.0,6984.0,34973.0,27773.0,13768.0,22618.0,14236.0,33366.0,15576.0,25612.0,18629.0,24963.0,26201.0,23391.0,24640.0,33194.0,15270.0,14913.0,21451.0,44489.0,21072.0,19830.0,82751.0,28723.0,32241.0,41016.0,22145.0,12791.0,30077.0,26876.0,17037.0,27194.0,37851.0,20383.0,14155.0,12553.0,29324.0,14377.0,27939.0,19373.0,46370.0,22817.0,17858.0,28418.0,25501.0,33870.0,19772.0,10046.0,12762.0,19479.0,33758.0,19073.0,21909.0,21909.0,31970.0,15084.0,11195.0,27238.0,22377.0,13163.0,18101.0,18101.0,33416.0,13383.0,50207.0,38103.0,28452.0,35276.0,14450.0,8700.0,34943.0,14741.0,25041.0,35964.0,20593.0,17688.0,15950.0,13842.0,10416.0,8164.0,15084.0,19028.0,19756.0,16868.0,16703.0,22044.0,16489.0,15027.0,24885.0,28808.0,27088.0,22616.0,23497.0,19823.0,16599.0,17598.0,16593.0,27174.0,15727.0,11683.0,29836.0,55827.0,19847.0,26709.0,20932.0,20541.0,28284.0,18439.0,33762.0,27234.0,6083.0,22039.0,12662.0,20990.0,37069.0,23083.0,17958.0,29862.0,24163.0,12391.0,22846.0,17640.0,30442.0,18195.0,17913.0,19632.0,24469.0,12699.0,13174.0,27532.0,12806.0,13635.0,31711.0,16346.0,37238.0,42269.0,28855.0,40843.0,18185.0,29459.0,5601.0,19302.0,35824.0,19130.0,28896.0,28150.0,21148.0,10810.0,24410.0,13446.0,25642.0,17013.0,18370.0,12442.0,18441.0,12243.0,16785.0,26238.0,14649.0,9367.0,9195.0,9195.0,15057.0,15057.0,25528.0,15963.0,15737.0,21790.0,27487.0,22947.0,22906.0,19717.0,25496.0,28986.0,11213.0,19704.0,34826.0,32820.0,36490.0,15358.0,14011.0,16749.0,20345.0,21318.0,26857.0,20401.0,31697.0,14641.0,12698.0,20197.0,47377.0,24272.0,19394.0,23548.0,33930.0,25880.0,13074.0,46792.0,44865.0,17855.0,32093.0,18763.0,23257.0,10350.0,20090.0,34233.0,18894.0,16074.0,12688.0,19494.0,15855.0,26858.0,24151.0,13280.0,13005.0,9948.0,28351.0,24156.0,12884.0,42148.0,29787.0,14910.0,31792.0,19080.0,13834.0,23586.0,16019.0,18769.0,11413.0,9835.0,20084.0,13970.0,12693.0,15936.0,28818.0,16087.0,23912.0,11162.0,13041.0,35908.0,25363.0,15944.0,17385.0,28248.0,19984.0,13618.0,28275.0,25221.0,21466.0,13770.0,17656.0,25089.0,17448.0,38330.0,20281.0,24708.0,26285.0,17513.0,20852.0,22871.0,31702.0,12058.0,14659.0,23820.0,11424.0,15300.0,18565.0,25922.0,19407.0,13542.0,29560.0,17944.0,25448.0,25158.0,20505.0,21809.0,11117.0,18555.0,20639.0,16998.0,13151.0,13163.0,23856.0,32878.0,38539.0,19078.0,17140.0,15900.0,19207.0,13263.0,17661.0,15328.0,18410.0,20154.0,29539.0,16342.0,14377.0,17053.0,18360.0,33587.0,21401.0,9821.0,26362.0,13018.0,27419.0,12934.0,19635.0,16746.0,31282.0,29006.0,18553.0,35049.0,13159.0,11072.0,19940.0,11792.0,11970.0,15963.0,17949.0,25809.0,16639.0,29031.0,17305.0,28517.0,44301.0,25636.0,12501.0,31722.0,22486.0,33006.0,27822.0,17806.0,23120.0,17384.0,12793.0,13470.0,23993.0,17002.0,35494.0,18570.0,14857.0,26195.0,18332.0,28323.0,26510.0,17190.0,18713.0,40547.0,13676.0,22874.0,21163.0,32897.0,11177.0,43853.0,24544.0,18785.0,22507.0,10336.0,22752.0,24452.0,14674.0,23518.0,19521.0,13915.0,23933.0,11761.0,36510.0,16319.0,16433.0,17995.0,14647.0,10149.0,25193.0,30226.0,20476.0,8428.0,24392.0,14858.0,17150.0,18159.0,21803.0,16273.0,40836.0,20687.0,29298.0,12578.0,21703.0,15536.0,22454.0,28845.0,23242.0,10663.0,38720.0,30194.0,17980.0,15146.0,19320.0,33225.0,18961.0,50643.0,19000.0,22539.0,6252.0,22169.0,15488.0,14230.0,11184.0,9568.0,20207.0,26800.0,16395.0,30362.0,20862.0,12604.0,10768.0,28181.0,13651.0,30101.0,11076.0,11646.0,19679.0,19352.0,25123.0,22926.0,13213.0,17377.0,29691.0,28901.0,20326.0,12442.0,20573.0,12911.0,13743.0,29696.0,24195.0,10318.0,21223.0,27429.0,17601.0,28700.0,16873.0,30217.0,22177.0,20353.0,16795.0,28142.0,7726.0,22054.0,11223.0,19281.0,21066.0,18834.0,12297.0,14125.0,25940.0,22999.0,17761.0,20513.0,12589.0,25795.0,17431.0,33467.0,11717.0,14785.0,19180.0,16772.0,4746.0,29647.0,12460.0,12235.0,25671.0,11405.0,16599.0,11157.0,14548.0,23359.0,20443.0,16140.0,7485.0,16508.0,14633.0,23894.0,20643.0,26210.0,15529.0,18104.0,40926.0,16055.0,16778.0,36962.0,30166.0,20588.0,26761.0,22818.0,37845.0,29040.0,33192.0,21004.0,13816.0,14897.0,18760.0,22915.0,4037.0,10232.0,5717.0,10135.0,18415.0,23058.0,17101.0,16484.0,22659.0,21561.0,12453.0,41857.0,32569.0,16658.0,11088.0,18311.0,11797.0,18341.0,56142.0,18626.0,10769.0,13559.0,15514.0,50871.0,9385.0,17657.0,22209.0,13367.0,23136.0,21701.0,7523.0,17109.0,14908.0,15173.0,30824.0,20583.0,20017.0,34705.0,25885.0,13246.0,63111.0,21049.0,20793.0,21136.0,28695.0,15242.0,12937.0,21278.0,30952.0,16168.0,17050.0,20918.0,19672.0,19604.0,17438.0,14051.0,23896.0,18182.0,21134.0,14229.0,20600.0,19583.0,20967.0,11451.0,9974.0,21104.0,21002.0,30073.0,38798.0,8094.0,15103.0,26466.0,18296.0,26457.0,23183.0,14133.0,22928.0,14826.0,19363.0,10657.0,14332.0,25347.0,25604.0,21288.0,42280.0,21321.0,14012.0,31998.0,19751.0,15537.0,18490.0,40333.0,11017.0,26932.0,22462.0,22688.0,12556.0,31096.0,21375.0,23892.0,17931.0,15467.0,19904.0,13952.0,11500.0,15399.0,22102.0,19773.0,19260.0,10882.0,9808.0,12971.0,21918.0,23727.0,26129.0,21865.0,16219.0,19783.0,18191.0,22114.0,12200.0,10012.0,9838.0,24919.0,15954.0,18963.0,15333.0,17140.0,38368.0,22551.0,21578.0,17851.0,19406.0,25858.0,9010.0,43432.0,13015.0,15779.0,23409.0,16029.0,22824.0,40259.0,22471.0,23654.0,24447.0,7040.0,21609.0,16246.0,34667.0,25220.0,19184.0,17814.0,10897.0,23788.0,21881.0,12834.0,41085.0,36242.0,17785.0,14305.0,15711.0,18339.0,16535.0,12920.0,33692.0,22154.0,17124.0,11432.0,16109.0,19266.0,18476.0,18745.0,11421.0,23969.0,10755.0,18958.0,24748.0,13685.0,23492.0,44323.0,27942.0,24225.0,23999.0,27620.0,18064.0,34536.0,27064.0,24754.0,21145.0,17361.0,22286.0,39325.0,28266.0,12734.0,29374.0,21068.0,14427.0,13586.0,24489.0,16384.0,22561.0,27305.0,12039.0,30759.0,17552.0,27644.0,30315.0,28247.0,18858.0,16113.0,5554.0,13485.0,9229.0,6281.0,18234.0,25444.0,17719.0,14048.0,14634.0,29944.0,13244.0,14200.0,12188.0,18670.0,25035.0,55400.0,15453.0,18135.0,12242.0,18816.0,36221.0,8901.0,13122.0,17864.0,25182.0,11627.0,10770.0,39637.0,8844.0,11936.0,8983.0,12875.0,9066.0,7899.0,11677.0,17333.0,20401.0,24216.0,18426.0,19275.0,18145.0,24438.0,11856.0,25951.0,16015.0,43098.0,22407.0,17017.0,36506.0,23506.0,24421.0,19651.0,49423.0,23831.0,30541.0,17964.0,20341.0,16276.0,28963.0,12777.0,16840.0,21243.0,13663.0,19222.0,14376.0,14241.0,23468.0,21248.0,26334.0,23029.0,19312.0,28669.0,30169.0,19913.0,11018.0,17821.0,15291.0,13274.0,11253.0,21817.0,24348.0,16559.0,14114.0,17611.0,8458.0,25957.0,18079.0,33270.0,15008.0,17818.0,34008.0,15570.0,16060.0,11828.0,23674.0,27430.0,29525.0,29824.0,11799.0,22834.0,51091.0,32212.0,13634.0,15643.0,11670.0,15421.0,22856.0,16072.0,30912.0,11726.0,14234.0,26904.0,25297.0,31412.0,15091.0,17885.0,29911.0,6550.0,16839.0,20210.0,18428.0,8000.0,7083.0,27095.0,22692.0,21660.0,25678.0,19121.0,12225.0,13968.0,10990.0,23190.0,19868.0,24551.0,25470.0,18961.0,22808.0,17383.0,24358.0,11966.0,27661.0,16573.0,10739.0,18873.0,20546.0,10591.0,31217.0,11847.0,12342.0,27869.0,11798.0,21046.0,18387.0,42506.0,20249.0,24594.0,20429.0,23333.0,36290.0,18648.0,41093.0,21801.0,19677.0,21545.0,11273.0,22185.0,11924.0,24525.0,13878.0,15660.0,32143.0,16852.0,28696.0,15359.0,15359.0,15327.0,19266.0,8546.0,17415.0,30221.0,32312.0,25240.0,23308.0,12171.0,12171.0,25964.0,25964.0,19170.0,19891.0,14903.0,40025.0,37049.0,22526.0,14767.0,27870.0,20548.0,11937.0,10654.0,23362.0,15709.0,19535.0,16176.0,21259.0,14860.0,17158.0,16123.0,18527.0,22697.0,15584.0,8967.0,14337.0,30820.0,21351.0,28093.0,19247.0,17114.0,24937.0,15930.0,9343.0,28013.0,37696.0,16910.0,16034.0,13407.0,15366.0,15317.0,15601.0,17757.0,16792.0,20818.0,37619.0,23036.0,44809.0,13621.0,19407.0,27354.0,14714.0,10469.0,44832.0,14579.0,23412.0,36512.0,23942.0,24022.0,25475.0,12864.0,41330.0,23573.0,13785.0,16541.0,24391.0,34124.0,29871.0,9646.0,32464.0,19006.0,39865.0,29167.0,20851.0,10038.0,12852.0,13703.0,20200.0,25820.0,15743.0,24038.0,25915.0,24338.0,39969.0,16728.0,27296.0,16883.0,11196.0,17828.0,22312.0,11986.0,23975.0,25290.0,31524.0,22397.0,23355.0,24848.0,16553.0,11382.0,27837.0,12819.0,41044.0,17365.0,18094.0,19286.0,23478.0,13385.0,23773.0,25445.0,32403.0,31654.0,16186.0,13131.0,14151.0,21334.0,10139.0,8540.0,12167.0,17496.0,18919.0,17925.0,18940.0,21183.0,16353.0,21208.0,28690.0,23600.0,14371.0,18137.0,29197.0,16603.0,31741.0,11385.0,25805.0,31525.0,22237.0,13674.0,19929.0,23870.0,36988.0,18491.0,10143.0,17742.0,25990.0,15425.0,21532.0,7452.0,32731.0,24583.0,27424.0,17543.0,20861.0,9426.0,5450.0,24899.0,11442.0,15443.0,16019.0,21254.0,24574.0,14848.0,26184.0,31055.0,25771.0,14774.0,14568.0,20055.0,15726.0,10670.0,14039.0,39282.0,15063.0,23055.0,18071.0,32845.0,22762.0,14605.0,17424.0,15211.0,15086.0,24110.0,26267.0,47709.0,15031.0,24156.0,24276.0,22396.0,8031.0,15192.0,11792.0,15648.0,17211.0,23279.0,15810.0,22238.0,17628.0,52165.0,33676.0,19319.0,16234.0,21392.0,25870.0,13255.0,21367.0,45121.0,33092.0,25332.0,18911.0,17516.0,37300.0,14617.0,25664.0,25603.0,18955.0,15655.0,11543.0,17245.0,11125.0,30749.0,17437.0,28815.0,35731.0,21452.0,21337.0,8699.0,21192.0,13802.0,12117.0,15588.0,31612.0,44023.0,23680.0,36167.0,28888.0,28019.0,10427.0,13541.0,14811.0,14293.0,15259.0,12442.0,15976.0,23813.0,16036.0,11130.0,4339.0,20891.0,17910.0,14000.0,10228.0,19546.0,29978.0,13263.0,24681.0,13187.0,13898.0,42738.0,9302.0,28769.0,27452.0,11392.0,7960.0,24530.0,28399.0,22006.0,10752.0,25212.0,23018.0,33043.0,11619.0,18166.0,15144.0,8926.0,26482.0,22351.0,19069.0,13290.0,20458.0,15111.0,31509.0,51635.0,41361.0,9190.0,9559.0,21922.0,19041.0,12777.0,30607.0,24749.0,17997.0,25005.0,12099.0,18440.0,17263.0,14379.0,20568.0,13996.0,11126.0,18829.0,8599.0,23922.0,45857.0,31443.0,19385.0,33549.0,19928.0,24191.0,22847.0,11584.0,11977.0,30424.0,28282.0],\"xaxis\":\"x\",\"yaxis\":\"y\",\"type\":\"histogram\",\"opacity\":0.5},{\"alignmentgroup\":\"True\",\"bingroup\":\"x\",\"hovertemplate\":\"position=mid\\u003cbr\\u003evalue=%{x}\\u003cbr\\u003ecount=%{y}\\u003cextra\\u003e\\u003c\\u002fextra\\u003e\",\"legendgroup\":\"mid\",\"marker\":{\"color\":\"#FF7F0E\",\"pattern\":{\"shape\":\"\"}},\"name\":\"mid\",\"offsetgroup\":\"mid\",\"orientation\":\"v\",\"showlegend\":true,\"x\":[20690.0,11261.0,12577.0,19759.0,17636.0,12169.0,15909.0,14632.0,22982.0,18453.0,28239.0,17544.0,27550.0,37649.0,23457.0,15418.0,13044.0,19064.0,21147.0,10278.0,23032.0,33888.0,14460.0,30411.0,12551.0,17334.0,15732.0,26340.0,25758.0,9514.0,29213.0,9283.0,29879.0,14595.0,13118.0,38854.0,24348.0,13437.0,21535.0,15403.0,8302.0,14889.0,7430.0,40082.0,17756.0,19326.0,35240.0,20914.0,21068.0,13065.0,9240.0,21338.0,11047.0,12255.0,14795.0,8082.0,13415.0,22206.0,32959.0,19806.0,6796.0,13400.0,11114.0,19630.0,25274.0,13504.0,10998.0,14835.0,29273.0,12273.0,49687.0,19890.0,16282.0,14501.0,19413.0,31637.0,13502.0,50969.0,13276.0,14500.0,18112.0,17301.0,44847.0,12153.0,15607.0,24251.0,30110.0,28737.0,13892.0,25195.0,11588.0,23204.0,8067.0,23704.0,14870.0,15990.0,21966.0,23460.0,23081.0,30112.0,12043.0,13354.0,23977.0,14187.0,27129.0,20417.0,19062.0,13974.0,20516.0,26161.0,19932.0,17145.0,30708.0,19527.0,20794.0,19821.0,14916.0,22175.0,23820.0,21360.0,17093.0,16238.0,16045.0,17405.0,21852.0,8472.0,18200.0,19440.0,13230.0,36454.0,20077.0,28780.0,13769.0,15127.0,48687.0,33205.0,16806.0,12907.0,10814.0,11316.0,27021.0,17160.0,22106.0,18613.0,26789.0,31328.0,20768.0,25498.0,29453.0,21232.0,12115.0,18852.0,18505.0,12814.0,20704.0,8141.0,16591.0,19632.0,24858.0,22184.0,17654.0,10865.0,20062.0,18218.0,14723.0,31957.0,10796.0,17777.0,17294.0,28482.0,15434.0,12992.0,14522.0,24716.0,22153.0,21048.0,17990.0,25278.0,14446.0,12944.0,20479.0,29732.0,22987.0,18797.0,26796.0,27997.0,16422.0,24657.0,17340.0,18417.0,15688.0,8615.0,21558.0,15164.0,14018.0,21804.0,12207.0,13999.0,19395.0,45477.0,23757.0,23910.0,23628.0,15323.0,35938.0,11230.0,36737.0,16476.0,17746.0,15990.0,8345.0,13798.0,23499.0,8194.0,18801.0,15433.0,32248.0,31462.0,15688.0,25635.0,25908.0,13700.0,11943.0,12577.0,18350.0,15476.0,29318.0,24626.0,10332.0,26228.0,25565.0,37159.0,16750.0,28803.0,46346.0,11630.0,22032.0,11730.0,9983.0,30489.0,21989.0,20786.0,29401.0,34103.0,15521.0,20536.0,20527.0,14013.0,12436.0,15263.0,19798.0,20204.0,58799.0,14179.0,31448.0,20960.0,13425.0,19418.0,14986.0,22761.0,12673.0,15404.0,17028.0,21737.0,9835.0,17327.0,9593.0,18894.0,32461.0,6907.0,31701.0,13359.0,15553.0,11673.0,7277.0,9724.0,17830.0,24844.0,47442.0,12775.0,31869.0,21623.0,26850.0,19260.0,20885.0,21548.0,18548.0,31967.0,18648.0,29773.0,20632.0,27499.0,19297.0,21003.0,13831.0,25190.0,13690.0,16852.0,11081.0,16648.0,25090.0,20511.0,21463.0,52420.0,19484.0,18543.0,40059.0,29748.0,10778.0,26230.0,19694.0,7467.0,29598.0,21081.0,23481.0,14455.0,39570.0,21276.0,16314.0,28472.0,28873.0,29470.0,26581.0,19901.0,10853.0,21533.0,6350.0,18256.0,9783.0,19124.0,25004.0,6883.0,14904.0,16848.0,33918.0,25772.0,14505.0,18051.0,13713.0,40059.0,14115.0,28460.0,43529.0,18827.0,33495.0,12246.0,17131.0,16560.0,4413.0,7737.0,24926.0,15272.0,18685.0,26954.0,28339.0,25536.0,21014.0,19146.0,23766.0,9912.0,12293.0,16940.0,22598.0,21737.0,8347.0,11929.0,23902.0,19615.0,14835.0,24714.0,7323.0,28825.0,21327.0,15862.0,16862.0,18615.0,15763.0,16926.0,14276.0,11143.0,7706.0,28892.0,25535.0,12502.0,25085.0,17576.0,17021.0,36800.0,9253.0,26477.0,12960.0,17067.0,25727.0,39435.0,39014.0,11322.0,22111.0,17509.0,3704.0,12385.0,32294.0,21087.0,27216.0,16011.0,19768.0,20674.0,18682.0,14993.0,10849.0,29728.0,16930.0,18094.0,19943.0,14274.0,12134.0,14380.0,18120.0,18564.0,38790.0,28673.0,11230.0,28471.0,11571.0,18789.0,13794.0,12915.0,14034.0,13618.0,33551.0,12153.0,24167.0,6619.0,13721.0,9014.0,19276.0,9220.0,22312.0,32730.0,19322.0,30627.0,20247.0,22948.0,26225.0,41516.0,8758.0,28890.0,20483.0,19496.0,19273.0,18738.0,28478.0,15895.0,18648.0,20958.0,13406.0,24791.0,12259.0,16087.0,27630.0,31816.0,21528.0,24725.0,21128.0,19470.0,14435.0,15164.0,18416.0,8303.0,33068.0,12517.0,21774.0,15234.0,26492.0,17452.0,12141.0,36209.0,11337.0,23477.0,23924.0,15354.0,18150.0,13401.0,14065.0,14444.0,4931.0,9008.0,41905.0,16068.0,16490.0,19182.0,12143.0,24648.0,11253.0,18024.0,37751.0,16455.0,11057.0,11370.0,18960.0,18707.0,14656.0,10880.0,16095.0,15804.0,3806.0,8661.0,16212.0,16037.0,11478.0,14817.0,20266.0,8651.0,17090.0,21722.0,14459.0,10804.0,13470.0,15026.0,20912.0,23915.0,26518.0,12205.0,40339.0,25239.0,12130.0,17412.0,10290.0,20656.0,13763.0,14418.0,19118.0,10196.0,21783.0,8048.0,16435.0,9995.0,16487.0,12599.0,15356.0,12703.0,20678.0,24116.0,23523.0,38778.0,35152.0,25773.0,25024.0,29279.0,17271.0,11442.0,14445.0,28591.0,18370.0,26719.0,36304.0,32409.0,16655.0,17431.0,6003.0,15793.0,15726.0,20556.0,16559.0,16165.0,14313.0,13072.0,6588.0,34097.0,40847.0,15928.0,22848.0,22689.0,18757.0,20564.0,16829.0,19514.0,8084.0,15246.0,29897.0,30341.0,14309.0,16816.0,9278.0,13547.0,13585.0,16042.0,8105.0,14467.0,8758.0,22896.0,11805.0,31212.0,21225.0,18003.0,16170.0,19473.0,17419.0,40594.0,20149.0,28168.0,7983.0,22676.0,17677.0,35581.0,29330.0,15686.0,32895.0,23296.0,14938.0,21745.0,17311.0,10854.0,14086.0,19381.0,10659.0,13134.0,13446.0,21891.0,10645.0,14205.0,10281.0,11777.0,11472.0,16421.0,30625.0,9131.0,16851.0,16138.0,29224.0,10761.0,12971.0,18675.0,15164.0,11274.0,29287.0,26267.0,17851.0,40868.0,7623.0,34832.0,19615.0,14757.0,12763.0,14965.0,19049.0,18423.0,18664.0,26019.0,18656.0,25827.0,27017.0,28442.0,21391.0,27112.0,14259.0,18749.0,8483.0,19632.0,12209.0,17952.0,15717.0,25432.0,14936.0,20003.0,24010.0,24832.0,39384.0,18087.0,6258.0,23909.0,22068.0,25242.0,20369.0,17877.0,13899.0,20285.0,15219.0,15067.0,10822.0,11396.0,35103.0,9108.0,13137.0,31381.0,11626.0,17691.0,15913.0,20217.0,8412.0,15451.0,36783.0,18037.0,13995.0,13030.0,20598.0,23151.0,12042.0,25044.0,23664.0,14687.0,16519.0,11907.0,14896.0,18386.0,10961.0,30506.0,22770.0,17065.0,13197.0,15394.0,15688.0,21571.0,16704.0,14912.0,19457.0,28237.0,11075.0,19204.0,26121.0,15999.0,8827.0,15294.0,17888.0,8767.0,20348.0,28124.0,15683.0,15932.0,21417.0,24207.0,80351.0,23003.0,15414.0,18936.0,37508.0,16953.0,27099.0,14599.0,20673.0,36445.0,26192.0,10837.0,8605.0,13254.0,20831.0,7688.0,25471.0,12307.0,13624.0,26356.0,20339.0,18917.0,15889.0,12596.0,26357.0,14455.0,24370.0,20639.0,7917.0,18736.0,15463.0,32025.0,21152.0,34027.0,15364.0,11411.0,16627.0,12482.0,30881.0,18525.0,15874.0,19483.0,31838.0,20723.0,17122.0,7926.0,11753.0,17637.0,15061.0,10099.0,16129.0,24953.0,14561.0,31594.0,24384.0,28387.0,16909.0,26115.0,35726.0,18987.0,28015.0,17784.0,17230.0,36720.0,13868.0,13459.0,16960.0,25496.0,17886.0,31616.0,11557.0,37203.0,12970.0,18223.0,26203.0,10600.0,15897.0,23147.0,15256.0,22200.0,20183.0,25880.0,16836.0,25971.0,30009.0,8693.0,9658.0,25821.0,22475.0,27814.0,28566.0,30883.0,20922.0,22349.0,12515.0,22741.0,23985.0,15810.0,26647.0,17101.0,22162.0,18883.0,11740.0,17020.0,16810.0,13978.0,14656.0,21269.0,34980.0,15081.0,12114.0,10696.0,11445.0,9908.0,18651.0,28170.0,23151.0,12446.0,20850.0,13384.0,16079.0,22779.0,26524.0,16936.0,18764.0,30419.0,18769.0,13598.0,17015.0,15231.0,8974.0,21325.0,16626.0,39272.0,14912.0,23457.0,12953.0,31870.0,17536.0,19136.0,16172.0,20436.0,34429.0,24383.0,11723.0,57989.0,15583.0,31779.0,53776.0,13778.0,35496.0,9457.0,19170.0,16250.0,12004.0,18991.0,17454.0,19817.0,8262.0,19648.0,14414.0,20123.0,7310.0,14093.0,16357.0,36013.0,13288.0,21751.0,31207.0,20567.0,17813.0,9265.0,8248.0,27301.0,11230.0,15326.0,7095.0,18800.0,9111.0,18841.0,25801.0,11558.0,9670.0,13552.0,21553.0,14119.0,17903.0,33908.0,19474.0,18301.0,17795.0,7936.0,16708.0,11725.0,15397.0,15272.0,37952.0,16989.0,7731.0,8916.0,10002.0,10858.0,11704.0,12014.0,26677.0,14033.0,29504.0,12739.0,19943.0,24839.0,13702.0,19033.0,8315.0,21479.0,8339.0,22499.0,10420.0,20491.0,26719.0,19396.0,15458.0,11943.0,17860.0,11300.0,14243.0,23707.0,13042.0,20987.0,18538.0,18727.0,17050.0,16845.0,48726.0,30600.0,29564.0,13933.0,10802.0,30150.0,13949.0,16939.0,21212.0,17363.0,13175.0,17232.0,27439.0,24945.0,12986.0,12822.0,21289.0,21705.0,18351.0,30135.0,13127.0,22853.0,25664.0,19350.0,10520.0,16289.0,47443.0,21374.0,25009.0,17872.0,11696.0,13294.0,33971.0,19509.0,11574.0,24363.0,26329.0,12012.0,14921.0,12347.0,17660.0,12587.0,22504.0,20004.0,21319.0,16831.0,24929.0,30355.0,48538.0,14978.0,49597.0,10767.0,21004.0,9729.0,8560.0,13495.0,24051.0,15524.0,6414.0,30409.0,11847.0,21382.0,10811.0,22499.0,11266.0,6561.0,8081.0,12004.0,31097.0,16085.0,14725.0,24516.0,11657.0,14483.0,20006.0,14539.0,24683.0,19680.0,14971.0,21083.0,17516.0,25187.0,23834.0,14170.0,24847.0,16949.0,22398.0,21873.0,14362.0,19556.0,16690.0,13947.0,15318.0,12484.0,13334.0,28843.0,17215.0,21525.0,20312.0,9065.0,13219.0,22800.0,7664.0,34152.0,17179.0,23707.0,26104.0,21351.0,28952.0,20366.0,7174.0,14100.0,24286.0,18748.0,41211.0,15014.0,14799.0,19024.0,25659.0,17656.0,19168.0,16088.0,21622.0,53890.0,19690.0,26138.0,17953.0,43544.0,18423.0,8139.0,11214.0,11145.0,14028.0,5149.0,30589.0,14094.0,18930.0,28560.0,19091.0,13131.0,25980.0,38040.0,26379.0,45577.0,18449.0,23480.0,15308.0,11369.0,13910.0,22446.0,21894.0,16720.0,20418.0,29533.0,13961.0,17176.0,20699.0,12647.0,13935.0,19673.0,26357.0,30845.0,32982.0,31724.0,29339.0,22642.0,12913.0,24785.0,43971.0,20014.0,20326.0,15275.0,13125.0,13094.0,23302.0,15847.0,19523.0,9522.0,30080.0,20248.0,36092.0,10429.0,16081.0,9985.0,10340.0,11775.0,18348.0,14915.0,6279.0,17594.0,17128.0,9540.0,25184.0,23933.0,12402.0,14567.0,23807.0,24379.0,19376.0,19729.0,19533.0,22497.0,25744.0,26024.0,26165.0,22655.0,37863.0,18126.0,33000.0,15663.0,21151.0,24490.0,16830.0,25007.0,9182.0,13426.0,23120.0,31869.0,4847.0,9032.0,17542.0,14190.0,10937.0,13480.0,14903.0,44642.0,15897.0,20419.0,43739.0,8095.0,16737.0,21839.0,17430.0,25358.0,21847.0,36000.0,11449.0,9186.0,11070.0,25601.0,15167.0,21552.0,6651.0,15893.0,33116.0,19952.0,33628.0,15074.0,11953.0,11347.0,13334.0,16933.0,15954.0,47317.0,17835.0,11579.0,14387.0,9413.0,12572.0,9631.0,14490.0,18769.0,28778.0,11081.0,11463.0,15688.0,30825.0,22632.0,10699.0,24384.0,11764.0,4686.0,14102.0,16510.0,8749.0,11952.0,20713.0,11170.0,22816.0,25783.0,23650.0,15570.0,19021.0,15296.0,31875.0,24270.0,14812.0,10203.0,13106.0,14092.0,19072.0,15698.0,16196.0,23152.0,61533.0,24402.0,14765.0,20054.0,17352.0,21489.0,11307.0,23394.0,14416.0,17868.0,8507.0,31725.0,20491.0,29180.0,18834.0,10918.0,14334.0,20908.0,33302.0,14151.0,16020.0,14158.0,39582.0,13471.0,26635.0,14405.0,24911.0,19118.0,16100.0,21766.0,9558.0,14809.0,7400.0,9012.0,15983.0,23083.0,19126.0,7888.0,7434.0,16587.0,17861.0,6935.0,14785.0,14436.0,36089.0,20680.0,35963.0,27956.0,21821.0,35043.0,17519.0,27188.0,14590.0,21497.0,18892.0,28926.0,22422.0,22029.0,13190.0,11498.0,28926.0,9209.0,33510.0,11044.0,16343.0,26881.0,42621.0,18254.0,13560.0,5211.0,19378.0,25156.0,17129.0,13646.0,14458.0,13919.0,20948.0,8127.0,20813.0,10831.0,11308.0,19107.0,14546.0,7185.0,19395.0,12720.0,15188.0,7865.0,32544.0,23587.0,25548.0,18734.0,9737.0,16005.0,10177.0,17096.0,14184.0,25069.0,10526.0,24267.0,17861.0,11257.0,26478.0,16287.0,8044.0,21622.0,21592.0,19493.0,16748.0,21649.0,20145.0,7060.0,11833.0,18183.0,22750.0,16932.0,12622.0,16354.0,17863.0,12956.0,17465.0,8914.0,42967.0,19408.0,12866.0,12055.0,15588.0,26949.0,18587.0,22583.0,13087.0,12785.0,29093.0,16106.0,17156.0,16809.0,21605.0,7500.0,42612.0,19574.0,20400.0,35864.0,6003.0,20914.0,11948.0,25620.0,18124.0,7447.0,19747.0,22188.0,19323.0,8868.0,9235.0,17729.0,14242.0,15210.0,11604.0,12470.0,10587.0,13607.0,17166.0,16488.0,23967.0,10881.0,36200.0,18115.0,8655.0,14565.0,10652.0,28114.0,14746.0,17386.0,22977.0,12039.0,5143.0,24294.0,13456.0,20706.0,19671.0,19456.0,26343.0,21169.0,33249.0,32251.0,38689.0,15116.0,12771.0,13088.0,19265.0,29393.0,8993.0,9086.0,19575.0,18062.0,12610.0,29731.0,15298.0,14040.0,9752.0,18039.0,9564.0,8610.0,7569.0,6406.0,14915.0,13640.0,17999.0,15498.0,11888.0,14520.0,13651.0,17671.0,13562.0,10530.0,7932.0,11898.0,14036.0,20956.0,27151.0,24695.0,9182.0,18511.0,13915.0,16546.0,18109.0,28814.0,12965.0,12185.0,33542.0,19890.0,15419.0,10735.0,12121.0,23530.0,10460.0,12403.0,34083.0,17081.0,16697.0,15202.0,17533.0,18819.0,11399.0,11145.0,8226.0,17668.0,14824.0,13115.0,15521.0,24657.0,9985.0,14954.0,11715.0,18470.0,14734.0,9373.0,47000.0,13703.0,20704.0,18202.0,17419.0,26968.0,30663.0,22656.0,10060.0,12952.0,17329.0,17735.0,8134.0,11452.0,16576.0,14321.0,21038.0,24146.0,60894.0,21552.0,11504.0,11932.0,11227.0,5925.0,23555.0,13834.0,16939.0,21461.0,11524.0,18014.0,23137.0,9324.0,19162.0,44347.0,19914.0,31108.0,23705.0,14451.0,4643.0,8120.0,9054.0,12021.0,10757.0,29785.0,15904.0,4605.0,17144.0,15490.0,26110.0,23799.0,22457.0,26230.0,31215.0,23435.0,16062.0,31910.0,20168.0,8961.0,18173.0,23205.0,9757.0,15534.0,11659.0,45259.0,31205.0,5688.0,11577.0,7290.0,15738.0,4779.0,15396.0,17541.0,32753.0,11656.0,15389.0,12726.0,7199.0,12884.0,6705.0,12058.0,18521.0,7788.0,26522.0,20126.0,6330.0,8644.0,9671.0,21091.0,40026.0,4495.0,28840.0,19148.0,18897.0,13252.0,9674.0,9093.0,27440.0,10770.0,22039.0,9796.0,15618.0,17261.0,25448.0,20043.0,21154.0,17517.0,15720.0,8657.0,26878.0,9229.0,18257.0,10581.0,19413.0,14165.0,32127.0,28570.0,24574.0,15756.0,13304.0,31696.0,11711.0,13810.0,82363.0,18371.0,12194.0,13502.0,17639.0,31653.0,14910.0,13748.0,12975.0,6610.0,8596.0,8711.0,14363.0,17017.0,13405.0,14681.0,7321.0,21787.0,8590.0,13412.0,19055.0,33598.0,24219.0,21237.0,16660.0,16707.0,11566.0,18062.0,14821.0,14592.0,21272.0,9916.0,13774.0,5642.0,9666.0,15489.0,13279.0,13909.0,6925.0,17853.0,17497.0,13537.0,13077.0,18626.0,10286.0,11753.0,18376.0,9640.0,4435.0,9422.0,19775.0,19062.0,34305.0,30164.0,40549.0,10984.0,26232.0,18863.0,21341.0,11767.0,22641.0,13130.0,17347.0,6901.0,19067.0,14135.0,17624.0,18066.0,16660.0,26237.0,13960.0,25260.0,10941.0,20039.0,9876.0,21124.0,22306.0,7234.0,16476.0,20215.0,21063.0,25769.0,14708.0,12220.0,8557.0,13657.0,14793.0,11419.0,8329.0,17650.0,15052.0,17311.0,12227.0,9807.0,13269.0,13990.0,36097.0,23703.0,9523.0,20956.0,25682.0,25001.0,15748.0,24803.0,19837.0,13769.0,37239.0,6426.0,24059.0,14820.0,23056.0,19226.0,25467.0,19629.0,30300.0,9988.0,15102.0,13556.0,10876.0,23875.0,5433.0,12819.0,31794.0,16705.0,13128.0,17986.0,9683.0,18030.0,8113.0,21027.0,14787.0,14412.0,15039.0,13699.0,10224.0,17351.0,16319.0,21045.0,18573.0,16641.0,11298.0,19461.0,18949.0,23033.0,20626.0,15586.0,23754.0,16374.0,29105.0,9919.0,19660.0,26210.0,21517.0,14376.0,19091.0,15009.0,7203.0,14218.0,16881.0,17432.0,6108.0,18345.0,20498.0,30941.0,12608.0,14343.0,12206.0,15508.0,11481.0,21901.0,14022.0,11774.0,24137.0,32178.0,15791.0,26306.0,24844.0,5294.0,12961.0,10348.0,19248.0,13585.0,13917.0,12536.0,34583.0,25246.0,9206.0,9721.0,21379.0,13968.0,22861.0,13036.0,15511.0,20788.0,15050.0,16424.0,6094.0,10113.0,11256.0,15224.0,17936.0,14211.0,14971.0,8785.0,12972.0,20929.0,18724.0,12979.0,29845.0,20237.0,33643.0,23772.0,32550.0,14660.0,16314.0,13504.0,10899.0,13700.0,12131.0,15685.0,18011.0,13731.0,17285.0,4297.0,10476.0,24588.0,5670.0,16606.0,18089.0,9557.0,20670.0,25191.0,13416.0,25560.0,13619.0,7619.0,21528.0,15535.0,9787.0,21651.0,16872.0,13460.0,35151.0,21883.0,17237.0,18877.0,14582.0,14332.0,11687.0,27026.0,25255.0,19863.0,4986.0,21456.0,11615.0,17969.0,21561.0,14599.0,26136.0,13046.0,37508.0,18139.0,19992.0,10187.0,14454.0,10492.0,11797.0,19282.0,17262.0,25722.0,18750.0,13743.0,27566.0,9742.0,17871.0,13090.0,13129.0,12488.0,20957.0,24574.0,24477.0,26200.0,18867.0,17181.0,25632.0,25914.0,18052.0,19734.0,14659.0,32200.0,11435.0,13550.0,25620.0,12978.0,16461.0,15893.0,23578.0,19374.0,15798.0,14423.0,20570.0,11667.0,16790.0,13001.0,14400.0,9864.0,20884.0,14008.0,17446.0,13347.0,20122.0,22608.0,16524.0,24634.0,19461.0,18273.0,15120.0,14265.0,14172.0,8641.0,12464.0,11723.0,13313.0,8296.0,10387.0,12157.0,10828.0,18176.0,21275.0,12473.0,15458.0,4576.0,9228.0,9524.0,25754.0,21044.0,19399.0,21346.0,17704.0,23175.0,11673.0,14824.0,17565.0,18295.0,22018.0,22018.0,48499.0,13966.0,20983.0,14948.0,16158.0,12844.0,27441.0,23936.0,13555.0,21148.0,29652.0,18686.0,17701.0,14532.0,27453.0,29976.0,15265.0,27043.0,7097.0,17069.0,28802.0,11297.0,14910.0,17782.0,20431.0,18252.0,34404.0,9155.0,17776.0,14010.0,12176.0,14400.0,10069.0,15394.0,23935.0,12169.0,6533.0,15599.0,18673.0,26215.0,6167.0,10508.0,10337.0,33100.0,18593.0,19472.0,13535.0,12517.0,3634.0,17119.0,23812.0,15555.0,16633.0,10823.0,16463.0,24358.0,11546.0,8382.0,18821.0,17694.0,11357.0,23118.0,18097.0,13797.0,21215.0,14644.0,13764.0,13264.0,9998.0,11168.0,10985.0,33219.0,18303.0,13982.0,9664.0,11640.0,13502.0,7846.0,13589.0,14762.0,11968.0,18719.0,11719.0,25385.0,7974.0,8657.0,26103.0,23800.0,11238.0,6575.0,14604.0,45717.0,14820.0,11410.0,16567.0,22181.0,41579.0,18258.0,20663.0,7817.0,11898.0,11818.0,24613.0,7607.0,8542.0,15356.0,10322.0,19227.0,17702.0,19704.0,13558.0,9555.0,11299.0,17218.0,28805.0,17768.0,14814.0,17664.0,18673.0,14898.0,20764.0,18676.0,14859.0,13935.0,8654.0,16096.0,18277.0,32581.0,14656.0,18249.0,10611.0,8892.0,14208.0,19030.0,13212.0,15853.0,19702.0,24657.0,31209.0,20772.0,8790.0,22535.0,20857.0,11106.0,16503.0,15199.0,15536.0,15525.0,7410.0,15646.0,15072.0,15996.0,16974.0,18946.0,12060.0,14994.0,18447.0,8436.0,16507.0,9696.0,6897.0,19109.0,12389.0,14731.0,30052.0,55298.0,19443.0,18703.0,23978.0,4188.0,16956.0,7137.0,23150.0,17711.0,22684.0,10260.0,6493.0,14816.0,9344.0,14068.0,10463.0,22441.0,27835.0,33816.0,18868.0,24541.0,11022.0,18002.0,19407.0,26518.0,8546.0,19223.0,20475.0,18349.0,20618.0,5892.0,16615.0,6988.0,17472.0,27113.0,14086.0,16230.0,9186.0,24084.0,49908.0,10392.0,24388.0,12889.0,15602.0,10025.0,18196.0,24573.0,11252.0,43236.0,17258.0,6712.0,19516.0,11760.0,12585.0,11997.0,19332.0,13453.0,24634.0,26761.0,21555.0,10142.0,22255.0,9447.0,16063.0,17787.0,11712.0,13604.0,27117.0,11268.0,10680.0,29698.0,18393.0,12813.0,17559.0,24040.0,12159.0,21871.0,17070.0,8832.0,18339.0,14526.0,7678.0,22870.0,13187.0,21010.0,33074.0,13868.0,18132.0,25691.0,11336.0,14598.0,23201.0,11294.0,14817.0,18891.0,29485.0,26252.0,12410.0,10822.0,10030.0,13499.0,29542.0,10449.0,14773.0,18863.0,15155.0,8950.0,26348.0,11825.0,10456.0,13309.0,9120.0,30252.0,9539.0,16333.0,10556.0,15184.0,20548.0,28431.0,9600.0,16505.0,15710.0,9892.0,10193.0,67159.0,11517.0,14995.0,7850.0,15512.0,24134.0,23522.0,16265.0,18478.0,11613.0,39250.0,13032.0,18111.0,6703.0,19308.0,20751.0,18259.0,22749.0,13089.0,18300.0,9572.0,22254.0,8292.0,21369.0,18641.0,12340.0,9028.0,16315.0,10599.0,13223.0,23748.0,34866.0,22614.0,10822.0,20969.0,25768.0,8274.0,10020.0,20785.0,10707.0,13312.0,14597.0,15701.0,21047.0,11565.0,16242.0,9573.0,14777.0,18643.0,16008.0,12212.0,8513.0,11237.0,32755.0,21588.0,10974.0,22413.0,12595.0,21428.0,21089.0,14504.0,16919.0,14545.0,26585.0,21872.0,12886.0,10947.0,4874.0,7301.0,20023.0,11596.0,17374.0,19865.0,32670.0,15091.0,9692.0,18009.0,12202.0,20067.0,13336.0,21723.0,17792.0,17427.0,17206.0,26352.0,15413.0,10207.0,14121.0,7690.0,21626.0,21864.0,20033.0,26130.0,19372.0,39321.0,14221.0,16619.0,25364.0,32733.0,15774.0,31843.0,17295.0,12574.0,23169.0,20054.0,11479.0,34358.0,10322.0,5423.0,20562.0,12673.0,20575.0,12331.0,12781.0,9721.0,15453.0,12481.0,14828.0,14102.0,11935.0,16207.0,13877.0,18207.0,18075.0,24668.0,12833.0,12890.0,11824.0,12852.0,18756.0,21884.0,14470.0,10515.0,37510.0,11302.0,11009.0,11128.0,5434.0,8530.0,11912.0,21421.0,15817.0,38171.0,11843.0,12787.0,16397.0,20887.0,11445.0,10045.0,9484.0,14999.0,12538.0,14942.0,20673.0,27470.0,9572.0,17654.0,15215.0,21323.0,27173.0,8383.0,16647.0,11025.0,19122.0,20422.0,22272.0,10895.0,19495.0,19629.0,27633.0,26877.0,11351.0,11772.0,10291.0,23915.0,7740.0,23744.0,9234.0,15741.0,24517.0,14764.0,16063.0,39145.0,19633.0,16750.0,9233.0,22187.0,34978.0,36805.0,17265.0,8056.0,15519.0,22201.0,6946.0,22779.0,18882.0,17315.0,32838.0,27117.0,28340.0,10060.0,25286.0,24672.0,22203.0,18284.0,6617.0,14786.0,16227.0,28499.0,41038.0,13716.0,19762.0,7004.0,24112.0,16149.0,29849.0,35523.0,10374.0,13233.0,22793.0,19535.0,5782.0,14916.0,16516.0,16020.0,53321.0,19251.0,16973.0,13097.0,8195.0,11076.0,20024.0,10131.0,13959.0,14565.0,19152.0,18790.0,11532.0,13772.0,16718.0,15063.0,21704.0,17357.0,13054.0,16186.0,16701.0,22871.0,28386.0,21063.0,10906.0,15553.0,16270.0,12443.0,14940.0,22371.0,11709.0,8672.0,12325.0,11712.0,6779.0,9736.0,15238.0,27009.0,15698.0,13045.0,8982.0,13241.0,24917.0,4255.0,12104.0,17212.0,14318.0,26436.0,22902.0,32797.0,7683.0,18275.0,10778.0,23480.0,27616.0,20813.0,17632.0,6594.0,20674.0,14766.0,15434.0,19881.0,12161.0,8835.0,7739.0,24386.0,10577.0,23928.0,25633.0,9681.0,16045.0,33092.0,7365.0,15865.0,10592.0,5177.0,16251.0,22052.0,7408.0,18070.0,21033.0,11589.0,12906.0,12145.0,13333.0,12336.0,13509.0,11510.0,17340.0,6327.0,16442.0,6003.0,19849.0,17352.0,14313.0,8820.0,30359.0,9849.0,15356.0,9477.0,15246.0,16630.0,13300.0,13227.0,17631.0,15975.0,12841.0,19026.0,12190.0,12917.0,6569.0,16860.0,12185.0,14102.0,34944.0,23584.0,24986.0,13784.0,8296.0,18802.0,18225.0,43236.0,3790.0,17881.0,9713.0,24532.0,8929.0,20895.0,15594.0,18205.0,13683.0,15675.0,22343.0,16792.0,21477.0,17193.0,31360.0,11252.0,11786.0,21178.0,15934.0,7463.0,16279.0,16116.0,11861.0,6699.0,4535.0,17244.0,10658.0,20433.0,17988.0,18002.0,15248.0,15617.0,13400.0,12564.0,12448.0,16320.0,9091.0,13850.0,16442.0,12727.0,9242.0,21989.0,9115.0,17820.0,23509.0,32260.0,10444.0,16963.0,10091.0,16073.0,13355.0,14663.0,9952.0,40810.0,9830.0,15766.0,15369.0,18069.0,13907.0,9317.0,15151.0,16060.0,16784.0,19048.0,17131.0,6070.0,10841.0,20943.0,17561.0,10545.0,8297.0,23383.0,8093.0,12562.0,20776.0,11490.0,8580.0,15753.0,16259.0,31713.0,26331.0,25327.0,16817.0,17576.0,17102.0,12602.0,15449.0,11225.0,16519.0,16086.0,12174.0,11291.0,17215.0,15659.0,9856.0,11675.0,22333.0,8236.0,13072.0,8519.0,9756.0,17061.0,9888.0,20031.0,16587.0,12468.0,18524.0,17574.0,16449.0,16474.0,11694.0,15914.0,22355.0,13312.0,20993.0,11908.0,13007.0,13555.0,19822.0,10101.0,24267.0,10959.0,15265.0,18643.0,18971.0,24017.0,16431.0,20767.0,19236.0,19532.0,9097.0,17801.0,18556.0,20809.0,17871.0,20221.0,9448.0,12089.0,14400.0,11154.0,14588.0,13854.0,32523.0,22681.0,12654.0,7957.0,19917.0,12060.0,11101.0,7745.0,23312.0,19142.0,15915.0,22952.0,11925.0,24575.0,11925.0,12738.0,5417.0,12269.0,21712.0,15175.0,8709.0,19347.0,25273.0,19689.0,18895.0,24515.0,12010.0,12654.0,19838.0,14324.0,13037.0,13963.0,13392.0,26435.0,10874.0,18668.0,14858.0,19862.0,12443.0,21201.0,14868.0,21058.0,25017.0,21775.0,31320.0,21185.0,34771.0,15751.0,23682.0,18833.0,9706.0,15992.0,7102.0,22959.0,13253.0,11237.0,18316.0,11621.0,15880.0,10213.0,16051.0,14238.0,26559.0,10678.0,17950.0,17725.0,15835.0,34242.0,22903.0,15592.0,13734.0,28183.0,9850.0,15001.0,22549.0,12635.0,27687.0,9123.0,15563.0,22631.0,34277.0,22919.0,14628.0,12363.0,21194.0,13174.0,29165.0,15592.0,16377.0,18254.0,9815.0,11792.0,4436.0,21728.0,6538.0,33220.0,13654.0,16155.0,9605.0,21852.0,8605.0,14480.0,15917.0,12134.0,30850.0,17654.0,26870.0,10159.0,20278.0,11504.0,22429.0,18394.0,9926.0,14378.0,3264.0,25376.0,17494.0,9868.0,8447.0,10201.0,17174.0,15680.0,19529.0,12105.0,12280.0,16920.0,9509.0,8971.0,11838.0,10070.0,15784.0,15166.0,13275.0,15873.0,25991.0,21500.0,3948.0,30377.0,8445.0,9608.0,7712.0,26557.0,7917.0,25261.0,14250.0,18149.0,13973.0,11249.0,35365.0,12118.0,17133.0,14238.0,27032.0,28110.0,14979.0,15372.0,14331.0,23254.0,12586.0,18074.0,54694.0,18534.0,19424.0,24992.0,20818.0,10177.0,19992.0,20635.0,21582.0,19216.0,23181.0,25546.0,26527.0,22454.0,26501.0,8275.0,16015.0,20264.0,17762.0,21322.0,18925.0,5180.0,15616.0,23436.0,14491.0,19079.0,17166.0,13256.0,13340.0,21608.0,21484.0,9810.0,28358.0,18395.0,8722.0,10180.0,14425.0,15771.0,16065.0,28185.0,11851.0,27129.0,17814.0,3196.0,11018.0,13412.0,21204.0,13173.0,35572.0,16016.0,18482.0,15240.0,10423.0,18622.0,12912.0,26872.0,21936.0,15630.0,22932.0,30158.0,11503.0,17128.0,18636.0,17717.0,21040.0,17651.0,18262.0,25024.0,16877.0,18661.0,18689.0,12961.0,15690.0,14037.0,11561.0,10836.0,13835.0,14641.0,15088.0,12437.0,23487.0,15892.0,38682.0,13633.0,13963.0,17010.0,19839.0,28642.0,20399.0,23263.0,16718.0,10868.0,18153.0,7471.0,11065.0,10210.0,12672.0,24676.0,14111.0,18746.0,15622.0,17080.0,15190.0,21302.0,18139.0,26192.0,25762.0,19072.0,17856.0,9215.0,26945.0,15472.0,15688.0,19760.0,18850.0,7740.0,16109.0,24849.0,16672.0,26029.0,19339.0,22383.0,16991.0,9725.0,17831.0,18588.0,13018.0,12737.0,8673.0,11938.0,25099.0,6727.0,20131.0,22746.0,10287.0,12500.0,15855.0,16462.0,11947.0,10865.0,20062.0,13168.0,9934.0,19812.0,35863.0,15453.0,20392.0,15138.0,10143.0,13833.0,13738.0,23446.0,20591.0,36929.0,10958.0,21627.0,12540.0,28176.0,20336.0,16957.0,11110.0,22880.0,17244.0,15496.0,17522.0,23607.0,35058.0,19026.0,16402.0,26163.0,25680.0,13599.0,11389.0,17281.0,14201.0,13582.0,6366.0,15788.0,17481.0,8843.0,20454.0,30153.0,12082.0,11968.0,10586.0,8873.0,18654.0,22572.0,11394.0,14966.0,18866.0,7964.0,20881.0,22311.0,7070.0,17909.0,14274.0,6817.0,17164.0,21445.0,16677.0,13664.0,20269.0,12327.0,9966.0,13489.0,10347.0,15647.0,11687.0,31926.0,17735.0,11964.0,13367.0,27272.0,14554.0,20943.0,8331.0,22998.0,18562.0,20084.0,19482.0,14065.0,16122.0,6528.0,14442.0,13212.0,44613.0,16140.0,12235.0,23008.0,12180.0,23889.0,8147.0,10805.0,11110.0,19647.0,24503.0,14460.0,21735.0,7069.0,9772.0,17265.0,18772.0,20737.0,16285.0,19726.0,11026.0,25709.0,15270.0,6777.0,25095.0,11172.0,21642.0,14932.0,18415.0,18560.0,12588.0,11159.0,22604.0,21893.0,21745.0,25681.0,19324.0,10825.0,14518.0,19766.0,18831.0,10116.0,21143.0,4773.0,10250.0,31743.0,14504.0,23731.0,20372.0,19325.0,9640.0,12345.0,15829.0,19589.0,7921.0,22348.0,12898.0,17863.0,9179.0,17677.0,11626.0,26955.0,8523.0,18074.0,12114.0,23134.0,36336.0,22834.0,15354.0,14051.0,15072.0,8399.0,12467.0,8141.0,10019.0,16125.0,10252.0,16739.0,12580.0,19328.0,13830.0,13460.0,19200.0,16909.0,20078.0,9017.0,16712.0,6512.0,9539.0,15969.0,15748.0,9423.0,8325.0,19193.0,14797.0,6467.0,23983.0,20162.0,15835.0,13130.0,19204.0,7063.0,17948.0,24740.0,11751.0,36598.0,18608.0,11328.0,16182.0,14431.0,25136.0,6289.0,26882.0,17504.0,15608.0,18027.0,22500.0,9910.0,11838.0,11832.0,14569.0,18216.0,21970.0,11168.0,16402.0,18915.0,16031.0,18629.0,23955.0,15026.0,14745.0,10020.0,34626.0,13726.0,6976.0,19163.0,18681.0,8776.0,15771.0,14960.0,16614.0,12807.0,18368.0,17787.0,7656.0,15950.0,6806.0,13874.0,17264.0,17756.0,23587.0,12391.0,15867.0,29315.0,18617.0,25512.0,35501.0,26732.0,22855.0,13915.0,29639.0,12112.0,32443.0,17380.0,34572.0,13353.0,13118.0,17407.0,10727.0,16089.0,8174.0,29952.0,27599.0,38290.0,14398.0,45307.0,15655.0,12889.0,10075.0,10968.0,24406.0,9368.0,11354.0,21657.0,13804.0,20121.0,21207.0,25704.0,27768.0,15823.0,12513.0,13241.0,17155.0,10037.0,18651.0,19405.0,3905.0,16385.0,25628.0,13053.0,15645.0,16803.0,15905.0,22206.0,16662.0,17345.0,10956.0,20021.0,21320.0,7619.0,23403.0,21658.0,4654.0,15020.0,16112.0,12380.0,16085.0,10956.0,29210.0,19012.0,8458.0,9806.0,16382.0,9108.0,18905.0,15599.0,9346.0,9269.0,19201.0,16168.0,16493.0,16473.0,22999.0,12889.0,11848.0,19284.0,26176.0,14561.0,10249.0,13794.0,15724.0,16631.0,10082.0,37501.0,23076.0,16753.0,12728.0,19525.0,11765.0,21499.0,16063.0,14872.0,13303.0,16880.0,24741.0,9447.0,30454.0,23127.0,16057.0,19404.0,20000.0,14165.0,39077.0,19756.0,11230.0,13022.0,17103.0,24439.0,31619.0,10654.0,16058.0,21632.0,16837.0,25685.0,12593.0,22812.0,33726.0,12591.0,31617.0,14262.0,20143.0,13912.0,57295.0,12791.0,25582.0,7540.0,14620.0,9265.0,18350.0,18937.0,12708.0,18714.0,19777.0,12799.0,17105.0,7355.0,20253.0,20330.0,16610.0,9072.0,11646.0,13043.0,10244.0,25134.0,23032.0,25620.0,14301.0,12705.0,47641.0,11143.0,20222.0,7684.0,6076.0,21104.0,12693.0,24418.0,14448.0,25969.0,19130.0,19157.0,24870.0,17726.0,17141.0,10588.0,13631.0,12421.0,20111.0,18272.0,13103.0,19969.0,17689.0,11059.0,10649.0,14829.0,19786.0,8384.0,10429.0,8230.0,14471.0,17491.0,18878.0,31402.0,13316.0,41120.0,31976.0,7377.0,10780.0,24129.0,21036.0,20272.0,12786.0,15003.0,7218.0,16593.0,18688.0,10536.0,19696.0,17836.0,10831.0,17260.0,12835.0,19580.0,8079.0,19462.0,12831.0,8012.0,18415.0,11047.0,19310.0,9018.0,13286.0,21530.0,18967.0,24893.0,15174.0,17726.0,6730.0,6860.0,16492.0,10720.0,10055.0,16267.0,8158.0,13768.0,13466.0,9944.0,13710.0,5771.0,13402.0,22588.0,31819.0,18039.0,19301.0,19198.0,17241.0,14060.0,9487.0,29278.0,16778.0,25171.0,13869.0,8330.0,22351.0,20773.0,17272.0,27672.0,13911.0,31398.0,26265.0,7516.0,14387.0,17356.0,19326.0,21760.0,21202.0,12774.0,43340.0,22909.0,34171.0,33901.0,22434.0,8849.0,25807.0,14993.0,12925.0,10814.0,8488.0,17565.0,20659.0,17542.0,11594.0,18866.0,12012.0,12936.0,13471.0,16036.0,8498.0,14194.0,31860.0,11358.0,20485.0,10559.0,16676.0,16358.0,18208.0,19792.0,18481.0,34263.0,8817.0,11385.0,13866.0,17418.0,25960.0,21784.0,18620.0,15338.0,15851.0,19894.0,34380.0,13607.0,20065.0,14901.0,23867.0,22960.0,14504.0,9497.0,42298.0,19789.0,22777.0,8839.0,19873.0,11321.0,8746.0,20528.0,17779.0,10566.0,8475.0,7279.0,17657.0,11047.0,20373.0,13081.0,19159.0,18387.0,27095.0,16479.0,10427.0,8121.0,7317.0,10400.0,9987.0,9751.0,6628.0,13550.0,14458.0,19169.0,8805.0,25208.0,14685.0,8087.0,36716.0,11432.0,35294.0,35071.0,17813.0,28576.0,25936.0,14726.0,17052.0,17213.0,23703.0,13853.0,12580.0,18838.0,10077.0,25480.0,7484.0,17107.0,14324.0,11297.0,16411.0,18586.0,33336.0,19478.0,6293.0,16138.0,12101.0,10040.0,21582.0,19211.0,15605.0,12404.0,9532.0,12892.0,24607.0,10358.0,21373.0,12424.0,8149.0,15169.0,14977.0,11616.0,31417.0,20021.0,14765.0,17728.0,18152.0,24696.0,11661.0,18761.0,31295.0,10020.0,9491.0,19054.0,31903.0,16101.0,13733.0,16020.0,24541.0,11587.0,21477.0,20916.0,33699.0,27105.0,12807.0,14012.0,6672.0,15544.0,27342.0,6014.0,38198.0,6678.0,21965.0,18513.0,27451.0,13175.0,26686.0,8695.0,24607.0,17785.0,15561.0,13115.0,37066.0,14351.0,17933.0,13137.0,33826.0,12776.0,4553.0,15412.0,12911.0,12287.0,7077.0,19760.0,11820.0,46561.0,15431.0,14922.0,13809.0,27359.0,9726.0,8143.0,20164.0,28837.0,11341.0,18310.0,11433.0,20688.0,24235.0,22109.0,17559.0,23424.0,22348.0,37959.0,17822.0,19619.0,26707.0,19562.0,13113.0,20018.0,9093.0,16197.0,18257.0,18787.0,15291.0,18993.0,17348.0,9705.0,25597.0,18263.0,23589.0,15646.0,20202.0,13866.0,19238.0,24021.0,17836.0,17356.0,15718.0,15372.0,9195.0,9921.0,19449.0,15141.0,13988.0,9909.0,13714.0,21861.0,24464.0,12041.0,16127.0,16148.0,14671.0,17323.0,31751.0,11071.0,14378.0,11010.0,7101.0,21234.0,13669.0,33730.0,20470.0,28990.0,24143.0,9888.0,23798.0,20128.0,22060.0,24230.0,11056.0,15737.0,14566.0,8030.0,16114.0,12477.0,14415.0,9696.0,16038.0,13568.0,16594.0,72198.0,15667.0,15343.0,9214.0,17742.0,9075.0,16142.0,9649.0,17328.0,9501.0,17738.0,13295.0,19568.0,12778.0,14942.0,12792.0,11406.0,22892.0,13833.0,17459.0,26446.0,9739.0,20750.0,14678.0,14443.0,32881.0,21723.0,19459.0,12125.0,23398.0,13093.0,10221.0,18047.0,6383.0,9078.0,19934.0,15533.0,14559.0,25027.0,8893.0,20468.0,19448.0,10790.0,10310.0,17186.0,16494.0,30148.0,22658.0,19943.0,17391.0,13893.0,10096.0,12786.0,23676.0,19631.0,27250.0,15977.0,10246.0,21874.0,7217.0,21541.0,20613.0,18060.0,32423.0,14692.0,18275.0,7565.0,13931.0,26944.0,5581.0,10715.0,19132.0,14615.0,11788.0,10637.0,22405.0,19434.0,15271.0,15271.0,19047.0,11300.0,11300.0,15540.0,21039.0,20062.0,11107.0,24055.0,17325.0,12465.0,32049.0,28681.0,12905.0,12313.0,22956.0,17100.0,20563.0,14700.0,23786.0,20943.0,16532.0,15065.0,11025.0,10079.0,17802.0,17271.0,13548.0,10467.0,8256.0,13393.0,20735.0,13548.0,19599.0,22419.0,20319.0,15532.0,15886.0,31673.0,14484.0,18514.0,13068.0,10846.0,11809.0,17807.0,16925.0,28123.0,21211.0,22230.0,20896.0,20081.0,29511.0,15461.0,19246.0,22309.0,18195.0,30624.0,31397.0,19174.0,13701.0,11740.0,17076.0,19885.0,14490.0,21510.0,23574.0,17999.0,17518.0,19561.0,27844.0,14308.0,30825.0,10135.0,21181.0,14033.0,40803.0,20768.0,11509.0,17801.0,11980.0,18557.0,14307.0,18318.0,28528.0,17822.0,13162.0,19437.0,34411.0,15847.0,12701.0,8573.0,14821.0,30363.0,17395.0,18217.0,12311.0,31372.0,20369.0,21690.0,8563.0,27518.0,36001.0,18434.0,9444.0,14251.0,16060.0,13526.0,12138.0,14868.0,4572.0,14216.0,16751.0,15676.0,16354.0,19431.0,40397.0,33964.0,19991.0,30675.0,20530.0,21080.0,21009.0,6316.0,11768.0,11098.0,18392.0,7161.0,21296.0,17153.0,18660.0,16349.0,18379.0,14857.0,11986.0,34515.0,32670.0,15881.0,12030.0,23834.0,10495.0,17509.0,22258.0,14335.0,20121.0,31797.0,14135.0,21632.0,27460.0,13536.0,16307.0,9498.0,10746.0,18239.0,22251.0,8977.0,44695.0,18127.0,16505.0,10558.0,23507.0,14620.0,17954.0,11323.0,21496.0,21525.0,15437.0,27044.0,19253.0,14308.0,20974.0,30503.0,19578.0,14708.0,20666.0,19434.0,12691.0,13494.0,17238.0,7926.0,35268.0,11552.0,11302.0,40034.0,6365.0,11783.0,9330.0,6038.0,22892.0,14344.0,14230.0,10176.0,17135.0,21605.0,17534.0,14256.0,11683.0,11471.0,18289.0,16958.0,13150.0,14277.0,11899.0,23411.0,18750.0,16115.0,12126.0,22022.0,20078.0,15353.0,38792.0,14793.0,10088.0,18006.0,22498.0,25435.0,25346.0,31876.0,20399.0,21997.0,11486.0,27032.0,25193.0,18929.0,16147.0,12660.0,16249.0,18993.0,14127.0,17327.0,15108.0,30502.0,12263.0,11767.0,8275.0,10218.0,27675.0,31654.0,12313.0,44224.0,14631.0,9963.0,14514.0,23320.0,32927.0,15547.0,14194.0,14634.0,17644.0,15186.0,20475.0,18643.0,11526.0,19982.0,15651.0,14925.0,10119.0,32385.0,6813.0,30332.0,10501.0,13894.0,23484.0,27235.0,9287.0,12139.0,13499.0,15140.0,6729.0,14457.0,14299.0,17839.0,30169.0,8372.0,27801.0,18038.0,15436.0,22365.0,26110.0,12145.0,13040.0,21483.0,16268.0,15406.0,13621.0,11846.0,24404.0,26864.0,11706.0,14803.0,6690.0,18562.0,22265.0,16180.0,14071.0,22484.0,14067.0,21693.0,14023.0,22114.0,12701.0,14785.0,17893.0,21485.0,10906.0,13877.0,9632.0,9438.0,8727.0,15163.0,15779.0,7268.0,30144.0,11727.0,10305.0,13468.0,14830.0,31081.0,12911.0,9577.0,10264.0,17866.0,22168.0,10420.0,33548.0,31376.0,14774.0,8271.0,14079.0,18272.0,10163.0,29933.0,13174.0,15839.0,19529.0,9550.0,12721.0,14467.0,24359.0,8686.0,12562.0,10590.0,16276.0,15062.0,26179.0,16772.0,19694.0,25627.0,15860.0,16111.0,15511.0,16198.0,8859.0,14651.0,16182.0,11928.0,16021.0,11546.0,14786.0,20763.0,9783.0,13608.0,15569.0,11887.0,21798.0,29010.0,21218.0,25890.0,18173.0,13120.0,14658.0,9861.0,6669.0,32280.0,12850.0,10944.0,19325.0,11748.0,15075.0,14734.0,10448.0,12958.0,12197.0,9454.0,13409.0,13423.0,18468.0,15019.0,17716.0,25473.0,13883.0,17301.0,23557.0,10951.0,12673.0,15352.0,12019.0,14338.0,11144.0,13202.0,7518.0,21853.0,7286.0,15768.0,16554.0,14433.0,12093.0,17728.0,22335.0,11750.0,16390.0,21536.0,11040.0,12211.0,29328.0,9673.0,14084.0,10518.0,8853.0,13498.0,22145.0,11855.0,18709.0,22377.0,13179.0,7521.0,9315.0,14868.0,9957.0,18144.0,10269.0,13894.0,8272.0,22505.0,8236.0,14700.0,12470.0,10529.0,14177.0,23424.0,20116.0,18916.0,11353.0,19990.0,12642.0,16968.0,5979.0,17623.0,14728.0,10980.0,32383.0,19160.0,13767.0,18910.0,23261.0,22554.0,23777.0,12346.0,10065.0,14724.0,26703.0,27951.0,19653.0,15418.0,11190.0,28479.0,41946.0,31418.0,13579.0,18668.0,21625.0,21426.0,9163.0,15471.0,8495.0,15367.0,21208.0,13324.0,15182.0,23244.0,15898.0,11359.0,14660.0,11354.0,21645.0,17229.0,20607.0,18060.0,8428.0,13014.0,17480.0,6597.0,15321.0,22323.0,9625.0,20872.0,7383.0,12926.0,24091.0,17524.0,20786.0,12890.0,19024.0,17965.0,15645.0,12850.0,20520.0,14722.0,18850.0,10870.0,14196.0,37397.0,10510.0,11608.0,13851.0,13885.0,7345.0,11384.0,10816.0,16422.0,8925.0,17172.0,8808.0,21004.0,20988.0,15915.0,12971.0,26843.0,21305.0,29157.0,23481.0,15719.0,13049.0,11839.0,27421.0,13085.0,4236.0,14591.0,10037.0,10150.0,6289.0,14135.0,14135.0,9645.0,19458.0,19458.0,17152.0,16375.0,17293.0,16798.0,13663.0,13663.0,9666.0,13100.0,15449.0,20111.0,22277.0,20095.0,20290.0,16092.0,7800.0,18944.0,37202.0,17330.0,13160.0,20096.0,24509.0,25111.0,14598.0,17007.0,11664.0,17740.0,15366.0,14754.0,13405.0,19461.0,16508.0,20659.0,14116.0,11109.0,18715.0,13260.0,9272.0,20393.0,11355.0,9835.0,10463.0,13897.0,28527.0,13264.0,15131.0,12921.0,13279.0,10776.0,16042.0,16839.0,18947.0,15127.0,17485.0,13448.0,24785.0,12894.0,12451.0,27585.0,16776.0,19977.0,9288.0,9363.0,17511.0,26150.0,22008.0,19716.0,13567.0,6899.0,21815.0,19439.0,18358.0,13583.0,16121.0,16287.0,20076.0,25263.0,32208.0,12884.0,14739.0,8758.0,11771.0,13074.0,15733.0,39604.0,30638.0,13763.0,19921.0,10892.0,17388.0,15616.0,21466.0,16298.0,9210.0,14996.0,15434.0,16224.0,20111.0,32969.0,27585.0,31052.0,21286.0,10482.0,16348.0,11781.0,13619.0,13726.0,19891.0,15073.0,9230.0,13014.0,30440.0,11806.0,14618.0,18369.0,11953.0,13611.0,19749.0,11506.0,17097.0,17350.0,12449.0,17468.0,28381.0,14204.0,22107.0,13366.0,12555.0,17710.0,19913.0,21302.0,36157.0,18357.0,14816.0,18463.0,19034.0,18923.0,27437.0,15784.0,29791.0,34493.0,23226.0,13184.0,29511.0,19941.0,14335.0,10189.0,14153.0,14118.0,16102.0,28315.0,23912.0,33962.0,8350.0,13848.0,26423.0,25553.0,18796.0,17397.0,29304.0,21178.0,18509.0,15608.0,20195.0,37388.0,15370.0,14671.0,20803.0,19865.0,17018.0,6473.0,6901.0,37147.0,20012.0,10588.0,15718.0,20916.0,14280.0,16172.0,21176.0,17802.0,11600.0,40677.0,7244.0,33510.0,17004.0,11803.0,12611.0,18556.0,18882.0,14115.0,28338.0,14417.0,13782.0,16665.0,23116.0,18374.0,15060.0,21501.0,40868.0,15609.0,23098.0,16291.0,8046.0,12200.0,11914.0,19024.0,15256.0,30222.0,8271.0,17389.0,19689.0,24453.0,15287.0,9965.0,12067.0,13381.0,6114.0,10238.0,22088.0,23242.0,8244.0,18921.0,20847.0,17540.0,14843.0,15378.0,10696.0,13014.0,12265.0,28440.0,32140.0,7141.0,19505.0,15013.0,6346.0,18525.0,12368.0,14472.0,17881.0,15489.0,16297.0,12402.0,17876.0,7708.0,23701.0,12284.0,21497.0,17754.0,16278.0,16879.0,7290.0,17730.0,18869.0,18480.0,14730.0,17425.0,10348.0,10323.0,16644.0,10819.0,10920.0,19150.0,13287.0,17242.0,13592.0,24832.0,25511.0,15052.0,18340.0,10440.0,19852.0,13129.0,26550.0,10829.0,22502.0,20108.0,35353.0,13519.0,11758.0,11384.0,15504.0,15021.0,12931.0,20648.0,18398.0,16381.0,20835.0,16615.0,28067.0,21993.0,24630.0,13271.0,13319.0,9463.0,25699.0,11801.0,10005.0,9697.0,8056.0,19058.0,7884.0,9792.0,12377.0,14025.0,8199.0,19003.0,12566.0,18983.0,20502.0,14136.0,13849.0,19521.0,9520.0,22692.0,19549.0,20571.0,28928.0,22489.0,12741.0,19141.0,15217.0,11505.0,25702.0,14673.0,9498.0,13284.0,17504.0,11726.0,16066.0,18708.0,18034.0,14538.0,23015.0,23175.0,18863.0,23347.0,16651.0,22216.0,15876.0,13233.0,14879.0,15833.0,13392.0,18081.0,22088.0,12309.0,19502.0,14823.0,16246.0,16839.0,12613.0,13009.0,19936.0,15363.0,18439.0,45409.0,27075.0,19260.0,12206.0,4188.0,11662.0,11385.0,18929.0,8442.0,13085.0,22039.0,21852.0,12906.0,24337.0,32800.0,17507.0,14202.0,8713.0,14638.0,15068.0,21583.0,10288.0,16052.0,8676.0,8270.0,6763.0,25819.0,20084.0,21637.0,38886.0,16775.0,24497.0,14062.0,10285.0,9349.0,12412.0,10160.0,13033.0,10005.0,28837.0,9036.0,14716.0,15172.0,13365.0,11780.0,18031.0,12365.0,17051.0,9870.0,18512.0,15120.0,13192.0,17512.0,9573.0,26194.0,14176.0,16015.0,10888.0,8729.0,13336.0,7509.0,20727.0,15041.0,12190.0,26541.0,14103.0,14014.0,22030.0,10069.0,15386.0,15693.0,9235.0,13430.0,16128.0,15453.0,22849.0,26935.0,30500.0,16393.0,15023.0,16645.0,17542.0,15804.0,16164.0,36080.0,14009.0,18959.0,14455.0,22605.0,23588.0,11749.0,30408.0,7391.0,27723.0,18958.0,23799.0,24450.0,17390.0,14609.0,9878.0,25083.0,21976.0,22018.0,14698.0,18275.0,20061.0,15328.0,8575.0,8202.0,21923.0,5046.0,13192.0,19545.0,13798.0,15053.0,9434.0,19304.0,14671.0,16364.0,20637.0,15659.0,28264.0,17238.0,21218.0,32892.0,16014.0,19207.0,22303.0,32102.0,25069.0,6567.0,11250.0,12909.0,18017.0,19875.0,9603.0,18452.0,14421.0,32589.0,14280.0,9705.0,18293.0,25623.0,33590.0,11706.0,22605.0,15625.0,13011.0,16089.0,18289.0,39623.0,13659.0,15285.0,20502.0,16429.0,14501.0,19471.0,13380.0,14866.0,15275.0,11597.0,7391.0,27752.0,10315.0,16255.0,12421.0,20744.0,21488.0,30566.0,15940.0,18857.0,18627.0,16679.0,15245.0,14323.0,21928.0,21055.0,17474.0,23049.0,16184.0,18174.0,18067.0,12960.0,39431.0,26185.0,13097.0,15720.0,16645.0,5084.0,32445.0,22885.0,11806.0,50640.0,6857.0,13371.0,11579.0,10977.0,19734.0,19661.0,20116.0,17816.0,16776.0,22801.0,8477.0,15450.0,16195.0,17865.0,42461.0,20912.0,30477.0,23923.0,17088.0,16930.0,15520.0,13886.0,18812.0,14107.0,29934.0,6689.0,7823.0,6869.0,29878.0,15448.0,28468.0,11837.0,35515.0,9769.0,9600.0,30858.0,37190.0,21273.0,22734.0,35470.0,17463.0,19318.0,11405.0,27454.0,12619.0,18185.0,20973.0,11367.0,30613.0,20019.0,31511.0,20656.0,14895.0,20406.0,18501.0,14514.0,6074.0,12191.0,18222.0,9478.0,24445.0,23397.0,13010.0,20249.0,19970.0,8197.0,13486.0,15038.0,26756.0,17011.0,11091.0,16517.0,12276.0,15588.0,17050.0,18655.0,12665.0,20631.0,21029.0,16449.0,12690.0,20507.0,23382.0,27943.0,26548.0,29511.0,13804.0,14386.0,28480.0,9078.0,12345.0,7094.0,7490.0,18004.0,12622.0,8334.0,16854.0,12540.0,7342.0,25051.0,23813.0,30743.0,11869.0,16521.0,14294.0,13771.0,27022.0,25889.0,18184.0,9236.0,19919.0,13396.0,10333.0,10624.0,14095.0,28936.0,23505.0,15861.0,23505.0,12760.0,14241.0,14448.0,8964.0,12441.0,18301.0,17397.0,21920.0,6138.0,10845.0,16925.0,15636.0,10713.0,24335.0,29565.0,17112.0,13673.0,27249.0,17544.0,11262.0,19382.0,12785.0,23264.0,18188.0,14185.0,15702.0,16617.0,11028.0,22337.0,18577.0,14924.0,18801.0,20627.0,15187.0,14779.0,29210.0,12752.0,18470.0,12769.0,19614.0,8776.0,32942.0,17981.0,16962.0,18178.0,17521.0,14708.0,12215.0,20653.0,14371.0,20209.0,21741.0,18244.0,53519.0,25956.0,20045.0,11327.0,14614.0,14551.0,12266.0,17614.0,15797.0,22071.0,29286.0,17052.0,9690.0,31324.0,13342.0,15795.0,11231.0,18325.0,20325.0,18751.0,16889.0,24326.0,8987.0,22505.0,20631.0,32449.0,15933.0,18808.0,33369.0,16151.0,21057.0,20546.0,12703.0,10666.0,18641.0,16437.0,16180.0,13137.0,30515.0,18922.0,6266.0,7278.0,20558.0,18736.0,25068.0,21501.0,9846.0,10441.0,17623.0,25139.0,24287.0,12311.0,22390.0,15997.0,11411.0,32467.0,10305.0,28384.0,22860.0,21961.0,7556.0,22870.0,10717.0,23527.0,26394.0,10812.0,45334.0,18249.0,19602.0,19864.0,16121.0,19854.0,9454.0,21363.0,27936.0,24142.0,10122.0,13347.0,19575.0,12187.0,5769.0,13184.0,12214.0,30738.0,15020.0,15025.0,14750.0,16479.0,17352.0,13442.0,12714.0,12788.0,14738.0,24059.0,32196.0,13333.0,11212.0,5886.0,15324.0,28010.0,16485.0,23252.0,9023.0,14194.0,12684.0,9118.0,16153.0,19913.0,12218.0,15981.0,9267.0,20390.0,20743.0,18308.0,10546.0,13091.0,14137.0,8435.0,28645.0,18420.0,5826.0,11367.0,13212.0,17846.0,9392.0,10912.0,9648.0,10589.0,7355.0,21233.0,10209.0,14558.0,7023.0,11075.0,9070.0,15803.0,14697.0,16946.0,27116.0,15103.0,18677.0,15800.0,15749.0,11782.0,12299.0,51212.0,23693.0,23421.0,23144.0,36012.0,29762.0,19078.0,7570.0,8872.0,19559.0,19166.0,7409.0,22424.0,19644.0,20314.0,38283.0,27044.0,11955.0,17878.0,14114.0,16370.0,25691.0,23733.0,20413.0,17144.0,47618.0,22321.0,14822.0,9616.0,23094.0,26478.0,8810.0,19142.0,26838.0,42710.0,15805.0,19003.0,25143.0,23042.0,25095.0,32689.0,49854.0,10668.0,11879.0,28720.0,33211.0,14307.0,13827.0,20202.0,16491.0,18602.0,30832.0,5572.0,14354.0,11444.0,29695.0,18612.0,7019.0,21449.0,16117.0,8937.0,12436.0,14086.0,14479.0,13401.0,30561.0,11751.0,19331.0,19898.0,28722.0,7374.0,23106.0,7067.0,12549.0,9183.0,16621.0,29283.0,23787.0,12201.0,10670.0,17816.0,12513.0,22497.0,12130.0,19374.0,10894.0,13050.0,25683.0,9383.0,22188.0,16052.0,15977.0,19373.0,12179.0,23691.0,12193.0,15720.0,14787.0,17521.0,12001.0,14179.0,12540.0,13706.0,21736.0,10205.0,27331.0,21533.0,17451.0,13277.0,12847.0,16054.0,18431.0,8455.0,14771.0,11723.0,14885.0,23182.0,19629.0,10049.0,13998.0,13263.0,22447.0,17319.0,32987.0,16640.0,18849.0,21168.0,30435.0,15807.0,17065.0,8317.0,14546.0,10344.0,13645.0,33356.0,17390.0,19049.0,20819.0,24670.0,10394.0,21385.0,10522.0,11131.0,21026.0,18175.0,24184.0,13912.0,15854.0,16829.0,17678.0,14641.0,13600.0,14883.0,21700.0,12094.0,12276.0,18288.0,14348.0,15983.0,18717.0,17701.0,14492.0,11290.0,25871.0,19892.0,9343.0,18078.0,26391.0,7106.0,12344.0,8638.0,12510.0,30984.0,16924.0,26358.0,13990.0,16180.0,14997.0,15548.0,13888.0,21793.0,12840.0,16346.0,33359.0,15012.0,12866.0,12943.0,11975.0,15303.0,38809.0,14500.0,6682.0,22571.0,11650.0,11225.0,6437.0,22886.0,21633.0,34816.0,16179.0,15561.0,16000.0,13110.0,12197.0,15175.0,18303.0,13019.0,16440.0,17981.0,23751.0,24683.0,12721.0,12393.0,14288.0,9281.0,12965.0,12793.0,27951.0,11585.0,13233.0,17653.0,7007.0,21456.0,22818.0,25341.0,10965.0,25938.0,21620.0,11717.0,20802.0,10357.0,6939.0,11089.0,19355.0,15109.0,7170.0,8373.0,15490.0,11205.0,32582.0,15097.0,16457.0,11167.0,21053.0,22159.0,13408.0,17076.0,29639.0,12409.0,16398.0,15863.0,11718.0,11002.0,8810.0,14438.0,15322.0,9636.0,14960.0,13179.0,17317.0,9452.0,7041.0,8211.0,15475.0,27068.0,18069.0,21142.0,18557.0,9639.0,16212.0,18214.0,12099.0,8584.0,15521.0,14919.0,17027.0,17203.0,16747.0,14713.0,14250.0,16986.0,9368.0,22802.0,9617.0,19887.0,11939.0,7890.0,14851.0,16498.0,13937.0,11280.0,18883.0,22123.0,26012.0,15601.0,21328.0,17066.0,12933.0,18373.0,13774.0,16855.0,19963.0,14685.0,23676.0,20058.0,18814.0,13574.0,7542.0,16142.0,14071.0,20861.0,13554.0,46038.0,19258.0,25553.0,2922.0,24666.0,10143.0,40762.0,9366.0,12785.0,19335.0,21838.0,18431.0,20853.0,12037.0,13025.0,22362.0,17811.0,17915.0,13138.0,9943.0,11713.0,23320.0,11360.0,12521.0,14669.0,16890.0,16890.0,13436.0,14217.0,21024.0,8585.0,18346.0,16526.0,15333.0,9404.0,27843.0,12757.0,18674.0,19695.0,14033.0,26116.0,21424.0,15873.0,11121.0,14195.0,8413.0,11025.0,22032.0,12754.0,14664.0,3348.0,14307.0,11120.0,23772.0,17151.0,23568.0,13543.0,10073.0,18105.0,20588.0,19730.0,33664.0,16062.0,10996.0,20599.0,23007.0,24218.0,18773.0,18155.0,12778.0,8878.0,5698.0,34934.0,18941.0,14932.0,19768.0,13309.0,19188.0,11364.0,9185.0,16550.0,8383.0,12356.0,10364.0,12039.0,7343.0,27182.0,18930.0,35568.0,19235.0,21717.0,17960.0,14162.0,12637.0,9715.0,16755.0,29173.0,30106.0,13847.0,27598.0,24165.0,26955.0,15433.0,10747.0,10717.0,12588.0,18505.0,11702.0,20104.0,19233.0,13549.0,10975.0,34231.0,21268.0,15593.0,23181.0,16510.0,17128.0,16471.0,9403.0,15346.0,11391.0,26906.0,20552.0,11747.0,19257.0,20949.0,9239.0,9941.0,20813.0,20858.0,12872.0,10524.0,25634.0,10822.0,19659.0,32712.0,18062.0,7249.0,17039.0,12998.0,10385.0,23324.0,13235.0,15822.0,17679.0,13158.0,15462.0,18572.0,8776.0,12773.0,13925.0,22862.0,17972.0,18467.0,14552.0,16865.0,15966.0,15036.0,10453.0,16529.0,12940.0,16074.0,6600.0,13138.0,25257.0,7965.0,40221.0,7213.0,26411.0,18991.0,8737.0,27285.0,22874.0,8913.0,8052.0,19007.0,7774.0,13764.0,18350.0,22443.0,16082.0,10969.0,20718.0,19141.0,18096.0,11816.0,21045.0,25370.0,14323.0,11780.0,15509.0,12683.0,14265.0,14210.0,18696.0,25992.0,13873.0,27367.0,5519.0,11100.0,8454.0,9034.0,21205.0,14063.0,20194.0,34402.0,12675.0,17605.0,18223.0,20084.0,18655.0,11784.0,12154.0,10605.0,22800.0,16149.0,9898.0,7026.0,12738.0,10707.0,17419.0,15838.0,10323.0,14833.0,8042.0,8925.0,13827.0,18613.0,7377.0,16156.0,11729.0,7592.0,14514.0,11131.0,25527.0,11808.0,15096.0,13796.0,27888.0,12601.0,14137.0,12443.0,32447.0,15199.0,13823.0,18553.0,18249.0,21055.0,18619.0,13049.0,11307.0,18575.0,9592.0,19830.0,26351.0,10868.0,9341.0,14552.0,34595.0,20968.0,23681.0,8021.0,20017.0,21767.0,43377.0,6872.0,9677.0,17447.0,17842.0,35392.0,9916.0,14174.0,18321.0,13438.0,16739.0,8855.0,18894.0,25672.0,20417.0,9966.0,18362.0,43636.0,23096.0,13634.0,11021.0,15318.0,18162.0,10952.0,19129.0,16645.0,4057.0,21431.0,25229.0,38393.0,11043.0,11177.0,15389.0,21701.0,16545.0,19039.0,20899.0,17146.0,12810.0,16569.0,31377.0,22731.0,17718.0,10312.0,15233.0,10661.0,5207.0,8558.0,11947.0,18023.0,10600.0,9443.0,19332.0,12660.0,26906.0,13972.0,11435.0,24741.0,10765.0,13026.0,31260.0,12773.0,28429.0,19600.0,7694.0,8691.0,9203.0,13831.0,27771.0,18346.0,17838.0,15724.0,10453.0,10206.0,14151.0,18632.0,9673.0,30267.0,25552.0,24144.0,12989.0,18903.0,31559.0,12908.0,14573.0,14979.0,14979.0,27979.0,32862.0,20844.0,14137.0,17852.0,25704.0,15679.0,13306.0,15014.0,14888.0,13893.0,23171.0,9562.0,9189.0,18220.0,21183.0,13037.0,9922.0,14715.0,9117.0,15514.0,11619.0,15207.0,10103.0,15200.0,9248.0,15559.0,14030.0,11877.0,12903.0,10226.0,20493.0,7239.0,12564.0,23582.0,11613.0,32504.0,17922.0,23764.0,43144.0,12752.0,14052.0,18697.0,32048.0,15216.0,15597.0,17231.0,21236.0,18274.0,21224.0,22278.0,16183.0,15377.0,14564.0,12910.0,13854.0,16853.0,30485.0,17944.0,21043.0,12938.0,10632.0,21028.0,22929.0,23773.0,23833.0,4239.0,12009.0,19034.0,18666.0,20079.0,21886.0,7812.0,14366.0,15751.0,30802.0,23434.0,18524.0,23484.0,7005.0,8613.0,13486.0,28952.0,10874.0,13994.0,24242.0,17337.0,15039.0,18903.0,43010.0,10950.0,35907.0,10903.0,13206.0,38570.0,13433.0,19355.0,13114.0,20593.0,16411.0,17321.0,16036.0,63469.0,14753.0,31051.0,24768.0,23673.0,15555.0,26979.0,26750.0,11099.0,19262.0,21262.0,12578.0,19390.0,21655.0,9625.0,25307.0,19645.0,16860.0,16689.0,13136.0,10487.0,15052.0,21039.0,19217.0,19470.0,19019.0,14935.0,9700.0,21196.0,20802.0,18292.0,23594.0,7401.0,12057.0,40075.0,22518.0,24906.0,19997.0,32051.0,21080.0,8128.0,12404.0,17781.0,24511.0,23379.0,31176.0,12196.0,14874.0,12737.0,10076.0,19898.0,19950.0,20642.0,10609.0,12255.0,26249.0,18436.0,29343.0,23027.0,17867.0,18410.0,28066.0,16911.0,16810.0,10091.0,14854.0,15361.0,8753.0,19910.0,11600.0,17625.0,25238.0,8855.0,14154.0,29558.0,25219.0,21159.0,17777.0,8131.0,25359.0,18552.0,33367.0,13326.0,19629.0,20635.0,14657.0,20247.0,16399.0,32056.0,23305.0,14631.0,22566.0,11325.0,7985.0,14353.0,8637.0,14205.0,32724.0,19842.0,8532.0,14238.0,26084.0,13034.0,36332.0,15243.0,7558.0,14284.0,24021.0,14821.0,16366.0,19385.0,8305.0,14889.0,11569.0,38294.0,13502.0,24940.0,10702.0,17214.0,15196.0,33024.0,15180.0,30704.0,19830.0,33700.0,26351.0,15856.0,12548.0,20718.0,19463.0,13589.0,14738.0,15657.0,18866.0,17370.0,8696.0,14620.0,28487.0,24264.0,24174.0,21197.0,16001.0,9443.0,16805.0,16428.0,19855.0,8288.0,10695.0,25615.0,26545.0,9393.0,13680.0,25402.0,23555.0,21829.0,13747.0,60201.0,21981.0,25762.0,18603.0,25078.0,15798.0,36787.0,25375.0,37206.0,39599.0,17343.0,10833.0,25236.0,28159.0,33398.0,14465.0,28279.0,28433.0,20212.0,17430.0,16070.0,20710.0,16742.0,21227.0,13456.0,13101.0,16632.0,23351.0,11286.0,10837.0,14806.0,26160.0,14332.0,18317.0,11686.0,22020.0,39360.0,13192.0,20299.0,34988.0,10557.0,45228.0,34491.0,11006.0,9672.0,18167.0,11613.0,12650.0,24580.0,17095.0,14575.0,26599.0,14271.0,11707.0,13813.0,13813.0,10273.0,27415.0,10211.0,20099.0,12658.0,27024.0,17339.0,14288.0,14288.0,13382.0,10882.0,42892.0,25642.0,10832.0,19336.0,22267.0,22691.0,13054.0,17326.0,14347.0,8160.0,26410.0,9979.0,13944.0,14125.0,15966.0,14326.0,22503.0,12605.0,11015.0,18668.0,9598.0,23046.0,21038.0,20411.0,22356.0,32085.0,16886.0,36665.0,12812.0,14454.0,13705.0,17779.0,17164.0,14274.0,19391.0,30987.0,17110.0,19692.0,18901.0,21162.0,25400.0,23589.0,6867.0,15804.0,8947.0,23611.0,21954.0,14181.0,21755.0,6348.0,15545.0,14373.0,20637.0,12922.0,17619.0,16962.0,22666.0,20126.0,10947.0,24576.0,17302.0,11645.0,13534.0,20507.0,20051.0,26055.0,24640.0,15059.0,18251.0,15621.0,13787.0,22040.0,18572.0,25153.0,9031.0,18187.0,22734.0,25879.0,17746.0,7321.0,21264.0,16650.0,14979.0,11192.0,8940.0,19353.0,27385.0,29832.0,8830.0,17058.0,9838.0,20991.0,5795.0,28161.0,12222.0,25598.0,22026.0,9561.0,12178.0,15604.0,12015.0,16121.0,19004.0,10031.0,11584.0,33622.0,17957.0,19030.0,19113.0,11174.0,30142.0,15487.0,7064.0,17032.0,12452.0,23421.0,12278.0,19805.0,19628.0,28214.0,15238.0,17780.0,26747.0,20646.0,10145.0,21482.0,13355.0,10148.0,25031.0,9251.0,11748.0,12709.0,23243.0,15865.0,50558.0,13923.0,28786.0,29371.0,12409.0,23966.0,12413.0,11592.0,14445.0,21277.0,11263.0,15420.0,11796.0,11437.0,24394.0,15405.0,9702.0,14096.0,15809.0,25360.0,9307.0,31337.0,14745.0,12909.0,17400.0,9162.0,28589.0,20379.0,15034.0,18888.0,15365.0,18421.0,21630.0,26030.0,17830.0,12630.0,28206.0,15460.0,21867.0,15220.0,16015.0,11849.0,36131.0,21782.0,20530.0,11283.0,21138.0,22847.0,10797.0,25248.0,11861.0,16801.0,17729.0,14227.0,13963.0,22985.0,13305.0,17585.0,21086.0,10007.0,14587.0,32515.0,20823.0,38241.0,20624.0,13205.0,11761.0,19306.0,9065.0,9065.0,24545.0,18057.0,23186.0,20946.0,20989.0,6065.0,6065.0,13652.0,15381.0,53997.0,47935.0,16909.0,11844.0,17480.0,18420.0,19956.0,16439.0,10735.0,19128.0,19400.0,7221.0,23518.0,41042.0,15888.0,19934.0,24594.0,9565.0,9264.0,31192.0,26543.0,25078.0,31900.0,19201.0,9321.0,29439.0,13510.0,30507.0,25266.0,13071.0,21700.0,17929.0,14184.0,16115.0,16317.0,18541.0,22117.0,18270.0,27959.0,21557.0,25531.0,18569.0,16364.0,32713.0,17353.0,14985.0,6583.0,13812.0,19393.0,7124.0,25247.0,21063.0,28677.0,16243.0,6969.0,27460.0,8318.0,26554.0,11395.0,11991.0,11881.0,5473.0,36950.0,17310.0,17541.0,20149.0,19007.0,11963.0,10975.0,45354.0,19017.0,12558.0,32601.0,14122.0,17583.0,20464.0,38727.0,36537.0,14057.0,16374.0,19343.0,32141.0,42200.0,21043.0,7958.0,20870.0,17444.0,20565.0,9331.0,19917.0,19320.0,16263.0,18981.0,13339.0,34513.0,28273.0,23234.0,18614.0,37627.0,21167.0,12650.0,7130.0,15090.0,21592.0,19315.0,9283.0,22750.0,13092.0,19708.0,23739.0,11775.0,15601.0,21646.0,12766.0,27045.0,12193.0,14943.0,19466.0,10980.0,18505.0,23109.0,18726.0,27891.0,33991.0,24267.0,26260.0,21298.0,34030.0,16460.0,7565.0,14900.0,22924.0,38813.0,15616.0,27033.0,21568.0,27569.0,21363.0,23962.0,34164.0,24141.0,13803.0,9509.0,25203.0,13266.0,19654.0,18073.0,25749.0,14858.0,14062.0,24068.0,15609.0,17857.0,14466.0,20350.0,19391.0,11483.0,23564.0,17899.0,19759.0,10902.0,14552.0,25906.0,24990.0,11919.0,36819.0,23795.0,10501.0,34378.0,17198.0,21504.0,13399.0,63780.0,13153.0,20077.0,21526.0,26464.0,13656.0,14750.0,19955.0,19379.0,25487.0,18963.0,11420.0,7272.0,10168.0,15782.0,7582.0,31176.0,23103.0,19942.0,11569.0,32540.0,4602.0,21950.0,13141.0,13142.0,23000.0,11743.0,14897.0,39334.0,21184.0,13402.0,14605.0,19398.0,19509.0,36327.0,43915.0,16137.0,26346.0,18374.0,30997.0,10339.0,26923.0,17012.0,17619.0,17463.0,17718.0,13524.0,19212.0,29372.0,21018.0,11792.0,21942.0,31594.0,19365.0,15919.0,20526.0,11251.0,22795.0,26907.0,25922.0,17830.0,8788.0,11172.0,10105.0,12136.0,14085.0,10566.0,13491.0,10667.0,21637.0,16203.0,11468.0,15522.0,20584.0,36094.0,8493.0,27995.0,11859.0,39071.0,34595.0,14092.0,15948.0,11594.0,36190.0,18082.0,9640.0,29433.0,19863.0,19731.0,14712.0,17959.0,21855.0,24770.0,27140.0,15678.0,11848.0,14549.0,20423.0,11820.0,20962.0,13187.0,16624.0,20768.0,11569.0,17472.0,21529.0,26840.0,14713.0,17949.0,28854.0,23551.0,6702.0,13006.0,11080.0,17979.0,16098.0,29826.0,20994.0,16571.0,24979.0,17430.0,39823.0,12871.0,16646.0,22625.0,29687.0,31694.0,21135.0,26294.0,19945.0,24960.0,35285.0,14542.0,15448.0,9299.0,27447.0,28964.0,21061.0,20210.0,46526.0,18036.0,25412.0,13566.0,18057.0,22202.0,6189.0,26310.0,21964.0,25030.0,13107.0,21632.0,39602.0,10445.0,21170.0,6588.0,16091.0,30149.0,13223.0,11224.0,11644.0,20699.0,17123.0,19014.0,16333.0,29286.0,21112.0,18550.0,8296.0,10812.0,12944.0,22736.0,22329.0,10814.0,8687.0,33188.0,28850.0,15928.0,23278.0,20613.0,18320.0,44819.0,17504.0,43519.0,13128.0,20060.0,22569.0,36467.0,25052.0,26274.0,16140.0,26323.0,16110.0,15355.0,11578.0,14900.0,19166.0,20343.0,29601.0,42257.0,15821.0,8082.0,16194.0,15125.0,32502.0,17654.0,11123.0,16823.0,43715.0,10659.0,28411.0,15037.0,6286.0,23681.0,11005.0,18838.0,11240.0,16840.0,28624.0,23434.0,20512.0,32246.0,29314.0,22470.0,40590.0,24010.0,21522.0,24860.0,12488.0,9935.0,25981.0,25368.0,5633.0,13134.0,16068.0,22102.0,16585.0,4338.0,15626.0,35147.0,16760.0,25910.0,25424.0,14750.0,10727.0,22600.0,18742.0,21223.0,26874.0,34334.0,22010.0,12981.0,26925.0,9779.0,10879.0,17003.0,19007.0,18177.0,12869.0,10119.0,13198.0,14999.0,29518.0,21808.0,12835.0,22427.0,42212.0,28380.0,36613.0,14713.0,23428.0,25321.0,40903.0,42418.0,30540.0,35572.0,13755.0,16910.0,24668.0,17768.0,25701.0,18432.0,37265.0,21248.0,13328.0,9710.0,12540.0,30562.0,9497.0,24251.0,6772.0,31842.0,31314.0,38024.0,27803.0,28529.0,11860.0,19255.0,7138.0,34913.0,15645.0,26599.0,37538.0,24600.0,11847.0,12736.0,12025.0,34268.0,23415.0,11788.0,31499.0,13269.0,14952.0,13062.0,20050.0,25479.0,31891.0,25588.0,9292.0,15314.0,22956.0,22390.0,28381.0,30617.0,23317.0,20858.0,26228.0,34062.0,20854.0,19725.0,25951.0,27829.0,17949.0,17526.0,15631.0,10844.0,17953.0,11494.0,12900.0,13431.0,6746.0,15374.0,10277.0,11737.0,7726.0,17738.0,13259.0,20675.0,25745.0,13809.0,15690.0,24609.0,32727.0,25427.0,12725.0,28045.0,18658.0,17866.0,22331.0,39699.0,19516.0,15782.0,35130.0,15990.0,29013.0,18924.0,14861.0,14881.0,14854.0,27753.0,19575.0,19018.0,18296.0,25237.0,26581.0,22020.0,44664.0,21464.0,17364.0,23718.0,19543.0,32585.0,19717.0,18609.0,17921.0,28930.0,29861.0,39691.0,20366.0,18253.0,23337.0,22628.0,16078.0,11473.0,53664.0,15339.0,22078.0,14072.0,13770.0,17090.0,25973.0,31949.0,9758.0,20309.0,19234.0,19210.0,30157.0,23723.0,19022.0,14855.0,18932.0,13423.0,36181.0,41049.0,17351.0,15522.0,30626.0,15581.0,8791.0,12279.0,22637.0,15043.0,24981.0,25858.0,16368.0,19514.0,11916.0,20055.0,14467.0,44700.0,15668.0,22953.0,20397.0,24425.0,10713.0,16709.0,17282.0,15819.0,14041.0,23076.0,18092.0,23206.0,46805.0,20899.0,8742.0,27839.0,22762.0,43412.0,11651.0,32510.0,33037.0,40044.0,25766.0,29239.0,11023.0,26050.0,11235.0,25457.0,9560.0,42488.0,48732.0,21874.0,18987.0,10192.0,16652.0,9160.0,24905.0,19719.0,27846.0,16443.0,27498.0,20909.0,41418.0,19471.0,17064.0,12494.0,13905.0,24859.0,14071.0,24750.0,15703.0,19352.0,7938.0,7878.0,27565.0,26484.0,16222.0,21980.0,23368.0,28198.0,15307.0,31882.0,23105.0,12312.0,13076.0,20270.0,16440.0,48286.0,8614.0,25491.0,25921.0,53713.0,7053.0,23758.0,38374.0,21216.0,27689.0,10050.0,23296.0,38991.0,22178.0,13726.0,22216.0,14255.0,20862.0,14851.0,18001.0,8735.0,16994.0,24658.0,16855.0,6844.0,18283.0,6202.0,14391.0,15065.0,9250.0,26408.0,13005.0,18160.0,20980.0,31894.0,29677.0,31323.0,16615.0,8955.0,9912.0,13873.0,38545.0,29223.0,17932.0,19304.0,16672.0,23804.0,21072.0,6222.0,46959.0,11460.0,16365.0,23257.0,30791.0,13029.0,21101.0,31035.0,22884.0,19147.0,40732.0,17778.0,17024.0,21450.0,25890.0,41171.0,9153.0,17185.0,25643.0,21958.0,15875.0,10611.0,39828.0,16372.0,23949.0,21344.0,33263.0,22979.0,17432.0,17754.0,14315.0,13595.0,13039.0,14579.0,57471.0,26163.0,23010.0,20380.0,32069.0,18775.0,31128.0,11880.0,31636.0,27885.0,8672.0,21110.0,13016.0,28332.0,21004.0,12323.0,12227.0,10605.0,17520.0,26031.0,18066.0,15541.0,32966.0,16776.0,41209.0,21695.0,11033.0,25415.0,17397.0,20854.0,17570.0,28868.0,18407.0,29923.0,18166.0,20109.0,32721.0,20020.0,18195.0,21498.0,28881.0,10061.0,38285.0,28100.0,13251.0,23227.0,14085.0,12667.0,23579.0,9682.0,31329.0,59063.0,22278.0,25875.0,19610.0,13263.0,21556.0,26889.0,20867.0,38918.0,14619.0,23918.0,15771.0,17422.0,26249.0,39170.0,20580.0,15219.0,35161.0,11579.0,30450.0,12252.0,18420.0,10736.0,10787.0,46398.0,26668.0,7031.0,28855.0,11764.0,21789.0,40169.0,12143.0,18630.0,14663.0,27972.0,12903.0,25566.0,31920.0,13768.0,4631.0,17516.0,36517.0,33364.0,8864.0,18482.0,25833.0,22451.0,21896.0,27629.0,14494.0,25936.0,17545.0,23434.0,21057.0,31822.0,21699.0,31326.0,20492.0,17546.0,26369.0,24995.0,29495.0,16381.0,13070.0,29311.0,23269.0,19632.0,15425.0,19310.0,16968.0,15065.0,46416.0,20942.0,20857.0,8976.0,20108.0,56968.0,18674.0,20186.0,12200.0,18872.0,25013.0,26423.0,16795.0,22261.0,14054.0,35871.0,30864.0,19676.0,16268.0,29966.0,41388.0,8776.0,25544.0,32531.0,7511.0,33332.0,15571.0,16559.0,28502.0,24122.0,16793.0,16108.0,12030.0,16942.0,22367.0,19768.0,18894.0,13263.0,37089.0,35354.0,15929.0,15407.0,27681.0,14461.0,17465.0,19855.0,28919.0,14050.0,10024.0,11192.0,18641.0,20929.0,18679.0,30802.0,33226.0,15702.0,17216.0,23422.0,29330.0,14462.0,24018.0,25346.0,14015.0,25977.0,31976.0,13539.0,19562.0,11519.0,16554.0,12597.0,31667.0,18520.0,12665.0,15071.0,12024.0,9446.0,26452.0,13226.0,17035.0,23576.0,17694.0,10215.0,17424.0,10180.0,12022.0,18428.0,28098.0,15372.0,13158.0,19766.0,22250.0,24804.0,24188.0,16989.0,14073.0,24440.0,27569.0,22213.0,28204.0,30141.0,20951.0,17468.0,19813.0,8196.0,14731.0,13254.0,31347.0,25370.0,16707.0,22394.0,10704.0,12308.0,34225.0,13501.0,21314.0,23311.0,30049.0,28120.0,18142.0,18263.0,15486.0,24047.0,37394.0,29936.0,14410.0,21666.0,8468.0,23931.0,11470.0,27562.0,5719.0,30088.0,30326.0,19155.0,12534.0,38421.0,14870.0,21403.0,39643.0,21684.0,24852.0,23008.0,25859.0,19537.0,12224.0,15639.0,18394.0,21116.0,11801.0,22923.0,17947.0,14914.0,12123.0,17668.0,20233.0,18821.0,18933.0,22348.0,19546.0,21150.0,23965.0,15551.0,22892.0,13625.0,15268.0,19032.0,16579.0,10738.0,28289.0,34735.0,7750.0,10131.0,18123.0,29843.0,12392.0,24391.0,17266.0,20834.0,17727.0,25920.0,11294.0,27050.0,15989.0,22191.0,18400.0,39567.0,15994.0,17504.0,23348.0,29930.0,10717.0,19812.0,27389.0,24258.0,15940.0,12274.0,20071.0,11864.0,12918.0,28407.0,12628.0,23714.0,12138.0,26794.0,18417.0,31310.0,41481.0,24316.0,27095.0,12805.0,19908.0,31082.0,28650.0,17069.0,20619.0,20465.0,23133.0,14734.0,21942.0,19727.0,30517.0,26233.0,20928.0,14758.0,58356.0,16819.0,19721.0,31174.0,12068.0,24313.0,27025.0,17423.0,17496.0,17970.0,10701.0,17011.0,10848.0,21373.0,25302.0,13880.0,11457.0,17159.0,36119.0,18165.0,21629.0,19320.0,17070.0,9614.0,37796.0,22890.0,33369.0,34188.0,41882.0,24193.0,26472.0,18302.0,28135.0,30875.0,22058.0,20934.0,9464.0,26042.0,17725.0,8576.0,24462.0,31517.0,17599.0,10773.0,14249.0,15035.0,19401.0,33931.0,27593.0,21394.0,15997.0,19607.0,29354.0,17070.0,17172.0,31575.0,19310.0,16630.0,11995.0,16979.0,47255.0,18907.0,12704.0,31989.0,15589.0,16504.0,14074.0,16954.0,22163.0,8235.0,13640.0,31528.0,11373.0,16858.0,15654.0,12760.0,10696.0,31170.0,14150.0,18217.0,16390.0,21847.0,38345.0,17854.0,22995.0,17638.0,29966.0,29411.0,19686.0,17357.0,18040.0,9958.0,33704.0,17437.0,23303.0,21680.0,12727.0,21623.0,14723.0,21853.0,18729.0,19558.0,10738.0,15217.0,11360.0,18399.0,24180.0,16050.0,21159.0,19653.0,23351.0,15992.0,12618.0,33132.0,11391.0,17789.0,20735.0,10689.0,14858.0,11404.0,55378.0,18314.0,13482.0,23209.0,26338.0,15536.0,14133.0,28283.0,27531.0,22764.0,20399.0,4590.0,36224.0,7215.0,19916.0,31637.0,37396.0,19509.0,18188.0,10249.0,10536.0,17751.0,12420.0,20297.0,20316.0,23521.0,21502.0,14290.0,15235.0,10144.0,10718.0,12689.0,15946.0,13373.0,14102.0,13088.0,31150.0,14178.0,22967.0,13625.0,19259.0,15437.0,13949.0,19271.0,27471.0,17310.0,14436.0,27107.0,16317.0,32900.0,41930.0,31701.0,19152.0,25161.0,17582.0,14079.0,14460.0,22300.0,28150.0,21966.0,15591.0,30765.0,21427.0,10268.0,22666.0,11615.0,19532.0,29471.0,15174.0,6551.0,10877.0,27566.0,21779.0,18684.0,17397.0,29138.0,31693.0,21263.0,7152.0,29866.0,16254.0,22526.0,17218.0,33632.0,28118.0,15408.0,62364.0,21907.0,18252.0,27405.0,29478.0,39485.0,19233.0,22302.0,9517.0,11841.0,38833.0,36788.0,18759.0,20008.0,28942.0,15282.0,19577.0,25250.0,18588.0,17035.0,12330.0,16030.0,22175.0,15551.0,15017.0,17729.0,16229.0,20700.0,11383.0,28494.0,14416.0,26385.0,7270.0,13793.0,20208.0,11760.0,14140.0,10778.0,14970.0,16574.0,19896.0,32233.0,34197.0,22128.0,15948.0,13701.0,24555.0,9280.0,6710.0,19187.0,15168.0,14092.0,36202.0,31207.0,15278.0,8860.0,15287.0,24949.0,20710.0,15247.0,16334.0,8814.0,16197.0,24563.0,21386.0,14166.0,24832.0,25206.0,20534.0,17359.0,19182.0,21163.0,17425.0,22925.0,18075.0,27647.0,12299.0,23891.0,14185.0,14502.0,5783.0,18590.0,17710.0,10052.0,15363.0,30639.0,21264.0,19725.0,20502.0,22082.0,17246.0,31459.0,36947.0,29276.0,14486.0,15653.0,26138.0,9690.0,12364.0,10299.0,16228.0,41582.0,35041.0,28204.0,15840.0,14324.0,11107.0,20701.0,12755.0,34793.0,25416.0,18959.0,14903.0,16188.0,32744.0,24964.0,18917.0,12943.0,38174.0,21486.0,20332.0,22764.0,16402.0,40786.0,15259.0,18384.0,14085.0,11214.0,18535.0,7841.0,15718.0,15581.0,11803.0,12921.0,21614.0,35444.0,20624.0,13394.0,12596.0,29378.0,22092.0,13959.0,14947.0,26208.0,16652.0,18354.0,22011.0,17875.0,15995.0,24927.0,11024.0,18354.0,18033.0,18221.0,19193.0,32132.0,26670.0,15253.0,27826.0,22108.0,12089.0,16940.0,27610.0,29244.0,30058.0,37291.0,17759.0,53509.0,20017.0,35620.0,14566.0,24278.0,20833.0,13570.0,31716.0,20635.0,32055.0,15550.0,22211.0,21697.0,26008.0,18790.0,19049.0,21148.0,31141.0,14053.0,21456.0,31552.0,9783.0,14769.0,12549.0,19692.0,28669.0,12814.0,47505.0,16282.0,15936.0,19113.0,23170.0,28251.0,22728.0,27357.0,29502.0,16822.0,13579.0,18617.0,10266.0,14184.0,19006.0,34050.0,12742.0,18368.0,11317.0,19538.0,17890.0,23672.0,20964.0,25607.0,19245.0,11118.0,14976.0,19862.0,21664.0,11111.0,16911.0,9733.0,17448.0,27798.0,17294.0,19442.0,28657.0,26304.0,14011.0,20583.0,7895.0,14464.0,17381.0,20214.0,27356.0,17376.0,52529.0,22709.0,12216.0,20156.0,21953.0,12962.0,12620.0,17738.0,39049.0,9548.0,28296.0,11693.0,22051.0,36543.0,9704.0,17189.0,29824.0,14609.0,19042.0,28895.0,21283.0,18130.0,10344.0,13349.0,20211.0,16825.0,23658.0,20291.0,18661.0,9875.0,22450.0,20562.0,24080.0,18307.0,17418.0,21730.0,21851.0,14417.0,16350.0,13007.0,8049.0,24923.0,21286.0,13763.0,6824.0,17096.0,66035.0,24861.0,13641.0,14064.0,23519.0,30431.0,10068.0,43494.0,37231.0,6814.0,21701.0,29646.0,27879.0,14628.0,33974.0,23066.0,7423.0,17122.0,21883.0,44086.0,20576.0,11126.0,15334.0,31664.0,23290.0,15911.0,25885.0,14780.0,15691.0,27705.0,27657.0,18695.0,17323.0,10407.0,18422.0,16726.0,18262.0,15869.0,35099.0,19335.0,40831.0,25025.0,20900.0,13327.0,38706.0,37552.0,17919.0,16551.0,53599.0,14195.0,17911.0,37602.0,20486.0,13396.0,17028.0,29137.0,10327.0,12772.0,37145.0,23364.0,30835.0,14549.0,9513.0,20671.0,21683.0,21710.0,12792.0,12141.0,11790.0,16813.0,14238.0,17322.0,19247.0,18581.0,19953.0,26644.0,13007.0,21694.0,20183.0,44676.0,14363.0,19234.0,24648.0,21537.0,17678.0,55945.0,47374.0,29556.0,19072.0,30464.0,24259.0,9245.0,34035.0,34348.0,14822.0,11319.0,29552.0,24293.0,22029.0,14536.0,19823.0,19603.0,11519.0,21481.0,19139.0,28411.0,9857.0,30362.0,32908.0,39951.0,20669.0,11206.0,39453.0,22515.0,13821.0,20936.0,34269.0,22493.0,23144.0,22380.0,16886.0,7375.0,21404.0,14981.0,10340.0,18542.0,13455.0,10222.0,21855.0,19914.0,28349.0,13895.0,31044.0,21109.0,16382.0,22487.0,14934.0,27938.0,17930.0,19480.0,8858.0,26485.0,11749.0,26485.0,29017.0,10165.0,25546.0,17858.0,17454.0,24331.0,19642.0,11477.0,14825.0,41428.0,47656.0,19025.0,35577.0,11647.0,22156.0,12557.0,36986.0,18188.0,32205.0,13952.0,18670.0,25815.0,25869.0,9465.0,44082.0,19322.0,13845.0,15068.0,17227.0,14236.0,13678.0,26703.0,9303.0,36090.0,23776.0,34570.0,37048.0,21085.0,16933.0,12228.0,10485.0,18940.0,19794.0,23626.0,17729.0,10388.0,26762.0,29275.0,18463.0,31363.0,9499.0,54264.0,23355.0,4818.0,17301.0,51379.0,22513.0,11877.0,17049.0,19277.0,18252.0,38190.0,21694.0,23446.0,18513.0,23422.0,8303.0,9859.0,43025.0,18295.0,15908.0,39511.0,28454.0,28881.0,25695.0,14004.0,23504.0,20757.0,15011.0,23423.0,33011.0,19214.0,19622.0,40106.0,17293.0,35140.0,13846.0,13067.0,21707.0,20617.0,17120.0,10768.0,12715.0,29449.0,14460.0,22895.0,10908.0,28544.0,26794.0,15049.0,19021.0,14853.0,27594.0,50359.0,20692.0,10796.0,15636.0,51266.0,25137.0,20268.0,31272.0,22144.0,20341.0,30859.0,16517.0,14743.0,12289.0,29407.0,26161.0,34023.0,11484.0,20506.0,24475.0,25250.0,18731.0,9432.0,13464.0,32128.0,7279.0,22555.0,19857.0,21786.0,11074.0,12623.0,24077.0,18445.0,19235.0,12937.0,20260.0,13383.0,41536.0,14893.0,21962.0,26732.0,15890.0,16942.0,9928.0,34970.0,6414.0,12773.0,15196.0,27870.0,17805.0,19866.0,24805.0,20048.0,19916.0,13339.0,21881.0,35028.0,11117.0,37304.0,19879.0,24495.0,15547.0,16744.0,31012.0,9009.0,25170.0,19662.0,19779.0,21978.0,22029.0,15695.0,10485.0,8026.0,9391.0,21335.0,21399.0,23059.0,23947.0,23714.0,28159.0,18592.0,18141.0,31849.0,18875.0,20948.0,28000.0,23560.0,19371.0,29334.0,12276.0,35555.0,25771.0,31321.0,12089.0,19322.0,20190.0,11120.0,12987.0,35331.0,13185.0,18555.0,35888.0,10736.0,21168.0,20877.0,37261.0,15838.0,11682.0,40096.0,18005.0,21394.0,42867.0,39472.0,18348.0,14190.0,23514.0,21335.0,23219.0,17970.0,21307.0,24056.0,14113.0,22157.0,31285.0,26220.0,10005.0,10152.0,13134.0,9972.0,13747.0,14575.0,14728.0,31178.0,10993.0,20701.0,14603.0,10766.0,39006.0,16899.0,11474.0,46883.0,43285.0,15508.0,20363.0,12187.0,15083.0,25762.0,12449.0,17730.0,14489.0,22854.0,18860.0,31660.0,42407.0,36654.0,48877.0,23324.0,21387.0,9910.0,13961.0,26111.0,27285.0,9338.0,14579.0,26620.0,20655.0,15255.0,22243.0,19698.0,23020.0,10934.0,16185.0,44756.0,15873.0,16693.0,28125.0,13907.0,21177.0,22866.0,19205.0,14424.0,17458.0,24845.0,44510.0,15001.0,21299.0,18194.0,16451.0,21241.0,27291.0,35468.0,16571.0,16694.0,26157.0,14043.0,28933.0,16494.0,15552.0,11539.0,15564.0,23372.0,17866.0,16797.0,12608.0,14770.0,14936.0,16089.0,13126.0,23650.0,21217.0,56591.0,26241.0,14802.0,11764.0,12343.0,8199.0,39442.0,11305.0,12044.0,22215.0,15691.0,17827.0,7280.0,26280.0,11903.0,15923.0,17069.0,12509.0,17979.0,21100.0,26471.0,24915.0,28140.0,21408.0,12924.0,22918.0,14383.0,10473.0,18805.0,12050.0,15010.0,14387.0,26914.0,21149.0,21028.0,16567.0,16181.0,21555.0,15372.0,17708.0,38141.0,20227.0,12742.0,26097.0,12688.0,18006.0,10015.0,18103.0,37964.0,22247.0,30254.0,7985.0,17702.0,27443.0,10346.0,28155.0,26695.0,12585.0,12567.0,19015.0,24756.0,23122.0,18863.0,24279.0,20996.0,14892.0,7000.0,39721.0,13849.0,17624.0,19474.0,14107.0,15212.0,18652.0,29286.0,16186.0,50601.0,12314.0,18285.0,23605.0,17044.0,14821.0,24126.0,17018.0,17625.0,17498.0,24912.0,12373.0,12158.0,17937.0,12188.0,19187.0,23337.0,6815.0,30101.0,22326.0,21232.0,20925.0,12084.0,16261.0,20997.0,18241.0,27778.0,14913.0,14278.0,24182.0,40278.0,37956.0,23444.0,11688.0,29066.0,27995.0,10963.0,29761.0,20229.0,25846.0,22034.0,31116.0,28037.0,41766.0,22425.0,22153.0,30810.0,16321.0,21765.0,21773.0,17974.0,28668.0,17893.0,22855.0,20266.0,22131.0,35359.0,21772.0,15785.0,23286.0,17006.0,8193.0,16517.0,50145.0,9537.0,28403.0,10133.0,16363.0,27544.0,22783.0,14886.0,16711.0,15396.0,53083.0,9632.0,14226.0,24335.0,27079.0,26297.0,34223.0,20102.0,21610.0,8415.0,18693.0,20375.0,60604.0,31198.0,8965.0,19068.0,21635.0,16771.0,31072.0,49434.0,22042.0,25670.0,18965.0,22900.0,23023.0,8993.0,19980.0,34506.0,14303.0,22549.0,14535.0,17799.0,19853.0,12294.0,39406.0,10978.0,17318.0,22355.0,19950.0,16217.0,9433.0,26605.0,15854.0,16786.0,18267.0,5714.0,14574.0,45719.0,22881.0,23924.0,27753.0,19723.0,22646.0,14034.0,26778.0,15934.0,12464.0,20277.0,14975.0,25554.0,29969.0,20197.0,18074.0,18588.0,23145.0,12657.0,12217.0,19376.0,15692.0,27494.0,15068.0,46973.0,18585.0,22443.0,20953.0,24952.0,12462.0,21241.0,23193.0,16716.0,12500.0,11058.0,25195.0,31651.0,11777.0,10786.0,23258.0,27376.0,19810.0,13203.0,14846.0,17615.0,22509.0,11204.0,23058.0,22508.0,22094.0,20449.0,18297.0,10115.0,9148.0,20670.0,23470.0,36922.0,34571.0,17587.0,20068.0,34203.0,43921.0,22644.0,21959.0,12623.0,22135.0,43468.0,26212.0,13809.0,10130.0,15956.0,26527.0,27779.0,19009.0,13084.0,30898.0,14929.0,15210.0,11603.0,33821.0,15921.0,30890.0,9855.0,21233.0,12977.0,12102.0,7026.0,20109.0,11225.0,20875.0,26038.0,18728.0,25594.0,25306.0,23911.0,21142.0,25968.0,19011.0,30117.0,31821.0,13641.0,16895.0,22436.0,16845.0,18944.0,21898.0,20289.0,21422.0,12097.0,18367.0,20496.0,19755.0,14489.0,21640.0,9996.0,13388.0,14345.0,32264.0,29396.0,20941.0,11954.0,19583.0,15885.0,24011.0,39876.0,32610.0,16233.0,20527.0,12972.0,35464.0,57573.0,33684.0,22825.0,26972.0,21290.0,16271.0,17962.0,16558.0,38568.0,11401.0,34280.0,18937.0,24610.0,15361.0,29151.0,12475.0,31003.0,28380.0,16960.0,17771.0,25968.0,13428.0,31728.0,13992.0,36886.0,22620.0,33440.0,12770.0,11452.0,28102.0,16315.0,12951.0,30101.0,19883.0,37953.0,25273.0,25597.0,27950.0,20464.0,17125.0,14153.0,15700.0,17267.0,17653.0,29932.0,17077.0,27196.0,32435.0,21736.0,18925.0,15961.0,35809.0,12550.0,23092.0,6416.0,18185.0,14696.0,26262.0,14018.0,9334.0,15666.0,41400.0,27710.0,29460.0,17261.0,11640.0,18896.0,18798.0,14651.0,8877.0,26710.0,16811.0,18190.0,27322.0,16433.0,18145.0,21998.0,18746.0,21595.0,31797.0,16766.0,19546.0,17278.0,14136.0,25520.0,11857.0,17145.0,11399.0,15069.0,14590.0,16848.0,16361.0,9813.0,16103.0,18410.0,29132.0,14087.0,14842.0,31115.0,34838.0,19200.0,20973.0,23711.0,9251.0,18166.0,14739.0,11801.0,24611.0,13222.0,18243.0,16326.0,26385.0,11319.0,16053.0,22263.0,28059.0,31564.0,12902.0,16132.0,29045.0,12818.0,29398.0,9229.0,22586.0,18004.0,16093.0,22062.0,26553.0,15684.0,9630.0,14987.0,26392.0,19919.0,23684.0,22114.0,19594.0,16621.0,28586.0,37428.0,29070.0,17512.0,10368.0,42958.0,12103.0,12286.0,16107.0,15209.0,20029.0,11471.0,22338.0,14979.0,48107.0,25838.0,40784.0,22064.0,15284.0,12234.0,18246.0,13754.0,33163.0,17987.0,16771.0,19707.0,35176.0,12892.0,15728.0,18746.0,28155.0,15102.0,13061.0,24141.0,21422.0,19509.0,23840.0,21089.0,20729.0,15027.0,24918.0,9990.0,15229.0,14007.0,10276.0,29300.0,23479.0,9939.0,11871.0,15713.0,12982.0,27222.0,19648.0,13101.0,25778.0,17925.0,20994.0,9787.0,26152.0,20317.0,42103.0,16753.0,30223.0,20404.0,22013.0,17655.0,21062.0,14260.0,21456.0,20101.0,26258.0,22215.0,26567.0,17165.0,16848.0,38762.0,20672.0,13100.0,24656.0,18609.0,23646.0,16716.0,24496.0,23694.0,25620.0,27646.0,14806.0,15793.0,12059.0,48720.0,26976.0,11244.0,22037.0,22191.0,40087.0,21968.0,23970.0,24430.0,23191.0,18348.0,31214.0,33970.0,28346.0,15501.0,25805.0,12458.0,24886.0,18018.0,27793.0,12492.0,20658.0,19405.0,18888.0,14200.0,26382.0,28300.0,13398.0,17351.0,19494.0,14795.0,17743.0,22347.0,11990.0,36221.0,21927.0,22130.0,21786.0,12396.0,22551.0,26624.0,26740.0,17868.0,12466.0,22600.0,14010.0,43231.0,11525.0,22517.0,10888.0,29856.0,12526.0,17107.0,18356.0,30354.0,18134.0,28299.0,10355.0,24510.0,16801.0,23878.0,26729.0,23041.0,19663.0,28725.0,13749.0,17956.0,27372.0,20816.0,12220.0,28068.0,26330.0,12979.0,50971.0,7528.0,12137.0,21033.0,27625.0,27375.0,10821.0,5880.0,8247.0,17693.0,22314.0,11192.0,23653.0,10096.0,25366.0,24198.0,13156.0,23889.0,16617.0,40407.0,21540.0,24240.0,20905.0,18228.0,7325.0,15656.0,20800.0,16627.0,21177.0,19375.0,23787.0,11211.0,17756.0,27815.0,24627.0,14971.0,10533.0,12469.0,9218.0,13534.0,31393.0,40984.0,20185.0,18302.0,24948.0,18980.0,27069.0,12177.0,15933.0,15721.0,7374.0,29666.0,21332.0,10311.0,26710.0,34533.0,26803.0,19612.0,15284.0,14564.0,13604.0,25473.0,23940.0,19584.0,14420.0,11604.0,46330.0,23501.0,22431.0,12501.0,16207.0,21302.0,19332.0,10917.0,27355.0,20974.0,25814.0,12592.0,13534.0,13402.0,20288.0,29824.0,9039.0,24476.0,29917.0,21647.0,22100.0,26781.0,15204.0,21666.0,15922.0,16183.0,38301.0,17906.0,23878.0,16744.0,19611.0,20147.0,25186.0,15904.0,19243.0,10102.0,13600.0,34798.0,41581.0,21147.0,23247.0,9889.0,21152.0,36353.0,17823.0,15796.0,32979.0,15988.0,20502.0,39861.0,26219.0,6451.0,12528.0,16873.0,17145.0,20036.0,14589.0,35628.0,14632.0,31610.0,20627.0,19784.0,21754.0,9971.0,21996.0,12926.0,29112.0,14236.0,20490.0,26153.0,26391.0,16585.0,34242.0,11542.0,23223.0,13965.0,7595.0,33383.0,33309.0,20694.0,17526.0,19180.0,12854.0,22372.0,15510.0,42048.0,24868.0,11238.0,26564.0,12983.0,25702.0,32206.0,19160.0,11101.0,9469.0,7924.0,11117.0,32474.0,8620.0,14339.0,10062.0,19169.0,28984.0,25819.0,12828.0,12094.0,17121.0,16469.0,30978.0,19336.0,31952.0,12866.0,19169.0,11190.0,17245.0,9250.0,19496.0,30237.0,9811.0,25996.0,15037.0,6572.0,18843.0,20785.0,15797.0,27272.0,29823.0,10744.0,17658.0,27505.0,23041.0,27957.0,22110.0,21798.0,37071.0,17429.0,19501.0,29851.0,23819.0,21201.0,11823.0,17553.0,17683.0,41407.0,22339.0,17128.0,13341.0,18984.0,14229.0,32667.0,8019.0,17765.0,8496.0,20671.0,17978.0,36229.0,25865.0,19233.0,43573.0,31681.0,11381.0,13076.0,21755.0,18505.0,7325.0,21648.0,24184.0,24305.0,15283.0,16915.0,24672.0,38599.0,17397.0,26045.0,16574.0,31328.0,23791.0,12919.0,13826.0,15347.0,17417.0,35294.0,36558.0,9447.0,28654.0,11142.0,19772.0,15378.0,16603.0,12295.0,17985.0,18182.0,24432.0,15138.0,14567.0,15671.0,20035.0,10471.0,12760.0,15433.0,6825.0,22669.0,33600.0,21727.0,19613.0,18418.0,9992.0,15079.0,13991.0,21664.0,13290.0,16404.0,15705.0,21651.0,26575.0,20949.0,7276.0,7027.0,12240.0,20372.0,18513.0,15402.0,16455.0,18989.0,10177.0,28086.0,16787.0,26759.0,18071.0,18288.0,27475.0,23941.0,11889.0,10999.0,18774.0,25747.0,14264.0,23097.0,28608.0,15563.0,8989.0,20680.0,18439.0,18699.0,21783.0,14996.0,13188.0,22604.0,11988.0,15539.0,15519.0,11149.0,18069.0,10372.0,16247.0,11377.0,17269.0,9968.0,19727.0,24645.0,15829.0,32015.0,14979.0,28482.0,16251.0,35041.0,23528.0,11911.0,16994.0,13067.0,32155.0,16287.0,7721.0,9020.0,12790.0,22096.0,27413.0,42299.0,22764.0,20030.0,14672.0,22922.0,36708.0,23678.0,21593.0,32267.0,22465.0,32767.0,23815.0,22235.0,16465.0,9969.0,7994.0,23347.0,22460.0,44753.0,27533.0,18464.0,11826.0,29364.0,16197.0,20023.0,11891.0,20465.0,39408.0,28551.0,28055.0,13877.0,13819.0,18311.0,29992.0,13396.0,17006.0,32071.0,21640.0,30655.0,10193.0,17931.0,17204.0,18478.0,10480.0,14560.0,24941.0,15632.0,18105.0,14051.0,8873.0,30449.0,27128.0,27951.0,20045.0,16263.0,20845.0,20164.0,10944.0,16653.0,12696.0,13522.0,23517.0,24748.0,26887.0,18662.0,14691.0,17877.0,39961.0,23296.0,23442.0,10428.0,22671.0,21870.0,19906.0,17424.0,35023.0,13112.0,18394.0,26311.0,15379.0,27958.0,15086.0,17633.0,30389.0,21944.0,14998.0,17331.0,28919.0,8426.0,15006.0,21818.0,26956.0,26920.0,21122.0,25192.0,16710.0,14446.0,17921.0,24020.0,16210.0,18906.0,26865.0,13202.0,12610.0,50205.0,16826.0,23212.0,25317.0,24055.0,12253.0,18314.0,23826.0,20101.0,11221.0,20261.0,33898.0,19455.0,8360.0,14446.0,14812.0,15015.0,13697.0,26773.0,22721.0,19835.0,20122.0,16437.0,25728.0,28614.0,13627.0,13179.0,18159.0,10397.0,17348.0,10226.0,16757.0,15056.0,11936.0,22034.0,19455.0,15599.0,11157.0,23596.0,26545.0,19203.0,32832.0,21069.0,18079.0,24438.0,14168.0,17996.0,21890.0,15807.0,24422.0,9490.0,7990.0,41211.0,18559.0,21969.0,26114.0,21142.0,14591.0,14629.0,19863.0,9944.0,8604.0,16624.0,19035.0,32500.0,10940.0,31249.0,37678.0,18590.0,21749.0,23173.0,12679.0,31705.0,21465.0,26470.0,35109.0,24303.0,31613.0,16768.0,9155.0,31451.0,17531.0,16613.0,20406.0,41360.0,8364.0,20034.0,12997.0,23628.0,38253.0,25547.0,14752.0,23800.0,30438.0,46561.0,10097.0,19310.0,20846.0,14747.0,10905.0,17730.0,20560.0,9724.0,22123.0,13387.0,33727.0,13103.0,20375.0,37170.0,11608.0,6150.0,42714.0,7616.0,19448.0,26955.0,20729.0,5857.0,12300.0,17800.0,12346.0,23028.0,13308.0,28936.0,11720.0,26913.0,27627.0,16536.0,16053.0,11756.0,20318.0,13421.0,20370.0,23638.0,18978.0,12564.0,19890.0,30115.0,10129.0,14089.0,21052.0,41245.0,14746.0,24329.0,22466.0,9656.0,21216.0,12716.0,22451.0,14095.0,12139.0,18699.0,16912.0,25898.0,25277.0,11195.0,17579.0,36037.0,13052.0,23337.0,17580.0,23772.0,16562.0,11580.0,30875.0,43112.0,21220.0,15787.0,43962.0,18800.0,36797.0,19857.0,28907.0,18178.0,16431.0,16975.0,11702.0,32543.0,17217.0,17259.0,13420.0,20504.0,19964.0,11618.0,19586.0,8064.0,15639.0,16278.0,29055.0,21997.0,9454.0,25750.0,23825.0,7803.0,23700.0,16152.0,11445.0,26843.0,14175.0,12672.0,17492.0,25766.0,20676.0,11290.0,12320.0,10151.0,18122.0,11470.0,15823.0,27226.0,16217.0,15775.0,24117.0,33770.0,24922.0,17861.0,13575.0,23016.0,11715.0,30968.0,32804.0,19832.0,14981.0,16616.0,19268.0,14401.0,20221.0,12300.0,18858.0,14236.0,29731.0,11577.0,40402.0,20269.0,19836.0,10262.0,11400.0,13638.0,39402.0,17452.0,28367.0,14777.0,32453.0,11598.0,19378.0,21070.0,15357.0,18315.0,18796.0,35597.0,18008.0,12153.0,22808.0,16730.0,12264.0,20759.0,24788.0,23247.0,12137.0,31645.0,15826.0,14401.0,8580.0,13499.0,15317.0,26467.0,24842.0,10808.0,11337.0,42432.0,13921.0,34417.0,21846.0,19804.0,24798.0,11619.0,23949.0,18529.0,16828.0,18255.0,18857.0,16759.0,37215.0,14500.0,17847.0,24951.0,17827.0,23074.0,11926.0,15266.0,31290.0,18077.0,14697.0,11025.0,18212.0,26927.0,24082.0,22719.0,14386.0,24560.0,28341.0,11129.0,20171.0,32638.0,23758.0,22215.0,10726.0,9809.0,9123.0,28540.0,26107.0,12082.0,19752.0,12267.0,23775.0,26177.0,20607.0,22763.0,21200.0,14548.0,17820.0,13234.0,14379.0,19819.0,23675.0,14734.0,24049.0,16305.0,13908.0,17200.0,12914.0,27483.0,21750.0,15832.0,14559.0,20629.0,13050.0,17725.0,18781.0,7936.0,30466.0,7789.0,29161.0,44287.0,17830.0,28063.0,31243.0,13040.0,48448.0,29524.0,10846.0,10202.0,6484.0,56995.0,19347.0,57411.0,21665.0,23563.0,13289.0,26344.0,24642.0,15628.0,13138.0,24521.0,20765.0,27061.0,15949.0,25949.0,20312.0,19366.0,17960.0,12716.0,18085.0,16935.0,19059.0,23398.0,23403.0,23852.0,17672.0,17937.0,40889.0,19267.0,5510.0,14699.0,26762.0,24203.0,11685.0,13205.0,34006.0,15599.0,18655.0,14896.0,16604.0,16611.0,18227.0,16426.0,13264.0,11691.0,13716.0,21155.0,34044.0,30561.0,18917.0,16924.0,27986.0,27430.0,22227.0,13399.0,16800.0,30165.0,21064.0,44656.0,16316.0,12290.0,38457.0,18304.0,13684.0,20544.0,21626.0,20814.0,13767.0,14057.0,23101.0,10623.0,39037.0,11366.0,18288.0,17374.0,21783.0,15020.0,44090.0,9869.0,10638.0,17654.0,13507.0,35347.0,14850.0,15449.0,19198.0,20733.0,13657.0,9197.0,20782.0,31343.0,19428.0,41880.0,13302.0,13530.0,18308.0,16394.0,15464.0,24785.0,19107.0,14229.0,10955.0,17810.0,25748.0,25238.0,16432.0,13865.0,19746.0,19514.0,26924.0,60432.0,19419.0,20432.0,16651.0,15410.0,16269.0,22793.0,27308.0,28070.0,28869.0,22250.0,22568.0,19692.0,15564.0,18544.0,22151.0,19059.0,29022.0,19190.0,18836.0,15483.0,35246.0,16374.0,13913.0,17238.0,18943.0,13686.0,9116.0,13063.0,19972.0,17093.0,17270.0,14504.0,26192.0,12801.0,28011.0,22242.0,8747.0,24151.0,23595.0,13143.0,19187.0,11840.0,18217.0,25260.0,25690.0,16753.0,12932.0,15339.0,14169.0,24423.0,24189.0,27978.0,12279.0,20787.0,26811.0,16210.0,13290.0,7643.0,26707.0,25024.0,22836.0,18234.0,21872.0,22441.0,18804.0,16068.0,20401.0,27325.0,13017.0,12420.0,25395.0,28800.0,20372.0,15424.0,17665.0,27259.0,18868.0,21639.0,18218.0,12923.0,14163.0,15642.0,12489.0,35041.0,9681.0,25212.0,22002.0,21659.0,22997.0,15744.0,11991.0,21059.0,31062.0,19006.0,15017.0,13698.0,18956.0,27558.0,17339.0,15626.0,22899.0,10384.0,16935.0,22120.0,20970.0,13111.0,20016.0,24521.0,23972.0,25679.0,23024.0,21481.0,16629.0,26768.0,23677.0,13202.0,20935.0,33436.0,20912.0,12038.0,14389.0,12854.0,10711.0,25449.0,21760.0,17088.0,16649.0,18491.0,30016.0,23170.0,16765.0,29825.0,19460.0,18803.0,17956.0,31826.0,20069.0,20344.0,19016.0,32395.0,12701.0,41407.0,32817.0,9011.0,16893.0,33836.0,28335.0,8670.0,9979.0,22758.0,17256.0,12416.0,29127.0,14056.0,24902.0,25565.0,17860.0,16198.0,15380.0,17606.0,33002.0,27181.0,14314.0,17235.0,20432.0,24750.0,39533.0,14329.0,40512.0,41065.0,33652.0,21939.0,14958.0,6950.0,26238.0,21155.0,24909.0,15003.0,27198.0,18454.0,17638.0,20404.0,15235.0,22471.0,18205.0,22740.0,31748.0,29195.0,19695.0,25972.0,20829.0,25780.0,18724.0,13205.0,24665.0,15666.0,21241.0,28167.0,20333.0,30771.0,7396.0,24417.0,8304.0,26629.0,18177.0,25611.0,21227.0,16296.0,26568.0,12197.0,13017.0,19710.0,15765.0,21890.0,18210.0,26620.0,20652.0,13656.0,20478.0,20957.0,18960.0,17780.0,36875.0,15119.0,23403.0,41242.0,18156.0,26237.0,27363.0,15900.0,21519.0,8815.0,17940.0,26857.0,27251.0,11419.0,24493.0,32816.0,17652.0,10690.0,19034.0,20697.0,28122.0,16855.0,15578.0,10562.0,29720.0,25265.0,27409.0,34174.0,12709.0,20514.0,15336.0,25437.0,10624.0,21083.0,41567.0,12901.0,15408.0,17717.0,33260.0,21366.0,26733.0,12457.0,34936.0,7686.0,18086.0,25909.0,28656.0,16831.0,14711.0,19260.0,17998.0,21906.0,30096.0,12621.0,18208.0,19099.0,23512.0,11101.0,8980.0,25964.0,10583.0,32648.0,36727.0,21292.0,24810.0,18195.0,24118.0,14608.0,20052.0,19591.0,19450.0,15393.0,12056.0,14351.0,27083.0,26360.0,37769.0,15940.0,25877.0,13164.0,21333.0,17488.0,13078.0,17374.0,26889.0,10229.0,12361.0,9826.0,28850.0,32215.0,31226.0,20668.0,17496.0,20643.0,19350.0,35819.0,19018.0,12001.0,22980.0,12110.0,19684.0,27777.0,13671.0,23439.0,38878.0,10677.0,13359.0,10108.0,22711.0,17708.0,24390.0,27823.0,14153.0,35756.0,21780.0,11834.0,16158.0,34187.0,16795.0,7997.0,17167.0,13550.0,29658.0,12939.0,34729.0,16756.0,23484.0,14970.0,23244.0,15279.0,25340.0,40648.0,23232.0,23806.0,20905.0,13996.0,15164.0,18218.0,8414.0,26428.0,23898.0,13555.0,31101.0,14038.0,30839.0,23536.0,18186.0,13078.0,17515.0,8888.0,20978.0,12461.0,18063.0,37444.0,14690.0,12565.0,12472.0,8787.0,29931.0,18154.0,25073.0,26095.0,21444.0,33719.0,11477.0,48796.0,35388.0,30639.0,18624.0,23731.0,15449.0,14396.0,22194.0,10076.0,11331.0,24607.0,8841.0,12432.0,20852.0,13835.0,9205.0,18686.0,15486.0,22512.0,17072.0,20201.0,18245.0,19833.0,25011.0,11727.0,19028.0,11476.0,16306.0,14195.0,9884.0,15328.0,10993.0,11856.0,43304.0,17218.0,23706.0,24200.0,7254.0,38397.0,31787.0,28409.0,15201.0,21032.0,16520.0,11793.0,31906.0,14946.0,27218.0,17749.0,22994.0,15842.0,14227.0,25770.0,23171.0,30322.0,21905.0,27534.0,14109.0,34352.0,15505.0,28817.0,10453.0,26542.0,16280.0,19708.0,23060.0,16283.0,25543.0,34844.0,15334.0,8076.0,9898.0,8352.0,9344.0,18298.0,13071.0,14490.0,23305.0,16407.0,15024.0,20480.0,21189.0,27005.0,12369.0,14320.0,16556.0,31365.0,6715.0,14637.0,29541.0,20448.0,28541.0,20167.0,20420.0,36639.0,16251.0,25300.0,14935.0,24983.0,36653.0,17002.0,30124.0,14704.0,14018.0,20279.0,25962.0,22780.0,13966.0,25632.0,36644.0,25952.0,22878.0,20477.0,19189.0,54671.0,20163.0,12951.0,11475.0,18027.0,28540.0,11493.0,11984.0,18697.0,14741.0,19189.0,22694.0,33218.0,12203.0,16222.0,19956.0,9223.0,15445.0,12849.0,17229.0,15567.0,25058.0,24663.0,20205.0,25091.0,20209.0,16078.0,17978.0,27593.0,32210.0,21777.0,22078.0,24903.0,23937.0,21986.0,23510.0,30956.0,20692.0,31320.0,18378.0,27854.0,15491.0,33366.0,6367.0,21701.0,15095.0,10014.0,15547.0,21392.0,21361.0,17629.0,20225.0,16292.0,18236.0,14114.0,15013.0,35734.0,26876.0,30234.0,34475.0,26809.0,15391.0,9278.0,20326.0,10604.0,26421.0,20289.0,10671.0,14688.0,12723.0,16003.0,16258.0,20696.0,20014.0,16586.0,29051.0,14351.0,29392.0,13869.0,23754.0,19963.0,16054.0,17194.0,18469.0,27388.0,35928.0,31757.0,11287.0,10796.0,44985.0,45539.0,16518.0,19270.0,14292.0,30763.0,7084.0,12100.0,8602.0,14008.0,23489.0,28500.0,14785.0,15593.0,22527.0,32990.0,42663.0,23346.0,11241.0,47399.0,22434.0,24932.0,15347.0,22401.0,22235.0,19901.0,35570.0,23531.0,24593.0,19503.0,32710.0,17117.0,21208.0,15824.0,15343.0,13752.0,5819.0,9086.0,14421.0,21074.0,14130.0,17813.0,34840.0,27479.0,6373.0,14835.0,41838.0,13926.0,8242.0,12109.0,20582.0,21816.0,28100.0,23552.0,8179.0,27493.0,12887.0,27197.0,21272.0,21440.0,24003.0,18136.0,28616.0,20377.0,20742.0,22208.0,8565.0,24738.0,17817.0,24190.0,23209.0,17830.0,39799.0,29512.0,22947.0,29977.0,30621.0,17175.0,9311.0,22976.0,21950.0,35790.0,17911.0,24802.0,16404.0,20867.0,21074.0,23516.0,16066.0,35217.0,15843.0,27150.0,18747.0,15905.0,7291.0,22907.0,37436.0,8413.0,18142.0,18834.0,36362.0,21483.0,22044.0,20779.0,20037.0,24792.0,33826.0,13769.0,27000.0,18187.0,12058.0,24827.0,21407.0,16949.0,29207.0,40674.0,21378.0,16249.0,32241.0,18130.0,24965.0,17862.0,16260.0,26992.0,38974.0,12225.0,16757.0,45493.0,10954.0,24014.0,19032.0,11490.0,20204.0,25215.0,52681.0,17658.0,15961.0,11138.0,31067.0,18985.0,43103.0,22748.0,13728.0,20921.0,15779.0,12654.0,47021.0,22669.0,16470.0,18737.0,31056.0,19479.0,22589.0,16021.0,19136.0,10321.0,27976.0,24936.0,14974.0,21745.0,38487.0,7940.0,34704.0,25742.0,7846.0,7970.0,29408.0,28684.0,22389.0,19765.0,18053.0,21488.0,32431.0,25943.0,22337.0,18028.0,17614.0,5838.0,33796.0,22229.0,18849.0,19925.0,11165.0,20724.0,19631.0,16649.0,16318.0,18759.0,23761.0,23509.0,17006.0,36488.0,18209.0,46406.0,29826.0,14058.0,24321.0,27616.0,29572.0,24580.0,11338.0,13629.0,18205.0,16371.0,8160.0,23869.0,13788.0,17187.0,11313.0,26365.0,13352.0,28387.0,14155.0,4914.0,10615.0,17197.0,20061.0,24491.0,19085.0,38352.0,11429.0,24683.0,24683.0,23248.0,19101.0,17560.0,22219.0,20208.0,14022.0,27009.0,27009.0,20133.0,32124.0,32978.0,19415.0,22021.0,36273.0,16865.0,12329.0,17024.0,20432.0,11608.0,21740.0,31848.0,14059.0,12549.0,21704.0,18713.0,25115.0,19821.0,17626.0,8304.0,25628.0,14539.0,43458.0,11019.0,6709.0,30173.0,22726.0,42487.0,44960.0,22843.0,16466.0,26706.0,19653.0,24385.0,15394.0,22656.0,20644.0,18142.0,47642.0,15961.0,29305.0,25455.0,19452.0,18758.0,31099.0,22669.0,21146.0,15022.0,16457.0,19508.0,11419.0,20483.0,19320.0,11597.0,27445.0,21422.0,12038.0,14764.0,10709.0,31278.0,14615.0,11319.0,25215.0,35423.0,18393.0,15335.0,22085.0,34791.0,33797.0,20773.0,13796.0,17317.0,33755.0,9220.0,29351.0,21253.0,30036.0,11652.0,9626.0,38815.0,19287.0,27043.0,18183.0,15251.0,20037.0,29667.0,28477.0,14387.0,15546.0,18455.0,29044.0,12898.0,25424.0,16395.0,27246.0,20140.0,14045.0,6971.0,6971.0,12779.0,12779.0,14096.0,20379.0,22090.0,18815.0,35058.0,14561.0,11875.0,18506.0,19771.0,20631.0,21812.0,25123.0,35556.0,23979.0,35728.0,21291.0,21889.0,18203.0,18904.0,23013.0,25283.0,41718.0,25891.0,15888.0,21402.0,21009.0,29761.0,16062.0,8626.0,8075.0,10486.0,22571.0,17479.0,30760.0,23600.0,19121.0,16108.0,17601.0,20621.0,33541.0,19929.0,28044.0,11306.0,10111.0,10133.0,24153.0,19758.0,22952.0,23089.0,27633.0,10823.0,6785.0,44192.0,13973.0,14397.0,26367.0,26838.0,23355.0,18363.0,13587.0,11474.0,24273.0,14885.0,10757.0,23337.0,15626.0,10536.0,23358.0,19837.0,23799.0,19830.0,22710.0,25079.0,27367.0,16197.0,12832.0,28705.0,31859.0,21914.0,21534.0,23716.0,10695.0,21278.0,21417.0,20482.0,12523.0,19969.0,17654.0,24644.0,26446.0,19007.0,19862.0,13662.0,13151.0,13584.0,24225.0,35560.0,20248.0,24841.0,18605.0,12442.0,8481.0,25091.0,20640.0,31900.0,23946.0,18088.0,18033.0,16773.0,20383.0,13109.0,17069.0,14581.0,22700.0,13234.0,17934.0,8603.0,15399.0,28746.0,18680.0,27928.0,11502.0,9620.0,22432.0,23256.0,22574.0,18361.0,16675.0,14557.0,21294.0,16139.0,13401.0,20264.0,7357.0,17974.0,32113.0,15252.0,18321.0,31109.0,11690.0,21316.0,18383.0,14589.0,47485.0,23302.0,44270.0,17197.0,19336.0,7835.0,17127.0,23848.0,15256.0,22798.0,20444.0,11807.0,16616.0,11218.0,26900.0,19256.0,13374.0,26691.0,24796.0,11559.0,40443.0,19776.0,18079.0,15908.0,8233.0,23634.0,13992.0,19767.0,18242.0,29031.0,21407.0,30629.0,13861.0,11848.0,22769.0,18823.0,17493.0,40053.0,12533.0,24035.0,27043.0,11221.0,27722.0,13196.0,37161.0,14280.0,38159.0,20118.0,22080.0,29810.0,18040.0,20990.0,15492.0,8162.0,33677.0,20646.0,11922.0,24344.0,24211.0,31490.0,15554.0,23743.0,46616.0,17124.0,13358.0,41216.0,37781.0,14839.0,10358.0,15696.0,13775.0,12117.0,20163.0,22142.0,19538.0,24835.0,15037.0,19078.0,14991.0,21460.0,27547.0,18970.0,17371.0,12954.0,20748.0,29308.0,13417.0,32970.0,17974.0,22027.0,19460.0,18562.0,39314.0,6715.0,20527.0,22328.0,24695.0,20731.0,23115.0,16537.0,20420.0,39998.0,19261.0,16016.0,22252.0,13924.0,38201.0,17872.0,17810.0,12710.0,24525.0,17288.0,9264.0,16064.0,25508.0,33253.0,18533.0,23159.0,15677.0,31493.0,22661.0,16280.0,14753.0,23477.0,19789.0,19123.0,14687.0,19735.0,19539.0,20998.0,19762.0,6969.0,13184.0,8113.0,20998.0,20299.0,15768.0,8478.0,30090.0,12448.0,37044.0,10924.0,11064.0,29213.0,13035.0,19341.0,13252.0,14713.0,38643.0,11726.0,20317.0,24374.0,21788.0,7624.0,33539.0,21453.0,31133.0,16999.0,9935.0,16112.0,8216.0,13322.0,21517.0,20124.0,7465.0,16838.0,11355.0,46345.0,6981.0,19198.0,17374.0,15949.0,18704.0,14662.0,8624.0,13840.0,12799.0,19190.0,15305.0,33184.0,16238.0,18997.0,17989.0,22595.0,18393.0,37307.0,15392.0,16297.0,33805.0,19897.0,24243.0,26508.0,20875.0,16311.0,12463.0,22543.0,17182.0,12086.0,17713.0,18279.0,20771.0,25547.0,19936.0,13373.0,19281.0,19650.0,24046.0,19856.0,15966.0,12577.0,20478.0,12428.0,12237.0,25285.0,21033.0,13798.0,11106.0,17459.0,44671.0,24069.0,24827.0,16880.0,20259.0,15221.0,14761.0,11642.0,26307.0,32871.0,37957.0,38713.0,17191.0,14184.0,25024.0,20483.0,15410.0,33974.0,21681.0,23160.0,25406.0,24699.0,19364.0,8794.0,28873.0,27200.0,18724.0,22857.0,13566.0,14719.0,9542.0,10030.0,30138.0,17056.0,15586.0,17359.0,12418.0,26312.0,21708.0,21268.0,24051.0,8148.0,22833.0,27133.0,20982.0,35159.0,13875.0,21263.0,13186.0,31934.0,27038.0,15274.0,14516.0,15953.0,17184.0,15436.0,12465.0,24609.0,16880.0,22828.0,10113.0,13933.0,20569.0,13279.0,23873.0,18808.0,20217.0,19829.0,36134.0,15890.0,13352.0,31332.0,9482.0,40430.0,19395.0,15756.0,17661.0,19468.0,23996.0,9439.0,15728.0,10017.0,19487.0,30960.0,23542.0,22636.0,29017.0,19788.0,18560.0,16630.0,19849.0,24732.0,22795.0,22577.0,19711.0,11985.0,26380.0,19670.0,10943.0,16039.0,28357.0,21377.0,27288.0,24847.0,20008.0,31562.0,15524.0,28789.0,14606.0,16088.0,24520.0,8530.0,29498.0,18954.0,17079.0,32542.0,13484.0,11369.0,23998.0,23830.0,23959.0,25652.0,19042.0,21309.0,15739.0,28891.0,22152.0,29191.0,26989.0,22981.0,15783.0,17853.0,21724.0,25671.0,13320.0,25915.0,12024.0,24952.0,15255.0,22134.0,18784.0,32710.0,31329.0,22852.0,15505.0,11239.0,9677.0,25195.0,18188.0,9774.0,31941.0,17338.0,24034.0,15897.0,11386.0,15156.0,21830.0,35518.0,22614.0,18003.0,38348.0,25472.0,28847.0,22419.0,16048.0,37104.0,18844.0,17394.0,38095.0,22347.0,9196.0,28711.0,17600.0,10723.0,11080.0,20680.0,24088.0,17325.0,19965.0,24437.0,26288.0,20299.0,31089.0,45044.0,11431.0,21394.0,21940.0,22088.0,14888.0,21610.0,25229.0,40116.0,21990.0,22485.0,24633.0,16250.0,13448.0,14543.0,21776.0,21145.0,20198.0,18555.0,36868.0,22048.0,29324.0,12267.0,25474.0,33303.0,20079.0,21633.0,14864.0,24964.0,17826.0,12852.0,36153.0,17981.0,18753.0,21096.0,39267.0,14823.0,22828.0,23692.0,24674.0,12508.0,22111.0,13419.0,14352.0,27241.0,41008.0,23546.0,27302.0,32136.0,38776.0,13342.0,31003.0,30003.0,18129.0,24004.0,15614.0,29062.0,22437.0,16110.0,16147.0,33464.0,21613.0,31783.0,19154.0,12084.0,22373.0,14241.0,30796.0,14907.0,19785.0,30161.0,15352.0,19426.0,32039.0,20384.0,20212.0,29958.0,24169.0,12357.0,11927.0,18639.0,28794.0,8358.0,23652.0,12177.0,4944.0,12825.0,18775.0,12963.0,23540.0,18520.0,21832.0,17956.0,20767.0,26619.0,25207.0,17576.0,14576.0,10771.0,14180.0,23318.0,48398.0,27320.0,21714.0,28767.0,43951.0,10909.0,17304.0,13188.0,28079.0,24124.0,23717.0,28568.0,17522.0,13609.0,21460.0,19005.0,38158.0,33121.0,21117.0,23991.0,13873.0,22426.0,27417.0,21090.0,9065.0,21962.0,8095.0,20498.0,30937.0,27564.0,18489.0,14677.0,19870.0,18634.0,29787.0,19905.0,31277.0,27345.0,18977.0,20777.0,29465.0,30456.0,19013.0,26563.0,10807.0,12885.0,9557.0,26733.0,23346.0,35489.0,29139.0,16268.0,16619.0,21739.0,22897.0,18462.0,28358.0,23753.0,19342.0,13083.0,31801.0,26236.0,34758.0,34012.0,11941.0,17298.0,25265.0,16945.0,16969.0,29141.0,21956.0,11890.0,15378.0,23598.0,11293.0,22698.0,31795.0,31795.0,18589.0,25411.0,17655.0,26064.0,21793.0,17883.0,20247.0,19772.0,19132.0,19132.0,20384.0,20384.0,19532.0,29949.0,20777.0,17631.0,24776.0,23798.0,11495.0,44037.0,29584.0,14597.0,15344.0,21617.0,7686.0,16628.0,14871.0,13735.0,11473.0,18424.0,19006.0,15165.0,15875.0,21008.0,19224.0,11947.0,15301.0,15472.0,15776.0,13602.0,20438.0,20026.0,29755.0,16830.0,27750.0,25231.0,19359.0,12041.0,29445.0,13095.0,14633.0,12625.0,14322.0,24079.0,15208.0,22867.0,20405.0,26002.0,18776.0,26730.0,15361.0,19650.0,19361.0,29144.0,21120.0,21329.0,36942.0,16517.0,11724.0,20327.0,15810.0,15092.0,37802.0,25810.0,16600.0,20615.0,24891.0,35428.0,19215.0,31173.0,11704.0,25535.0,20449.0,26696.0,16886.0,17598.0,9570.0,17079.0,24438.0,24639.0,26738.0,14828.0,15346.0,28475.0,21667.0,19188.0,9527.0,21554.0,25100.0,29670.0,17750.0,24450.0,22429.0,41162.0,21705.0,25146.0,15661.0,34561.0,16244.0,21009.0,26017.0,22273.0,21759.0,16564.0,23386.0,9869.0,20026.0,14960.0,19207.0,22510.0,19267.0,28715.0,11871.0,11960.0,38166.0,26376.0,22119.0,21608.0,21205.0,9792.0,15377.0,20617.0,27129.0,21488.0,14660.0,48825.0,22781.0,20949.0,24084.0,13917.0,10561.0,19626.0,19753.0,24669.0,33455.0,19515.0,24296.0,35601.0,18764.0,28530.0,30286.0,19159.0,11917.0,29118.0,26869.0,30347.0,6751.0,36783.0,15413.0,33692.0,27247.0,21745.0,25881.0,12150.0,15541.0,16533.0,32885.0,24037.0,26240.0,17438.0,16152.0,18307.0,12371.0,21531.0,15249.0,27152.0,14128.0,21126.0,14365.0,27803.0,25899.0,7338.0,20027.0,30073.0,11994.0,12811.0,9684.0,13392.0,24246.0,10135.0,35119.0,20557.0,34526.0,12909.0,16066.0,22175.0,14832.0,11947.0,21046.0,17621.0,19133.0,20045.0,25795.0,17442.0,25009.0,21243.0,40419.0,26729.0,24008.0,19457.0,28726.0,24133.0,16961.0,46185.0,28359.0,25279.0,16015.0,22232.0,10755.0,34289.0,7377.0,24466.0,40923.0,19432.0,20744.0,22854.0,39614.0,24437.0,25831.0,16998.0,27021.0,36227.0,27611.0,21711.0,11131.0,20065.0,15260.0,20779.0,31985.0,15583.0,24096.0,25595.0,34206.0,29615.0,16816.0,6878.0,19349.0,17235.0,14445.0,12599.0,26265.0,4733.0,34831.0,13367.0,12498.0,12375.0,29568.0,18674.0,15491.0,5724.0,8271.0,19466.0,18021.0,16365.0,15289.0,16078.0,27018.0,19081.0,23639.0,39254.0,18309.0,21136.0,24221.0,18980.0,25499.0,11151.0,36741.0,28715.0,39376.0,17373.0,30929.0,18130.0,17879.0,18019.0,36274.0,15061.0,8971.0,14034.0,14972.0,22631.0,25063.0,25307.0,7262.0,19184.0,13988.0,10187.0,16464.0,19538.0,31040.0,20307.0,13763.0,19815.0,8516.0,21704.0,9010.0,14265.0,18576.0,17792.0,19003.0,14539.0,21991.0,30700.0,18475.0,24403.0,20430.0,22281.0,20711.0,11800.0,8416.0,14994.0,15279.0,19185.0],\"xaxis\":\"x\",\"yaxis\":\"y\",\"type\":\"histogram\",\"opacity\":0.5}],                        {\"template\":{\"data\":{\"barpolar\":[{\"marker\":{\"line\":{\"color\":\"white\",\"width\":0.5},\"pattern\":{\"fillmode\":\"overlay\",\"size\":10,\"solidity\":0.2}},\"type\":\"barpolar\"}],\"bar\":[{\"error_x\":{\"color\":\"rgb(36,36,36)\"},\"error_y\":{\"color\":\"rgb(36,36,36)\"},\"marker\":{\"line\":{\"color\":\"white\",\"width\":0.5},\"pattern\":{\"fillmode\":\"overlay\",\"size\":10,\"solidity\":0.2}},\"type\":\"bar\"}],\"carpet\":[{\"aaxis\":{\"endlinecolor\":\"rgb(36,36,36)\",\"gridcolor\":\"white\",\"linecolor\":\"white\",\"minorgridcolor\":\"white\",\"startlinecolor\":\"rgb(36,36,36)\"},\"baxis\":{\"endlinecolor\":\"rgb(36,36,36)\",\"gridcolor\":\"white\",\"linecolor\":\"white\",\"minorgridcolor\":\"white\",\"startlinecolor\":\"rgb(36,36,36)\"},\"type\":\"carpet\"}],\"choropleth\":[{\"colorbar\":{\"outlinewidth\":1,\"tickcolor\":\"rgb(36,36,36)\",\"ticks\":\"outside\"},\"type\":\"choropleth\"}],\"contourcarpet\":[{\"colorbar\":{\"outlinewidth\":1,\"tickcolor\":\"rgb(36,36,36)\",\"ticks\":\"outside\"},\"type\":\"contourcarpet\"}],\"contour\":[{\"colorbar\":{\"outlinewidth\":1,\"tickcolor\":\"rgb(36,36,36)\",\"ticks\":\"outside\"},\"colorscale\":[[0.0,\"#440154\"],[0.1111111111111111,\"#482878\"],[0.2222222222222222,\"#3e4989\"],[0.3333333333333333,\"#31688e\"],[0.4444444444444444,\"#26828e\"],[0.5555555555555556,\"#1f9e89\"],[0.6666666666666666,\"#35b779\"],[0.7777777777777778,\"#6ece58\"],[0.8888888888888888,\"#b5de2b\"],[1.0,\"#fde725\"]],\"type\":\"contour\"}],\"heatmapgl\":[{\"colorbar\":{\"outlinewidth\":1,\"tickcolor\":\"rgb(36,36,36)\",\"ticks\":\"outside\"},\"colorscale\":[[0.0,\"#440154\"],[0.1111111111111111,\"#482878\"],[0.2222222222222222,\"#3e4989\"],[0.3333333333333333,\"#31688e\"],[0.4444444444444444,\"#26828e\"],[0.5555555555555556,\"#1f9e89\"],[0.6666666666666666,\"#35b779\"],[0.7777777777777778,\"#6ece58\"],[0.8888888888888888,\"#b5de2b\"],[1.0,\"#fde725\"]],\"type\":\"heatmapgl\"}],\"heatmap\":[{\"colorbar\":{\"outlinewidth\":1,\"tickcolor\":\"rgb(36,36,36)\",\"ticks\":\"outside\"},\"colorscale\":[[0.0,\"#440154\"],[0.1111111111111111,\"#482878\"],[0.2222222222222222,\"#3e4989\"],[0.3333333333333333,\"#31688e\"],[0.4444444444444444,\"#26828e\"],[0.5555555555555556,\"#1f9e89\"],[0.6666666666666666,\"#35b779\"],[0.7777777777777778,\"#6ece58\"],[0.8888888888888888,\"#b5de2b\"],[1.0,\"#fde725\"]],\"type\":\"heatmap\"}],\"histogram2dcontour\":[{\"colorbar\":{\"outlinewidth\":1,\"tickcolor\":\"rgb(36,36,36)\",\"ticks\":\"outside\"},\"colorscale\":[[0.0,\"#440154\"],[0.1111111111111111,\"#482878\"],[0.2222222222222222,\"#3e4989\"],[0.3333333333333333,\"#31688e\"],[0.4444444444444444,\"#26828e\"],[0.5555555555555556,\"#1f9e89\"],[0.6666666666666666,\"#35b779\"],[0.7777777777777778,\"#6ece58\"],[0.8888888888888888,\"#b5de2b\"],[1.0,\"#fde725\"]],\"type\":\"histogram2dcontour\"}],\"histogram2d\":[{\"colorbar\":{\"outlinewidth\":1,\"tickcolor\":\"rgb(36,36,36)\",\"ticks\":\"outside\"},\"colorscale\":[[0.0,\"#440154\"],[0.1111111111111111,\"#482878\"],[0.2222222222222222,\"#3e4989\"],[0.3333333333333333,\"#31688e\"],[0.4444444444444444,\"#26828e\"],[0.5555555555555556,\"#1f9e89\"],[0.6666666666666666,\"#35b779\"],[0.7777777777777778,\"#6ece58\"],[0.8888888888888888,\"#b5de2b\"],[1.0,\"#fde725\"]],\"type\":\"histogram2d\"}],\"histogram\":[{\"marker\":{\"line\":{\"color\":\"white\",\"width\":0.6}},\"type\":\"histogram\"}],\"mesh3d\":[{\"colorbar\":{\"outlinewidth\":1,\"tickcolor\":\"rgb(36,36,36)\",\"ticks\":\"outside\"},\"type\":\"mesh3d\"}],\"parcoords\":[{\"line\":{\"colorbar\":{\"outlinewidth\":1,\"tickcolor\":\"rgb(36,36,36)\",\"ticks\":\"outside\"}},\"type\":\"parcoords\"}],\"pie\":[{\"automargin\":true,\"type\":\"pie\"}],\"scatter3d\":[{\"line\":{\"colorbar\":{\"outlinewidth\":1,\"tickcolor\":\"rgb(36,36,36)\",\"ticks\":\"outside\"}},\"marker\":{\"colorbar\":{\"outlinewidth\":1,\"tickcolor\":\"rgb(36,36,36)\",\"ticks\":\"outside\"}},\"type\":\"scatter3d\"}],\"scattercarpet\":[{\"marker\":{\"colorbar\":{\"outlinewidth\":1,\"tickcolor\":\"rgb(36,36,36)\",\"ticks\":\"outside\"}},\"type\":\"scattercarpet\"}],\"scattergeo\":[{\"marker\":{\"colorbar\":{\"outlinewidth\":1,\"tickcolor\":\"rgb(36,36,36)\",\"ticks\":\"outside\"}},\"type\":\"scattergeo\"}],\"scattergl\":[{\"marker\":{\"colorbar\":{\"outlinewidth\":1,\"tickcolor\":\"rgb(36,36,36)\",\"ticks\":\"outside\"}},\"type\":\"scattergl\"}],\"scattermapbox\":[{\"marker\":{\"colorbar\":{\"outlinewidth\":1,\"tickcolor\":\"rgb(36,36,36)\",\"ticks\":\"outside\"}},\"type\":\"scattermapbox\"}],\"scatterpolargl\":[{\"marker\":{\"colorbar\":{\"outlinewidth\":1,\"tickcolor\":\"rgb(36,36,36)\",\"ticks\":\"outside\"}},\"type\":\"scatterpolargl\"}],\"scatterpolar\":[{\"marker\":{\"colorbar\":{\"outlinewidth\":1,\"tickcolor\":\"rgb(36,36,36)\",\"ticks\":\"outside\"}},\"type\":\"scatterpolar\"}],\"scatter\":[{\"fillpattern\":{\"fillmode\":\"overlay\",\"size\":10,\"solidity\":0.2},\"type\":\"scatter\"}],\"scatterternary\":[{\"marker\":{\"colorbar\":{\"outlinewidth\":1,\"tickcolor\":\"rgb(36,36,36)\",\"ticks\":\"outside\"}},\"type\":\"scatterternary\"}],\"surface\":[{\"colorbar\":{\"outlinewidth\":1,\"tickcolor\":\"rgb(36,36,36)\",\"ticks\":\"outside\"},\"colorscale\":[[0.0,\"#440154\"],[0.1111111111111111,\"#482878\"],[0.2222222222222222,\"#3e4989\"],[0.3333333333333333,\"#31688e\"],[0.4444444444444444,\"#26828e\"],[0.5555555555555556,\"#1f9e89\"],[0.6666666666666666,\"#35b779\"],[0.7777777777777778,\"#6ece58\"],[0.8888888888888888,\"#b5de2b\"],[1.0,\"#fde725\"]],\"type\":\"surface\"}],\"table\":[{\"cells\":{\"fill\":{\"color\":\"rgb(237,237,237)\"},\"line\":{\"color\":\"white\"}},\"header\":{\"fill\":{\"color\":\"rgb(217,217,217)\"},\"line\":{\"color\":\"white\"}},\"type\":\"table\"}]},\"layout\":{\"annotationdefaults\":{\"arrowhead\":0,\"arrowwidth\":1},\"autotypenumbers\":\"strict\",\"coloraxis\":{\"colorbar\":{\"outlinewidth\":1,\"tickcolor\":\"rgb(36,36,36)\",\"ticks\":\"outside\"}},\"colorscale\":{\"diverging\":[[0.0,\"rgb(103,0,31)\"],[0.1,\"rgb(178,24,43)\"],[0.2,\"rgb(214,96,77)\"],[0.3,\"rgb(244,165,130)\"],[0.4,\"rgb(253,219,199)\"],[0.5,\"rgb(247,247,247)\"],[0.6,\"rgb(209,229,240)\"],[0.7,\"rgb(146,197,222)\"],[0.8,\"rgb(67,147,195)\"],[0.9,\"rgb(33,102,172)\"],[1.0,\"rgb(5,48,97)\"]],\"sequential\":[[0.0,\"#440154\"],[0.1111111111111111,\"#482878\"],[0.2222222222222222,\"#3e4989\"],[0.3333333333333333,\"#31688e\"],[0.4444444444444444,\"#26828e\"],[0.5555555555555556,\"#1f9e89\"],[0.6666666666666666,\"#35b779\"],[0.7777777777777778,\"#6ece58\"],[0.8888888888888888,\"#b5de2b\"],[1.0,\"#fde725\"]],\"sequentialminus\":[[0.0,\"#440154\"],[0.1111111111111111,\"#482878\"],[0.2222222222222222,\"#3e4989\"],[0.3333333333333333,\"#31688e\"],[0.4444444444444444,\"#26828e\"],[0.5555555555555556,\"#1f9e89\"],[0.6666666666666666,\"#35b779\"],[0.7777777777777778,\"#6ece58\"],[0.8888888888888888,\"#b5de2b\"],[1.0,\"#fde725\"]]},\"colorway\":[\"#1F77B4\",\"#FF7F0E\",\"#2CA02C\",\"#D62728\",\"#9467BD\",\"#8C564B\",\"#E377C2\",\"#7F7F7F\",\"#BCBD22\",\"#17BECF\"],\"font\":{\"color\":\"rgb(36,36,36)\"},\"geo\":{\"bgcolor\":\"white\",\"lakecolor\":\"white\",\"landcolor\":\"white\",\"showlakes\":true,\"showland\":true,\"subunitcolor\":\"white\"},\"hoverlabel\":{\"align\":\"left\"},\"hovermode\":\"closest\",\"mapbox\":{\"style\":\"light\"},\"paper_bgcolor\":\"white\",\"plot_bgcolor\":\"white\",\"polar\":{\"angularaxis\":{\"gridcolor\":\"rgb(232,232,232)\",\"linecolor\":\"rgb(36,36,36)\",\"showgrid\":false,\"showline\":true,\"ticks\":\"outside\"},\"bgcolor\":\"white\",\"radialaxis\":{\"gridcolor\":\"rgb(232,232,232)\",\"linecolor\":\"rgb(36,36,36)\",\"showgrid\":false,\"showline\":true,\"ticks\":\"outside\"}},\"scene\":{\"xaxis\":{\"backgroundcolor\":\"white\",\"gridcolor\":\"rgb(232,232,232)\",\"gridwidth\":2,\"linecolor\":\"rgb(36,36,36)\",\"showbackground\":true,\"showgrid\":false,\"showline\":true,\"ticks\":\"outside\",\"zeroline\":false,\"zerolinecolor\":\"rgb(36,36,36)\"},\"yaxis\":{\"backgroundcolor\":\"white\",\"gridcolor\":\"rgb(232,232,232)\",\"gridwidth\":2,\"linecolor\":\"rgb(36,36,36)\",\"showbackground\":true,\"showgrid\":false,\"showline\":true,\"ticks\":\"outside\",\"zeroline\":false,\"zerolinecolor\":\"rgb(36,36,36)\"},\"zaxis\":{\"backgroundcolor\":\"white\",\"gridcolor\":\"rgb(232,232,232)\",\"gridwidth\":2,\"linecolor\":\"rgb(36,36,36)\",\"showbackground\":true,\"showgrid\":false,\"showline\":true,\"ticks\":\"outside\",\"zeroline\":false,\"zerolinecolor\":\"rgb(36,36,36)\"}},\"shapedefaults\":{\"fillcolor\":\"black\",\"line\":{\"width\":0},\"opacity\":0.3},\"ternary\":{\"aaxis\":{\"gridcolor\":\"rgb(232,232,232)\",\"linecolor\":\"rgb(36,36,36)\",\"showgrid\":false,\"showline\":true,\"ticks\":\"outside\"},\"baxis\":{\"gridcolor\":\"rgb(232,232,232)\",\"linecolor\":\"rgb(36,36,36)\",\"showgrid\":false,\"showline\":true,\"ticks\":\"outside\"},\"bgcolor\":\"white\",\"caxis\":{\"gridcolor\":\"rgb(232,232,232)\",\"linecolor\":\"rgb(36,36,36)\",\"showgrid\":false,\"showline\":true,\"ticks\":\"outside\"}},\"title\":{\"x\":0.5,\"xanchor\":\"center\"},\"xaxis\":{\"automargin\":true,\"gridcolor\":\"rgb(232,232,232)\",\"linecolor\":\"rgb(36,36,36)\",\"showgrid\":true,\"showline\":true,\"ticks\":\"outside\",\"title\":{\"standoff\":15},\"zeroline\":false,\"zerolinecolor\":\"rgb(36,36,36)\"},\"yaxis\":{\"automargin\":true,\"gridcolor\":\"rgb(232,232,232)\",\"linecolor\":\"rgb(36,36,36)\",\"showgrid\":true,\"showline\":true,\"ticks\":\"outside\",\"title\":{\"standoff\":15},\"zeroline\":false,\"zerolinecolor\":\"rgb(36,36,36)\"},\"autosize\":true,\"height\":400,\"margin\":{\"b\":30,\"l\":30,\"r\":30,\"t\":30},\"width\":600}},\"xaxis\":{\"anchor\":\"y\",\"domain\":[0.0,1.0],\"title\":{\"text\":\"value\"}},\"yaxis\":{\"anchor\":\"x\",\"domain\":[0.0,1.0],\"title\":{\"text\":\"count\"}},\"legend\":{\"title\":{\"text\":\"position\"},\"tracegroupgap\":0},\"barmode\":\"overlay\"},                        {\"responsive\": true}                    ).then(function(){\n",
       "                            \n",
       "var gd = document.getElementById('cc4722ad-8ce2-47c0-bc64-37c86c0eaec1');\n",
       "var x = new MutationObserver(function (mutations, observer) {{\n",
       "        var display = window.getComputedStyle(gd).display;\n",
       "        if (!display || display === 'none') {{\n",
       "            console.log([gd, 'removed!']);\n",
       "            Plotly.purge(gd);\n",
       "            observer.disconnect();\n",
       "        }}\n",
       "}});\n",
       "\n",
       "// Listen for the removal of the full notebook cells\n",
       "var notebookContainer = gd.closest('#notebook-container');\n",
       "if (notebookContainer) {{\n",
       "    x.observe(notebookContainer, {childList: true});\n",
       "}}\n",
       "\n",
       "// Listen for the clearing of the current output cell\n",
       "var outputEl = gd.closest('.output');\n",
       "if (outputEl) {{\n",
       "    x.observe(outputEl, {childList: true});\n",
       "}}\n",
       "\n",
       "                        })                };                });            </script>        </div>"
      ]
     },
     "metadata": {},
     "output_type": "display_data"
    }
   ],
   "source": [
    "pic = px.histogram(pivoted_wins, color= 'position')\n",
    "pic.update_layout(barmode='overlay')\n",
    "pic.update_traces(opacity=0.5)\n",
    "pic.show()"
   ]
  },
  {
   "cell_type": "code",
   "execution_count": null,
   "metadata": {},
   "outputs": [
    {
     "data": {
      "text/html": [
       "<div>\n",
       "<style scoped>\n",
       "    .dataframe tbody tr th:only-of-type {\n",
       "        vertical-align: middle;\n",
       "    }\n",
       "\n",
       "    .dataframe tbody tr th {\n",
       "        vertical-align: top;\n",
       "    }\n",
       "\n",
       "    .dataframe thead th {\n",
       "        text-align: right;\n",
       "    }\n",
       "</style>\n",
       "<table border=\"1\" class=\"dataframe\">\n",
       "  <thead>\n",
       "    <tr style=\"text-align: right;\">\n",
       "      <th>position</th>\n",
       "      <th>role</th>\n",
       "      <th>max damage dealt</th>\n",
       "    </tr>\n",
       "    <tr>\n",
       "      <th>game no.</th>\n",
       "      <th></th>\n",
       "      <th></th>\n",
       "    </tr>\n",
       "  </thead>\n",
       "  <tbody>\n",
       "    <tr>\n",
       "      <th>2</th>\n",
       "      <td>mid</td>\n",
       "      <td>12577.0</td>\n",
       "    </tr>\n",
       "    <tr>\n",
       "      <th>3</th>\n",
       "      <td>mid</td>\n",
       "      <td>19759.0</td>\n",
       "    </tr>\n",
       "    <tr>\n",
       "      <th>4</th>\n",
       "      <td>mid</td>\n",
       "      <td>17636.0</td>\n",
       "    </tr>\n",
       "    <tr>\n",
       "      <th>...</th>\n",
       "      <td>...</td>\n",
       "      <td>...</td>\n",
       "    </tr>\n",
       "    <tr>\n",
       "      <th>12060</th>\n",
       "      <td>adc</td>\n",
       "      <td>11584.0</td>\n",
       "    </tr>\n",
       "    <tr>\n",
       "      <th>12062</th>\n",
       "      <td>adc</td>\n",
       "      <td>30424.0</td>\n",
       "    </tr>\n",
       "    <tr>\n",
       "      <th>12063</th>\n",
       "      <td>adc</td>\n",
       "      <td>28282.0</td>\n",
       "    </tr>\n",
       "  </tbody>\n",
       "</table>\n",
       "<p>12063 rows × 2 columns</p>\n",
       "</div>"
      ],
      "text/plain": [
       "position role  max damage dealt\n",
       "game no.                       \n",
       "2         mid           12577.0\n",
       "3         mid           19759.0\n",
       "4         mid           17636.0\n",
       "...       ...               ...\n",
       "12060     adc           11584.0\n",
       "12062     adc           30424.0\n",
       "12063     adc           28282.0\n",
       "\n",
       "[12063 rows x 2 columns]"
      ]
     },
     "execution_count": 70,
     "metadata": {},
     "output_type": "execute_result"
    }
   ],
   "source": [
    "#Join the two pivoted columns based on position\n",
    "joined= pd.concat([mid_more_damage, adc_more_damage])\n",
    "#Fill the NaN values\n",
    "joined= joined.fillna(0)\n",
    "\n",
    "#Create a new column of the 'max damage dealt' and rename joined as only the role vs max damage dealt\n",
    "joined['max damage dealt']= joined['adc'] + joined['mid'] \n",
    "joined= joined[['role', 'max damage dealt']]\n",
    "joined"
   ]
  },
  {
   "cell_type": "code",
   "execution_count": null,
   "metadata": {},
   "outputs": [
    {
     "data": {
      "text/plain": [
       "545.821638930971"
      ]
     },
     "execution_count": 71,
     "metadata": {},
     "output_type": "execute_result"
    }
   ],
   "source": [
    "#Observed Absolute Difference in Means of Max Damage Dealt between Mid and ADC\n",
    "observed_diff_dmg = joined.groupby('role')['max damage dealt'].mean().diff().abs().iloc[-1]\n",
    "observed_diff_dmg"
   ]
  },
  {
   "cell_type": "code",
   "execution_count": null,
   "metadata": {},
   "outputs": [],
   "source": [
    "#Permutation to test our Hypothesis\n",
    "\n",
    "n_repetitions = 10000\n",
    "\n",
    "differences_dmg = []\n",
    "for _ in range(n_repetitions):\n",
    "    #Shuffle the column 'max damage dealt' and randomly permutate it in another column\n",
    "    with_shuffled = joined.assign(shuffled_max_damage_dealt=np.random.permutation(joined['max damage dealt']))\n",
    "\n",
    "    #Get the difference in means between mid and adc for the shuffled cases\n",
    "    group_means = (\n",
    "        with_shuffled\n",
    "        .groupby('role')\n",
    "        .mean()\n",
    "        .loc[:, 'shuffled_max_damage_dealt']\n",
    "    )\n",
    "    difference = group_means.diff().abs().iloc[-1]\n",
    "    \n",
    "    #Store the result\n",
    "    differences_dmg.append(difference)"
   ]
  },
  {
   "cell_type": "code",
   "execution_count": null,
   "metadata": {},
   "outputs": [
    {
     "data": {
      "text/plain": [
       "0.0006"
      ]
     },
     "execution_count": 73,
     "metadata": {},
     "output_type": "execute_result"
    }
   ],
   "source": [
    "pval = (pd.Series(differences_dmg) >= observed_diff_dmg).mean()\n",
    "pval\n",
    "\n",
    "#REJECT! 0 < 0.05"
   ]
  },
  {
   "cell_type": "code",
   "execution_count": null,
   "metadata": {},
   "outputs": [],
   "source": [
    "#Plot the distribution \n",
    "fig = px.histogram(\n",
    "    pd.DataFrame(differences_dmg), x=0, nbins=100, histnorm='probability', \n",
    "    title='Empirical Distribution of the TVDs between Mid and ADC Players')\n",
    "fig.add_vline(x=observed_diff_dmg, line_color='red', line_width=1, opacity=1)\n",
    "\n",
    "fig.write_html('hypotest.html', include_plotlyjs='cdn')"
   ]
  },
  {
   "cell_type": "markdown",
   "metadata": {},
   "source": [
    "## Step 5: Framing a Prediction Problem"
   ]
  },
  {
   "cell_type": "markdown",
   "metadata": {},
   "source": [
    "Clearly state your prediction problem and type (classification or regression). If you are building a classifier, make sure to state whether you are performing binary classification or multiclass classification. Report the response variable (i.e. the variable you are predicting) and why you chose it, the metric you are using to evaluate your model and why you chose it over other suitable metrics (e.g. accuracy vs. F1-score).\n",
    "\n",
    "- Our prediction problem is: Given a dataset of post-game stats, we want to predict which role did they play. To predict the response variable (position), we will be using a multiclass classification. We chose the position as the response variable because there are clear defined criterias for post game statistics for us to draw our model from. "
   ]
  },
  {
   "cell_type": "markdown",
   "metadata": {},
   "source": [
    "## Step 6: Baseline Model"
   ]
  },
  {
   "cell_type": "markdown",
   "metadata": {},
   "source": [
    "Columns for Baseline Model: Position, Champion, Total Damage Dealt (Champions)"
   ]
  },
  {
   "cell_type": "code",
   "execution_count": null,
   "metadata": {},
   "outputs": [],
   "source": [
    "from sklearn.pipeline import Pipeline, make_pipeline\n",
    "from sklearn.compose import make_column_transformer, make_column_selector, ColumnTransformer\n",
    "from sklearn.preprocessing import FunctionTransformer, OneHotEncoder, Binarizer, KBinsDiscretizer\n",
    "from sklearn.linear_model import LogisticRegression\n",
    "from sklearn.metrics import precision_score\n",
    "from sklearn.ensemble import RandomForestClassifier\n",
    "from sklearn.model_selection import train_test_split, GridSearchCV"
   ]
  },
  {
   "cell_type": "code",
   "execution_count": null,
   "metadata": {},
   "outputs": [
    {
     "data": {
      "text/html": [
       "<div>\n",
       "<style scoped>\n",
       "    .dataframe tbody tr th:only-of-type {\n",
       "        vertical-align: middle;\n",
       "    }\n",
       "\n",
       "    .dataframe tbody tr th {\n",
       "        vertical-align: top;\n",
       "    }\n",
       "\n",
       "    .dataframe thead th {\n",
       "        text-align: right;\n",
       "    }\n",
       "</style>\n",
       "<table border=\"1\" class=\"dataframe\">\n",
       "  <thead>\n",
       "    <tr style=\"text-align: right;\">\n",
       "      <th></th>\n",
       "      <th>position</th>\n",
       "      <th>champion</th>\n",
       "      <th>kills</th>\n",
       "    </tr>\n",
       "  </thead>\n",
       "  <tbody>\n",
       "    <tr>\n",
       "      <th>0</th>\n",
       "      <td>top</td>\n",
       "      <td>Renekton</td>\n",
       "      <td>2</td>\n",
       "    </tr>\n",
       "    <tr>\n",
       "      <th>1</th>\n",
       "      <td>jng</td>\n",
       "      <td>Xin Zhao</td>\n",
       "      <td>2</td>\n",
       "    </tr>\n",
       "    <tr>\n",
       "      <th>2</th>\n",
       "      <td>mid</td>\n",
       "      <td>LeBlanc</td>\n",
       "      <td>2</td>\n",
       "    </tr>\n",
       "    <tr>\n",
       "      <th>...</th>\n",
       "      <td>...</td>\n",
       "      <td>...</td>\n",
       "      <td>...</td>\n",
       "    </tr>\n",
       "    <tr>\n",
       "      <th>19</th>\n",
       "      <td>mid</td>\n",
       "      <td>Renekton</td>\n",
       "      <td>5</td>\n",
       "    </tr>\n",
       "    <tr>\n",
       "      <th>20</th>\n",
       "      <td>adc</td>\n",
       "      <td>Syndra</td>\n",
       "      <td>3</td>\n",
       "    </tr>\n",
       "    <tr>\n",
       "      <th>21</th>\n",
       "      <td>sup</td>\n",
       "      <td>Leona</td>\n",
       "      <td>0</td>\n",
       "    </tr>\n",
       "  </tbody>\n",
       "</table>\n",
       "<p>20 rows × 3 columns</p>\n",
       "</div>"
      ],
      "text/plain": [
       "   position  champion  kills\n",
       "0       top  Renekton      2\n",
       "1       jng  Xin Zhao      2\n",
       "2       mid   LeBlanc      2\n",
       "..      ...       ...    ...\n",
       "19      mid  Renekton      5\n",
       "20      adc    Syndra      3\n",
       "21      sup     Leona      0\n",
       "\n",
       "[20 rows x 3 columns]"
      ]
     },
     "execution_count": 124,
     "metadata": {},
     "output_type": "execute_result"
    }
   ],
   "source": [
    "#Create a dataframe from the original dataset pulling the columns 'position', 'champion, and 'damage to champion'\n",
    "baseline = league[['position', 'champion', 'kills']]\n",
    "\n",
    "#Filtering out the rows with position 'team'\n",
    "baseline = baseline[baseline['position']!= 'team']\n",
    "\n",
    "baseline_pred = baseline[['champion', 'kills']]\n",
    "baseline.head(20)\n"
   ]
  },
  {
   "cell_type": "code",
   "execution_count": null,
   "metadata": {},
   "outputs": [],
   "source": [
    "#Train-test split\n",
    "X_base = baseline_pred\n",
    "y_base = baseline['position']\n",
    "X_base_train, X_base_test, y_base_train, y_base_test = train_test_split(X_base, y_base, test_size=0.2)"
   ]
  },
  {
   "cell_type": "code",
   "execution_count": null,
   "metadata": {},
   "outputs": [],
   "source": [
    "pl_base = Pipeline([\n",
    "    ('one-hot', OneHotEncoder()),\n",
    "    ('multinomial', (LogisticRegression(multi_class='multinomial', max_iter=100000)))\n",
    "])\n",
    "\n",
    "pl_base.fit(X_base_train, y_base_train)\n",
    "y_base_pred= pl_base.predict(X_base_test)"
   ]
  },
  {
   "cell_type": "code",
   "execution_count": null,
   "metadata": {},
   "outputs": [
    {
     "data": {
      "text/plain": [
       "0.9365107317477418"
      ]
     },
     "execution_count": 167,
     "metadata": {},
     "output_type": "execute_result"
    }
   ],
   "source": [
    "#Training Accuracy Score of Baseline Model\n",
    "pl_base.score(X_base_train, y_base_train)"
   ]
  },
  {
   "cell_type": "code",
   "execution_count": null,
   "metadata": {},
   "outputs": [
    {
     "data": {
      "text/plain": [
       "0.9329576531035054"
      ]
     },
     "execution_count": 168,
     "metadata": {},
     "output_type": "execute_result"
    }
   ],
   "source": [
    "#Testing Accuracy Score of Baseline Model\n",
    "pl_base.score(X_base_test, y_base_test)"
   ]
  },
  {
   "cell_type": "code",
   "execution_count": null,
   "metadata": {},
   "outputs": [
    {
     "data": {
      "text/plain": [
       "0.9334108441113438"
      ]
     },
     "execution_count": 171,
     "metadata": {},
     "output_type": "execute_result"
    }
   ],
   "source": [
    "#Precision Score of Baseline Model\n",
    "precision_score(y_base_test, y_base_pred, average='weighted')\n"
   ]
  },
  {
   "cell_type": "markdown",
   "metadata": {},
   "source": [
    "## Step 7: Final Model"
   ]
  },
  {
   "cell_type": "code",
   "execution_count": null,
   "metadata": {},
   "outputs": [],
   "source": [
    "final= league[['position', 'champion', 'kills', 'total damage dealt', 'wards placed', 'monster kills', 'dtpm', 'exp at 10']]\n",
    "final = final[final['position']!= 'team']\n",
    "final['position'] = final['position'].str.replace('bot', 'adc')\n",
    "\n",
    "#Rename 'damagetochampions' as 'total damage dealt'\n",
    "final.dropna(subset=['total damage dealt', 'wards placed', 'monster kills', 'dtpm', 'exp at 10'], inplace=True)\n",
    "final_pred = final.drop(columns= ['position'])\n",
    "#Feature Engineer: Top Wards Placed, Top Damage Taken Per Minute, Binning Total Damage Dealt"
   ]
  },
  {
   "cell_type": "code",
   "execution_count": null,
   "metadata": {},
   "outputs": [],
   "source": [
    "X = final_pred\n",
    "y = final['position']\n",
    "X_train, X_test, y_train, y_test = train_test_split(X, y, test_size=0.2)"
   ]
  },
  {
   "cell_type": "code",
   "execution_count": null,
   "metadata": {},
   "outputs": [],
   "source": [
    "def max_of_five(df):\n",
    "    # Find the indices of the maximum values for every 5 rows\n",
    "    max_wards = df['wards placed'].rolling(window=5).apply(lambda x: x.max(), raw=True)\n",
    "    \n",
    "    # Create a mask where the indices of maximum values are 1 and everything else is 0\n",
    "    mask_wards = df.index.isin(max_wards)\n",
    "\n",
    "    # Assign the mask to a new column\n",
    "    df['wards placed'] = mask_wards.astype(int)\n",
    "\n",
    "    return df"
   ]
  },
  {
   "cell_type": "code",
   "execution_count": null,
   "metadata": {},
   "outputs": [
    {
     "data": {
      "text/plain": [
       "144.7034543325527"
      ]
     },
     "execution_count": 188,
     "metadata": {},
     "output_type": "execute_result"
    }
   ],
   "source": [
    "#Find Threshold for Binarizer\n",
    "threshold= final[final['position']== 'jng']['monster kills'].mean()\n",
    "threshold"
   ]
  },
  {
   "cell_type": "markdown",
   "metadata": {},
   "source": [
    "* testing different modeling alogrithms:"
   ]
  },
  {
   "cell_type": "code",
   "execution_count": null,
   "metadata": {},
   "outputs": [],
   "source": [
    "# # really slow and inefficient\n",
    "\n",
    "# preproc_final = ColumnTransformer(\n",
    "#     transformers=[\n",
    "#         ('categorical_cols', OneHotEncoder(), ['champion']),\n",
    "#         ('avg_monster', Binarizer(threshold=threshold), ['monster kills']),\n",
    "#         ('max_five', FunctionTransformer(max_of_five), ['wards placed']),\n",
    "#         ('xpat10_bins', KBinsDiscretizer(n_bins=5), ['exp at 10'])\n",
    "        \n",
    "#     ],\n",
    "#     remainder='passthrough'\n",
    "# )\n",
    "\n",
    "# pl_final = Pipeline([\n",
    "#     ('preproc', preproc_final),\n",
    "#     ('multinomial', (LogisticRegression(solver='sag', multi_class='multinomial', max_iter=100000)))\n",
    "# ])\n",
    "\n",
    "# pl_final.fit(final_pred, final['position'])\n",
    "# pl_final.predict(final_pred.head(20))"
   ]
  },
  {
   "cell_type": "markdown",
   "metadata": {},
   "source": [
    "## Final Model\n",
    "\n",
    "- using the better modeling algorithm: `RandomForestClassifier()`"
   ]
  },
  {
   "cell_type": "code",
   "execution_count": null,
   "metadata": {},
   "outputs": [],
   "source": [
    "# much faster! :)\n",
    "preproc_final = ColumnTransformer(\n",
    "    transformers=[\n",
    "        ('categorical_cols', OneHotEncoder(), ['champion']),\n",
    "        ('avg_monster', Binarizer(threshold=threshold), ['monster kills']),\n",
    "        ('max_five', FunctionTransformer(max_of_five), ['wards placed']),\n",
    "        ('xpat10_bins', KBinsDiscretizer(n_bins=5), ['exp at 10'])\n",
    "        \n",
    "    ],\n",
    "    remainder='passthrough'\n",
    ")\n",
    "\n",
    "pl_final = Pipeline([\n",
    "    ('preproc', preproc_final),\n",
    "    ('rand-forest', RandomForestClassifier(max_depth= 2, criterion= 'gini'))\n",
    "])\n",
    "\n",
    "pl_final.fit(X_train, y_train)\n",
    "y_pred= pl_final.predict(X_test)"
   ]
  },
  {
   "cell_type": "code",
   "execution_count": null,
   "metadata": {},
   "outputs": [
    {
     "name": "stderr",
     "output_type": "stream",
     "text": [
      "c:\\Users\\USER\\miniforge3\\envs\\dsc80\\lib\\site-packages\\sklearn\\model_selection\\_search.py:969: UserWarning:\n",
      "\n",
      "One or more of the test scores are non-finite: [nan nan nan nan nan nan nan nan nan nan nan nan nan nan nan nan nan nan\n",
      " nan nan]\n",
      "\n"
     ]
    },
    {
     "data": {
      "text/plain": [
       "GridSearchCV(estimator=Pipeline(steps=[('preproc',\n",
       "                                        ColumnTransformer(remainder='passthrough',\n",
       "                                                          transformers=[('categorical_cols',\n",
       "                                                                         OneHotEncoder(),\n",
       "                                                                         ['champion']),\n",
       "                                                                        ('avg_monster',\n",
       "                                                                         Binarizer(threshold=144.7034543325527),\n",
       "                                                                         ['monster '\n",
       "                                                                          'kills']),\n",
       "                                                                        ('max_five',\n",
       "                                                                         FunctionTransformer(func=<function max_of_five at 0x000002460B6288B0>),\n",
       "                                                                         ['wards '\n",
       "                                                                          'placed']),\n",
       "                                                                        ('xpat10_bins',\n",
       "                                                                         KBinsDiscretizer(),\n",
       "                                                                         ['exp '\n",
       "                                                                          'at '\n",
       "                                                                          '10'])])),\n",
       "                                       ('rand-forest',\n",
       "                                        RandomForestClassifier(max_depth=2))]),\n",
       "             n_jobs=-1,\n",
       "             param_grid={'rand-forest__criterion': ['gini', 'entropy'],\n",
       "                         'rand-forest__max_depth': [2, 3, 4, 5, 7, 10, 13, 15,\n",
       "                                                    18, None]},\n",
       "             return_train_score=True)"
      ]
     },
     "execution_count": 191,
     "metadata": {},
     "output_type": "execute_result"
    }
   ],
   "source": [
    "#Performing a GridSearchCV to find the optimal combination for our hyperparameters of RandomForest Classifier\n",
    "hyperparameters = {\n",
    "    'rand-forest__max_depth': [2, 3, 4, 5, 7, 10, 13, 15, 18, None], \n",
    "    'rand-forest__criterion': ['gini', 'entropy']\n",
    "}\n",
    "grids = GridSearchCV(\n",
    "    pl_final,\n",
    "    n_jobs=-1, \n",
    "    param_grid=hyperparameters,\n",
    "    return_train_score=True,\n",
    ")\n",
    "\n",
    "grids.fit(X_train, y_train)\n"
   ]
  },
  {
   "cell_type": "code",
   "execution_count": null,
   "metadata": {},
   "outputs": [
    {
     "data": {
      "text/plain": [
       "{'rand-forest__criterion': 'gini', 'rand-forest__max_depth': 2}"
      ]
     },
     "execution_count": 192,
     "metadata": {},
     "output_type": "execute_result"
    }
   ],
   "source": [
    "#Best hyperparameters to use\n",
    "grids.best_params_"
   ]
  },
  {
   "cell_type": "code",
   "execution_count": null,
   "metadata": {},
   "outputs": [
    {
     "data": {
      "text/plain": [
       "0.8324673106947698"
      ]
     },
     "execution_count": 193,
     "metadata": {},
     "output_type": "execute_result"
    }
   ],
   "source": [
    "#Training Accuracy of Final Model\n",
    "grids.score(X_train, y_train)"
   ]
  },
  {
   "cell_type": "code",
   "execution_count": null,
   "metadata": {},
   "outputs": [
    {
     "data": {
      "text/plain": [
       "0.8311865729898517"
      ]
     },
     "execution_count": 194,
     "metadata": {},
     "output_type": "execute_result"
    }
   ],
   "source": [
    "#Testing Accuracy of Final Model\n",
    "grids.score(X_test, y_test)"
   ]
  },
  {
   "cell_type": "code",
   "execution_count": null,
   "metadata": {},
   "outputs": [
    {
     "data": {
      "text/plain": [
       "0.1956000799167338"
      ]
     },
     "execution_count": 195,
     "metadata": {},
     "output_type": "execute_result"
    }
   ],
   "source": [
    "#Precision Score of Final Model\n",
    "precision_score(y_test, y_pred, average='weighted')"
   ]
  },
  {
   "cell_type": "markdown",
   "metadata": {},
   "source": [
    "## Step 8: Fairness Analysis"
   ]
  },
  {
   "cell_type": "markdown",
   "metadata": {},
   "source": [
    "Here our two groups are:\n",
    "- carries: positions with more than 3 kills\n",
    "- non-carries: positions with less than 3 kills\n",
    "\n",
    "Note: we chose 3 as the threshold because that is the mean kills of all positions. "
   ]
  },
  {
   "cell_type": "markdown",
   "metadata": {},
   "source": [
    "- Null Hypothesis: Our model is fair. Its precision for carries and non-carries are roughly the same, and any differences are due to random chance.\n",
    "- Alternative Hypothesis: Our model is unfair. Its precision for carries is lower than its precision for non-carries."
   ]
  },
  {
   "cell_type": "markdown",
   "metadata": {},
   "source": [
    "#### Permutation Test using Precision \n",
    "\n",
    "- In our data, having a non-carry labeled as a carry (False Positive) is worse than having a carry labeled as a non-carry (False Negative)"
   ]
  },
  {
   "cell_type": "code",
   "execution_count": null,
   "metadata": {},
   "outputs": [
    {
     "data": {
      "text/html": [
       "<div>\n",
       "<style scoped>\n",
       "    .dataframe tbody tr th:only-of-type {\n",
       "        vertical-align: middle;\n",
       "    }\n",
       "\n",
       "    .dataframe tbody tr th {\n",
       "        vertical-align: top;\n",
       "    }\n",
       "\n",
       "    .dataframe thead th {\n",
       "        text-align: right;\n",
       "    }\n",
       "</style>\n",
       "<table border=\"1\" class=\"dataframe\">\n",
       "  <thead>\n",
       "    <tr style=\"text-align: right;\">\n",
       "      <th></th>\n",
       "      <th>champion</th>\n",
       "      <th>kills</th>\n",
       "      <th>total damage dealt</th>\n",
       "      <th>wards placed</th>\n",
       "      <th>...</th>\n",
       "      <th>exp at 10</th>\n",
       "      <th>prediction</th>\n",
       "      <th>tag</th>\n",
       "      <th>is_carry</th>\n",
       "    </tr>\n",
       "  </thead>\n",
       "  <tbody>\n",
       "    <tr>\n",
       "      <th>132121</th>\n",
       "      <td>Poppy</td>\n",
       "      <td>1</td>\n",
       "      <td>7825.0</td>\n",
       "      <td>7.0</td>\n",
       "      <td>...</td>\n",
       "      <td>3284.0</td>\n",
       "      <td>jng</td>\n",
       "      <td>jng</td>\n",
       "      <td>0</td>\n",
       "    </tr>\n",
       "    <tr>\n",
       "      <th>34530</th>\n",
       "      <td>Xin Zhao</td>\n",
       "      <td>2</td>\n",
       "      <td>5308.0</td>\n",
       "      <td>4.0</td>\n",
       "      <td>...</td>\n",
       "      <td>3279.0</td>\n",
       "      <td>jng</td>\n",
       "      <td>jng</td>\n",
       "      <td>0</td>\n",
       "    </tr>\n",
       "    <tr>\n",
       "      <th>33469</th>\n",
       "      <td>Xin Zhao</td>\n",
       "      <td>2</td>\n",
       "      <td>8286.0</td>\n",
       "      <td>6.0</td>\n",
       "      <td>...</td>\n",
       "      <td>2679.0</td>\n",
       "      <td>jng</td>\n",
       "      <td>jng</td>\n",
       "      <td>0</td>\n",
       "    </tr>\n",
       "    <tr>\n",
       "      <th>...</th>\n",
       "      <td>...</td>\n",
       "      <td>...</td>\n",
       "      <td>...</td>\n",
       "      <td>...</td>\n",
       "      <td>...</td>\n",
       "      <td>...</td>\n",
       "      <td>...</td>\n",
       "      <td>...</td>\n",
       "      <td>...</td>\n",
       "    </tr>\n",
       "    <tr>\n",
       "      <th>49448</th>\n",
       "      <td>Zeri</td>\n",
       "      <td>8</td>\n",
       "      <td>19582.0</td>\n",
       "      <td>16.0</td>\n",
       "      <td>...</td>\n",
       "      <td>2844.0</td>\n",
       "      <td>adc</td>\n",
       "      <td>adc</td>\n",
       "      <td>1</td>\n",
       "    </tr>\n",
       "    <tr>\n",
       "      <th>113991</th>\n",
       "      <td>Miss Fortune</td>\n",
       "      <td>3</td>\n",
       "      <td>23935.0</td>\n",
       "      <td>13.0</td>\n",
       "      <td>...</td>\n",
       "      <td>3133.0</td>\n",
       "      <td>adc</td>\n",
       "      <td>adc</td>\n",
       "      <td>0</td>\n",
       "    </tr>\n",
       "    <tr>\n",
       "      <th>144137</th>\n",
       "      <td>Aatrox</td>\n",
       "      <td>2</td>\n",
       "      <td>14729.0</td>\n",
       "      <td>13.0</td>\n",
       "      <td>...</td>\n",
       "      <td>4522.0</td>\n",
       "      <td>top</td>\n",
       "      <td>top</td>\n",
       "      <td>0</td>\n",
       "    </tr>\n",
       "  </tbody>\n",
       "</table>\n",
       "<p>20496 rows × 10 columns</p>\n",
       "</div>"
      ],
      "text/plain": [
       "            champion  kills  total damage dealt  wards placed  ...  exp at 10  \\\n",
       "132121         Poppy      1              7825.0           7.0  ...     3284.0   \n",
       "34530       Xin Zhao      2              5308.0           4.0  ...     3279.0   \n",
       "33469       Xin Zhao      2              8286.0           6.0  ...     2679.0   \n",
       "...              ...    ...                 ...           ...  ...        ...   \n",
       "49448           Zeri      8             19582.0          16.0  ...     2844.0   \n",
       "113991  Miss Fortune      3             23935.0          13.0  ...     3133.0   \n",
       "144137        Aatrox      2             14729.0          13.0  ...     4522.0   \n",
       "\n",
       "        prediction  tag is_carry  \n",
       "132121         jng  jng        0  \n",
       "34530          jng  jng        0  \n",
       "33469          jng  jng        0  \n",
       "...            ...  ...      ...  \n",
       "49448          adc  adc        1  \n",
       "113991         adc  adc        0  \n",
       "144137         top  top        0  \n",
       "\n",
       "[20496 rows x 10 columns]"
      ]
     },
     "execution_count": 90,
     "metadata": {},
     "output_type": "execute_result"
    }
   ],
   "source": [
    "#get our prediction for X_test\n",
    "y_pred = pl_final.predict(X_test)\n",
    "\n",
    "#create a df based on X_test for our permutation test\n",
    "results = X_test\n",
    "\n",
    "#append out y_pred and y_test to our results dataframe\n",
    "results['prediction'] = y_pred\n",
    "results['tag'] = y_test\n",
    "thresh_carry= results['kills'].mean()\n",
    "binar = Binarizer(threshold=3)\n",
    "results['is_carry'] = binar.transform([results['kills']]).reshape(-1,1)\n",
    "results"
   ]
  },
  {
   "cell_type": "code",
   "execution_count": null,
   "metadata": {},
   "outputs": [],
   "source": [
    "#function that calculates precision\n",
    "compute_precision = lambda x: precision_score(x['tag'], x['prediction'])\n"
   ]
  },
  {
   "cell_type": "code",
   "execution_count": null,
   "metadata": {},
   "outputs": [
    {
     "data": {
      "text/plain": [
       "-0.009959146629159088"
      ]
     },
     "execution_count": 198,
     "metadata": {},
     "output_type": "execute_result"
    }
   ],
   "source": [
    "#observed precision\n",
    "obs_prec = results.groupby('is_carry').apply(compute_precision).diff().iloc[-1]\n",
    "obs_prec"
   ]
  },
  {
   "cell_type": "code",
   "execution_count": null,
   "metadata": {},
   "outputs": [],
   "source": [
    "#perform permutations test\n",
    "\n",
    "diff_in_prec = []\n",
    "for _ in range(500):\n",
    "    s = (\n",
    "        results[['is_carry', 'prediction', 'tag']]\n",
    "        .assign(is_carry=np.random.permutation(results['is_carry']))\n",
    "        .groupby('is_carry')\n",
    "        .apply(compute_precision)\n",
    "        .diff()\n",
    "        .iloc[-1]\n",
    "    )\n",
    "    \n",
    "    diff_in_prec.append(s)"
   ]
  },
  {
   "cell_type": "markdown",
   "metadata": {},
   "source": [
    "#### Conclusion\n",
    "\n",
    "- Based on the graph below, our model does not achieve precision parity :("
   ]
  },
  {
   "cell_type": "code",
   "execution_count": null,
   "metadata": {},
   "outputs": [],
   "source": [
    "fig = pd.Series(diff_in_prec).plot(kind='hist', histnorm='probability', nbins=50,\n",
    "                            title='Difference in Precision (Carry vs. Non-Carry)')\n",
    "fig.add_vline(x=obs, line_color='red', line_width=1, opacity=1)\n",
    "fig.add_annotation(text=f'<span style=\"color:red\">Observed Precision = {round(obs, 2)}</span>', showarrow= False, y=0.095)\n",
    "fig.update_layout(xaxis_range=[-0.02, 0.02])\n",
    "fig.update_layout(yaxis_range=[0, 0.1])\n",
    "\n",
    "fig.write_html('fairness.html', include_plotlyjs='cdn')"
   ]
  },
  {
   "cell_type": "code",
   "execution_count": null,
   "metadata": {},
   "outputs": [
    {
     "data": {
      "text/plain": [
       "1.0"
      ]
     },
     "execution_count": 200,
     "metadata": {},
     "output_type": "execute_result"
    }
   ],
   "source": [
    "pval_prec = (pd.Series(diff_in_prec) >= obs_prec).mean()\n",
    "pval_prec"
   ]
  },
  {
   "cell_type": "code",
   "execution_count": null,
   "metadata": {},
   "outputs": [],
   "source": []
  }
 ],
 "metadata": {
  "kernelspec": {
   "display_name": "dsc80",
   "language": "python",
   "name": "python3"
  },
  "language_info": {
   "codemirror_mode": {
    "name": "ipython",
    "version": 3
   },
   "file_extension": ".py",
   "mimetype": "text/x-python",
   "name": "python",
   "nbconvert_exporter": "python",
   "pygments_lexer": "ipython3",
   "version": "3.8.18"
  }
 },
 "nbformat": 4,
 "nbformat_minor": 2
}
